{
 "cells": [
  {
   "cell_type": "markdown",
   "id": "fa82a43e",
   "metadata": {
    "heading_collapsed": true
   },
   "source": [
    "## O que é uma arvore de decisão?"
   ]
  },
  {
   "cell_type": "markdown",
   "id": "7ca626a1",
   "metadata": {
    "hidden": true
   },
   "source": []
  },
  {
   "cell_type": "markdown",
   "id": "c73069e7",
   "metadata": {
    "heading_collapsed": true
   },
   "source": [
    "## Carregando o dataset "
   ]
  },
  {
   "cell_type": "code",
   "execution_count": 103,
   "id": "c359254b",
   "metadata": {
    "ExecuteTime": {
     "end_time": "2022-12-22T01:34:40.336922Z",
     "start_time": "2022-12-22T01:34:40.334500Z"
    },
    "hidden": true
   },
   "outputs": [],
   "source": [
    "# Importando o dataset\n",
    "import pandas as pd"
   ]
  },
  {
   "cell_type": "code",
   "execution_count": 104,
   "id": "eca45747",
   "metadata": {
    "ExecuteTime": {
     "end_time": "2022-12-22T01:34:40.955225Z",
     "start_time": "2022-12-22T01:34:40.952529Z"
    },
    "hidden": true
   },
   "outputs": [],
   "source": [
    "# Importando o dataset Iris\n",
    "from sklearn.datasets import load_iris"
   ]
  },
  {
   "cell_type": "code",
   "execution_count": 105,
   "id": "8c0f40cb",
   "metadata": {
    "ExecuteTime": {
     "end_time": "2022-12-22T01:34:41.597026Z",
     "start_time": "2022-12-22T01:34:41.591715Z"
    },
    "hidden": true
   },
   "outputs": [],
   "source": [
    "# Carregando o dataset Iris\n",
    "dataset = load_iris()"
   ]
  },
  {
   "cell_type": "code",
   "execution_count": 106,
   "id": "ef1bc20f",
   "metadata": {
    "ExecuteTime": {
     "end_time": "2022-12-22T01:34:42.333069Z",
     "start_time": "2022-12-22T01:34:42.323273Z"
    },
    "hidden": true
   },
   "outputs": [
    {
     "data": {
      "text/html": [
       "<div>\n",
       "<style scoped>\n",
       "    .dataframe tbody tr th:only-of-type {\n",
       "        vertical-align: middle;\n",
       "    }\n",
       "\n",
       "    .dataframe tbody tr th {\n",
       "        vertical-align: top;\n",
       "    }\n",
       "\n",
       "    .dataframe thead th {\n",
       "        text-align: right;\n",
       "    }\n",
       "</style>\n",
       "<table border=\"1\" class=\"dataframe\">\n",
       "  <thead>\n",
       "    <tr style=\"text-align: right;\">\n",
       "      <th></th>\n",
       "      <th>comprimento_sepala (cm)</th>\n",
       "      <th>largura_sepala (cm)</th>\n",
       "      <th>comprimento_petala (cm)</th>\n",
       "      <th>largura_petala (cm)</th>\n",
       "      <th>target</th>\n",
       "    </tr>\n",
       "  </thead>\n",
       "  <tbody>\n",
       "    <tr>\n",
       "      <th>0</th>\n",
       "      <td>5.1</td>\n",
       "      <td>3.5</td>\n",
       "      <td>1.4</td>\n",
       "      <td>0.2</td>\n",
       "      <td>0</td>\n",
       "    </tr>\n",
       "    <tr>\n",
       "      <th>1</th>\n",
       "      <td>4.9</td>\n",
       "      <td>3.0</td>\n",
       "      <td>1.4</td>\n",
       "      <td>0.2</td>\n",
       "      <td>0</td>\n",
       "    </tr>\n",
       "  </tbody>\n",
       "</table>\n",
       "</div>"
      ],
      "text/plain": [
       "   comprimento_sepala (cm)  largura_sepala (cm)  comprimento_petala (cm)  \\\n",
       "0                      5.1                  3.5                      1.4   \n",
       "1                      4.9                  3.0                      1.4   \n",
       "\n",
       "   largura_petala (cm)  target  \n",
       "0                  0.2       0  \n",
       "1                  0.2       0  "
      ]
     },
     "execution_count": 106,
     "metadata": {},
     "output_type": "execute_result"
    }
   ],
   "source": [
    "# Transformando o dataset em um df\n",
    "iris = pd.DataFrame(data = dataset.data, columns=['comprimento_sepala (cm)', 'largura_sepala (cm)', 'comprimento_petala (cm)', 'largura_petala (cm)'])\n",
    "iris.loc[:,'target'] = dataset.target\n",
    "iris.head(2)"
   ]
  },
  {
   "cell_type": "markdown",
   "id": "1c612fb2",
   "metadata": {
    "hidden": true
   },
   "source": [
    "<br>"
   ]
  },
  {
   "cell_type": "markdown",
   "id": "02da8f3c",
   "metadata": {
    "heading_collapsed": true
   },
   "source": [
    "## Utilizando apenas as flores representadas por 0 e 1 🌷🌹"
   ]
  },
  {
   "cell_type": "markdown",
   "id": "a628dbe9",
   "metadata": {
    "hidden": true
   },
   "source": [
    "Vamos compreender como funciona o algoritmo de machine learning **DecisionTreeClassifier** que é baseado em uma arvore de decisão. Para um melhor estudo iremos pegar apenas as flores representadas por **0** e **1**. E das 4 variáveis iremos utilizar apenas as variáveis **comprimento_petala (cm)** e **largura_petala (cm)**."
   ]
  },
  {
   "cell_type": "markdown",
   "id": "728b9491",
   "metadata": {
    "hidden": true
   },
   "source": [
    " "
   ]
  },
  {
   "cell_type": "markdown",
   "id": "1b693e9e",
   "metadata": {
    "hidden": true
   },
   "source": [
    "- Vamos gerar o novo dataset"
   ]
  },
  {
   "cell_type": "code",
   "execution_count": 18,
   "id": "91c29725",
   "metadata": {
    "ExecuteTime": {
     "end_time": "2022-12-21T23:57:44.994883Z",
     "start_time": "2022-12-21T23:57:44.984266Z"
    },
    "hidden": true
   },
   "outputs": [
    {
     "data": {
      "text/html": [
       "<div>\n",
       "<style scoped>\n",
       "    .dataframe tbody tr th:only-of-type {\n",
       "        vertical-align: middle;\n",
       "    }\n",
       "\n",
       "    .dataframe tbody tr th {\n",
       "        vertical-align: top;\n",
       "    }\n",
       "\n",
       "    .dataframe thead th {\n",
       "        text-align: right;\n",
       "    }\n",
       "</style>\n",
       "<table border=\"1\" class=\"dataframe\">\n",
       "  <thead>\n",
       "    <tr style=\"text-align: right;\">\n",
       "      <th></th>\n",
       "      <th>comprimento_petala (cm)</th>\n",
       "      <th>largura_petala (cm)</th>\n",
       "      <th>target</th>\n",
       "    </tr>\n",
       "  </thead>\n",
       "  <tbody>\n",
       "    <tr>\n",
       "      <th>0</th>\n",
       "      <td>1.4</td>\n",
       "      <td>0.2</td>\n",
       "      <td>0</td>\n",
       "    </tr>\n",
       "    <tr>\n",
       "      <th>1</th>\n",
       "      <td>1.4</td>\n",
       "      <td>0.2</td>\n",
       "      <td>0</td>\n",
       "    </tr>\n",
       "  </tbody>\n",
       "</table>\n",
       "</div>"
      ],
      "text/plain": [
       "   comprimento_petala (cm)  largura_petala (cm)  target\n",
       "0                      1.4                  0.2       0\n",
       "1                      1.4                  0.2       0"
      ]
     },
     "execution_count": 18,
     "metadata": {},
     "output_type": "execute_result"
    }
   ],
   "source": [
    "# Neste inicio vamos trabalhar apenas com as flores representadas por 0 e 1 e as colunas das petalas.\n",
    "iris1 = iris.query('target==0 or target==1').loc[:, ['comprimento_petala (cm)', 'largura_petala (cm)', 'target']]\n",
    "iris1.head(2)"
   ]
  },
  {
   "cell_type": "code",
   "execution_count": 19,
   "id": "67d9094c",
   "metadata": {
    "ExecuteTime": {
     "end_time": "2022-12-21T23:57:45.288891Z",
     "start_time": "2022-12-21T23:57:45.285126Z"
    },
    "hidden": true
   },
   "outputs": [],
   "source": [
    "# Separando X e Y\n",
    "x = iris1.drop('target', axis=1)\n",
    "y = iris1['target']"
   ]
  },
  {
   "cell_type": "markdown",
   "id": "87aa8a2b",
   "metadata": {
    "hidden": true
   },
   "source": [
    " <br>"
   ]
  },
  {
   "cell_type": "markdown",
   "id": "3a3c6099",
   "metadata": {
    "hidden": true
   },
   "source": [
    "- Vamos utilizar o train_test_split para separar os nossos dados em treino e teste"
   ]
  },
  {
   "cell_type": "code",
   "execution_count": 20,
   "id": "89456b1f",
   "metadata": {
    "ExecuteTime": {
     "end_time": "2022-12-21T23:57:46.478298Z",
     "start_time": "2022-12-21T23:57:46.473211Z"
    },
    "hidden": true
   },
   "outputs": [],
   "source": [
    "# Splitando os nossos dados para treino e teste\n",
    "from sklearn.model_selection import train_test_split\n",
    "\n",
    "X_train, X_test, y_train, y_test = train_test_split(x, y, test_size=0.33, random_state=42)"
   ]
  },
  {
   "cell_type": "markdown",
   "id": "6230d660",
   "metadata": {
    "ExecuteTime": {
     "end_time": "2022-12-20T20:20:19.211969Z",
     "start_time": "2022-12-20T20:20:19.205500Z"
    },
    "hidden": true
   },
   "source": [
    " <br>"
   ]
  },
  {
   "cell_type": "markdown",
   "id": "084570c2",
   "metadata": {
    "hidden": true
   },
   "source": [
    "- Agora vamos visulisar os dados de treino utilisando o matplotlib"
   ]
  },
  {
   "cell_type": "code",
   "execution_count": 21,
   "id": "8c0ea17d",
   "metadata": {
    "ExecuteTime": {
     "end_time": "2022-12-21T23:57:47.735027Z",
     "start_time": "2022-12-21T23:57:47.597428Z"
    },
    "hidden": true
   },
   "outputs": [
    {
     "data": {
      "image/png": "[encoded data removed]",
      "text/plain": [
       "<Figure size 1000x500 with 1 Axes>"
      ]
     },
     "metadata": {},
     "output_type": "display_data"
    }
   ],
   "source": [
    "# Visualisando como os nossos dados estão classificados\n",
    "import matplotlib.pyplot as plt\n",
    "\n",
    "\n",
    "fig, ax = plt.subplots(figsize=(10, 5))\n",
    "\n",
    "ax.scatter(data= X_train,\n",
    "           x='comprimento_petala (cm)', \n",
    "           y='largura_petala (cm)',\n",
    "           c= y_train)\n",
    "\n",
    "ax.set_title('Pétalas')\n",
    "ax.set_xlabel('Comprimento (cm)', labelpad=20)\n",
    "ax.set_ylabel('Largura (cm)', labelpad=20)\n",
    "\n",
    "plt.show()"
   ]
  },
  {
   "cell_type": "markdown",
   "id": "99789906",
   "metadata": {
    "hidden": true
   },
   "source": [
    " <br>"
   ]
  },
  {
   "cell_type": "markdown",
   "id": "0513c2a9",
   "metadata": {
    "hidden": true
   },
   "source": [
    "- Agora vamos utilisar a arvore de decisão para ver ela classificando esse dados."
   ]
  },
  {
   "cell_type": "code",
   "execution_count": 22,
   "id": "ce53f32a",
   "metadata": {
    "ExecuteTime": {
     "end_time": "2022-12-21T23:57:49.949043Z",
     "start_time": "2022-12-21T23:57:49.795368Z"
    },
    "hidden": true
   },
   "outputs": [],
   "source": [
    "# Importando a arvore de decisão\n",
    "from sklearn import tree"
   ]
  },
  {
   "cell_type": "code",
   "execution_count": 23,
   "id": "cfd2186a",
   "metadata": {
    "ExecuteTime": {
     "end_time": "2022-12-21T23:57:50.149895Z",
     "start_time": "2022-12-21T23:57:50.147682Z"
    },
    "hidden": true
   },
   "outputs": [],
   "source": [
    "# Criando o classificador\n",
    "clf = tree.DecisionTreeClassifier()"
   ]
  },
  {
   "cell_type": "code",
   "execution_count": 24,
   "id": "b0002b52",
   "metadata": {
    "ExecuteTime": {
     "end_time": "2022-12-21T23:57:50.511130Z",
     "start_time": "2022-12-21T23:57:50.502012Z"
    },
    "hidden": true
   },
   "outputs": [],
   "source": [
    "# Fazendo o fit com os dados de treino\n",
    "clf = clf.fit(X_train, y_train)"
   ]
  },
  {
   "cell_type": "code",
   "execution_count": 25,
   "id": "10f2fadf",
   "metadata": {
    "ExecuteTime": {
     "end_time": "2022-12-21T23:57:50.916827Z",
     "start_time": "2022-12-21T23:57:50.907835Z"
    },
    "hidden": true
   },
   "outputs": [
    {
     "data": {
      "text/plain": [
       "1.0"
      ]
     },
     "execution_count": 25,
     "metadata": {},
     "output_type": "execute_result"
    }
   ],
   "source": [
    "# Verificando o score\n",
    "clf.score(X_train, y_train)"
   ]
  },
  {
   "cell_type": "markdown",
   "id": "845307b7",
   "metadata": {
    "hidden": true
   },
   "source": [
    "<br>"
   ]
  },
  {
   "cell_type": "markdown",
   "id": "3460b8b3",
   "metadata": {
    "hidden": true
   },
   "source": [
    "- Podemos exibir como essa arvore foi criada"
   ]
  },
  {
   "cell_type": "code",
   "execution_count": 28,
   "id": "20d8acad",
   "metadata": {
    "ExecuteTime": {
     "end_time": "2022-12-21T23:58:35.157035Z",
     "start_time": "2022-12-21T23:58:35.006703Z"
    },
    "hidden": true
   },
   "outputs": [
    {
     "data": {
      "image/png": "[encoded data removed]",
      "text/plain": [
       "<Figure size 500x400 with 1 Axes>"
      ]
     },
     "metadata": {},
     "output_type": "display_data"
    }
   ],
   "source": [
    "# Visualisando a arvore\n",
    "fig, ax = plt.subplots(figsize=(5, 4))\n",
    "tree.plot_tree(clf, feature_names=X_train.columns)\n",
    "plt.show()"
   ]
  },
  {
   "cell_type": "code",
   "execution_count": 77,
   "id": "d736a1d4",
   "metadata": {
    "ExecuteTime": {
     "end_time": "2022-12-22T01:11:22.262119Z",
     "start_time": "2022-12-22T01:11:21.804896Z"
    },
    "hidden": true
   },
   "outputs": [
    {
     "ename": "ValueError",
     "evalue": "'c' argument has 100 elements, which is inconsistent with 'x' and 'y' with size 1.",
     "output_type": "error",
     "traceback": [
      "\u001b[0;31m---------------------------------------------------------------------------\u001b[0m",
      "\u001b[0;31mValueError\u001b[0m                                Traceback (most recent call last)",
      "File \u001b[0;32m~/Projetos/estudo_ds/venv-estudo/lib64/python3.11/site-packages/matplotlib/axes/_axes.py:4375\u001b[0m, in \u001b[0;36mAxes._parse_scatter_color_args\u001b[0;34m(c, edgecolors, kwargs, xsize, get_next_color_func)\u001b[0m\n\u001b[1;32m   4374\u001b[0m \u001b[38;5;28;01mtry\u001b[39;00m:  \u001b[38;5;66;03m# Is 'c' acceptable as PathCollection facecolors?\u001b[39;00m\n\u001b[0;32m-> 4375\u001b[0m     colors \u001b[38;5;241m=\u001b[39m \u001b[43mmcolors\u001b[49m\u001b[38;5;241;43m.\u001b[39;49m\u001b[43mto_rgba_array\u001b[49m\u001b[43m(\u001b[49m\u001b[43mc\u001b[49m\u001b[43m)\u001b[49m\n\u001b[1;32m   4376\u001b[0m \u001b[38;5;28;01mexcept\u001b[39;00m (\u001b[38;5;167;01mTypeError\u001b[39;00m, \u001b[38;5;167;01mValueError\u001b[39;00m) \u001b[38;5;28;01mas\u001b[39;00m err:\n",
      "File \u001b[0;32m~/Projetos/estudo_ds/venv-estudo/lib64/python3.11/site-packages/matplotlib/colors.py:487\u001b[0m, in \u001b[0;36mto_rgba_array\u001b[0;34m(c, alpha)\u001b[0m\n\u001b[1;32m    486\u001b[0m \u001b[38;5;28;01melse\u001b[39;00m:\n\u001b[0;32m--> 487\u001b[0m     rgba \u001b[38;5;241m=\u001b[39m np\u001b[38;5;241m.\u001b[39marray(\u001b[43m[\u001b[49m\u001b[43mto_rgba\u001b[49m\u001b[43m(\u001b[49m\u001b[43mcc\u001b[49m\u001b[43m)\u001b[49m\u001b[43m \u001b[49m\u001b[38;5;28;43;01mfor\u001b[39;49;00m\u001b[43m \u001b[49m\u001b[43mcc\u001b[49m\u001b[43m \u001b[49m\u001b[38;5;129;43;01min\u001b[39;49;00m\u001b[43m \u001b[49m\u001b[43mc\u001b[49m\u001b[43m]\u001b[49m)\n\u001b[1;32m    489\u001b[0m \u001b[38;5;28;01mif\u001b[39;00m alpha \u001b[38;5;129;01mis\u001b[39;00m \u001b[38;5;129;01mnot\u001b[39;00m \u001b[38;5;28;01mNone\u001b[39;00m:\n",
      "File \u001b[0;32m~/Projetos/estudo_ds/venv-estudo/lib64/python3.11/site-packages/matplotlib/colors.py:487\u001b[0m, in \u001b[0;36m<listcomp>\u001b[0;34m(.0)\u001b[0m\n\u001b[1;32m    486\u001b[0m \u001b[38;5;28;01melse\u001b[39;00m:\n\u001b[0;32m--> 487\u001b[0m     rgba \u001b[38;5;241m=\u001b[39m np\u001b[38;5;241m.\u001b[39marray([\u001b[43mto_rgba\u001b[49m\u001b[43m(\u001b[49m\u001b[43mcc\u001b[49m\u001b[43m)\u001b[49m \u001b[38;5;28;01mfor\u001b[39;00m cc \u001b[38;5;129;01min\u001b[39;00m c])\n\u001b[1;32m    489\u001b[0m \u001b[38;5;28;01mif\u001b[39;00m alpha \u001b[38;5;129;01mis\u001b[39;00m \u001b[38;5;129;01mnot\u001b[39;00m \u001b[38;5;28;01mNone\u001b[39;00m:\n",
      "File \u001b[0;32m~/Projetos/estudo_ds/venv-estudo/lib64/python3.11/site-packages/matplotlib/colors.py:299\u001b[0m, in \u001b[0;36mto_rgba\u001b[0;34m(c, alpha)\u001b[0m\n\u001b[1;32m    298\u001b[0m \u001b[38;5;28;01mif\u001b[39;00m rgba \u001b[38;5;129;01mis\u001b[39;00m \u001b[38;5;28;01mNone\u001b[39;00m:  \u001b[38;5;66;03m# Suppress exception chaining of cache lookup failure.\u001b[39;00m\n\u001b[0;32m--> 299\u001b[0m     rgba \u001b[38;5;241m=\u001b[39m \u001b[43m_to_rgba_no_colorcycle\u001b[49m\u001b[43m(\u001b[49m\u001b[43mc\u001b[49m\u001b[43m,\u001b[49m\u001b[43m \u001b[49m\u001b[43malpha\u001b[49m\u001b[43m)\u001b[49m\n\u001b[1;32m    300\u001b[0m     \u001b[38;5;28;01mtry\u001b[39;00m:\n",
      "File \u001b[0;32m~/Projetos/estudo_ds/venv-estudo/lib64/python3.11/site-packages/matplotlib/colors.py:381\u001b[0m, in \u001b[0;36m_to_rgba_no_colorcycle\u001b[0;34m(c, alpha)\u001b[0m\n\u001b[1;32m    380\u001b[0m \u001b[38;5;28;01mif\u001b[39;00m \u001b[38;5;129;01mnot\u001b[39;00m np\u001b[38;5;241m.\u001b[39miterable(c):\n\u001b[0;32m--> 381\u001b[0m     \u001b[38;5;28;01mraise\u001b[39;00m \u001b[38;5;167;01mValueError\u001b[39;00m(\u001b[38;5;124mf\u001b[39m\u001b[38;5;124m\"\u001b[39m\u001b[38;5;124mInvalid RGBA argument: \u001b[39m\u001b[38;5;132;01m{\u001b[39;00morig_c\u001b[38;5;132;01m!r}\u001b[39;00m\u001b[38;5;124m\"\u001b[39m)\n\u001b[1;32m    382\u001b[0m \u001b[38;5;28;01mif\u001b[39;00m \u001b[38;5;28mlen\u001b[39m(c) \u001b[38;5;129;01mnot\u001b[39;00m \u001b[38;5;129;01min\u001b[39;00m [\u001b[38;5;241m3\u001b[39m, \u001b[38;5;241m4\u001b[39m]:\n",
      "\u001b[0;31mValueError\u001b[0m: Invalid RGBA argument: 0.0",
      "\nThe above exception was the direct cause of the following exception:\n",
      "\u001b[0;31mValueError\u001b[0m                                Traceback (most recent call last)",
      "Cell \u001b[0;32mIn[77], line 6\u001b[0m\n\u001b[1;32m      2\u001b[0m \u001b[38;5;28;01mimport\u001b[39;00m \u001b[38;5;21;01mmatplotlib\u001b[39;00m\u001b[38;5;21;01m.\u001b[39;00m\u001b[38;5;21;01mpyplot\u001b[39;00m \u001b[38;5;28;01mas\u001b[39;00m \u001b[38;5;21;01mplt\u001b[39;00m\n\u001b[1;32m      5\u001b[0m fig, ax \u001b[38;5;241m=\u001b[39m plt\u001b[38;5;241m.\u001b[39msubplots(figsize\u001b[38;5;241m=\u001b[39m(\u001b[38;5;241m10\u001b[39m, \u001b[38;5;241m5\u001b[39m))\n\u001b[0;32m----> 6\u001b[0m \u001b[43max\u001b[49m\u001b[38;5;241;43m.\u001b[39;49m\u001b[43mscatter\u001b[49m\u001b[43m(\u001b[49m\u001b[43mdata\u001b[49m\u001b[38;5;241;43m=\u001b[39;49m\u001b[43mX_train\u001b[49m\u001b[43m,\u001b[49m\u001b[43m \u001b[49m\n\u001b[1;32m      7\u001b[0m \u001b[43m           \u001b[49m\u001b[43mx\u001b[49m\u001b[38;5;241;43m=\u001b[39;49m\u001b[38;5;124;43m'\u001b[39;49m\u001b[38;5;124;43mcomprimento_petala (cm)\u001b[39;49m\u001b[38;5;124;43m'\u001b[39;49m\u001b[43m,\u001b[49m\u001b[43m \u001b[49m\n\u001b[1;32m      8\u001b[0m \u001b[43m           \u001b[49m\u001b[43my\u001b[49m\u001b[38;5;241;43m=\u001b[39;49m\u001b[38;5;124;43m'\u001b[39;49m\u001b[38;5;124;43mlargura_petala (cm)\u001b[39;49m\u001b[38;5;124;43m'\u001b[39;49m\u001b[43m,\u001b[49m\n\u001b[1;32m      9\u001b[0m \u001b[43m           \u001b[49m\u001b[43mc\u001b[49m\u001b[38;5;241;43m=\u001b[39;49m\u001b[43my_train\u001b[49m\u001b[43m)\u001b[49m\n\u001b[1;32m     11\u001b[0m \u001b[38;5;66;03m# Traçando uma linha\u001b[39;00m\n\u001b[1;32m     12\u001b[0m ax\u001b[38;5;241m.\u001b[39mplot([\u001b[38;5;241m2.45\u001b[39m, \u001b[38;5;241m2.45\u001b[39m], [\u001b[38;5;241m0.10\u001b[39m, \u001b[38;5;241m1.6\u001b[39m], \u001b[38;5;124m'\u001b[39m\u001b[38;5;124m--r\u001b[39m\u001b[38;5;124m'\u001b[39m)\n",
      "File \u001b[0;32m~/Projetos/estudo_ds/venv-estudo/lib64/python3.11/site-packages/matplotlib/__init__.py:1449\u001b[0m, in \u001b[0;36m_preprocess_data.<locals>.inner\u001b[0;34m(ax, data, *args, **kwargs)\u001b[0m\n\u001b[1;32m   1445\u001b[0m \u001b[38;5;28;01mif\u001b[39;00m label_namer \u001b[38;5;129;01mand\u001b[39;00m \u001b[38;5;124m\"\u001b[39m\u001b[38;5;124mlabel\u001b[39m\u001b[38;5;124m\"\u001b[39m \u001b[38;5;129;01mnot\u001b[39;00m \u001b[38;5;129;01min\u001b[39;00m args_and_kwargs:\n\u001b[1;32m   1446\u001b[0m     new_kwargs[\u001b[38;5;124m\"\u001b[39m\u001b[38;5;124mlabel\u001b[39m\u001b[38;5;124m\"\u001b[39m] \u001b[38;5;241m=\u001b[39m _label_from_arg(\n\u001b[1;32m   1447\u001b[0m         args_and_kwargs\u001b[38;5;241m.\u001b[39mget(label_namer), auto_label)\n\u001b[0;32m-> 1449\u001b[0m \u001b[38;5;28;01mreturn\u001b[39;00m \u001b[43mfunc\u001b[49m\u001b[43m(\u001b[49m\u001b[38;5;241;43m*\u001b[39;49m\u001b[43mnew_args\u001b[49m\u001b[43m,\u001b[49m\u001b[43m \u001b[49m\u001b[38;5;241;43m*\u001b[39;49m\u001b[38;5;241;43m*\u001b[39;49m\u001b[43mnew_kwargs\u001b[49m\u001b[43m)\u001b[49m\n",
      "File \u001b[0;32m~/Projetos/estudo_ds/venv-estudo/lib64/python3.11/site-packages/matplotlib/axes/_axes.py:4538\u001b[0m, in \u001b[0;36mAxes.scatter\u001b[0;34m(self, x, y, s, c, marker, cmap, norm, vmin, vmax, alpha, linewidths, edgecolors, plotnonfinite, **kwargs)\u001b[0m\n\u001b[1;32m   4535\u001b[0m \u001b[38;5;28;01mif\u001b[39;00m edgecolors \u001b[38;5;129;01mis\u001b[39;00m \u001b[38;5;28;01mNone\u001b[39;00m:\n\u001b[1;32m   4536\u001b[0m     orig_edgecolor \u001b[38;5;241m=\u001b[39m kwargs\u001b[38;5;241m.\u001b[39mget(\u001b[38;5;124m'\u001b[39m\u001b[38;5;124medgecolor\u001b[39m\u001b[38;5;124m'\u001b[39m, \u001b[38;5;28;01mNone\u001b[39;00m)\n\u001b[1;32m   4537\u001b[0m c, colors, edgecolors \u001b[38;5;241m=\u001b[39m \\\n\u001b[0;32m-> 4538\u001b[0m     \u001b[38;5;28;43mself\u001b[39;49m\u001b[38;5;241;43m.\u001b[39;49m\u001b[43m_parse_scatter_color_args\u001b[49m\u001b[43m(\u001b[49m\n\u001b[1;32m   4539\u001b[0m \u001b[43m        \u001b[49m\u001b[43mc\u001b[49m\u001b[43m,\u001b[49m\u001b[43m \u001b[49m\u001b[43medgecolors\u001b[49m\u001b[43m,\u001b[49m\u001b[43m \u001b[49m\u001b[43mkwargs\u001b[49m\u001b[43m,\u001b[49m\u001b[43m \u001b[49m\u001b[43mx\u001b[49m\u001b[38;5;241;43m.\u001b[39;49m\u001b[43msize\u001b[49m\u001b[43m,\u001b[49m\n\u001b[1;32m   4540\u001b[0m \u001b[43m        \u001b[49m\u001b[43mget_next_color_func\u001b[49m\u001b[38;5;241;43m=\u001b[39;49m\u001b[38;5;28;43mself\u001b[39;49m\u001b[38;5;241;43m.\u001b[39;49m\u001b[43m_get_patches_for_fill\u001b[49m\u001b[38;5;241;43m.\u001b[39;49m\u001b[43mget_next_color\u001b[49m\u001b[43m)\u001b[49m\n\u001b[1;32m   4542\u001b[0m \u001b[38;5;28;01mif\u001b[39;00m plotnonfinite \u001b[38;5;129;01mand\u001b[39;00m colors \u001b[38;5;129;01mis\u001b[39;00m \u001b[38;5;28;01mNone\u001b[39;00m:\n\u001b[1;32m   4543\u001b[0m     c \u001b[38;5;241m=\u001b[39m np\u001b[38;5;241m.\u001b[39mma\u001b[38;5;241m.\u001b[39mmasked_invalid(c)\n",
      "File \u001b[0;32m~/Projetos/estudo_ds/venv-estudo/lib64/python3.11/site-packages/matplotlib/axes/_axes.py:4381\u001b[0m, in \u001b[0;36mAxes._parse_scatter_color_args\u001b[0;34m(c, edgecolors, kwargs, xsize, get_next_color_func)\u001b[0m\n\u001b[1;32m   4379\u001b[0m \u001b[38;5;28;01melse\u001b[39;00m:\n\u001b[1;32m   4380\u001b[0m     \u001b[38;5;28;01mif\u001b[39;00m \u001b[38;5;129;01mnot\u001b[39;00m valid_shape:\n\u001b[0;32m-> 4381\u001b[0m         \u001b[38;5;28;01mraise\u001b[39;00m invalid_shape_exception(c\u001b[38;5;241m.\u001b[39msize, xsize) \u001b[38;5;28;01mfrom\u001b[39;00m \u001b[38;5;21;01merr\u001b[39;00m\n\u001b[1;32m   4382\u001b[0m     \u001b[38;5;66;03m# Both the mapping *and* the RGBA conversion failed: pretty\u001b[39;00m\n\u001b[1;32m   4383\u001b[0m     \u001b[38;5;66;03m# severe failure => one may appreciate a verbose feedback.\u001b[39;00m\n\u001b[1;32m   4384\u001b[0m     \u001b[38;5;28;01mraise\u001b[39;00m \u001b[38;5;167;01mValueError\u001b[39;00m(\n\u001b[1;32m   4385\u001b[0m         \u001b[38;5;124mf\u001b[39m\u001b[38;5;124m\"\u001b[39m\u001b[38;5;124m'\u001b[39m\u001b[38;5;124mc\u001b[39m\u001b[38;5;124m'\u001b[39m\u001b[38;5;124m argument must be a color, a sequence of colors, \u001b[39m\u001b[38;5;124m\"\u001b[39m\n\u001b[1;32m   4386\u001b[0m         \u001b[38;5;124mf\u001b[39m\u001b[38;5;124m\"\u001b[39m\u001b[38;5;124mor a sequence of numbers, not \u001b[39m\u001b[38;5;132;01m{\u001b[39;00mc\u001b[38;5;132;01m}\u001b[39;00m\u001b[38;5;124m\"\u001b[39m) \u001b[38;5;28;01mfrom\u001b[39;00m \u001b[38;5;21;01merr\u001b[39;00m\n",
      "\u001b[0;31mValueError\u001b[0m: 'c' argument has 100 elements, which is inconsistent with 'x' and 'y' with size 1."
     ]
    },
    {
     "data": {
      "image/png": "[encoded data removed]",
      "text/plain": [
       "<Figure size 1000x500 with 1 Axes>"
      ]
     },
     "metadata": {},
     "output_type": "display_data"
    }
   ],
   "source": [
    "# Vamos visualisar como essa regra se implementa no nosso gráfico\n",
    "import matplotlib.pyplot as plt\n",
    "\n",
    "\n",
    "fig, ax = plt.subplots(figsize=(10, 5))\n",
    "ax.scatter(data=X_train, \n",
    "           x='comprimento_petala (cm)', \n",
    "           y='largura_petala (cm)',\n",
    "           c=y_train)\n",
    "\n",
    "# Traçando uma linha\n",
    "ax.plot([2.45, 2.45], [0.10, 1.6], '--r')\n",
    "\n",
    "# Titulo e labels\n",
    "ax.set_title('Pétalas')\n",
    "ax.set_xlabel('Comprimento (cm)', labelpad=20)\n",
    "ax.set_ylabel('Largura (cm)', labelpad=20)\n",
    "\n",
    "\n",
    "plt.show()"
   ]
  },
  {
   "cell_type": "markdown",
   "id": "8f0e015b",
   "metadata": {
    "hidden": true
   },
   "source": [
    "<br>"
   ]
  },
  {
   "cell_type": "markdown",
   "id": "160a49b7",
   "metadata": {
    "hidden": true
   },
   "source": [
    "- Utilizando o modelo para prever o y dos nossos dados de teste."
   ]
  },
  {
   "cell_type": "code",
   "execution_count": 160,
   "id": "0e81f29f",
   "metadata": {
    "ExecuteTime": {
     "end_time": "2022-12-21T00:11:24.938973Z",
     "start_time": "2022-12-21T00:11:24.932408Z"
    },
    "hidden": true
   },
   "outputs": [
    {
     "data": {
      "text/plain": [
       "array([[19,  0],\n",
       "       [ 0, 14]])"
      ]
     },
     "execution_count": 160,
     "metadata": {},
     "output_type": "execute_result"
    }
   ],
   "source": [
    "# Fazendo a previsão e avaliando o erro\n",
    "y_pred = clf.predict(X_test)\n",
    "\n",
    "from sklearn.metrics import confusion_matrix\n",
    "confusion_matrix(y_true=y_test, y_pred=y_pred) "
   ]
  },
  {
   "cell_type": "code",
   "execution_count": 161,
   "id": "6477b810",
   "metadata": {
    "ExecuteTime": {
     "end_time": "2022-12-21T00:11:28.453590Z",
     "start_time": "2022-12-21T00:11:28.298214Z"
    },
    "hidden": true
   },
   "outputs": [
    {
     "data": {
      "image/png": "[encoded data removed]",
      "text/plain": [
       "<Figure size 1000x500 with 1 Axes>"
      ]
     },
     "metadata": {},
     "output_type": "display_data"
    }
   ],
   "source": [
    "# Visualizando esses dados de teste no gráfico\n",
    "import matplotlib.pyplot as plt\n",
    "\n",
    "\n",
    "fig, ax = plt.subplots(figsize=(10, 5))\n",
    "ax.scatter(data=X_test,\n",
    "           x='comprimento_petala (cm)', \n",
    "           y='largura_petala (cm)',\n",
    "           c=y_pred)\n",
    "\n",
    "# Traçando uma linha\n",
    "ax.plot([2.45, 2.45], [0.10, 1.6], '--r')\n",
    "\n",
    "# Titulo e labels\n",
    "ax.set_title('Petala')\n",
    "ax.set_xlabel('Comprimento (cm)', labelpad=20)\n",
    "ax.set_ylabel('Largura (cm)', labelpad=20)\n",
    "\n",
    "\n",
    "plt.show()"
   ]
  },
  {
   "cell_type": "markdown",
   "id": "152b5770",
   "metadata": {
    "heading_collapsed": true
   },
   "source": [
    "## Utilizando apenas as flores representadas por 1 e 2 🌹🌼"
   ]
  },
  {
   "cell_type": "markdown",
   "id": "88cc6f77",
   "metadata": {
    "hidden": true
   },
   "source": [
    "Vamos fazer a mesmo processo que fizemos no tópico anterior, mas dessa vez iremos utilizar as flores representadas por **1** e **2**. E as mesmas variáveis."
   ]
  },
  {
   "cell_type": "markdown",
   "id": "b00965c5",
   "metadata": {
    "hidden": true
   },
   "source": [
    "- Vamos gerar o novo dataset"
   ]
  },
  {
   "cell_type": "code",
   "execution_count": 37,
   "id": "f45e8c7e",
   "metadata": {
    "ExecuteTime": {
     "end_time": "2022-12-22T00:32:10.337759Z",
     "start_time": "2022-12-22T00:32:10.321745Z"
    },
    "hidden": true
   },
   "outputs": [
    {
     "data": {
      "text/html": [
       "<div>\n",
       "<style scoped>\n",
       "    .dataframe tbody tr th:only-of-type {\n",
       "        vertical-align: middle;\n",
       "    }\n",
       "\n",
       "    .dataframe tbody tr th {\n",
       "        vertical-align: top;\n",
       "    }\n",
       "\n",
       "    .dataframe thead th {\n",
       "        text-align: right;\n",
       "    }\n",
       "</style>\n",
       "<table border=\"1\" class=\"dataframe\">\n",
       "  <thead>\n",
       "    <tr style=\"text-align: right;\">\n",
       "      <th></th>\n",
       "      <th>comprimento_petala (cm)</th>\n",
       "      <th>largura_petala (cm)</th>\n",
       "      <th>target</th>\n",
       "    </tr>\n",
       "  </thead>\n",
       "  <tbody>\n",
       "    <tr>\n",
       "      <th>50</th>\n",
       "      <td>4.7</td>\n",
       "      <td>1.4</td>\n",
       "      <td>1</td>\n",
       "    </tr>\n",
       "    <tr>\n",
       "      <th>51</th>\n",
       "      <td>4.5</td>\n",
       "      <td>1.5</td>\n",
       "      <td>1</td>\n",
       "    </tr>\n",
       "    <tr>\n",
       "      <th>52</th>\n",
       "      <td>4.9</td>\n",
       "      <td>1.5</td>\n",
       "      <td>1</td>\n",
       "    </tr>\n",
       "  </tbody>\n",
       "</table>\n",
       "</div>"
      ],
      "text/plain": [
       "    comprimento_petala (cm)  largura_petala (cm)  target\n",
       "50                      4.7                  1.4       1\n",
       "51                      4.5                  1.5       1\n",
       "52                      4.9                  1.5       1"
      ]
     },
     "execution_count": 37,
     "metadata": {},
     "output_type": "execute_result"
    }
   ],
   "source": [
    "# Separando os dados que queremos analisar\n",
    "iris2 = iris.query(\"target==1 or target==2\").loc[:,['comprimento_petala (cm)', 'largura_petala (cm)', 'target']]\n",
    "iris2.head(3)"
   ]
  },
  {
   "cell_type": "code",
   "execution_count": 6,
   "id": "c0a101f5",
   "metadata": {
    "ExecuteTime": {
     "end_time": "2022-12-21T19:46:46.377176Z",
     "start_time": "2022-12-21T19:46:46.372471Z"
    },
    "hidden": true
   },
   "outputs": [],
   "source": [
    "# Separando x e y \n",
    "x = iris2.drop(labels='target', axis=1)\n",
    "y = iris2['target']"
   ]
  },
  {
   "cell_type": "markdown",
   "id": "3e19bfd4",
   "metadata": {
    "ExecuteTime": {
     "end_time": "2022-12-21T02:25:53.928727Z",
     "start_time": "2022-12-21T02:25:53.919242Z"
    },
    "hidden": true
   },
   "source": [
    "<br>"
   ]
  },
  {
   "cell_type": "markdown",
   "id": "cc25c72e",
   "metadata": {
    "hidden": true
   },
   "source": [
    "- Agora vamos separar os nossos dados em dados de treino e teste"
   ]
  },
  {
   "cell_type": "code",
   "execution_count": 7,
   "id": "f0c6e7c6",
   "metadata": {
    "ExecuteTime": {
     "end_time": "2022-12-21T19:46:49.329605Z",
     "start_time": "2022-12-21T19:46:49.274323Z"
    },
    "hidden": true
   },
   "outputs": [],
   "source": [
    "from sklearn.model_selection import train_test_split\n",
    "X_train, X_test, y_train, y_test = train_test_split(x, y, test_size=0.33, random_state=42)"
   ]
  },
  {
   "cell_type": "markdown",
   "id": "704afdc1",
   "metadata": {
    "hidden": true
   },
   "source": [
    "<br>"
   ]
  },
  {
   "cell_type": "markdown",
   "id": "d4e3c9eb",
   "metadata": {
    "hidden": true
   },
   "source": [
    "- Vamos visualisar os dadados de treino utilizando o matplotlib"
   ]
  },
  {
   "cell_type": "code",
   "execution_count": 8,
   "id": "db07832c",
   "metadata": {
    "ExecuteTime": {
     "end_time": "2022-12-21T19:46:52.105268Z",
     "start_time": "2022-12-21T19:46:51.624497Z"
    },
    "hidden": true
   },
   "outputs": [
    {
     "data": {
      "image/png": "[encoded data removed]",
      "text/plain": [
       "<Figure size 1000x500 with 1 Axes>"
      ]
     },
     "metadata": {},
     "output_type": "display_data"
    }
   ],
   "source": [
    "import matplotlib.pyplot as plt\n",
    "\n",
    "fig,ax = plt.subplots(figsize=(10, 5))\n",
    "\n",
    "ax.scatter(data=X_train,\n",
    "           x='comprimento_petala (cm)',\n",
    "           y='largura_petala (cm)',\n",
    "           c=y_train)\n",
    "\n",
    "plt.show()"
   ]
  },
  {
   "cell_type": "code",
   "execution_count": null,
   "id": "a6a24c12",
   "metadata": {
    "hidden": true
   },
   "outputs": [],
   "source": []
  },
  {
   "cell_type": "code",
   "execution_count": null,
   "id": "5b90ed48",
   "metadata": {
    "hidden": true
   },
   "outputs": [],
   "source": []
  },
  {
   "cell_type": "markdown",
   "id": "c3005075",
   "metadata": {
    "heading_collapsed": true
   },
   "source": [
    "## Utilizando todas as flores"
   ]
  },
  {
   "cell_type": "code",
   "execution_count": 113,
   "id": "c19898cc",
   "metadata": {
    "ExecuteTime": {
     "end_time": "2022-12-22T01:35:15.059096Z",
     "start_time": "2022-12-22T01:35:15.054221Z"
    },
    "hidden": true
   },
   "outputs": [],
   "source": [
    "# Separando em X e Y\n",
    "x = iris.drop('target', axis=1)\n",
    "y = iris.target"
   ]
  },
  {
   "cell_type": "code",
   "execution_count": 114,
   "id": "a2d5bec9",
   "metadata": {
    "ExecuteTime": {
     "end_time": "2022-12-22T01:35:15.998882Z",
     "start_time": "2022-12-22T01:35:15.994691Z"
    },
    "hidden": true
   },
   "outputs": [],
   "source": [
    "# Separando os dados de treino e teste\n",
    "from sklearn.model_selection import train_test_split\n",
    "X_train, X_test, y_train, y_test = train_test_split(x, y, test_size=0.33, random_state=1)"
   ]
  },
  {
   "cell_type": "code",
   "execution_count": 115,
   "id": "ff4eed93",
   "metadata": {
    "ExecuteTime": {
     "end_time": "2022-12-22T01:35:16.901762Z",
     "start_time": "2022-12-22T01:35:16.893540Z"
    },
    "hidden": true
   },
   "outputs": [],
   "source": [
    "from sklearn import tree\n",
    "\n",
    "clf = tree.DecisionTreeClassifier()\n",
    "\n",
    "clf = clf.fit(X_train, y_train)"
   ]
  },
  {
   "cell_type": "code",
   "execution_count": 116,
   "id": "b19ade6e",
   "metadata": {
    "ExecuteTime": {
     "end_time": "2022-12-22T01:35:18.591081Z",
     "start_time": "2022-12-22T01:35:18.586277Z"
    },
    "hidden": true
   },
   "outputs": [],
   "source": [
    "y_pred = clf.predict(X_test)"
   ]
  },
  {
   "cell_type": "code",
   "execution_count": 117,
   "id": "9229652f",
   "metadata": {
    "ExecuteTime": {
     "end_time": "2022-12-22T01:35:20.213253Z",
     "start_time": "2022-12-22T01:35:20.206494Z"
    },
    "hidden": true
   },
   "outputs": [
    {
     "data": {
      "text/plain": [
       "array([[17,  0,  0],\n",
       "       [ 0, 18,  1],\n",
       "       [ 0,  1, 13]])"
      ]
     },
     "execution_count": 117,
     "metadata": {},
     "output_type": "execute_result"
    }
   ],
   "source": [
    "from sklearn.metrics import confusion_matrix\n",
    "\n",
    "confusion_matrix(y_test, y_pred)"
   ]
  },
  {
   "cell_type": "code",
   "execution_count": 118,
   "id": "3dcf8f8a",
   "metadata": {
    "ExecuteTime": {
     "end_time": "2022-12-22T01:35:22.123181Z",
     "start_time": "2022-12-22T01:35:21.691506Z"
    },
    "hidden": true
   },
   "outputs": [
    {
     "data": {
      "image/png": "[encoded data removed]",
      "text/plain": [
       "<Figure size 1000x500 with 1 Axes>"
      ]
     },
     "metadata": {},
     "output_type": "display_data"
    }
   ],
   "source": [
    "plt.subplots(figsize=(10, 5))\n",
    "tree.plot_tree(clf, feature_names=X_train.columns)\n",
    "plt.show()"
   ]
  },
  {
   "cell_type": "code",
   "execution_count": null,
   "id": "21bdf2ce",
   "metadata": {
    "hidden": true
   },
   "outputs": [],
   "source": []
  },
  {
   "cell_type": "code",
   "execution_count": null,
   "id": "7ea78b57",
   "metadata": {
    "hidden": true
   },
   "outputs": [],
   "source": []
  },
  {
   "cell_type": "code",
   "execution_count": null,
   "id": "e822c252",
   "metadata": {
    "hidden": true
   },
   "outputs": [],
   "source": []
  }
 ],
 "metadata": {
  "kernelspec": {
   "display_name": "Python 3 (ipykernel)",
   "language": "python",
   "name": "python3"
  },
  "language_info": {
   "codemirror_mode": {
    "name": "ipython",
    "version": 3
   },
   "file_extension": ".py",
   "mimetype": "text/x-python",
   "name": "python",
   "nbconvert_exporter": "python",
   "pygments_lexer": "ipython3",
   "version": "3.11.0"
  },
  "varInspector": {
   "cols": {
    "lenName": 16,
    "lenType": 16,
    "lenVar": 40
   },
   "kernels_config": {
    "python": {
     "delete_cmd_postfix": "",
     "delete_cmd_prefix": "del ",
     "library": "var_list.py",
     "varRefreshCmd": "print(var_dic_list())"
    },
    "r": {
     "delete_cmd_postfix": ") ",
     "delete_cmd_prefix": "rm(",
     "library": "var_list.r",
     "varRefreshCmd": "cat(var_dic_list()) "
    }
   },
   "types_to_exclude": [
    "module",
    "function",
    "builtin_function_or_method",
    "instance",
    "_Feature"
   ],
   "window_display": false
  }
 },
 "nbformat": 4,
 "nbformat_minor": 5
}

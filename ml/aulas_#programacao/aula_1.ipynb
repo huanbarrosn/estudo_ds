{
 "cells": [
  {
   "cell_type": "markdown",
   "id": "c73069e7",
   "metadata": {
    "heading_collapsed": true
   },
   "source": [
    "## Carregando o dataset "
   ]
  },
  {
   "cell_type": "code",
   "execution_count": 97,
   "id": "c359254b",
   "metadata": {
    "ExecuteTime": {
     "end_time": "2022-12-20T23:23:06.779589Z",
     "start_time": "2022-12-20T23:23:06.776727Z"
    },
    "hidden": true
   },
   "outputs": [],
   "source": [
    "# Importando o dataset\n",
    "import pandas as pd"
   ]
  },
  {
   "cell_type": "code",
   "execution_count": 98,
   "id": "eca45747",
   "metadata": {
    "ExecuteTime": {
     "end_time": "2022-12-20T23:23:07.455304Z",
     "start_time": "2022-12-20T23:23:07.451508Z"
    },
    "hidden": true
   },
   "outputs": [],
   "source": [
    "# Importando o dataset Iris\n",
    "from sklearn.datasets import load_iris"
   ]
  },
  {
   "cell_type": "code",
   "execution_count": 99,
   "id": "8c0f40cb",
   "metadata": {
    "ExecuteTime": {
     "end_time": "2022-12-20T23:23:08.102818Z",
     "start_time": "2022-12-20T23:23:08.095890Z"
    },
    "hidden": true
   },
   "outputs": [],
   "source": [
    "# Carregando o dataset Iris\n",
    "dataset = load_iris()"
   ]
  },
  {
   "cell_type": "code",
   "execution_count": 102,
   "id": "ef1bc20f",
   "metadata": {
    "ExecuteTime": {
     "end_time": "2022-12-20T23:24:29.704342Z",
     "start_time": "2022-12-20T23:24:29.693010Z"
    },
    "hidden": true
   },
   "outputs": [
    {
     "data": {
      "text/html": [
       "<div>\n",
       "<style scoped>\n",
       "    .dataframe tbody tr th:only-of-type {\n",
       "        vertical-align: middle;\n",
       "    }\n",
       "\n",
       "    .dataframe tbody tr th {\n",
       "        vertical-align: top;\n",
       "    }\n",
       "\n",
       "    .dataframe thead th {\n",
       "        text-align: right;\n",
       "    }\n",
       "</style>\n",
       "<table border=\"1\" class=\"dataframe\">\n",
       "  <thead>\n",
       "    <tr style=\"text-align: right;\">\n",
       "      <th></th>\n",
       "      <th>comprimento_sepala (cm)</th>\n",
       "      <th>largura_sepala (cm)</th>\n",
       "      <th>comprimento_petala (cm)</th>\n",
       "      <th>largura_petala (cm)</th>\n",
       "      <th>target</th>\n",
       "    </tr>\n",
       "  </thead>\n",
       "  <tbody>\n",
       "    <tr>\n",
       "      <th>0</th>\n",
       "      <td>5.1</td>\n",
       "      <td>3.5</td>\n",
       "      <td>1.4</td>\n",
       "      <td>0.2</td>\n",
       "      <td>0</td>\n",
       "    </tr>\n",
       "    <tr>\n",
       "      <th>1</th>\n",
       "      <td>4.9</td>\n",
       "      <td>3.0</td>\n",
       "      <td>1.4</td>\n",
       "      <td>0.2</td>\n",
       "      <td>0</td>\n",
       "    </tr>\n",
       "  </tbody>\n",
       "</table>\n",
       "</div>"
      ],
      "text/plain": [
       "   comprimento_sepala (cm)  largura_sepala (cm)  comprimento_petala (cm)  \\\n",
       "0                      5.1                  3.5                      1.4   \n",
       "1                      4.9                  3.0                      1.4   \n",
       "\n",
       "   largura_petala (cm)  target  \n",
       "0                  0.2       0  \n",
       "1                  0.2       0  "
      ]
     },
     "execution_count": 102,
     "metadata": {},
     "output_type": "execute_result"
    }
   ],
   "source": [
    "# Transformando o dataset em um df\n",
    "iris = pd.DataFrame(data = dataset.data, columns=['comprimento_sepala (cm)', 'largura_sepala (cm)', 'comprimento_petala (cm)', 'largura_petala (cm)'])\n",
    "iris.loc[:,'target'] = dataset.target\n",
    "iris.head(2)"
   ]
  },
  {
   "cell_type": "markdown",
   "id": "1c612fb2",
   "metadata": {
    "hidden": true
   },
   "source": [
    "<br>"
   ]
  },
  {
   "cell_type": "markdown",
   "id": "02da8f3c",
   "metadata": {
    "heading_collapsed": true
   },
   "source": [
    "## Utilizando apenas as flores representadas por 0 e 1 🌷🌹"
   ]
  },
  {
   "cell_type": "markdown",
   "id": "a628dbe9",
   "metadata": {
    "hidden": true
   },
   "source": [
    "Vamos compreender como funciona o algoritmo de machine learning **DecisionTreeClassifier** que é baseado em uma arvore de decisão. Para um melhor estudo iremos pegar apenas as flores representadas por **0** e **1**. E das 4 variáveis iremos utilizar apenas as variáveis **comprimento_petala (cm)** e **largura_petala (cm)**."
   ]
  },
  {
   "cell_type": "markdown",
   "id": "728b9491",
   "metadata": {
    "hidden": true
   },
   "source": [
    " "
   ]
  },
  {
   "cell_type": "markdown",
   "id": "1b693e9e",
   "metadata": {
    "hidden": true
   },
   "source": [
    "- Vamos gerar o novo dataset"
   ]
  },
  {
   "cell_type": "code",
   "execution_count": 109,
   "id": "91c29725",
   "metadata": {
    "ExecuteTime": {
     "end_time": "2022-12-20T23:33:14.242259Z",
     "start_time": "2022-12-20T23:33:14.231485Z"
    },
    "hidden": true
   },
   "outputs": [
    {
     "data": {
      "text/html": [
       "<div>\n",
       "<style scoped>\n",
       "    .dataframe tbody tr th:only-of-type {\n",
       "        vertical-align: middle;\n",
       "    }\n",
       "\n",
       "    .dataframe tbody tr th {\n",
       "        vertical-align: top;\n",
       "    }\n",
       "\n",
       "    .dataframe thead th {\n",
       "        text-align: right;\n",
       "    }\n",
       "</style>\n",
       "<table border=\"1\" class=\"dataframe\">\n",
       "  <thead>\n",
       "    <tr style=\"text-align: right;\">\n",
       "      <th></th>\n",
       "      <th>comprimento_petala (cm)</th>\n",
       "      <th>largura_petala (cm)</th>\n",
       "      <th>target</th>\n",
       "    </tr>\n",
       "  </thead>\n",
       "  <tbody>\n",
       "    <tr>\n",
       "      <th>0</th>\n",
       "      <td>1.4</td>\n",
       "      <td>0.2</td>\n",
       "      <td>0</td>\n",
       "    </tr>\n",
       "    <tr>\n",
       "      <th>1</th>\n",
       "      <td>1.4</td>\n",
       "      <td>0.2</td>\n",
       "      <td>0</td>\n",
       "    </tr>\n",
       "  </tbody>\n",
       "</table>\n",
       "</div>"
      ],
      "text/plain": [
       "   comprimento_petala (cm)  largura_petala (cm)  target\n",
       "0                      1.4                  0.2       0\n",
       "1                      1.4                  0.2       0"
      ]
     },
     "execution_count": 109,
     "metadata": {},
     "output_type": "execute_result"
    }
   ],
   "source": [
    "# Neste inicio vamos trabalhar apenas com as flores representadas por 0 e 1 e as colunas das petalas.\n",
    "iris1 = iris.query('target==0 or target==1').loc[:, ['comprimento_petala (cm)', 'largura_petala (cm)', 'target']]\n",
    "iris1.head(2)"
   ]
  },
  {
   "cell_type": "code",
   "execution_count": 111,
   "id": "67d9094c",
   "metadata": {
    "ExecuteTime": {
     "end_time": "2022-12-20T23:34:48.774658Z",
     "start_time": "2022-12-20T23:34:48.768363Z"
    },
    "hidden": true
   },
   "outputs": [],
   "source": [
    "# Separando X e Y\n",
    "x = iris1.drop('target', axis=1)\n",
    "y = iris1['target']"
   ]
  },
  {
   "cell_type": "markdown",
   "id": "87aa8a2b",
   "metadata": {
    "hidden": true
   },
   "source": [
    " <br>"
   ]
  },
  {
   "cell_type": "markdown",
   "id": "3a3c6099",
   "metadata": {
    "hidden": true
   },
   "source": [
    "- Vamos utilizar o train_test_split para separar os nossos dados em treino e teste"
   ]
  },
  {
   "cell_type": "code",
   "execution_count": 112,
   "id": "89456b1f",
   "metadata": {
    "ExecuteTime": {
     "end_time": "2022-12-20T23:35:57.399401Z",
     "start_time": "2022-12-20T23:35:57.392923Z"
    },
    "hidden": true
   },
   "outputs": [],
   "source": [
    "# Splitando os nossos dados para treino e teste\n",
    "from sklearn.model_selection import train_test_split\n",
    "\n",
    "X_train, X_test, y_train, y_test = train_test_split(x, y, test_size=0.33, random_state=42)"
   ]
  },
  {
   "cell_type": "markdown",
   "id": "6230d660",
   "metadata": {
    "ExecuteTime": {
     "end_time": "2022-12-20T20:20:19.211969Z",
     "start_time": "2022-12-20T20:20:19.205500Z"
    },
    "hidden": true
   },
   "source": [
    " <br>"
   ]
  },
  {
   "cell_type": "markdown",
   "id": "084570c2",
   "metadata": {
    "hidden": true
   },
   "source": [
    "- Agora vamos visulisar os dados de treino utilisando o matplotlib"
   ]
  },
  {
   "cell_type": "code",
   "execution_count": 121,
   "id": "8c0ea17d",
   "metadata": {
    "ExecuteTime": {
     "end_time": "2022-12-20T23:45:02.167279Z",
     "start_time": "2022-12-20T23:45:02.045933Z"
    },
    "hidden": true
   },
   "outputs": [
    {
     "data": {
      "image/png": "[encoded data removed]",
      "text/plain": [
       "<Figure size 1000x500 with 1 Axes>"
      ]
     },
     "metadata": {},
     "output_type": "display_data"
    }
   ],
   "source": [
    "# Visualisando como os nossos dados estão classificados\n",
    "import matplotlib.pyplot as plt\n",
    "\n",
    "\n",
    "fig, ax = plt.subplots(figsize=(10, 5))\n",
    "\n",
    "ax.scatter(data= X_train,\n",
    "           x='comprimento_petala (cm)', \n",
    "           y='largura_petala (cm)',\n",
    "           c= y_train)\n",
    "\n",
    "ax.set_title('Pétalas')\n",
    "ax.set_xlabel('Comprimento (cm)', labelpad=20)\n",
    "ax.set_ylabel('Largura (cm)', labelpad=20)\n",
    "\n",
    "plt.show()"
   ]
  },
  {
   "cell_type": "markdown",
   "id": "99789906",
   "metadata": {
    "hidden": true
   },
   "source": [
    " <br>"
   ]
  },
  {
   "cell_type": "markdown",
   "id": "0513c2a9",
   "metadata": {
    "hidden": true
   },
   "source": [
    "- Agora vamos utilisar a arvore de decisão para ver ela classificando esse dados."
   ]
  },
  {
   "cell_type": "code",
   "execution_count": 122,
   "id": "ce53f32a",
   "metadata": {
    "ExecuteTime": {
     "end_time": "2022-12-20T23:47:38.946609Z",
     "start_time": "2022-12-20T23:47:38.944305Z"
    },
    "hidden": true
   },
   "outputs": [],
   "source": [
    "# Importando a arvore de decisão\n",
    "from sklearn import tree"
   ]
  },
  {
   "cell_type": "code",
   "execution_count": 197,
   "id": "cfd2186a",
   "metadata": {
    "ExecuteTime": {
     "end_time": "2022-12-21T02:49:31.581885Z",
     "start_time": "2022-12-21T02:49:31.577783Z"
    },
    "hidden": true
   },
   "outputs": [],
   "source": [
    "# Criando o classificador\n",
    "clf = tree.DecisionTreeClassifier()"
   ]
  },
  {
   "cell_type": "code",
   "execution_count": 198,
   "id": "b0002b52",
   "metadata": {
    "ExecuteTime": {
     "end_time": "2022-12-21T02:49:33.050179Z",
     "start_time": "2022-12-21T02:49:33.043411Z"
    },
    "hidden": true
   },
   "outputs": [],
   "source": [
    "# Fazendo o fit com os dados de treino\n",
    "clf = clf.fit(X_train, Y_train)"
   ]
  },
  {
   "cell_type": "code",
   "execution_count": 199,
   "id": "10f2fadf",
   "metadata": {
    "ExecuteTime": {
     "end_time": "2022-12-21T02:49:33.670644Z",
     "start_time": "2022-12-21T02:49:33.662696Z"
    },
    "hidden": true
   },
   "outputs": [
    {
     "data": {
      "text/plain": [
       "1.0"
      ]
     },
     "execution_count": 199,
     "metadata": {},
     "output_type": "execute_result"
    }
   ],
   "source": [
    "# Verificando o score\n",
    "clf.score(X_train, Y_train)"
   ]
  },
  {
   "cell_type": "markdown",
   "id": "845307b7",
   "metadata": {
    "hidden": true
   },
   "source": [
    "<br>"
   ]
  },
  {
   "cell_type": "markdown",
   "id": "3460b8b3",
   "metadata": {
    "hidden": true
   },
   "source": [
    "- Podemos exibir como essa arvore foi criada"
   ]
  },
  {
   "cell_type": "code",
   "execution_count": 164,
   "id": "20d8acad",
   "metadata": {
    "ExecuteTime": {
     "end_time": "2022-12-21T00:14:03.133697Z",
     "start_time": "2022-12-21T00:14:02.983972Z"
    },
    "hidden": true
   },
   "outputs": [
    {
     "data": {
      "image/png": "[encoded data removed]",
      "text/plain": [
       "<Figure size 500x400 with 1 Axes>"
      ]
     },
     "metadata": {},
     "output_type": "display_data"
    }
   ],
   "source": [
    "# Visualisando a arvore\n",
    "fig, ax = plt.subplots(figsize=(5, 4))\n",
    "tree.plot_tree(clf, feature_names=['comprimento'])\n",
    "plt.show()"
   ]
  },
  {
   "cell_type": "code",
   "execution_count": 159,
   "id": "d736a1d4",
   "metadata": {
    "ExecuteTime": {
     "end_time": "2022-12-21T00:10:56.343069Z",
     "start_time": "2022-12-21T00:10:56.209209Z"
    },
    "hidden": true
   },
   "outputs": [
    {
     "data": {
      "image/png": "[encoded data removed]",
      "text/plain": [
       "<Figure size 1000x500 with 1 Axes>"
      ]
     },
     "metadata": {},
     "output_type": "display_data"
    }
   ],
   "source": [
    "# Vamos visualisar como essa regra se implementa no nosso gráfico\n",
    "import matplotlib.pyplot as plt\n",
    "\n",
    "\n",
    "fig, ax = plt.subplots(figsize=(10, 5))\n",
    "ax.scatter(data=X_train, \n",
    "           x='comprimento_petala (cm)', \n",
    "           y='largura_petala (cm)',\n",
    "           c=y_train)\n",
    "\n",
    "# Traçando uma linha\n",
    "ax.plot([2.45, 2.45], [0.10, 1.6], '--r')\n",
    "\n",
    "# Titulo e labels\n",
    "ax.set_title('Pétalas')\n",
    "ax.set_xlabel('Comprimento (cm)', labelpad=20)\n",
    "ax.set_ylabel('Largura (cm)', labelpad=20)\n",
    "\n",
    "\n",
    "plt.show()"
   ]
  },
  {
   "cell_type": "markdown",
   "id": "8f0e015b",
   "metadata": {
    "hidden": true
   },
   "source": [
    "<br>"
   ]
  },
  {
   "cell_type": "markdown",
   "id": "160a49b7",
   "metadata": {
    "hidden": true
   },
   "source": [
    "- Utilizando o modelo para prever o y dos nossos dados de teste."
   ]
  },
  {
   "cell_type": "code",
   "execution_count": 160,
   "id": "0e81f29f",
   "metadata": {
    "ExecuteTime": {
     "end_time": "2022-12-21T00:11:24.938973Z",
     "start_time": "2022-12-21T00:11:24.932408Z"
    },
    "hidden": true
   },
   "outputs": [
    {
     "data": {
      "text/plain": [
       "array([[19,  0],\n",
       "       [ 0, 14]])"
      ]
     },
     "execution_count": 160,
     "metadata": {},
     "output_type": "execute_result"
    }
   ],
   "source": [
    "# Fazendo a previsão e avaliando o erro\n",
    "y_pred = clf.predict(X_test)\n",
    "\n",
    "from sklearn.metrics import confusion_matrix\n",
    "confusion_matrix(y_true=y_test, y_pred=y_pred) "
   ]
  },
  {
   "cell_type": "code",
   "execution_count": 161,
   "id": "6477b810",
   "metadata": {
    "ExecuteTime": {
     "end_time": "2022-12-21T00:11:28.453590Z",
     "start_time": "2022-12-21T00:11:28.298214Z"
    },
    "hidden": true
   },
   "outputs": [
    {
     "data": {
      "image/png": "[encoded data removed]",
      "text/plain": [
       "<Figure size 1000x500 with 1 Axes>"
      ]
     },
     "metadata": {},
     "output_type": "display_data"
    }
   ],
   "source": [
    "# Visualizando esses dados de teste no gráfico\n",
    "import matplotlib.pyplot as plt\n",
    "\n",
    "\n",
    "fig, ax = plt.subplots(figsize=(10, 5))\n",
    "ax.scatter(data=X_test,\n",
    "           x='comprimento_petala (cm)', \n",
    "           y='largura_petala (cm)',\n",
    "           c=y_pred)\n",
    "\n",
    "# Traçando uma linha\n",
    "ax.plot([2.45, 2.45], [0.10, 1.6], '--r')\n",
    "\n",
    "# Titulo e labels\n",
    "ax.set_title('Petala')\n",
    "ax.set_xlabel('Comprimento (cm)', labelpad=20)\n",
    "ax.set_ylabel('Largura (cm)', labelpad=20)\n",
    "\n",
    "\n",
    "plt.show()"
   ]
  },
  {
   "cell_type": "markdown",
   "id": "152b5770",
   "metadata": {
    "heading_collapsed": true
   },
   "source": [
    "## Utilizando apenas as flores representadas por 1 e 2 🌹🌼"
   ]
  },
  {
   "cell_type": "markdown",
   "id": "88cc6f77",
   "metadata": {
    "hidden": true
   },
   "source": [
    "Vamos fazer a mesmo processo que fizemos no tópico anterior, mas dessa vez iremos utilizar as flores representadas por **1** e **2**. E as mesmas variáveis."
   ]
  },
  {
   "cell_type": "markdown",
   "id": "b00965c5",
   "metadata": {
    "hidden": true
   },
   "source": [
    "- Vamos gerar o novo dataset"
   ]
  },
  {
   "cell_type": "code",
   "execution_count": 206,
   "id": "f45e8c7e",
   "metadata": {
    "ExecuteTime": {
     "end_time": "2022-12-21T03:05:40.894574Z",
     "start_time": "2022-12-21T03:05:40.887055Z"
    },
    "hidden": true
   },
   "outputs": [
    {
     "data": {
      "text/html": [
       "<div>\n",
       "<style scoped>\n",
       "    .dataframe tbody tr th:only-of-type {\n",
       "        vertical-align: middle;\n",
       "    }\n",
       "\n",
       "    .dataframe tbody tr th {\n",
       "        vertical-align: top;\n",
       "    }\n",
       "\n",
       "    .dataframe thead th {\n",
       "        text-align: right;\n",
       "    }\n",
       "</style>\n",
       "<table border=\"1\" class=\"dataframe\">\n",
       "  <thead>\n",
       "    <tr style=\"text-align: right;\">\n",
       "      <th></th>\n",
       "      <th>comprimento_petala (cm)</th>\n",
       "      <th>largura_petala (cm)</th>\n",
       "      <th>target</th>\n",
       "    </tr>\n",
       "  </thead>\n",
       "  <tbody>\n",
       "    <tr>\n",
       "      <th>50</th>\n",
       "      <td>4.7</td>\n",
       "      <td>1.4</td>\n",
       "      <td>1</td>\n",
       "    </tr>\n",
       "    <tr>\n",
       "      <th>51</th>\n",
       "      <td>4.5</td>\n",
       "      <td>1.5</td>\n",
       "      <td>1</td>\n",
       "    </tr>\n",
       "    <tr>\n",
       "      <th>52</th>\n",
       "      <td>4.9</td>\n",
       "      <td>1.5</td>\n",
       "      <td>1</td>\n",
       "    </tr>\n",
       "  </tbody>\n",
       "</table>\n",
       "</div>"
      ],
      "text/plain": [
       "    comprimento_petala (cm)  largura_petala (cm)  target\n",
       "50                      4.7                  1.4       1\n",
       "51                      4.5                  1.5       1\n",
       "52                      4.9                  1.5       1"
      ]
     },
     "execution_count": 206,
     "metadata": {},
     "output_type": "execute_result"
    }
   ],
   "source": [
    "# Separando os dados que queremos analisar\n",
    "iris2 = iris.query(\"target==1 or target==2\").loc[:,['comprimento_petala (cm)', 'largura_petala (cm)', 'target']]\n",
    "iris2.head(3)"
   ]
  },
  {
   "cell_type": "code",
   "execution_count": 207,
   "id": "c0a101f5",
   "metadata": {
    "ExecuteTime": {
     "end_time": "2022-12-21T03:05:44.819168Z",
     "start_time": "2022-12-21T03:05:44.813432Z"
    },
    "hidden": true
   },
   "outputs": [],
   "source": [
    "# Separando x e y \n",
    "x = iris2.drop(labels='target', axis=1)\n",
    "y = iris2['target']"
   ]
  },
  {
   "cell_type": "markdown",
   "id": "3e19bfd4",
   "metadata": {
    "ExecuteTime": {
     "end_time": "2022-12-21T02:25:53.928727Z",
     "start_time": "2022-12-21T02:25:53.919242Z"
    },
    "hidden": true
   },
   "source": [
    "<br>"
   ]
  },
  {
   "cell_type": "markdown",
   "id": "cc25c72e",
   "metadata": {
    "hidden": true
   },
   "source": [
    "- Agora vamos separar os nossos dados em dados de treino e teste"
   ]
  },
  {
   "cell_type": "code",
   "execution_count": 208,
   "id": "f0c6e7c6",
   "metadata": {
    "ExecuteTime": {
     "end_time": "2022-12-21T03:05:47.529285Z",
     "start_time": "2022-12-21T03:05:47.523950Z"
    },
    "hidden": true
   },
   "outputs": [],
   "source": [
    "from sklearn.model_selection import train_test_split\n",
    "X_train, X_test, y_train, y_test = train_test_split(x, y, test_size=0.33, random_state=42)"
   ]
  },
  {
   "cell_type": "markdown",
   "id": "704afdc1",
   "metadata": {
    "hidden": true
   },
   "source": [
    "<br>"
   ]
  },
  {
   "cell_type": "markdown",
   "id": "d4e3c9eb",
   "metadata": {
    "hidden": true
   },
   "source": [
    "- Vamos visualisar os dadados de treino utilizando o matplotlib"
   ]
  },
  {
   "cell_type": "code",
   "execution_count": 212,
   "id": "db07832c",
   "metadata": {
    "ExecuteTime": {
     "end_time": "2022-12-21T03:08:34.611008Z",
     "start_time": "2022-12-21T03:08:34.474370Z"
    },
    "hidden": true
   },
   "outputs": [
    {
     "data": {
      "image/png": "[encoded data removed]",
      "text/plain": [
       "<Figure size 1000x500 with 1 Axes>"
      ]
     },
     "metadata": {},
     "output_type": "display_data"
    }
   ],
   "source": [
    "import matplotlib.pyplot as plt\n",
    "\n",
    "fig,ax = plt.subplots(figsize=(10, 5))\n",
    "\n",
    "ax.scatter(data=X_train,\n",
    "           x='comprimento_petala (cm)',\n",
    "           y='largura_petala (cm)',\n",
    "           c=y_train)\n",
    "\n",
    "plt.show()"
   ]
  },
  {
   "cell_type": "code",
   "execution_count": null,
   "id": "a6a24c12",
   "metadata": {
    "hidden": true
   },
   "outputs": [],
   "source": []
  },
  {
   "cell_type": "code",
   "execution_count": null,
   "id": "5b90ed48",
   "metadata": {
    "hidden": true
   },
   "outputs": [],
   "source": []
  }
 ],
 "metadata": {
  "kernelspec": {
   "display_name": "Python 3 (ipykernel)",
   "language": "python",
   "name": "python3"
  },
  "language_info": {
   "codemirror_mode": {
    "name": "ipython",
    "version": 3
   },
   "file_extension": ".py",
   "mimetype": "text/x-python",
   "name": "python",
   "nbconvert_exporter": "python",
   "pygments_lexer": "ipython3",
   "version": "3.11.0"
  },
  "varInspector": {
   "cols": {
    "lenName": 16,
    "lenType": 16,
    "lenVar": 40
   },
   "kernels_config": {
    "python": {
     "delete_cmd_postfix": "",
     "delete_cmd_prefix": "del ",
     "library": "var_list.py",
     "varRefreshCmd": "print(var_dic_list())"
    },
    "r": {
     "delete_cmd_postfix": ") ",
     "delete_cmd_prefix": "rm(",
     "library": "var_list.r",
     "varRefreshCmd": "cat(var_dic_list()) "
    }
   },
   "types_to_exclude": [
    "module",
    "function",
    "builtin_function_or_method",
    "instance",
    "_Feature"
   ],
   "window_display": false
  }
 },
 "nbformat": 4,
 "nbformat_minor": 5
}

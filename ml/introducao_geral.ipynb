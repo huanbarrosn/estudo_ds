{
 "cells": [
  {
   "cell_type": "markdown",
   "id": "3ef9d771",
   "metadata": {},
   "source": [
    "perguntas:\n",
    "- O que é machine learning\n",
    "- O que são algoritmos de ml e quais tipos existem\n",
    "- Jagões da area de ml"
   ]
  },
  {
   "cell_type": "code",
   "execution_count": 498,
   "id": "6e958642",
   "metadata": {
    "ExecuteTime": {
     "end_time": "2022-12-26T20:29:10.246450Z",
     "start_time": "2022-12-26T20:29:10.242085Z"
    }
   },
   "outputs": [],
   "source": [
    "import numpy as np"
   ]
  },
  {
   "cell_type": "code",
   "execution_count": 509,
   "id": "1558194b",
   "metadata": {
    "ExecuteTime": {
     "end_time": "2022-12-26T20:39:54.587082Z",
     "start_time": "2022-12-26T20:39:54.581044Z"
    }
   },
   "outputs": [],
   "source": [
    "def entropia(lista):\n",
    "    prob = [lista.count(n)/len(lista) for n in set(lista)]\n",
    "    logs = [np.log2(p) for p in prob]\n",
    "    pb = [p*l for p, l in zip(prob, logs)]   \n",
    "    entropia = sum(pb) * (-1)\n",
    "    return entropia"
   ]
  },
  {
   "cell_type": "code",
   "execution_count": 510,
   "id": "bc02684f",
   "metadata": {
    "ExecuteTime": {
     "end_time": "2022-12-26T20:40:27.466910Z",
     "start_time": "2022-12-26T20:40:27.461079Z"
    }
   },
   "outputs": [
    {
     "data": {
      "text/plain": [
       "1.5"
      ]
     },
     "execution_count": 510,
     "metadata": {},
     "output_type": "execute_result"
    }
   ],
   "source": [
    "dados = [2, 3, 4, 2]\n",
    "entropia(dados)"
   ]
  }
 ],
 "metadata": {
  "kernelspec": {
   "display_name": "Python 3 (ipykernel)",
   "language": "python",
   "name": "python3"
  },
  "language_info": {
   "codemirror_mode": {
    "name": "ipython",
    "version": 3
   },
   "file_extension": ".py",
   "mimetype": "text/x-python",
   "name": "python",
   "nbconvert_exporter": "python",
   "pygments_lexer": "ipython3",
   "version": "3.11.1"
  },
  "varInspector": {
   "cols": {
    "lenName": 16,
    "lenType": 16,
    "lenVar": 40
   },
   "kernels_config": {
    "python": {
     "delete_cmd_postfix": "",
     "delete_cmd_prefix": "del ",
     "library": "var_list.py",
     "varRefreshCmd": "print(var_dic_list())"
    },
    "r": {
     "delete_cmd_postfix": ") ",
     "delete_cmd_prefix": "rm(",
     "library": "var_list.r",
     "varRefreshCmd": "cat(var_dic_list()) "
    }
   },
   "types_to_exclude": [
    "module",
    "function",
    "builtin_function_or_method",
    "instance",
    "_Feature"
   ],
   "window_display": false
  }
 },
 "nbformat": 4,
 "nbformat_minor": 5
}

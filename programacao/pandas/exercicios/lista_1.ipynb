{
 "cells": [
  {
   "cell_type": "markdown",
   "id": "87ea4980",
   "metadata": {
    "heading_collapsed": true
   },
   "source": [
    "# <font color=orange>1. Como importar pandas e verificar a versão?<font>\n"
   ]
  },
  {
   "cell_type": "code",
   "execution_count": 1,
   "id": "672c8374",
   "metadata": {
    "ExecuteTime": {
     "end_time": "2022-10-19T18:00:24.409368Z",
     "start_time": "2022-10-19T18:00:24.243837Z"
    },
    "hidden": true
   },
   "outputs": [],
   "source": [
    "import pandas as pd"
   ]
  },
  {
   "cell_type": "markdown",
   "id": "400b35a3",
   "metadata": {
    "heading_collapsed": true
   },
   "source": [
    "#  <font color=orange>2. Como criar uma série a partir de uma lista, array numpy e dict?<font>"
   ]
  },
  {
   "cell_type": "markdown",
   "id": "57b19746",
   "metadata": {
    "hidden": true
   },
   "source": [
    "Crie uma série de pandas de cada um dos itens abaixo: uma lista, numpy e um dicionário. Entrada:\n",
    "\n",
    "lista = list('abcedfghijklmnopqrstuvwxyz')<br>\n",
    "ndarray = np.arange(26)<br>\n",
    "dicionario = dict(zip(lista, ndarray))<br>"
   ]
  },
  {
   "cell_type": "code",
   "execution_count": 7,
   "id": "91421d84",
   "metadata": {
    "ExecuteTime": {
     "end_time": "2022-10-19T18:07:13.289682Z",
     "start_time": "2022-10-19T18:07:13.283731Z"
    },
    "hidden": true
   },
   "outputs": [
    {
     "name": "stdout",
     "output_type": "stream",
     "text": [
      "0     a\n",
      "1     b\n",
      "2     c\n",
      "3     e\n",
      "4     d\n",
      "5     f\n",
      "6     g\n",
      "7     h\n",
      "8     i\n",
      "9     j\n",
      "10    k\n",
      "11    l\n",
      "12    m\n",
      "13    n\n",
      "14    o\n",
      "15    p\n",
      "16    q\n",
      "17    r\n",
      "18    s\n",
      "19    t\n",
      "20    u\n",
      "21    v\n",
      "22    w\n",
      "23    x\n",
      "24    y\n",
      "25    z\n",
      "dtype: object \n",
      "\n",
      "\n",
      "0      0\n",
      "1      1\n",
      "2      2\n",
      "3      3\n",
      "4      4\n",
      "5      5\n",
      "6      6\n",
      "7      7\n",
      "8      8\n",
      "9      9\n",
      "10    10\n",
      "11    11\n",
      "12    12\n",
      "13    13\n",
      "14    14\n",
      "15    15\n",
      "16    16\n",
      "17    17\n",
      "18    18\n",
      "19    19\n",
      "20    20\n",
      "21    21\n",
      "22    22\n",
      "23    23\n",
      "24    24\n",
      "25    25\n",
      "dtype: int64 \n",
      "\n",
      "\n",
      "0     a\n",
      "1     b\n",
      "2     c\n",
      "3     e\n",
      "4     d\n",
      "5     f\n",
      "6     g\n",
      "7     h\n",
      "8     i\n",
      "9     j\n",
      "10    k\n",
      "11    l\n",
      "12    m\n",
      "13    n\n",
      "14    o\n",
      "15    p\n",
      "16    q\n",
      "17    r\n",
      "18    s\n",
      "19    t\n",
      "20    u\n",
      "21    v\n",
      "22    w\n",
      "23    x\n",
      "24    y\n",
      "25    z\n",
      "dtype: object\n"
     ]
    }
   ],
   "source": [
    "lista = list('abcedfghijklmnopqrstuvwxyz')\n",
    "ndarray = np.arange(26)\n",
    "dicionario = dict(zip(ndarray, lista))\n",
    "\n",
    "s1 = pd.Series(lista)\n",
    "print(s1, '\\n\\n')\n",
    "\n",
    "s2 = pd.Series(ndarray)\n",
    "print(s2, '\\n\\n')\n",
    "\n",
    "s3 = pd.Series(dicionario)\n",
    "print(s3)"
   ]
  },
  {
   "cell_type": "markdown",
   "id": "80ffd91d",
   "metadata": {},
   "source": [
    "# <font color=orange> 3. Como converter o índice de uma série em uma coluna de um dataframe?<font>"
   ]
  },
  {
   "cell_type": "markdown",
   "id": "c6287343",
   "metadata": {},
   "source": [
    "Converta a série x em um dataframe com seu índice como outra coluna no dataframe.\n",
    "\n",
    "lista = list('abcedfghijklmnopqrstuvwxyz')<br>\n",
    "ndarray = np.arange(26)<br>\n",
    "dicionario = dict(zip(lista, ndarray))<br>\n",
    "x = pd.Series(dicionario)<br>"
   ]
  },
  {
   "cell_type": "code",
   "execution_count": 11,
   "id": "f0a4effc",
   "metadata": {
    "ExecuteTime": {
     "end_time": "2022-10-19T18:13:17.326215Z",
     "start_time": "2022-10-19T18:13:17.292945Z"
    }
   },
   "outputs": [
    {
     "data": {
      "text/html": [
       "<div>\n",
       "<style scoped>\n",
       "    .dataframe tbody tr th:only-of-type {\n",
       "        vertical-align: middle;\n",
       "    }\n",
       "\n",
       "    .dataframe tbody tr th {\n",
       "        vertical-align: top;\n",
       "    }\n",
       "\n",
       "    .dataframe thead th {\n",
       "        text-align: right;\n",
       "    }\n",
       "</style>\n",
       "<table border=\"1\" class=\"dataframe\">\n",
       "  <thead>\n",
       "    <tr style=\"text-align: right;\">\n",
       "      <th></th>\n",
       "      <th>0</th>\n",
       "    </tr>\n",
       "  </thead>\n",
       "  <tbody>\n",
       "    <tr>\n",
       "      <th>a</th>\n",
       "      <td>0</td>\n",
       "    </tr>\n",
       "    <tr>\n",
       "      <th>b</th>\n",
       "      <td>1</td>\n",
       "    </tr>\n",
       "    <tr>\n",
       "      <th>c</th>\n",
       "      <td>2</td>\n",
       "    </tr>\n",
       "    <tr>\n",
       "      <th>e</th>\n",
       "      <td>3</td>\n",
       "    </tr>\n",
       "    <tr>\n",
       "      <th>d</th>\n",
       "      <td>4</td>\n",
       "    </tr>\n",
       "    <tr>\n",
       "      <th>f</th>\n",
       "      <td>5</td>\n",
       "    </tr>\n",
       "    <tr>\n",
       "      <th>g</th>\n",
       "      <td>6</td>\n",
       "    </tr>\n",
       "    <tr>\n",
       "      <th>h</th>\n",
       "      <td>7</td>\n",
       "    </tr>\n",
       "    <tr>\n",
       "      <th>i</th>\n",
       "      <td>8</td>\n",
       "    </tr>\n",
       "    <tr>\n",
       "      <th>j</th>\n",
       "      <td>9</td>\n",
       "    </tr>\n",
       "    <tr>\n",
       "      <th>k</th>\n",
       "      <td>10</td>\n",
       "    </tr>\n",
       "    <tr>\n",
       "      <th>l</th>\n",
       "      <td>11</td>\n",
       "    </tr>\n",
       "    <tr>\n",
       "      <th>m</th>\n",
       "      <td>12</td>\n",
       "    </tr>\n",
       "    <tr>\n",
       "      <th>n</th>\n",
       "      <td>13</td>\n",
       "    </tr>\n",
       "    <tr>\n",
       "      <th>o</th>\n",
       "      <td>14</td>\n",
       "    </tr>\n",
       "    <tr>\n",
       "      <th>p</th>\n",
       "      <td>15</td>\n",
       "    </tr>\n",
       "    <tr>\n",
       "      <th>q</th>\n",
       "      <td>16</td>\n",
       "    </tr>\n",
       "    <tr>\n",
       "      <th>r</th>\n",
       "      <td>17</td>\n",
       "    </tr>\n",
       "    <tr>\n",
       "      <th>s</th>\n",
       "      <td>18</td>\n",
       "    </tr>\n",
       "    <tr>\n",
       "      <th>t</th>\n",
       "      <td>19</td>\n",
       "    </tr>\n",
       "    <tr>\n",
       "      <th>u</th>\n",
       "      <td>20</td>\n",
       "    </tr>\n",
       "    <tr>\n",
       "      <th>v</th>\n",
       "      <td>21</td>\n",
       "    </tr>\n",
       "    <tr>\n",
       "      <th>w</th>\n",
       "      <td>22</td>\n",
       "    </tr>\n",
       "    <tr>\n",
       "      <th>x</th>\n",
       "      <td>23</td>\n",
       "    </tr>\n",
       "    <tr>\n",
       "      <th>y</th>\n",
       "      <td>24</td>\n",
       "    </tr>\n",
       "    <tr>\n",
       "      <th>z</th>\n",
       "      <td>25</td>\n",
       "    </tr>\n",
       "  </tbody>\n",
       "</table>\n",
       "</div>"
      ],
      "text/plain": [
       "    0\n",
       "a   0\n",
       "b   1\n",
       "c   2\n",
       "e   3\n",
       "d   4\n",
       "f   5\n",
       "g   6\n",
       "h   7\n",
       "i   8\n",
       "j   9\n",
       "k  10\n",
       "l  11\n",
       "m  12\n",
       "n  13\n",
       "o  14\n",
       "p  15\n",
       "q  16\n",
       "r  17\n",
       "s  18\n",
       "t  19\n",
       "u  20\n",
       "v  21\n",
       "w  22\n",
       "x  23\n",
       "y  24\n",
       "z  25"
      ]
     },
     "execution_count": 11,
     "metadata": {},
     "output_type": "execute_result"
    }
   ],
   "source": [
    "lista = list('abcedfghijklmnopqrstuvwxyz')\n",
    "ndarray = np.arange(26)\n",
    "dicionario = dict(zip(lista, ndarray))\n",
    "x = pd.Series(dicionario)\n",
    "\n",
    "df = pd.DataFrame(x)\n",
    "df"
   ]
  },
  {
   "cell_type": "code",
   "execution_count": null,
   "id": "a9e5e4ac",
   "metadata": {},
   "outputs": [],
   "source": []
  },
  {
   "cell_type": "markdown",
   "id": "2c4c999f",
   "metadata": {},
   "source": [
    " <font color=orange> <font>"
   ]
  },
  {
   "cell_type": "markdown",
   "id": "9c863a28",
   "metadata": {},
   "source": [
    " <font color=orange> <font>"
   ]
  },
  {
   "cell_type": "markdown",
   "id": "3852bd68",
   "metadata": {},
   "source": [
    " <font color=orange> <font>"
   ]
  },
  {
   "cell_type": "markdown",
   "id": "7fa8241c",
   "metadata": {},
   "source": [
    " <font color=orange> <font>"
   ]
  }
 ],
 "metadata": {
  "kernelspec": {
   "display_name": "Python 3 (ipykernel)",
   "language": "python",
   "name": "python3"
  },
  "language_info": {
   "codemirror_mode": {
    "name": "ipython",
    "version": 3
   },
   "file_extension": ".py",
   "mimetype": "text/x-python",
   "name": "python",
   "nbconvert_exporter": "python",
   "pygments_lexer": "ipython3",
   "version": "3.10.7"
  },
  "varInspector": {
   "cols": {
    "lenName": 16,
    "lenType": 16,
    "lenVar": 40
   },
   "kernels_config": {
    "python": {
     "delete_cmd_postfix": "",
     "delete_cmd_prefix": "del ",
     "library": "var_list.py",
     "varRefreshCmd": "print(var_dic_list())"
    },
    "r": {
     "delete_cmd_postfix": ") ",
     "delete_cmd_prefix": "rm(",
     "library": "var_list.r",
     "varRefreshCmd": "cat(var_dic_list()) "
    }
   },
   "types_to_exclude": [
    "module",
    "function",
    "builtin_function_or_method",
    "instance",
    "_Feature"
   ],
   "window_display": false
  }
 },
 "nbformat": 4,
 "nbformat_minor": 5
}

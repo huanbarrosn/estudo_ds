{
 "cells": [
  {
   "cell_type": "markdown",
   "id": "3415b6b0",
   "metadata": {
    "heading_collapsed": true
   },
   "source": [
    "# <font color=red>1. Como importar pandas e verificar a versão?<font>\n"
   ]
  },
  {
   "cell_type": "code",
   "execution_count": 1,
   "id": "4956bbbb",
   "metadata": {
    "ExecuteTime": {
     "end_time": "2022-10-19T18:00:24.409368Z",
     "start_time": "2022-10-19T18:00:24.243837Z"
    },
    "hidden": true
   },
   "outputs": [],
   "source": [
    "import pandas as pd"
   ]
  },
  {
   "cell_type": "markdown",
   "id": "3cc1a3a5",
   "metadata": {
    "heading_collapsed": true
   },
   "source": [
    "#  <font color=red>2. Como criar uma série a partir de uma lista, array numpy e dict?<font>"
   ]
  },
  {
   "cell_type": "markdown",
   "id": "ccecb322",
   "metadata": {
    "hidden": true
   },
   "source": [
    "Crie uma série de pandas de cada um dos itens abaixo: uma lista, numpy e um dicionário. Entrada:\n",
    "\n",
    "lista = list('abcedfghijklmnopqrstuvwxyz')<br>\n",
    "ndarray = np.arange(26)<br>\n",
    "dicionario = dict(zip(lista, ndarray))<br>"
   ]
  },
  {
   "cell_type": "code",
   "execution_count": 7,
   "id": "2fc47366",
   "metadata": {
    "ExecuteTime": {
     "end_time": "2022-10-19T18:07:13.289682Z",
     "start_time": "2022-10-19T18:07:13.283731Z"
    },
    "hidden": true
   },
   "outputs": [
    {
     "name": "stdout",
     "output_type": "stream",
     "text": [
      "0     a\n",
      "1     b\n",
      "2     c\n",
      "3     e\n",
      "4     d\n",
      "5     f\n",
      "6     g\n",
      "7     h\n",
      "8     i\n",
      "9     j\n",
      "10    k\n",
      "11    l\n",
      "12    m\n",
      "13    n\n",
      "14    o\n",
      "15    p\n",
      "16    q\n",
      "17    r\n",
      "18    s\n",
      "19    t\n",
      "20    u\n",
      "21    v\n",
      "22    w\n",
      "23    x\n",
      "24    y\n",
      "25    z\n",
      "dtype: object \n",
      "\n",
      "\n",
      "0      0\n",
      "1      1\n",
      "2      2\n",
      "3      3\n",
      "4      4\n",
      "5      5\n",
      "6      6\n",
      "7      7\n",
      "8      8\n",
      "9      9\n",
      "10    10\n",
      "11    11\n",
      "12    12\n",
      "13    13\n",
      "14    14\n",
      "15    15\n",
      "16    16\n",
      "17    17\n",
      "18    18\n",
      "19    19\n",
      "20    20\n",
      "21    21\n",
      "22    22\n",
      "23    23\n",
      "24    24\n",
      "25    25\n",
      "dtype: int64 \n",
      "\n",
      "\n",
      "0     a\n",
      "1     b\n",
      "2     c\n",
      "3     e\n",
      "4     d\n",
      "5     f\n",
      "6     g\n",
      "7     h\n",
      "8     i\n",
      "9     j\n",
      "10    k\n",
      "11    l\n",
      "12    m\n",
      "13    n\n",
      "14    o\n",
      "15    p\n",
      "16    q\n",
      "17    r\n",
      "18    s\n",
      "19    t\n",
      "20    u\n",
      "21    v\n",
      "22    w\n",
      "23    x\n",
      "24    y\n",
      "25    z\n",
      "dtype: object\n"
     ]
    }
   ],
   "source": [
    "lista = list('abcedfghijklmnopqrstuvwxyz')\n",
    "ndarray = np.arange(26)\n",
    "dicionario = dict(zip(ndarray, lista))\n",
    "\n",
    "s1 = pd.Series(lista)\n",
    "print(s1, '\\n\\n')\n",
    "\n",
    "s2 = pd.Series(ndarray)\n",
    "print(s2, '\\n\\n')\n",
    "\n",
    "s3 = pd.Series(dicionario)\n",
    "print(s3)"
   ]
  },
  {
   "cell_type": "markdown",
   "id": "c6a9c469",
   "metadata": {
    "heading_collapsed": true
   },
   "source": [
    "# <font color=red> 3. Como converter o índice de uma série em uma coluna de um dataframe?<font>"
   ]
  },
  {
   "cell_type": "markdown",
   "id": "78f352d5",
   "metadata": {
    "hidden": true
   },
   "source": [
    "Converta a série x em um dataframe com seu índice como outra coluna no dataframe.\n",
    "\n",
    "lista = list('abcedfghijklmnopqrstuvwxyz')<br>\n",
    "ndarray = np.arange(26)<br>\n",
    "dicionario = dict(zip(lista, ndarray))<br>\n",
    "x = pd.Series(dicionario)<br>"
   ]
  },
  {
   "cell_type": "code",
   "execution_count": 16,
   "id": "56cdeea4",
   "metadata": {
    "ExecuteTime": {
     "end_time": "2022-10-19T18:50:59.971790Z",
     "start_time": "2022-10-19T18:50:59.949194Z"
    },
    "hidden": true
   },
   "outputs": [
    {
     "data": {
      "text/html": [
       "<div>\n",
       "<style scoped>\n",
       "    .dataframe tbody tr th:only-of-type {\n",
       "        vertical-align: middle;\n",
       "    }\n",
       "\n",
       "    .dataframe tbody tr th {\n",
       "        vertical-align: top;\n",
       "    }\n",
       "\n",
       "    .dataframe thead th {\n",
       "        text-align: right;\n",
       "    }\n",
       "</style>\n",
       "<table border=\"1\" class=\"dataframe\">\n",
       "  <thead>\n",
       "    <tr style=\"text-align: right;\">\n",
       "      <th></th>\n",
       "      <th>level_0</th>\n",
       "      <th>index</th>\n",
       "      <th>coluna</th>\n",
       "    </tr>\n",
       "  </thead>\n",
       "  <tbody>\n",
       "    <tr>\n",
       "      <th>0</th>\n",
       "      <td>0</td>\n",
       "      <td>a</td>\n",
       "      <td>0</td>\n",
       "    </tr>\n",
       "    <tr>\n",
       "      <th>1</th>\n",
       "      <td>1</td>\n",
       "      <td>b</td>\n",
       "      <td>1</td>\n",
       "    </tr>\n",
       "    <tr>\n",
       "      <th>2</th>\n",
       "      <td>2</td>\n",
       "      <td>c</td>\n",
       "      <td>2</td>\n",
       "    </tr>\n",
       "    <tr>\n",
       "      <th>3</th>\n",
       "      <td>3</td>\n",
       "      <td>e</td>\n",
       "      <td>3</td>\n",
       "    </tr>\n",
       "    <tr>\n",
       "      <th>4</th>\n",
       "      <td>4</td>\n",
       "      <td>d</td>\n",
       "      <td>4</td>\n",
       "    </tr>\n",
       "    <tr>\n",
       "      <th>5</th>\n",
       "      <td>5</td>\n",
       "      <td>f</td>\n",
       "      <td>5</td>\n",
       "    </tr>\n",
       "    <tr>\n",
       "      <th>6</th>\n",
       "      <td>6</td>\n",
       "      <td>g</td>\n",
       "      <td>6</td>\n",
       "    </tr>\n",
       "    <tr>\n",
       "      <th>7</th>\n",
       "      <td>7</td>\n",
       "      <td>h</td>\n",
       "      <td>7</td>\n",
       "    </tr>\n",
       "    <tr>\n",
       "      <th>8</th>\n",
       "      <td>8</td>\n",
       "      <td>i</td>\n",
       "      <td>8</td>\n",
       "    </tr>\n",
       "    <tr>\n",
       "      <th>9</th>\n",
       "      <td>9</td>\n",
       "      <td>j</td>\n",
       "      <td>9</td>\n",
       "    </tr>\n",
       "    <tr>\n",
       "      <th>10</th>\n",
       "      <td>10</td>\n",
       "      <td>k</td>\n",
       "      <td>10</td>\n",
       "    </tr>\n",
       "    <tr>\n",
       "      <th>11</th>\n",
       "      <td>11</td>\n",
       "      <td>l</td>\n",
       "      <td>11</td>\n",
       "    </tr>\n",
       "    <tr>\n",
       "      <th>12</th>\n",
       "      <td>12</td>\n",
       "      <td>m</td>\n",
       "      <td>12</td>\n",
       "    </tr>\n",
       "    <tr>\n",
       "      <th>13</th>\n",
       "      <td>13</td>\n",
       "      <td>n</td>\n",
       "      <td>13</td>\n",
       "    </tr>\n",
       "    <tr>\n",
       "      <th>14</th>\n",
       "      <td>14</td>\n",
       "      <td>o</td>\n",
       "      <td>14</td>\n",
       "    </tr>\n",
       "    <tr>\n",
       "      <th>15</th>\n",
       "      <td>15</td>\n",
       "      <td>p</td>\n",
       "      <td>15</td>\n",
       "    </tr>\n",
       "    <tr>\n",
       "      <th>16</th>\n",
       "      <td>16</td>\n",
       "      <td>q</td>\n",
       "      <td>16</td>\n",
       "    </tr>\n",
       "    <tr>\n",
       "      <th>17</th>\n",
       "      <td>17</td>\n",
       "      <td>r</td>\n",
       "      <td>17</td>\n",
       "    </tr>\n",
       "    <tr>\n",
       "      <th>18</th>\n",
       "      <td>18</td>\n",
       "      <td>s</td>\n",
       "      <td>18</td>\n",
       "    </tr>\n",
       "    <tr>\n",
       "      <th>19</th>\n",
       "      <td>19</td>\n",
       "      <td>t</td>\n",
       "      <td>19</td>\n",
       "    </tr>\n",
       "    <tr>\n",
       "      <th>20</th>\n",
       "      <td>20</td>\n",
       "      <td>u</td>\n",
       "      <td>20</td>\n",
       "    </tr>\n",
       "    <tr>\n",
       "      <th>21</th>\n",
       "      <td>21</td>\n",
       "      <td>v</td>\n",
       "      <td>21</td>\n",
       "    </tr>\n",
       "    <tr>\n",
       "      <th>22</th>\n",
       "      <td>22</td>\n",
       "      <td>w</td>\n",
       "      <td>22</td>\n",
       "    </tr>\n",
       "    <tr>\n",
       "      <th>23</th>\n",
       "      <td>23</td>\n",
       "      <td>x</td>\n",
       "      <td>23</td>\n",
       "    </tr>\n",
       "    <tr>\n",
       "      <th>24</th>\n",
       "      <td>24</td>\n",
       "      <td>y</td>\n",
       "      <td>24</td>\n",
       "    </tr>\n",
       "    <tr>\n",
       "      <th>25</th>\n",
       "      <td>25</td>\n",
       "      <td>z</td>\n",
       "      <td>25</td>\n",
       "    </tr>\n",
       "  </tbody>\n",
       "</table>\n",
       "</div>"
      ],
      "text/plain": [
       "    level_0 index  coluna\n",
       "0         0     a       0\n",
       "1         1     b       1\n",
       "2         2     c       2\n",
       "3         3     e       3\n",
       "4         4     d       4\n",
       "5         5     f       5\n",
       "6         6     g       6\n",
       "7         7     h       7\n",
       "8         8     i       8\n",
       "9         9     j       9\n",
       "10       10     k      10\n",
       "11       11     l      11\n",
       "12       12     m      12\n",
       "13       13     n      13\n",
       "14       14     o      14\n",
       "15       15     p      15\n",
       "16       16     q      16\n",
       "17       17     r      17\n",
       "18       18     s      18\n",
       "19       19     t      19\n",
       "20       20     u      20\n",
       "21       21     v      21\n",
       "22       22     w      22\n",
       "23       23     x      23\n",
       "24       24     y      24\n",
       "25       25     z      25"
      ]
     },
     "execution_count": 16,
     "metadata": {},
     "output_type": "execute_result"
    }
   ],
   "source": [
    "lista = list('abcedfghijklmnopqrstuvwxyz')\n",
    "ndarray = np.arange(26)\n",
    "dicionario = dict(zip(lista, ndarray))\n",
    "x = pd.Series(dicionario)\n",
    "\n",
    "df = x.to_frame('coluna').reset_index()\n",
    "df.reset_index()"
   ]
  },
  {
   "cell_type": "code",
   "execution_count": null,
   "id": "6f29ca30",
   "metadata": {
    "hidden": true
   },
   "outputs": [],
   "source": []
  },
  {
   "cell_type": "markdown",
   "id": "c46a8758",
   "metadata": {
    "hidden": true
   },
   "source": [
    " <font color=orange> <font>"
   ]
  },
  {
   "cell_type": "markdown",
   "id": "b23f60f5",
   "metadata": {
    "hidden": true
   },
   "source": [
    " <font color=orange> <font>"
   ]
  },
  {
   "cell_type": "markdown",
   "id": "d31760ff",
   "metadata": {
    "hidden": true
   },
   "source": [
    " <font color=orange> <font>"
   ]
  },
  {
   "cell_type": "markdown",
   "id": "284c1243",
   "metadata": {
    "hidden": true
   },
   "source": [
    " <font color=orange> <font>"
   ]
  }
 ],
 "metadata": {
  "kernelspec": {
   "display_name": "Python 3 (ipykernel)",
   "language": "python",
   "name": "python3"
  },
  "language_info": {
   "codemirror_mode": {
    "name": "ipython",
    "version": 3
   },
   "file_extension": ".py",
   "mimetype": "text/x-python",
   "name": "python",
   "nbconvert_exporter": "python",
   "pygments_lexer": "ipython3",
   "version": "3.10.7"
  },
  "varInspector": {
   "cols": {
    "lenName": 16,
    "lenType": 16,
    "lenVar": 40
   },
   "kernels_config": {
    "python": {
     "delete_cmd_postfix": "",
     "delete_cmd_prefix": "del ",
     "library": "var_list.py",
     "varRefreshCmd": "print(var_dic_list())"
    },
    "r": {
     "delete_cmd_postfix": ") ",
     "delete_cmd_prefix": "rm(",
     "library": "var_list.r",
     "varRefreshCmd": "cat(var_dic_list()) "
    }
   },
   "types_to_exclude": [
    "module",
    "function",
    "builtin_function_or_method",
    "instance",
    "_Feature"
   ],
   "window_display": false
  }
 },
 "nbformat": 4,
 "nbformat_minor": 5
}

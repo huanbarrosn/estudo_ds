{
 "cells": [
  {
   "cell_type": "markdown",
   "id": "868cc62a",
   "metadata": {
    "heading_collapsed": true
   },
   "source": [
    "# 🎯 Introdução"
   ]
  },
  {
   "cell_type": "markdown",
   "id": "3db434ab",
   "metadata": {
    "heading_collapsed": true,
    "hidden": true
   },
   "source": [
    "##  👾 <font size=5>Porque pandas?<font>"
   ]
  },
  {
   "cell_type": "markdown",
   "id": "ceca2fa5",
   "metadata": {
    "hidden": true
   },
   "source": [
    "- [Pandas](https://pandas.pydata.org/) é um pacote que oferece estrutura de dados rapidas, fexiveis e expressivas projetadas para tornar o trabalho com dados \"Relacionais\" ou \"Rotulados/Indexados\" fácil e intuitivo. \n",
    "\n",
    "- O pandas é a biblioteca mais utilizada para manipulação de dados.\n",
    "\n",
    "- Tem uma sintaxe simples.\n",
    "\n",
    "- Possui comandos muito importante para tratar e tirar insights."
   ]
  },
  {
   "cell_type": "markdown",
   "id": "0944c5e6",
   "metadata": {
    "heading_collapsed": true,
    "hidden": true
   },
   "source": [
    "##  👾 <font size=5>O que é o pandas?<font>"
   ]
  },
  {
   "cell_type": "markdown",
   "id": "8f8a6ab4",
   "metadata": {
    "hidden": true
   },
   "source": [
    "- O pandas é uma biblioteca python criada por Wes Mckinney.\n",
    "- Por debaixo do panos o pandas utiliza o numpy para ser mais eficiente e muitos dos seus bits algoritmicos de baixo nivel foram extensivamente ajustados no código Cython. \n",
    "- Cria e manipula estruturas unidimencionais e bidimensionais.\n",
    "- Tem integração com matplotlib para visualização de dados.\n",
    "- Fornece muitas funcionalidadades para a preparação de dados: reshaping, merging, ordenação, slince, agregação, etc.\n",
    "- Permite a crição de novas colunas derivadas (muito importante para machine learning).\n",
    "- Permite o tratamento de dados faltantes (também essencial para machine learning)."
   ]
  },
  {
   "cell_type": "markdown",
   "id": "ad69b3d7",
   "metadata": {
    "heading_collapsed": true,
    "hidden": true
   },
   "source": [
    "##  👾 <font size=5>Estrutura de dados do pandas<font>"
   ]
  },
  {
   "cell_type": "markdown",
   "id": "65f04195",
   "metadata": {
    "hidden": true
   },
   "source": [
    "As duas estrutura de dados primária do pandas são:\n",
    "- Series: Array de tipo homogêneo rotulado e contém 1 dimensão.\n",
    "- DataFrame: Estrutura tabular de tamanho mutável e rotulado, contém 2 dimenções com coluna potencialmente heterogênea.\n",
    "\n",
    "Todas as estruturas de dados pandas são mutáveis em valor (os valores que elas contém podem ser alterados), mas nem sempre mutáveis em tamanho. O comprimento de uma \"Series\" não pode ser alterado, mas por exemplo, colunas podem ser inseridas em um DataFrame, no entanto a grande maioria dos métodos produz novos objetos.\n",
    "\n",
    "Veremos mais sobre essas dus estruturas mais adiante."
   ]
  },
  {
   "cell_type": "markdown",
   "id": "870fb71a",
   "metadata": {
    "heading_collapsed": true,
    "hidden": true
   },
   "source": [
    "##  👾 <font size=5>O necessário para manipular dados no pandas<font>"
   ]
  },
  {
   "cell_type": "markdown",
   "id": "6fdf5baf",
   "metadata": {
    "hidden": true
   },
   "source": [
    "* Criação de objetos\n",
    "* Entrada e saída de dados\n",
    "* Visualizando dados\n",
    "* Gráficos\n",
    "* Seleção\n",
    "* Operações\n",
    "* Agregações e Junções (Merge vs Join)\n",
    "* Agrupamento (Grouping)\n",
    "* Remodelagem\n",
    "* Dados ausentes\n",
    "* Séries Temporais\n",
    "* Categóricos\n",
    "* Lidando com Erros"
   ]
  },
  {
   "cell_type": "markdown",
   "id": "dbadb2e3",
   "metadata": {
    "heading_collapsed": true
   },
   "source": [
    "# 🎯 Instalação"
   ]
  },
  {
   "cell_type": "markdown",
   "id": "a916bf19",
   "metadata": {
    "hidden": true
   },
   "source": [
    "Para instalar o pandas existem várias maneiras, a que eu vou apresentar você vai precisar ter o jupyter [notebook](https://jupyter.org/install#jupyter-notebook) e o [python](https://www.python.org/downloads/) instalados."
   ]
  },
  {
   "cell_type": "markdown",
   "id": "2babbb29",
   "metadata": {
    "hidden": true
   },
   "source": [
    "Agora você abre o jupyter e roda esse comando para instalar o pandas."
   ]
  },
  {
   "cell_type": "code",
   "execution_count": 1,
   "id": "ba64c6dc",
   "metadata": {
    "ExecuteTime": {
     "end_time": "2022-10-20T21:27:33.780474Z",
     "start_time": "2022-10-20T21:27:32.846937Z"
    },
    "hidden": true
   },
   "outputs": [
    {
     "name": "stdout",
     "output_type": "stream",
     "text": [
      "Defaulting to user installation because normal site-packages is not writeable\n",
      "Requirement already satisfied: pandas in /home/audax/.local/lib/python3.10/site-packages (1.4.4)\n",
      "Requirement already satisfied: numpy>=1.21.0 in /home/audax/.local/lib/python3.10/site-packages (from pandas) (1.23.2)\n",
      "Requirement already satisfied: python-dateutil>=2.8.1 in /home/audax/.local/lib/python3.10/site-packages (from pandas) (2.8.2)\n",
      "Requirement already satisfied: pytz>=2020.1 in /home/audax/.local/lib/python3.10/site-packages (from pandas) (2022.2.1)\n",
      "Requirement already satisfied: six>=1.5 in /usr/lib/python3.10/site-packages (from python-dateutil>=2.8.1->pandas) (1.16.0)\n"
     ]
    }
   ],
   "source": [
    "!pip install pandas"
   ]
  },
  {
   "cell_type": "markdown",
   "id": "78c07afa",
   "metadata": {
    "ExecuteTime": {
     "end_time": "2022-10-04T23:42:41.746363Z",
     "start_time": "2022-10-04T23:42:41.736161Z"
    },
    "hidden": true
   },
   "source": [
    "Rode esse outro comando para conferir a versão do pandas"
   ]
  },
  {
   "cell_type": "code",
   "execution_count": 2,
   "id": "eb69e4fe",
   "metadata": {
    "ExecuteTime": {
     "end_time": "2022-10-20T21:27:33.991551Z",
     "start_time": "2022-10-20T21:27:33.786138Z"
    },
    "hidden": true
   },
   "outputs": [
    {
     "data": {
      "text/plain": [
       "'1.4.4'"
      ]
     },
     "execution_count": 2,
     "metadata": {},
     "output_type": "execute_result"
    }
   ],
   "source": [
    "import pandas\n",
    "pandas.__version__"
   ]
  },
  {
   "cell_type": "markdown",
   "id": "2fb31067",
   "metadata": {
    "heading_collapsed": true
   },
   "source": [
    "# 🎯 Convenção de importação"
   ]
  },
  {
   "cell_type": "markdown",
   "id": "cce78954",
   "metadata": {
    "hidden": true
   },
   "source": [
    "O acordo feito pela comunidade pandas escolheu o apelido 'pd' como padrão para utilizar na hora da importação. Para que outras pessoas possam ler o seu código sem dificuldades é bom usar pd."
   ]
  },
  {
   "cell_type": "code",
   "execution_count": 3,
   "id": "65fe6a34",
   "metadata": {
    "ExecuteTime": {
     "end_time": "2022-10-20T21:27:33.997469Z",
     "start_time": "2022-10-20T21:27:33.993824Z"
    },
    "hidden": true
   },
   "outputs": [],
   "source": [
    "import pandas as pd "
   ]
  },
  {
   "cell_type": "markdown",
   "id": "a05d99ca",
   "metadata": {
    "heading_collapsed": true
   },
   "source": [
    "# 🎯  Series"
   ]
  },
  {
   "cell_type": "markdown",
   "id": "bf7f0cc6",
   "metadata": {
    "ExecuteTime": {
     "end_time": "2022-10-14T18:30:23.316236Z",
     "start_time": "2022-10-14T18:30:23.311835Z"
    },
    "heading_collapsed": true,
    "hidden": true
   },
   "source": [
    "##  👾 <font size=5>Definição<font>"
   ]
  },
  {
   "cell_type": "markdown",
   "id": "b1542751",
   "metadata": {
    "hidden": true
   },
   "source": [
    "<br>\n",
    "Series é uma matriz rotulada unidimensional que pode receber diversos tipos dados como entrada, por exemplo, str, bool, int, float, uma lista, um 1D np.ndarray, alguns objetos python e etc. <br><br>\n",
    "\n",
    "Já os dados que podem ser armazenados nas colunas de uma Series são: str, int, float, bool, dados categóricos e mais ...<br><br>\n",
    "\n",
    "obs: Dentro de uma Series pode haver uma salada de dados, no entanto vale ressalatar que o pandas é implementado usando o numpy, então se você colocar uma salada mista de dados dentro uma Series ela irá perder performace e muitas das suas vantangens.<br><br>\n",
    "\n",
    "<img src='https://pythonru.com/wp-content/uploads/2020/05/struktura-obekta-series.png' style='float:left'>"
   ]
  },
  {
   "cell_type": "markdown",
   "id": "c9e5899b",
   "metadata": {
    "hidden": true
   },
   "source": [
    " <br>"
   ]
  },
  {
   "cell_type": "markdown",
   "id": "ff442231",
   "metadata": {
    "heading_collapsed": true,
    "hidden": true
   },
   "source": [
    "##  👾 <font size=5>Parametros de criação<font>"
   ]
  },
  {
   "cell_type": "markdown",
   "id": "300a0d3d",
   "metadata": {
    "hidden": true
   },
   "source": [
    "<br>\n",
    "Os parametros para a criação de uma Series estão logo abaixo junto com a explicação de cada um. \n",
    "\n",
    "No entanto caso você queira beber da fonte o link está [aqui](https://pandas.pydata.org/docs/reference/api/pandas.Series.html?highlight=pandas%20series#pandas.Series).<br><br>\n",
    "\n",
    "### <font color=purple>_pandas.Series (_<font>\n",
    "<br>\n",
    "\n",
    "**data** =  None<br> \n",
    "**index** =  None<br>\n",
    "**dtype** =  None<br>\n",
    "**name** =  None<br>\n",
    "**copy** =  False<br>\n",
    "\n",
    "### <font color=purple>_)_<font>\n",
    "<br>"
   ]
  },
  {
   "cell_type": "markdown",
   "id": "b8b8db3c",
   "metadata": {
    "hidden": true
   },
   "source": [
    "\n",
    "### <font color=purple>data : array-like, Iterable, dict, or scalar value<font>"
   ]
  },
  {
   "cell_type": "markdown",
   "id": "f0d1b15a",
   "metadata": {
    "hidden": true
   },
   "source": [
    "O parâmetro data recebe um objeto python que será transformado em uma Series. Esse objeto pode ser uma iterable, um dicionário, um int, uma str, etc.\n",
    "\n",
    "Quando você for passar ao parâmetro **data** alguma iterable, é bom lembrar que o pandas utiliza o numpy por baixo do capor, por isso passar uma iterable com elementos que possuem tipos de dados diferentes fará com que você tenha uma Series pouco performática. Você pode até criar uma Series que contém uma salada mista de dados, mas o ideal é utilizar apenas um tipo de dado."
   ]
  },
  {
   "cell_type": "markdown",
   "id": "039bf36e",
   "metadata": {
    "hidden": true
   },
   "source": [
    " "
   ]
  },
  {
   "cell_type": "markdown",
   "id": "088f9d42",
   "metadata": {
    "hidden": true
   },
   "source": [
    "Agora vamos criar uma Series a partir de uma lista e também apartir de um valor do tipo int."
   ]
  },
  {
   "cell_type": "code",
   "execution_count": 4,
   "id": "668f7642",
   "metadata": {
    "ExecuteTime": {
     "end_time": "2022-10-20T21:27:34.006724Z",
     "start_time": "2022-10-20T21:27:34.001814Z"
    },
    "hidden": true
   },
   "outputs": [
    {
     "name": "stdout",
     "output_type": "stream",
     "text": [
      "--se1-- \n",
      "0    A\n",
      "1    B\n",
      "2    C\n",
      "3    D\n",
      "dtype: object\n",
      "\n",
      "\n",
      "--se2-- \n",
      "0    2\n",
      "dtype: int64\n"
     ]
    }
   ],
   "source": [
    "se1 = pd.Series(data=['A', 'B', 'C', 'D'])\n",
    "print(f'--se1-- \\n{se1}')\n",
    "\n",
    "print('\\n')\n",
    "\n",
    "se2 = pd.Series(data=2)\n",
    "print(f'--se2-- \\n{se2}')"
   ]
  },
  {
   "cell_type": "markdown",
   "id": "09321f09",
   "metadata": {
    "hidden": true
   },
   "source": [
    " <br>"
   ]
  },
  {
   "cell_type": "markdown",
   "id": "f1ee9d14",
   "metadata": {
    "hidden": true
   },
   "source": [
    "Criando uma Series que contém uma salada mista de dados."
   ]
  },
  {
   "cell_type": "code",
   "execution_count": 5,
   "id": "fff88168",
   "metadata": {
    "ExecuteTime": {
     "end_time": "2022-10-20T21:27:34.013833Z",
     "start_time": "2022-10-20T21:27:34.008401Z"
    },
    "hidden": true
   },
   "outputs": [
    {
     "data": {
      "text/plain": [
       "0    Audax\n",
       "1       18\n",
       "2     1.81\n",
       "3        M\n",
       "4     True\n",
       "dtype: object"
      ]
     },
     "execution_count": 5,
     "metadata": {},
     "output_type": "execute_result"
    }
   ],
   "source": [
    "se = pd.Series(data=['Audax', 18, 1.81, 'M', True])\n",
    "se"
   ]
  },
  {
   "cell_type": "markdown",
   "id": "6b689069",
   "metadata": {
    "hidden": true
   },
   "source": [
    " <br>"
   ]
  },
  {
   "cell_type": "markdown",
   "id": "dd9624ae",
   "metadata": {
    "hidden": true
   },
   "source": [
    "Quando criamos uma Series a partir de um dicionário, as chaves do dicionário se tornarão os indices da Series e os valores da chaves se tornarão os elementos da Series. Mais adiante falaremos melhor sobre como funciona os indices de uma Series."
   ]
  },
  {
   "cell_type": "code",
   "execution_count": 6,
   "id": "a9ed2a1f",
   "metadata": {
    "ExecuteTime": {
     "end_time": "2022-10-20T21:27:34.020076Z",
     "start_time": "2022-10-20T21:27:34.015413Z"
    },
    "hidden": true
   },
   "outputs": [
    {
     "data": {
      "text/plain": [
       "Nome         Audax\n",
       "Idade           18\n",
       "Sexo     Masculino\n",
       "dtype: object"
      ]
     },
     "execution_count": 6,
     "metadata": {},
     "output_type": "execute_result"
    }
   ],
   "source": [
    "dicionario = {\n",
    "    'Nome' : 'Audax',\n",
    "    'Idade': 18,\n",
    "    'Sexo': 'Masculino'\n",
    "}\n",
    "\n",
    "se = pd.Series(data=dicionario)\n",
    "se"
   ]
  },
  {
   "cell_type": "markdown",
   "id": "0717e1d1",
   "metadata": {
    "hidden": true
   },
   "source": [
    " <br> "
   ]
  },
  {
   "cell_type": "markdown",
   "id": "df8f1012",
   "metadata": {
    "hidden": true
   },
   "source": [
    "\n",
    "### <font color=purple>index : array-like or Index (1d) <font>"
   ]
  },
  {
   "cell_type": "markdown",
   "id": "a4677642",
   "metadata": {
    "hidden": true
   },
   "source": [
    "Antes de tudo precisamos entender como os indices de uma Series funciona. \n",
    "\n",
    "Uma Series tem 3 tipos de indices: \n",
    "\n",
    "**Indice negativo:** São valores negativos usados para representar os índices de uma Series. Para entendermos como isso acontece, o último elemento fica na posição -1, o penúltimo fica na posição -2, o antepenúltimo, na posição -3 e assim por diante. \n",
    "\n",
    "\n",
    "**Indice padrão:** Funciona como parecido como os indices de uma lista. O primeiro elemento tem indice 0, o segundo tem indice 1 e assim por diante. O que difere esse indice do indice de uma lista é a maneira como cada um é armazenado na memória, mais para frente veremos esse assunto.\n",
    "\n",
    "\n",
    "**Index label:** Quando você defini os indices da uma Series ou DataFrame você está trabalhando com o index label (no português rótulo de indice). É possivel alterá-los sempre que necessário. "
   ]
  },
  {
   "cell_type": "markdown",
   "id": "fd7755c4",
   "metadata": {
    "hidden": true
   },
   "source": [
    "---"
   ]
  },
  {
   "cell_type": "markdown",
   "id": "dea0d6f7",
   "metadata": {
    "hidden": true
   },
   "source": [
    "Nesse primeiro momento não iremos ver como selecionar elementos ou fatias de uma Series. Apena iresmo aprender como definir os indices de uma Series."
   ]
  },
  {
   "cell_type": "markdown",
   "id": "007cdbf9",
   "metadata": {
    "hidden": true
   },
   "source": [
    "---"
   ]
  },
  {
   "cell_type": "markdown",
   "id": "200378b0",
   "metadata": {
    "hidden": true
   },
   "source": [
    "O parâmetro **index** serve para definir os index labels de uma Series. Você passa uma lista com o mesmo tamanho que o objeto passado ao parâmetro **data**, composta por qualquer tipo de dado, desde que esses dados sejam [hashable](https://stackoverflow.com/questions/14535730/what-does-hashable-mean-in-python). Quando não definimos o index label, a Series adota por padrão o RangeIndex (0, 1, 2, …, n)."
   ]
  },
  {
   "cell_type": "code",
   "execution_count": 7,
   "id": "0ae12697",
   "metadata": {
    "ExecuteTime": {
     "end_time": "2022-10-20T21:27:34.026641Z",
     "start_time": "2022-10-20T21:27:34.021390Z"
    },
    "hidden": true
   },
   "outputs": [
    {
     "data": {
      "text/plain": [
       "0      Audax\n",
       "1     Netuno\n",
       "2    Ciclope\n",
       "dtype: object"
      ]
     },
     "execution_count": 7,
     "metadata": {},
     "output_type": "execute_result"
    }
   ],
   "source": [
    "# Criando uma Series sem o index label\n",
    "\n",
    "se = pd.Series(data=['Audax', 'Netuno', 'Ciclope'])\n",
    "se"
   ]
  },
  {
   "cell_type": "code",
   "execution_count": 8,
   "id": "0da6f498",
   "metadata": {
    "ExecuteTime": {
     "end_time": "2022-10-20T21:27:34.033672Z",
     "start_time": "2022-10-20T21:27:34.028227Z"
    },
    "hidden": true
   },
   "outputs": [
    {
     "data": {
      "text/plain": [
       "nome1      Audax\n",
       "nome2     Netuno\n",
       "nome3    Ciclope\n",
       "dtype: object"
      ]
     },
     "execution_count": 8,
     "metadata": {},
     "output_type": "execute_result"
    }
   ],
   "source": [
    "# Criando uma Series e definindo o index label\n",
    "se = pd.Series(data=['Audax', 'Netuno', 'Ciclope'], index=['nome1', 'nome2', 'nome3'])\n",
    "se"
   ]
  },
  {
   "cell_type": "code",
   "execution_count": 9,
   "id": "142b8b81",
   "metadata": {
    "ExecuteTime": {
     "end_time": "2022-10-20T21:27:34.039899Z",
     "start_time": "2022-10-20T21:27:34.035323Z"
    },
    "hidden": true
   },
   "outputs": [
    {
     "data": {
      "text/plain": [
       "nome1      Audax\n",
       "2.5       Netuno\n",
       "2        Ciclope\n",
       "True       Spike\n",
       "dtype: object"
      ]
     },
     "execution_count": 9,
     "metadata": {},
     "output_type": "execute_result"
    }
   ],
   "source": [
    "# Definindo um index label muito louco\n",
    "se = pd.Series(data=['Audax', 'Netuno', 'Ciclope', 'Spike'], index=['nome1', 2.5, 2, True])\n",
    "se"
   ]
  },
  {
   "cell_type": "markdown",
   "id": "45cf628d",
   "metadata": {
    "hidden": true
   },
   "source": [
    " <br>"
   ]
  },
  {
   "cell_type": "markdown",
   "id": "10575653",
   "metadata": {
    "hidden": true
   },
   "source": [
    "É importante lembrar que é possivel usar o indice negativo e o indice padrão após o index label ser definido, menos quando o index label for definido por valores do tipo int ou float. Nesse caso o index label meio que sobrescrevece os outros tipos de indices."
   ]
  },
  {
   "cell_type": "code",
   "execution_count": 10,
   "id": "5cf93ebd",
   "metadata": {
    "ExecuteTime": {
     "end_time": "2022-10-20T21:27:34.048798Z",
     "start_time": "2022-10-20T21:27:34.042652Z"
    },
    "hidden": true
   },
   "outputs": [
    {
     "data": {
      "text/plain": [
       "-2.0       Audax\n",
       " 13.3     Netuno\n",
       " 10.0    Ciclope\n",
       " 0.0       Spike\n",
       "dtype: object"
      ]
     },
     "execution_count": 10,
     "metadata": {},
     "output_type": "execute_result"
    }
   ],
   "source": [
    "# Definindo um index label com valores numericos, mas que não remete ao RangeIndex(0, 1, 2, ..., n)\n",
    "se = pd.Series(data=['Audax', 'Netuno', 'Ciclope', 'Spike'], index=[-2, 13.3, 10, 0])\n",
    "se"
   ]
  },
  {
   "cell_type": "markdown",
   "id": "9b756c63",
   "metadata": {
    "hidden": true
   },
   "source": [
    " <br>"
   ]
  },
  {
   "cell_type": "markdown",
   "id": "e70a7168",
   "metadata": {
    "hidden": true
   },
   "source": [
    "Parece meio estranho, mas podemos ter valores de índices iguais, quando buscamos pelo indice, ele tráz todos os elementos 'apontados' por aquele indice (todas as linhas que tem referência daquele índice)."
   ]
  },
  {
   "cell_type": "code",
   "execution_count": 11,
   "id": "5bd2cf8b",
   "metadata": {
    "ExecuteTime": {
     "end_time": "2022-10-20T21:27:34.057355Z",
     "start_time": "2022-10-20T21:27:34.051232Z"
    },
    "hidden": true
   },
   "outputs": [
    {
     "name": "stdout",
     "output_type": "stream",
     "text": [
      "A      Audax\n",
      "A     Netuno\n",
      "B    Ciclope\n",
      "C      Spike\n",
      "dtype: object \n",
      "\n"
     ]
    },
    {
     "data": {
      "text/plain": [
       "A     Audax\n",
       "A    Netuno\n",
       "dtype: object"
      ]
     },
     "execution_count": 11,
     "metadata": {},
     "output_type": "execute_result"
    }
   ],
   "source": [
    "# Definindo um index label com valores de indices repetidos\n",
    "se = pd.Series(data=['Audax', 'Netuno', 'Ciclope', 'Spike'], index=['A', 'A', 'B', 'C'])\n",
    "print(se, '\\n')\n",
    "\n",
    "# Selecionando os valores que correspondem ao indice 'A'\n",
    "se['A']"
   ]
  },
  {
   "cell_type": "markdown",
   "id": "47be14f8",
   "metadata": {
    "hidden": true
   },
   "source": [
    " <br>"
   ]
  },
  {
   "cell_type": "markdown",
   "id": "14c7b672",
   "metadata": {
    "hidden": true
   },
   "source": [
    "\n",
    "### <font color=purple>dtype : str, numpy.dtype, or ExtensionDtype, optional <font>"
   ]
  },
  {
   "cell_type": "markdown",
   "id": "26145f78",
   "metadata": {
    "hidden": true
   },
   "source": [
    "Esse parâmetro serve para definirmos o tipo de dado dos elementos de uma Series. Se não definirmos o tipo, o pandas infere a partir dos dados. É bem importante que uma Series tenha elementos com o mesmo tipo de dado, pois assim você terá mais eficiencia e muitas vantangens para manipulá-la."
   ]
  },
  {
   "cell_type": "code",
   "execution_count": 12,
   "id": "f7a9b3c3",
   "metadata": {
    "ExecuteTime": {
     "end_time": "2022-10-20T21:27:34.063492Z",
     "start_time": "2022-10-20T21:27:34.058536Z"
    },
    "hidden": true
   },
   "outputs": [
    {
     "name": "stdout",
     "output_type": "stream",
     "text": [
      "float64\n"
     ]
    }
   ],
   "source": [
    "# Usando uma string para definir o dtype de uma Series \n",
    "se = pd.Series(data=[18, 25, 19, 31], dtype='float') # Poderia ser 'str32', 'str16', 'int8', 'int32', 'bool', etc.\n",
    "print(se.dtype)"
   ]
  },
  {
   "cell_type": "code",
   "execution_count": 13,
   "id": "72d2cf95",
   "metadata": {
    "ExecuteTime": {
     "end_time": "2022-10-20T21:27:34.069937Z",
     "start_time": "2022-10-20T21:27:34.064730Z"
    },
    "hidden": true
   },
   "outputs": [
    {
     "name": "stdout",
     "output_type": "stream",
     "text": [
      "float64\n"
     ]
    }
   ],
   "source": [
    "# Usando o numpy.dtype para definir o dtype de uma Series\n",
    "se = pd.Series(data=[18, 25, 19, 31], dtype=np.float64)\n",
    "print(se.dtype)"
   ]
  },
  {
   "cell_type": "markdown",
   "id": "554fe66b",
   "metadata": {
    "hidden": true
   },
   "source": [
    " <br>"
   ]
  },
  {
   "cell_type": "markdown",
   "id": "5a89fd26",
   "metadata": {
    "hidden": true
   },
   "source": [
    "Quando uma Series tem uma salada mista de dados ou os dados são do tipo str, o dtype dela é defido pelo pandas como object."
   ]
  },
  {
   "cell_type": "code",
   "execution_count": 14,
   "id": "2485fd28",
   "metadata": {
    "ExecuteTime": {
     "end_time": "2022-10-20T21:27:34.076602Z",
     "start_time": "2022-10-20T21:27:34.071265Z"
    },
    "hidden": true
   },
   "outputs": [
    {
     "name": "stdout",
     "output_type": "stream",
     "text": [
      "object\n",
      "object\n"
     ]
    }
   ],
   "source": [
    "se1 = pd.Series(data=['Audax', 18, 'M', 1.81])\n",
    "se2 = pd.Series(data=['A', 'B', 'C', 'D'])\n",
    "\n",
    "print(se1.dtype)\n",
    "print(se2.dtype)"
   ]
  },
  {
   "cell_type": "markdown",
   "id": "ac63fc90",
   "metadata": {
    "hidden": true
   },
   "source": [
    " <br>"
   ]
  },
  {
   "cell_type": "markdown",
   "id": "fd77f0d6",
   "metadata": {
    "hidden": true
   },
   "source": [
    "Cuidado na hora conversão, para não tentar fazer conversões que não sejam possiveis."
   ]
  },
  {
   "cell_type": "code",
   "execution_count": 15,
   "id": "548fb928",
   "metadata": {
    "ExecuteTime": {
     "end_time": "2022-10-20T21:27:35.252306Z",
     "start_time": "2022-10-20T21:27:34.077949Z"
    },
    "hidden": true
   },
   "outputs": [
    {
     "ename": "ValueError",
     "evalue": "Trying to coerce float values to integers",
     "output_type": "error",
     "traceback": [
      "\u001b[0;31m---------------------------------------------------------------------------\u001b[0m",
      "\u001b[0;31mValueError\u001b[0m                                Traceback (most recent call last)",
      "Input \u001b[0;32mIn [15]\u001b[0m, in \u001b[0;36m<cell line: 1>\u001b[0;34m()\u001b[0m\n\u001b[0;32m----> 1\u001b[0m se1 \u001b[38;5;241m=\u001b[39m \u001b[43mpd\u001b[49m\u001b[38;5;241;43m.\u001b[39;49m\u001b[43mSeries\u001b[49m\u001b[43m(\u001b[49m\u001b[43mdata\u001b[49m\u001b[38;5;241;43m=\u001b[39;49m\u001b[43m[\u001b[49m\u001b[38;5;241;43m18.1\u001b[39;49m\u001b[43m,\u001b[49m\u001b[43m \u001b[49m\u001b[38;5;241;43m25.3\u001b[39;49m\u001b[43m,\u001b[49m\u001b[43m \u001b[49m\u001b[38;5;241;43m19.7\u001b[39;49m\u001b[43m,\u001b[49m\u001b[43m \u001b[49m\u001b[38;5;241;43m31.8\u001b[39;49m\u001b[43m]\u001b[49m\u001b[43m,\u001b[49m\u001b[43m \u001b[49m\u001b[43mdtype\u001b[49m\u001b[38;5;241;43m=\u001b[39;49m\u001b[38;5;124;43m'\u001b[39;49m\u001b[38;5;124;43mint64\u001b[39;49m\u001b[38;5;124;43m'\u001b[39;49m\u001b[43m)\u001b[49m\n",
      "File \u001b[0;32m~/.local/lib/python3.10/site-packages/pandas/core/series.py:451\u001b[0m, in \u001b[0;36mSeries.__init__\u001b[0;34m(self, data, index, dtype, name, copy, fastpath)\u001b[0m\n\u001b[1;32m    449\u001b[0m         data \u001b[38;5;241m=\u001b[39m data\u001b[38;5;241m.\u001b[39mcopy()\n\u001b[1;32m    450\u001b[0m \u001b[38;5;28;01melse\u001b[39;00m:\n\u001b[0;32m--> 451\u001b[0m     data \u001b[38;5;241m=\u001b[39m \u001b[43msanitize_array\u001b[49m\u001b[43m(\u001b[49m\u001b[43mdata\u001b[49m\u001b[43m,\u001b[49m\u001b[43m \u001b[49m\u001b[43mindex\u001b[49m\u001b[43m,\u001b[49m\u001b[43m \u001b[49m\u001b[43mdtype\u001b[49m\u001b[43m,\u001b[49m\u001b[43m \u001b[49m\u001b[43mcopy\u001b[49m\u001b[43m)\u001b[49m\n\u001b[1;32m    453\u001b[0m     manager \u001b[38;5;241m=\u001b[39m get_option(\u001b[38;5;124m\"\u001b[39m\u001b[38;5;124mmode.data_manager\u001b[39m\u001b[38;5;124m\"\u001b[39m)\n\u001b[1;32m    454\u001b[0m     \u001b[38;5;28;01mif\u001b[39;00m manager \u001b[38;5;241m==\u001b[39m \u001b[38;5;124m\"\u001b[39m\u001b[38;5;124mblock\u001b[39m\u001b[38;5;124m\"\u001b[39m:\n",
      "File \u001b[0;32m~/.local/lib/python3.10/site-packages/pandas/core/construction.py:594\u001b[0m, in \u001b[0;36msanitize_array\u001b[0;34m(data, index, dtype, copy, raise_cast_failure, allow_2d)\u001b[0m\n\u001b[1;32m    591\u001b[0m     data \u001b[38;5;241m=\u001b[39m \u001b[38;5;28mlist\u001b[39m(data)\n\u001b[1;32m    593\u001b[0m \u001b[38;5;28;01mif\u001b[39;00m dtype \u001b[38;5;129;01mis\u001b[39;00m \u001b[38;5;129;01mnot\u001b[39;00m \u001b[38;5;28;01mNone\u001b[39;00m \u001b[38;5;129;01mor\u001b[39;00m \u001b[38;5;28mlen\u001b[39m(data) \u001b[38;5;241m==\u001b[39m \u001b[38;5;241m0\u001b[39m:\n\u001b[0;32m--> 594\u001b[0m     subarr \u001b[38;5;241m=\u001b[39m \u001b[43m_try_cast\u001b[49m\u001b[43m(\u001b[49m\u001b[43mdata\u001b[49m\u001b[43m,\u001b[49m\u001b[43m \u001b[49m\u001b[43mdtype\u001b[49m\u001b[43m,\u001b[49m\u001b[43m \u001b[49m\u001b[43mcopy\u001b[49m\u001b[43m,\u001b[49m\u001b[43m \u001b[49m\u001b[43mraise_cast_failure\u001b[49m\u001b[43m)\u001b[49m\n\u001b[1;32m    595\u001b[0m \u001b[38;5;28;01melse\u001b[39;00m:\n\u001b[1;32m    596\u001b[0m     subarr \u001b[38;5;241m=\u001b[39m maybe_convert_platform(data)\n",
      "File \u001b[0;32m~/.local/lib/python3.10/site-packages/pandas/core/construction.py:779\u001b[0m, in \u001b[0;36m_try_cast\u001b[0;34m(arr, dtype, copy, raise_cast_failure)\u001b[0m\n\u001b[1;32m    773\u001b[0m \u001b[38;5;28;01mtry\u001b[39;00m:\n\u001b[1;32m    774\u001b[0m     \u001b[38;5;66;03m# GH#15832: Check if we are requesting a numeric dtype and\u001b[39;00m\n\u001b[1;32m    775\u001b[0m     \u001b[38;5;66;03m# that we can convert the data to the requested dtype.\u001b[39;00m\n\u001b[1;32m    776\u001b[0m     \u001b[38;5;28;01mif\u001b[39;00m is_integer_dtype(dtype):\n\u001b[1;32m    777\u001b[0m         \u001b[38;5;66;03m# this will raise if we have e.g. floats\u001b[39;00m\n\u001b[0;32m--> 779\u001b[0m         subarr \u001b[38;5;241m=\u001b[39m \u001b[43mmaybe_cast_to_integer_array\u001b[49m\u001b[43m(\u001b[49m\u001b[43marr\u001b[49m\u001b[43m,\u001b[49m\u001b[43m \u001b[49m\u001b[43mdtype\u001b[49m\u001b[43m)\u001b[49m\n\u001b[1;32m    780\u001b[0m     \u001b[38;5;28;01melse\u001b[39;00m:\n\u001b[1;32m    781\u001b[0m         \u001b[38;5;66;03m# 4 tests fail if we move this to a try/except/else; see\u001b[39;00m\n\u001b[1;32m    782\u001b[0m         \u001b[38;5;66;03m#  test_constructor_compound_dtypes, test_constructor_cast_failure\u001b[39;00m\n\u001b[1;32m    783\u001b[0m         \u001b[38;5;66;03m#  test_constructor_dict_cast2, test_loc_setitem_dtype\u001b[39;00m\n\u001b[1;32m    784\u001b[0m         subarr \u001b[38;5;241m=\u001b[39m np\u001b[38;5;241m.\u001b[39marray(arr, dtype\u001b[38;5;241m=\u001b[39mdtype, copy\u001b[38;5;241m=\u001b[39mcopy)\n",
      "File \u001b[0;32m~/.local/lib/python3.10/site-packages/pandas/core/dtypes/cast.py:2060\u001b[0m, in \u001b[0;36mmaybe_cast_to_integer_array\u001b[0;34m(arr, dtype, copy)\u001b[0m\n\u001b[1;32m   2056\u001b[0m     \u001b[38;5;28;01mif\u001b[39;00m \u001b[38;5;129;01mnot\u001b[39;00m np\u001b[38;5;241m.\u001b[39misfinite(arr)\u001b[38;5;241m.\u001b[39mall():\n\u001b[1;32m   2057\u001b[0m         \u001b[38;5;28;01mraise\u001b[39;00m IntCastingNaNError(\n\u001b[1;32m   2058\u001b[0m             \u001b[38;5;124m\"\u001b[39m\u001b[38;5;124mCannot convert non-finite values (NA or inf) to integer\u001b[39m\u001b[38;5;124m\"\u001b[39m\n\u001b[1;32m   2059\u001b[0m         )\n\u001b[0;32m-> 2060\u001b[0m     \u001b[38;5;28;01mraise\u001b[39;00m \u001b[38;5;167;01mValueError\u001b[39;00m(\u001b[38;5;124m\"\u001b[39m\u001b[38;5;124mTrying to coerce float values to integers\u001b[39m\u001b[38;5;124m\"\u001b[39m)\n\u001b[1;32m   2061\u001b[0m \u001b[38;5;28;01mif\u001b[39;00m is_object_dtype(arr\u001b[38;5;241m.\u001b[39mdtype):\n\u001b[1;32m   2062\u001b[0m     \u001b[38;5;28;01mraise\u001b[39;00m \u001b[38;5;167;01mValueError\u001b[39;00m(\u001b[38;5;124m\"\u001b[39m\u001b[38;5;124mTrying to coerce float values to integers\u001b[39m\u001b[38;5;124m\"\u001b[39m)\n",
      "\u001b[0;31mValueError\u001b[0m: Trying to coerce float values to integers"
     ]
    }
   ],
   "source": [
    "se1 = pd.Series(data=[18.1, 25.3, 19.7, 31.8], dtype='int64')"
   ]
  },
  {
   "cell_type": "markdown",
   "id": "6964face",
   "metadata": {
    "hidden": true
   },
   "source": [
    " <br>"
   ]
  },
  {
   "cell_type": "markdown",
   "id": "457d6ab3",
   "metadata": {
    "hidden": true
   },
   "source": [
    "\n",
    "### <font color=purple>name : str, optional <font>"
   ]
  },
  {
   "cell_type": "markdown",
   "id": "bf193c09",
   "metadata": {
    "hidden": true
   },
   "source": [
    "Serve para nomear uma Series, deve ser passado uma string. Se uma Serie for transformada numa coluna de um dataframe, o nome dela será usado como o rótulo da coluna do dataframe."
   ]
  },
  {
   "cell_type": "code",
   "execution_count": null,
   "id": "5638a562",
   "metadata": {
    "ExecuteTime": {
     "end_time": "2022-10-20T21:27:35.280185Z",
     "start_time": "2022-10-20T21:27:35.280175Z"
    },
    "hidden": true
   },
   "outputs": [],
   "source": [
    "se = pd.Series(data=[13, 18, 17, 20, 23], name='Idade')\n",
    "se"
   ]
  },
  {
   "cell_type": "markdown",
   "id": "bfcc2df2",
   "metadata": {
    "hidden": true
   },
   "source": [
    " <br>"
   ]
  },
  {
   "cell_type": "markdown",
   "id": "68149f06",
   "metadata": {
    "hidden": true
   },
   "source": [
    "\n",
    "### <font color=purple>copy : bool, default False <font>"
   ]
  },
  {
   "cell_type": "markdown",
   "id": "eda4e3b2",
   "metadata": {
    "hidden": true
   },
   "source": [
    "Faz uma cópia do objeto de entrada. Afeta apenas a entrada Série ou 1d ndarray."
   ]
  },
  {
   "cell_type": "code",
   "execution_count": null,
   "id": "4fb6c833",
   "metadata": {
    "ExecuteTime": {
     "end_time": "2022-10-20T21:27:35.280922Z",
     "start_time": "2022-10-20T21:27:35.280914Z"
    },
    "hidden": true
   },
   "outputs": [],
   "source": [
    "import numpy as np\n",
    "\n",
    "# Criando um nd array para usar no exemplo\n",
    "x = np.array([12, 13, 15, 11, 10])\n",
    "print(x)\n",
    "\n",
    "# Criando 2 Series, uma é uma copia e a outra apenas um tipo de apontamento para x\n",
    "se1 = pd.Series(data=x, copy=True)\n",
    "se2 = pd.Series(data=x, copy=False)\n",
    "\n",
    "# Modificando o a variável x\n",
    "x[0] = 99\n",
    "\n",
    "# Mostrando as 2 Series e a variável x\n",
    "print(x, '\\n')\n",
    "print(f'**se1** \\n{se1}\\n')\n",
    "print(f'**se2** \\n{se2}\\n')"
   ]
  },
  {
   "cell_type": "markdown",
   "id": "aca205d4",
   "metadata": {
    "heading_collapsed": true,
    "hidden": true
   },
   "source": [
    "##  👾 <font size=5>Indexação basica<font>"
   ]
  },
  {
   "cell_type": "markdown",
   "id": "f05df7ad",
   "metadata": {
    "hidden": true
   },
   "source": [
    "Vimos anteriormente que uma Series possui 3 tipos de indices: **Indice negativo**, **Indice padão** e **Index\n",
    "label**. Quando não definimos o index label podemos selecionar elementos de uma Series apenas usando o indice padrão. Já para selecionar intervalos podemos utilizar o indice padrão ou indece negativo."
   ]
  },
  {
   "cell_type": "code",
   "execution_count": 42,
   "id": "4cd9cc7c",
   "metadata": {
    "ExecuteTime": {
     "end_time": "2022-10-20T21:44:02.620848Z",
     "start_time": "2022-10-20T21:44:02.612066Z"
    },
    "hidden": true
   },
   "outputs": [
    {
     "name": "stdout",
     "output_type": "stream",
     "text": [
      "Mike \n",
      "\n",
      "\n",
      "2    Mike\n",
      "3    Xuxa\n",
      "dtype: object \n",
      "\n",
      "\n",
      "1    Spike\n",
      "2     Mike\n",
      "3     Xuxa\n",
      "dtype: object\n"
     ]
    },
    {
     "data": {
      "text/plain": [
       "RangeIndex(start=0, stop=5, step=1)"
      ]
     },
     "execution_count": 42,
     "metadata": {},
     "output_type": "execute_result"
    }
   ],
   "source": [
    "se = pd.Series('Audax Spike Mike Xuxa Ana'.split())\n",
    "\n",
    "# selecionando um único elemento\n",
    "print(se[2], '\\n\\n')\n",
    "\n",
    "# selecionando elementos especificos\n",
    "print(se[[2, 3]], '\\n\\n')\n",
    "\n",
    "# selecionando um intervalo de elementos\n",
    "print(se[-4:-1]) \n",
    "se.index"
   ]
  },
  {
   "cell_type": "markdown",
   "id": "8d838753",
   "metadata": {
    "hidden": true
   },
   "source": [
    " <br>"
   ]
  },
  {
   "cell_type": "markdown",
   "id": "54cc35f1",
   "metadata": {
    "hidden": true
   },
   "source": [
    "Quando definimos os index labels de uma Series como valores inteiros ou float, só poderemos acessar os itens dessa Series utilizando o index label. Já para selecionar intervalos podemos utilizar o indice padrão ou indice negativo."
   ]
  },
  {
   "cell_type": "code",
   "execution_count": 44,
   "id": "b99ee2df",
   "metadata": {
    "ExecuteTime": {
     "end_time": "2022-10-20T21:45:02.343675Z",
     "start_time": "2022-10-20T21:45:02.333983Z"
    },
    "hidden": true
   },
   "outputs": [
    {
     "name": "stdout",
     "output_type": "stream",
     "text": [
      "Audax \n",
      "\n",
      "\n",
      "10    Audax\n",
      "20    Spike\n",
      "dtype: object \n",
      "\n",
      "\n",
      "20    Spike\n",
      "30     Mike\n",
      "40     Xuxa\n",
      "dtype: object\n"
     ]
    }
   ],
   "source": [
    "se = pd.Series('Audax Spike Mike Xuxa Ana'.split(), index = [10, 20, 30, 40, 50])\n",
    "\n",
    "# selecionando um único elemento\n",
    "print(se[10], '\\n\\n')\n",
    "\n",
    "# selecionando elementos especificos\n",
    "print(se[[10, 20]], '\\n\\n')\n",
    "\n",
    "# selecionando um intervalo de elementos\n",
    "print(se[1:4])"
   ]
  },
  {
   "cell_type": "markdown",
   "id": "e3c21c58",
   "metadata": {
    "hidden": true
   },
   "source": [
    " <br>"
   ]
  },
  {
   "cell_type": "markdown",
   "id": "336724f3",
   "metadata": {
    "hidden": true
   },
   "source": [
    "Por fim, quando definimos os index labels de uma Series como strings ou outro tipo de dado que não seja float ou int, poderemos acessar os elementos da Series utilizando os 3 tipos de indice. Para selecionar intervalos podemos também utilizar os 3 tipos de indice."
   ]
  },
  {
   "cell_type": "code",
   "execution_count": 50,
   "id": "506fb62b",
   "metadata": {
    "ExecuteTime": {
     "end_time": "2022-10-20T21:47:21.691372Z",
     "start_time": "2022-10-20T21:47:21.685381Z"
    },
    "hidden": true,
    "scrolled": true
   },
   "outputs": [
    {
     "name": "stdout",
     "output_type": "stream",
     "text": [
      "Audax\n",
      "Audax\n",
      "Audax\n"
     ]
    }
   ],
   "source": [
    "se = pd.Series('Audax Spike Mike Xuxa Ana'.split(), index = 'a b c d e'.split())\n",
    "\n",
    "# selecionando um único elemento\n",
    "print(se['a'])\n",
    "print(se[0])\n",
    "print(se[-5])"
   ]
  },
  {
   "cell_type": "code",
   "execution_count": 52,
   "id": "6546fa09",
   "metadata": {
    "ExecuteTime": {
     "end_time": "2022-10-20T21:47:41.629391Z",
     "start_time": "2022-10-20T21:47:41.620672Z"
    },
    "hidden": true
   },
   "outputs": [
    {
     "name": "stdout",
     "output_type": "stream",
     "text": [
      "a    Audax\n",
      "b    Spike\n",
      "dtype: object \n",
      "\n",
      "a    Audax\n",
      "b    Spike\n",
      "dtype: object \n",
      "\n",
      "a    Audax\n",
      "b    Spike\n",
      "dtype: object\n"
     ]
    }
   ],
   "source": [
    "# selecionando elementos especificos\n",
    "print(se[['a', 'b']],'\\n')\n",
    "print(se[[0, 1]],'\\n')\n",
    "print(se[[-5, -4]])"
   ]
  },
  {
   "cell_type": "code",
   "execution_count": 53,
   "id": "edb49522",
   "metadata": {
    "ExecuteTime": {
     "end_time": "2022-10-20T21:47:44.237363Z",
     "start_time": "2022-10-20T21:47:44.227976Z"
    },
    "hidden": true,
    "scrolled": true
   },
   "outputs": [
    {
     "name": "stdout",
     "output_type": "stream",
     "text": [
      "c    Mike\n",
      "d    Xuxa\n",
      "dtype: object \n",
      "\n",
      "c    Mike\n",
      "d    Xuxa\n",
      "dtype: object \n",
      "\n",
      "c    Mike\n",
      "d    Xuxa\n",
      "dtype: object\n"
     ]
    }
   ],
   "source": [
    "# selecionando um intervalo de elementos\n",
    "print(se['c':'d'],'\\n') # perceba que o elemento que se encontra na posição 'd' é selecionado \n",
    "print(se[2:4], '\\n')\n",
    "print(se[-3:-1])"
   ]
  },
  {
   "cell_type": "markdown",
   "id": "e8e56f28",
   "metadata": {
    "hidden": true
   },
   "source": [
    " <br>"
   ]
  },
  {
   "cell_type": "markdown",
   "id": "ce6fcaff",
   "metadata": {
    "hidden": true
   },
   "source": [
    "O **range index** (index default da Series) deixa a Series ocupando menos espaço na memória do que o **int64 index** (tipo de indice de uma lista e outras iterables), pois em vez de armazenar o indice de cada elemento na memória ele guarada apenas o start, stop e o step, ou seja, o **primeiro indice**, o **ultimo indice** e a **razão entre os indices**."
   ]
  },
  {
   "cell_type": "code",
   "execution_count": null,
   "id": "79c81d87",
   "metadata": {
    "ExecuteTime": {
     "end_time": "2022-10-20T21:27:35.285886Z",
     "start_time": "2022-10-20T21:27:35.285876Z"
    },
    "hidden": true
   },
   "outputs": [],
   "source": [
    "import sys\n",
    "\n",
    "# criando uma series com o indice range index\n",
    "s1 = pd.Series([x for x in range(1000000)])\n",
    "print(f'Tamanho de s1 em bytes: {sys.getsizeof(s1)}')\n",
    "\n",
    "# criando uma series com o indice int64 index\n",
    "s2 = pd.Series([x for x in range(1000000)], index=[x for x in range(1000000)])\n",
    "print(f'Tamanho de s2 em bytes: {sys.getsizeof(s2)}')"
   ]
  },
  {
   "cell_type": "markdown",
   "id": "8444dfab",
   "metadata": {
    "hidden": true
   },
   "source": [
    " <br>"
   ]
  },
  {
   "cell_type": "markdown",
   "id": "6a72824b",
   "metadata": {
    "hidden": true
   },
   "source": [
    "É possivel que uma Series tenha elementos com o mesmo indice, devido o index label aceitar duplicatas."
   ]
  },
  {
   "cell_type": "code",
   "execution_count": null,
   "id": "6fd54316",
   "metadata": {
    "ExecuteTime": {
     "end_time": "2022-10-20T21:27:35.286676Z",
     "start_time": "2022-10-20T21:27:35.286666Z"
    },
    "hidden": true
   },
   "outputs": [],
   "source": [
    "# criando uma Series com alguns indices repetidos\n",
    "se = pd.Series('Audax Spike Mike Xuxa Ana'.split(), index = 'a a a d e'.split())\n",
    "\n",
    "# selecionando todos os elementos que correnspodem ao indice 'a'\n",
    "se['a']"
   ]
  },
  {
   "cell_type": "markdown",
   "id": "a458ab24",
   "metadata": {
    "hidden": true
   },
   "source": [
    " <br>"
   ]
  },
  {
   "cell_type": "markdown",
   "id": "82ff27dd",
   "metadata": {
    "hidden": true
   },
   "source": [
    "Sobrescrevendo um elemento de uma Series."
   ]
  },
  {
   "cell_type": "code",
   "execution_count": null,
   "id": "ea13d4f2",
   "metadata": {
    "ExecuteTime": {
     "end_time": "2022-10-20T21:27:35.287337Z",
     "start_time": "2022-10-20T21:27:35.287327Z"
    },
    "hidden": true
   },
   "outputs": [],
   "source": [
    "# criando a Series\n",
    "se = pd.Series([10, 20, 30, 40, 50, 60, 70])\n",
    "\n",
    "# sobrescrevendo o 1° elemento\n",
    "se[0] = 999\n",
    "print(se)"
   ]
  },
  {
   "cell_type": "markdown",
   "id": "ff615b1a",
   "metadata": {
    "hidden": true
   },
   "source": [
    " <br>"
   ]
  },
  {
   "cell_type": "markdown",
   "id": "f819ad66",
   "metadata": {
    "hidden": true
   },
   "source": [
    "Sobrescrevendo elementos especificos de uma Series."
   ]
  },
  {
   "cell_type": "code",
   "execution_count": null,
   "id": "d930b57b",
   "metadata": {
    "ExecuteTime": {
     "end_time": "2022-10-20T21:27:35.287978Z",
     "start_time": "2022-10-20T21:27:35.287969Z"
    },
    "hidden": true
   },
   "outputs": [],
   "source": [
    "# criando a Series\n",
    "se = pd.Series([10, 20, 30, 40, 50, 60, 70])\n",
    "\n",
    "# sobrescrevendo os elementos\n",
    "se[[0, 1, 2]] = 999\n",
    "print(se)"
   ]
  },
  {
   "cell_type": "markdown",
   "id": "28a90666",
   "metadata": {
    "hidden": true
   },
   "source": [
    " <br>"
   ]
  },
  {
   "cell_type": "markdown",
   "id": "510e2a46",
   "metadata": {
    "ExecuteTime": {
     "end_time": "2022-10-18T22:23:20.449748Z",
     "start_time": "2022-10-18T22:23:20.442087Z"
    },
    "hidden": true
   },
   "source": [
    "Sobrescrevendo intervalos de uma Series."
   ]
  },
  {
   "cell_type": "code",
   "execution_count": null,
   "id": "eed7a215",
   "metadata": {
    "ExecuteTime": {
     "end_time": "2022-10-20T21:27:35.288658Z",
     "start_time": "2022-10-20T21:27:35.288648Z"
    },
    "hidden": true,
    "scrolled": true
   },
   "outputs": [],
   "source": [
    "# criando a Series\n",
    "se = pd.Series([10, 20, 30, 40, 50, 60, 70])\n",
    "\n",
    "# sobrescrevendo o intervalo\n",
    "se[4:] = 999\n",
    "print(se)"
   ]
  },
  {
   "cell_type": "markdown",
   "id": "5d10c656",
   "metadata": {
    "hidden": true
   },
   "source": [
    " <br>"
   ]
  },
  {
   "cell_type": "markdown",
   "id": "5d1597c8",
   "metadata": {
    "hidden": true
   },
   "source": [
    "Sobrescrevendo uma Series completa.\n"
   ]
  },
  {
   "cell_type": "code",
   "execution_count": null,
   "id": "009e057e",
   "metadata": {
    "ExecuteTime": {
     "end_time": "2022-10-20T21:27:35.289672Z",
     "start_time": "2022-10-20T21:27:35.289663Z"
    },
    "hidden": true
   },
   "outputs": [],
   "source": [
    "# criando a Series\n",
    "se = pd.Series([10, 20, 30, 40, 50, 60, 70], index='A B C D E F G'.split())\n",
    "\n",
    "# sobrescrevendo os elementos\n",
    "novos_valores = [x for x in range(7)]\n",
    "se[:] = novos_valores\n",
    "print(se)\n",
    "\n",
    "# note que somente os valores foram sobrescritos"
   ]
  },
  {
   "cell_type": "markdown",
   "id": "f9043e6a",
   "metadata": {
    "hidden": true
   },
   "source": [
    " <br>"
   ]
  },
  {
   "cell_type": "markdown",
   "id": "e83f0376",
   "metadata": {
    "hidden": true
   },
   "source": [
    "Trocando elementos de uma Series através de outra Series."
   ]
  },
  {
   "cell_type": "code",
   "execution_count": null,
   "id": "208702ef",
   "metadata": {
    "ExecuteTime": {
     "end_time": "2022-10-20T21:27:35.290165Z",
     "start_time": "2022-10-20T21:27:35.290157Z"
    },
    "hidden": true
   },
   "outputs": [],
   "source": [
    "x = pd.Series([10, 20, 30, 40])\n",
    "y = pd.Series(['A', 'A', 'A', 'A'])\n",
    "\n",
    "# os elementos que estão na posição 0 e 2 de x vão ser substituidos pelos elementos que estão na posição 0 e 2 de y\n",
    "x.loc[[0,2]] = y\n",
    "\n",
    "print(x)"
   ]
  },
  {
   "cell_type": "markdown",
   "id": "63b93332",
   "metadata": {
    "hidden": true
   },
   "source": [
    " <br>"
   ]
  },
  {
   "cell_type": "markdown",
   "id": "1d859a4d",
   "metadata": {
    "heading_collapsed": true,
    "hidden": true
   },
   "source": [
    "##  👾 <font size=5>Indexação utilizando métodos<font>"
   ]
  },
  {
   "cell_type": "markdown",
   "id": "53775ff0",
   "metadata": {
    "hidden": true
   },
   "source": [
    "No pandas temos duas maneiras muito interessantes de resgatar os dados que queremos, seja de um dataframe ou uma series. Neste tópico iremos trabalhar apenas com as series.\n",
    "\n",
    "- Series.loc\n",
    "- Series.iloc\n",
    "\n",
    "Basicamente os dois métodos servem para resgatar dados, mas possuem características distintas na hora que vamos utilizá-los. Vamos entender agora quais são as particularidades deles e os casos de uso para cada um."
   ]
  },
  {
   "cell_type": "markdown",
   "id": "b4b29fb5",
   "metadata": {
    "heading_collapsed": true,
    "hidden": true
   },
   "source": [
    "###  🐥 <font size=4>Series.loc<font>"
   ]
  },
  {
   "cell_type": "markdown",
   "id": "539e0fe5",
   "metadata": {
    "hidden": true
   },
   "source": [
    "Quando a Series tiver como indice o **range index**, o método loc só poderá selecionar elementos da Series através do range index.  \n",
    "Quando a Series tiver como indice o **index label**, o método loc só poderá selecionar elementos da Series através do index label. \n",
    " \n",
    "\n",
    "Vamos criar uma Series para usar nos exemplos seguintes."
   ]
  },
  {
   "cell_type": "code",
   "execution_count": 79,
   "id": "daf05f05",
   "metadata": {
    "ExecuteTime": {
     "end_time": "2022-10-20T22:16:15.766430Z",
     "start_time": "2022-10-20T22:16:15.757439Z"
    },
    "hidden": true
   },
   "outputs": [
    {
     "data": {
      "text/plain": [
       "0    A\n",
       "1    B\n",
       "2    C\n",
       "3    D\n",
       "4    E\n",
       "5    F\n",
       "6    G\n",
       "7    H\n",
       "8    I\n",
       "9    J\n",
       "dtype: object"
      ]
     },
     "execution_count": 79,
     "metadata": {},
     "output_type": "execute_result"
    }
   ],
   "source": [
    "x = pd.Series(data='A B C D E F G H I J '.split())\n",
    "x"
   ]
  },
  {
   "cell_type": "markdown",
   "id": "37a634da",
   "metadata": {
    "hidden": true
   },
   "source": [
    " "
   ]
  },
  {
   "cell_type": "markdown",
   "id": "ac018adc",
   "metadata": {
    "hidden": true
   },
   "source": [
    "Selecioando um elemento."
   ]
  },
  {
   "cell_type": "code",
   "execution_count": 33,
   "id": "204ee701",
   "metadata": {
    "ExecuteTime": {
     "end_time": "2022-10-20T21:39:00.382678Z",
     "start_time": "2022-10-20T21:39:00.375102Z"
    },
    "hidden": true
   },
   "outputs": [
    {
     "data": {
      "text/plain": [
       "'A'"
      ]
     },
     "execution_count": 33,
     "metadata": {},
     "output_type": "execute_result"
    }
   ],
   "source": [
    "x.loc[0]"
   ]
  },
  {
   "cell_type": "markdown",
   "id": "e4fb9ea1",
   "metadata": {
    "hidden": true
   },
   "source": [
    " "
   ]
  },
  {
   "cell_type": "markdown",
   "id": "9ead4f96",
   "metadata": {
    "hidden": true
   },
   "source": [
    "Selecionando elementos específicos."
   ]
  },
  {
   "cell_type": "code",
   "execution_count": 34,
   "id": "8f7b221d",
   "metadata": {
    "ExecuteTime": {
     "end_time": "2022-10-20T21:39:02.235655Z",
     "start_time": "2022-10-20T21:39:02.229334Z"
    },
    "hidden": true
   },
   "outputs": [
    {
     "data": {
      "text/plain": [
       "0    A\n",
       "2    C\n",
       "4    E\n",
       "dtype: object"
      ]
     },
     "execution_count": 34,
     "metadata": {},
     "output_type": "execute_result"
    }
   ],
   "source": [
    "x.loc[[0, 2, 4]]"
   ]
  },
  {
   "cell_type": "markdown",
   "id": "a41f2961",
   "metadata": {
    "hidden": true
   },
   "source": [
    " "
   ]
  },
  {
   "cell_type": "markdown",
   "id": "c6985bf1",
   "metadata": {
    "hidden": true
   },
   "source": [
    "Selecionando um intervalo de elementos. "
   ]
  },
  {
   "cell_type": "code",
   "execution_count": 35,
   "id": "beb703fe",
   "metadata": {
    "ExecuteTime": {
     "end_time": "2022-10-20T21:39:04.139357Z",
     "start_time": "2022-10-20T21:39:04.130155Z"
    },
    "hidden": true
   },
   "outputs": [
    {
     "data": {
      "text/plain": [
       "3    D\n",
       "4    E\n",
       "5    F\n",
       "dtype: object"
      ]
     },
     "execution_count": 35,
     "metadata": {},
     "output_type": "execute_result"
    }
   ],
   "source": [
    "x.loc[3:5] # o elemento que se encontra no indice 5 será selecionado também"
   ]
  },
  {
   "cell_type": "markdown",
   "id": "cbd8c73e",
   "metadata": {
    "hidden": true
   },
   "source": [
    " "
   ]
  },
  {
   "cell_type": "markdown",
   "id": "ef0e998b",
   "metadata": {
    "hidden": true
   },
   "source": [
    "Selecionando e trocando os elementos da Series."
   ]
  },
  {
   "cell_type": "code",
   "execution_count": 36,
   "id": "152dee17",
   "metadata": {
    "ExecuteTime": {
     "end_time": "2022-10-20T21:39:05.883557Z",
     "start_time": "2022-10-20T21:39:05.875651Z"
    },
    "hidden": true,
    "scrolled": true
   },
   "outputs": [
    {
     "data": {
      "text/plain": [
       "0    A\n",
       "1    A\n",
       "2    A\n",
       "3    A\n",
       "4    E\n",
       "5    F\n",
       "6    G\n",
       "7    H\n",
       "8    I\n",
       "9    J\n",
       "dtype: object"
      ]
     },
     "execution_count": 36,
     "metadata": {},
     "output_type": "execute_result"
    }
   ],
   "source": [
    "x.loc[0:3] = 'A'\n",
    "x"
   ]
  },
  {
   "cell_type": "markdown",
   "id": "2b14e287",
   "metadata": {
    "hidden": true
   },
   "source": [
    " "
   ]
  },
  {
   "cell_type": "markdown",
   "id": "5f4c26f0",
   "metadata": {
    "heading_collapsed": true,
    "hidden": true
   },
   "source": [
    "###  🐥 <font size=4>Series.iloc<font>"
   ]
  },
  {
   "cell_type": "markdown",
   "id": "a5d355f4",
   "metadata": {
    "hidden": true
   },
   "source": [
    "O método iloc seleciona linhas e colunas por números, esta é uma boa definição para o recurso. Ou seja, por mais que uma Series tenha um index label definido o método iloc só seleciona os elementos da Series através do **range index** e também através do indice negativo. Apenas e nada mais.\n",
    "\n",
    "Vamos criar uma Series para usar nos exemplos seguintes."
   ]
  },
  {
   "cell_type": "code",
   "execution_count": 83,
   "id": "5c786cba",
   "metadata": {
    "ExecuteTime": {
     "end_time": "2022-10-20T22:18:39.673061Z",
     "start_time": "2022-10-20T22:18:39.665649Z"
    },
    "hidden": true
   },
   "outputs": [
    {
     "data": {
      "text/plain": [
       "10      100\n",
       "20      200\n",
       "30      300\n",
       "40      400\n",
       "50      500\n",
       "60      600\n",
       "70      700\n",
       "80      800\n",
       "90      900\n",
       "100    1000\n",
       "dtype: int64"
      ]
     },
     "execution_count": 83,
     "metadata": {},
     "output_type": "execute_result"
    }
   ],
   "source": [
    "s = pd.Series(data=[x for x in range(100, 1001, 100)], index=[x for x in range(10, 101, 10)])\n",
    "s"
   ]
  },
  {
   "cell_type": "markdown",
   "id": "42046dca",
   "metadata": {
    "hidden": true
   },
   "source": [
    "\n"
   ]
  },
  {
   "cell_type": "markdown",
   "id": "7220ac97",
   "metadata": {
    "hidden": true
   },
   "source": [
    "Selecionando apenas um elemento da Series."
   ]
  },
  {
   "cell_type": "code",
   "execution_count": 84,
   "id": "2c88d2ef",
   "metadata": {
    "ExecuteTime": {
     "end_time": "2022-10-20T22:18:41.681604Z",
     "start_time": "2022-10-20T22:18:41.673765Z"
    },
    "hidden": true
   },
   "outputs": [
    {
     "data": {
      "text/plain": [
       "100"
      ]
     },
     "execution_count": 84,
     "metadata": {},
     "output_type": "execute_result"
    }
   ],
   "source": [
    "s.iloc[0] # no lugar o 0 poderia ser o -10"
   ]
  },
  {
   "cell_type": "markdown",
   "id": "3d488955",
   "metadata": {
    "hidden": true
   },
   "source": [
    " "
   ]
  },
  {
   "cell_type": "markdown",
   "id": "a53d94ca",
   "metadata": {
    "hidden": true
   },
   "source": [
    "Selecioando elementos específicos da Series."
   ]
  },
  {
   "cell_type": "code",
   "execution_count": 85,
   "id": "b67cf153",
   "metadata": {
    "ExecuteTime": {
     "end_time": "2022-10-20T22:18:45.370126Z",
     "start_time": "2022-10-20T22:18:45.360848Z"
    },
    "hidden": true
   },
   "outputs": [
    {
     "data": {
      "text/plain": [
       "20    200\n",
       "30    300\n",
       "40    400\n",
       "dtype: int64"
      ]
     },
     "execution_count": 85,
     "metadata": {},
     "output_type": "execute_result"
    }
   ],
   "source": [
    "s.iloc[[1, 2, 3]] "
   ]
  },
  {
   "cell_type": "markdown",
   "id": "5d5c8ca9",
   "metadata": {
    "hidden": true
   },
   "source": [
    " "
   ]
  },
  {
   "cell_type": "markdown",
   "id": "9f2225ab",
   "metadata": {
    "hidden": true
   },
   "source": [
    "Selecioando um intervalo da Series."
   ]
  },
  {
   "cell_type": "code",
   "execution_count": 86,
   "id": "bb75a56a",
   "metadata": {
    "ExecuteTime": {
     "end_time": "2022-10-20T22:18:50.116026Z",
     "start_time": "2022-10-20T22:18:50.107403Z"
    },
    "hidden": true
   },
   "outputs": [
    {
     "data": {
      "text/plain": [
       "10    100\n",
       "20    200\n",
       "30    300\n",
       "40    400\n",
       "50    500\n",
       "dtype: int64"
      ]
     },
     "execution_count": 86,
     "metadata": {},
     "output_type": "execute_result"
    }
   ],
   "source": [
    "s.iloc[0:5] # o valor que corresponde ao indice 5 não está incluso na seleção"
   ]
  },
  {
   "cell_type": "markdown",
   "id": "c6cc4493",
   "metadata": {
    "hidden": true
   },
   "source": [
    " "
   ]
  },
  {
   "cell_type": "markdown",
   "id": "096c799b",
   "metadata": {
    "hidden": true
   },
   "source": [
    "Selecionando e trocando os elementos da Series."
   ]
  },
  {
   "cell_type": "code",
   "execution_count": 90,
   "id": "9a551ced",
   "metadata": {
    "ExecuteTime": {
     "end_time": "2022-10-20T22:19:20.214859Z",
     "start_time": "2022-10-20T22:19:20.203506Z"
    },
    "hidden": true
   },
   "outputs": [
    {
     "data": {
      "text/plain": [
       "10     11111\n",
       "20       200\n",
       "30       300\n",
       "40       400\n",
       "50       500\n",
       "60     11111\n",
       "70       700\n",
       "80       800\n",
       "90     11111\n",
       "100     1000\n",
       "dtype: int64"
      ]
     },
     "execution_count": 90,
     "metadata": {},
     "output_type": "execute_result"
    }
   ],
   "source": [
    "s.iloc[[0, 5, 8]] = 11111\n",
    "s"
   ]
  },
  {
   "cell_type": "markdown",
   "id": "9b9ad8f8",
   "metadata": {
    "heading_collapsed": true,
    "hidden": true
   },
   "source": [
    "### 🐥 <font size=4>View e copy<font>"
   ]
  },
  {
   "cell_type": "markdown",
   "id": "0051769f",
   "metadata": {
    "hidden": true
   },
   "source": [
    "Compreender **view** (visualização superficial) e **copy** (cópia profunda) é uma parte importante para saber como o NumPy e o Pandas manipulam dados. Também pode ajudá-lo a evitar erros e gargalos de desempenho. Às vezes, os dados são copiados de uma parte da memória para outra, mas em outros casos, dois ou mais objetos podem compartilhar os mesmos dados, economizando tempo e memória.\n",
    "\n",
    "Para saber se no pandas você obteve uma **view** (visualização superficial) ou uma **copy** (cópia profunda)  e se as alterações feitas em uma view serão propagadas para a Series ou o DataFrame original, vai depender da estrutura e dos tipos de dados da Series ou do DataFrame."
   ]
  },
  {
   "cell_type": "markdown",
   "id": "75e60d2e",
   "metadata": {
    "hidden": true
   },
   "source": [
    "Uma visualização superficial é um ndarray do numpy que não possui seus próprios dados. Ele analisa, ou “visualiza”, os dados contidos no ndarray original. Por isso quando alterado, o ndarray original também será alterado, vice-versa."
   ]
  },
  {
   "cell_type": "code",
   "execution_count": 91,
   "id": "68e80486",
   "metadata": {
    "ExecuteTime": {
     "end_time": "2022-10-20T22:21:58.688420Z",
     "start_time": "2022-10-20T22:21:58.679351Z"
    },
    "hidden": true
   },
   "outputs": [
    {
     "data": {
      "text/plain": [
       "0     10\n",
       "1     20\n",
       "2     30\n",
       "3     40\n",
       "4     50\n",
       "5     60\n",
       "6     70\n",
       "7     80\n",
       "8     90\n",
       "9    100\n",
       "dtype: int64"
      ]
     },
     "execution_count": 91,
     "metadata": {},
     "output_type": "execute_result"
    }
   ],
   "source": [
    "# criando uma Series\n",
    "x = pd.Series([x for x in range(10,101,10)])\n",
    "x"
   ]
  },
  {
   "cell_type": "markdown",
   "id": "62660ad3",
   "metadata": {
    "hidden": true
   },
   "source": [
    " <br>"
   ]
  },
  {
   "cell_type": "markdown",
   "id": "308ee86b",
   "metadata": {
    "hidden": true
   },
   "source": [
    "O método loc e o método iloc retorna uma **view**"
   ]
  },
  {
   "cell_type": "code",
   "execution_count": 92,
   "id": "c054f17c",
   "metadata": {
    "ExecuteTime": {
     "end_time": "2022-10-20T22:22:01.053610Z",
     "start_time": "2022-10-20T22:22:01.045852Z"
    },
    "hidden": true
   },
   "outputs": [
    {
     "name": "stdout",
     "output_type": "stream",
     "text": [
      "**view 1**\n",
      "0    10\n",
      "1    20\n",
      "2    30\n",
      "3    40\n",
      "4    50\n",
      "dtype: int64 \n",
      "\n",
      "\n",
      "**view 2**\n",
      "5     60\n",
      "6     70\n",
      "7     80\n",
      "8     90\n",
      "9    100\n",
      "dtype: int64 \n",
      "\n"
     ]
    }
   ],
   "source": [
    "# view 1 \n",
    "a = x.loc[0:4]   \n",
    "print(f'**view 1**\\n{a}', '\\n\\n')\n",
    "\n",
    "# view 2\n",
    "b = x.iloc[5:]\n",
    "print(f'**view 2**\\n{b}', '\\n')"
   ]
  },
  {
   "cell_type": "markdown",
   "id": "d1798d66",
   "metadata": {
    "hidden": true
   },
   "source": [
    "<br>"
   ]
  },
  {
   "cell_type": "markdown",
   "id": "3bd21c9e",
   "metadata": {
    "hidden": true
   },
   "source": [
    "Quando tentamos mudar o elemento de uma view por outro elemento que tenha o tipo de dado diferente essa view deixa de ser view e se torna uma copy. Caso os elementos tenham o mesmo tipo a view continua sendo view."
   ]
  },
  {
   "cell_type": "code",
   "execution_count": 94,
   "id": "b66a9d04",
   "metadata": {
    "ExecuteTime": {
     "end_time": "2022-10-20T22:22:48.990568Z",
     "start_time": "2022-10-20T22:22:48.985503Z"
    },
    "hidden": true
   },
   "outputs": [
    {
     "name": "stdout",
     "output_type": "stream",
     "text": [
      "**view 1**\n",
      "0    9999\n",
      "1    9999\n",
      "2      30\n",
      "3      40\n",
      "4      50\n",
      "dtype: int64 \n",
      "\n",
      "\n",
      "**view 2**\n",
      "5      60\n",
      "6      70\n",
      "7      80\n",
      "8    9999\n",
      "9    9999\n",
      "dtype: int64 \n",
      "\n"
     ]
    }
   ],
   "source": [
    "# alterando a view 1   \n",
    "a.loc[0,1] = 9999  \n",
    "print(f'**view 1**\\n{a}', '\\n\\n')\n",
    "\n",
    "# alterando a view 2\n",
    "b.iloc[3:] = 9999\n",
    "print(f'**view 2**\\n{b}', '\\n')"
   ]
  },
  {
   "cell_type": "markdown",
   "id": "cb019036",
   "metadata": {
    "hidden": true
   },
   "source": [
    " <br>"
   ]
  },
  {
   "cell_type": "markdown",
   "id": "4f0eb738",
   "metadata": {
    "hidden": true
   },
   "source": [
    "Resultado"
   ]
  },
  {
   "cell_type": "code",
   "execution_count": 95,
   "id": "9750af0d",
   "metadata": {
    "ExecuteTime": {
     "end_time": "2022-10-20T22:22:51.922346Z",
     "start_time": "2022-10-20T22:22:51.915580Z"
    },
    "hidden": true
   },
   "outputs": [
    {
     "name": "stdout",
     "output_type": "stream",
     "text": [
      "**view 1**\n",
      "0    9999\n",
      "1    9999\n",
      "2      30\n",
      "3      40\n",
      "4      50\n",
      "dtype: int64 \n",
      "\n",
      "\n",
      "**view 2**\n",
      "5      60\n",
      "6      70\n",
      "7      80\n",
      "8    9999\n",
      "9    9999\n",
      "dtype: int64 \n",
      "\n",
      "\n",
      "Series original\n",
      "0    9999\n",
      "1    9999\n",
      "2      30\n",
      "3      40\n",
      "4      50\n",
      "5      60\n",
      "6      70\n",
      "7      80\n",
      "8    9999\n",
      "9    9999\n",
      "dtype: int64\n"
     ]
    }
   ],
   "source": [
    "print(f'**view 1**\\n{a}', '\\n\\n')\n",
    "print(f'**view 2**\\n{b}', '\\n\\n')\n",
    "print(f'Series original\\n{x}')"
   ]
  },
  {
   "cell_type": "markdown",
   "id": "55b016c0",
   "metadata": {
    "heading_collapsed": true,
    "hidden": true
   },
   "source": [
    "##  👾 <font size=5>Indexação booleana<font>"
   ]
  },
  {
   "cell_type": "markdown",
   "id": "000316b4",
   "metadata": {
    "heading_collapsed": true,
    "hidden": true
   },
   "source": [
    "##  👾 <font size=5>Operações aritiméticas com Series<font>"
   ]
  },
  {
   "cell_type": "markdown",
   "id": "fbdf35b5",
   "metadata": {
    "heading_collapsed": true,
    "hidden": true
   },
   "source": [
    "## 👾 <font size=5>Coletando informações sobre uma Series<font>"
   ]
  },
  {
   "cell_type": "markdown",
   "id": "9bc221bf",
   "metadata": {
    "hidden": true
   },
   "source": [
    "Nesse tópico eu pretendo mostrar algumas formar de coletar informações de uma Series. Informações essas, que serão importante para entender melhor os seus dados. Segue a baixo alguns métodos e atributos que usaremos."
   ]
  },
  {
   "cell_type": "markdown",
   "id": "47cffde2",
   "metadata": {
    "hidden": true
   },
   "source": [
    "- Series.dtypes\n",
    "- Series.index\n",
    "- Series.name\n",
    "- Series.shape\n",
    "- Series.max( )\n",
    "- Series.min( )\n",
    "- Series.mean( )\n",
    "- Series.median( )\n",
    "- Series.std( )\n",
    "- Series.describe( )\n",
    "- Series.unique( ) e nunique( )\n",
    "- Series.count( )\n",
    "- Series.value_counts( )\n",
    "- Series.sample( )"
   ]
  },
  {
   "cell_type": "markdown",
   "id": "0d8f56fe",
   "metadata": {
    "heading_collapsed": true,
    "hidden": true
   },
   "source": [
    "###  🐥 <font size=4>Series.dtype<font>"
   ]
  },
  {
   "cell_type": "markdown",
   "id": "0691e609",
   "metadata": {
    "hidden": true
   },
   "source": [
    "O atributo dtype de uma Series quando chamado, informa o tipo de dado dos elementos que a compõe."
   ]
  },
  {
   "cell_type": "code",
   "execution_count": null,
   "id": "16244a9d",
   "metadata": {
    "ExecuteTime": {
     "end_time": "2022-10-20T21:27:35.299845Z",
     "start_time": "2022-10-20T21:27:35.299835Z"
    },
    "hidden": true
   },
   "outputs": [],
   "source": [
    "# criando a Series\n",
    "se = pd.Series([13, 18, 19, 20, 16, 18])\n",
    "\n",
    "# retornando o tipo dos dados que compõe a Series\n",
    "print(se.dtype)"
   ]
  },
  {
   "cell_type": "markdown",
   "id": "fe8943a4",
   "metadata": {
    "hidden": true
   },
   "source": [
    " "
   ]
  },
  {
   "cell_type": "markdown",
   "id": "93c458cc",
   "metadata": {
    "hidden": true
   },
   "source": [
    "Quando uma series é composta por dados que possuem tipos diferentes ou por dados do tipo string. O pandas determina o seu tipo como object."
   ]
  },
  {
   "cell_type": "code",
   "execution_count": null,
   "id": "b50ca1cc",
   "metadata": {
    "ExecuteTime": {
     "end_time": "2022-10-20T21:27:35.300609Z",
     "start_time": "2022-10-20T21:27:35.300600Z"
    },
    "hidden": true
   },
   "outputs": [],
   "source": [
    "# criando as Series\n",
    "se1 = pd.Series([(0, 1), False, True, 'Audax', 16, 18.5])\n",
    "se2 = pd.Series('meu contato nas redes sociais > ohuanxp'.split())\n",
    "\n",
    "# retornando o tipo dos dados que compõe a Series\n",
    "print(se1.dtype)\n",
    "print(se2.dtype)"
   ]
  },
  {
   "cell_type": "markdown",
   "id": "4e65cce1",
   "metadata": {
    "heading_collapsed": true,
    "hidden": true
   },
   "source": [
    "###  🐥 <font size=4>Series.index<font>"
   ]
  },
  {
   "cell_type": "markdown",
   "id": "3e7fde58",
   "metadata": {
    "heading_collapsed": true,
    "hidden": true
   },
   "source": [
    "###  🐥 <font size=4>Series.name<font>"
   ]
  },
  {
   "cell_type": "markdown",
   "id": "ce74ed67",
   "metadata": {
    "hidden": true
   },
   "source": []
  },
  {
   "cell_type": "markdown",
   "id": "3d32aa9c",
   "metadata": {
    "hidden": true
   },
   "source": []
  },
  {
   "cell_type": "markdown",
   "id": "a5062689",
   "metadata": {
    "hidden": true
   },
   "source": []
  },
  {
   "cell_type": "markdown",
   "id": "84c022b3",
   "metadata": {
    "hidden": true
   },
   "source": []
  },
  {
   "cell_type": "markdown",
   "id": "a824d2ef",
   "metadata": {
    "hidden": true
   },
   "source": []
  },
  {
   "cell_type": "markdown",
   "id": "94162180",
   "metadata": {
    "hidden": true
   },
   "source": []
  },
  {
   "cell_type": "markdown",
   "id": "ea10162e",
   "metadata": {
    "hidden": true
   },
   "source": []
  },
  {
   "cell_type": "markdown",
   "id": "7c48f478",
   "metadata": {
    "heading_collapsed": true
   },
   "source": [
    "# 🎯 DataFrame"
   ]
  },
  {
   "cell_type": "markdown",
   "id": "faf0f0b2",
   "metadata": {
    "heading_collapsed": true,
    "hidden": true
   },
   "source": [
    "## 👾  <font size=5>Definição<font>"
   ]
  },
  {
   "cell_type": "markdown",
   "id": "fe524739",
   "metadata": {
    "hidden": true
   },
   "source": [
    "<br>\n",
    "O DataFrame é uma estrutura de dados tabular, semelhante a planilha de dados do Excel, essa estrutrura conciste em três componentes principais, os dados, linhas e colunas, onde as linhas e colunas possuem rotulos.<br>\n",
    "\n",
    "Olhando para a estrutura do DataFrame vamos perceber que ele é a junção de duas ou mais Series, ou seja, cada coluna de um _**DataFrame**_ é uma _**Series**_, veja.<br><br>\n",
    "\n",
    "\n",
    "![S](https://www.datasciencemadesimple.com/wp-content/uploads/2020/05/create-series-in-python-pandas-0.png)\n",
    "\n",
    "<br><br>\n",
    "\n",
    "Os dados que compoem cada coluna de um DataFrame podem ser variados, ou seja, uma coluna pode conter vários tipos de dados, como por exemplo, int e object (o pandas identifica str  como object). No entanto como o pandas  é implementado usando o numpy, isso fará o DataFrame perder performance e muitas das suas vantagens.<br>\n",
    "\n",
    "Alguns dados de entrada para a criação de um DataFrame são: Dict, listas, Series, np.ndarray de 1D ou 2D , outro DataFrame e muito mais ...<br>\n",
    "\n",
    "Já os dados que podem ser armazenados nas colunas de um DataFrame são: object (str), int, float, bool, dados categóricos e etc.<br>\n",
    "\n",
    "Um DataFrame pode ter seu tamanho mudado, através da exclusão ou inserção de linhas ou colunas.\n"
   ]
  },
  {
   "cell_type": "markdown",
   "id": "5cfed3c7",
   "metadata": {
    "heading_collapsed": true,
    "hidden": true
   },
   "source": [
    "## 👾 <font size=5>Parametros de criação <font>"
   ]
  },
  {
   "cell_type": "markdown",
   "id": "ca9ba8a8",
   "metadata": {
    "hidden": true
   },
   "source": [
    "<br>\n",
    "Os parametros de criação de um DataFrame estão abaixo junto com a explicação de cada um. \n",
    "\n",
    "No entanto caso você queira beber da fonte o link está [aqui](https://pandas.pydata.org/docs/reference/api/pandas.DataFrame.html?highlight=pandas%20dataframe#pandas.DataFrame).<br><br>\n",
    "\n",
    "### <font color=purple>_pandas.DataFrame (_<font>\n",
    "<br>\n",
    "\n",
    "**data**    =  None<br> \n",
    "**index**   =  None<br>\n",
    "**columns** =  None<br>\n",
    "**dtype**   =  None<br>\n",
    "**copy**    =  None<br>\n",
    "\n",
    "### <font color=purple>_)_<font>\n",
    "<br>"
   ]
  },
  {
   "cell_type": "markdown",
   "id": "12d6e576",
   "metadata": {
    "hidden": true
   },
   "source": [
    "\n",
    "### <font color=purple>data : ndarray (structured or homogeneous), Iterable, dict, or DataFrame<font>\n"
   ]
  },
  {
   "cell_type": "markdown",
   "id": "23963217",
   "metadata": {
    "hidden": true
   },
   "source": [
    "O parametro _**data**_ é responsavel por receber o objeto que será transformado em um DataFrame, esse objeto pode ser do tipo dict, listas, Series, np.ndarray de 1D ou 2D e outro DataFrame.<br>\n",
    "\n",
    "Por padrão esse parametro é None, o que signica que não há a necessidade de atribuir algum valor para esse parametro na hora da criação do DataFrame."
   ]
  },
  {
   "cell_type": "markdown",
   "id": "5e64f192",
   "metadata": {
    "hidden": true
   },
   "source": [
    "\n",
    "Quando não atribuimos nenhum valor ao parametro **data** estamos criando um DF vazio."
   ]
  },
  {
   "cell_type": "code",
   "execution_count": null,
   "id": "78888e58",
   "metadata": {
    "ExecuteTime": {
     "end_time": "2022-10-20T21:27:35.303088Z",
     "start_time": "2022-10-20T21:27:35.303075Z"
    },
    "hidden": true
   },
   "outputs": [],
   "source": [
    "import pandas as pd"
   ]
  },
  {
   "cell_type": "code",
   "execution_count": null,
   "id": "332d35b9",
   "metadata": {
    "ExecuteTime": {
     "end_time": "2022-10-20T21:27:35.303709Z",
     "start_time": "2022-10-20T21:27:35.303701Z"
    },
    "hidden": true
   },
   "outputs": [],
   "source": [
    "df = pd.DataFrame()\n",
    "df"
   ]
  },
  {
   "cell_type": "markdown",
   "id": "7dd072ab",
   "metadata": {
    "hidden": true
   },
   "source": [
    " <br>"
   ]
  },
  {
   "cell_type": "markdown",
   "id": "5cc752dd",
   "metadata": {
    "hidden": true
   },
   "source": [
    "Podemos montar um DataFrame com os estados da região norte do Brasil com uma **lista**, ao fazer isso a lista se trasmormará em uma coluna do DF (as linhas e colunas terão rotulos numéricos)."
   ]
  },
  {
   "cell_type": "code",
   "execution_count": null,
   "id": "71be8930",
   "metadata": {
    "ExecuteTime": {
     "end_time": "2022-10-20T21:27:35.304395Z",
     "start_time": "2022-10-20T21:27:35.304386Z"
    },
    "hidden": true
   },
   "outputs": [],
   "source": [
    "estados = ['Acre',\n",
    "           'Amapá',\n",
    "           'Amazonas',\n",
    "           'Pará',\n",
    "           'Rondônia',\n",
    "           'Roraima',\n",
    "           'Tocantins']\n",
    "\n",
    "df = pd.DataFrame(data=estados)\n",
    "df"
   ]
  },
  {
   "cell_type": "markdown",
   "id": "b0a418cd",
   "metadata": {
    "hidden": true
   },
   "source": [
    " <br>"
   ]
  },
  {
   "cell_type": "markdown",
   "id": "1b238446",
   "metadata": {
    "hidden": true
   },
   "source": [
    "Também podemos utilizar uma **lista de listas** para montar um DataFrame com várias colunas."
   ]
  },
  {
   "cell_type": "code",
   "execution_count": null,
   "id": "0c610dd2",
   "metadata": {
    "ExecuteTime": {
     "end_time": "2022-10-20T21:27:35.305621Z",
     "start_time": "2022-10-20T21:27:35.305612Z"
    },
    "hidden": true
   },
   "outputs": [],
   "source": [
    "capitais = [['Acre', 'AC', '803,5 mil', 'Rio Branco'],\n",
    "            ['Amapá', 'AP', '776,6 mil', 'Macapá'],\n",
    "            ['Amazonas', 'AM', '3,9 milhões', 'Manaus'],\n",
    "            ['Pará', 'PA', '8,1 milhões', 'Belém'],\n",
    "            ['Rondônia', 'RO', '1,7 milhão', 'Porto Velho'],\n",
    "            ['Roraima', 'RR', '505,6 mil', 'Boa Vista'],\n",
    "            ['Tocantins', 'TO', '1,5 milhão', 'Palmas']]\n",
    "\n",
    "\n",
    "df = pd.DataFrame(data=capitais)\n",
    "df"
   ]
  },
  {
   "cell_type": "markdown",
   "id": "f55d9626",
   "metadata": {
    "hidden": true
   },
   "source": [
    " <br>"
   ]
  },
  {
   "cell_type": "markdown",
   "id": "fbf611a7",
   "metadata": {
    "hidden": true
   },
   "source": [
    "Outra forma de criar um DataFrame é apartir de um **dicionário**. Quando criamos um DF a partir de um dicionário, cada item do dicionário será uma coluna do df, a chave será o rotulo da coluna e o valor da chave serão os valores da coluna."
   ]
  },
  {
   "cell_type": "code",
   "execution_count": null,
   "id": "76c0153a",
   "metadata": {
    "ExecuteTime": {
     "end_time": "2022-10-20T21:27:35.306424Z",
     "start_time": "2022-10-20T21:27:35.306415Z"
    },
    "hidden": true
   },
   "outputs": [],
   "source": [
    "estados = {'Estado': ['Acre',\n",
    "                       'Amapá',\n",
    "                       'Amazonas',\n",
    "                       'Pará',\n",
    "                       'Rondônia',\n",
    "                       'Roraima',\n",
    "                       'Tocantins'],\n",
    "            'Sigla': ['AC',\n",
    "                      'AP',\n",
    "                      'AM',\n",
    "                      'PA',\n",
    "                      'RO',\n",
    "                      'RR',\n",
    "                      'TO'],\n",
    "            'População': ['803,5 mil',\n",
    "                          '776,6 mil',\n",
    "                          '3,9 milhões',\n",
    "                          '8,1 milhões',\n",
    "                          '1,7 milhão',\n",
    "                          '505,6 mil',\n",
    "                          '1,5 milhão'],\n",
    "            'Capital': ['Rio Branco',\n",
    "                        'Macapá',\n",
    "                        'Manaus',\n",
    "                        'Belém',\n",
    "                        'Porto Velho',\n",
    "                        'Boa Vista',\n",
    "                        'Palmas']}\n",
    "\n",
    "\n",
    "df = pd.DataFrame(data=estados)\n",
    "df"
   ]
  },
  {
   "cell_type": "markdown",
   "id": "73d20d49",
   "metadata": {
    "hidden": true
   },
   "source": [
    " <br>"
   ]
  },
  {
   "cell_type": "markdown",
   "id": "8e6e9b96",
   "metadata": {
    "hidden": true
   },
   "source": [
    "**Resumo**<br>\n",
    "Resumindo, o parametro data serve para indicar o que queremos que o pandas transforme em um DataFrame."
   ]
  },
  {
   "cell_type": "markdown",
   "id": "5d85bd83",
   "metadata": {
    "hidden": true
   },
   "source": [
    " <br>"
   ]
  },
  {
   "cell_type": "markdown",
   "id": "02d095e9",
   "metadata": {
    "hidden": true
   },
   "source": [
    "\n",
    "### <font color=purple>index : Index or array-like<font>"
   ]
  },
  {
   "cell_type": "markdown",
   "id": "3c435e51",
   "metadata": {
    "hidden": true
   },
   "source": [
    "O parametro index é opcional, por padrão o índice do dataframe começa em 0 e termina no último valor. Ele define os índices das linha.\n",
    "\n",
    "Quando criamos um DataFrame a partir de outros objetos ou de inportação de dados, o pandas define o indice das linhas por padrão como numérico, mas é possivel modificar esses índices e passar como valor para o parametro **index** algum array."
   ]
  },
  {
   "cell_type": "code",
   "execution_count": null,
   "id": "95537ed3",
   "metadata": {
    "ExecuteTime": {
     "end_time": "2022-10-20T21:27:35.307497Z",
     "start_time": "2022-10-20T21:27:35.307487Z"
    },
    "hidden": true
   },
   "outputs": [],
   "source": [
    "import pandas as pd"
   ]
  },
  {
   "cell_type": "code",
   "execution_count": null,
   "id": "04355431",
   "metadata": {
    "ExecuteTime": {
     "end_time": "2022-10-20T21:27:35.309102Z",
     "start_time": "2022-10-20T21:27:35.309091Z"
    },
    "hidden": true
   },
   "outputs": [],
   "source": [
    "nomes = ['Alba', 'Ana', 'Amélia', \n",
    "         'Breno', 'Bruno', 'Bernardo',\n",
    "         'Carla', 'Cesar', 'Cris']\n",
    "\n",
    "rotulo = [10, 11, 12, 13, 14, 15, 16, 17, 18]\n",
    "# rotulo2 = [p[0] for p in nomes] \n",
    "\n",
    "df = pd.DataFrame(data=nomes, index=rotulo)\n",
    "df"
   ]
  },
  {
   "cell_type": "markdown",
   "id": "f6f9e177",
   "metadata": {
    "hidden": true
   },
   "source": [
    " <br>"
   ]
  },
  {
   "cell_type": "markdown",
   "id": "d694489a",
   "metadata": {
    "hidden": true
   },
   "source": [
    "\n",
    "### <font color=purple>Columns : Index or array-like<font>"
   ]
  },
  {
   "cell_type": "markdown",
   "id": "8fb3ea2a",
   "metadata": {
    "hidden": true
   },
   "source": [
    "Este parâmetro se comporta de duas maneiras diferentes. Vamos ver ná prática."
   ]
  },
  {
   "cell_type": "markdown",
   "id": "8c34b4d1",
   "metadata": {
    "hidden": true
   },
   "source": [
    "Quando criamos um dataframe a partir de uma lista de listas, os indices das linhas e os rotulos das colunas serão numéricos. Quando o rótulo das colunas forem numéricos, podemos usar o parâmetro columns para nomear as colunas."
   ]
  },
  {
   "cell_type": "code",
   "execution_count": null,
   "id": "ccc5ec7d",
   "metadata": {
    "ExecuteTime": {
     "end_time": "2022-10-20T21:27:35.310013Z",
     "start_time": "2022-10-20T21:27:35.310001Z"
    },
    "hidden": true
   },
   "outputs": [],
   "source": [
    "lista = [['huan', 18, 'm'],   \n",
    "         ['luigi', 19, 'm'],\n",
    "         ['lucas', 18, 'm'],\n",
    "         ['manoel', 17, 'm'], \n",
    "         ['simão', 19, 'm']]\n",
    "\n",
    "# colunas sem nome \n",
    "df = pd.DataFrame(data=lista)\n",
    "display(df)\n",
    "\n",
    "\n",
    "# nomeando as colunas\n",
    "df = pd.DataFrame(data=lista, columns=['nome', 'idade', 'sexo'])\n",
    "display(df)"
   ]
  },
  {
   "cell_type": "markdown",
   "id": "9375482a",
   "metadata": {
    "hidden": true
   },
   "source": [
    " <br>"
   ]
  },
  {
   "cell_type": "markdown",
   "id": "3702b9d4",
   "metadata": {
    "hidden": true
   },
   "source": [
    "Já quando criamos um dataframe a partir de um dicionário ou uma lista de Series, o parâmetro columns serve para definir quais itens do dicionário ou, quais Series da lista devem ser transformado no dataframe."
   ]
  },
  {
   "cell_type": "code",
   "execution_count": null,
   "id": "360e2a9b",
   "metadata": {
    "ExecuteTime": {
     "end_time": "2022-10-20T21:27:35.311167Z",
     "start_time": "2022-10-20T21:27:35.311156Z"
    },
    "hidden": true,
    "scrolled": true
   },
   "outputs": [],
   "source": [
    "dic = {\n",
    "    'nome' : ['huan', 'luigi', 'lucas', 'manoel', 'simão'],\n",
    "    'idade' : [18, 19, 18, 17, 19],\n",
    "    'sexo' : ['m', 'm', 'm', 'm', 'm']\n",
    "    \n",
    "}\n",
    "\n",
    "# dataframe completo \n",
    "df = pd.DataFrame(data=dic)\n",
    "display(df)\n",
    "\n",
    "\n",
    "# apenas nome e sexo\n",
    "df = pd.DataFrame(data=dic, columns=['nome', 'sexo'])\n",
    "display(df)"
   ]
  },
  {
   "cell_type": "markdown",
   "id": "485e5e1c",
   "metadata": {
    "hidden": true
   },
   "source": [
    " <br>"
   ]
  },
  {
   "cell_type": "markdown",
   "id": "d1452f72",
   "metadata": {
    "hidden": true
   },
   "source": [
    "\n",
    "### <font color=purple>dtype : dtype, default None<font>"
   ]
  },
  {
   "cell_type": "markdown",
   "id": "cafc9a9f",
   "metadata": {
    "hidden": true
   },
   "source": [
    "Esse parametro serve para forçar todos os valores a terem o mesmo tipo. Apenas um único dtype é permitido.<br>\n",
    "Caso o DF tenha algum valor com tipo de dado igual a str não será possivel fazer a conversão."
   ]
  },
  {
   "cell_type": "code",
   "execution_count": null,
   "id": "09447915",
   "metadata": {
    "ExecuteTime": {
     "end_time": "2022-10-20T21:27:35.311682Z",
     "start_time": "2022-10-20T21:27:35.311673Z"
    },
    "hidden": true
   },
   "outputs": [],
   "source": [
    "idades = [12, 13, 14, 10, 11, 17, 10, 69]\n",
    "\n",
    "# Alguns tipos de dados numéricos\n",
    "flutuante = [np.float16, np.float32, np.float64]\n",
    "inteiro = [np.int16, np.int32, np.int64]\n",
    "\n",
    "df = pd.DataFrame(data=idades, dtype = inteiro[0])\n",
    "\n",
    "df.dtypes"
   ]
  },
  {
   "cell_type": "markdown",
   "id": "57515e0a",
   "metadata": {
    "hidden": true
   },
   "source": [
    " <br>"
   ]
  },
  {
   "cell_type": "markdown",
   "id": "bdf8f739",
   "metadata": {
    "hidden": true
   },
   "source": [
    "Obs: caso exista um valor que é um numero, mas tem tipo str, é possivel fazer a conversão de todos os valores para float."
   ]
  },
  {
   "cell_type": "code",
   "execution_count": null,
   "id": "894fe3bd",
   "metadata": {
    "ExecuteTime": {
     "end_time": "2022-10-20T21:27:35.313130Z",
     "start_time": "2022-10-20T21:27:35.313116Z"
    },
    "hidden": true
   },
   "outputs": [],
   "source": [
    "idades = ['12', 13, 14, 10, '11', '17', 10, '69']\n",
    "\n",
    "flutuante = [np.float16, np.float32, np.float64]\n",
    "\n",
    "df = pd.DataFrame(data=idades, dtype = flutuante[0])\n",
    "\n",
    "df.dtypes"
   ]
  },
  {
   "cell_type": "markdown",
   "id": "4dfa90f3",
   "metadata": {
    "hidden": true
   },
   "source": [
    " <br>"
   ]
  },
  {
   "cell_type": "markdown",
   "id": "39853f0e",
   "metadata": {
    "hidden": true
   },
   "source": [
    "\n",
    "### <font color=purple>copy : bool, default None<font>"
   ]
  },
  {
   "cell_type": "markdown",
   "id": "f41c4830",
   "metadata": {
    "hidden": true
   },
   "source": [
    "O parametro **copy** serve para situações que você queira criar um dataframe novo a partir de uma Series ou um Dataframe antigo sem que alterações futuras nesses objetos possam alterar o DataFrame também.<br>\n",
    "\n",
    "Esse parametro recebe valores booleanos, ou seja, **False** ou **True**. Por padrão ele é **False**.<br>\n",
    "\n",
    "Caso o valor seja **True**, qualquer alteração no objeto de criação não acarretará em uma mudança no DataFrame.<br>\n",
    "\n",
    "E se for **False**, qualquer alteração no objeto de criação acarretará em uma mudança no DataFrame."
   ]
  },
  {
   "cell_type": "code",
   "execution_count": null,
   "id": "16f09fcc",
   "metadata": {
    "ExecuteTime": {
     "end_time": "2022-10-20T21:27:35.314080Z",
     "start_time": "2022-10-20T21:27:35.314070Z"
    },
    "hidden": true,
    "scrolled": true
   },
   "outputs": [],
   "source": [
    "dic = {\n",
    "    'nome' : ['huan', 'luigi', 'lucas', 'manoel', 'simão'],\n",
    "    'idade' : [18, 19, 18, 17, 19],\n",
    "    'sexo' : ['m', 'm', 'm', 'm', 'm']\n",
    "}\n",
    "\n",
    "df = pd.DataFrame(data=dic)\n",
    "\n",
    "df1 = pd.DataFrame(df, copy= True) # Agora é possivel fazer alterações no df1 sem alterar o df, vice e versa.\n",
    "df2 = pd.DataFrame(df, copy= False) \n",
    "\n",
    "df.loc[0, ['nome']] = 'modificado'\n",
    "\n",
    "display(df1)\n",
    "display(df2)"
   ]
  },
  {
   "cell_type": "markdown",
   "id": "6790f378",
   "metadata": {
    "hidden": true
   },
   "source": [
    " <br>"
   ]
  },
  {
   "cell_type": "markdown",
   "id": "c0ee8482",
   "metadata": {
    "heading_collapsed": true,
    "hidden": true
   },
   "source": [
    "## 👾 <font size=5>Importando arquivos ou bases de dados<font>\n"
   ]
  },
  {
   "cell_type": "markdown",
   "id": "1f1e8641",
   "metadata": {
    "hidden": true
   },
   "source": [
    "<br>\n",
    "O pandas oferece uma variedade de métodos que serve para ler um arquivo e transforma-lo em uma tabela (DataFrame). Veja alguns:\n",
    "    \n",
    "| [pd.read_csv](https://pandas.pydata.org/docs/reference/api/pandas.read_csv.html?highlight=pandas%20read_) | \n",
    "[pd.read_excel](https://pandas.pydata.org/docs/reference/api/pandas.read_excel.html?highlight=pandas%20read_) | \n",
    "[pd.read_json](https://pandas.pydata.org/docs/reference/api/pandas.read_json.html?highlight=pandas%20read_) | \n",
    "[pd.read_html](https://pandas.pydata.org/docs/reference/api/pandas.read_html.html?highlight=pandas%20read_) | \n",
    "[pd.read_sas](https://pandas.pydata.org/docs/reference/api/pandas.read_sas.html?highlight=pandas%20read_) | \n",
    "[pd.read_sql](https://pandas.pydata.org/docs/reference/api/pandas.read_sql.html?highlight=pandas%20read_) | \n",
    "[pd.read_table](https://pandas.pydata.org/docs/reference/api/pandas.read_table.html?highlight=pandas%20read_) |\n",
    "\n",
    "\n",
    "<br>\n",
    "Cada método foi criado para ler um tipo de arquivo e por isso tem suas particularidades, devido ao nome dos métodos fica facil entender pra qual tipo de arquivo ele serve. Abaixo segue a explicação de alguns desses métodos.<br><br>"
   ]
  },
  {
   "cell_type": "markdown",
   "id": "a73f93b4",
   "metadata": {
    "heading_collapsed": true,
    "hidden": true
   },
   "source": [
    "###  🐥 pd.read_csv ( )"
   ]
  },
  {
   "cell_type": "markdown",
   "id": "4b998d5f",
   "metadata": {
    "hidden": true
   },
   "source": [
    "\n",
    "\n",
    "### O que esse método faz?\n",
    "\n",
    "A maioria dos dados está disponivel em um formato tabular (linhas e colunas) de arquivos CSV. É muito popular. Por isso o pandas despolibiliza o método pd.read_csv, que importa um arquivo csv para o formato DataFrame. Também suporta iterar ou dividir o arquivo em partes. Caso você queira aprender como ler um arquivo CSV sem usar o pandas, o link está [aqui](https://www.youtube.com/watch?v=AnJPtKLtc7o&ab_channel=HashtagPrograma%C3%A7%C3%A3o).\n",
    "\n",
    "### O que é um arquivo CSV?\n",
    "\n",
    "CSV é a sigla para 'Comma Separated Values' (em português, valores separados por virgula). Um arquivo CSV é um arquivo de texto que organiza informações reparados por virgula em 2 dimenções, ou seja, linhas e colunas. O conteúdo geralmente são textos números ou datas. Os arquivos CSV podem ser facilmente importados e exportados usando programas que armazenam dados em tabelas.\n",
    "\n",
    "### Como um arquivo CSV é organizado?\n",
    "\n",
    "Em geral a primeira linha contém os rótulos das colunas das tabelas. Cada uma das linhas subsequentes representam uma linha da tabela. Virgulas separam cada valor da linha, o que é motivo para o nome do formato.\n",
    "\n",
    "Aqui temos um exemplo de um arquivo CSV. O exemplo tem 3 colunas, com os rótulos nome, idade e comida favorita. Temos 5 linhas incluindo a linha do cabeçalho."
   ]
  },
  {
   "cell_type": "code",
   "execution_count": null,
   "id": "9c910729",
   "metadata": {
    "ExecuteTime": {
     "end_time": "2022-10-20T21:27:35.315228Z",
     "start_time": "2022-10-20T21:27:35.315218Z"
    },
    "hidden": true
   },
   "outputs": [],
   "source": [
    "nome,idade,comida favorita\n",
    "huan barros,18,muita coisa\n",
    "joão polinario,15,pizza\n",
    "ana barretos,17,lasanha\n",
    "marcos silva,13,sorvete"
   ]
  },
  {
   "cell_type": "markdown",
   "id": "11161896",
   "metadata": {
    "hidden": true
   },
   "source": [
    "\n",
    "### Parâmetros\n",
    "\n",
    "Os parâmetros que esse método pode receber são inumeros, por isso separamos somente os que você provavelmente precisa conhecer no inicio. Mas, caso você queira conhecer todos os parâmetros o link está [aqui](https://pandas.pydata.org/docs/reference/api/pandas.read_csv.html#pandas.read_csv). <br><br>\n",
    "\n",
    "### <font color=purple>_pd.read_csv (_<font> \n",
    "<br>\n",
    "\n",
    "**filepath_or_buffer**<br>\n",
    "**sep** = ',' <br>\n",
    "**header** = 'infer' <br>\n",
    "**names** = _NoDefault.no_default <br>\n",
    "**index_col** = None <br>\n",
    "**usecols** = None <br>\n",
    "**dtype** = None <br> \n",
    "**converters** = None <br>\n",
    "**skiprows** = None <br>\n",
    "**skipfooter** = 0 <br>\n",
    "**nrows** = None <br>\n",
    "**na_values** = None <br>\n",
    "**skipfooter** = True\n",
    "\n",
    "\n",
    "### <font color=purple>_)_ <font> <br>\n",
    "\n"
   ]
  },
  {
   "cell_type": "markdown",
   "id": "8cffbbd0",
   "metadata": {
    "hidden": true
   },
   "source": [
    "\n",
    "### <font color=purple>filepath_or_buffer : str<font>"
   ]
  },
  {
   "cell_type": "markdown",
   "id": "ef91bfc5",
   "metadata": {
    "hidden": true
   },
   "source": [
    "Esse parâmetro é a localização do **arquivo.csv** e deve ser passado no formato de uma string. Se o **arquivo.csv** estiver no mesmo diretório do projeto será necessário ser passado apenas o nome do arquivo, caso contrário você terá que passar o caminho completo da base do seu sistema de arquivos para o **arquivo.csv** que você deseja carregar, por exemplo, /home/audax/Downloads/test_file.csv . Esse parâmetro também aceita a URL do arquivo como localização."
   ]
  },
  {
   "cell_type": "code",
   "execution_count": null,
   "id": "5eaf295c",
   "metadata": {
    "ExecuteTime": {
     "end_time": "2022-10-20T21:27:35.315750Z",
     "start_time": "2022-10-20T21:27:35.315741Z"
    },
    "hidden": true
   },
   "outputs": [],
   "source": [
    "import pandas as pd"
   ]
  },
  {
   "cell_type": "code",
   "execution_count": null,
   "id": "e86e170c",
   "metadata": {
    "ExecuteTime": {
     "end_time": "2022-10-20T21:27:35.316226Z",
     "start_time": "2022-10-20T21:27:35.316218Z"
    },
    "hidden": true
   },
   "outputs": [],
   "source": [
    "df = pd.read_csv('base-de-dados/teste1.csv')\n",
    "df"
   ]
  },
  {
   "cell_type": "markdown",
   "id": "41cba54e",
   "metadata": {
    "hidden": true
   },
   "source": [
    " <br>"
   ]
  },
  {
   "cell_type": "markdown",
   "id": "95d39b0c",
   "metadata": {
    "hidden": true
   },
   "source": [
    "\n",
    "### <font color=purple>sep : str<font>"
   ]
  },
  {
   "cell_type": "markdown",
   "id": "3f32443d",
   "metadata": {
    "hidden": true
   },
   "source": [
    "Significa um separador, que serve para separar os valores de cada linha de um arquivo.csv, o padrão é uma vírgula. No entanto pode haver arquivos com o sepador diferente da virgula, como por exemplo, dois pontos, a barra vertical e muitos outros. Nesse caso é necessário indicar ao parâmetro **sep** que separador é esse."
   ]
  },
  {
   "cell_type": "code",
   "execution_count": null,
   "id": "1d96ea32",
   "metadata": {
    "ExecuteTime": {
     "end_time": "2022-10-20T21:27:35.316807Z",
     "start_time": "2022-10-20T21:27:35.316797Z"
    },
    "hidden": true
   },
   "outputs": [],
   "source": [
    "df = pd.read_csv('base-de-dados/teste2.csv', sep='|') # o arquivo usa a barra vertical como separador\n",
    "df"
   ]
  },
  {
   "cell_type": "markdown",
   "id": "bf5ebd3e",
   "metadata": {
    "hidden": true
   },
   "source": [
    " <br>"
   ]
  },
  {
   "cell_type": "markdown",
   "id": "7c4e8b9a",
   "metadata": {
    "hidden": true
   },
   "source": [
    "É possivel haver mais de um tipo de separador em um arquivo CSV. Por isso o pandas dispolibiliza 3 mecanismos diferentes para o analisador de arquivos CSV. Os mecanismos C, pyarrow e python. C e pyarrow são mais rápidos ná hora de ler o arquivo e separar os valores, no entato eles não conseguem ler arquivos que tenham mais de 1 separador. Já o mecanismo python é atualmente mais completo e é capaz de ler arquivos CSV com mais de 1 separador, no entanto deixa a dejar na sua velocidade.\n",
    "\n",
    "Para usar o pyarrow é necessário fazer a instalação do pyarrow.csv via pip ou conda. Os outros não precisa.\n",
    "\n",
    "Para escolher o mecanismo que você quer usar o pandas disponibilizou o parametro **engine**, que recebe uma str com o nome do mecanismo.<br>\n",
    "\n"
   ]
  },
  {
   "cell_type": "code",
   "execution_count": null,
   "id": "c30a1ae3",
   "metadata": {
    "ExecuteTime": {
     "end_time": "2022-10-20T21:27:35.317697Z",
     "start_time": "2022-10-20T21:27:35.317687Z"
    },
    "hidden": true
   },
   "outputs": [],
   "source": [
    "# é necessário passar os separadores dentro de colchetes, e o tipo do dado tem que ser str\n",
    "df = pd.read_csv('base-de-dados/teste3.csv', sep='[,|:]', engine='python')\n",
    "df"
   ]
  },
  {
   "cell_type": "markdown",
   "id": "8744f366",
   "metadata": {
    "hidden": true
   },
   "source": [
    " <br>"
   ]
  },
  {
   "cell_type": "markdown",
   "id": "c2f0f254",
   "metadata": {
    "hidden": true
   },
   "source": [
    "\n",
    "### <font color=purple>header  : int, list of int<font>"
   ]
  },
  {
   "cell_type": "markdown",
   "id": "af705e99",
   "metadata": {
    "hidden": true
   },
   "source": [
    "Serve para especificar qual linha do seu arquivo será usada como os rótulos das colunas do seu DataFrame. É esperado um valor int ou uma lista de valores int. O valor padrão é **_header=0_**."
   ]
  },
  {
   "cell_type": "code",
   "execution_count": null,
   "id": "922b392b",
   "metadata": {
    "ExecuteTime": {
     "end_time": "2022-10-20T21:27:35.318179Z",
     "start_time": "2022-10-20T21:27:35.318171Z"
    },
    "hidden": true,
    "scrolled": false
   },
   "outputs": [],
   "source": [
    "# Escolhendo a 4ª linha do arquivo como cabeçalho\n",
    "df = pd.read_csv('base-de-dados/teste1.csv', header=3) \n",
    "df"
   ]
  },
  {
   "cell_type": "markdown",
   "id": "beacd24e",
   "metadata": {
    "hidden": true
   },
   "source": [
    " "
   ]
  },
  {
   "cell_type": "code",
   "execution_count": null,
   "id": "3a2b3874",
   "metadata": {
    "ExecuteTime": {
     "end_time": "2022-10-20T21:27:35.318682Z",
     "start_time": "2022-10-20T21:27:35.318673Z"
    },
    "hidden": true
   },
   "outputs": [],
   "source": [
    "# Escolhendo a 1ª e  a 2ª linha do arquivo como cabeçalho\n",
    "df = pd.read_csv('base-de-dados/teste1.csv', header=[0, 1])   # Só pode ser uma lista de ints, outro tipo de array não\n",
    "df"
   ]
  },
  {
   "cell_type": "markdown",
   "id": "5e8f260c",
   "metadata": {
    "hidden": true
   },
   "source": [
    " <br>"
   ]
  },
  {
   "cell_type": "markdown",
   "id": "87dee2ee",
   "metadata": {
    "hidden": true
   },
   "source": [
    "\n",
    "### <font color=purple>names : array - like<font>"
   ]
  },
  {
   "cell_type": "markdown",
   "id": "459d8ee6",
   "metadata": {
    "hidden": true
   },
   "source": [
    "O parâmetro names recebe um array com valores que serão usados como o cabeçalho do DataFrame. O array não pode conter valores repetidos. Caso o seu arquivo CSV já tenha cabeçalho, ele se tornará a primeira linha do DataFrame. Para sobrescrever um cabeçalho já existente é necessário passar **header=0**."
   ]
  },
  {
   "cell_type": "code",
   "execution_count": null,
   "id": "94b3d5c2",
   "metadata": {
    "ExecuteTime": {
     "end_time": "2022-10-20T21:27:35.319156Z",
     "start_time": "2022-10-20T21:27:35.319147Z"
    },
    "hidden": true
   },
   "outputs": [],
   "source": [
    "# Antes de mudar o nome das colunas\n",
    "df = pd.read_csv('base-de-dados/teste1.csv')\n",
    "display(df)\n",
    "\n",
    "# Depois de mudar o nome das colunas\n",
    "df = pd.read_csv('base-de-dados/teste1.csv',header=0, names=['name', 'age', 'favorite food'])\n",
    "display(df)"
   ]
  },
  {
   "cell_type": "markdown",
   "id": "924cd43e",
   "metadata": {
    "hidden": true
   },
   "source": [
    " <br>"
   ]
  },
  {
   "cell_type": "markdown",
   "id": "b66b337b",
   "metadata": {
    "hidden": true
   },
   "source": [
    "\n",
    "\n",
    "### <font color=purple>index_col : int, str, sequence of int or str, or False<font>"
   ]
  },
  {
   "cell_type": "markdown",
   "id": "e72061b7",
   "metadata": {
    "hidden": true
   },
   "source": [
    "Serve para escolher qual coluna será usada como índice do DataFrame, o valor padrão é None/False. Para escolher a coluna você precisa passar o nome ou o índice da coluna. Também é possivel passar uma lista com os nomes ou os índices da colunas que você queira que virem o índice do seu DataFrame. Ao fazer isso um MultiIndex será usado, ou seja, o seu DataFrame terá mutiplos índices."
   ]
  },
  {
   "cell_type": "code",
   "execution_count": null,
   "id": "4ca589ba",
   "metadata": {
    "ExecuteTime": {
     "end_time": "2022-10-20T21:27:35.319803Z",
     "start_time": "2022-10-20T21:27:35.319794Z"
    },
    "hidden": true
   },
   "outputs": [],
   "source": [
    "# Utilizando o indice da coluna\n",
    "\n",
    "df = pd.read_csv('base-de-dados/teste1.csv', index_col=0)\n",
    "df"
   ]
  },
  {
   "cell_type": "markdown",
   "id": "5b4477b7",
   "metadata": {
    "hidden": true
   },
   "source": [
    " "
   ]
  },
  {
   "cell_type": "code",
   "execution_count": null,
   "id": "be2ba971",
   "metadata": {
    "ExecuteTime": {
     "end_time": "2022-10-20T21:27:35.320357Z",
     "start_time": "2022-10-20T21:27:35.320348Z"
    },
    "hidden": true
   },
   "outputs": [],
   "source": [
    "# Utilizando o nome da coluna\n",
    "\n",
    "df = pd.read_csv('base-de-dados/teste1.csv', index_col='nome')\n",
    "df"
   ]
  },
  {
   "cell_type": "markdown",
   "id": "f38ab556",
   "metadata": {
    "hidden": true
   },
   "source": [
    " \n"
   ]
  },
  {
   "cell_type": "code",
   "execution_count": null,
   "id": "38c306bf",
   "metadata": {
    "ExecuteTime": {
     "end_time": "2022-10-20T21:27:35.320908Z",
     "start_time": "2022-10-20T21:27:35.320897Z"
    },
    "hidden": true
   },
   "outputs": [],
   "source": [
    "# Utilizando uma lista com os indices das colunas, poderia ser outro tipo de array\n",
    "\n",
    "df = pd.read_csv('base-de-dados/teste1.csv', index_col= [0, 2])\n",
    "df"
   ]
  },
  {
   "cell_type": "markdown",
   "id": "f6e42dd3",
   "metadata": {
    "hidden": true
   },
   "source": [
    " "
   ]
  },
  {
   "cell_type": "code",
   "execution_count": null,
   "id": "158baaa5",
   "metadata": {
    "ExecuteTime": {
     "end_time": "2022-10-20T21:27:35.321388Z",
     "start_time": "2022-10-20T21:27:35.321379Z"
    },
    "hidden": true
   },
   "outputs": [],
   "source": [
    "# Utilizando uma lista com os nomes das colunas, poderia ser outro tipo de array\n",
    "\n",
    "df = pd.read_csv('base-de-dados/teste1.csv', index_col= ['nome', 'comida favorita'])\n",
    "df"
   ]
  },
  {
   "cell_type": "markdown",
   "id": "52985e12",
   "metadata": {
    "hidden": true
   },
   "source": [
    " <br>"
   ]
  },
  {
   "cell_type": "markdown",
   "id": "a79affe6",
   "metadata": {
    "hidden": true
   },
   "source": [
    "\n",
    "### <font color=purple>usecols : list-like ou callable<font>"
   ]
  },
  {
   "cell_type": "markdown",
   "id": "245e0c98",
   "metadata": {
    "hidden": true
   },
   "source": [
    "Serve para especificar quais colunas do arquivo CSV devem ser importadas para o DataFrame. O padrão é None, ou seja, todas as colunas serão importadas. O parâmetro deve receber uma lista com os índices ou os nomes das colunas que devem ser importadas para o DataFrame."
   ]
  },
  {
   "cell_type": "code",
   "execution_count": null,
   "id": "0199a499",
   "metadata": {
    "ExecuteTime": {
     "end_time": "2022-10-20T21:27:35.321866Z",
     "start_time": "2022-10-20T21:27:35.321857Z"
    },
    "hidden": true
   },
   "outputs": [],
   "source": [
    "# Utilizando os índice da coluna\n",
    "\n",
    "df = pd.read_csv('base-de-dados/teste1.csv', usecols=[0, 2]) # É possivel escolher apenas uma coluna, mas o indice\n",
    "                                                         # presica estar dentro de uma lista.\n",
    "df"
   ]
  },
  {
   "cell_type": "markdown",
   "id": "7dca3e55",
   "metadata": {
    "hidden": true
   },
   "source": [
    " "
   ]
  },
  {
   "cell_type": "code",
   "execution_count": null,
   "id": "8403a39d",
   "metadata": {
    "ExecuteTime": {
     "end_time": "2022-10-20T21:27:35.322342Z",
     "start_time": "2022-10-20T21:27:35.322334Z"
    },
    "hidden": true
   },
   "outputs": [],
   "source": [
    "# Utilizando os nomes da coluna\n",
    "\n",
    "df = pd.read_csv('base-de-dados/teste1.csv', usecols=['nome', 'comida favorita'])\n",
    "df"
   ]
  },
  {
   "cell_type": "markdown",
   "id": "b9c728f2",
   "metadata": {
    "hidden": true
   },
   "source": [
    " <br>"
   ]
  },
  {
   "cell_type": "markdown",
   "id": "f196e5f3",
   "metadata": {
    "hidden": true
   },
   "source": [
    "\n",
    "### <font color=purple>dtype : Type name or dict of column -> type, optional<font>"
   ]
  },
  {
   "cell_type": "markdown",
   "id": "281ffd51",
   "metadata": {
    "hidden": true
   },
   "source": [
    "O parâmetro dtype serve para determinar o tipo de dado que cada coluna deve ter. Ele recebe um dicionário, aonde a chave do dicionário, deve ser nome da coluna e o valor da chave, o tipo de dado que será forçado na coluna."
   ]
  },
  {
   "cell_type": "code",
   "execution_count": null,
   "id": "a53eb1f9",
   "metadata": {
    "ExecuteTime": {
     "end_time": "2022-10-20T21:27:35.322911Z",
     "start_time": "2022-10-20T21:27:35.322902Z"
    },
    "hidden": true
   },
   "outputs": [],
   "source": [
    "df = pd.read_csv('base-de-dados/teste1.csv', dtype={'nome':'string', 'idade':'float', 'comida favorita':'string'})\n",
    "\n",
    "df.dtypes"
   ]
  },
  {
   "cell_type": "markdown",
   "id": "b774d58b",
   "metadata": {
    "hidden": true
   },
   "source": [
    " <br>"
   ]
  },
  {
   "cell_type": "markdown",
   "id": "999ba805",
   "metadata": {
    "hidden": true
   },
   "source": [
    "\n",
    "### <font color=purple>converters : dict<font>"
   ]
  },
  {
   "cell_type": "markdown",
   "id": "c9641de0",
   "metadata": {
    "hidden": true
   },
   "source": [
    "O parametro converters possiblita que você faça alterações, transformações ou conversões nos valores das colunas do arquivo CSV enquanto importa o próprio CSV. Para isso é necessário passar um dicionário com funções. A chave do dicionário deve conter o nome da coluna e o valor da chave a função. \n",
    "\n",
    "Vamos a um exemplo: o objetivo é, da coluna nome, pegar somente o primeiro nome da pessoa. E da coluna idade, transformar os anos em meses."
   ]
  },
  {
   "cell_type": "code",
   "execution_count": null,
   "id": "de445ab6",
   "metadata": {
    "ExecuteTime": {
     "end_time": "2022-10-20T21:27:35.323393Z",
     "start_time": "2022-10-20T21:27:35.323384Z"
    },
    "hidden": true
   },
   "outputs": [],
   "source": [
    "# DataFrame importado sem alterações\n",
    "df1 = pd.read_csv( filepath_or_buffer = 'base-de-dados/teste1.csv') \n",
    "display(df1)\n",
    "\n",
    "\n",
    "# DataFrame importado com alterações\n",
    "df2 = pd.read_csv(\n",
    "    \n",
    "    filepath_or_buffer = 'base-de-dados/teste1.csv',\n",
    "    converters = {'nome' : lambda x: x.split()[0],\n",
    "                  'idade': lambda x: int(x)*12}\n",
    ")\n",
    "\n",
    "display(df2)"
   ]
  },
  {
   "cell_type": "markdown",
   "id": "e366d85a",
   "metadata": {
    "hidden": true
   },
   "source": [
    " <br>"
   ]
  },
  {
   "cell_type": "markdown",
   "id": "3976a0a8",
   "metadata": {
    "hidden": true
   },
   "source": [
    "\n",
    "### <font color=purple>skiprows : list-like, int ou callable<font>"
   ]
  },
  {
   "cell_type": "markdown",
   "id": "fad77fd8",
   "metadata": {
    "hidden": true
   },
   "source": [
    "O skiprows serve para definir quais linhas desde o inicio do arquivo devem ser ignoradas na hora da importação. O skiprows pode receber 3 tipos de valores, um numero (int), uma lista de índices ou uma função. O valor padrão do parâmetro é **None**."
   ]
  },
  {
   "cell_type": "markdown",
   "id": "1517d42c",
   "metadata": {
    "hidden": true
   },
   "source": [
    "Suponha que você queira ignorar as 3 primeiras linhas do arquivo, para isso basta passar ao parâmetro o numero 3. Se você quer ignorar as **n** primeiras linhas do arquivo é só passar o numero **n** ao parâmetro. Quando essa operação é feita, a linha **n+1** se tornará o cabeçalho do dataframe. Veja um exemplo. "
   ]
  },
  {
   "cell_type": "code",
   "execution_count": null,
   "id": "1d8d7701",
   "metadata": {
    "ExecuteTime": {
     "end_time": "2022-10-20T21:27:35.323858Z",
     "start_time": "2022-10-20T21:27:35.323849Z"
    },
    "hidden": true
   },
   "outputs": [],
   "source": [
    "# dataframe original\n",
    "df = pd.read_csv('base-de-dados/teste1.csv')\n",
    "display(df)\n",
    "\n",
    "# dataframe depois de pular as linhas\n",
    "df = pd.read_csv('base-de-dados/teste1.csv', skiprows=2)\n",
    "display(df)"
   ]
  },
  {
   "cell_type": "markdown",
   "id": "1566b25e",
   "metadata": {
    "hidden": true
   },
   "source": [
    " <br>"
   ]
  },
  {
   "cell_type": "markdown",
   "id": "ab6d5917",
   "metadata": {
    "hidden": true
   },
   "source": [
    "Caso queira pular linhas específicas, você pode passar uma lista com os índices das linhas a serem ignoradas."
   ]
  },
  {
   "cell_type": "code",
   "execution_count": null,
   "id": "de1c8499",
   "metadata": {
    "ExecuteTime": {
     "end_time": "2022-10-20T21:27:35.324329Z",
     "start_time": "2022-10-20T21:27:35.324321Z"
    },
    "hidden": true
   },
   "outputs": [],
   "source": [
    "# dataframe original\n",
    "df = pd.read_csv('base-de-dados/teste1.csv')\n",
    "display(df)\n",
    "\n",
    "# dataframe depois de pular as linhas\n",
    "df = pd.read_csv('base-de-dados/teste1.csv', skiprows=[1, 3])\n",
    "display(df)"
   ]
  },
  {
   "cell_type": "markdown",
   "id": "38ee7404",
   "metadata": {
    "hidden": true
   },
   "source": [
    " <br>"
   ]
  },
  {
   "cell_type": "markdown",
   "id": "9aa1d772",
   "metadata": {
    "hidden": true
   },
   "source": [
    "Também é possivel passar uma função ao parâmetro para pular linhas específcas. Vamos passar uma função lambda que vai ignorar as linhas ímpares. Quando um linha for ímpar a função lambda retorna True indicando que essa linha deve ser ignorada caso ela seja par a função lambda retorna False indicando que esse linha não deve ser ignorada. "
   ]
  },
  {
   "cell_type": "code",
   "execution_count": null,
   "id": "5e380b82",
   "metadata": {
    "ExecuteTime": {
     "end_time": "2022-10-20T21:27:35.326079Z",
     "start_time": "2022-10-20T21:27:35.326069Z"
    },
    "hidden": true
   },
   "outputs": [],
   "source": [
    "# dataframe original\n",
    "df = pd.read_csv('base-de-dados/teste1.csv')\n",
    "display(df)\n",
    "\n",
    "# dataframe depois de pular as linhas\n",
    "df = pd.read_csv('base-de-dados/teste1.csv', skiprows= lambda n: n%2!=0)\n",
    "display(df)"
   ]
  },
  {
   "cell_type": "markdown",
   "id": "7e542d88",
   "metadata": {
    "hidden": true
   },
   "source": [
    " <br>"
   ]
  },
  {
   "cell_type": "markdown",
   "id": "0b7a770d",
   "metadata": {
    "hidden": true
   },
   "source": [
    "\n",
    "### <font color=purple>skipfooter : int <font>"
   ]
  },
  {
   "cell_type": "markdown",
   "id": "96927c95",
   "metadata": {
    "hidden": true
   },
   "source": [
    "Serve para definir o numero de linhas que devem ser igonaradas na parte inferior do arquivo. O valor padrão é 0. **Não suportado com engine='c'**, ou seja, quando você precisar ignorar algumas linhas da parte inferior do arquivo, terá que usar o engine python ou pyarrow. Vamos a um exemplo:"
   ]
  },
  {
   "cell_type": "code",
   "execution_count": null,
   "id": "847382df",
   "metadata": {
    "ExecuteTime": {
     "end_time": "2022-10-20T21:27:35.327674Z",
     "start_time": "2022-10-20T21:27:35.327663Z"
    },
    "hidden": true
   },
   "outputs": [],
   "source": [
    "# dataframe original\n",
    "df = pd.read_csv('base-de-dados/teste1.csv')\n",
    "display(df)\n",
    "\n",
    "# dataframe depois de pular as linhas\n",
    "df = pd.read_csv('base-de-dados/teste1.csv',engine='python' ,skipfooter = 1)\n",
    "display(df)"
   ]
  },
  {
   "cell_type": "markdown",
   "id": "44695d87",
   "metadata": {
    "hidden": true
   },
   "source": [
    " <br>"
   ]
  },
  {
   "cell_type": "markdown",
   "id": "ac81e4a3",
   "metadata": {
    "hidden": true
   },
   "source": [
    "\n",
    "### <font color=purple>nrows : int<font>"
   ]
  },
  {
   "cell_type": "markdown",
   "id": "6738fb37",
   "metadata": {
    "hidden": true
   },
   "source": [
    "Numero de linhas do arquivo a serem lidas, o cabeçário vem incluso por padrão. Útil para ler pedaçõs de arquivos grandes. O valor padrão do parâmetro é None.\n",
    "\n",
    "Obs: Se você colocar um numero maior que o numero de linhas existente no arquivo não acontece nada, o pandas simplismente ler o arquivo todo."
   ]
  },
  {
   "cell_type": "code",
   "execution_count": null,
   "id": "1f246652",
   "metadata": {
    "ExecuteTime": {
     "end_time": "2022-10-20T21:27:35.328685Z",
     "start_time": "2022-10-20T21:27:35.328675Z"
    },
    "hidden": true
   },
   "outputs": [],
   "source": [
    "# dataframe original\n",
    "df = pd.read_csv('base-de-dados/teste1.csv')\n",
    "display(df)\n",
    "\n",
    "# dataframe depois de pular as linhas\n",
    "df = pd.read_csv('base-de-dados/teste1.csv',nrows=2)\n",
    "display(df)"
   ]
  },
  {
   "cell_type": "markdown",
   "id": "49abc80f",
   "metadata": {
    "hidden": true
   },
   "source": [
    " <br>"
   ]
  },
  {
   "cell_type": "markdown",
   "id": "5a320c26",
   "metadata": {
    "hidden": true
   },
   "source": [
    "\n",
    "### <font color=purple>na_values : scalar, str, list-like ou dict<font>"
   ]
  },
  {
   "cell_type": "markdown",
   "id": "465cc346",
   "metadata": {
    "hidden": true
   },
   "source": [
    "\n",
    "Por padrão, os seguintes valores são interpretados como nulo: \n",
    "\n",
    "**'NaN'** ﾠﾠ**'n /a'**ﾠﾠﾠ**'nan'**ﾠﾠﾠ**'null'**<br>\n",
    "\n",
    "**''**ﾠﾠﾠﾠ**'#N/A'**ﾠﾠ**'#N/AN/A'**ﾠﾠ**'#NA'**<br>\n",
    "\n",
    "**'-1.#IND'**ﾠﾠ**'-1.#QNAN'**ﾠﾠﾠ**'-NaN'**\n",
    "\n",
    "**'-nan'**ﾠﾠﾠ**'1.#IND'**ﾠﾠﾠﾠ**'1.#QNAN'**\n",
    "\n",
    "**'N/A'**ﾠﾠﾠﾠ**'NA'**ﾠﾠﾠﾠﾠﾠ**'NULL'**\n",
    "\n",
    "<br>\n",
    "\n",
    "Com o parâmetro na_values você pode definir outros valores para serem considerado como nulos no momento da importação do arquivo. "
   ]
  },
  {
   "cell_type": "markdown",
   "id": "26f9580c",
   "metadata": {
    "hidden": true
   },
   "source": [
    "É possivel passar como valor para ao parâmetro um dicionário, aonde a chave do dicionário deve ser o nome da coluna e o valor da chave deve ser os valores que deverão ser considerados nulos, pode ser uma str ou uma lista de str."
   ]
  },
  {
   "cell_type": "code",
   "execution_count": null,
   "id": "3451e1d5",
   "metadata": {
    "ExecuteTime": {
     "end_time": "2022-10-20T21:27:35.329540Z",
     "start_time": "2022-10-20T21:27:35.329529Z"
    },
    "hidden": true
   },
   "outputs": [],
   "source": [
    "df = pd.read_csv(\n",
    "    \n",
    "    filepath_or_buffer='base-de-dados/teste1.csv', \n",
    "    na_values= {'idade' : '18',\n",
    "                'comida favorita' : ['pizza', 'sorvete']}\n",
    ")\n",
    "\n",
    "df"
   ]
  },
  {
   "cell_type": "markdown",
   "id": "334f0570",
   "metadata": {
    "hidden": true
   },
   "source": [
    " <br>"
   ]
  },
  {
   "cell_type": "markdown",
   "id": "8b07e4d0",
   "metadata": {
    "hidden": true
   },
   "source": [
    "Também é possivel definir quais valores devem ser considerados nulos sem filtrar pela coluna, ou seja, não importa a coluna que o valor estiver ele será considerado como nulo. Basta passar ao parâmetro uma str ou uma lista de str, com os valores que deverão ser considerados nulos. "
   ]
  },
  {
   "cell_type": "code",
   "execution_count": null,
   "id": "78468baf",
   "metadata": {
    "ExecuteTime": {
     "end_time": "2022-10-20T21:27:35.330994Z",
     "start_time": "2022-10-20T21:27:35.330984Z"
    },
    "hidden": true
   },
   "outputs": [],
   "source": [
    "df = pd.read_csv(\n",
    "    \n",
    "    filepath_or_buffer='base-de-dados/teste1.csv', \n",
    "    na_values= ['18', 'sorvete']\n",
    ")\n",
    "\n",
    "df"
   ]
  },
  {
   "cell_type": "markdown",
   "id": "9352bbe1",
   "metadata": {
    "hidden": true
   },
   "source": [
    " <br>"
   ]
  },
  {
   "cell_type": "markdown",
   "id": "01de6921",
   "metadata": {
    "hidden": true
   },
   "source": [
    "\n",
    "### <font color=purple>skip_blank_lines : bool, padrão True<font>"
   ]
  },
  {
   "cell_type": "markdown",
   "id": "ba610546",
   "metadata": {
    "hidden": true
   },
   "source": [
    "Se o valor passado ao parâmetro for True, as linhas em branco serão puldas em vez de interpretadas como valores NaN."
   ]
  },
  {
   "cell_type": "code",
   "execution_count": null,
   "id": "92feceeb",
   "metadata": {
    "ExecuteTime": {
     "end_time": "2022-10-20T21:27:35.332110Z",
     "start_time": "2022-10-20T21:27:35.332100Z"
    },
    "hidden": true
   },
   "outputs": [],
   "source": [
    "# sem desconsiderar as linhas brancas\n",
    "df = pd.read_csv(\n",
    "    \n",
    "    filepath_or_buffer='base-de-dados/teste4.csv', \n",
    "    skip_blank_lines=False\n",
    ")\n",
    "\n",
    "df"
   ]
  },
  {
   "cell_type": "markdown",
   "id": "1466bb38",
   "metadata": {
    "hidden": true
   },
   "source": [
    " "
   ]
  },
  {
   "cell_type": "code",
   "execution_count": null,
   "id": "c0c46afc",
   "metadata": {
    "ExecuteTime": {
     "end_time": "2022-10-20T21:27:35.332891Z",
     "start_time": "2022-10-20T21:27:35.332878Z"
    },
    "hidden": true
   },
   "outputs": [],
   "source": [
    "# desconsiderando as linhas brancas\n",
    "df = pd.read_csv(\n",
    "    \n",
    "    filepath_or_buffer='base-de-dados/teste4.csv', \n",
    "    skip_blank_lines=True\n",
    ")\n",
    "\n",
    "df"
   ]
  },
  {
   "cell_type": "markdown",
   "id": "b054da7b",
   "metadata": {
    "hidden": true
   },
   "source": [
    " <br>"
   ]
  },
  {
   "cell_type": "markdown",
   "id": "fce7e213",
   "metadata": {
    "hidden": true
   },
   "source": [
    "\n",
    "## Dicas\n",
    "\n",
    "- Antes de carregar o arquivo CSV em um quadro de dados do pandas, sempre dê uma olhada no arquivo. Ele o ajudará a estimar quais colunas você deve importar e determinar quais tipos de dados suas colunas devem ter.\n",
    "\n",
    "\n",
    "- Você também deve procurar a contagem total de linhas do conjunto de dados. Um sistema com 4 GB de RAM pode não consegue carregar 7 a 8 milhões de linhas."
   ]
  },
  {
   "cell_type": "markdown",
   "id": "f02b008f",
   "metadata": {
    "hidden": true
   },
   "source": [
    " <br>"
   ]
  },
  {
   "cell_type": "markdown",
   "id": "3be4cf4e",
   "metadata": {
    "heading_collapsed": true,
    "hidden": true
   },
   "source": [
    "## 👾 <font size=5>Visualisando um dataframe<font>"
   ]
  },
  {
   "cell_type": "markdown",
   "id": "9b72ab45",
   "metadata": {
    "hidden": true
   },
   "source": [
    "Neste tópico iremos aprender algumas formas de visualisar um dataframe. A baixo segue alguns métodos que iremos estudar."
   ]
  },
  {
   "cell_type": "markdown",
   "id": "c3864d53",
   "metadata": {
    "hidden": true
   },
   "source": [
    "- print(df)\n",
    "- display(df)\n",
    "- DataFrame.head( )\n",
    "- DataFrame.tail( )"
   ]
  },
  {
   "cell_type": "markdown",
   "id": "e5188289",
   "metadata": {
    "heading_collapsed": true,
    "hidden": true
   },
   "source": [
    "### 🐥 print( )"
   ]
  },
  {
   "cell_type": "markdown",
   "id": "22813fa8",
   "metadata": {
    "hidden": true
   },
   "source": [
    "Uma das maneiras mais simples de ver um dataframe. Por ser tão simples não é reconmendável ustilizá-lo, estou apresentando ele apenas para dizer que é possivel."
   ]
  },
  {
   "cell_type": "code",
   "execution_count": null,
   "id": "5b4fd484",
   "metadata": {
    "ExecuteTime": {
     "end_time": "2022-10-20T21:27:35.333740Z",
     "start_time": "2022-10-20T21:27:35.333730Z"
    },
    "hidden": true
   },
   "outputs": [],
   "source": [
    "df = pd.read_csv(filepath_or_buffer='base-de-dados/teste1.csv')\n",
    "\n",
    "print(df) # Apenas coloque o nome do dataframe dentro da função"
   ]
  },
  {
   "cell_type": "markdown",
   "id": "6ea807ab",
   "metadata": {
    "hidden": true
   },
   "source": [
    " <br>"
   ]
  },
  {
   "cell_type": "markdown",
   "id": "5fed1334",
   "metadata": {
    "heading_collapsed": true,
    "hidden": true
   },
   "source": [
    "### 🐥 display( )"
   ]
  },
  {
   "cell_type": "markdown",
   "id": "f0dc17b9",
   "metadata": {
    "ExecuteTime": {
     "end_time": "2022-10-13T22:12:23.578382Z",
     "start_time": "2022-10-13T22:12:23.571922Z"
    },
    "hidden": true
   },
   "source": [
    "A função display pode-se dizer que é um print( ) melhorado. Essa função mostra o dataframe em um formato de tabela beem agrádavel."
   ]
  },
  {
   "cell_type": "code",
   "execution_count": null,
   "id": "8d948800",
   "metadata": {
    "ExecuteTime": {
     "end_time": "2022-10-20T21:27:35.334543Z",
     "start_time": "2022-10-20T21:27:35.334534Z"
    },
    "hidden": true
   },
   "outputs": [],
   "source": [
    "df = pd.read_csv(filepath_or_buffer='base-de-dados/teste1.csv')\n",
    "\n",
    "display(df)"
   ]
  },
  {
   "cell_type": "markdown",
   "id": "df5048e7",
   "metadata": {
    "hidden": true
   },
   "source": [
    " <br>"
   ]
  },
  {
   "cell_type": "markdown",
   "id": "521bf45b",
   "metadata": {
    "heading_collapsed": true,
    "hidden": true
   },
   "source": [
    "### 🐥 DataFrame.head( )"
   ]
  },
  {
   "cell_type": "markdown",
   "id": "f5d6b4e3",
   "metadata": {
    "hidden": true
   },
   "source": [
    "O metodo head( ) serve para visualizas as n primeiras linhas de um dataframe."
   ]
  },
  {
   "cell_type": "markdown",
   "id": "dda026b5",
   "metadata": {
    "hidden": true
   },
   "source": [
    "\n",
    "### Parametros"
   ]
  },
  {
   "cell_type": "markdown",
   "id": "0ffa93df",
   "metadata": {
    "hidden": true
   },
   "source": [
    "Esse método recebe apenas 1 parâmetro, veja."
   ]
  },
  {
   "cell_type": "markdown",
   "id": "9895b105",
   "metadata": {
    "hidden": true
   },
   "source": [
    "\n",
    "### n : int"
   ]
  },
  {
   "cell_type": "markdown",
   "id": "5c16d1cf",
   "metadata": {
    "hidden": true
   },
   "source": [
    "Esse parâmetro serve para definir a quantidade de linhas que você deseja visualisar. Veja o exemplo abaixo."
   ]
  },
  {
   "cell_type": "code",
   "execution_count": null,
   "id": "be6c51cb",
   "metadata": {
    "ExecuteTime": {
     "end_time": "2022-10-20T21:27:35.335392Z",
     "start_time": "2022-10-20T21:27:35.335382Z"
    },
    "hidden": true
   },
   "outputs": [],
   "source": [
    "df = pd.read_csv(filepath_or_buffer='base-de-dados/teste1.csv')\n",
    "\n",
    "# todo o dataframe\n",
    "display(df)\n",
    "\n",
    "# apenas as 2 primeiras linhas\n",
    "display(df.head(n=2))"
   ]
  },
  {
   "cell_type": "markdown",
   "id": "b6b400e7",
   "metadata": {
    "hidden": true
   },
   "source": [
    " <br>"
   ]
  },
  {
   "cell_type": "markdown",
   "id": "3fd81c20",
   "metadata": {
    "heading_collapsed": true,
    "hidden": true
   },
   "source": [
    "### 🐥 DataFrame.tail( )"
   ]
  },
  {
   "cell_type": "markdown",
   "id": "99cd5a06",
   "metadata": {
    "hidden": true
   },
   "source": [
    "Esse parâmetro é o contrário do head(), basicamente ele serve para ver as ultimas n linhas de um dataframe."
   ]
  },
  {
   "cell_type": "markdown",
   "id": "076b3758",
   "metadata": {
    "hidden": true
   },
   "source": [
    "\n",
    "### Parametros"
   ]
  },
  {
   "cell_type": "markdown",
   "id": "b1633798",
   "metadata": {
    "hidden": true
   },
   "source": [
    "Esse método recebe apenas 1 parâmetro, veja."
   ]
  },
  {
   "cell_type": "markdown",
   "id": "d1c08f5d",
   "metadata": {
    "hidden": true
   },
   "source": [
    "\n",
    "### n : int"
   ]
  },
  {
   "cell_type": "markdown",
   "id": "ee25d339",
   "metadata": {
    "hidden": true
   },
   "source": [
    "Esse parâmetro serve para definir a quantidade de linhas que você deseja visualisar. Veja o exemplo abaixo."
   ]
  },
  {
   "cell_type": "code",
   "execution_count": null,
   "id": "8845bf95",
   "metadata": {
    "ExecuteTime": {
     "end_time": "2022-10-20T21:27:35.336371Z",
     "start_time": "2022-10-20T21:27:35.336361Z"
    },
    "hidden": true
   },
   "outputs": [],
   "source": [
    "df = pd.read_csv(filepath_or_buffer='base-de-dados/teste1.csv')\n",
    "\n",
    "# todo o dataframe\n",
    "display(df)\n",
    "\n",
    "# apenas as 2 ultimas linhas\n",
    "display(df.tail(n=2))"
   ]
  },
  {
   "cell_type": "markdown",
   "id": "fbf21d91",
   "metadata": {
    "hidden": true
   },
   "source": [
    " <br>"
   ]
  },
  {
   "cell_type": "markdown",
   "id": "216b8cdc",
   "metadata": {
    "heading_collapsed": true,
    "hidden": true
   },
   "source": [
    "## 👾 <font size=5>Indexação basica<font>"
   ]
  },
  {
   "cell_type": "markdown",
   "id": "f894cee5",
   "metadata": {
    "hidden": true
   },
   "source": [
    "- Selecionar linha (s)\n",
    "- Selecionar coluna (s)\n",
    "- Selecionar linha (s) e selecionar coluna (s) específica (s)\n",
    "- Selecionar 1 valor em especifico\n"
   ]
  },
  {
   "cell_type": "markdown",
   "id": "917d0c13",
   "metadata": {
    "heading_collapsed": true,
    "hidden": true
   },
   "source": [
    "## 👾 <font size=5>Indexação booleana<font>"
   ]
  },
  {
   "cell_type": "markdown",
   "id": "6aafeb9c",
   "metadata": {
    "hidden": true
   },
   "source": [
    "- Selecionar linha (s) usando condições"
   ]
  },
  {
   "cell_type": "markdown",
   "id": "aab4fd6f",
   "metadata": {
    "heading_collapsed": true,
    "hidden": true
   },
   "source": [
    "## 👾 <font size=5>Indexação utilizando métodos<font>"
   ]
  },
  {
   "cell_type": "markdown",
   "id": "40d9a1f1",
   "metadata": {
    "hidden": true
   },
   "source": [
    "- DataFrame.select_dtype( )\n",
    "- DataFrame.loc \n",
    "- DataFrame.iloc"
   ]
  },
  {
   "cell_type": "markdown",
   "id": "cd65d08b",
   "metadata": {
    "heading_collapsed": true,
    "hidden": true
   },
   "source": [
    "## 👾 <font size=5>Coletando informações sobre o DataFrame<font>"
   ]
  },
  {
   "cell_type": "markdown",
   "id": "0fded44c",
   "metadata": {
    "hidden": true
   },
   "source": [
    "Nesse tópico eu pretendo mostrar algumas formar de coletar informações de um DataFrame. Informações essas, que serão importante para entender melhor os seus dados. Segue a baixo alguns métodos e atributos que usaremos."
   ]
  },
  {
   "cell_type": "markdown",
   "id": "3cbaed66",
   "metadata": {
    "hidden": true
   },
   "source": [
    "- DataFrame.dtypes\n",
    "- DataFrame.columns\n",
    "- DataFrame.index\n",
    "- DataFrame.shape\n",
    "- DataFrame.max( )\n",
    "- DataFrame.min( )\n",
    "- DataFrame.mean( )\n",
    "- DataFrame.median( )\n",
    "- DataFrame.std( )\n",
    "- DataFrame.describe( )\n",
    "- DataFrame.unique( ) e nunique( )\n",
    "- DataFrame.count( )\n",
    "- DataFrame.value_counts( )\n",
    "- DataFrame.sample( )\n",
    "- pd.crosstab( )"
   ]
  },
  {
   "cell_type": "markdown",
   "id": "b5b4516f",
   "metadata": {
    "heading_collapsed": true,
    "hidden": true
   },
   "source": [
    "## 👾 <font size=5>Exportando arquivos ou base de dados<font>"
   ]
  },
  {
   "cell_type": "markdown",
   "id": "0a731e18",
   "metadata": {
    "heading_collapsed": true,
    "hidden": true
   },
   "source": [
    "###  🐥 DataFrame.to_csv( )\n"
   ]
  },
  {
   "cell_type": "markdown",
   "id": "66be15ad",
   "metadata": {
    "heading_collapsed": true,
    "hidden": true
   },
   "source": [
    "## 👾 <font size=5>Resumo do que você precisa aprender sobre um DataFrame<font>"
   ]
  },
  {
   "cell_type": "markdown",
   "id": "55e401a0",
   "metadata": {
    "hidden": true
   },
   "source": [
    "\n",
    "### Adicionar colunas em um DataFrame \n",
    "\n",
    "- Com DataFrame.loc e sem ele \n",
    "\n",
    "### Adicionar linhas ou juntar DataFrames\n",
    "\n",
    "- pd.concat( )\n",
    "\n",
    "### Excluir linhas e/ou colunas de um DataFrame\n",
    "\n",
    "- DataFrame.drop( )\n",
    "\n",
    "### Trabalhar com valores ausentes\n",
    "\n",
    "- DataFrame.isnull( )\n",
    "- DataFrame.notnull( )\n",
    "- DataFrame.dropna( )\n",
    "- DataFrame.fillna( )\n",
    "- DataFrame.ffill()\n",
    "\n",
    "### Outras operaçoẽs \n",
    "\n",
    "- DataFrame.apply( )\n",
    "- DataFrame.merge( )\n",
    "- DataFrame.map( )\n",
    "- DataFrame.astype( )\n",
    "- DataFrame.set_index( )\n",
    "- DataFrame.sort_values( )\n",
    "- DataFrame.groupby( )\n",
    "- DataFrame.T (transposta)\n",
    "- DataFrame.pivot( )\n",
    "- DataFrame.replace( )\n",
    "- pd.cut( )\n",
    "- pd.crosstab( )\n",
    "\n",
    "### Criar gráficos\n",
    "\n",
    "- DataFrame.plot( )\n",
    "- DataFrame.plot.box( )\n",
    "- DataFrame.plot.hist( ) e muito mais"
   ]
  }
 ],
 "metadata": {
  "kernelspec": {
   "display_name": "Python 3 (ipykernel)",
   "language": "python",
   "name": "python3"
  },
  "language_info": {
   "codemirror_mode": {
    "name": "ipython",
    "version": 3
   },
   "file_extension": ".py",
   "mimetype": "text/x-python",
   "name": "python",
   "nbconvert_exporter": "python",
   "pygments_lexer": "ipython3",
   "version": "3.10.7"
  },
  "varInspector": {
   "cols": {
    "lenName": 16,
    "lenType": 16,
    "lenVar": 40
   },
   "kernels_config": {
    "python": {
     "delete_cmd_postfix": "",
     "delete_cmd_prefix": "del ",
     "library": "var_list.py",
     "varRefreshCmd": "print(var_dic_list())"
    },
    "r": {
     "delete_cmd_postfix": ") ",
     "delete_cmd_prefix": "rm(",
     "library": "var_list.r",
     "varRefreshCmd": "cat(var_dic_list()) "
    }
   },
   "types_to_exclude": [
    "module",
    "function",
    "builtin_function_or_method",
    "instance",
    "_Feature"
   ],
   "window_display": false
  },
  "vscode": {
   "interpreter": {
    "hash": "e7370f93d1d0cde622a1f8e1c04877d8463912d04d973331ad4851f04de6915a"
   }
  }
 },
 "nbformat": 4,
 "nbformat_minor": 5
}

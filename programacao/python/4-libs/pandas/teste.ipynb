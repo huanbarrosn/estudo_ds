{
 "cells": [
  {
   "cell_type": "code",
   "execution_count": 1,
   "id": "eca45747",
   "metadata": {
    "ExecuteTime": {
     "end_time": "2022-12-17T03:35:25.181678Z",
     "start_time": "2022-12-17T03:35:24.976358Z"
    }
   },
   "outputs": [],
   "source": [
    "import pandas as pd"
   ]
  },
  {
   "cell_type": "code",
   "execution_count": 31,
   "id": "baa672e6",
   "metadata": {
    "ExecuteTime": {
     "end_time": "2022-12-17T03:56:25.143652Z",
     "start_time": "2022-12-17T03:56:25.137792Z"
    }
   },
   "outputs": [],
   "source": [
    "x = pd.Series( [1, 2, 3], index= [10 , 20 , 30] )"
   ]
  },
  {
   "cell_type": "code",
   "execution_count": 34,
   "id": "11e2cbbe",
   "metadata": {
    "ExecuteTime": {
     "end_time": "2022-12-17T03:56:36.472011Z",
     "start_time": "2022-12-17T03:56:36.466462Z"
    }
   },
   "outputs": [
    {
     "data": {
      "text/plain": [
       "1"
      ]
     },
     "execution_count": 34,
     "metadata": {},
     "output_type": "execute_result"
    }
   ],
   "source": [
    "x[10]"
   ]
  }
 ],
 "metadata": {
  "kernelspec": {
   "display_name": "Python 3 (ipykernel)",
   "language": "python",
   "name": "python3"
  },
  "language_info": {
   "codemirror_mode": {
    "name": "ipython",
    "version": 3
   },
   "file_extension": ".py",
   "mimetype": "text/x-python",
   "name": "python",
   "nbconvert_exporter": "python",
   "pygments_lexer": "ipython3",
   "version": "3.11.0"
  },
  "varInspector": {
   "cols": {
    "lenName": 16,
    "lenType": 16,
    "lenVar": 40
   },
   "kernels_config": {
    "python": {
     "delete_cmd_postfix": "",
     "delete_cmd_prefix": "del ",
     "library": "var_list.py",
     "varRefreshCmd": "print(var_dic_list())"
    },
    "r": {
     "delete_cmd_postfix": ") ",
     "delete_cmd_prefix": "rm(",
     "library": "var_list.r",
     "varRefreshCmd": "cat(var_dic_list()) "
    }
   },
   "types_to_exclude": [
    "module",
    "function",
    "builtin_function_or_method",
    "instance",
    "_Feature"
   ],
   "window_display": false
  }
 },
 "nbformat": 4,
 "nbformat_minor": 5
}

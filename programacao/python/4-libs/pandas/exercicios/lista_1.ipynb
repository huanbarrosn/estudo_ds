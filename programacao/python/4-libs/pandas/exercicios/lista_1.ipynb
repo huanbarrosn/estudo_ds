{
 "cells": [
  {
   "cell_type": "code",
   "execution_count": 26,
   "id": "4b54311d",
   "metadata": {
    "ExecuteTime": {
     "end_time": "2022-11-08T15:13:46.078792Z",
     "start_time": "2022-11-08T15:13:46.075009Z"
    }
   },
   "outputs": [],
   "source": [
    "import pandas as pd\n",
    "import random as rd"
   ]
  },
  {
   "cell_type": "markdown",
   "id": "b2a45a54",
   "metadata": {
    "heading_collapsed": true
   },
   "source": [
    "### exer. 1"
   ]
  },
  {
   "cell_type": "markdown",
   "id": "8932a0d9",
   "metadata": {
    "hidden": true
   },
   "source": [
    "Como fazer com que os itens da série A não estejam presentes na série B?"
   ]
  },
  {
   "cell_type": "code",
   "execution_count": 5,
   "id": "eb78e2c7",
   "metadata": {
    "ExecuteTime": {
     "end_time": "2022-11-08T14:43:21.605781Z",
     "start_time": "2022-11-08T14:43:21.598501Z"
    },
    "hidden": true
   },
   "outputs": [],
   "source": [
    "a = pd.Series([1, 2, 3, 4, 5])\n",
    "b = pd.Series([4, 5, 6, 7, 8])"
   ]
  },
  {
   "cell_type": "code",
   "execution_count": 17,
   "id": "002a88cb",
   "metadata": {
    "ExecuteTime": {
     "end_time": "2022-11-08T14:50:43.272452Z",
     "start_time": "2022-11-08T14:50:43.259903Z"
    },
    "hidden": true,
    "scrolled": true
   },
   "outputs": [
    {
     "data": {
      "text/plain": [
       "0    1\n",
       "1    2\n",
       "2    3\n",
       "dtype: int64"
      ]
     },
     "execution_count": 17,
     "metadata": {},
     "output_type": "execute_result"
    }
   ],
   "source": [
    "# Solução 1\n",
    "c = pd.Series(list(set(a) - set(b)))\n",
    "c"
   ]
  },
  {
   "cell_type": "code",
   "execution_count": 18,
   "id": "433cd89c",
   "metadata": {
    "ExecuteTime": {
     "end_time": "2022-11-08T14:50:44.332146Z",
     "start_time": "2022-11-08T14:50:44.320522Z"
    },
    "hidden": true,
    "scrolled": true
   },
   "outputs": [
    {
     "data": {
      "text/plain": [
       "0    1\n",
       "1    2\n",
       "2    3\n",
       "dtype: int64"
      ]
     },
     "execution_count": 18,
     "metadata": {},
     "output_type": "execute_result"
    }
   ],
   "source": [
    "# Solução 2\n",
    "a[~a.isin(b)]"
   ]
  },
  {
   "cell_type": "markdown",
   "id": "452b23e2",
   "metadata": {
    "heading_collapsed": true
   },
   "source": [
    "### exer. 2"
   ]
  },
  {
   "cell_type": "markdown",
   "id": "5cbd1a73",
   "metadata": {
    "hidden": true
   },
   "source": [
    "Como obter os itens não comuns tanto para a série A quanto para a série B?"
   ]
  },
  {
   "cell_type": "code",
   "execution_count": 19,
   "id": "ee70a6c1",
   "metadata": {
    "ExecuteTime": {
     "end_time": "2022-11-08T14:52:45.020342Z",
     "start_time": "2022-11-08T14:52:45.014201Z"
    },
    "hidden": true
   },
   "outputs": [],
   "source": [
    "a = pd.Series([1, 2, 3, 4, 5])\n",
    "b = pd.Series([4, 5, 6, 7, 8])"
   ]
  },
  {
   "cell_type": "code",
   "execution_count": 25,
   "id": "0dc0f2ca",
   "metadata": {
    "ExecuteTime": {
     "end_time": "2022-11-08T15:12:15.617703Z",
     "start_time": "2022-11-08T15:12:15.603779Z"
    },
    "hidden": true
   },
   "outputs": [
    {
     "data": {
      "text/plain": [
       "0    1\n",
       "1    2\n",
       "2    3\n",
       "2    6\n",
       "3    7\n",
       "4    8\n",
       "dtype: int64"
      ]
     },
     "execution_count": 25,
     "metadata": {},
     "output_type": "execute_result"
    }
   ],
   "source": [
    "c = pd.concat([a[~a.isin(b)],b[~b.isin(a)]])\n",
    "c"
   ]
  },
  {
   "cell_type": "markdown",
   "id": "40440d34",
   "metadata": {
    "heading_collapsed": true
   },
   "source": [
    "### exer. 3"
   ]
  },
  {
   "cell_type": "markdown",
   "id": "86e649ad",
   "metadata": {
    "hidden": true
   },
   "source": [
    "Como obter o mínimo, 25º percentil, mediana, 75º e máximo de uma série numérica?"
   ]
  },
  {
   "cell_type": "code",
   "execution_count": 29,
   "id": "fe63637f",
   "metadata": {
    "ExecuteTime": {
     "end_time": "2022-11-08T15:15:07.173258Z",
     "start_time": "2022-11-08T15:15:07.168302Z"
    },
    "hidden": true
   },
   "outputs": [],
   "source": [
    "a = pd.Series(np.random.normal(10, 5, 25))"
   ]
  },
  {
   "cell_type": "code",
   "execution_count": 30,
   "id": "3ad47356",
   "metadata": {
    "ExecuteTime": {
     "end_time": "2022-11-08T15:15:12.283772Z",
     "start_time": "2022-11-08T15:15:12.275421Z"
    },
    "hidden": true
   },
   "outputs": [
    {
     "data": {
      "text/plain": [
       "count    25.000000\n",
       "mean     10.334275\n",
       "std       6.195029\n",
       "min      -7.032550\n",
       "25%       7.119122\n",
       "50%       9.231402\n",
       "75%      15.156487\n",
       "max      20.791874\n",
       "dtype: float64"
      ]
     },
     "execution_count": 30,
     "metadata": {},
     "output_type": "execute_result"
    }
   ],
   "source": [
    "a.describe()"
   ]
  },
  {
   "cell_type": "markdown",
   "id": "860da57f",
   "metadata": {
    "heading_collapsed": true
   },
   "source": [
    "### exer. 4"
   ]
  },
  {
   "cell_type": "markdown",
   "id": "6f18c91a",
   "metadata": {
    "hidden": true
   },
   "source": [
    "Como manter apenas os 2 valores mais frequentes e substituir todo o resto como 'Outro'?"
   ]
  },
  {
   "cell_type": "code",
   "execution_count": 53,
   "id": "1e629487",
   "metadata": {
    "ExecuteTime": {
     "end_time": "2022-11-08T15:28:50.551336Z",
     "start_time": "2022-11-08T15:28:50.544538Z"
    },
    "hidden": true
   },
   "outputs": [],
   "source": [
    "ser = pd.Series(np.random.randint(1, 5, 12))"
   ]
  },
  {
   "cell_type": "code",
   "execution_count": 54,
   "id": "6b66be96",
   "metadata": {
    "ExecuteTime": {
     "end_time": "2022-11-08T15:28:51.218213Z",
     "start_time": "2022-11-08T15:28:51.204330Z"
    },
    "hidden": true
   },
   "outputs": [
    {
     "data": {
      "text/plain": [
       "0         3\n",
       "1         3\n",
       "2     outro\n",
       "3     outro\n",
       "4         4\n",
       "5         4\n",
       "6         4\n",
       "7         4\n",
       "8     outro\n",
       "9     outro\n",
       "10        3\n",
       "11    outro\n",
       "dtype: object"
      ]
     },
     "execution_count": 54,
     "metadata": {},
     "output_type": "execute_result"
    }
   ],
   "source": [
    "f = ser.value_counts().head(2)\n",
    "func = lambda x : x if x in f else 'outro'\n",
    "ser.apply(func)"
   ]
  }
 ],
 "metadata": {
  "kernelspec": {
   "display_name": "Python 3 (ipykernel)",
   "language": "python",
   "name": "python3"
  },
  "language_info": {
   "codemirror_mode": {
    "name": "ipython",
    "version": 3
   },
   "file_extension": ".py",
   "mimetype": "text/x-python",
   "name": "python",
   "nbconvert_exporter": "python",
   "pygments_lexer": "ipython3",
   "version": "3.10.7"
  },
  "varInspector": {
   "cols": {
    "lenName": 16,
    "lenType": 16,
    "lenVar": 40
   },
   "kernels_config": {
    "python": {
     "delete_cmd_postfix": "",
     "delete_cmd_prefix": "del ",
     "library": "var_list.py",
     "varRefreshCmd": "print(var_dic_list())"
    },
    "r": {
     "delete_cmd_postfix": ") ",
     "delete_cmd_prefix": "rm(",
     "library": "var_list.r",
     "varRefreshCmd": "cat(var_dic_list()) "
    }
   },
   "types_to_exclude": [
    "module",
    "function",
    "builtin_function_or_method",
    "instance",
    "_Feature"
   ],
   "window_display": false
  }
 },
 "nbformat": 4,
 "nbformat_minor": 5
}

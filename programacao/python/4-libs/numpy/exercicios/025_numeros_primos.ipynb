{
 "cells": [
  {
   "cell_type": "markdown",
   "id": "6bf8f4a8",
   "metadata": {},
   "source": [
    "Leia 10 numeros inteiros e armazene em um vetor. Em seguida escreva os elementos que sao primos e suas respectivas posicoes no vetor."
   ]
  },
  {
   "cell_type": "code",
   "execution_count": 2,
   "id": "eda32abc",
   "metadata": {},
   "outputs": [],
   "source": [
    "import numpy as np"
   ]
  },
  {
   "cell_type": "code",
   "execution_count": 26,
   "id": "e6b11907",
   "metadata": {},
   "outputs": [
    {
     "name": "stdout",
     "output_type": "stream",
     "text": [
      "[66 56 22 98 94 57 47 35 38 84] \n",
      "\n",
      "Numero primo: 47\n",
      "Posiçao: 6\n",
      "\n"
     ]
    }
   ],
   "source": [
    "a = np.random.randint(low=100, size=10)\n",
    "print(a,'\\n')\n",
    "\n",
    "primos = []\n",
    "\n",
    "for elemento in a:\n",
    "    divisor = 0\n",
    "    \n",
    "    for n in np.arange(start=1, stop= elemento+1):\n",
    "        if elemento%n==0:\n",
    "            divisor += 1\n",
    "    \n",
    "    if divisor==2:\n",
    "        pos = np.where(a==elemento)[0][0]\n",
    "        primos.append([elemento,divisores,pos])\n",
    "\n",
    "for pos,i in enumerate(primos):\n",
    "    print(f'Numero primo: {primos[pos][0]}')\n",
    "    print(f'Posiçao: {primos[pos][2]}\\n')"
   ]
  }
 ],
 "metadata": {
  "kernelspec": {
   "display_name": "Python 3 (ipykernel)",
   "language": "python",
   "name": "python3"
  },
  "language_info": {
   "codemirror_mode": {
    "name": "ipython",
    "version": 3
   },
   "file_extension": ".py",
   "mimetype": "text/x-python",
   "name": "python",
   "nbconvert_exporter": "python",
   "pygments_lexer": "ipython3",
   "version": "3.10.4"
  }
 },
 "nbformat": 4,
 "nbformat_minor": 5
}

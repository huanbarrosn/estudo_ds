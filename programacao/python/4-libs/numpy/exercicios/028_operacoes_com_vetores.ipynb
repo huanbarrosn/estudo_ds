{
 "cells": [
  {
   "cell_type": "markdown",
   "id": "02b54fab",
   "metadata": {},
   "source": [
    "Leia dois vetores de inteiros x e y, cada um com 5 elementos (assuma que o usuario nao\n",
    "informa elementos repetidos). Calcule e mostre os vetores resultantes em cada caso\n",
    "abaixo:\n",
    "\n",
    "- Soma entre x e y: soma de cada elemento de x com o elemento da mesma posic¸ao˜\n",
    "em y.\n",
    "- Produto entre x e y: multiplicac¸ao de cada elemento de ˜ x com o elemento da mesma\n",
    "posic¸ao em ˜ y.\n",
    "- Diferenc¸a entre x e y: todos os elementos de x que nao existam em ˜ y.\n",
    "- Intersec¸ao entre ˜ x e y: apenas os elementos que aparecem nos dois vetores.\n",
    "- Uniao entre ˜ x e y: todos os elementos de x, e todos os elementos de y que nao˜\n",
    "estao em ˜ x."
   ]
  },
  {
   "cell_type": "code",
   "execution_count": 5,
   "id": "9f9f169d",
   "metadata": {},
   "outputs": [],
   "source": [
    "import numpy as np\n",
    "import random as rd"
   ]
  },
  {
   "cell_type": "code",
   "execution_count": 15,
   "id": "761e4f5c",
   "metadata": {},
   "outputs": [
    {
     "name": "stdout",
     "output_type": "stream",
     "text": [
      "[0 8 5 2 4]\n",
      "[0 7 6 9 5]\n"
     ]
    }
   ],
   "source": [
    "a = np.array(rd.sample(range(10), 5))\n",
    "b = np.array(rd.sample(range(10), 5))\n",
    "\n",
    "print(a)\n",
    "print(b)"
   ]
  },
  {
   "cell_type": "code",
   "execution_count": 32,
   "id": "5b3c2ad0",
   "metadata": {},
   "outputs": [
    {
     "name": "stdout",
     "output_type": "stream",
     "text": [
      "[ 0 15 11 11  9]\n"
     ]
    }
   ],
   "source": [
    "soma = a+b\n",
    "print(soma)"
   ]
  },
  {
   "cell_type": "code",
   "execution_count": 31,
   "id": "cb6e9cc6",
   "metadata": {},
   "outputs": [
    {
     "name": "stdout",
     "output_type": "stream",
     "text": [
      "[ 0 56 30 18 20]\n"
     ]
    }
   ],
   "source": [
    "produto = a*b\n",
    "print(produto)"
   ]
  },
  {
   "cell_type": "code",
   "execution_count": 30,
   "id": "b7620842",
   "metadata": {},
   "outputs": [
    {
     "name": "stdout",
     "output_type": "stream",
     "text": [
      "[8 2 4]\n"
     ]
    }
   ],
   "source": [
    "x = set(a)-set(b)\n",
    "x = np.array(list(x))\n",
    "print(x)"
   ]
  },
  {
   "cell_type": "code",
   "execution_count": 29,
   "id": "3569fd24",
   "metadata": {},
   "outputs": [
    {
     "name": "stdout",
     "output_type": "stream",
     "text": [
      "[0 5]\n"
     ]
    }
   ],
   "source": [
    "y = set(a) & set(b)\n",
    "y = np.array(list(y))\n",
    "print(y)"
   ]
  },
  {
   "cell_type": "code",
   "execution_count": 28,
   "id": "58d6d9c1",
   "metadata": {},
   "outputs": [
    {
     "name": "stdout",
     "output_type": "stream",
     "text": [
      "[0 2 4 5 6 7 8 9]\n"
     ]
    }
   ],
   "source": [
    "z = set(a) | set(b)\n",
    "z = np.array(list(z))\n",
    "print(z)"
   ]
  }
 ],
 "metadata": {
  "kernelspec": {
   "display_name": "Python 3 (ipykernel)",
   "language": "python",
   "name": "python3"
  },
  "language_info": {
   "codemirror_mode": {
    "name": "ipython",
    "version": 3
   },
   "file_extension": ".py",
   "mimetype": "text/x-python",
   "name": "python",
   "nbconvert_exporter": "python",
   "pygments_lexer": "ipython3",
   "version": "3.10.4"
  }
 },
 "nbformat": 4,
 "nbformat_minor": 5
}

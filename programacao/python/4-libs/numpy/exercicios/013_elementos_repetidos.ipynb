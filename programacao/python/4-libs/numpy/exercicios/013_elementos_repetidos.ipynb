{
 "cells": [
  {
   "cell_type": "markdown",
   "id": "347e3635",
   "metadata": {},
   "source": [
    "Faca um programa que leia um vetor de 10 posicoes e verifique se existem valores iguais e os escreva na tela."
   ]
  },
  {
   "cell_type": "code",
   "execution_count": 2,
   "id": "8cc85505",
   "metadata": {},
   "outputs": [],
   "source": [
    "import numpy as np"
   ]
  },
  {
   "cell_type": "code",
   "execution_count": 4,
   "id": "851287e3",
   "metadata": {},
   "outputs": [
    {
     "name": "stdout",
     "output_type": "stream",
     "text": [
      "[ 5  2 14 19 19  6 17 21  3  4]\n",
      "\n",
      "Numeros repetidos: [19]\n"
     ]
    }
   ],
   "source": [
    "a = np.array(np.random.randint(low=25, size=10), dtype=int)\n",
    "a = a.tolist()\n",
    "\n",
    "repetidos = np.array(list({x for x in a if a.count(x)>1}), dtype=int)\n",
    "a = np.array(a)\n",
    "\n",
    "print(a)\n",
    "print('\\nNumeros repetidos:', repetidos)"
   ]
  }
 ],
 "metadata": {
  "kernelspec": {
   "display_name": "Python 3 (ipykernel)",
   "language": "python",
   "name": "python3"
  },
  "language_info": {
   "codemirror_mode": {
    "name": "ipython",
    "version": 3
   },
   "file_extension": ".py",
   "mimetype": "text/x-python",
   "name": "python",
   "nbconvert_exporter": "python",
   "pygments_lexer": "ipython3",
   "version": "3.10.4"
  }
 },
 "nbformat": 4,
 "nbformat_minor": 5
}

{
 "cells": [
  {
   "cell_type": "markdown",
   "id": "5efc4268",
   "metadata": {},
   "source": [
    "Escreva um programa que leia 10 numeros inteiros e os armazene em um vetor. Imprima o vetor, o maior elemento e a posicao que ele se encontra."
   ]
  },
  {
   "cell_type": "code",
   "execution_count": 1,
   "id": "9019626c",
   "metadata": {},
   "outputs": [],
   "source": [
    "import numpy as np"
   ]
  },
  {
   "cell_type": "code",
   "execution_count": 23,
   "id": "f2229f93",
   "metadata": {},
   "outputs": [
    {
     "name": "stdout",
     "output_type": "stream",
     "text": [
      "[ 9. 46. 22. 21.  1. 47. 36. 29. 37. 11.]\n",
      "\n",
      "Maior: 47.0\n",
      "\n",
      "Posiçao usando np.where(): 5\n",
      "Posiçao usando np.nonzero(): 5\n",
      "Psiçao usando np.argmax(): 5\n",
      "Posiçao: 5\n"
     ]
    }
   ],
   "source": [
    "a = np.array(np.random.randint(low=50, size=10), dtype=float)\n",
    "\n",
    "print(a)\n",
    "maior=a.max()\n",
    "print('\\nMaior:',maior)\n",
    "\n",
    "# metodo where()\n",
    "print('\\nPosiçao usando np.where():', np.where(a==maior)[0][0])\n",
    "\n",
    "# metodo nonzero()\n",
    "print('Posiçao usando np.nonzero():', np.nonzero(a==maior)[0][0])\n",
    "\n",
    "# metodo argmax()\n",
    "print('Psiçao usando np.argmax():', np.argmax(a==maior))\n",
    "\n",
    "# metodo tolist() e index()\n",
    "a = a.tolist()\n",
    "print('Posiçao:', a.index(maior))"
   ]
  }
 ],
 "metadata": {
  "kernelspec": {
   "display_name": "Python 3 (ipykernel)",
   "language": "python",
   "name": "python3"
  },
  "language_info": {
   "codemirror_mode": {
    "name": "ipython",
    "version": 3
   },
   "file_extension": ".py",
   "mimetype": "text/x-python",
   "name": "python",
   "nbconvert_exporter": "python",
   "pygments_lexer": "ipython3",
   "version": "3.10.4"
  }
 },
 "nbformat": 4,
 "nbformat_minor": 5
}

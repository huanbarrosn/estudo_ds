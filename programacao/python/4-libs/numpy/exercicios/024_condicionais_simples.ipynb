{
 "cells": [
  {
   "cell_type": "markdown",
   "id": "fdd66af5",
   "metadata": {},
   "source": [
    "Faca um programa que preencha um vetor de tamanho 100 com os 100 primeiros naturais que nao sao multiplos de 7 ou que terminam com 7."
   ]
  },
  {
   "cell_type": "code",
   "execution_count": 1,
   "id": "7f9446a6",
   "metadata": {},
   "outputs": [],
   "source": [
    "import numpy as np"
   ]
  },
  {
   "cell_type": "code",
   "execution_count": 35,
   "id": "fb509f09",
   "metadata": {},
   "outputs": [
    {
     "name": "stdout",
     "output_type": "stream",
     "text": [
      "[1, 2, 3, 4, 5, 6, 8, 9, 10, 11, 12, 13, 15, 16, 18, 19, 20, 22, 23, 24, 25, 26, 29, 30, 31, 32, 33, 34, 36, 38, 39, 40, 41, 43, 44, 45, 46, 48, 50, 51, 52, 53, 54, 55, 58, 59, 60, 61, 62, 64, 65, 66, 68, 69, 71, 72, 73, 74, 75, 76, 78, 79, 80, 81, 82, 83, 85, 86, 88, 89, 90, 92, 93, 94, 95, 96, 99, 100, 101, 102, 103, 104, 106, 108, 109, 110, 111, 113, 114, 115, 116, 118, 120, 121, 122, 123, 124, 125, 128, 129]\n"
     ]
    }
   ],
   "source": [
    "a = []\n",
    "cont=0\n",
    "\n",
    "while len(a)<100:\n",
    "    cont+=1\n",
    "    if cont%7!=0 and str(cont)[-1]!='7':\n",
    "        a.append(cont)\n",
    "        \n",
    "print(a)"
   ]
  }
 ],
 "metadata": {
  "kernelspec": {
   "display_name": "Python 3 (ipykernel)",
   "language": "python",
   "name": "python3"
  },
  "language_info": {
   "codemirror_mode": {
    "name": "ipython",
    "version": 3
   },
   "file_extension": ".py",
   "mimetype": "text/x-python",
   "name": "python",
   "nbconvert_exporter": "python",
   "pygments_lexer": "ipython3",
   "version": "3.10.4"
  }
 },
 "nbformat": 4,
 "nbformat_minor": 5
}

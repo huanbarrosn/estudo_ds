{
 "cells": [
  {
   "cell_type": "markdown",
   "id": "128c74fd",
   "metadata": {},
   "source": [
    "Faca um programa que leia um vetor de 5 posicoes para numeros reais e, depois, um codigo inteiro. Se o codigo for zero, finalize o programa; se for 1, mostre o vetor na ordem direta; se for 2, mostre o vetor na ordem inversa. Caso, o codigo for diferente de 1 e 2  escreva uma mensagem informando que o codigo e invalido."
   ]
  },
  {
   "cell_type": "code",
   "execution_count": 2,
   "id": "1606e858",
   "metadata": {},
   "outputs": [],
   "source": [
    "import numpy as np"
   ]
  },
  {
   "cell_type": "code",
   "execution_count": 4,
   "id": "02de9152",
   "metadata": {},
   "outputs": [
    {
     "name": "stdout",
     "output_type": "stream",
     "text": [
      "[1. 5. 1. 9. 7.] \n",
      "\n",
      "Digite o codigo: d\n",
      "\u001b[31minvalid literal for int() with base 10: 'd'\u001bm\n",
      "\u001b[31mCodigo invalido, o erro <class 'ValueError'> aconteceu.\u001b[m\n",
      "Digite o codigo: 0\n",
      "\n",
      "Programa finalizado.\n"
     ]
    }
   ],
   "source": [
    "a = np.array(np.random.randint(low=10, size=5), dtype=float)\n",
    "print(a,'\\n')\n",
    "\n",
    "while True:\n",
    "    try:\n",
    "        codigo = int(input('Digite o codigo: '))\n",
    "        \n",
    "        if 0>codigo or codigo>2:\n",
    "            raise Exception('So aceitamos os numeros inteiro 0, 1 ou 2.')\n",
    "\n",
    "    except Exception as erro:\n",
    "        print(f'\\033[31m{erro}\\033m')\n",
    "        print(f'\\033[31mCodigo invalido, o erro {erro.__class__} aconteceu.\\033[m')\n",
    "\n",
    "    else:\n",
    "        print()\n",
    "        if codigo==0:\n",
    "            print('Programa finalizado.')\n",
    "        if codigo==1:\n",
    "            print(a)\n",
    "        if codigo==2:\n",
    "            print(a[::-1])\n",
    "        break"
   ]
  }
 ],
 "metadata": {
  "kernelspec": {
   "display_name": "Python 3 (ipykernel)",
   "language": "python",
   "name": "python3"
  },
  "language_info": {
   "codemirror_mode": {
    "name": "ipython",
    "version": 3
   },
   "file_extension": ".py",
   "mimetype": "text/x-python",
   "name": "python",
   "nbconvert_exporter": "python",
   "pygments_lexer": "ipython3",
   "version": "3.10.4"
  }
 },
 "nbformat": 4,
 "nbformat_minor": 5
}

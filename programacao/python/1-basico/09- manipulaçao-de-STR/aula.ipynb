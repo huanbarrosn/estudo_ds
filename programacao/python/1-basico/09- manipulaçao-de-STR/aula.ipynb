{
 "cells": [
  {
   "cell_type": "markdown",
   "id": "1e3469e0",
   "metadata": {},
   "source": [
    "## Manipulação de str"
   ]
  },
  {
   "cell_type": "markdown",
   "id": "1ef4f6d8",
   "metadata": {},
   "source": [
    "#### ▶ Fatiamento de str"
   ]
  },
  {
   "cell_type": "code",
   "execution_count": null,
   "id": "fa5d6a4b",
   "metadata": {},
   "outputs": [],
   "source": [
    "# Cada caractere de uma str tem um indice que significa sua posição na str.\n",
    "# A primeira letra tem o indice 0, a segunda tem o indice 1 e assim sucetivamente.\n",
    "# Ex.:\n",
    "nome = 'Huan' \n",
    "\n",
    "# A maneira de acessar o caractere é pelo seu indice.  \n",
    "# Ex.:\n",
    "nome = 'Huan'\n",
    "nome[0] #➥ H\n",
    "nome[1] #➥ u\n",
    "nome[2] #➥ a\n",
    "nome[3] #➥ n"
   ]
  },
  {
   "cell_type": "code",
   "execution_count": null,
   "id": "5c255a9c",
   "metadata": {},
   "outputs": [],
   "source": [
    "# Acessando o caractere pelo seus indices negativos.\n",
    "# Ex.:\n",
    "nome = 'Huan'\n",
    "nome[-4] #➥ H\n",
    "nome[-3] #➥ u\n",
    "nome[-2] #➥ a\n",
    "nome[-1] #➥ n"
   ]
  },
  {
   "cell_type": "code",
   "execution_count": null,
   "id": "c55a070c",
   "metadata": {},
   "outputs": [],
   "source": [
    "# Acessando partes de uma str.\n",
    "# Ex.:\n",
    "frase = 'Hello Word'\n",
    "frase[0] # frase na posição 0 ➥ H\n",
    "frase[6:10] # frase da posição 6 até 10 ➥ Word\n",
    "frase[0:10] # frase da posição 0 até 10 ➥ Hello Word\n",
    "frase[:10] # mesma coisa\n",
    "frase[0:] # mesma coisa\n",
    "frase[:] # mesma coisa\n",
    "frase[::2] # frase do começo ao fim pulando de 2 em 2 ➥ HloWr\n",
    "frase[::-1] # frase do começo ao fim invertida ➥ droW olleH"
   ]
  },
  {
   "cell_type": "markdown",
   "id": "b85b628c",
   "metadata": {},
   "source": [
    "#### ▶ Análise de str"
   ]
  },
  {
   "cell_type": "code",
   "execution_count": null,
   "id": "3d8effa4",
   "metadata": {},
   "outputs": [],
   "source": [
    "# Função len()\n",
    "# Retorna o comprimento de uma STR.\n",
    "\n",
    "# Ex.:\n",
    "frase = 'três pratos de trigo para três tigres'\n",
    "print(len(frase))"
   ]
  },
  {
   "cell_type": "code",
   "execution_count": null,
   "id": "6c075f21",
   "metadata": {},
   "outputs": [],
   "source": [
    "# Método .count(a,x,y)\n",
    "# Retorna quantas vezes o parametro aparece na STR.\n",
    "# a = o que eu procuro. \n",
    "# x = o inicio do intervalo da STR. (parametro opcional)\n",
    "# y = o fim do intervalo da STR. (parametro opcional)\n",
    "\n",
    "# Ex.:\n",
    "frase = 'três pratos de trigo para três tigres'\n",
    "print(frase.count('t'))\n",
    "print(frase.count('t',0,10))"
   ]
  },
  {
   "cell_type": "code",
   "execution_count": null,
   "id": "b331973b",
   "metadata": {},
   "outputs": [],
   "source": [
    "# Método .find(x) ou .index() ➥ funciona pra lista também\n",
    "# Retorna a posição da primeira ocorrencia de x \n",
    "# Se não tiver o x na STR será retornado -1\n",
    "# .rfind(x) procura da direita para esquerda\n",
    "\n",
    "# Ex.:\n",
    "frase = 'três pratos de trigo para três tigres'\n",
    "print(frase.find('t'))\n",
    "print(frase.rfind('t'))\n",
    "print(frase.find('b'))"
   ]
  },
  {
   "cell_type": "markdown",
   "id": "30acacce",
   "metadata": {},
   "source": [
    "#### ▶ Transformação de str"
   ]
  },
  {
   "cell_type": "code",
   "execution_count": null,
   "id": "a2b0fba3",
   "metadata": {},
   "outputs": [],
   "source": [
    "# Método .replace(x,y,n)\n",
    "# Cada x que tem em uma STR o pc vai trocar por y.\n",
    "# n = quantas vezes trocar x por y (parametro opcional)\n",
    "\n",
    "# Ex.:\n",
    "frase = 'Hello Word'\n",
    "print(frase.replace('o','a'))\n",
    "print(frase.replace('o','a',1))"
   ]
  },
  {
   "cell_type": "code",
   "execution_count": null,
   "id": "4eb835bb",
   "metadata": {},
   "outputs": [],
   "source": [
    "# Método .capitalize()\n",
    "# Deixa a 1° letra de uma STR maiuscula.\n",
    "\n",
    "# Ex.:\n",
    "frase = 'hello word'\n",
    "print(frase.capitalize())"
   ]
  },
  {
   "cell_type": "code",
   "execution_count": null,
   "id": "eddb45d7",
   "metadata": {},
   "outputs": [],
   "source": [
    "# Método .casefold() ou .lower() \n",
    "# Deixa todas as letra de uma STR minuscula.\n",
    "\n",
    "# Ex.:\n",
    "frase = 'HELLO WORD'\n",
    "print(frase.casefold())"
   ]
  },
  {
   "cell_type": "code",
   "execution_count": null,
   "id": "4f748734",
   "metadata": {},
   "outputs": [],
   "source": [
    "# Método .upper() \n",
    "# Deixa todas as letra de uma STR maiuscula.\n",
    "\n",
    "# Ex.:\n",
    "frase = 'hello word'\n",
    "print(frase.upper())"
   ]
  },
  {
   "cell_type": "code",
   "execution_count": null,
   "id": "e83e10fa",
   "metadata": {},
   "outputs": [],
   "source": [
    "# Método .title() \n",
    "# Deixa a 1° letra de todas as palavras de uma STR maiuscula.\n",
    "\n",
    "# Ex.:\n",
    "frase = 'hello word cool'\n",
    "print(frase.title())"
   ]
  },
  {
   "cell_type": "code",
   "execution_count": null,
   "id": "1f56cc51",
   "metadata": {},
   "outputs": [],
   "source": [
    "# Método .strip()\n",
    "# Remove os espaços vazios do começo e fim de uma STR.\n",
    "# .rstrip() remove o espaço vazio da direita\n",
    "# .lstrip() remove o espaço vazio da esquerda\n",
    "\n",
    "\n",
    "# Ex.:\n",
    "frase = '  Hello Word  '\n",
    "print(frase.strip())\n",
    "print(frase.rstrip())\n",
    "print(frase.lstrip())"
   ]
  },
  {
   "cell_type": "code",
   "execution_count": null,
   "id": "868d36c8",
   "metadata": {},
   "outputs": [],
   "source": [
    "# Método .zfill(x)\n",
    "# Acressenta a quantidade (x-len(str)), de 0 em uma STR\n",
    "\n",
    "# Ex.:\n",
    "num = '7'\n",
    "print(num.zfill(2))"
   ]
  },
  {
   "cell_type": "code",
   "execution_count": null,
   "id": "4283e8b9",
   "metadata": {},
   "outputs": [],
   "source": [
    "# Método .removeprefix(x)\n",
    "# Remove o inicio de uma STR, no qual esse inicio é x\n",
    "\n",
    "# Ex.:\n",
    "frase = 'Hello Word'\n",
    "print(frase.removeprefix('He'))"
   ]
  },
  {
   "cell_type": "code",
   "execution_count": null,
   "id": "9d677f06",
   "metadata": {},
   "outputs": [],
   "source": [
    "# Método .removesuffix(x)\n",
    "# Remove o fim de uma STR, no qual esse fim é x\n",
    "\n",
    "# Ex.:\n",
    "frase = 'Hello Word'\n",
    "print(frase.removesuffix('rd'))"
   ]
  },
  {
   "cell_type": "markdown",
   "id": "40e5dd8d",
   "metadata": {},
   "source": [
    "#### ▶ Divisão de str"
   ]
  },
  {
   "cell_type": "code",
   "execution_count": null,
   "id": "80410e31",
   "metadata": {},
   "outputs": [],
   "source": [
    "# Método .strip(x)\n",
    "# Quebra a STR em itens de uma lista com base no \\n\n",
    "# x = o separador (parametro opcional)\n",
    "\n",
    "# Ex.:\n",
    "frase = 'Hello Word'\n",
    "print(frase.split())\n",
    "print(frase.split('o'))"
   ]
  },
  {
   "cell_type": "code",
   "execution_count": null,
   "id": "103eb2f1",
   "metadata": {},
   "outputs": [],
   "source": [
    "# Método .partition(x)\n",
    "# Divide a STR em 3 itens de uma lista com base parametro x\n",
    "# Caso coloque um parametro que não existe dentro da STR, o pc retorna uma lista com 3 itens, 2 itens vazios e um item é a STR.\n",
    "\n",
    "# Ex.:\n",
    "frase = 'Hello Word'\n",
    "print(frase.partition(' '))\n",
    "print(frase.partition('Wo'))\n",
    "print(frase.partition('s'))"
   ]
  },
  {
   "cell_type": "code",
   "execution_count": null,
   "id": "dd89b738",
   "metadata": {},
   "outputs": [],
   "source": [
    "# Método x.join(STR)\n",
    "# junta itens de uma lista ou STR\n",
    "# x = o juntador (parametro opcional)\n",
    "\n",
    "# Ex.:\n",
    "frase = ['Hello','Word']\n",
    "print(' '.join(frase))\n",
    "print('_'.join(frase))"
   ]
  },
  {
   "cell_type": "markdown",
   "id": "9ef00168",
   "metadata": {},
   "source": [
    "#### ▶ Ferificando de str"
   ]
  },
  {
   "cell_type": "code",
   "execution_count": null,
   "id": "82719b63",
   "metadata": {},
   "outputs": [],
   "source": [
    "# Método .isalpha()\n",
    "# Verifica se a STR é composta somente por letras\n",
    "\n",
    "# Ex.:\n",
    "frase = 'Huan'\n",
    "print(frase.isalpha())"
   ]
  },
  {
   "cell_type": "code",
   "execution_count": null,
   "id": "f0a2b52c",
   "metadata": {},
   "outputs": [],
   "source": [
    "# Método .isdigit() ou .isnumeric()\n",
    "# Verifica se a STR é composta somente por numeros\n",
    "\n",
    "# Ex.:\n",
    "frase = '12356'\n",
    "print(frase.isdigit())"
   ]
  },
  {
   "cell_type": "code",
   "execution_count": null,
   "id": "ea40499c",
   "metadata": {},
   "outputs": [],
   "source": [
    "# Método .isalnum()\n",
    "# Verifica se na STR tem numeros ou letras\n",
    "\n",
    "# Ex.:\n",
    "frase = '123'\n",
    "frase2 = 'Huan123'\n",
    "print(frase.isalnum())\n",
    "print(frase2.isalnum())"
   ]
  },
  {
   "cell_type": "code",
   "execution_count": 8,
   "id": "5d6f9e53",
   "metadata": {},
   "outputs": [
    {
     "name": "stdout",
     "output_type": "stream",
     "text": [
      "True\n",
      "False\n"
     ]
    }
   ],
   "source": [
    "# Método .startswith(x)\n",
    "# Verifica se a STR começa com x\n",
    "\n",
    "# Ex.:\n",
    "frase = 'Hello Word'\n",
    "print(frase.startswith('H'))\n",
    "print(frase.startswith('h'))"
   ]
  },
  {
   "cell_type": "code",
   "execution_count": 54,
   "id": "7f449948",
   "metadata": {},
   "outputs": [
    {
     "name": "stdout",
     "output_type": "stream",
     "text": [
      "True\n",
      "False\n"
     ]
    }
   ],
   "source": [
    "# Método .endswith(x)\n",
    "# Verifica se a STR termina com x\n",
    "\n",
    "# Ex.:\n",
    "frase = 'Hello Word'\n",
    "print(frase.endswith('ord'))\n",
    "print(frase.endswith('j'))"
   ]
  },
  {
   "cell_type": "code",
   "execution_count": 21,
   "id": "c9cc3103",
   "metadata": {},
   "outputs": [
    {
     "name": "stdout",
     "output_type": "stream",
     "text": [
      "True\n",
      "False\n"
     ]
    }
   ],
   "source": [
    "# Método .isspace()\n",
    "# Verifica se a STR é composta por espaços vazios\n",
    "\n",
    "# Ex.:\n",
    "frase = ' '\n",
    "print(frase.isspace())\n",
    "\n",
    "# Ex.:\n",
    "frase = 'Huan'\n",
    "print(frase.isspace())"
   ]
  }
 ],
 "metadata": {
  "kernelspec": {
   "display_name": "Python 3 (ipykernel)",
   "language": "python",
   "name": "python3"
  },
  "language_info": {
   "codemirror_mode": {
    "name": "ipython",
    "version": 3
   },
   "file_extension": ".py",
   "mimetype": "text/x-python",
   "name": "python",
   "nbconvert_exporter": "python",
   "pygments_lexer": "ipython3",
   "version": "3.10.4"
  }
 },
 "nbformat": 4,
 "nbformat_minor": 5
}

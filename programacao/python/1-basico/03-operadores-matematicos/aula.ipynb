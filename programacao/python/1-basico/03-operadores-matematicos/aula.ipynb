{
 "cells": [
  {
   "cell_type": "markdown",
   "id": "97a89992",
   "metadata": {},
   "source": [
    "## 5) Operadores matemáticos"
   ]
  },
  {
   "cell_type": "code",
   "execution_count": null,
   "id": "dcc8a517",
   "metadata": {},
   "outputs": [],
   "source": [
    "= # Sinal de atribuição\n",
    "== # Usado para perguntar se duas coisas são iguais (Ex: a == 4)\n",
    "* # Multiplicação\n",
    "** # Elevado (potenciação)\n",
    "+ # Soma\n",
    "- # Subtração\n",
    "/ # Divisão\n",
    "// # Dividir um numero pelo outro, mas só mostra a parte inteira  (Ex.: 5/2 = 2.5) mas a maquina só mostra (2)\n",
    "% # Dividir um numero pelo outro, e a maquina mostra só o resto da operação (Ex.: 5/2 = 2.5) mas a maquina só mostra (1)"
   ]
  }
 ],
 "metadata": {
  "kernelspec": {
   "display_name": "Python 3.10.6 64-bit",
   "language": "python",
   "name": "python3"
  },
  "language_info": {
   "codemirror_mode": {
    "name": "ipython",
    "version": 3
   },
   "file_extension": ".py",
   "mimetype": "text/x-python",
   "name": "python",
   "nbconvert_exporter": "python",
   "pygments_lexer": "ipython3",
   "version": "3.10.6"
  },
  "vscode": {
   "interpreter": {
    "hash": "e7370f93d1d0cde622a1f8e1c04877d8463912d04d973331ad4851f04de6915a"
   }
  }
 },
 "nbformat": 4,
 "nbformat_minor": 5
}

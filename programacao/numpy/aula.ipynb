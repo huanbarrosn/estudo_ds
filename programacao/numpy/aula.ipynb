{
 "cells": [
  {
   "cell_type": "markdown",
   "id": "b029e6e5",
   "metadata": {
    "heading_collapsed": true
   },
   "source": [
    "# O que e o numpy?"
   ]
  },
  {
   "cell_type": "markdown",
   "id": "612ccfdb",
   "metadata": {
    "hidden": true
   },
   "source": [
    "A API Numpy, abreviatura de (numeric python) é usada extensivamente em Pandas, SciPy, Matplotlib, scikit-learn, scikit-image e na maioria dos outros pacotes de ciência de dados e Python científicos.</br></br>\n",
    "\n",
    "Muito utilizado para arrays/matrizes de n dimensoes, com operaçoes aritméticas rapidas sem uso de laços. Numpay é o pacote fundamental para computacao cientifica em python, um lib que fornece o obejeto ndarray, uma matriz de n dimensoes, que contém dados de tipos homogeneos. Varios objetos derivados e uma variedade de funcoes/rotina para operacoes rapidas com arrays, incluindo:\n",
    "\n",
    "- Matematica logica\n",
    "- Manipulacao do shape da matriz\n",
    "- Classificaçao\n",
    "- Seleçao\n",
    "- Algebra linear basica\n",
    "- Operaçoes artimeticas\n",
    "- Operaçoes estatisticas basica\n",
    "- Simulaçao aleatoria e muito mais</br></br>\n",
    "\n",
    "\n",
    "Com muitas operaçoes sendo executadas em codigo compilado, ou seja, um codigo que foi transformado em linguagem de maquina para mais desempenho.<br><br>\n",
    "\n",
    "Referemcia: https://numpy.org/doc/stable/user/whatisnumpy.html#what-is-numpy"
   ]
  },
  {
   "cell_type": "markdown",
   "id": "14b5c2f8",
   "metadata": {
    "heading_collapsed": true
   },
   "source": [
    "# Trasmissao/Vetorizacao, o motivo de o numpy ser rapido"
   ]
  },
  {
   "cell_type": "markdown",
   "id": "a4420253",
   "metadata": {
    "hidden": true
   },
   "source": [
    "<>>> Estudo profundo <<<>\n",
    "</br> \n",
    "</br> Referebcia: https://numpy.org/doc/stable/user/basics.broadcasting.html#broadcasting"
   ]
  },
  {
   "cell_type": "markdown",
   "id": "e449facf",
   "metadata": {
    "heading_collapsed": true
   },
   "source": [
    "# Qual é a diferença entre uma lista Python e uma matriz NumPy?"
   ]
  },
  {
   "cell_type": "markdown",
   "id": "f7b6c7cc",
   "metadata": {
    "hidden": true
   },
   "source": [
    "Para criar matrizes com o numpy nao é necessario usar loops, listas e condiçoes, por isso o numpy é de 10 a 100x mais rapido que as arrays/listas do python<br><br>\n",
    "\n",
    "Devido a lib numpy ter sido densenvolvida em C, ela é mais eficiente que a array/lista do python, pois a linguagem C é mais baixo nivel que o python, o que facilita e agiliza o processamento dos programas<br><br>\n",
    "\n",
    "As arrays numpy tem tamanho fixo na criaçao, ao contrario da array/lista do python que podem crescer. Ao adicionar um elemento dentro de um array numpy, esse array sera excluido e um array novo sera gerado contendo o numero que foi adicionado<br><br>\n",
    "\n",
    "Todos os elementos de uma matriz numpy devem ser do mesmo tipo e tamanho de dado<br><br>\n",
    "\n",
    "As arrays numpy facilitam operaçoes matematicas avançadas com uma grande quantidade de dados, ja a array/lista do python fica para tras com sua baixa eficiencia<br><br>\n",
    "\n",
    "referencia: https://numpy.org/doc/stable/user/whatisnumpy.html#why-is-numpy-fast"
   ]
  },
  {
   "cell_type": "markdown",
   "id": "131dd760",
   "metadata": {},
   "source": [
    "# O que é uma matriz numpy?"
   ]
  },
  {
   "cell_type": "markdown",
   "id": "1dbcaf5a",
   "metadata": {},
   "source": [
    "A matriz do numpy é a ndarray, uma classe que possui vários métodos e atributos que retorna um tipo de matriz.<br><br>\n",
    "\n",
    "Ndarray  é a abreviação de “matriz N-dimensional”. Uma matriz N-dimensional é simplesmente uma matriz com qualquer número de dimensões, essas matrizes sao containers rapidos e flexiveis para trabalhar com grandes conjuntos de dados.<br><br>\n",
    "\n",
    "Tipo de arrays/matrizes: ndarrays >> Sigifica arrays de N dimensoes\n",
    "1-D array >> Possui apenas 1 dimensao, sera chamado de vetor\n",
    "2-D array >> Possui 2 dimensoes, sera chamado de matriz\n",
    "3-D array >> Possui 3 ou mais dimensoes, sera chamado de tensor<br><br>\n",
    "\n",
    "Algumas caracteristicas de uma matriz/ndarray numpy:\n",
    "- permite realizar operaçoes matematicas em blocos inteiros\n",
    "- Possui uma grade de elementos que podem ser indexados de varias maneiras\n",
    "- Os elementos sao todos do mesmo tipo\n",
    "- A ordem/shape da matriz é uma tupla com numeros inteiros maiores que 0, que fornece o tamanho da matriz em cada dimensao\n",
    "- Uma maneira de criar uma matriz usando elementos do python é aninhando listas\n",
    "- Acessar um elemento ou mais de uma matriz numpy é parecido com a maneira que se acessa elemtos de uma lista python<br><br>\n",
    "\n",
    "Geralmente as dimensoes de uma matriz sao chamdas de eixo, por exemplo uma matriz 3x3 tem tem 2 eixos e cada eixo tem 3 vetores.<br><br>\n",
    "\n",
    "Assim como obejetos do python uma matriz numpy pode ser acessada e modificada indexando ou fatiando um array. Arrays que sao copiados de forma rasa compartilharao auteraçoes.<br><br>\n",
    "\n",
    "Mais sobre atributos de array: https://numpy.org/doc/stable/reference/arrays.ndarray.html#arrays-ndarray\n",
    "\n",
    "Mais sobre objetos de array: https://numpy.org/doc/stable/reference/arrays.html#arrays"
   ]
  },
  {
   "cell_type": "code",
   "execution_count": 2,
   "id": "eb18243e",
   "metadata": {
    "ExecuteTime": {
     "end_time": "2022-10-21T20:05:59.824907Z",
     "start_time": "2022-10-21T20:05:59.821579Z"
    }
   },
   "outputs": [],
   "source": [
    "import numpy as np"
   ]
  },
  {
   "cell_type": "code",
   "execution_count": 13,
   "id": "01d50448",
   "metadata": {},
   "outputs": [
    {
     "name": "stdout",
     "output_type": "stream",
     "text": [
      "[0 1 2 3 4 5 6 7 8 9]\n"
     ]
    }
   ],
   "source": [
    "# Array 1-D ou vetor\n",
    "matriz = np.array(range(10))\n",
    "print(matriz)"
   ]
  },
  {
   "cell_type": "code",
   "execution_count": 3,
   "id": "11949496",
   "metadata": {
    "ExecuteTime": {
     "end_time": "2022-10-21T20:06:01.825635Z",
     "start_time": "2022-10-21T20:06:01.818530Z"
    }
   },
   "outputs": [
    {
     "name": "stdout",
     "output_type": "stream",
     "text": [
      "[[1 2 3]\n",
      " [4 5 6]\n",
      " [7 8 9]]\n"
     ]
    }
   ],
   "source": [
    "# Array 2-D ou Matriz\n",
    "matriz = np.array([[1,2,3],[4,5,6],[7,8,9]])\n",
    "print(matriz)"
   ]
  },
  {
   "cell_type": "code",
   "execution_count": 15,
   "id": "0afbeec3",
   "metadata": {
    "collapsed": true
   },
   "outputs": [
    {
     "name": "stdout",
     "output_type": "stream",
     "text": [
      "[[[1 2 3]\n",
      "  [4 5 6]\n",
      "  [7 8 9]]\n",
      "\n",
      " [[1 2 3]\n",
      "  [4 5 6]\n",
      "  [7 8 9]]]\n"
     ]
    }
   ],
   "source": [
    "# Array 3-D ou tensor\n",
    "matriz = np.array([[[1,2,3],[4,5,6],[7,8,9]], [[1,2,3],[4,5,6],[7,8,9]]])\n",
    "print(matriz)"
   ]
  },
  {
   "cell_type": "markdown",
   "id": "ef44de94",
   "metadata": {
    "heading_collapsed": true
   },
   "source": [
    "# Como criar um array básico \n",
    "\n",
    "https://numpy.org/doc/stable/user/absolute_beginners.html#how-to-create-a-basic-array<br><br>\n",
    "\n",
    "- np.array() \n",
    "- np.zeros() \n",
    "- np.ones()\n",
    "- np.full()\n",
    "- np.empty()\n",
    "- np.arange()\n",
    "- np.linspace()\n",
    "- dtype"
   ]
  },
  {
   "cell_type": "markdown",
   "id": "c7dbc6c1",
   "metadata": {
    "heading_collapsed": true,
    "hidden": true
   },
   "source": [
    "## np.array()\n",
    "https://numpy.org/doc/stable/reference/generated/numpy.array.html?highlight=numpy%20array#numpy-array"
   ]
  },
  {
   "cell_type": "markdown",
   "id": "a1a29ae8",
   "metadata": {
    "hidden": true
   },
   "source": [
    "Funcionalidade: \n",
    "- Transforma uma iterable em uma ndarray, uma matriz de n dimensoes<br><br>\n",
    "\n",
    "Parametros:\n",
    "- ( object ) Uma iterable com caracteristicas de uma lista python, pode ser aninhada ou nao,  se estiver aninhada todas as iterables deverao ter o mesma quantidade de elementos\n",
    "- ( dtype = None ) Tamanho e tipo de dado dos elementos da matriz\n",
    "- ( copy = True ) Faz uma copia de um array de forma profunda, por padrao vem True \n",
    "- ( ndmin = 0 ) Numero de dimensoes da matriz\n",
    "- ( * ) \n",
    "- ( order = 'K' ) \n",
    "- ( subok = False ) \n",
    "- ( like = None ) "
   ]
  },
  {
   "cell_type": "code",
   "execution_count": 16,
   "id": "0ad8cecd",
   "metadata": {
    "collapsed": true,
    "hidden": true
   },
   "outputs": [
    {
     "name": "stdout",
     "output_type": "stream",
     "text": [
      "[[1 2 3 4 5 6]] \n",
      "\n",
      "int64\n",
      "2\n",
      "(1, 6)\n"
     ]
    }
   ],
   "source": [
    "matriz = np.array(object=[1,2,3,4,5,6], dtype='int64', ndmin=2, copy=False)\n",
    "\n",
    "print(matriz,'\\n')\n",
    "print(matriz.dtype)\n",
    "print(matriz.ndim)\n",
    "print(matriz.shape)"
   ]
  },
  {
   "cell_type": "markdown",
   "id": "a68a5ea7",
   "metadata": {
    "heading_collapsed": true,
    "hidden": true
   },
   "source": [
    "## np.zeros()\n",
    "\n",
    "https://numpy.org/doc/stable/reference/generated/numpy.zeros.html"
   ]
  },
  {
   "cell_type": "markdown",
   "id": "bec0ce75",
   "metadata": {
    "hidden": true
   },
   "source": [
    "Funcionalidade:\n",
    "- Cria uma ndarray, com todos os elementos igual a zero<br><br>\n",
    "\n",
    "Parametros:\n",
    "- ( shape ) Ordem da matriz\n",
    "- ( dtype = float ) Tamanho e tipo de dado dos elementos da matriz\n",
    "- ( order = 'C' ) \n",
    "- ( * )\n",
    "- ( like = None )"
   ]
  },
  {
   "cell_type": "code",
   "execution_count": 17,
   "id": "9389bf42",
   "metadata": {
    "collapsed": true,
    "hidden": true
   },
   "outputs": [
    {
     "name": "stdout",
     "output_type": "stream",
     "text": [
      "[[0. 0. 0. 0.]]\n"
     ]
    }
   ],
   "source": [
    "matriz = np.zeros(shape=(1,4), dtype='float64')\n",
    "print(matriz)"
   ]
  },
  {
   "cell_type": "markdown",
   "id": "4bef709c",
   "metadata": {
    "heading_collapsed": true,
    "hidden": true
   },
   "source": [
    "## np.ones()\n",
    "https://numpy.org/doc/stable/reference/generated/numpy.ones.html"
   ]
  },
  {
   "cell_type": "markdown",
   "id": "103a5c31",
   "metadata": {
    "hidden": true
   },
   "source": [
    "Funcionalidade:\n",
    "- Cria uma ndarray, com todos os elementos igual a 1<br><br>\n",
    "\n",
    "Parametros:\n",
    "- ( shape ) Ordem da matriz\n",
    "- ( dtype = float ) Tamanho e tipo de dado dos elementos da matriz\n",
    "- ( order = 'C' ) \n",
    "- ( * )\n",
    "- ( like = None )"
   ]
  },
  {
   "cell_type": "code",
   "execution_count": 18,
   "id": "9124d90c",
   "metadata": {
    "collapsed": true,
    "hidden": true
   },
   "outputs": [
    {
     "name": "stdout",
     "output_type": "stream",
     "text": [
      "[[1. 1. 1. 1.]\n",
      " [1. 1. 1. 1.]\n",
      " [1. 1. 1. 1.]\n",
      " [1. 1. 1. 1.]]\n"
     ]
    }
   ],
   "source": [
    "matriz = np.ones(shape=(4,4), dtype='float64')\n",
    "print(matriz)"
   ]
  },
  {
   "cell_type": "markdown",
   "id": "55500804",
   "metadata": {
    "heading_collapsed": true,
    "hidden": true
   },
   "source": [
    "## np.full()\n",
    "https://numpy.org/doc/stable/reference/generated/numpy.full.html?highlight=full#numpy.full"
   ]
  },
  {
   "cell_type": "markdown",
   "id": "808e1891",
   "metadata": {
    "hidden": true
   },
   "source": [
    "Funcionalidade:\n",
    "- Cria uma ndarray, com todos os elementos igual ao fill_value<br><br>\n",
    "\n",
    "Parametros:\n",
    "- ( shape ) Ordem da matriz\n",
    "- ( fill_value ) Valor especificado para a criaçao da matriz\n",
    "- ( dtype = float ) Tamanho e tipo de dado dos elementos da matriz\n",
    "- ( order = 'C' ) \n",
    "- ( * )\n",
    "- ( like = None )"
   ]
  },
  {
   "cell_type": "code",
   "execution_count": 24,
   "id": "dbd624ca",
   "metadata": {
    "collapsed": true,
    "hidden": true
   },
   "outputs": [
    {
     "name": "stdout",
     "output_type": "stream",
     "text": [
      "[[9. 9. 9.]\n",
      " [9. 9. 9.]\n",
      " [9. 9. 9.]]\n"
     ]
    }
   ],
   "source": [
    "matriz = np.full(shape=(3,3), fill_value=9, dtype=float)\n",
    "print(matriz)"
   ]
  },
  {
   "cell_type": "markdown",
   "id": "5c6ca124",
   "metadata": {
    "heading_collapsed": true,
    "hidden": true
   },
   "source": [
    "## np.empty()\n",
    "https://numpy.org/doc/stable/reference/generated/numpy.empty.html"
   ]
  },
  {
   "cell_type": "markdown",
   "id": "9cabcc30",
   "metadata": {
    "hidden": true
   },
   "source": [
    "Funcionalidade:\n",
    "- Cria uma ndarray com que contem elementos aleatorios com base no dtype que for escolhido<br><br>\n",
    "\n",
    "Parametros:\n",
    "- ( shape ) Ordem da matriz\n",
    "- ( dtype = float ) Tamanho e tipo de dado dos elementos da matriz\n",
    "- ( order = 'C' ) \n",
    "- ( * )\n",
    "- ( like = None )"
   ]
  },
  {
   "cell_type": "code",
   "execution_count": 20,
   "id": "ced9cd1a",
   "metadata": {
    "collapsed": true,
    "hidden": true
   },
   "outputs": [
    {
     "name": "stdout",
     "output_type": "stream",
     "text": [
      "[[-5.4453e+00 -1.1993e-01  8.9938e+01]\n",
      " [ 0.0000e+00  0.0000e+00  0.0000e+00]\n",
      " [ 0.0000e+00  0.0000e+00  3.8147e-06]]\n"
     ]
    }
   ],
   "source": [
    "matriz = np.empty(shape=(3,3), dtype='float16')\n",
    "print(matriz)"
   ]
  },
  {
   "cell_type": "markdown",
   "id": "fe5573c7",
   "metadata": {
    "heading_collapsed": true,
    "hidden": true
   },
   "source": [
    "## np.arange()\n",
    "https://numpy.org/doc/stable/reference/generated/numpy.arange.html"
   ]
  },
  {
   "cell_type": "markdown",
   "id": "c5b279ca",
   "metadata": {
    "hidden": true
   },
   "source": [
    "Funcionalidade:\n",
    "- Cria uma ndarray com elementos determinados pelo intervalo que comeca no start e acaba no stop, e possivel usar o step para poder escolher uma ordem crescente, decrescente ou pulando<br><br>\n",
    "\n",
    "Parametros:\n",
    "- ( start ) Inicio do intervalo\n",
    "- ( stop ) Fim do intervalo\n",
    "- ( step ) Numeros inteiros ou reais, negativos ou positivos\n",
    "- ( dtype=Nenhum ) Tamanho e tipo de dado dos elementos da matriz\n",
    "- ( * ) \n",
    "- ( like=Nenhum )"
   ]
  },
  {
   "cell_type": "code",
   "execution_count": 21,
   "id": "f318c946",
   "metadata": {
    "collapsed": true,
    "hidden": true
   },
   "outputs": [
    {
     "name": "stdout",
     "output_type": "stream",
     "text": [
      "[10.  11.5 13.  14.5 16.  17.5 19.  20.5 22.  23.5 25.  26.5 28.  29.5\n",
      " 31.  32.5 34.  35.5 37.  38.5]\n"
     ]
    }
   ],
   "source": [
    "matriz = np.arange(start=10, stop=40, step=1.5, dtype=float)\n",
    "print(matriz)"
   ]
  },
  {
   "cell_type": "markdown",
   "id": "b6a4cd21",
   "metadata": {
    "heading_collapsed": true,
    "hidden": true
   },
   "source": [
    "## np.linspace()\n",
    "https://numpy.org/doc/stable/reference/generated/numpy.linspace.html"
   ]
  },
  {
   "cell_type": "markdown",
   "id": "63a6855b",
   "metadata": {
    "hidden": true
   },
   "source": [
    "Funcionalidade:\n",
    "- Cria uma ndarray com base no incio, fim, e quantos numeros sao pedidos\n",
    "- Eé como se criasce uma PA, aonde o inicio é o 1 termo, o fim é o ultimo termo, e quantidade de numeros é a quantidade de termos\n",
    "- As vezes o retorno é uma matriz com elementos numericos do tipo float que contém dizimas periodicas, as vezes numeros float sem periodos<br><br>\n",
    "\n",
    "Parametros:\n",
    "- ( start ) Inicio do intervalo\n",
    "- ( stop ) Fim do intervalo\n",
    "- ( num = 50 ) Quantidade de numeros pedidos, por padrao é 50\n",
    "- ( endpoint = True ) Serve para incluir o stop como elemento\n",
    "- ( retstep = False ) Serve para mostrar ao usuario a razao que foi usada\n",
    "- ( dtype = None ) Tamanho e tipo de dado dos elementos da matriz\n",
    "- ( axis = 0 ) Serve para defirnir como os elementos da array vao ser organizados, se no start ou stop for usado um array 1-D, o axis/eixo pode ser mudado para 1 ou continuar em 0, se for 2-D o axis/eixo pode ser mudado para 2 e assim por diante. "
   ]
  },
  {
   "cell_type": "code",
   "execution_count": 22,
   "id": "a620eb2a",
   "metadata": {
    "collapsed": true,
    "hidden": true
   },
   "outputs": [
    {
     "name": "stdout",
     "output_type": "stream",
     "text": [
      "[[ 1.  2.  3.  4.  5.  6.  7.  8.  9. 10.]\n",
      " [ 1.  2.  3.  4.  5.  6.  7.  8.  9. 10.]] \n",
      "\n",
      "[[ 1.  1.]\n",
      " [ 2.  2.]\n",
      " [ 3.  3.]\n",
      " [ 4.  4.]\n",
      " [ 5.  5.]\n",
      " [ 6.  6.]\n",
      " [ 7.  7.]\n",
      " [ 8.  8.]\n",
      " [ 9.  9.]\n",
      " [10. 10.]]\n"
     ]
    }
   ],
   "source": [
    "# Axis igual a 1\n",
    "matriz = np.linspace(start=[1,1], stop=10, num=10, endpoint=True, retstep=False, dtype=None, axis=1)\n",
    "print(matriz,'\\n')\n",
    "\n",
    "# Axis igual a 0\n",
    "matriz = np.linspace(start=[1,1], stop=10, num=10, endpoint=True, retstep=False, dtype=None, axis=0)\n",
    "print(matriz)"
   ]
  },
  {
   "cell_type": "markdown",
   "id": "6ade8f60",
   "metadata": {
    "heading_collapsed": true
   },
   "source": [
    "# 2 formas de criar um array com valores aleatorios<br>\n",
    "\n",
    "- np.random.rand()<br>\n",
    "- np.random.randint()"
   ]
  },
  {
   "cell_type": "markdown",
   "id": "ff3e00a0",
   "metadata": {
    "heading_collapsed": true,
    "hidden": true
   },
   "source": [
    "## np.random.rand()\n",
    "https://numpy.org/doc/stable/reference/random/generated/numpy.random.rand.html?highlight=rand#numpy.random.rand"
   ]
  },
  {
   "cell_type": "markdown",
   "id": "b1f485a2",
   "metadata": {
    "hidden": true
   },
   "source": [
    "Funcionalidade:\n",
    "- Cria uma ndarray com elementos entre 0 e 1 <br><br>\n",
    "\n",
    "Parametros:\n",
    "- Recebe um numero para uma matriz de 1 dimensao\n",
    "- Recebe 2 numero para uma matriz de 2 dimensao\n",
    "- recebe n numeors para uma matriz de n dimensoes"
   ]
  },
  {
   "cell_type": "code",
   "execution_count": 29,
   "id": "3ed9e9ef",
   "metadata": {
    "collapsed": true,
    "hidden": true
   },
   "outputs": [
    {
     "name": "stdout",
     "output_type": "stream",
     "text": [
      "[[[0.98323907 0.61217996 0.71456293 0.50452752]\n",
      "  [0.57497992 0.38103962 0.18462111 0.40215592]\n",
      "  [0.72956675 0.41738063 0.53147817 0.46647465]]\n",
      "\n",
      " [[0.5836447  0.00873876 0.37157705 0.6008349 ]\n",
      "  [0.58387205 0.71194777 0.76665957 0.56771301]\n",
      "  [0.41218785 0.44486352 0.79646019 0.44783519]]\n",
      "\n",
      " [[0.61859627 0.1022327  0.40476015 0.3458706 ]\n",
      "  [0.59991756 0.81693469 0.60734166 0.27827352]\n",
      "  [0.95125441 0.06526358 0.66237774 0.43723773]]]\n"
     ]
    }
   ],
   "source": [
    "matriz = np.random.rand(3,3,4)\n",
    "print(matriz)"
   ]
  },
  {
   "cell_type": "markdown",
   "id": "e9fc8b9f",
   "metadata": {
    "heading_collapsed": true,
    "hidden": true
   },
   "source": [
    "## np.random.randint()\n",
    "\n",
    "https://numpy.org/doc/stable/reference/random/generated/numpy.random.randint.html?highlight=randint#numpy-random-randint"
   ]
  },
  {
   "cell_type": "markdown",
   "id": "6e5873f8",
   "metadata": {
    "hidden": true
   },
   "source": [
    "Funcionalidade:\n",
    "- Cria uma ndarray com a quantidade de elementos igual a size entre o intervalo criado espebelecido pelo low e o high <br><br>\n",
    "\n",
    "Parametros:\n",
    "- ( low ) Onde começa o intervalo\n",
    "- ( high=None ) Onde acaba o intervalo\n",
    "- ( size=None ) Ordem ou comprimento da matriz, depende da dimensao\n",
    "- ( dtype=int ) Tamanho e tipo de dado"
   ]
  },
  {
   "cell_type": "code",
   "execution_count": 35,
   "id": "1c84ab17",
   "metadata": {
    "collapsed": true,
    "hidden": true
   },
   "outputs": [
    {
     "name": "stdout",
     "output_type": "stream",
     "text": [
      "[[55 21 31]\n",
      " [46 66 49]\n",
      " [81 53 22]]\n"
     ]
    }
   ],
   "source": [
    "matriz = np.random.randint(low=1, high=100, size=(3,3), dtype=int)\n",
    "print(matriz)"
   ]
  },
  {
   "cell_type": "markdown",
   "id": "9eb549d4",
   "metadata": {},
   "source": [
    "# Adicionando, removendo e classificando elementos \n",
    "\n",
    "https://numpy.org/doc/stable/user/absolute_beginners.html#adding-removing-and-sorting-elements<br><br>\n",
    "\n",
    "- np.sort()\n",
    "- np.argsort()\n",
    "- np.lexsort()\n",
    "- np.searchsorted()\n",
    "- np.partition()\n",
    "- np.concatenate()"
   ]
  },
  {
   "cell_type": "markdown",
   "id": "10f21165",
   "metadata": {
    "heading_collapsed": true
   },
   "source": [
    "## np.sort()\n",
    "https://numpy.org/doc/stable/reference/generated/numpy.sort.html#numpy-sort"
   ]
  },
  {
   "cell_type": "markdown",
   "id": "e2bda362",
   "metadata": {
    "hidden": true
   },
   "source": [
    "Funcionalidade:\n",
    "\n",
    "     >> Ordena um array n-dimensional de qualquer tipo de dado. A funçao ordena o array de forma ascendente por padrao.\n",
    "<br>\n",
    "Parametros:<br>\n",
    "\n",
    "- ( a )\n",
    "       >> Estrutura array. Array que sera ordenado \n",
    "\n",
    "- ( axis = -1 ) \n",
    "       >> Um numero inteiro. Representa o eixo ao longo do qual a funçao ira ordenar a matriz, o seu valor padrao é -1, o que significa que a funçao ordenara a matriz ao longo do seu ultimo eixo.\n",
    "       \n",
    "       >> Ser o axis for igual a >None<, a funçao convertera o array de n_dimensoes em unidimencional antes da ordenaçao, devolvendo assim um array unidimencional\n",
    "       \n",
    "       >> Uma matriz 3x4 tem 2 dimensoes, logo um shape = (3, 4)\n",
    "       \n",
    "       axis = 0 siginifica shape[1]\n",
    "       axis = 1 significa shape[0]\n",
    "       \n",
    "       >> E como se fosse a ordem de indexaçao do python, so que ao contrario. Aonde o começo é o primeiro eixo, no caso as colunas.\n",
    "       \n",
    "- ( kind='quicksort' )\n",
    "       >> E uma string. Representa o nome do algoritmo de ordenaçao. Os algoritmos de ordenaçao aceitos pelafunçao sao: 'quicksort', 'mergesort', 'heapsort' e 'stable' \n",
    "\n",
    "- ( order=None )\n",
    "       >> Pode ser uma string ou uma lista de string. Quando os campos de um array sao definidos, este parametro é ultilizado para especificar o campo a comparar primeiro."
   ]
  },
  {
   "cell_type": "code",
   "execution_count": 77,
   "id": "3fb27baa",
   "metadata": {
    "hidden": true
   },
   "outputs": [
    {
     "name": "stdout",
     "output_type": "stream",
     "text": [
      "[[5 2 3]\n",
      " [7 4 1]\n",
      " [8 6 9]] \n",
      "\n",
      "[1 2 3 4 5 6 7 8 9] \n",
      "\n",
      "[[5 2 1]\n",
      " [7 4 3]\n",
      " [8 6 9]] \n",
      "\n",
      "[[2 3 5]\n",
      " [1 4 7]\n",
      " [6 8 9]] \n",
      "\n",
      "[[2 3 5]\n",
      " [1 4 7]\n",
      " [6 8 9]]\n"
     ]
    }
   ],
   "source": [
    "# Parametro axis\n",
    "matriz = np.array([[5, 2, 3], [7, 4, 1], [8, 6, 9]])\n",
    "print(matriz,'\\n')\n",
    "\n",
    "# Axis igual a None\n",
    "matriz_n1 = np.sort(a=matriz.copy(), axis=None, kind='quicksort', order=None)\n",
    "print(matriz_n1,'\\n')\n",
    "\n",
    "# Axis igual a 0\n",
    "matriz_n2 = np.sort(a=matriz, axis=0, kind='quicksort', order=None)\n",
    "print(matriz_n2,'\\n')\n",
    "\n",
    "# Axis igual a 1\n",
    "matriz_n3 = np.sort(a=matriz, axis=1, kind='quicksort', order=None)\n",
    "print(matriz_n3,'\\n')\n",
    "\n",
    "# Axis igual a -1\n",
    "matriz_n4 = np.sort(a=matriz, axis=-1, kind='quicksort', order=None)\n",
    "print(matriz_n4)"
   ]
  },
  {
   "cell_type": "code",
   "execution_count": 73,
   "id": "1498fc93",
   "metadata": {
    "collapsed": true,
    "hidden": true
   },
   "outputs": [
    {
     "name": "stdout",
     "output_type": "stream",
     "text": [
      "[(b'adroir', 44, 1.75) (b'huan', 17, 1.8 ) (b'lucas', 18, 1.82)\n",
      " (b'luigi', 19, 1.77)] \n",
      "\n",
      "[(b'huan', 17, 1.8 ) (b'lucas', 18, 1.82) (b'luigi', 19, 1.77)\n",
      " (b'adroir', 44, 1.75)] \n",
      "\n",
      "[(b'adroir', 44, 1.75) (b'luigi', 19, 1.77) (b'huan', 17, 1.8 )\n",
      " (b'lucas', 18, 1.82)]\n"
     ]
    }
   ],
   "source": [
    "# Parametro order\n",
    "tipo = np.dtype([('nome','S10'), ('idade', int), ('altura', float)])\n",
    "matriz = np.array(\n",
    "    [('huan', 17, 1.80), \n",
    "    ('luigi', 19, 1.77), \n",
    "    ('lucas', 18, 1.82), \n",
    "    ('adroir', 44, 1.75)], dtype=tipo)\n",
    "\n",
    "# Ordenando por nome\n",
    "matriz_n1 = np.sort(a=matriz, kind='quicksort', order='nome')\n",
    "print(matriz_n1,'\\n')\n",
    "\n",
    "# Ordenando por idade\n",
    "matriz_n1 = np.sort(a=matriz, kind='quicksort', order='idade')\n",
    "print(matriz_n1,'\\n')\n",
    "\n",
    "# Ordenando por idade\n",
    "matriz_n1 = np.sort(a=matriz, kind='quicksort', order='altura')\n",
    "print(matriz_n1)"
   ]
  },
  {
   "cell_type": "markdown",
   "id": "f38a2828",
   "metadata": {},
   "source": [
    "## np.argsort()\n",
    "https://numpy.org/doc/stable/reference/generated/numpy.argsort.html#numpy-argsort"
   ]
  }
 ],
 "metadata": {
  "kernelspec": {
   "display_name": "Python 3 (ipykernel)",
   "language": "python",
   "name": "python3"
  },
  "language_info": {
   "codemirror_mode": {
    "name": "ipython",
    "version": 3
   },
   "file_extension": ".py",
   "mimetype": "text/x-python",
   "name": "python",
   "nbconvert_exporter": "python",
   "pygments_lexer": "ipython3",
   "version": "3.10.7"
  },
  "varInspector": {
   "cols": {
    "lenName": 16,
    "lenType": 16,
    "lenVar": 40
   },
   "kernels_config": {
    "python": {
     "delete_cmd_postfix": "",
     "delete_cmd_prefix": "del ",
     "library": "var_list.py",
     "varRefreshCmd": "print(var_dic_list())"
    },
    "r": {
     "delete_cmd_postfix": ") ",
     "delete_cmd_prefix": "rm(",
     "library": "var_list.r",
     "varRefreshCmd": "cat(var_dic_list()) "
    }
   },
   "types_to_exclude": [
    "module",
    "function",
    "builtin_function_or_method",
    "instance",
    "_Feature"
   ],
   "window_display": false
  }
 },
 "nbformat": 4,
 "nbformat_minor": 5
}

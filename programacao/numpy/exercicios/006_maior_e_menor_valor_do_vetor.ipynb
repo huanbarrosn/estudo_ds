{
 "cells": [
  {
   "cell_type": "markdown",
   "id": "7a211181",
   "metadata": {},
   "source": [
    "Faca um programa que receba do usuario um vetor com 10 posicoes. Em seguida devera ser impresso o maior e o menor elemento do vetor."
   ]
  },
  {
   "cell_type": "code",
   "execution_count": 1,
   "id": "2df518ce",
   "metadata": {},
   "outputs": [],
   "source": [
    "import numpy as np"
   ]
  },
  {
   "cell_type": "code",
   "execution_count": 12,
   "id": "e279d2be",
   "metadata": {},
   "outputs": [
    {
     "name": "stdout",
     "output_type": "stream",
     "text": [
      "Digite um numero: 3\n",
      "Digite um numero: 4\n",
      "Digite um numero: 5\n",
      "Digite um numero: 6\n",
      "Digite um numero: 7\n",
      "Digite um numero: 8\n",
      "Digite um numero: 9\n",
      "Digite um numero: 1\n",
      "Digite um numero: 0\n",
      "Digite um numero: 2\n",
      "\n",
      "O maior numero: 9.0\n",
      "O menor numero: 0.0\n"
     ]
    }
   ],
   "source": [
    "try:\n",
    "    a = np.array([int(input('Digite um numero: ')) for i in range(10)], dtype=float)\n",
    "\n",
    "except Exception as erro:\n",
    "    print(f'\\n\\033[31mO erro {erro.__class__} aconteceu.\\033[m')\n",
    "\n",
    "else:\n",
    "    print('\\nO maior numero:',a.max())\n",
    "    print('O menor numero:',a.min())"
   ]
  }
 ],
 "metadata": {
  "kernelspec": {
   "display_name": "Python 3 (ipykernel)",
   "language": "python",
   "name": "python3"
  },
  "language_info": {
   "codemirror_mode": {
    "name": "ipython",
    "version": 3
   },
   "file_extension": ".py",
   "mimetype": "text/x-python",
   "name": "python",
   "nbconvert_exporter": "python",
   "pygments_lexer": "ipython3",
   "version": "3.10.4"
  }
 },
 "nbformat": 4,
 "nbformat_minor": 5
}

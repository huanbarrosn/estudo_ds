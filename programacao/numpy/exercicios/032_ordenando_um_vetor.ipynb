{
 "cells": [
  {
   "cell_type": "markdown",
   "id": "91393e95",
   "metadata": {},
   "source": [
    "Leia um vetor com 10 numeros reais, ordene os elementos deste vetor, e no final escreva os elementos do vetor ordenado"
   ]
  },
  {
   "cell_type": "code",
   "execution_count": 1,
   "id": "88071ee2",
   "metadata": {},
   "outputs": [],
   "source": [
    "import numpy as np"
   ]
  },
  {
   "cell_type": "code",
   "execution_count": 19,
   "id": "db2b1c1b",
   "metadata": {},
   "outputs": [
    {
     "name": "stdout",
     "output_type": "stream",
     "text": [
      "[ 3  4  8 12 14 19 22 34 38 39]\n"
     ]
    }
   ],
   "source": [
    "vetor = np.random.randint(low=40, size=10)\n",
    "vetor = np.sort(a=vetor, axis=-1, kind=None, order=None)\n",
    "\n",
    "print(vetor)"
   ]
  }
 ],
 "metadata": {
  "kernelspec": {
   "display_name": "Python 3 (ipykernel)",
   "language": "python",
   "name": "python3"
  },
  "language_info": {
   "codemirror_mode": {
    "name": "ipython",
    "version": 3
   },
   "file_extension": ".py",
   "mimetype": "text/x-python",
   "name": "python",
   "nbconvert_exporter": "python",
   "pygments_lexer": "ipython3",
   "version": "3.10.4"
  }
 },
 "nbformat": 4,
 "nbformat_minor": 5
}

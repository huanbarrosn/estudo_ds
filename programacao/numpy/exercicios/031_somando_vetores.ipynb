{
 "cells": [
  {
   "cell_type": "markdown",
   "id": "72f9e755",
   "metadata": {},
   "source": [
    "Faca um programa que leia dois numeros a e b (positivos menores que 10000) e:\n",
    "\n",
    "- Crie um vetor onde cada posicao e um algarismo do numero. A primeira posicao e o algarismo menos significativo;\n",
    "- Crie um vetor que seja a soma de a e b, mas faca-o usando apenas os vetores construıdos anteriormente.\n",
    "\n",
    "Dica: some as posicoes correspondentes. Se a soma ultrapassar 10, subtraia 10 do\n",
    "resultado e some 1 a proxima posicao."
   ]
  },
  {
   "cell_type": "code",
   "execution_count": 1,
   "id": "476870d1",
   "metadata": {},
   "outputs": [],
   "source": [
    "import numpy as np\n",
    "import random as rd"
   ]
  },
  {
   "cell_type": "code",
   "execution_count": 33,
   "id": "61fb3cf4",
   "metadata": {},
   "outputs": [
    {
     "name": "stdout",
     "output_type": "stream",
     "text": [
      "[8 2 5 1]\n",
      "[0 5 4 2] \n",
      "\n",
      "[1 8 2 5 1]\n",
      "[0 2 5 4 2] \n",
      "\n",
      "[1 8 2 5]\n",
      "[0 2 5 4] \n",
      "\n",
      "Vetor soma: [ 1 10  7  9]\n"
     ]
    }
   ],
   "source": [
    "x = np.array(list(str(rd.randint(0,10000)).zfill(4)), dtype=int)\n",
    "y = np.array(list(str(rd.randint(0,10000)).zfill(4)), dtype=int)\n",
    "print(x)\n",
    "print(y,'\\n')\n",
    "\n",
    "x = np.insert(x, [1], x[-1])  if x[0] == 0 else np.insert(x, [0], x[-1])\n",
    "y = np.insert(y, [1], y[-1])  if y[0] == 0 else np.insert(y, [0], y[-1])\n",
    "print(x)\n",
    "print(y,'\\n')\n",
    "\n",
    "x = np.delete(x, [-1])\n",
    "y = np.delete(y, [-1])\n",
    "print(x)\n",
    "print(y,'\\n')\n",
    "\n",
    "soma = x+y\n",
    "print(f'Vetor soma: {soma}')"
   ]
  }
 ],
 "metadata": {
  "kernelspec": {
   "display_name": "Python 3 (ipykernel)",
   "language": "python",
   "name": "python3"
  },
  "language_info": {
   "codemirror_mode": {
    "name": "ipython",
    "version": 3
   },
   "file_extension": ".py",
   "mimetype": "text/x-python",
   "name": "python",
   "nbconvert_exporter": "python",
   "pygments_lexer": "ipython3",
   "version": "3.10.4"
  }
 },
 "nbformat": 4,
 "nbformat_minor": 5
}

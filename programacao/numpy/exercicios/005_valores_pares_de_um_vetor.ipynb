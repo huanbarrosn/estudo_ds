{
 "cells": [
  {
   "cell_type": "markdown",
   "id": "ff8b57b2",
   "metadata": {},
   "source": [
    "Leia um vetor de 10 posicoes. Contar e escrever quantos valores pares ele possui."
   ]
  },
  {
   "cell_type": "code",
   "execution_count": 2,
   "id": "c2d37a6b",
   "metadata": {},
   "outputs": [],
   "source": [
    "import numpy as np"
   ]
  },
  {
   "cell_type": "code",
   "execution_count": 20,
   "id": "452cd414",
   "metadata": {},
   "outputs": [
    {
     "name": "stdout",
     "output_type": "stream",
     "text": [
      "[37 72 20 72 33 13 53 92  2 19]\n",
      "[72 20 72 92  2]\n",
      "\n",
      "Valores pares: 72 20 72 92 2 \n",
      "Quantidade de numeros pares: 5\n"
     ]
    }
   ],
   "source": [
    "a = np.array(np.random.randint(low=100, size=10, dtype=int))\n",
    "pares = np.array([x for x in a if x%2==0])\n",
    "\n",
    "print(a)\n",
    "print(pares)\n",
    "\n",
    "print('\\nValores pares: ', end='')\n",
    "for n in pares:\n",
    "    print(n, end=' ')\n",
    "\n",
    "print(f'\\nQuantidade de numeros pares: {len(pares)}')"
   ]
  }
 ],
 "metadata": {
  "kernelspec": {
   "display_name": "Python 3 (ipykernel)",
   "language": "python",
   "name": "python3"
  },
  "language_info": {
   "codemirror_mode": {
    "name": "ipython",
    "version": 3
   },
   "file_extension": ".py",
   "mimetype": "text/x-python",
   "name": "python",
   "nbconvert_exporter": "python",
   "pygments_lexer": "ipython3",
   "version": "3.10.4"
  }
 },
 "nbformat": 4,
 "nbformat_minor": 5
}

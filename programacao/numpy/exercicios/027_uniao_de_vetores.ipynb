{
 "cells": [
  {
   "cell_type": "markdown",
   "id": "b77ca29f",
   "metadata": {},
   "source": [
    "Faca um programa que leia dois vetores de 10 elementos. Crie um vetor que seja a uniao entre os 2 vetores anteriores, ou seja, que contem os numeros dos dois vetores. Nao deve conter numeros repetidos. "
   ]
  },
  {
   "cell_type": "code",
   "execution_count": 1,
   "id": "79767c79",
   "metadata": {},
   "outputs": [],
   "source": [
    "import numpy as np"
   ]
  },
  {
   "cell_type": "code",
   "execution_count": 2,
   "id": "5936da76",
   "metadata": {},
   "outputs": [
    {
     "name": "stdout",
     "output_type": "stream",
     "text": [
      "[ 3 11  0  2  6 15 11  4 10 10]\n",
      "[11  0 17  0 16 19 11  3  9  9]\n",
      "[ 0  2  3  4  6  9 10 11 15 16 17 19]\n"
     ]
    }
   ],
   "source": [
    "a = np.random.randint(low=20, size=10)\n",
    "b = np.random.randint(low=20, size=10)\n",
    "\n",
    "print(a)\n",
    "print(b)\n",
    "\n",
    "c = set(a)|set(b)\n",
    "c = np.array(list(c))\n",
    "\n",
    "print(c)"
   ]
  }
 ],
 "metadata": {
  "kernelspec": {
   "display_name": "Python 3 (ipykernel)",
   "language": "python",
   "name": "python3"
  },
  "language_info": {
   "codemirror_mode": {
    "name": "ipython",
    "version": 3
   },
   "file_extension": ".py",
   "mimetype": "text/x-python",
   "name": "python",
   "nbconvert_exporter": "python",
   "pygments_lexer": "ipython3",
   "version": "3.10.4"
  }
 },
 "nbformat": 4,
 "nbformat_minor": 5
}

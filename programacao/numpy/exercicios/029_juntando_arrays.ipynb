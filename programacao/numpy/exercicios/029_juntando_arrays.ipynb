{
 "cells": [
  {
   "cell_type": "markdown",
   "id": "588ef774",
   "metadata": {},
   "source": [
    "Fac¸a um programa que leia um vetor de 15 posic¸oes e o compacte, ou seja, elimine as ˜\n",
    "posic¸oes com valor zero. Para isso, todos os elementos ˜ a frente do valor zero, devem ser `\n",
    "movidos uma posic¸ao para tr ˜ as no vetor."
   ]
  },
  {
   "cell_type": "code",
   "execution_count": 1,
   "id": "05b3e79d",
   "metadata": {},
   "outputs": [],
   "source": [
    "import numpy as np"
   ]
  },
  {
   "cell_type": "code",
   "execution_count": 151,
   "id": "a1f29c09",
   "metadata": {},
   "outputs": [
    {
     "name": "stdout",
     "output_type": "stream",
     "text": [
      "[0 2 0 2 0 0 2 2 0 0 2 1 1 2 2] \n",
      "\n",
      "[2 2 2 2 2 1 1 2 2 0 0 0 0 0 0]\n"
     ]
    }
   ],
   "source": [
    "a = np.random.randint(low=3, size=15, dtype=int)\n",
    "print(a,'\\n')\n",
    "\n",
    "b = np.array([x for x in a if x!=0] + [x for x in a if x==0])\n",
    "print(b)"
   ]
  }
 ],
 "metadata": {
  "kernelspec": {
   "display_name": "Python 3 (ipykernel)",
   "language": "python",
   "name": "python3"
  },
  "language_info": {
   "codemirror_mode": {
    "name": "ipython",
    "version": 3
   },
   "file_extension": ".py",
   "mimetype": "text/x-python",
   "name": "python",
   "nbconvert_exporter": "python",
   "pygments_lexer": "ipython3",
   "version": "3.10.4"
  }
 },
 "nbformat": 4,
 "nbformat_minor": 5
}

{
 "cells": [
  {
   "cell_type": "markdown",
   "id": "af6ac97e",
   "metadata": {
    "heading_collapsed": true
   },
   "source": [
    "# 📐 Análise combinatória"
   ]
  },
  {
   "cell_type": "markdown",
   "id": "2c25fd2a",
   "metadata": {
    "cell_style": "center",
    "hidden": true
   },
   "source": [
    "A análise combinatória ou combinatória é a parte da matemática que estuda métodos e técnicas que permitem resolver problemas relacionados a contagem. Muito utilizada nos estudos sobre probabilidade, ela faz análise das possibilidades e das combinações possiveis entre um conjunto de elementos."
   ]
  },
  {
   "cell_type": "markdown",
   "id": "0851a703",
   "metadata": {
    "heading_collapsed": true,
    "hidden": true
   },
   "source": [
    "## 🔎 Principio fundamental da contagem"
   ]
  },
  {
   "cell_type": "markdown",
   "id": "9edef081",
   "metadata": {
    "hidden": true
   },
   "source": [
    "O principio fundamental da contagem, também chamado de principio multiplicativo, é utilizado para encontrar o numero de possibilidades para um evento constituido de **n** etapas. Para isso as etapas devem ser sucetivas e independentes. Se a primeira etapa do evento possui **x** possibilidades e a segunda etapa possui **y** possibilidades então no total existem **x**.**y** possibilidades. Em resumo multiplica-se o numero de opções entre as escolhas que são apresentadas."
   ]
  },
  {
   "cell_type": "markdown",
   "id": "1b556d68",
   "metadata": {
    "hidden": true
   },
   "source": [
    "Quantas possibilidades existem de uma pessoase vestir com 3 blusas, 2 calças e 4 sapatos?"
   ]
  },
  {
   "cell_type": "code",
   "execution_count": 1,
   "id": "d0a4dbf0",
   "metadata": {
    "ExecuteTime": {
     "end_time": "2022-12-31T01:05:06.322418Z",
     "start_time": "2022-12-31T01:05:06.316958Z"
    },
    "hidden": true
   },
   "outputs": [
    {
     "name": "stdout",
     "output_type": "stream",
     "text": [
      "24\n"
     ]
    }
   ],
   "source": [
    "b = 3\n",
    "c = 2\n",
    "s = 4\n",
    "\n",
    "print(b*c*s)"
   ]
  },
  {
   "cell_type": "markdown",
   "id": "8eb588b8",
   "metadata": {
    "hidden": true
   },
   "source": [
    " "
   ]
  },
  {
   "cell_type": "markdown",
   "id": "d81afbe2",
   "metadata": {
    "heading_collapsed": true,
    "hidden": true
   },
   "source": [
    "## 🔎 Permutação"
   ]
  },
  {
   "cell_type": "markdown",
   "id": "27bce7ce",
   "metadata": {
    "heading_collapsed": true,
    "hidden": true
   },
   "source": [
    "### ✏️ Permutação simples"
   ]
  },
  {
   "cell_type": "markdown",
   "id": "0fd8bd7e",
   "metadata": {
    "hidden": true
   },
   "source": [
    "Uma permutação simples conciste em calcular quantas possibilidades existem de ordenar os elementos de um conjunto finito. A quantidade de permutações simples (pn) de um conjunto de **n** elementos se dá pelo fatorial de **n** (**n!**)."
   ]
  },
  {
   "cell_type": "markdown",
   "id": "9460d413",
   "metadata": {
    "hidden": true
   },
   "source": [
    "<img src='https://pm1.narvii.com/6850/10af5cd8526aab0d4bf6bc6a1077bcc0b42ab8dev2_hq.jpg' width=125><img>"
   ]
  },
  {
   "cell_type": "markdown",
   "id": "b15462dd",
   "metadata": {
    "hidden": true
   },
   "source": [
    "Quantas permutações simples é possivel fazer dado o conjunto [1, 3, 5, 4, 7, l, g, a] ?"
   ]
  },
  {
   "cell_type": "code",
   "execution_count": 1,
   "id": "73207a54",
   "metadata": {
    "ExecuteTime": {
     "end_time": "2023-01-01T17:24:15.445552Z",
     "start_time": "2023-01-01T17:24:15.441754Z"
    },
    "hidden": true
   },
   "outputs": [],
   "source": [
    "# Criando uma função que calcula o fatorial\n",
    "def fatorial(n):\n",
    "    if n == 0:\n",
    "        n +=1 \n",
    "    for x in range(n-1, 0, -1):\n",
    "        n = n * x\n",
    "    return n"
   ]
  },
  {
   "cell_type": "code",
   "execution_count": 59,
   "id": "25cc3a14",
   "metadata": {
    "ExecuteTime": {
     "end_time": "2022-12-28T14:46:55.755716Z",
     "start_time": "2022-12-28T14:46:55.750175Z"
    },
    "hidden": true
   },
   "outputs": [
    {
     "name": "stdout",
     "output_type": "stream",
     "text": [
      "Um conjunto com 8 elementos possui 40320 formas de ordena-lo\n"
     ]
    }
   ],
   "source": [
    "# Calculando as permutações\n",
    "set1 = [1, 3, 5, 4, 7, 'l', 'g', 'a']\n",
    "p = fatorial(len(set1))\n",
    "print(f'Um conjunto com {len(set1)} elementos possui {p} formas de ordena-lo')"
   ]
  },
  {
   "cell_type": "markdown",
   "id": "20fb17b0",
   "metadata": {
    "hidden": true
   },
   "source": [
    " "
   ]
  },
  {
   "cell_type": "markdown",
   "id": "ad0d6524",
   "metadata": {
    "heading_collapsed": true,
    "hidden": true
   },
   "source": [
    "### ✏️ Permutação com repetições"
   ]
  },
  {
   "cell_type": "markdown",
   "id": "09103077",
   "metadata": {
    "hidden": true
   },
   "source": [
    "Uma permutação de com elementos repetidos acontece quando em um conjunto finito de **n** elementos, alguns deles são repetidos. Para cacular o numero de permutações únicas de um conjunto que possui elementos repetidos, devemos dividir o fatorial do conjunto pelo produto entre os fatoriais dos elementos que se repetem."
   ]
  },
  {
   "cell_type": "markdown",
   "id": "f4523be5",
   "metadata": {
    "hidden": true
   },
   "source": [
    "<img src='https://iranmarkus.files.wordpress.com/2017/09/permutac3a7c3a3o-com-repetic3a7c3a3o-jpg.gif' width=250><img>"
   ]
  },
  {
   "cell_type": "markdown",
   "id": "68ba93b5",
   "metadata": {
    "hidden": true
   },
   "source": [
    "Quantas permutações únicas existem dado o conjunto {1 , 1, 2, 3, 4, 5, 5, 6} ?"
   ]
  },
  {
   "cell_type": "code",
   "execution_count": 107,
   "id": "4bef2a4b",
   "metadata": {
    "ExecuteTime": {
     "end_time": "2022-12-28T18:42:22.283519Z",
     "start_time": "2022-12-28T18:42:22.276578Z"
    },
    "hidden": true
   },
   "outputs": [
    {
     "name": "stdout",
     "output_type": "stream",
     "text": [
      "A quantidade de permutações únicas do conjunto são 10080.0\n"
     ]
    }
   ],
   "source": [
    "# Conjunto\n",
    "set2 = [1 , 1, 2, 3, 4, 5, 5, 6]\n",
    "\n",
    "# Indentificando os elementos repetidos\n",
    "rep = [x for x in set(set2) if set2.count(x)>1]\n",
    "\n",
    "\n",
    "# Calculando o fatorial de cada elemento repetido\n",
    "fat = [fatorial(set2.count(x)) for x in rep]\n",
    "\n",
    "\n",
    "# Multiplicando o resultado dos fatoriais\n",
    "p = 1\n",
    "for n in fat:\n",
    "    p *= n \n",
    "\n",
    "    \n",
    "# Calculando o numero de permutações únicas\n",
    "f = fatorial(len(set2))\n",
    "print(f'A quantidade de permutações únicas do conjunto são {f/p}')"
   ]
  },
  {
   "cell_type": "markdown",
   "id": "3d2f2a80",
   "metadata": {
    "ExecuteTime": {
     "end_time": "2022-12-28T14:59:34.695918Z",
     "start_time": "2022-12-28T14:59:34.691429Z"
    },
    "hidden": true
   },
   "source": [
    " "
   ]
  },
  {
   "cell_type": "markdown",
   "id": "ab558ab3",
   "metadata": {
    "heading_collapsed": true,
    "hidden": true
   },
   "source": [
    "### ✏️ Permutação circular"
   ]
  },
  {
   "cell_type": "markdown",
   "id": "9219c968",
   "metadata": {
    "hidden": true
   },
   "source": [
    "A permutação circular é uma permutação muito idêntica á permutação simples, a diferênça é que ao invés de os elementos estarem posicionado em um fila, eles estarão em um circulo. Por isso é possivel que mesmo um conjunto finito com elementos totalmente distintos, quando calculado suas permutações, tenham prmutações iguais. Para resolver esse problema devemos calcular a permutação circular de um conjunto de **n** elementos seguindo a formula **(n-1)!**."
   ]
  },
  {
   "cell_type": "markdown",
   "id": "6715e738",
   "metadata": {
    "hidden": true
   },
   "source": [
    "<img src='https://paperx-dex-assets.s3.sa-east-1.amazonaws.com/images/1602995572137-3JaL1IwJ9X.png'><img>"
   ]
  },
  {
   "cell_type": "markdown",
   "id": "2210dabd",
   "metadata": {
    "hidden": true
   },
   "source": [
    "Quantas permutações circulares é possivel fazer dado o conjunto [1, 2, 3, 4, 7]?"
   ]
  },
  {
   "cell_type": "code",
   "execution_count": 103,
   "id": "ebc51ac7",
   "metadata": {
    "ExecuteTime": {
     "end_time": "2022-12-28T18:41:23.867811Z",
     "start_time": "2022-12-28T18:41:23.862289Z"
    },
    "hidden": true
   },
   "outputs": [
    {
     "name": "stdout",
     "output_type": "stream",
     "text": [
      "A quantidade de permutações circulares únicas do conjunto são 24\n"
     ]
    }
   ],
   "source": [
    "set3 = [1, 2, 3, 4, 7]\n",
    "\n",
    "print(f'A quantidade de permutações circulares únicas do conjunto são {fatorial(len(set3)-1)}')"
   ]
  },
  {
   "cell_type": "markdown",
   "id": "6bb52390",
   "metadata": {
    "hidden": true
   },
   "source": [
    " "
   ]
  },
  {
   "cell_type": "markdown",
   "id": "bca2ca6b",
   "metadata": {
    "heading_collapsed": true,
    "hidden": true
   },
   "source": [
    "## 🔎 Arranjos"
   ]
  },
  {
   "cell_type": "markdown",
   "id": "6795360c",
   "metadata": {
    "heading_collapsed": true,
    "hidden": true
   },
   "source": [
    "### ✏️ Arranjos simples"
   ]
  },
  {
   "cell_type": "markdown",
   "id": "a675c933",
   "metadata": {
    "hidden": true
   },
   "source": [
    "Arranjo simples é um tipo de agrupamento estudado na análise combinatória. Matematicamente falando os arranjos são todas as ordenações possiveis de se fazer, onde cada ordenação possui **p** **(sendo p<n)** elementos, apartir de um conjunto finito de **n** elementos."
   ]
  },
  {
   "cell_type": "markdown",
   "id": "1eea831e",
   "metadata": {
    "hidden": true
   },
   "source": [
    "<img src='https://www.infoescola.com/wp-content/uploads/2021/02/img_6036bc2f760c5.png'><img>"
   ]
  },
  {
   "cell_type": "markdown",
   "id": "4da00662",
   "metadata": {
    "hidden": true
   },
   "source": [
    "É importante comprender que na combinação a ordem dos elementos do elementos no conjunto não é importante, mas no arranjo ela é. Além disso na permutação todos os elementos do conjunto estão envolvidos, já no arranjo, apenas parte do conjunto, que é definido por **(p)**.  "
   ]
  },
  {
   "cell_type": "markdown",
   "id": "7b1050cb",
   "metadata": {
    "hidden": true
   },
   "source": [
    "Dado o conjunto [1, 2, 5, 73, 8, 9], quantas combinações são possiveis tomando de 4 em 4?"
   ]
  },
  {
   "cell_type": "code",
   "execution_count": 170,
   "id": "43a39fbc",
   "metadata": {
    "ExecuteTime": {
     "end_time": "2022-12-29T01:37:17.530721Z",
     "start_time": "2022-12-29T01:37:17.525925Z"
    },
    "hidden": true
   },
   "outputs": [
    {
     "name": "stdout",
     "output_type": "stream",
     "text": [
      "A quantidade de combinações dado o \"conjunto\" e \"p\" são 360.0\n"
     ]
    }
   ],
   "source": [
    "set4 = [1, 2, 5, 73, 8, 9]\n",
    "p = 4\n",
    "tamanho = len(set4)\n",
    "\n",
    "comb = fatorial(tamanho)/fatorial(tamanho-p)\n",
    "print(f'A quantidade de combinações dado o \"conjunto\" e \"p\" são {comb}')"
   ]
  },
  {
   "cell_type": "markdown",
   "id": "4299acce",
   "metadata": {
    "hidden": true
   },
   "source": [
    " "
   ]
  },
  {
   "cell_type": "markdown",
   "id": "0fadaaaa",
   "metadata": {
    "heading_collapsed": true,
    "hidden": true
   },
   "source": [
    "### ✏️ Arranjos com repetições"
   ]
  },
  {
   "cell_type": "markdown",
   "id": "45b9c955",
   "metadata": {
    "hidden": true
   },
   "source": [
    "També conhecido como arranjo completo, neste tipo de arranjo aceitam-se numeros repetidos. Ou seja, podemos formar ordenações de **p** elementos a partir de um conjunto finito de **n** elementos sendo que o mesmo elemento pode aparecer mais de uma vez. Formula:"
   ]
  },
  {
   "cell_type": "markdown",
   "id": "08363f49",
   "metadata": {
    "hidden": true
   },
   "source": [
    "<img src='https://content.querobolsa.com.br/assets/4bb7352f-26b5-44cc-b573-be24aaf76d20'><img>"
   ]
  },
  {
   "cell_type": "markdown",
   "id": "0425cc85",
   "metadata": {
    "hidden": true
   },
   "source": [
    "Um cadeado possui 3 rodelas numeradas de 1 a 9. Quantas combinações com 3 algarismos existem?"
   ]
  },
  {
   "cell_type": "code",
   "execution_count": 114,
   "id": "27053214",
   "metadata": {
    "ExecuteTime": {
     "end_time": "2022-12-28T23:03:20.685668Z",
     "start_time": "2022-12-28T23:03:20.680381Z"
    },
    "hidden": true
   },
   "outputs": [
    {
     "name": "stdout",
     "output_type": "stream",
     "text": [
      "A quantidade de combinações possiveis são 729\n"
     ]
    }
   ],
   "source": [
    "comb = 9**3\n",
    "print(f'A quantidade de combinações possiveis são {comb}')"
   ]
  },
  {
   "cell_type": "markdown",
   "id": "dff54f86",
   "metadata": {
    "hidden": true
   },
   "source": [
    " "
   ]
  },
  {
   "cell_type": "markdown",
   "id": "d60c66e0",
   "metadata": {
    "heading_collapsed": true,
    "hidden": true
   },
   "source": [
    "### ✏️ Arranjos condicionais"
   ]
  },
  {
   "cell_type": "markdown",
   "id": "419e34ed",
   "metadata": {
    "hidden": true
   },
   "source": [
    "Os arranjos condicionais nada mais são que arranjos simples ou com retição criados apartir de alguma condição. Por exemplo: \n",
    "\n",
    "Quantos arranjos de **p=4** elementos é possivel fazer dado o conjunto **[A, B, C, D, E]**, sendo que os dois primeiros elementos do arranjo devem pertencer ao subconjunto **[A, B, C]**?"
   ]
  },
  {
   "cell_type": "code",
   "execution_count": 11,
   "id": "90ba72c3",
   "metadata": {
    "ExecuteTime": {
     "end_time": "2022-12-31T01:13:32.138430Z",
     "start_time": "2022-12-31T01:13:32.130892Z"
    },
    "hidden": true
   },
   "outputs": [
    {
     "name": "stdout",
     "output_type": "stream",
     "text": [
      "A resposta é 36.0\n"
     ]
    }
   ],
   "source": [
    "# Respondendo\n",
    "nconjunto = 5\n",
    "p1 = 4\n",
    "\n",
    "nsubconjunto = 3\n",
    "p2 = 2\n",
    "\n",
    "# Primeiero devemos calcular quantas possibilidades existem de A, B ou C serem as duas primeiras letras\n",
    "arranjo1 = fatorial(nsubconjunto)/fatorial(nsubconjunto-p2)\n",
    "\n",
    "# Agora devemos calcular quantas possibilidades existem de as ultimas 2 letras serem D, E ou (A ou B ou C)\n",
    "arranjo2 = fatorial(nconjunto-p2)/fatorial((nconjunto-p2) - p2) \n",
    "\n",
    "# Resposta \n",
    "r = arranjo1*arranjo2\n",
    "print('A resposta é', r)"
   ]
  },
  {
   "cell_type": "markdown",
   "id": "c09838b6",
   "metadata": {
    "hidden": true
   },
   "source": [
    " "
   ]
  },
  {
   "cell_type": "markdown",
   "id": "5fa91e13",
   "metadata": {
    "heading_collapsed": true,
    "hidden": true
   },
   "source": [
    "## 🔎 Combinações"
   ]
  },
  {
   "cell_type": "markdown",
   "id": "9ea53ef5",
   "metadata": {
    "heading_collapsed": true,
    "hidden": true
   },
   "source": [
    "### ✏️ Combinações simples"
   ]
  },
  {
   "cell_type": "markdown",
   "id": "4c40d5b4",
   "metadata": {
    "hidden": true
   },
   "source": [
    "A conbinação simples é todo subconjunto de **p** elementos, sendo cada elemento único, que podemos formar a partir de um conjunto de **n** elementos. Na combinação, ao montar os agrupamentos, a ordem dos elementos do conjunto não é importante, ou seja **{A,B} = {B,A}**. Veja a formula:"
   ]
  },
  {
   "cell_type": "markdown",
   "id": "38e249a2",
   "metadata": {
    "hidden": true
   },
   "source": [
    "<img src='https://images.educamaisbrasil.com.br/content/banco_de_imagens/guia-de-estudo/D/matematica-analise-combinatoria-combinacao.jpg' width=150><img>"
   ]
  },
  {
   "cell_type": "markdown",
   "id": "ca4ba40c",
   "metadata": {
    "hidden": true
   },
   "source": [
    "Dado o conjunto [A, B, C, D], quantas combinações simples de 3 elementos podemos formar apartir dele?"
   ]
  },
  {
   "cell_type": "code",
   "execution_count": 27,
   "id": "44b50990",
   "metadata": {
    "ExecuteTime": {
     "end_time": "2022-12-29T23:26:12.428342Z",
     "start_time": "2022-12-29T23:26:12.418739Z"
    },
    "hidden": true
   },
   "outputs": [
    {
     "name": "stdout",
     "output_type": "stream",
     "text": [
      "É possivel formar apenas 4.0 combinações unicas apartir desse conjunto.\n"
     ]
    }
   ],
   "source": [
    "# Conjunto\n",
    "conjunto = ['A', 'B', 'C', 'D']\n",
    "n = len(conjunto)\n",
    "p = 3\n",
    "\n",
    "# Calculando quantos arranjos são possiveis, para depois calcular quantos desses arranjos\n",
    "# são combinações unicas \n",
    "arranjos = fatorial(n) / fatorial(n-p)\n",
    "\n",
    "\n",
    "# Calculando quantos dos arranjos são combinações unicas, ou seja, a ordem dos elementos\n",
    "# não importo, por exemplo AB = BA.\n",
    "comb = arranjos / fatorial(p)\n",
    "\n",
    "print(f'É possivel formar apenas {comb} combinações unicas apartir desse conjunto.')"
   ]
  },
  {
   "cell_type": "markdown",
   "id": "e90f6ea9",
   "metadata": {
    "hidden": true
   },
   "source": [
    " "
   ]
  },
  {
   "cell_type": "markdown",
   "id": "e788b770",
   "metadata": {
    "heading_collapsed": true,
    "hidden": true
   },
   "source": [
    "### ✏️ Combinações com repetições"
   ]
  },
  {
   "cell_type": "markdown",
   "id": "378fc860",
   "metadata": {
    "hidden": true
   },
   "source": [
    "A **combinação com repetição** se difere da combinação simples porque ela serve para calcular o numero de subconjuntos de **p** elementos que podemos criar apartir de um conjunto de **n** elementos, **sendo que cada elemento do subconjunto pode ser repetido**. Formula:"
   ]
  },
  {
   "cell_type": "markdown",
   "id": "81481aaa",
   "metadata": {
    "hidden": true
   },
   "source": [
    "<img src = 'https://dhg1h5j42swfq.cloudfront.net/2019/10/03153420/Captura-de-Tela-2019-10-03-%C3%A0s-14.34.07.png' width=185><img>"
   ]
  },
  {
   "cell_type": "markdown",
   "id": "8dd90433",
   "metadata": {
    "hidden": true
   },
   "source": [
    "Questao"
   ]
  },
  {
   "cell_type": "code",
   "execution_count": null,
   "id": "a1ad59fd",
   "metadata": {
    "hidden": true
   },
   "outputs": [],
   "source": []
  },
  {
   "cell_type": "markdown",
   "id": "a86fbaba",
   "metadata": {
    "hidden": true
   },
   "source": [
    " "
   ]
  },
  {
   "cell_type": "markdown",
   "id": "b7f7bbc8",
   "metadata": {},
   "source": [
    "# 📐 Probabilidade"
   ]
  },
  {
   "cell_type": "markdown",
   "id": "e4f789a8",
   "metadata": {},
   "source": []
  },
  {
   "cell_type": "markdown",
   "id": "4e920a96",
   "metadata": {},
   "source": []
  },
  {
   "cell_type": "markdown",
   "id": "37d5ed99",
   "metadata": {},
   "source": []
  }
 ],
 "metadata": {
  "kernelspec": {
   "display_name": "Python 3 (ipykernel)",
   "language": "python",
   "name": "python3"
  },
  "language_info": {
   "codemirror_mode": {
    "name": "ipython",
    "version": 3
   },
   "file_extension": ".py",
   "mimetype": "text/x-python",
   "name": "python",
   "nbconvert_exporter": "python",
   "pygments_lexer": "ipython3",
   "version": "3.11.1"
  },
  "varInspector": {
   "cols": {
    "lenName": 16,
    "lenType": 16,
    "lenVar": 40
   },
   "kernels_config": {
    "python": {
     "delete_cmd_postfix": "",
     "delete_cmd_prefix": "del ",
     "library": "var_list.py",
     "varRefreshCmd": "print(var_dic_list())"
    },
    "r": {
     "delete_cmd_postfix": ") ",
     "delete_cmd_prefix": "rm(",
     "library": "var_list.r",
     "varRefreshCmd": "cat(var_dic_list()) "
    }
   },
   "types_to_exclude": [
    "module",
    "function",
    "builtin_function_or_method",
    "instance",
    "_Feature"
   ],
   "window_display": false
  }
 },
 "nbformat": 4,
 "nbformat_minor": 5
}

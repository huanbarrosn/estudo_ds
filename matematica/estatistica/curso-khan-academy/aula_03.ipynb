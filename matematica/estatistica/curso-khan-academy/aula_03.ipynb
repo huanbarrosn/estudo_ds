{
 "cells": [
  {
   "cell_type": "markdown",
   "metadata": {},
   "source": [
    "Esse dataset eu peguei no kaggle, para enteder melhor os dados leia mais sobre o dataset [aqui](https://www.kaggle.com/datasets/ruchi798/data-science-job-salaries). Vamos utilizar esse dataset na maioria dos exemplos."
   ]
  },
  {
   "cell_type": "code",
   "execution_count": 2,
   "metadata": {
    "ExecuteTime": {
     "end_time": "2022-12-07T22:28:14.429851Z",
     "start_time": "2022-12-07T22:28:14.408796Z"
    }
   },
   "outputs": [],
   "source": [
    "# Importando a biblioteca pandas\n",
    "import pandas as pd \n",
    "\n",
    "# Importando o dataset\n",
    "salarios_df = pd.read_csv('base-de-dados/ds_salaries.csv', index_col=0) "
   ]
  },
  {
   "cell_type": "markdown",
   "metadata": {
    "heading_collapsed": true
   },
   "source": [
    "# 🔺 Medidas de dispersão"
   ]
  },
  {
   "cell_type": "markdown",
   "metadata": {
    "hidden": true
   },
   "source": [
    "<br>\n",
    "As medidas de dispersão são métodos estatísticos usados para determinar o grau de variança dos valores de um conjunto de dados. A utilização desses métodos tornam a análise de uma amostra mais confiável, visto que as medidas de tendência central muitas vezes escondem a homogeneidade dos dados.<br><br>"
   ]
  },
  {
   "cell_type": "markdown",
   "metadata": {
    "heading_collapsed": true,
    "hidden": true
   },
   "source": [
    "## 🔹 Amplitude"
   ]
  },
  {
   "cell_type": "markdown",
   "metadata": {
    "hidden": true
   },
   "source": [
    "Essa medida é calculada subtraindo o menor valor do maior valor de um conjunto de dados. Por ser uma medida que não leva em consideração como os dados estão efetivamente distribuídos, não é muito utilizada."
   ]
  },
  {
   "cell_type": "markdown",
   "metadata": {
    "hidden": true
   },
   "source": [
    "Vamos calcular a amplitude da coluna **salary_in_usd**."
   ]
  },
  {
   "cell_type": "code",
   "execution_count": 83,
   "metadata": {
    "ExecuteTime": {
     "end_time": "2022-10-29T23:48:18.875637Z",
     "start_time": "2022-10-29T23:48:18.870535Z"
    },
    "hidden": true
   },
   "outputs": [
    {
     "name": "stdout",
     "output_type": "stream",
     "text": [
      "A amplitude da coluna é 597141, a medida é em dólares.\n"
     ]
    }
   ],
   "source": [
    "# importando a biblioteca pandas\n",
    "import pandas as pd \n",
    "\n",
    "# calculando a amplitude da coluna salary_in_usd\n",
    "amplitude = salarios_df['salary_in_usd'].max()-salarios_df['salary_in_usd'].min()\n",
    "\n",
    "print(f'A amplitude da coluna é {amplitude}, a medida é em dólares.')"
   ]
  },
  {
   "cell_type": "markdown",
   "metadata": {
    "heading_collapsed": true,
    "hidden": true
   },
   "source": [
    "## 🔹 Variança"
   ]
  },
  {
   "cell_type": "markdown",
   "metadata": {
    "hidden": true
   },
   "source": [
    "A variância é uma medida de dispersão dos dados, mede o quão afastados os dados estão da média. Quanto maior a variância, mais afastados os dados encontram-se da média. A fórmula que usamos para calcular a variança depende de os dados estarem sendo considerados como a população ou se está apenas representando uma amostra de uma população.<br>\n",
    "\n",
    "\n",
    "### Formula para calcular a variança populacional:\n",
    "Se formos calcular a variança de uma população, dividimos pelo número de dados, **N**.\n",
    "\n",
    "![s](http://4.bp.blogspot.com/-qe1uJVtxeP8/ToK4OCpQBYI/AAAAAAAAABI/k99zMGW49nE/s1600/007.png)\n",
    "\n",
    "<br><br>\n",
    "\n",
    "### Formula para calcular a variança amostral:\n",
    "Se formos calcular a variança de uma amostra, dividimos pelo número de dados da amostra menos um, **N-1**.\n",
    "\n",
    "![x](https://35jqd11ssl2r3np6aoixp3md-wpengine.netdna-ssl.com/wp-content/uploads/2018/02/calculo-variancia.png)\n",
    "\n",
    "<br><br>\n",
    "\n",
    "\n",
    "Onde,\n",
    "\n",
    "σ² ou _s_²: variância<br>\n",
    "∑: somatorio<br>\n",
    "xi ou x: valor analisado<br>\n",
    "x barra: média aritmética do conjunto<br>\n",
    "n: número de dados do conjunto<br><br>\n",
    "\n",
    "Passos para encontrar a variança:\n",
    "\n",
    "- Primeiramente, devemos calcular a média aritmética do conjunto;\n",
    "- Em seguida, subtraímos de cada valor do conjunto a média calculada e elevamos o resultado ao quadrado;\n",
    "- Por fim, somamos todos os valores e dividimos pelo quantidade de dados do conjunto (se você tiver calculando a variança de uma amostra deverá dividir por n-1, quantidade de dados do conjunto menos 1);\n",
    "\n",
    "<br>"
   ]
  },
  {
   "cell_type": "markdown",
   "metadata": {
    "hidden": true
   },
   "source": [
    "Vamos calcular a variança da coluna **salary_in_usd**. Mas poderia ser qualquer coluna, claro, que seja composta por dados quantitativos."
   ]
  },
  {
   "cell_type": "code",
   "execution_count": 184,
   "metadata": {
    "ExecuteTime": {
     "end_time": "2022-10-17T23:52:21.943011Z",
     "start_time": "2022-10-17T23:52:21.935748Z"
    },
    "hidden": true
   },
   "outputs": [
    {
     "name": "stdout",
     "output_type": "stream",
     "text": [
      "A variança é 5026637881.194\n"
     ]
    }
   ],
   "source": [
    "# importando a biblioteca pandas\n",
    "import pandas as pd\n",
    "\n",
    "# calculando a variança populacional\n",
    "var = salarios_df['salary_in_usd'].var(ddof=0) \n",
    "\n",
    "# por padrão o ddof é igual a 1, ou seja, por padrão ele calcula a variança amostral\n",
    "# para calcular a variança populacional basta passar ao parâmetro ddof o valor 0\n",
    "\n",
    "print(f'A variança é {var:.3f}')"
   ]
  },
  {
   "cell_type": "markdown",
   "metadata": {
    "heading_collapsed": true,
    "hidden": true
   },
   "source": [
    "## 🔹 Desvio padrão "
   ]
  },
  {
   "cell_type": "markdown",
   "metadata": {
    "hidden": true
   },
   "source": [
    "O desvio padrão é uma medida que expressa o grau de dispersão de um conjunto de dados. Ou seja, o desvio padrão indica o quanto um conjunto de dados é uniforme. Quanto mais próximo de 0 for o desvio padrão, mais homogêneo são os dados. No entanto vale ressaltar que a ordem de grandeza dos dados deve influenciar sua análise, por exemplo, um desvio padrão igual a 10 pode ser insignificante, se a observação típica for 10.000, mas, será grande se o conjunto de dados tem como observação típica 100.<br>\n",
    "\n",
    "A vantagem de usar o desvio padrão ao invés da variância é que o desvio padrão é expresso na mesma unidade dos dados, o que facilita a comparação.\n",
    "\n",
    "Para calcular o desvio padrão é necessário antes calcular a variança dos dados, tendo a variança em mãos basta tirar a raiz quadrada dela e você terá o desvio padrão."
   ]
  },
  {
   "cell_type": "markdown",
   "metadata": {
    "hidden": true
   },
   "source": [
    "Vamos calcular o desvio padrão da coluna **salary_in_usd**. Mas poderia ser qualquer coluna, claro, que seja composta por dados quantitativos."
   ]
  },
  {
   "cell_type": "code",
   "execution_count": 11,
   "metadata": {
    "ExecuteTime": {
     "end_time": "2022-10-22T12:50:15.784704Z",
     "start_time": "2022-10-22T12:50:15.775657Z"
    },
    "hidden": true
   },
   "outputs": [
    {
     "name": "stdout",
     "output_type": "stream",
     "text": [
      "O desvio padrão é 70898.786\n"
     ]
    }
   ],
   "source": [
    "# importando a biblioteca pandas\n",
    "import pandas as pd\n",
    "\n",
    "# calculando o desvio padrão\n",
    "desvio_padrao = salarios_df['salary_in_usd'].std(ddof=0)\n",
    "\n",
    "# por padrão o ddof é igual a 1, ou seja, por padrão o método calcula o desvio padrão amostral\n",
    "# para calcular desvio padrão populacional basta passar ao parâmetro ddof o valor 0\n",
    "\n",
    "print(f'O desvio padrão é {desvio_padrao:.3f}')"
   ]
  },
  {
   "cell_type": "markdown",
   "metadata": {
    "heading_collapsed": true,
    "hidden": true
   },
   "source": [
    "## 🔹 Coeficiente de variação"
   ]
  },
  {
   "cell_type": "markdown",
   "metadata": {
    "hidden": true
   },
   "source": [
    "O coeficiente de variação é utilizado quando precisamos comparar variáveis que possuem médias diferentes e saber qual tem valores mais homogêneo.<br>\n",
    "\n",
    "O desvio padrão não serveria para isso? Não.<br>\n",
    "\n",
    "Como o desvio padrão representa o quanto os dados estão dispersos em relação a média de uma variável, ao tentar comparar variáveis com médias diferentes, a sua utilização pode gerar erros de interpretação. Dessa forma ao comparar dois conjuntos de dados, o mais homogêneo será aquele que tiver o menor coeficiente de variação. Para encontrar o coeficiente de variação, devemos dividir o desvio padrão pela média e multiplicar o resultado por 100. Essa medida é expressa em porcentagem. "
   ]
  },
  {
   "cell_type": "markdown",
   "metadata": {
    "hidden": true
   },
   "source": [
    "Vamos calcular o coeficiente de variação da coluna **salary_in_usd**."
   ]
  },
  {
   "cell_type": "code",
   "execution_count": 84,
   "metadata": {
    "ExecuteTime": {
     "end_time": "2022-10-30T00:04:03.292668Z",
     "start_time": "2022-10-30T00:04:03.287980Z"
    },
    "hidden": true
   },
   "outputs": [
    {
     "name": "stdout",
     "output_type": "stream",
     "text": [
      "O coeficiente de varianção é 63.13 %\n"
     ]
    }
   ],
   "source": [
    "# importando a biblioteca pandas\n",
    "import pandas as pd\n",
    "\n",
    "# calculando o cv\n",
    "cv = salarios_df['salary_in_usd'].std(ddof=0)/salarios_df['salary_in_usd'].mean() * 100\n",
    "\n",
    "# mostrando o cv\n",
    "print(f'O coeficiente de varianção é {cv:.2f} %')"
   ]
  },
  {
   "cell_type": "markdown",
   "metadata": {
    "heading_collapsed": true,
    "hidden": true
   },
   "source": [
    "## 🔹 Intervalo interquartil "
   ]
  },
  {
   "cell_type": "markdown",
   "metadata": {
    "hidden": true
   },
   "source": [
    "O **intervalo interquartil** ou **IQR** como é comumente conhecido é uma maneira de calcular a dispersão de um conjunto de dados. Parecido com a amplitude, o IQR é mais eficiente, no entanto, é mais complexo de calcular.<br>\n",
    "\n",
    "Enquanto para calcular a amplitude de um conjunto de dados basta subtrair o valor minimo desse conjunto do valor máximo, para calcular o IQR é necessário separar esse conjunto em quartis e subtrair do 3° quartil o 1° quartil.<br> \n",
    "\n",
    "Mas o que são quartis e como separar um conjunto em quartis? É o que veremos agora.\n",
    "\n",
    "#### O que são quartis?\n",
    "Os quartis são 3 valores, conhecidos como q1, q2 e q3, que dividem os dados de uma amostra ou população em quatro partes iguais. Com eles podemos analisar de forma mais técnica a dispersão dos dados.<br>\n",
    "\n",
    "#### Como calcular os quartis?\n",
    "Para calcular os quartis de um conjunto é bem simples, veja as 4 etapas:\n",
    "\n",
    "- **1° etapa:** Calcular a mediana, conhecida como q2, do conjunto de dados. \n",
    "- **2° etapa:** Com base na mediana separe o conjunto em dois subconjuntos, o 1° subconjunto contém todos os valos abaixo da mediana, enquanto o 2° subconjunto contém todos os valores acima da mediana.\n",
    "- **3° etapa:** encontre o primeiro quartil (Q1), a mediana do 1° subconjunto.\n",
    "- **4° etapa:** encontre o segundo quartil (Q2), a mediana do 2° subconjunto.\n",
    "\n",
    "Pronto, agora você conseguiu dividir o seu conjunto em quartis.\n",
    "<br>\n",
    "\n",
    "#### Calculando o IQR\n",
    "Como disse no começo da explicação, para calcular o IQR do conjunto de dados basta subtrair o q1 do q3 e pronto.\n"
   ]
  },
  {
   "cell_type": "markdown",
   "metadata": {
    "hidden": true
   },
   "source": [
    "<br>\n",
    "O pandas nos oferece métodos para que não seja necessário fazer todos esses cálculos, mas é importante nós sabermos como funciona, pois assim conseguismos trabalhar melhor com os quartis e o IQR. Vamos cálcular os quartils e o intervalo interquartil da coluna **salary_in_usd**."
   ]
  },
  {
   "cell_type": "code",
   "execution_count": 282,
   "metadata": {
    "ExecuteTime": {
     "end_time": "2022-10-18T01:42:36.438179Z",
     "start_time": "2022-10-18T01:42:36.427138Z"
    },
    "hidden": true
   },
   "outputs": [
    {
     "name": "stdout",
     "output_type": "stream",
     "text": [
      "Q1: 62726.0\n",
      "Q2: 101570.0\n",
      "Q3: 150000.0\n",
      "\n",
      "IQR: 87274.0\n"
     ]
    }
   ],
   "source": [
    "# importando a biblioteca pandas\n",
    "import pandas as pd\n",
    "\n",
    "# calculando os quartils\n",
    "Q1, Q2, Q3 = [ salarios_df['salary_in_usd'].quantile(0.25*x, interpolation='linear') for x in range(1, 4) ]\n",
    "print(f'Q1: {Q1}')\n",
    "print(f'Q2: {Q2}')\n",
    "print(f'Q3: {Q3}')\n",
    "\n",
    "# calculando o IQR (Interquartile Range)\n",
    "IQR = Q3-Q1\n",
    "print(f'\\nIQR: {IQR}')"
   ]
  },
  {
   "cell_type": "markdown",
   "metadata": {
    "heading_collapsed": true,
    "hidden": true
   },
   "source": [
    "## 🔹 Boxplot "
   ]
  },
  {
   "cell_type": "markdown",
   "metadata": {
    "hidden": true
   },
   "source": [
    "<br>\n",
    "Um boxplot é um tipo de gráfico usado para ilustrar um conjunto de dados, o objetivo dele é mostrar de forma simples 5 numeros estatisticos de um conjunto de dados: min, max, 1° quartil, mediana e 3° quartil. Esses numeros estatísticos são muito relevante para fazer análise em relação a dispersão, assimetria, média, outliers (mínimos e máximos) e mediana.\n",
    "\n",
    "**Veja a estrutura de um boxplot:**"
   ]
  },
  {
   "cell_type": "markdown",
   "metadata": {
    "hidden": true
   },
   "source": [
    "<img src='https://caelum-online-public.s3.amazonaws.com/1177-estatistica-parte1/01/img005.png' width='65%'>"
   ]
  },
  {
   "cell_type": "markdown",
   "metadata": {
    "hidden": true
   },
   "source": [
    " "
   ]
  },
  {
   "cell_type": "markdown",
   "metadata": {
    "hidden": true
   },
   "source": [
    "<br>\n",
    "É importante ressaltar que nem sempre todos os valores abaixo de Q2 serão menores que o Q2, o mesmo raciocinio serve para os valores que estão acima do Q2. É possivel que alguns desses valores que estão acima ou abaixo do Q2 possam ser iguais ao Q2. Veja um exemplo:"
   ]
  },
  {
   "cell_type": "markdown",
   "metadata": {
    "hidden": true
   },
   "source": [
    "idades: 11, 12, 12, 13, 13, 13, 13, 14, 14, 15, 16 <br>\n",
    "\n",
    "**Q1** = 12<br>\n",
    "**Q2** = 13<br>\n",
    "**Q3** = 14<br>"
   ]
  },
  {
   "cell_type": "markdown",
   "metadata": {
    "hidden": true
   },
   "source": [
    "Note que existem valores que estão abaixo e acima da mediana que tem o mesmo valor da mediana."
   ]
  },
  {
   "cell_type": "markdown",
   "metadata": {
    "hidden": true
   },
   "source": [
    "---"
   ]
  },
  {
   "cell_type": "markdown",
   "metadata": {
    "hidden": true
   },
   "source": [
    "Vamos utilizar a função .boxplot() da biblioteca gráfica Seaborn. Para visualizar os dados da coluna **salary_in_usd** num gráfico boxplot."
   ]
  },
  {
   "cell_type": "code",
   "execution_count": 286,
   "metadata": {
    "ExecuteTime": {
     "end_time": "2022-10-18T02:01:11.550580Z",
     "start_time": "2022-10-18T02:01:11.435859Z"
    },
    "hidden": true
   },
   "outputs": [
    {
     "data": {
      "text/plain": [
       "<AxesSubplot:>"
      ]
     },
     "execution_count": 286,
     "metadata": {},
     "output_type": "execute_result"
    },
    {
     "data": {
      "image/png": "[encoded data removed]",
      "text/plain": [
       "<Figure size 640x480 with 1 Axes>"
      ]
     },
     "metadata": {},
     "output_type": "display_data"
    }
   ],
   "source": [
    "# importando a biblioteca seaborn\n",
    "import seaborn as sns\n",
    "\n",
    "# criando o gráfico\n",
    "sns.boxplot(salarios_df['salary_in_usd'])"
   ]
  },
  {
   "cell_type": "markdown",
   "metadata": {
    "heading_collapsed": true,
    "hidden": true
   },
   "source": [
    "## 🔹 Outliers"
   ]
  },
  {
   "cell_type": "markdown",
   "metadata": {
    "hidden": true
   },
   "source": [
    "Um outlier é um valor discrepante que possui um grande afastamento da maioria dos valores do conjunto de dados. Pode haver outliers com valores muito baixo ou valores muito alto, o importante é saber que esses valores são discrepante em relação a maioria dos dados.<br>\n",
    "\n",
    "Entender os outliers é fundamental em uma análise de dados pelos seguintes aspectos:\n",
    "\n",
    "- Viesar a sua análise: os outliers podem viesar todo o resultado de uma análise.<br>\n",
    "- Mostrar erros de entrada: por exemplo, a idade de uma pessoa é de 550 anos.<br>  \n",
    "- O comportamento dos outliers pode ser justamente o que está sendo procurado: um aluno que só tira 10, alguem que sempre ganha sorteios, possiveis fraudes.<br><br>\n",
    "\n",
    "### Como encontrar os outliers?\n",
    "Os estatísticos desenvolveram diversas maneiras do que pode e o que não pode ser considerado um outlier. Uma regra bastante utilizada afirma que todo valor é um outlier se ele for menor que **Q1 - 1.5 * IIQ** ou se ele for maior que **Q3 + 1.5 * IIQ**.\n",
    "\n",
    "**Q1**: Primeiro quartil<br>\n",
    "**Q3**: Terceiro quartil<br>\n",
    "**1.5**: Um valor escolhido pelo concenso de estatísticos.<br>\n",
    "**IIQ**: Intervalo interquartil<br><BR>\n",
    "\n",
    "    \n",
    "### Observação\n",
    "Quando formos criar um boxplot e escolhermos mostrar os outliers do dataset, o indicador de minimo e o indicador de máximo do dataset passarão a ser defido pelas 2 formulas que calculam os outliers.<br>\n",
    "\n",
    "**minimo** = Q1 - 1.5 * IIQ<br>\n",
    "**maximo** = Q3 + 1.5 * IIQ<br><br>\n"
   ]
  },
  {
   "cell_type": "markdown",
   "metadata": {
    "heading_collapsed": true,
    "hidden": true
   },
   "source": [
    "## 🔹 Coeficientes de correlação\n"
   ]
  },
  {
   "cell_type": "markdown",
   "metadata": {
    "hidden": true
   },
   "source": [
    "A estatística permite ampliar nosso entendimento sobre os fenômemos observados no dia a dia. E uma de suas maiores contribuições para a cieência foi a sua capacidade de medir a relação entre diferentes variáveis, por meio do coeficiente de correlação.\n",
    "\n",
    "O meu intuito nesse estudo é mostrar quais são os principais coeficientes de, como podemos cálcula-los e quando cada um deles deve ser utilizado."
   ]
  },
  {
   "cell_type": "markdown",
   "metadata": {
    "hidden": true
   },
   "source": [
    "\n",
    "### O que são os coeficientes correlação?\n",
    "Os coeficientes de correlação são métodos estatísticos para **medir as relações** entre variáveis e o que elas representam, por exemplo, eles podem ser usados para mostrar a associação entre a taxa de desemprego e o indice de criminalidade ou a taxa de poluição do ar com indice de problemas respiratórios.\n",
    "\n",
    "A correlação procura entender 2 coisas:\n",
    "\n",
    "**1°**- Como uma variável se comporta em um cenário onde outra está variando.<br>\n",
    "**2°**- Sexiste alguma relação entre a variabilidade de ambas."
   ]
  },
  {
   "cell_type": "markdown",
   "metadata": {
    "hidden": true
   },
   "source": [
    "Ou seja, elas permitem avaliar o que acontece com uma variável **X** enquanto outra variável **Y** aumenta ou diminui. Os coeficientes visam quantificar essa relação, eles variam de **-1 a 1**. E são fundamentais para compreender cenários com muitas variáveis relacionadas."
   ]
  },
  {
   "cell_type": "markdown",
   "metadata": {
    "hidden": true
   },
   "source": [
    "\n",
    "O coeficiente de correlação nos informa 2 coisas:\n",
    "\n",
    "**1° O sentido da correlação**: quando o valor do coeficiente de correlação está entre **0 e 1**, dizemos que há uma relação positiva, ou seja conforme uma variável aumenta a outra aumenta também. Já quando um valor do coeficiente de correlação estiver entre **-1 e 0**, dizemos que há um relação negativa ou inversa, nesse caso quando o valor de uma variável aumenta a outra diminui.\n",
    "\n",
    "**2° A intensidade da correlação**: quanto mais próximo de **1 ou -1** for o valor do coeficiente de correlação, dizemos que há uma relação forte entre as variáveis. Já quanto mais próximo de **0** for o coeficiente de correlação, dizemos que não há uma relação significativa entre as variáveis ou simplesmente não há nenhuma relação, mas atenção é possivel que exista uma correlação não linear. "
   ]
  },
  {
   "cell_type": "markdown",
   "metadata": {
    "hidden": true
   },
   "source": [
    "Uma vez que é muito dificil lidarmos com correlações perfeitas, você encontrará dirversos valores de refências, para auxiliar na interpretação do coeficiente de correlação. Essas categorias podem variar de acordo com o referencial adotado ou o campo de estudo, mas veja abaixo uma referencia de valores bastante utilizados.\n",
    "\n",
    "**Correlação muito fraca**: entre ( 0 e 0.2 ) ou ( 0 e -0.2 ) <br>\n",
    "**Fraca**: entre ( 0.2 e 0.4 ) ou ( -0.2 e -0.4 )<br>\n",
    "**Moderada**: entre ( 0.4 e 0.6 ) ou ( -0.4 e -0.6 ) <br>\n",
    "**Forte**: entre ( 0.6 e 0.8 ) ou ( -0.6 e -0.8 )<br>\n",
    "**Muito forte**: entre ( 0.8 e 1 ) ou ( -0.8 e -1 )<br> \n",
    "\n",
    "A correlação não possui unidade de medida. Ou seja, se você mudar a unidade de medida das variáveis, a correlação não muda. Por exemplo, alterar a unidade de medida de Fahrenheit para Celsius não afetará a correlação da temperatura com outras variáveis."
   ]
  },
  {
   "cell_type": "markdown",
   "metadata": {
    "hidden": true
   },
   "source": [
    "\n",
    "### Os 3 coeficientes de correlação mais usados\n",
    "Neste estudo iremos falar dos coeficientes de pearson, de spearman e o de kandall. Dependendo do tipo das variáveis e da forma como elas se comportam, um coeficiente de correlação poderá ser mais adequado do que os outros."
   ]
  },
  {
   "cell_type": "markdown",
   "metadata": {
    "hidden": true
   },
   "source": [
    "\n",
    "### Coeficiente de correlação de Pearson\n",
    "O coeficiente de correlação de Pearson, também chamado de **Correlação linear** ou **R de Pearson** é uma medida de associação linear entre duas variáveis quantitativas. Desenvolvido por Karl Pearson e Francis Galton, esse coeficiente mensura a direção e o grau de uma relação entre as variáveis.\n",
    "\n",
    "O **R de Pearson** exige que as duas variáveis possuam uma distribuição normal dos dados. Pois esse coeficiente é muito sensivel a valores extremos, os famosos **outliers**. Esse valores são capazes de mudar consideravelmente o coeficiente. Por isso, indentifique esses valores e trate eles para que possam entrar no cálculo ou simplismente os exclua. Ou melhor use o proximo coeficiente do qual falaremos.\n",
    "\n",
    "A formula para cálcular o coeficiente de Pearson segue abaixo.<br>\n",
    "\n",
    "<img src='https://static.significados.com.br/foto/equacao-correlacao-etapa-6.png' width='500'>"
   ]
  },
  {
   "cell_type": "markdown",
   "metadata": {
    "hidden": true
   },
   "source": [
    "**r**: coeficiente de correlação de Pearson.<br>\n",
    "**n**: numeros de pares (x, y) que temos.<br>\n",
    "**∑xy**: multiplicamos cada **x** por seu respectivo **y** e somamos os resultados. <br>\n",
    "**∑x**: somatório de todos os valores de **x**.<br>\n",
    "**∑y**: somatório de todos os valores de **y**.<br>\n",
    "**∑x²**: elevamos todos os valores de **x** ao quadrado e somamos todos os resultados. <br>\n",
    "**∑y²**: elevamos todos os valores de **y** ao quadrado e somamos todos os resultados. <br>"
   ]
  },
  {
   "cell_type": "markdown",
   "metadata": {
    "hidden": true
   },
   "source": [
    " "
   ]
  },
  {
   "cell_type": "markdown",
   "metadata": {
    "ExecuteTime": {
     "end_time": "2022-10-24T20:33:45.861456Z",
     "start_time": "2022-10-24T20:33:45.854713Z"
    },
    "hidden": true
   },
   "source": [
    "No entanto, não precisamos fazer todo esse cáculo, pois o pandas nos oferece o método **corr()** que faz isso por nós. Vale lembrar que estudar a formula fará com que nós posssamos entender melhor o coeficiente, então estude."
   ]
  },
  {
   "cell_type": "markdown",
   "metadata": {
    "hidden": true
   },
   "source": [
    " "
   ]
  },
  {
   "cell_type": "markdown",
   "metadata": {
    "hidden": true
   },
   "source": [
    "\n",
    "### Coeficiente de correlação de Spearman\n",
    "Denominado pela letra grega **ρ** (RHÔ), o coeficiente de Spearman é uma medida de correlação não paramétrica. Ele não requer que as variáveis tenham distribuição normal e pode inclusive verificar a relação entre variáveis qualitativas ordinais."
   ]
  },
  {
   "cell_type": "markdown",
   "metadata": {
    "hidden": true
   },
   "source": [
    "Então, o coeficiente de correlação de Spearman serve para casos em que você tem queira fazer uma correlação entre:\n",
    "\n",
    "- **Variável quantitativa** (com distribuição normal) e **Variável quantitativa** (sem distribuição normal)\n",
    "- **Variável quantitativa** (sem distribuição normal) e **Variável quantitativa** (sem distribuição normal)\n",
    "- **Variável quantitativa** (não importa a distribuição dos dados) e **Variável qualitativa ordinal**\n",
    "- **Variável qualitativa ordinal** e **Variável qualitativa ordinal**"
   ]
  },
  {
   "cell_type": "markdown",
   "metadata": {
    "hidden": true
   },
   "source": [
    "A formula para cálcular o coeficiente de Spearman segue abaixo.<br>"
   ]
  },
  {
   "cell_type": "markdown",
   "metadata": {
    "hidden": true
   },
   "source": [
    "<img src='https://www.questionpro.com/blog/wp-content/uploads/2019/05/3.png' width='400' style='float:left'>"
   ]
  },
  {
   "cell_type": "markdown",
   "metadata": {
    "hidden": true
   },
   "source": [
    "**r**: coeficiente de correlação de Spearman.<br>\n",
    "**n**: numeros de pares (x, y) que temos.<br>\n",
    "**∑d²**: é a diferença entre os dois postos de cada observação elevado ao quadrado e depois feito o somatório dos resultados."
   ]
  },
  {
   "cell_type": "markdown",
   "metadata": {
    "hidden": true
   },
   "source": [
    " "
   ]
  },
  {
   "cell_type": "markdown",
   "metadata": {
    "hidden": true
   },
   "source": [
    "\n",
    "### Coeficiente de correlação de Kendall\n",
    "\n",
    "Espressa pela letra grega **τ** (TAU), o coeficiente de correlação de Spearman é uma medida de associação para variáveis qualitativas ordinais que possuem uma amostra pequena ou muitos dados que se repetem. Uma vantagem desse coeficiente, é a possibilidade de ser generalizado para um coeficiente de correlação parcial."
   ]
  },
  {
   "cell_type": "markdown",
   "metadata": {
    "hidden": true
   },
   "source": [
    " "
   ]
  },
  {
   "cell_type": "markdown",
   "metadata": {
    "hidden": true
   },
   "source": [
    "\n",
    "### Coeficiente de correlação + Gráfico de dispersão\n",
    "Como vimos, os coeficientes de correlação são métodos muito úteis para enteder melhor a relação entre variáveis. No entanto, há situações em que o coeficiente de correlação meio que esconde algumas informações. Por exemplo, após cálcular o coeficiente de correlação entre 2 variáveis obtemos o valor 0.32, e nesse momento acreditamos que essas variáveis não tem uma correlação significativa, porém ao usarmos o gráfico de dispersão para analisar os dados de forma estratificada percebemos que existe um grupo com caracteristicas em comum que tem uma forte correlação entre as variáveis.\n",
    "\n",
    "Ou seja, as vezes podem existir situações que o coeficiente de correlação pode nos levar ao erro. Por isso usar o coeficiente de correlação e o gráfico de dispersão em conjunto nos possibilita um melhor entendimento dos dados."
   ]
  },
  {
   "cell_type": "markdown",
   "metadata": {
    "hidden": true
   },
   "source": [
    " "
   ]
  },
  {
   "cell_type": "markdown",
   "metadata": {
    "heading_collapsed": true,
    "hidden": true
   },
   "source": [
    "## 🔹 Gráficos de dispersão"
   ]
  },
  {
   "cell_type": "markdown",
   "metadata": {
    "hidden": true
   },
   "source": [
    "O **gráfico de dispersão** é uma ferramenta gráfica que permite visualizarmos com clareza a correlação entre duas variáveis. Muito utilizado como uma ferramenta de qualidade o diagrama aponta tendências e padrões.\n",
    "\n",
    "Frequentemente é desejável determinar se existe uma relação ou associação entre duas variáveis. Por exemplo, uma vez que um **diagrama de causa e efeito** tenha sido desenvolvido para identificar causas potenciais que tenham impacto na qualidade de um produto ou processo, a relação entre as causas e a qualidade desse produto ou processo devem ser estudadas. Os resultados desses estudos devem ajudar a determinar quais as melhores atitudes a serem tomadas. Uma ferramenta poderosa para estudar tais relações é o gráfico de dispersão.\n",
    "\n",
    "O gráfico de dispersão além de mostrar a correlação entre variáveis, também destaca pontos fora da curva, ou seja, aqueles que estão longe da tendência do gráfico, e que podem ser objeto de investigação para compreender melhor os dados.\n",
    "<br>"
   ]
  },
  {
   "cell_type": "markdown",
   "metadata": {
    "hidden": true
   },
   "source": [
    "\n",
    "### Como analisar um gráfico de dispersão?\n",
    "\n",
    "Cada ponto do gráfico de dispersão está associado a uma coordenada (x, y). Em geral nos gráficos, as variáveis independentes são representadas no eixo orizontal (x) e as dependente no eixo vertical (y).\n",
    "\n",
    "<img src='https://wikiciencias.casadasciencias.org/wiki/images/4/47/Img_Diagrama_ou_gr%C3%A1fico_de_dispers%C3%A3o_Grafico_2.png' width='30%' style=\"float:left\">\n",
    "<br><br><br><br><br><br><br><br><br><br><br><br><br>\n",
    "\n",
    "Quando vemos um gráfico de dispersão que mostra uma correlação razoável, boa ou má entre as variáveis, e tentamos inferir algo com base no que o gráfico mostra, estamos cometendo um erro potencialmente perigoso pois a correlação não implica necessariamente em causalidade. Essa relação pode ser causada por algo bastante diferente. Por isso quando construimos um gráfico de tendências, procuramos identificar relações potenciais, que deverão ser comprovadas em experimentos posteriores.\n",
    "<br>"
   ]
  },
  {
   "cell_type": "markdown",
   "metadata": {
    "hidden": true
   },
   "source": [
    "\n",
    "### Quais as possiveis correlações a serem identificadas em um gráfico de dispersão?\n",
    "\n",
    "**Sem correlação**: quando vemos apenas uma nuvem de pontos no gráfico, podemos dizer num primeiro momento que não há uma correlação direta entre a variável **x** e **y**. Só teremos certeza que não há correlação entre as variáveis após testes.\n",
    "\n",
    "<img src='https://site.moki.com.br/wp-content/uploads/2022/02/diagrama-de-dispersao-correlacao-nula-e1645458197814.png' style=\"float:left\">\n",
    "<br><br><br><br><br><br><br><br><br><br>\n",
    "\n",
    "**Correlação positiva forte**: há uma clara tendência nos dados. Quando a variável **x** aumenta é esperado conjuntamente um aumento na variável **y**. A pouca dispersão dos dados indica que essa tendência é forte. Mas como dito antes, só poderemos ter certeza de uma relação causa e efeito após testes.\n",
    "\n",
    "<img src='https://site.moki.com.br/wp-content/uploads/2022/02/diagrama-de-dispersao-correlacao-forte-e1645458405374.png' style=\"float:left\">\n",
    "<br><br><br><br><br><br><br><br><br><br>\n",
    "\n",
    "**Correlação positiva fraca**: quando a variável **x** sobe a variável **y** tende a subir também. No entanto a dispersão maior dos dados indica que mais variáveis podem estar envolvidas. Adicionar outras variáveis, como variáveis de estratificação ou testar novas variáveis podem ser boas estratéfias para entender melhor a correlação entre os dados.\n",
    "\n",
    "<img src='https://site.moki.com.br/wp-content/uploads/2022/02/diagrama-de-dispersao-correlacao-fraca-e1645458334895.png' style=\"float:left\">\n",
    "<br><br><br><br><br><br><br><br><br><br>\n",
    "\n",
    "**Correlação negativa forte**: análogo a correlação positiva forte, só que quando **x** aumenta, **y** diminui.\n",
    "\n",
    "<img src='https://site.moki.com.br/wp-content/uploads/2022/02/diagrama-de-dispersao-correlacao-negativa-e1645457874717.png' style=\"float:left\">\n",
    "<br><br><br><br><br><br><br><br><br><br>\n",
    "\n",
    "**Correlação negativa fraca**: análogo a correlação positiva média, porém quando **x** aumenta, **y** diminui.\n",
    "\n",
    "<img src='https://blog.proffernandamaciel.com.br/wp-content/uploads/2022/03/Negativa-fraca-300x195.png' style=\"float:left\">\n",
    "<br><br><br><br><br><br><br><br><br><br><br><br>"
   ]
  },
  {
   "cell_type": "markdown",
   "metadata": {
    "hidden": true
   },
   "source": [
    "\n",
    "### Estratificação do gráfico de dispersão\n",
    "Ao se preparar um gráfico de dispersão deve-se considerar o uso de estratificação dos dados por alguma caracteristica comum. Fazer essa processo de estratificação nos possibilita entender melhor os nossos dados.\n",
    "<br><br>"
   ]
  },
  {
   "cell_type": "markdown",
   "metadata": {
    "hidden": true
   },
   "source": [
    "\n",
    "### Resumo sobre o gráfico de dispersão\n",
    "**Primeiro**, o gráfico de dispersão é usado para examinar a relação entre duas variáveis quantitativas.\n",
    "\n",
    "**Segundo**, o gráfico de dispersão nos permite enxergar padrões fora do comum, dados afetados por causas especiais e agrupamentos interessante de ponto de dados.\n",
    "\n",
    "**Terceiro**, se existir uma associação entre duas variáveis, a variável independente e a variável dependente, isso não significa que existe necessariamente uma relação de causa e efeito. A correlação apenas nos diz a força e a direção do relacionamento entre vairáveis, mas nada esclarece os motivos desse relacionamento. Por outro lado se não existir nenhuma correlação entre as variáveis, isso não significa que elas não estejam relacionadas.\n",
    "\n",
    "**Por fim**, a estratificação pode ser usada para aprimorar um gráfico de dispersão. Algumas vezes a relação entre variáveis não é evidente quando todos os dados são considerados, mas quando os dados são estratificados e plotados, a relação se torna mais clara."
   ]
  },
  {
   "cell_type": "markdown",
   "metadata": {
    "heading_collapsed": true
   },
   "source": [
    "# 🔺 Distribuição normal"
   ]
  },
  {
   "cell_type": "markdown",
   "metadata": {
    "heading_collapsed": true,
    "hidden": true
   },
   "source": [
    "## 🔹 Introdução"
   ]
  },
  {
   "cell_type": "markdown",
   "metadata": {
    "hidden": true
   },
   "source": [
    "Parte de uma boa análise exploratória de dados é saber o tipo de distribuição que uma variável possui. Para então poder então escolher os métodos mais adequados para analisarmos nossa variável. Por exemplo:<br><br>\n",
    "\n",
    "> Se nossa variável possui uma distribuição normal, devemos analisa-la através dos testes paramétricos:\n",
    "> - **Teste T**\n",
    "> - **Tukey**\n",
    "> - **ANOVA**\n",
    "> - **Teste de correlação de Pearson**\n",
    "> - **etc** \n",
    "\n",
    "\n",
    ">Já se nossa variável não possuir uma distribuição normal, devemos analisa-la através dos testes não paramétricos:\n",
    "> - **Teste de correlação de Spearman**\n",
    "> - **Teste de correlação de Kendall**\n",
    "> - **Wilcoxon ou Mann-Whitney**\n",
    "> - **Kruskal Wallis**\n",
    "> - **etc**\n",
    "\n",
    "<br>"
   ]
  },
  {
   "cell_type": "markdown",
   "metadata": {
    "heading_collapsed": true,
    "hidden": true
   },
   "source": [
    "## 🔹 O que é uma distribuição normal?"
   ]
  },
  {
   "cell_type": "markdown",
   "metadata": {
    "hidden": true
   },
   "source": [
    "Uma distribuição é considerada **normal** porque a maioria dos valores estão proximo á média da variável e poucos valores muito baixos e poucos valores muitos altos como mostra a imagem abaixo."
   ]
  },
  {
   "cell_type": "markdown",
   "metadata": {
    "hidden": true
   },
   "source": [
    "<img src='https://aprenderdatascience.com/wp-content/uploads/2020/08/imag2.png' style='float:left' width=600>"
   ]
  },
  {
   "cell_type": "markdown",
   "metadata": {
    "hidden": true
   },
   "source": [
    " "
   ]
  },
  {
   "cell_type": "markdown",
   "metadata": {
    "hidden": true
   },
   "source": [
    "Quanto maior for a quantidade de dados, maior a tendência de termos uma distribuição normal. No mundo temos muitos fenômenos aleatórios que tem um comportamento de uma distribuição normal, como por exemplo, a altura ou o peso das pessoas de um país. Algumas características dessa distribuição:\n",
    "\n",
    "- Formato de sino;\n",
    "- Simétrica ou próxima a um formato simétrico;\n",
    "- Unimodal;\n",
    "- Apresenta valores iguais ou próximos para a Média e a Mediana;\n",
    "- Os valores da distribuição tendem a zero ao se afastarem da Média.\n",
    "\n",
    "\n",
    "Além disso uma distribuição ser normal significa que podemos calcular a quantidade de dados dentro de um intervalo criado com base no **desvio padrão** e a **média**. A imagem abaixo mostra que se pegarmos a média da nossa variável e subtrairmos ou somarmos **n** vezes o desvio padrão, nós iremos obter em porcentagem a quantidade de dados que se encontra dentro desse intervalo. Note que o intervalo formado pela **μ-σ** e **μ+σ** contém 68% dos dados de uma distribuição normal."
   ]
  },
  {
   "cell_type": "markdown",
   "metadata": {
    "hidden": true
   },
   "source": [
    " "
   ]
  },
  {
   "cell_type": "markdown",
   "metadata": {
    "hidden": true
   },
   "source": [
    "<img src='https://www.inf.ufsc.br/~andre.zibetti/probabilidade/figures/normal.PNG' style='float:left' width='590'>"
   ]
  },
  {
   "cell_type": "markdown",
   "metadata": {
    "hidden": true
   },
   "source": [
    " "
   ]
  },
  {
   "cell_type": "markdown",
   "metadata": {
    "heading_collapsed": true,
    "hidden": true
   },
   "source": [
    "## 🔹 Como saber se uma variável tem distribuição normal?"
   ]
  },
  {
   "cell_type": "markdown",
   "metadata": {
    "hidden": true
   },
   "source": [
    "Declarar se uma váriável possui uma distribuição normal não é tão simples, por isso devemos utilizar vários métodos que nos levaram a essa conclusão. Os métodos que vamos ver nesse tutorial são  Histograma, Boxplot, Quantil-Quantil Plot, testes de Shapiro-Wilk, Kolmogorov Smirnov(Lilliefors) e Anderson-Darling."
   ]
  },
  {
   "cell_type": "markdown",
   "metadata": {
    "heading_collapsed": true,
    "hidden": true
   },
   "source": [
    "### 🔶 Importando as libs e o dataset"
   ]
  },
  {
   "cell_type": "code",
   "execution_count": 12,
   "metadata": {
    "ExecuteTime": {
     "end_time": "2022-12-07T22:33:21.552769Z",
     "start_time": "2022-12-07T22:33:21.497739Z"
    },
    "hidden": true
   },
   "outputs": [],
   "source": [
    "import pandas as pd\n",
    "import numpy as np\n",
    "import matplotlib.pyplot as plt\n",
    "import seaborn as sns\n",
    "import scipy.stats as stats\n",
    "from statsmodels.stats.diagnostic import lilliefors as lillie\n",
    "sns.set()"
   ]
  },
  {
   "cell_type": "code",
   "execution_count": 83,
   "metadata": {
    "ExecuteTime": {
     "end_time": "2022-12-08T00:05:02.410875Z",
     "start_time": "2022-12-08T00:05:02.356423Z"
    },
    "hidden": true
   },
   "outputs": [],
   "source": [
    "df = pd.read_csv('base-de-dados/dados.csv')"
   ]
  },
  {
   "cell_type": "markdown",
   "metadata": {
    "heading_collapsed": true,
    "hidden": true
   },
   "source": [
    "### 🔶 Histograma"
   ]
  },
  {
   "cell_type": "markdown",
   "metadata": {
    "hidden": true
   },
   "source": [
    "Com base no que aprendemos sobre o histograma iremos analisar a variável **Altura** com o intuito de descobrir se as caracteristicas de uma distribuição normal se aplicam a essa variável."
   ]
  },
  {
   "cell_type": "code",
   "execution_count": 14,
   "metadata": {
    "ExecuteTime": {
     "end_time": "2022-12-07T22:33:28.679592Z",
     "start_time": "2022-12-07T22:33:28.127863Z"
    },
    "hidden": true
   },
   "outputs": [
    {
     "data": {
      "text/plain": [
       "Text(0, 0.5, 'Quantidade')"
      ]
     },
     "execution_count": 14,
     "metadata": {},
     "output_type": "execute_result"
    },
    {
     "data": {
      "image/png": "[encoded data removed]",
      "text/plain": [
       "<Figure size 1500x500 with 1 Axes>"
      ]
     },
     "metadata": {},
     "output_type": "display_data"
    }
   ],
   "source": [
    "plt.figure(figsize=(15, 5))\n",
    "sns.histplot(data=df, x='Altura', kde=True, color='purple')\n",
    "plt.ylabel('Quantidade')"
   ]
  },
  {
   "cell_type": "markdown",
   "metadata": {
    "hidden": true
   },
   "source": [
    "Agora vamos descobrir se a média, moda e median são iguais ou bem próximas."
   ]
  },
  {
   "cell_type": "code",
   "execution_count": 14,
   "metadata": {
    "ExecuteTime": {
     "end_time": "2022-11-14T22:21:59.023709Z",
     "start_time": "2022-11-14T22:21:59.003870Z"
    },
    "hidden": true
   },
   "outputs": [
    {
     "name": "stdout",
     "output_type": "stream",
     "text": [
      "1.7066552394444445\n",
      "1.6993247325\n",
      "1.6995124540575741\n"
     ]
    }
   ],
   "source": [
    "print(df['Altura'].mode().mean())\n",
    "print(df['Altura'].median())\n",
    "print(df['Altura'].mean())"
   ]
  },
  {
   "cell_type": "markdown",
   "metadata": {
    "hidden": true
   },
   "source": [
    " "
   ]
  },
  {
   "cell_type": "markdown",
   "metadata": {
    "hidden": true
   },
   "source": [
    "**OBS:**\n",
    "\n",
    "- Podemos observar que a distirbuição não é unimodal, no entanto a média das modas é praticamente igual a mediana e a média da variável Altura.\n",
    "- A distribuição pussui um formato de sino, caracteristica essa de uma distribuição normal como vimos.\n",
    "- A distribuição é quase 100% simétrica."
   ]
  },
  {
   "cell_type": "markdown",
   "metadata": {
    "hidden": true
   },
   "source": [
    "Com base no que aprendemos sobre que é uma distribuição normal e quais as suas principais caracteristicas nós podemos dizer que temos uma distribuição normal. No entanto vamos usar os outros métodos para poder ter certeza."
   ]
  },
  {
   "cell_type": "markdown",
   "metadata": {
    "heading_collapsed": true,
    "hidden": true
   },
   "source": [
    "### 🔶 Boxplot"
   ]
  },
  {
   "cell_type": "markdown",
   "metadata": {
    "hidden": true
   },
   "source": [
    "Um boxplot nada mais é que um Histograma visto de cima. No entanto, um boxplot nos dá mais informações sobre a distribuição dos dados."
   ]
  },
  {
   "cell_type": "code",
   "execution_count": 16,
   "metadata": {
    "ExecuteTime": {
     "end_time": "2022-12-07T22:33:47.485812Z",
     "start_time": "2022-12-07T22:33:47.313056Z"
    },
    "hidden": true
   },
   "outputs": [
    {
     "data": {
      "text/plain": [
       "<AxesSubplot: title={'center': 'BOXPLOT DOS VALORES DA ALTURA'}, xlabel='Altura'>"
      ]
     },
     "execution_count": 16,
     "metadata": {},
     "output_type": "execute_result"
    },
    {
     "data": {
      "image/png": "[encoded data removed]",
      "text/plain": [
       "<Figure size 1000x400 with 1 Axes>"
      ]
     },
     "metadata": {},
     "output_type": "display_data"
    }
   ],
   "source": [
    "plt.figure(figsize=(10,4))\n",
    "plt.title('BOXPLOT DOS VALORES DA ALTURA', fontsize=14, fontweight='bold')\n",
    "sns.boxplot(x='Altura', data=df, color='purple')"
   ]
  },
  {
   "cell_type": "markdown",
   "metadata": {
    "hidden": true
   },
   "source": [
    "**OBS:**\n",
    "- Uma distribuição representada por um boxplot tem sua caixa muito proximo ao centro e é o que vemos no nosso boxplot.\n",
    "- Podemos observar também que existe uma simetria quase que perfeita ao comparar o primeiro lado do gráfico (o lado antes da mediana) com o segundo lado do gráfico (o lado após a mediana)."
   ]
  },
  {
   "cell_type": "markdown",
   "metadata": {
    "hidden": true
   },
   "source": [
    "Esse gráfico só fortalece o que já descobrimos através do histograma."
   ]
  },
  {
   "cell_type": "markdown",
   "metadata": {
    "heading_collapsed": true,
    "hidden": true
   },
   "source": [
    "### 🔶 QQ Plot"
   ]
  },
  {
   "cell_type": "markdown",
   "metadata": {
    "hidden": true
   },
   "source": [
    "O QQ-plot é uma ferramenta gráfica que dentre suas funções ele nos auxilia na verificação de uma distribuição normal. É mais eficiente que o BoxPlot e o Histograma. O QQ-Plot faz uma comparação entre quantis teóricos de uma distribuição normal e os quantis da nossa variável. "
   ]
  },
  {
   "cell_type": "code",
   "execution_count": 18,
   "metadata": {
    "ExecuteTime": {
     "end_time": "2022-12-07T22:35:32.085619Z",
     "start_time": "2022-12-07T22:35:31.586501Z"
    },
    "hidden": true
   },
   "outputs": [
    {
     "data": {
      "text/plain": [
       "Text(0.5, 1.0, 'NORMAL QQ PLOT')"
      ]
     },
     "execution_count": 18,
     "metadata": {},
     "output_type": "execute_result"
    },
    {
     "data": {
      "image/png": "[encoded data removed]",
      "text/plain": [
       "<Figure size 1500x500 with 1 Axes>"
      ]
     },
     "metadata": {},
     "output_type": "display_data"
    }
   ],
   "source": [
    "# Criando um qq-plot\n",
    "plt.figure(figsize=(15,5))\n",
    "stats.probplot(df['Altura'], dist='norm', plot=plt)\n",
    "plt.title('NORMAL QQ PLOT', fontsize=14, fontweight='bold')"
   ]
  },
  {
   "cell_type": "markdown",
   "metadata": {
    "hidden": true
   },
   "source": [
    "A reta vermelha representa como os nossos dados deveriam estar distribuidos caso nossa variável possuisse uma distribuição normal. Os pontos em azul demonstram como a nossa variável realmente está distribuida. Ou seja, quanto mais próximo os pontos em azul estiverem da linha vermelha maior será a chance da nossa variável pussuir uma distribuição normal.\n",
    "\n",
    "<br>\n",
    "\n",
    "**OBS:**\n",
    "- No gráfico acima é possivel notar que a nossa variável praticamente tem uma distribuição normal. Apenas os pontos extremos apresentam uma pequena distância da linha vermelha."
   ]
  },
  {
   "cell_type": "markdown",
   "metadata": {
    "heading_collapsed": true,
    "hidden": true
   },
   "source": [
    "### 🔶 Shapiro-Wilk\n",
    "\n"
   ]
  },
  {
   "cell_type": "markdown",
   "metadata": {
    "hidden": true
   },
   "source": [
    "Seguindo adiante vamos utilizar o teste statistico Shapiro-wilk para poder descobrir a normalidade de uma distribuição. Esse método nos retorna dois valores, o resultado do cáculo do shapiro-wilk e o p-valor. Vamos utilizar o pvalue para validar uma das hipoteses abaixo:\n",
    "\n",
    "Ho = distribuição normal se p>0.05<br>\n",
    "Ha = distribuição não normal se p<=0.05"
   ]
  },
  {
   "cell_type": "code",
   "execution_count": 102,
   "metadata": {
    "ExecuteTime": {
     "end_time": "2022-12-08T02:30:01.368811Z",
     "start_time": "2022-12-08T02:30:01.340819Z"
    },
    "hidden": true,
    "scrolled": true
   },
   "outputs": [
    {
     "name": "stdout",
     "output_type": "stream",
     "text": [
      "0.6376791596412659\n"
     ]
    },
    {
     "name": "stderr",
     "output_type": "stream",
     "text": [
      "/home/audax/Projetos/estudo/venv-estudo/lib64/python3.11/site-packages/scipy/stats/_morestats.py:1800: UserWarning: p-value may not be accurate for N > 5000.\n",
      "  warnings.warn(\"p-value may not be accurate for N > 5000.\")\n"
     ]
    }
   ],
   "source": [
    "statistica, pvalue = stats.shapiro(df['Altura'])\n",
    "\n",
    "print(pvalue)"
   ]
  },
  {
   "cell_type": "markdown",
   "metadata": {
    "hidden": true
   },
   "source": [
    "**OBS:**\n",
    "- Podemos perceber que esse teste não é tão preciso para conjuntos de dados que possuem mais de 5000 mil dados.\n",
    "- O pvalue é maior do que 0.05, o que nos indica que provavelmente essa distribuição é normal. "
   ]
  },
  {
   "cell_type": "markdown",
   "metadata": {
    "heading_collapsed": true,
    "hidden": true
   },
   "source": [
    "### 🔶 kolmogorov smirnov"
   ]
  },
  {
   "cell_type": "markdown",
   "metadata": {
    "hidden": true
   },
   "source": [
    "O método kolmogorov smirnov é mais um utilizado para saber se uma distribuição é ou não normal. O mesmo raciocinio das hipoteses se aplica nesse método. <br>\n",
    "\n",
    "Vamos utilizar o pvalue para validar uma das hipoteses abaixo:\n",
    "\n",
    "Ho = distribuição normal se p>0.05<br>\n",
    "Ha = distribuição não normal se p<=0.05\n"
   ]
  },
  {
   "cell_type": "code",
   "execution_count": 103,
   "metadata": {
    "ExecuteTime": {
     "end_time": "2022-12-08T02:30:06.975262Z",
     "start_time": "2022-12-08T02:30:06.951154Z"
    },
    "hidden": true
   },
   "outputs": [
    {
     "name": "stdout",
     "output_type": "stream",
     "text": [
      "0.36570836798072737\n"
     ]
    }
   ],
   "source": [
    "statistica, pvalue = lillie(df['Altura'], dist='norm')\n",
    "\n",
    "print(pvalue)"
   ]
  },
  {
   "cell_type": "markdown",
   "metadata": {
    "hidden": true
   },
   "source": [
    "**OBS:**\n",
    "- O pvalue é maior do que 0.05, o que nos indica que provavelmente essa distribuição é normal. "
   ]
  },
  {
   "cell_type": "markdown",
   "metadata": {
    "heading_collapsed": true,
    "hidden": true
   },
   "source": [
    "### 🔶 Resumo"
   ]
  },
  {
   "cell_type": "markdown",
   "metadata": {
    "hidden": true
   },
   "source": [
    "Depois de passar por todas essas formas de testar se uma distribuição é ou não normal, vemos que em todos as formar utilizadas a variável altura foi considerada normal, logo podemos concluir que realmente essa variável possui uma distribuição normal."
   ]
  }
 ],
 "metadata": {
  "kernelspec": {
   "display_name": "Python 3 (ipykernel)",
   "language": "python",
   "name": "python3"
  },
  "language_info": {
   "codemirror_mode": {
    "name": "ipython",
    "version": 3
   },
   "file_extension": ".py",
   "mimetype": "text/x-python",
   "name": "python",
   "nbconvert_exporter": "python",
   "pygments_lexer": "ipython3",
   "version": "3.11.0"
  },
  "varInspector": {
   "cols": {
    "lenName": 16,
    "lenType": 16,
    "lenVar": 40
   },
   "kernels_config": {
    "python": {
     "delete_cmd_postfix": "",
     "delete_cmd_prefix": "del ",
     "library": "var_list.py",
     "varRefreshCmd": "print(var_dic_list())"
    },
    "r": {
     "delete_cmd_postfix": ") ",
     "delete_cmd_prefix": "rm(",
     "library": "var_list.r",
     "varRefreshCmd": "cat(var_dic_list()) "
    }
   },
   "types_to_exclude": [
    "module",
    "function",
    "builtin_function_or_method",
    "instance",
    "_Feature"
   ],
   "window_display": false
  },
  "vscode": {
   "interpreter": {
    "hash": "e7370f93d1d0cde622a1f8e1c04877d8463912d04d973331ad4851f04de6915a"
   }
  }
 },
 "nbformat": 4,
 "nbformat_minor": 2
}

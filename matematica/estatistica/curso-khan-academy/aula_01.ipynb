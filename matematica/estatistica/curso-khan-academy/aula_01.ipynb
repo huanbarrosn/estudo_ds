{
 "cells": [
  {
   "cell_type": "markdown",
   "id": "74da7ed2",
   "metadata": {
    "heading_collapsed": true
   },
   "source": [
    "# 🔺 Introdução a estatística"
   ]
  },
  {
   "cell_type": "markdown",
   "id": "dbad4a03",
   "metadata": {
    "hidden": true
   },
   "source": [
    "A estatística é uma ciência que oferece uma coleção de métodos para coletar, organizar, resumir, analisar e interpretar dados com o intuito de planejar experimentos e levamentos e deles extrair informações úteis para tomada de decisão.\n",
    "\n",
    "O que é uma pergunta estatística? É uma pergunta que para ser respondida é necessário coletar diversos dados (com variança ou não). Por exemplo \"Quem pesa mais, cachorros ou lobos?\" para responder essa pergunta é necessário coletar o peso de n cachorros e n lobos."
   ]
  },
  {
   "cell_type": "markdown",
   "id": "97a4cd83",
   "metadata": {
    "heading_collapsed": true,
    "hidden": true
   },
   "source": [
    "## 🔹 População "
   ]
  },
  {
   "cell_type": "markdown",
   "id": "bfadfa54",
   "metadata": {
    "hidden": true
   },
   "source": [
    "População é qualquer conjunto, não necessariamente de pessoas, definido de acordo com o objetivo da nossa pesquisa. Por exemplo:\n",
    "\n",
    ">Se em uma empresa o diretor gostaria de saber se os funcionários estão satisfeitos com os benefícios oferecidos, a população de estudo são todos os funcionários dessa empresa.\n",
    "\n",
    ">Ou se queremos entender as causas que levam um brasileiro a ter miocardite, nossa população serão os brasileiros. Aqueles que possuirem miocardite ou não."
   ]
  },
  {
   "cell_type": "markdown",
   "id": "e8ea6785",
   "metadata": {
    "heading_collapsed": true,
    "hidden": true
   },
   "source": [
    "## 🔹 Amostra "
   ]
  },
  {
   "cell_type": "markdown",
   "id": "d8f23267",
   "metadata": {
    "hidden": true
   },
   "source": [
    "Uma amostra é uma sub-conjunto de dados extraidos de uma população, ou seja, um pedaço da população.\n",
    "\n",
    "Em um estudo estatístico, os métodos de amostragem referem-se ao modo como selecionamos membros de uma população a entrarem em um estudo. Se uma amostra não for selecionada aleatoriamente, ela provavelmente será tendenciosa de alguma forma, e os dados não representarão corretamente a população.<br><br>\n",
    "\n",
    "<img src='https://media-exp1.licdn.com/dms/image/C5612AQH51GpDXx02ZQ/article-inline_image-shrink_400_744/0/1520237805926?e=1674086400&v=beta&t=PjDoVQeMU4L_dURc_mnz39IZ1kZOa0NAd9CesekSGiE' width='50%' style=\"float:left\" > \n",
    "<br><br>"
   ]
  },
  {
   "cell_type": "markdown",
   "id": "79719cdf",
   "metadata": {
    "heading_collapsed": true,
    "hidden": true
   },
   "source": [
    "## 🔹 Amostragem"
   ]
  },
  {
   "cell_type": "markdown",
   "id": "6420e77e",
   "metadata": {
    "hidden": true
   },
   "source": [
    "Amostragem é simplismente o ato de coletar uma amostra de uma população. Para que possamos fazer esse processo sem coletar uma amostra que não represente a população ou seja viciada de alguma forma, nós utilizamos algumas técnicas, veja abaixo."
   ]
  },
  {
   "cell_type": "markdown",
   "id": "1c19eb4a",
   "metadata": {
    "hidden": true
   },
   "source": [
    "\n",
    "### Amostragem aleatória"
   ]
  },
  {
   "cell_type": "markdown",
   "id": "4f392c08",
   "metadata": {
    "hidden": true
   },
   "source": [
    ">**Amostra aleatória simples**: corresponde a uma amostra de elementos retirados ao caso da população, ou seja, cada unidade é escolhida aleatoriamente e cada unidade da população tem a mesma probabilidade de ser incluido na amostra. No entanto, não é por que uma amostra foi coletada aleatoriamente que ela representa a população de forma proporcional. Por isso vamos ver metodos mais eficazes a seguir.\n",
    "\n",
    ">**Amostra aleatória por extratificação**: conciste em dividir uma populção em grupos, e cada grupo será formado por unidades com caracteristicas em comum. Abaixo segue duas formas de fazer esse tipo de amostragem.<br><br>\n",
    ">- **Amostragem estratificada uniforme**: Sorteia-se igual o numero de elementos em cada grupo.\n",
    ">- **Amostragem estratificada proporcional**: O numero de elementos sorteados em cada grupo é proporcional a quantidade de elementos existente no grupo em relação a população.\n",
    "\n",
    ">**Amostra aleatória por agrupamentos**: Quando a população é divida em pequenos grupos com base em certas caracteristicas, sendo todos os grupos praticamente iguais e cada um representando muito bem a população.\n",
    "\n",
    ">**Amostra aleatória sistemática**: Quando os elementos da população se apresentam ordenados e a retirada dos elementos da amostra é feita periodicamente, temos uma amostragem sistemática. Assim, por exemplo, em uma linha de produção, podemos, a\n",
    "cada dez itens produzidos, retirar um para pertencer a uma amostra da produção diária."
   ]
  },
  {
   "cell_type": "markdown",
   "id": "a9a207e9",
   "metadata": {
    "hidden": true
   },
   "source": [
    "\n",
    "### Amostragem não aleatória"
   ]
  },
  {
   "cell_type": "markdown",
   "id": "9eacdfa0",
   "metadata": {
    "hidden": true
   },
   "source": [
    ">**Amostra por conveniência**: Conciste em selecionar uma amostra da população que seja acessivel, ou seja, os individuos empregados nessas pesquisas estão protamente disponiveis, não existe aleatoriedade o que pode levar a pesquisa a ser inviesada.\n",
    "\n",
    ">**Amostra voluntaria**: É o caso aonde pessoas que tem interesse na pesquisa se voluntariam para participar, por não ter aleatoriedade a pesquisa pode se tornar inviesada.  "
   ]
  },
  {
   "cell_type": "markdown",
   "id": "df7d8625",
   "metadata": {
    "heading_collapsed": true,
    "hidden": true
   },
   "source": [
    "## 🔹 Variável"
   ]
  },
  {
   "cell_type": "markdown",
   "id": "a0f6f764",
   "metadata": {
    "hidden": true
   },
   "source": [
    "Uma variável é uma caracteristica, propriedade ou atributo da população, cujo o valor pode variar entre as unidades da população.<br>\n",
    "\n",
    "Por exemplo, altura, salário, nome, idade, n° de filhos, hora, e etc, resumindo toda as caracteristícas de uma população que estão sendo coletadas para serem estudadas são chamadas de variáveis.<br>\n",
    "\n",
    "Você pode notar que existem variáveis que são definidas por palavras como por exemplo, o nome, e variáveis que são definidas por numeros como por exemplo, o n° de filhos. Para compreender melhor as variáveis foi feito uma classificação entre elas, criando assim as variáveis **quantitativas (Definidas por numeros)** e **qualitativas (definidas por algum atributo ou qualidade).**<br>"
   ]
  },
  {
   "cell_type": "markdown",
   "id": "e8379fc6",
   "metadata": {
    "hidden": true
   },
   "source": [
    "<br>\n",
    "<img src='https://blog.fastformat.co/wp-content/uploads/2018/05/variaveisquantitativas_qualitativas.png' width='60%'>\n",
    "<br><br>"
   ]
  },
  {
   "cell_type": "markdown",
   "id": "dc5400cb",
   "metadata": {
    "hidden": true
   },
   "source": [
    "\n",
    "#### As variáveis quantitativas são divididas em discretas e continuas:\n",
    "\n",
    "- **Discretas:** É definida por meio de numeros que são resultados de contagem, dessa maneira os valores apresentado sempre serão dados em numeros inteiros. Para deixar claro: numeros decimais não podem se enquadrar nessa classificação. Exemplos de variáveis quantitativas discretas: n° de filhos, n° de animais, n° de pessoas e etc.\n",
    "- **Continuas:** É definido por valores que são resultado de medições e por isso podem conter casas decimais. Exemplos: peso (medido pela balança), idade (medida por meio dos anos), tempo (medido por meio do relógio) e muito mais.\n",
    "<br>\n",
    "\n",
    "#### As variáveis qualitativas são divididas em ordinais e nominais:\n",
    "\n",
    "- **Ordinal:**  É possivel ordenar, como por exemplo, as classes sociais que são E, D, C, B e A.\n",
    "- **Nominal:** Não é possível haver ordenança. como por exemplo nome, sexo, cor e etc.\n",
    "<br><br>"
   ]
  },
  {
   "cell_type": "markdown",
   "id": "781057c9",
   "metadata": {
    "heading_collapsed": true,
    "hidden": true
   },
   "source": [
    "## 🔹 Tipos de pesquisas "
   ]
  },
  {
   "cell_type": "markdown",
   "id": "5110c085",
   "metadata": {
    "hidden": true
   },
   "source": [
    "\n",
    "### Pesquisa por amostragem"
   ]
  },
  {
   "cell_type": "markdown",
   "id": "75f05286",
   "metadata": {
    "hidden": true
   },
   "source": [
    "\n",
    "É o ato de análisar uma parte de uma população com o intuito de estimar como a população se comporta, sem necessáriamente precisar análisar a população.<br>\n",
    "\n",
    "Um bom exemplo é a pesquisa de intenção de votos para a presidência, já pensou o trabalho que daria ter que perguntar qual candidato as pessoas votariam se as eleições fossem hoje, poise seria inviável, por isso eles pegam apenas uma amostra da população para poder estimar qual candidato está na frente da corrida eleitoral."
   ]
  },
  {
   "cell_type": "markdown",
   "id": "010ec948",
   "metadata": {
    "hidden": true
   },
   "source": [
    "\n",
    "### Pesquisa descritiva ou observacional"
   ]
  },
  {
   "cell_type": "markdown",
   "id": "88e9952a",
   "metadata": {
    "hidden": true
   },
   "source": [
    "\n",
    "Um estudo observacional é o ato de coletar os dados (sem interferir em nenhuma fase desse processo) pode ser da polução toda ou apenas uma amostra da população, e analisar esses dados para ver se existe alguma correlação entre variáveis, é importante lembrar que na grande maioria dos casos, uma correlação forte entre duas variáveis não implica que há uma relação de causa-efeito entre elas. Por exemplo, se você achou uma correlação positiva forte entre X e Y, isso não lhe permitirá concluir que, se X aumentar, então Y também crescerá.<br>\n",
    "\n",
    "Um bom exemplo de um estudo observacional são as pesquisas sobre doenças. Nesse tipo de pesquisa os pesquisadores buscam descobrir correlações entre variáveis que possam indicar o motivo da pupulação estudada manifestar a doença.\n",
    "Lembrando que nenhuma das variáveis que fazem parte do estudo é influenciada."
   ]
  },
  {
   "cell_type": "markdown",
   "id": "eff2c8ac",
   "metadata": {
    "hidden": true
   },
   "source": [
    "\n",
    "### Pesquisa exploratória ou experimental"
   ]
  },
  {
   "cell_type": "markdown",
   "id": "d03d380a",
   "metadata": {
    "hidden": true
   },
   "source": [
    "O estudo experimental conciste em definir o objeto de estudo (a população ou uma amostra da população), selecionar as variáveis capazes de influenciar o objeto e definir a forma de coleta os dados dos efeitos que a variável produziu no objeto. Esse tipo de estudo serve para testar uma hipótese e conferir se ela é verdadeira ou falsa. Esse estudo é separado em partes, então vamos ver uma por uma.\n",
    "\n",
    "\n",
    "**1ª fase**<br>\n",
    "\n",
    "Consite em pegar ao objeto de estudo (a população ou uma amostra da população) e dividir em 2 grupos, o grupo de controle e o grupo experimental, essa coleta é feita usando algum dos métodos de coleta aleatória de amostra. Ao grupo experimental serão impostas condições enquanto ao grupo controle não.\n",
    "<br>\n",
    "- **Grupo de controlhe:** Grupo no qual não serão impostas nenhuma condições.\n",
    "- **Grupo experimental:** Esse grupo sim, terá condições impostas sobre sí. <br><br>\n",
    "\n",
    "\n",
    "**2ª fase**<br>\n",
    "\n",
    "Determinar um periodo de tempo que os grupos terão que os grupos ficarão sobre análise.<br><br>\n",
    "\n",
    "\n",
    "**3ª fase**<br>\n",
    "\n",
    "Após criar os grupos, definir as condições e determinar o periodo de tempo você inicia o experimento e começa a coletar os dados.<br><br>\n",
    "\n",
    "\n",
    "**4ª fase**<br>\n",
    "\n",
    "Essa fase conciste em organizar e analisar os dados para tirar conslusões.<br><br>\n",
    "\n",
    "\n",
    "\n",
    "**Clonclusão sobre o que é um estudo experimental**<br>\n",
    "Deste modo, o estudo experimental pretende dizer de que modo ou por que causas o fenômeno é produzido. Para tanto, envolve grupos de controle, seleção aleatória e manipulação de variáveis."
   ]
  },
  {
   "cell_type": "markdown",
   "id": "bca43361",
   "metadata": {
    "hidden": true
   },
   "source": [
    " <br>"
   ]
  },
  {
   "cell_type": "markdown",
   "id": "261130f5",
   "metadata": {
    "heading_collapsed": true
   },
   "source": [
    "# 🔺 Representações gráficas dos dados"
   ]
  },
  {
   "cell_type": "markdown",
   "id": "5ad87fee",
   "metadata": {
    "hidden": true
   },
   "source": [
    "Representar os dados de forma gráfica é um ótimo passo para começar a organiza-los e fazer boas análises.<br>\n",
    "\n",
    "Outra habilidade importante, é olhar para um gráfico ou uma tabela e saber identificar os individuos que compõem o  objeto de estudo e as variáveis desses individuos com o intuito de entender melhor os dados.<br>\n",
    "\n",
    "Agora vamos estudar alguns tipos de gráficos ..."
   ]
  },
  {
   "cell_type": "markdown",
   "id": "b99aa645",
   "metadata": {
    "heading_collapsed": true,
    "hidden": true
   },
   "source": [
    "## 🔹 Pictograma"
   ]
  },
  {
   "cell_type": "markdown",
   "id": "f9815394",
   "metadata": {
    "hidden": true
   },
   "source": [
    "Um pictograma é uma das formas mais simples e populares de visualização de dados que existe. Além de fazer com que seus dados tenham uma boa aparência, os pictogramas podem tornar os dados mais memoráveis.\n",
    "\n",
    " Os pictogramas são gráficos que usam ícones repetidos e imagens para permitir a visualização de dados simples.\n",
    " \n",
    " Uma característica de muitos pictogramas excelentes é que eles costumam ser usados para tornar fatos ou pontos de dados cansativos mais atraentes, como pode ser visto nos infográfico estatístico abaixo.<br><br>\n",
    "\n",
    "<img src='https://images.educamaisbrasil.com.br/content/banco_de_imagens/mb/D/modelo-pictograma-analise-de-graficos.jpg' width='600' style=\"float:left\">"
   ]
  },
  {
   "cell_type": "markdown",
   "id": "8b92b17e",
   "metadata": {
    "heading_collapsed": true,
    "hidden": true
   },
   "source": [
    "## 🔹 Gráfico de barras"
   ]
  },
  {
   "cell_type": "markdown",
   "id": "aee0b89e",
   "metadata": {
    "hidden": true
   },
   "source": [
    "Um gráfico de barras é um gráfico que usa barras para representar visualmente dados categoricos.  Os gráficos de barra são úteis ao comparar diferentes categorias de dados, mostrando tendências. As barras podem ser alinhadas verticalmente ou horizontalmente."
   ]
  },
  {
   "cell_type": "markdown",
   "id": "f5752b12",
   "metadata": {
    "hidden": true
   },
   "source": [
    "<img src=\"https://2.bp.blogspot.com/-HfRg_gIr4QA/Te9DnnStNrI/AAAAAAAARMo/9EBKlGTsSME/s1600/IBGE+Pessoas+com+mais+de+69+Anos.jpg\" width=\"50%\">"
   ]
  },
  {
   "cell_type": "markdown",
   "id": "0ff00475",
   "metadata": {
    "heading_collapsed": true,
    "hidden": true
   },
   "source": [
    "## 🔹 Gráfico de linhas"
   ]
  },
  {
   "cell_type": "markdown",
   "id": "63073ef8",
   "metadata": {
    "hidden": true
   },
   "source": [
    "Um gráfico de linhas é uma representação visual de dados quantitativos que mostra a relação entre duas variáveis.<br>\n",
    "\n",
    "Essas variáveis estão nos eixos X e Y do gráfico — ou na linha horizontal na parte inferior e na linha vertical na esquerda, respectivamente.<br>\n",
    "\n",
    "Os gráficos de linhas costumam ser usados para mostrar dados contínuos, ou seja, esses dados estão sempre variando e podem ter qualquer valor imaginável, incluindo frações ou pontos decimais, como tempo, temperatura, medições, custo, etc. Veja um exemplo.<br><br>\n",
    "\n",
    "<img src='https://external-content.duckduckgo.com/iu/?u=https%3A%2F%2Fwww.alura.com.br%2Fartigos%2Fassets%2Fuploads%2F2018%2F05%2Fimage6-1.png&f=1&nofb=1' width='50%' style=\"float:left\">"
   ]
  }
 ],
 "metadata": {
  "kernelspec": {
   "display_name": "Python 3 (ipykernel)",
   "language": "python",
   "name": "python3"
  },
  "language_info": {
   "codemirror_mode": {
    "name": "ipython",
    "version": 3
   },
   "file_extension": ".py",
   "mimetype": "text/x-python",
   "name": "python",
   "nbconvert_exporter": "python",
   "pygments_lexer": "ipython3",
   "version": "3.11.1"
  },
  "varInspector": {
   "cols": {
    "lenName": 16,
    "lenType": 16,
    "lenVar": 40
   },
   "kernels_config": {
    "python": {
     "delete_cmd_postfix": "",
     "delete_cmd_prefix": "del ",
     "library": "var_list.py",
     "varRefreshCmd": "print(var_dic_list())"
    },
    "r": {
     "delete_cmd_postfix": ") ",
     "delete_cmd_prefix": "rm(",
     "library": "var_list.r",
     "varRefreshCmd": "cat(var_dic_list()) "
    }
   },
   "types_to_exclude": [
    "module",
    "function",
    "builtin_function_or_method",
    "instance",
    "_Feature"
   ],
   "window_display": false
  }
 },
 "nbformat": 4,
 "nbformat_minor": 5
}

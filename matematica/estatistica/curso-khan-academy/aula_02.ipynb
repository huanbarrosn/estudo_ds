{
 "cells": [
  {
   "cell_type": "markdown",
   "id": "893ae0a0",
   "metadata": {},
   "source": [
    "Esse dataset eu peguei no kaggle, para enteder melhor os dados leia mais sobre o sataset [aqui](https://www.kaggle.com/datasets/ruchi798/data-science-job-salaries). Vamos utilizar esse dataset na maioria dos exemplos."
   ]
  },
  {
   "cell_type": "code",
   "execution_count": 1,
   "id": "5b2ac934",
   "metadata": {
    "ExecuteTime": {
     "end_time": "2022-11-20T17:45:53.455344Z",
     "start_time": "2022-11-20T17:45:53.149516Z"
    }
   },
   "outputs": [],
   "source": [
    "# Importando a biblioteca pandas\n",
    "import pandas as pd \n",
    "\n",
    "# Importando o dataset\n",
    "salarios_df = pd.read_csv('base-de-dados/ds_salaries.csv', index_col=0) "
   ]
  },
  {
   "cell_type": "markdown",
   "id": "de4bb58e",
   "metadata": {
    "heading_collapsed": true
   },
   "source": [
    "# 🔺 Distribuição de frequências"
   ]
  },
  {
   "cell_type": "markdown",
   "id": "a4483beb",
   "metadata": {
    "hidden": true
   },
   "source": [
    "Em uma pesquisa, por mais simples que ela seja, quando coletamos os dados, é fundamental que eles sejam organizados e analisados. A maneira mais comum de analizá-los é entendo como esses dados estão distribuidos."
   ]
  },
  {
   "cell_type": "markdown",
   "id": "5d439ba5",
   "metadata": {
    "heading_collapsed": true,
    "hidden": true
   },
   "source": [
    "## 🔹 Frequência absoluta"
   ]
  },
  {
   "cell_type": "markdown",
   "id": "0d32022f",
   "metadata": {
    "hidden": true
   },
   "source": [
    "A frequência absoluta nada mais é que a quantidade de vezes que um mesmo elemento aparece num conjunto de dados. E a frequência absoluta acumulada nada mais é que a soma de frequências absolutas.<br>"
   ]
  },
  {
   "cell_type": "markdown",
   "id": "fa51ca45",
   "metadata": {
    "hidden": true
   },
   "source": [
    "Vamos pegar o nosso dataset e análisar a frequência absoluta da coluna **job_title** e ver qual profissão tem mais pessoas atuando. "
   ]
  },
  {
   "cell_type": "code",
   "execution_count": 124,
   "id": "71f64c2c",
   "metadata": {
    "ExecuteTime": {
     "end_time": "2022-10-17T21:40:30.734441Z",
     "start_time": "2022-10-17T21:40:30.727041Z"
    },
    "hidden": true,
    "scrolled": true
   },
   "outputs": [
    {
     "data": {
      "text/plain": [
       "Data Scientist               143\n",
       "Data Engineer                132\n",
       "Data Analyst                  97\n",
       "Machine Learning Engineer     41\n",
       "Research Scientist            16\n",
       "Name: job_title, dtype: int64"
      ]
     },
     "execution_count": 124,
     "metadata": {},
     "output_type": "execute_result"
    }
   ],
   "source": [
    "# calculando a frequência absoluta\n",
    "freq_abs = salarios_df['job_title'].value_counts()\n",
    "\n",
    "# visualiando as 5 profissões com mais pessoas atuando\n",
    "freq_abs.head()"
   ]
  },
  {
   "cell_type": "markdown",
   "id": "a2851ce1",
   "metadata": {
    "ExecuteTime": {
     "end_time": "2022-10-16T18:27:51.100938Z",
     "start_time": "2022-10-16T18:27:50.678526Z"
    },
    "hidden": true
   },
   "source": [
    " <br>"
   ]
  },
  {
   "cell_type": "markdown",
   "id": "665cf991",
   "metadata": {
    "hidden": true
   },
   "source": [
    "Para ficar mais agradável a visualização dessa informação vamos criar um dataframe."
   ]
  },
  {
   "cell_type": "code",
   "execution_count": 125,
   "id": "6ebac6e7",
   "metadata": {
    "ExecuteTime": {
     "end_time": "2022-10-17T21:40:32.913305Z",
     "start_time": "2022-10-17T21:40:32.907050Z"
    },
    "hidden": true
   },
   "outputs": [
    {
     "data": {
      "text/html": [
       "<div>\n",
       "<style scoped>\n",
       "    .dataframe tbody tr th:only-of-type {\n",
       "        vertical-align: middle;\n",
       "    }\n",
       "\n",
       "    .dataframe tbody tr th {\n",
       "        vertical-align: top;\n",
       "    }\n",
       "\n",
       "    .dataframe thead th {\n",
       "        text-align: right;\n",
       "    }\n",
       "</style>\n",
       "<table border=\"1\" class=\"dataframe\">\n",
       "  <thead>\n",
       "    <tr style=\"text-align: right;\">\n",
       "      <th>Profissão</th>\n",
       "      <th>Freq. absoluta</th>\n",
       "    </tr>\n",
       "  </thead>\n",
       "  <tbody>\n",
       "    <tr>\n",
       "      <th>Data Scientist</th>\n",
       "      <td>143</td>\n",
       "    </tr>\n",
       "    <tr>\n",
       "      <th>Data Engineer</th>\n",
       "      <td>132</td>\n",
       "    </tr>\n",
       "    <tr>\n",
       "      <th>Data Analyst</th>\n",
       "      <td>97</td>\n",
       "    </tr>\n",
       "    <tr>\n",
       "      <th>Machine Learning Engineer</th>\n",
       "      <td>41</td>\n",
       "    </tr>\n",
       "    <tr>\n",
       "      <th>Research Scientist</th>\n",
       "      <td>16</td>\n",
       "    </tr>\n",
       "  </tbody>\n",
       "</table>\n",
       "</div>"
      ],
      "text/plain": [
       "Profissão                  Freq. absoluta\n",
       "Data Scientist                        143\n",
       "Data Engineer                         132\n",
       "Data Analyst                           97\n",
       "Machine Learning Engineer              41\n",
       "Research Scientist                     16"
      ]
     },
     "execution_count": 125,
     "metadata": {},
     "output_type": "execute_result"
    }
   ],
   "source": [
    "# criando o dataframe\n",
    "job_title_freq_abs = pd.DataFrame({'Freq. absoluta': freq_abs})\n",
    "\n",
    "# definindo um rótulo para a coluna de indices\n",
    "job_title_freq_abs.rename_axis('Profissão', axis='columns', inplace=True)\n",
    "\n",
    "# mostrando as 5 profissões com mais pessoas atuando\n",
    "job_title_freq_abs.head()"
   ]
  },
  {
   "cell_type": "markdown",
   "id": "df638b63",
   "metadata": {
    "heading_collapsed": true,
    "hidden": true
   },
   "source": [
    "## 🔹 Frequência Relativa"
   ]
  },
  {
   "cell_type": "markdown",
   "id": "96da514d",
   "metadata": {
    "hidden": true
   },
   "source": [
    "A frequência relativa nada mais é que a frequência absoluta de um determinado dado divido pela quantidade de dados coletado. É muito comum representar esses dados em forma de porcentagem e para isso basta multiplicar o resultado da operação por 100. A frequência relativa acumulada é a soma de frequências relativas.<br>"
   ]
  },
  {
   "cell_type": "markdown",
   "id": "05560417",
   "metadata": {
    "hidden": true
   },
   "source": [
    "Vamos pegar o dataframe sobre a frequência absoluta que criamos no tópico passado e acrescentar a ele uma nova coluna que informa a frequência relativa."
   ]
  },
  {
   "cell_type": "code",
   "execution_count": 126,
   "id": "273936b8",
   "metadata": {
    "ExecuteTime": {
     "end_time": "2022-10-17T21:40:35.082365Z",
     "start_time": "2022-10-17T21:40:35.070467Z"
    },
    "hidden": true,
    "scrolled": true
   },
   "outputs": [
    {
     "data": {
      "text/html": [
       "<div>\n",
       "<style scoped>\n",
       "    .dataframe tbody tr th:only-of-type {\n",
       "        vertical-align: middle;\n",
       "    }\n",
       "\n",
       "    .dataframe tbody tr th {\n",
       "        vertical-align: top;\n",
       "    }\n",
       "\n",
       "    .dataframe thead th {\n",
       "        text-align: right;\n",
       "    }\n",
       "</style>\n",
       "<table border=\"1\" class=\"dataframe\">\n",
       "  <thead>\n",
       "    <tr style=\"text-align: right;\">\n",
       "      <th>Profissão</th>\n",
       "      <th>Freq. absoluta</th>\n",
       "      <th>Freq. relativa (%)</th>\n",
       "    </tr>\n",
       "  </thead>\n",
       "  <tbody>\n",
       "    <tr>\n",
       "      <th>Data Scientist</th>\n",
       "      <td>143</td>\n",
       "      <td>23.56</td>\n",
       "    </tr>\n",
       "    <tr>\n",
       "      <th>Data Engineer</th>\n",
       "      <td>132</td>\n",
       "      <td>21.75</td>\n",
       "    </tr>\n",
       "    <tr>\n",
       "      <th>Data Analyst</th>\n",
       "      <td>97</td>\n",
       "      <td>15.98</td>\n",
       "    </tr>\n",
       "    <tr>\n",
       "      <th>Machine Learning Engineer</th>\n",
       "      <td>41</td>\n",
       "      <td>6.75</td>\n",
       "    </tr>\n",
       "    <tr>\n",
       "      <th>Research Scientist</th>\n",
       "      <td>16</td>\n",
       "      <td>2.64</td>\n",
       "    </tr>\n",
       "  </tbody>\n",
       "</table>\n",
       "</div>"
      ],
      "text/plain": [
       "Profissão                  Freq. absoluta  Freq. relativa (%)\n",
       "Data Scientist                        143               23.56\n",
       "Data Engineer                         132               21.75\n",
       "Data Analyst                           97               15.98\n",
       "Machine Learning Engineer              41                6.75\n",
       "Research Scientist                     16                2.64"
      ]
     },
     "execution_count": 126,
     "metadata": {},
     "output_type": "execute_result"
    }
   ],
   "source": [
    "# acrescentando a coluna sobre freq. relativa no dataframe\n",
    "job_title_freq_abs.loc[:,'Freq. relativa (%)'] = round(salarios_df['job_title'].value_counts(normalize=True) * 100, 2)\n",
    "\n",
    "# visualisando o novo dataframe\n",
    "job_title_freq_abs.head()"
   ]
  },
  {
   "cell_type": "markdown",
   "id": "0d782231",
   "metadata": {
    "heading_collapsed": true,
    "hidden": true
   },
   "source": [
    "## 🔹 Histograma"
   ]
  },
  {
   "cell_type": "markdown",
   "id": "8c7d33c8",
   "metadata": {
    "hidden": true
   },
   "source": [
    "Um histograma conciste em um gráfico com barras cujo o objetivo é ilustrar como um determinado conjunto de dados está distribuido, onde o eixo horizontal é dividido em pequenos intervalos, demonstrando valores assumidos pela variável de interesse. Já o eixo vertical é proporcional à frequência de observações da amostra onde os valores pertencem a tal intervalo.<br>\n",
    "\n",
    "Um histograma torna fácil ver onde a maioria dos valores se classificam em uma escala de medição e quanta variação existe entre eles. Veja um exemplo:<br><br>"
   ]
  },
  {
   "cell_type": "markdown",
   "id": "8155d1ca",
   "metadata": {
    "hidden": true
   },
   "source": [
    "<img src='https://eprconsultoria.com.br/wp-content/uploads/2021/07/Grafico-de-Barra-vs-Histograma-1024x485.png' width = '700' style=float:left>"
   ]
  },
  {
   "cell_type": "markdown",
   "id": "1c1e4cba",
   "metadata": {
    "heading_collapsed": true
   },
   "source": [
    "# 🔺 Medidas de tendência central"
   ]
  },
  {
   "cell_type": "markdown",
   "id": "d0055633",
   "metadata": {
    "hidden": true
   },
   "source": [
    "As medidas de tendencia central servem para descrever um certo conjunto de dados, para encontrar uma tendência central como o titulo ja diz, por isso fazem parte da estatística descritiva."
   ]
  },
  {
   "cell_type": "markdown",
   "id": "197c9ccb",
   "metadata": {
    "heading_collapsed": true,
    "hidden": true
   },
   "source": [
    "## 🔹 Média"
   ]
  },
  {
   "cell_type": "markdown",
   "id": "f76c0ce5",
   "metadata": {
    "hidden": true
   },
   "source": [
    "A média é calculada somando-se todos os valores de um conjunto de dados e dividindo-se pelo número de elementos deste conjunto. Como a média é uma medida sensível aos valores da amostra, é mais adequada para situações em que os dados são distribuídos mais ou menos de forma uniforme, ou seja, valores sem grandes discrepâncias."
   ]
  },
  {
   "cell_type": "markdown",
   "id": "07419bb3",
   "metadata": {
    "hidden": true
   },
   "source": [
    "Vamos calcular a média da coluna **salary_in_usd**, que informa o salário de vários profissionais em dólares nos anos de 2020, 2021 e 2022. Vamos calcular a média salarial de cada ano."
   ]
  },
  {
   "cell_type": "code",
   "execution_count": 127,
   "id": "f5eae2fd",
   "metadata": {
    "ExecuteTime": {
     "end_time": "2022-10-17T21:40:38.462889Z",
     "start_time": "2022-10-17T21:40:38.444175Z"
    },
    "hidden": true
   },
   "outputs": [
    {
     "data": {
      "text/html": [
       "<div>\n",
       "<style scoped>\n",
       "    .dataframe tbody tr th:only-of-type {\n",
       "        vertical-align: middle;\n",
       "    }\n",
       "\n",
       "    .dataframe tbody tr th {\n",
       "        vertical-align: top;\n",
       "    }\n",
       "\n",
       "    .dataframe thead th {\n",
       "        text-align: right;\n",
       "    }\n",
       "</style>\n",
       "<table border=\"1\" class=\"dataframe\">\n",
       "  <thead>\n",
       "    <tr style=\"text-align: right;\">\n",
       "      <th>Ano</th>\n",
       "      <th>Média (US$)</th>\n",
       "    </tr>\n",
       "  </thead>\n",
       "  <tbody>\n",
       "    <tr>\n",
       "      <th>2020</th>\n",
       "      <td>95813.00</td>\n",
       "    </tr>\n",
       "    <tr>\n",
       "      <th>2021</th>\n",
       "      <td>99853.79</td>\n",
       "    </tr>\n",
       "    <tr>\n",
       "      <th>2022</th>\n",
       "      <td>124522.01</td>\n",
       "    </tr>\n",
       "  </tbody>\n",
       "</table>\n",
       "</div>"
      ],
      "text/plain": [
       "Ano   Média (US$)\n",
       "2020     95813.00\n",
       "2021     99853.79\n",
       "2022    124522.01"
      ]
     },
     "execution_count": 127,
     "metadata": {},
     "output_type": "execute_result"
    }
   ],
   "source": [
    "# importando a biblioteca pandas\n",
    "import pandas as pd \n",
    "\n",
    "# calculando a média salarial de cada ano \n",
    "medias = []\n",
    "for ano in salarios_df['work_year'].unique():\n",
    "    medias.append(round(salarios_df.loc[salarios_df['work_year'] == ano]['salary_in_usd'].mean(), 2))\n",
    "\n",
    "# criando um dataframe para mostrar a informação de uma forma mais agradável\n",
    "salary_media_anual = pd.DataFrame(medias, index=salarios_df['work_year'].unique(), columns=['Média (US$)'])\n",
    "salary_media_anual.rename_axis('Ano', axis='columns', inplace=True)\n",
    "\n",
    "# mostrando o dataframe\n",
    "salary_media_anual"
   ]
  },
  {
   "cell_type": "markdown",
   "id": "c1f08eb6",
   "metadata": {
    "heading_collapsed": true,
    "hidden": true
   },
   "source": [
    "## 🔹 Moda "
   ]
  },
  {
   "cell_type": "markdown",
   "id": "9f8a93e3",
   "metadata": {
    "hidden": true
   },
   "source": [
    "\n",
    "A Moda representa o valor mais frequente de um conjunto de dados, sendo assim, para defini-la basta observar a frequência com que os valores aparecem. É possivel que um conjunto de dados tenha mais de um valor que são repetidos e que possuam a mesma frêquencia."
   ]
  },
  {
   "cell_type": "markdown",
   "id": "9296dad7",
   "metadata": {
    "hidden": true
   },
   "source": [
    "Para calcular a moda vamos utilizar a coluna **employee_residence**, que representa o principal país de residência do funcionário durante o ano de trabalho."
   ]
  },
  {
   "cell_type": "code",
   "execution_count": 148,
   "id": "bf790d27",
   "metadata": {
    "ExecuteTime": {
     "end_time": "2022-10-17T22:00:16.930428Z",
     "start_time": "2022-10-17T22:00:16.923927Z"
    },
    "hidden": true
   },
   "outputs": [
    {
     "name": "stdout",
     "output_type": "stream",
     "text": [
      "A moda é ['US'] com uma comtabilidade de 332 aparições nessa coluna.\n"
     ]
    }
   ],
   "source": [
    "# importando a biblioteca pandas\n",
    "import pandas as pd \n",
    "\n",
    "# calculando a moda da coluna employee_residence\n",
    "moda = salarios_df['employee_residence'].mode()\n",
    "vezes = salarios_df['employee_residence'].value_counts().max()\n",
    "print(f'A moda é {list(moda)} com uma comtabilidade de {vezes} aparições nessa coluna.')"
   ]
  },
  {
   "cell_type": "markdown",
   "id": "ce2f705f",
   "metadata": {
    "heading_collapsed": true,
    "hidden": true
   },
   "source": [
    "## 🔹 Mediana"
   ]
  },
  {
   "cell_type": "markdown",
   "id": "910029ed",
   "metadata": {
    "hidden": true
   },
   "source": [
    "A Mediana representa o valor central de um conjunto de dados, ou seja, aproximadamente 50% por cento dos dados estão abaixo dela e aproximadamente 50% estão acima dela. Para encontrar o valor da mediana é necessário colocar os valores em ordem crescente.\n",
    "\n",
    "Quando o número de elementos de um conjunto é par, a mediana é encontrada pela média dos dois valores centrais. Assim, esses valores são somados e divididos por dois. Já quando o número de elementos for ímpar a mediana será o valor central."
   ]
  },
  {
   "cell_type": "markdown",
   "id": "8bee061c",
   "metadata": {
    "hidden": true
   },
   "source": [
    "Vamos calcular a mediana da coluna do **salary_in_usd** para entender melhor a distribuição dessa coluna. Vamos calcular a mediana de cada ano e uma mediana geral."
   ]
  },
  {
   "cell_type": "code",
   "execution_count": 129,
   "id": "379c916d",
   "metadata": {
    "ExecuteTime": {
     "end_time": "2022-10-17T21:40:43.783675Z",
     "start_time": "2022-10-17T21:40:43.762518Z"
    },
    "hidden": true,
    "scrolled": true
   },
   "outputs": [
    {
     "data": {
      "text/html": [
       "<div>\n",
       "<style scoped>\n",
       "    .dataframe tbody tr th:only-of-type {\n",
       "        vertical-align: middle;\n",
       "    }\n",
       "\n",
       "    .dataframe tbody tr th {\n",
       "        vertical-align: top;\n",
       "    }\n",
       "\n",
       "    .dataframe thead th {\n",
       "        text-align: right;\n",
       "    }\n",
       "</style>\n",
       "<table border=\"1\" class=\"dataframe\">\n",
       "  <thead>\n",
       "    <tr style=\"text-align: right;\">\n",
       "      <th>Ano</th>\n",
       "      <th>Mediana (US$)</th>\n",
       "    </tr>\n",
       "  </thead>\n",
       "  <tbody>\n",
       "    <tr>\n",
       "      <th>2020</th>\n",
       "      <td>75544.0</td>\n",
       "    </tr>\n",
       "    <tr>\n",
       "      <th>2021</th>\n",
       "      <td>82528.0</td>\n",
       "    </tr>\n",
       "    <tr>\n",
       "      <th>2022</th>\n",
       "      <td>120000.0</td>\n",
       "    </tr>\n",
       "    <tr>\n",
       "      <th>Geral</th>\n",
       "      <td>101570.0</td>\n",
       "    </tr>\n",
       "  </tbody>\n",
       "</table>\n",
       "</div>"
      ],
      "text/plain": [
       "Ano    Mediana (US$)\n",
       "2020         75544.0\n",
       "2021         82528.0\n",
       "2022        120000.0\n",
       "Geral       101570.0"
      ]
     },
     "execution_count": 129,
     "metadata": {},
     "output_type": "execute_result"
    }
   ],
   "source": [
    "# importando a biblioteca pandas\n",
    "import pandas as pd \n",
    "\n",
    "# calculando a mediana de cada ano da coluna salary_in_usd\n",
    "medianas = []\n",
    "for ano in salarios_df['work_year'].unique():\n",
    "    medianas.append(round(salarios_df.loc[salarios_df['work_year'] == ano]['salary_in_usd'].median(), 2))\n",
    "    \n",
    "# calculando a mediana da coluna salary_in_usd\n",
    "mediana_geral = salarios_df['salary_in_usd'].median()\n",
    "\n",
    "# criando um dataframe para mostrar a informação de uma forma mais agradável\n",
    "salary_mediana = pd.DataFrame(medianas+[mediana_geral], index=list(salarios_df['work_year'].unique())+['Geral'], columns=['Mediana (US$)'])\n",
    "salary_mediana.rename_axis('Ano', axis='columns', inplace=True)\n",
    "\n",
    "# mostrando o dataframe\n",
    "salary_mediana"
   ]
  }
 ],
 "metadata": {
  "kernelspec": {
   "display_name": "Python 3 (ipykernel)",
   "language": "python",
   "name": "python3"
  },
  "language_info": {
   "codemirror_mode": {
    "name": "ipython",
    "version": 3
   },
   "file_extension": ".py",
   "mimetype": "text/x-python",
   "name": "python",
   "nbconvert_exporter": "python",
   "pygments_lexer": "ipython3",
   "version": "3.10.8"
  },
  "varInspector": {
   "cols": {
    "lenName": 16,
    "lenType": 16,
    "lenVar": 40
   },
   "kernels_config": {
    "python": {
     "delete_cmd_postfix": "",
     "delete_cmd_prefix": "del ",
     "library": "var_list.py",
     "varRefreshCmd": "print(var_dic_list())"
    },
    "r": {
     "delete_cmd_postfix": ") ",
     "delete_cmd_prefix": "rm(",
     "library": "var_list.r",
     "varRefreshCmd": "cat(var_dic_list()) "
    }
   },
   "types_to_exclude": [
    "module",
    "function",
    "builtin_function_or_method",
    "instance",
    "_Feature"
   ],
   "window_display": false
  }
 },
 "nbformat": 4,
 "nbformat_minor": 5
}

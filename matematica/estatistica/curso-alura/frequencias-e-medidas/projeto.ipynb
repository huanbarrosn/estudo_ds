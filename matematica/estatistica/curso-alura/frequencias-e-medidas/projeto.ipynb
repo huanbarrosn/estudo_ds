{
 "cells": [
  {
   "cell_type": "code",
   "execution_count": 39,
   "id": "f21f5897",
   "metadata": {
    "ExecuteTime": {
     "end_time": "2023-01-04T00:59:03.549715Z",
     "start_time": "2023-01-04T00:59:03.546159Z"
    }
   },
   "outputs": [],
   "source": [
    "import pandas as pd\n",
    "import numpy as np\n",
    "import matplotlib.pyplot as plt\n",
    "import seaborn as sns"
   ]
  },
  {
   "cell_type": "code",
   "execution_count": 2,
   "id": "c80adf30",
   "metadata": {
    "ExecuteTime": {
     "end_time": "2023-01-04T00:12:33.128199Z",
     "start_time": "2023-01-04T00:12:33.096341Z"
    }
   },
   "outputs": [],
   "source": [
    "dados = pd.read_csv(filepath_or_buffer='base-de-dados/dados.csv')"
   ]
  },
  {
   "cell_type": "markdown",
   "id": "83018d2c",
   "metadata": {
    "ExecuteTime": {
     "end_time": "2022-12-27T02:29:00.767412Z",
     "start_time": "2022-12-27T02:29:00.743863Z"
    }
   },
   "source": [
    "Perguntas:\n",
    "- Homens ganham mais que mulheres? Sim.\n",
    "- Qual faixa de idade ganha mais?\n",
    "- Pessoas de qual estado ganham mais?\n",
    "- Pessoas de qual cor ganham mais?\n",
    "- Pessoas de qual faixa de altura ganham mais?\n",
    "- Pessoas com qual tempo de estudo ganham mais?"
   ]
  },
  {
   "cell_type": "markdown",
   "id": "95b20733",
   "metadata": {},
   "source": [
    " "
   ]
  },
  {
   "cell_type": "markdown",
   "id": "11057931",
   "metadata": {
    "heading_collapsed": true
   },
   "source": [
    "## Homens ganham mais que mulheres?"
   ]
  },
  {
   "cell_type": "markdown",
   "id": "96589a51",
   "metadata": {
    "hidden": true
   },
   "source": [
    "- Visualisando algumas medidas de tendencia central e de dispersão"
   ]
  },
  {
   "cell_type": "code",
   "execution_count": 3,
   "id": "a92cca78",
   "metadata": {
    "ExecuteTime": {
     "end_time": "2023-01-04T00:12:33.152733Z",
     "start_time": "2023-01-04T00:12:33.129763Z"
    },
    "hidden": true
   },
   "outputs": [
    {
     "data": {
      "text/html": [
       "<div>\n",
       "<style scoped>\n",
       "    .dataframe tbody tr th:only-of-type {\n",
       "        vertical-align: middle;\n",
       "    }\n",
       "\n",
       "    .dataframe tbody tr th {\n",
       "        vertical-align: top;\n",
       "    }\n",
       "\n",
       "    .dataframe thead th {\n",
       "        text-align: right;\n",
       "    }\n",
       "</style>\n",
       "<table border=\"1\" class=\"dataframe\">\n",
       "  <thead>\n",
       "    <tr style=\"text-align: right;\">\n",
       "      <th></th>\n",
       "      <th>count</th>\n",
       "      <th>mean</th>\n",
       "      <th>std</th>\n",
       "      <th>min</th>\n",
       "      <th>25%</th>\n",
       "      <th>50%</th>\n",
       "      <th>75%</th>\n",
       "      <th>max</th>\n",
       "    </tr>\n",
       "    <tr>\n",
       "      <th>Sexo</th>\n",
       "      <th></th>\n",
       "      <th></th>\n",
       "      <th></th>\n",
       "      <th></th>\n",
       "      <th></th>\n",
       "      <th></th>\n",
       "      <th></th>\n",
       "      <th></th>\n",
       "    </tr>\n",
       "  </thead>\n",
       "  <tbody>\n",
       "    <tr>\n",
       "      <th>0</th>\n",
       "      <td>53250.0</td>\n",
       "      <td>2192.441596</td>\n",
       "      <td>3590.312915</td>\n",
       "      <td>0.0</td>\n",
       "      <td>800.0</td>\n",
       "      <td>1350.0</td>\n",
       "      <td>2300.0</td>\n",
       "      <td>200000.0</td>\n",
       "    </tr>\n",
       "    <tr>\n",
       "      <th>1</th>\n",
       "      <td>23590.0</td>\n",
       "      <td>1566.847393</td>\n",
       "      <td>2570.663414</td>\n",
       "      <td>0.0</td>\n",
       "      <td>700.0</td>\n",
       "      <td>900.0</td>\n",
       "      <td>1500.0</td>\n",
       "      <td>120000.0</td>\n",
       "    </tr>\n",
       "  </tbody>\n",
       "</table>\n",
       "</div>"
      ],
      "text/plain": [
       "        count         mean          std  min    25%     50%     75%       max\n",
       "Sexo                                                                         \n",
       "0     53250.0  2192.441596  3590.312915  0.0  800.0  1350.0  2300.0  200000.0\n",
       "1     23590.0  1566.847393  2570.663414  0.0  700.0   900.0  1500.0  120000.0"
      ]
     },
     "execution_count": 3,
     "metadata": {},
     "output_type": "execute_result"
    }
   ],
   "source": [
    "sex_renda = dados.groupby('Sexo')\n",
    "sex_renda['Renda'].describe()"
   ]
  },
  {
   "cell_type": "markdown",
   "id": "fa6f78ae",
   "metadata": {
    "hidden": true
   },
   "source": [
    "\n",
    "<font color=orange>**NOTA**:<font><font color=black>\n",
    "até o momento parece que o homem ganha mais que a mulher. No entanto precisamos analisar a distribuição dos dados e tbm sua disperção para tirar melhores conclusões."
   ]
  },
  {
   "cell_type": "markdown",
   "id": "6a046898",
   "metadata": {
    "hidden": true
   },
   "source": [
    "---  "
   ]
  },
  {
   "cell_type": "markdown",
   "id": "a2324265",
   "metadata": {
    "hidden": true
   },
   "source": [
    "- Pegando uma faixa salarial menor, mas é onde a maioria das pessoas se encontram. Assim podemos excluir valores que são discrepantes que acabam influenciando algumas medidas."
   ]
  },
  {
   "cell_type": "code",
   "execution_count": 4,
   "id": "37c43a55",
   "metadata": {
    "ExecuteTime": {
     "end_time": "2023-01-04T00:12:33.175881Z",
     "start_time": "2023-01-04T00:12:33.154261Z"
    },
    "hidden": true
   },
   "outputs": [
    {
     "data": {
      "text/html": [
       "<div>\n",
       "<style scoped>\n",
       "    .dataframe tbody tr th:only-of-type {\n",
       "        vertical-align: middle;\n",
       "    }\n",
       "\n",
       "    .dataframe tbody tr th {\n",
       "        vertical-align: top;\n",
       "    }\n",
       "\n",
       "    .dataframe thead th {\n",
       "        text-align: right;\n",
       "    }\n",
       "</style>\n",
       "<table border=\"1\" class=\"dataframe\">\n",
       "  <thead>\n",
       "    <tr style=\"text-align: right;\">\n",
       "      <th></th>\n",
       "      <th>count</th>\n",
       "      <th>mean</th>\n",
       "      <th>std</th>\n",
       "      <th>min</th>\n",
       "      <th>25%</th>\n",
       "      <th>50%</th>\n",
       "      <th>75%</th>\n",
       "      <th>max</th>\n",
       "    </tr>\n",
       "    <tr>\n",
       "      <th>Sexo</th>\n",
       "      <th></th>\n",
       "      <th></th>\n",
       "      <th></th>\n",
       "      <th></th>\n",
       "      <th></th>\n",
       "      <th></th>\n",
       "      <th></th>\n",
       "      <th></th>\n",
       "    </tr>\n",
       "  </thead>\n",
       "  <tbody>\n",
       "    <tr>\n",
       "      <th>0</th>\n",
       "      <td>52143.0</td>\n",
       "      <td>1835.233512</td>\n",
       "      <td>1723.037722</td>\n",
       "      <td>0.0</td>\n",
       "      <td>800.0</td>\n",
       "      <td>1300.0</td>\n",
       "      <td>2100.0</td>\n",
       "      <td>10000.0</td>\n",
       "    </tr>\n",
       "    <tr>\n",
       "      <th>1</th>\n",
       "      <td>23323.0</td>\n",
       "      <td>1384.580071</td>\n",
       "      <td>1498.206427</td>\n",
       "      <td>0.0</td>\n",
       "      <td>670.0</td>\n",
       "      <td>900.0</td>\n",
       "      <td>1500.0</td>\n",
       "      <td>10000.0</td>\n",
       "    </tr>\n",
       "  </tbody>\n",
       "</table>\n",
       "</div>"
      ],
      "text/plain": [
       "        count         mean          std  min    25%     50%     75%      max\n",
       "Sexo                                                                        \n",
       "0     52143.0  1835.233512  1723.037722  0.0  800.0  1300.0  2100.0  10000.0\n",
       "1     23323.0  1384.580071  1498.206427  0.0  670.0   900.0  1500.0  10000.0"
      ]
     },
     "execution_count": 4,
     "metadata": {},
     "output_type": "execute_result"
    }
   ],
   "source": [
    "sex_renda_10000 = dados.query('Renda<=10000').groupby('Sexo')['Renda'].describe()\n",
    "sex_renda_10000"
   ]
  },
  {
   "cell_type": "markdown",
   "id": "d1dcaf8b",
   "metadata": {
    "hidden": true
   },
   "source": [
    "\n",
    "<font color=orange>**NOTA**:<font><font color=black>\n",
    "mesmo excluindo valores discrepantes podemos observar que as medidas estatisticas sobre o salario dos homens e das mulheres nos dizem que o homem ganha mais que as mulheres."
   ]
  },
  {
   "cell_type": "markdown",
   "id": "432165be",
   "metadata": {
    "hidden": true
   },
   "source": [
    "--- "
   ]
  },
  {
   "cell_type": "markdown",
   "id": "7630927a",
   "metadata": {
    "hidden": true
   },
   "source": [
    "- Calculando o coeficiente de variação para entender se os dados sobre a renda do grupo masculino são mais dispersos que do grupo feminino."
   ]
  },
  {
   "cell_type": "code",
   "execution_count": 5,
   "id": "050ea742",
   "metadata": {
    "ExecuteTime": {
     "end_time": "2023-01-04T00:12:33.181920Z",
     "start_time": "2023-01-04T00:12:33.176893Z"
    },
    "hidden": true
   },
   "outputs": [
    {
     "data": {
      "text/plain": [
       "Sexo\n",
       "0     94.0\n",
       "1    108.0\n",
       "dtype: float64"
      ]
     },
     "execution_count": 5,
     "metadata": {},
     "output_type": "execute_result"
    }
   ],
   "source": [
    "CV = (sex_renda_10000['std']/sex_renda_10000['mean']).round(2)*100\n",
    "CV"
   ]
  },
  {
   "cell_type": "markdown",
   "id": "833cdc79",
   "metadata": {
    "hidden": true
   },
   "source": [
    "\n",
    "<font color=orange>**NOTA**:<font><font color=black>\n",
    "o coeficiente de variação nos informa que os dados salariais dos homens são menos dispersos que os dados salariais das mulheres."
   ]
  },
  {
   "cell_type": "markdown",
   "id": "bd698fda",
   "metadata": {
    "hidden": true
   },
   "source": [
    "---"
   ]
  },
  {
   "cell_type": "markdown",
   "id": "f9a17c33",
   "metadata": {
    "hidden": true
   },
   "source": [
    "- Visualiando a distribuição dos dados salariais de cada gênero. Vamos analisar num intervalo de 0 a 10000 mil para poder excluir valores discrepantes."
   ]
  },
  {
   "cell_type": "code",
   "execution_count": 6,
   "id": "61fb2462",
   "metadata": {
    "ExecuteTime": {
     "end_time": "2023-01-04T00:12:33.189317Z",
     "start_time": "2023-01-04T00:12:33.183261Z"
    },
    "hidden": true
   },
   "outputs": [],
   "source": [
    "sal_m, sal_f = sex_renda"
   ]
  },
  {
   "cell_type": "code",
   "execution_count": 7,
   "id": "fab54087",
   "metadata": {
    "ExecuteTime": {
     "end_time": "2023-01-04T00:12:33.436203Z",
     "start_time": "2023-01-04T00:12:33.191614Z"
    },
    "hidden": true
   },
   "outputs": [
    {
     "data": {
      "image/png": "[encoded data removed]",
      "text/plain": [
       "<Figure size 1500x500 with 1 Axes>"
      ]
     },
     "metadata": {},
     "output_type": "display_data"
    }
   ],
   "source": [
    "# Sexo masculino\n",
    "plt.subplots(figsize=(15, 5))\n",
    "sns.histplot(sal_m[1].query('Renda<=10000')['Renda'])\n",
    "plt.show()"
   ]
  },
  {
   "cell_type": "markdown",
   "id": "c58651ad",
   "metadata": {
    "hidden": true
   },
   "source": [
    " "
   ]
  },
  {
   "cell_type": "code",
   "execution_count": 8,
   "id": "24e09748",
   "metadata": {
    "ExecuteTime": {
     "end_time": "2023-01-04T00:12:33.721506Z",
     "start_time": "2023-01-04T00:12:33.437350Z"
    },
    "hidden": true
   },
   "outputs": [
    {
     "data": {
      "image/png": "[encoded data removed]",
      "text/plain": [
       "<Figure size 1500x500 with 1 Axes>"
      ]
     },
     "metadata": {},
     "output_type": "display_data"
    }
   ],
   "source": [
    "# Sexo feminino\n",
    "plt.subplots(figsize=(15, 5))\n",
    "sns.histplot(sal_f[1].query('Renda<=10000')['Renda'])\n",
    "plt.show()"
   ]
  },
  {
   "cell_type": "markdown",
   "id": "f9fd293f",
   "metadata": {
    "hidden": true
   },
   "source": [
    "\n",
    "<font color=orange>**NOTA**:<font><font color=black>\n",
    "os gráficos nos mostram que proporcionalmente existe mais homens entre a faixa de 1.000,00 e 2.000,00 do que mulheres. E que mesmo depois de retiramos alguns valores discrepantes ainda existe alguns valores discrepantes que acabam elevando a média salarial de cada genero."
   ]
  },
  {
   "cell_type": "markdown",
   "id": "e29bc943",
   "metadata": {
    "hidden": true
   },
   "source": [
    "---"
   ]
  },
  {
   "cell_type": "markdown",
   "id": "fd3fbd94",
   "metadata": {
    "hidden": true
   },
   "source": [
    "- Vamos criar uma tabela que nos mostra progressivamente a porcentagem de pessoas que se encontram abaixo de um x valor salarial."
   ]
  },
  {
   "cell_type": "code",
   "execution_count": 12,
   "id": "6d66818e",
   "metadata": {
    "ExecuteTime": {
     "end_time": "2023-01-04T00:33:54.073296Z",
     "start_time": "2023-01-04T00:33:53.935123Z"
    },
    "hidden": true
   },
   "outputs": [],
   "source": [
    "labels = []\n",
    "m = []\n",
    "f = []\n",
    "\n",
    "for x in [n for n in range(0, 10001, 1000)] + [50000, 100000, 150000, 200000]:\n",
    "    condicao = f'Renda <= {x}'\n",
    "    for df in dados.groupby('Sexo'):\n",
    "        if df[0] == 0:\n",
    "            m.append(round(df[1].query(condicao).shape[0]/df[1].shape[0] * 100, 3))\n",
    "        else:\n",
    "            f.append(round(df[1].query(condicao).shape[0]/df[1].shape[0] * 100, 3))\n",
    "            labels.append(condicao)"
   ]
  },
  {
   "cell_type": "code",
   "execution_count": 13,
   "id": "752d4383",
   "metadata": {
    "ExecuteTime": {
     "end_time": "2023-01-04T00:33:55.213042Z",
     "start_time": "2023-01-04T00:33:55.209353Z"
    },
    "hidden": true
   },
   "outputs": [],
   "source": [
    "tabela = pd.DataFrame(data={'Masculino':m, 'Feminino':f}, index=labels)"
   ]
  },
  {
   "cell_type": "code",
   "execution_count": 14,
   "id": "f4513913",
   "metadata": {
    "ExecuteTime": {
     "end_time": "2023-01-04T00:33:56.123081Z",
     "start_time": "2023-01-04T00:33:56.110002Z"
    },
    "hidden": true
   },
   "outputs": [
    {
     "data": {
      "text/html": [
       "<div>\n",
       "<style scoped>\n",
       "    .dataframe tbody tr th:only-of-type {\n",
       "        vertical-align: middle;\n",
       "    }\n",
       "\n",
       "    .dataframe tbody tr th {\n",
       "        vertical-align: top;\n",
       "    }\n",
       "\n",
       "    .dataframe thead th {\n",
       "        text-align: right;\n",
       "    }\n",
       "</style>\n",
       "<table border=\"1\" class=\"dataframe\">\n",
       "  <thead>\n",
       "    <tr style=\"text-align: right;\">\n",
       "      <th></th>\n",
       "      <th>Masculino</th>\n",
       "      <th>Feminino</th>\n",
       "    </tr>\n",
       "  </thead>\n",
       "  <tbody>\n",
       "    <tr>\n",
       "      <th>Renda &lt;= 0</th>\n",
       "      <td>3.437</td>\n",
       "      <td>4.396</td>\n",
       "    </tr>\n",
       "    <tr>\n",
       "      <th>Renda &lt;= 1000</th>\n",
       "      <td>37.572</td>\n",
       "      <td>58.131</td>\n",
       "    </tr>\n",
       "    <tr>\n",
       "      <th>Renda &lt;= 2000</th>\n",
       "      <td>73.040</td>\n",
       "      <td>83.001</td>\n",
       "    </tr>\n",
       "    <tr>\n",
       "      <th>Renda &lt;= 3000</th>\n",
       "      <td>84.712</td>\n",
       "      <td>90.047</td>\n",
       "    </tr>\n",
       "    <tr>\n",
       "      <th>Renda &lt;= 4000</th>\n",
       "      <td>89.681</td>\n",
       "      <td>93.446</td>\n",
       "    </tr>\n",
       "    <tr>\n",
       "      <th>Renda &lt;= 5000</th>\n",
       "      <td>93.057</td>\n",
       "      <td>95.617</td>\n",
       "    </tr>\n",
       "    <tr>\n",
       "      <th>Renda &lt;= 6000</th>\n",
       "      <td>94.588</td>\n",
       "      <td>96.757</td>\n",
       "    </tr>\n",
       "    <tr>\n",
       "      <th>Renda &lt;= 7000</th>\n",
       "      <td>95.557</td>\n",
       "      <td>97.444</td>\n",
       "    </tr>\n",
       "    <tr>\n",
       "      <th>Renda &lt;= 8000</th>\n",
       "      <td>96.578</td>\n",
       "      <td>98.084</td>\n",
       "    </tr>\n",
       "    <tr>\n",
       "      <th>Renda &lt;= 9000</th>\n",
       "      <td>96.913</td>\n",
       "      <td>98.279</td>\n",
       "    </tr>\n",
       "    <tr>\n",
       "      <th>Renda &lt;= 10000</th>\n",
       "      <td>97.921</td>\n",
       "      <td>98.868</td>\n",
       "    </tr>\n",
       "    <tr>\n",
       "      <th>Renda &lt;= 50000</th>\n",
       "      <td>99.966</td>\n",
       "      <td>99.983</td>\n",
       "    </tr>\n",
       "    <tr>\n",
       "      <th>Renda &lt;= 100000</th>\n",
       "      <td>99.994</td>\n",
       "      <td>99.996</td>\n",
       "    </tr>\n",
       "    <tr>\n",
       "      <th>Renda &lt;= 150000</th>\n",
       "      <td>99.994</td>\n",
       "      <td>100.000</td>\n",
       "    </tr>\n",
       "    <tr>\n",
       "      <th>Renda &lt;= 200000</th>\n",
       "      <td>100.000</td>\n",
       "      <td>100.000</td>\n",
       "    </tr>\n",
       "  </tbody>\n",
       "</table>\n",
       "</div>"
      ],
      "text/plain": [
       "                 Masculino  Feminino\n",
       "Renda <= 0           3.437     4.396\n",
       "Renda <= 1000       37.572    58.131\n",
       "Renda <= 2000       73.040    83.001\n",
       "Renda <= 3000       84.712    90.047\n",
       "Renda <= 4000       89.681    93.446\n",
       "Renda <= 5000       93.057    95.617\n",
       "Renda <= 6000       94.588    96.757\n",
       "Renda <= 7000       95.557    97.444\n",
       "Renda <= 8000       96.578    98.084\n",
       "Renda <= 9000       96.913    98.279\n",
       "Renda <= 10000      97.921    98.868\n",
       "Renda <= 50000      99.966    99.983\n",
       "Renda <= 100000     99.994    99.996\n",
       "Renda <= 150000     99.994   100.000\n",
       "Renda <= 200000    100.000   100.000"
      ]
     },
     "execution_count": 14,
     "metadata": {},
     "output_type": "execute_result"
    }
   ],
   "source": [
    "tabela"
   ]
  },
  {
   "cell_type": "markdown",
   "id": "9d5105a2",
   "metadata": {
    "hidden": true
   },
   "source": [
    "\n",
    "<font color=orange>**NOTA**:<font><font color=black>\n",
    "essa tabela nos mostra com mais clareza que geralmente os homens que participaram dessa pesquisa ganham mais que as mulheres."
   ]
  },
  {
   "cell_type": "markdown",
   "id": "db29fc40",
   "metadata": {
    "hidden": true
   },
   "source": [
    " --- "
   ]
  },
  {
   "cell_type": "markdown",
   "id": "e65d45c7",
   "metadata": {
    "heading_collapsed": true
   },
   "source": [
    "## Qual faixa de idade ganha mais?"
   ]
  },
  {
   "cell_type": "markdown",
   "id": "14689f4c",
   "metadata": {
    "hidden": true
   },
   "source": [
    "- Primeiro precisamos criar as faixas de idade."
   ]
  },
  {
   "cell_type": "code",
   "execution_count": 51,
   "id": "e8e01788",
   "metadata": {
    "ExecuteTime": {
     "end_time": "2023-01-04T01:06:33.737654Z",
     "start_time": "2023-01-04T01:06:33.729234Z"
    },
    "hidden": true
   },
   "outputs": [],
   "source": [
    "faixa = [13, 18, 23, 28, 33, 38, 42, 48, 53, 58, 63, 68, 73, 78, 83, 88, 93, 99]\n",
    "idade_class = pd.cut(x=dados.Idade,\n",
    "                     bins=faixa,\n",
    "                     include_lowest=None)\n",
    "\n",
    "dados['Idade Class'] = idade_class"
   ]
  },
  {
   "cell_type": "markdown",
   "id": "b02c1359",
   "metadata": {
    "hidden": true
   },
   "source": [
    " ---"
   ]
  },
  {
   "cell_type": "markdown",
   "id": "6ea5cb0b",
   "metadata": {
    "hidden": true
   },
   "source": [
    "- Analisando algumas medidas de tendencia central e dispersão."
   ]
  },
  {
   "cell_type": "code",
   "execution_count": 52,
   "id": "902c31d5",
   "metadata": {
    "ExecuteTime": {
     "end_time": "2023-01-04T01:06:34.833578Z",
     "start_time": "2023-01-04T01:06:34.759220Z"
    },
    "hidden": true
   },
   "outputs": [
    {
     "data": {
      "text/html": [
       "<div>\n",
       "<style scoped>\n",
       "    .dataframe tbody tr th:only-of-type {\n",
       "        vertical-align: middle;\n",
       "    }\n",
       "\n",
       "    .dataframe tbody tr th {\n",
       "        vertical-align: top;\n",
       "    }\n",
       "\n",
       "    .dataframe thead th {\n",
       "        text-align: right;\n",
       "    }\n",
       "</style>\n",
       "<table border=\"1\" class=\"dataframe\">\n",
       "  <thead>\n",
       "    <tr style=\"text-align: right;\">\n",
       "      <th></th>\n",
       "      <th>count</th>\n",
       "      <th>mean</th>\n",
       "      <th>std</th>\n",
       "      <th>min</th>\n",
       "      <th>25%</th>\n",
       "      <th>50%</th>\n",
       "      <th>75%</th>\n",
       "      <th>max</th>\n",
       "    </tr>\n",
       "    <tr>\n",
       "      <th>Idade Class</th>\n",
       "      <th></th>\n",
       "      <th></th>\n",
       "      <th></th>\n",
       "      <th></th>\n",
       "      <th></th>\n",
       "      <th></th>\n",
       "      <th></th>\n",
       "      <th></th>\n",
       "    </tr>\n",
       "  </thead>\n",
       "  <tbody>\n",
       "    <tr>\n",
       "      <th>(13, 18]</th>\n",
       "      <td>214.0</td>\n",
       "      <td>835.546729</td>\n",
       "      <td>425.362397</td>\n",
       "      <td>0.0</td>\n",
       "      <td>600.0</td>\n",
       "      <td>800.0</td>\n",
       "      <td>1000.0</td>\n",
       "      <td>2200.0</td>\n",
       "    </tr>\n",
       "    <tr>\n",
       "      <th>(18, 23]</th>\n",
       "      <td>2291.0</td>\n",
       "      <td>1101.796595</td>\n",
       "      <td>852.593150</td>\n",
       "      <td>0.0</td>\n",
       "      <td>788.0</td>\n",
       "      <td>1000.0</td>\n",
       "      <td>1300.0</td>\n",
       "      <td>25000.0</td>\n",
       "    </tr>\n",
       "    <tr>\n",
       "      <th>(23, 28]</th>\n",
       "      <td>5554.0</td>\n",
       "      <td>1522.130537</td>\n",
       "      <td>1649.018879</td>\n",
       "      <td>0.0</td>\n",
       "      <td>788.0</td>\n",
       "      <td>1181.0</td>\n",
       "      <td>1800.0</td>\n",
       "      <td>48000.0</td>\n",
       "    </tr>\n",
       "    <tr>\n",
       "      <th>(28, 33]</th>\n",
       "      <td>9032.0</td>\n",
       "      <td>1893.750775</td>\n",
       "      <td>2298.986647</td>\n",
       "      <td>0.0</td>\n",
       "      <td>800.0</td>\n",
       "      <td>1200.0</td>\n",
       "      <td>2000.0</td>\n",
       "      <td>50000.0</td>\n",
       "    </tr>\n",
       "    <tr>\n",
       "      <th>(33, 38]</th>\n",
       "      <td>10786.0</td>\n",
       "      <td>2013.995735</td>\n",
       "      <td>2499.815458</td>\n",
       "      <td>0.0</td>\n",
       "      <td>800.0</td>\n",
       "      <td>1254.0</td>\n",
       "      <td>2200.0</td>\n",
       "      <td>36000.0</td>\n",
       "    </tr>\n",
       "    <tr>\n",
       "      <th>(38, 42]</th>\n",
       "      <td>8648.0</td>\n",
       "      <td>2058.345282</td>\n",
       "      <td>3559.620186</td>\n",
       "      <td>0.0</td>\n",
       "      <td>788.0</td>\n",
       "      <td>1270.5</td>\n",
       "      <td>2000.0</td>\n",
       "      <td>200000.0</td>\n",
       "    </tr>\n",
       "    <tr>\n",
       "      <th>(42, 48]</th>\n",
       "      <td>12365.0</td>\n",
       "      <td>2156.307238</td>\n",
       "      <td>3110.946272</td>\n",
       "      <td>0.0</td>\n",
       "      <td>788.0</td>\n",
       "      <td>1300.0</td>\n",
       "      <td>2300.0</td>\n",
       "      <td>100000.0</td>\n",
       "    </tr>\n",
       "    <tr>\n",
       "      <th>(48, 53]</th>\n",
       "      <td>10041.0</td>\n",
       "      <td>2266.702520</td>\n",
       "      <td>4061.645771</td>\n",
       "      <td>0.0</td>\n",
       "      <td>788.0</td>\n",
       "      <td>1250.0</td>\n",
       "      <td>2300.0</td>\n",
       "      <td>200000.0</td>\n",
       "    </tr>\n",
       "    <tr>\n",
       "      <th>(53, 58]</th>\n",
       "      <td>7683.0</td>\n",
       "      <td>2156.936353</td>\n",
       "      <td>3445.887007</td>\n",
       "      <td>0.0</td>\n",
       "      <td>788.0</td>\n",
       "      <td>1200.0</td>\n",
       "      <td>2150.0</td>\n",
       "      <td>90000.0</td>\n",
       "    </tr>\n",
       "    <tr>\n",
       "      <th>(58, 63]</th>\n",
       "      <td>5156.0</td>\n",
       "      <td>2041.195500</td>\n",
       "      <td>3639.965919</td>\n",
       "      <td>0.0</td>\n",
       "      <td>600.0</td>\n",
       "      <td>1000.0</td>\n",
       "      <td>2000.0</td>\n",
       "      <td>100000.0</td>\n",
       "    </tr>\n",
       "    <tr>\n",
       "      <th>(63, 68]</th>\n",
       "      <td>2755.0</td>\n",
       "      <td>1874.855898</td>\n",
       "      <td>3901.450429</td>\n",
       "      <td>0.0</td>\n",
       "      <td>300.0</td>\n",
       "      <td>900.0</td>\n",
       "      <td>1900.0</td>\n",
       "      <td>100000.0</td>\n",
       "    </tr>\n",
       "    <tr>\n",
       "      <th>(68, 73]</th>\n",
       "      <td>1275.0</td>\n",
       "      <td>1992.302745</td>\n",
       "      <td>6251.628214</td>\n",
       "      <td>0.0</td>\n",
       "      <td>10.0</td>\n",
       "      <td>600.0</td>\n",
       "      <td>1500.0</td>\n",
       "      <td>100000.0</td>\n",
       "    </tr>\n",
       "    <tr>\n",
       "      <th>(73, 78]</th>\n",
       "      <td>647.0</td>\n",
       "      <td>1358.599691</td>\n",
       "      <td>4984.798430</td>\n",
       "      <td>0.0</td>\n",
       "      <td>0.0</td>\n",
       "      <td>400.0</td>\n",
       "      <td>1010.0</td>\n",
       "      <td>80000.0</td>\n",
       "    </tr>\n",
       "    <tr>\n",
       "      <th>(78, 83]</th>\n",
       "      <td>291.0</td>\n",
       "      <td>2358.783505</td>\n",
       "      <td>12829.217130</td>\n",
       "      <td>0.0</td>\n",
       "      <td>0.0</td>\n",
       "      <td>300.0</td>\n",
       "      <td>1000.0</td>\n",
       "      <td>200000.0</td>\n",
       "    </tr>\n",
       "    <tr>\n",
       "      <th>(83, 88]</th>\n",
       "      <td>77.0</td>\n",
       "      <td>1104.935065</td>\n",
       "      <td>3789.628722</td>\n",
       "      <td>0.0</td>\n",
       "      <td>0.0</td>\n",
       "      <td>60.0</td>\n",
       "      <td>500.0</td>\n",
       "      <td>25000.0</td>\n",
       "    </tr>\n",
       "    <tr>\n",
       "      <th>(88, 93]</th>\n",
       "      <td>20.0</td>\n",
       "      <td>2463.250000</td>\n",
       "      <td>5650.573859</td>\n",
       "      <td>0.0</td>\n",
       "      <td>0.0</td>\n",
       "      <td>157.5</td>\n",
       "      <td>725.0</td>\n",
       "      <td>20000.0</td>\n",
       "    </tr>\n",
       "    <tr>\n",
       "      <th>(93, 99]</th>\n",
       "      <td>4.0</td>\n",
       "      <td>125.000000</td>\n",
       "      <td>250.000000</td>\n",
       "      <td>0.0</td>\n",
       "      <td>0.0</td>\n",
       "      <td>0.0</td>\n",
       "      <td>125.0</td>\n",
       "      <td>500.0</td>\n",
       "    </tr>\n",
       "  </tbody>\n",
       "</table>\n",
       "</div>"
      ],
      "text/plain": [
       "               count         mean           std  min    25%     50%     75%  \\\n",
       "Idade Class                                                                   \n",
       "(13, 18]       214.0   835.546729    425.362397  0.0  600.0   800.0  1000.0   \n",
       "(18, 23]      2291.0  1101.796595    852.593150  0.0  788.0  1000.0  1300.0   \n",
       "(23, 28]      5554.0  1522.130537   1649.018879  0.0  788.0  1181.0  1800.0   \n",
       "(28, 33]      9032.0  1893.750775   2298.986647  0.0  800.0  1200.0  2000.0   \n",
       "(33, 38]     10786.0  2013.995735   2499.815458  0.0  800.0  1254.0  2200.0   \n",
       "(38, 42]      8648.0  2058.345282   3559.620186  0.0  788.0  1270.5  2000.0   \n",
       "(42, 48]     12365.0  2156.307238   3110.946272  0.0  788.0  1300.0  2300.0   \n",
       "(48, 53]     10041.0  2266.702520   4061.645771  0.0  788.0  1250.0  2300.0   \n",
       "(53, 58]      7683.0  2156.936353   3445.887007  0.0  788.0  1200.0  2150.0   \n",
       "(58, 63]      5156.0  2041.195500   3639.965919  0.0  600.0  1000.0  2000.0   \n",
       "(63, 68]      2755.0  1874.855898   3901.450429  0.0  300.0   900.0  1900.0   \n",
       "(68, 73]      1275.0  1992.302745   6251.628214  0.0   10.0   600.0  1500.0   \n",
       "(73, 78]       647.0  1358.599691   4984.798430  0.0    0.0   400.0  1010.0   \n",
       "(78, 83]       291.0  2358.783505  12829.217130  0.0    0.0   300.0  1000.0   \n",
       "(83, 88]        77.0  1104.935065   3789.628722  0.0    0.0    60.0   500.0   \n",
       "(88, 93]        20.0  2463.250000   5650.573859  0.0    0.0   157.5   725.0   \n",
       "(93, 99]         4.0   125.000000    250.000000  0.0    0.0     0.0   125.0   \n",
       "\n",
       "                  max  \n",
       "Idade Class            \n",
       "(13, 18]       2200.0  \n",
       "(18, 23]      25000.0  \n",
       "(23, 28]      48000.0  \n",
       "(28, 33]      50000.0  \n",
       "(33, 38]      36000.0  \n",
       "(38, 42]     200000.0  \n",
       "(42, 48]     100000.0  \n",
       "(48, 53]     200000.0  \n",
       "(53, 58]      90000.0  \n",
       "(58, 63]     100000.0  \n",
       "(63, 68]     100000.0  \n",
       "(68, 73]     100000.0  \n",
       "(73, 78]      80000.0  \n",
       "(78, 83]     200000.0  \n",
       "(83, 88]      25000.0  \n",
       "(88, 93]      20000.0  \n",
       "(93, 99]        500.0  "
      ]
     },
     "execution_count": 52,
     "metadata": {},
     "output_type": "execute_result"
    }
   ],
   "source": [
    "dados.groupby('Idade Class')['Renda'].describe()"
   ]
  },
  {
   "cell_type": "code",
   "execution_count": null,
   "id": "1ada3061",
   "metadata": {
    "hidden": true
   },
   "outputs": [],
   "source": []
  },
  {
   "cell_type": "code",
   "execution_count": null,
   "id": "9cdfe24a",
   "metadata": {
    "hidden": true
   },
   "outputs": [],
   "source": []
  },
  {
   "cell_type": "code",
   "execution_count": null,
   "id": "90c3d6ba",
   "metadata": {
    "hidden": true
   },
   "outputs": [],
   "source": []
  },
  {
   "cell_type": "markdown",
   "id": "07d2c15c",
   "metadata": {
    "hidden": true
   },
   "source": []
  },
  {
   "cell_type": "markdown",
   "id": "32cb785a",
   "metadata": {
    "hidden": true
   },
   "source": []
  }
 ],
 "metadata": {
  "kernelspec": {
   "display_name": "Python 3 (ipykernel)",
   "language": "python",
   "name": "python3"
  },
  "language_info": {
   "codemirror_mode": {
    "name": "ipython",
    "version": 3
   },
   "file_extension": ".py",
   "mimetype": "text/x-python",
   "name": "python",
   "nbconvert_exporter": "python",
   "pygments_lexer": "ipython3",
   "version": "3.11.1"
  },
  "varInspector": {
   "cols": {
    "lenName": 16,
    "lenType": 16,
    "lenVar": 40
   },
   "kernels_config": {
    "python": {
     "delete_cmd_postfix": "",
     "delete_cmd_prefix": "del ",
     "library": "var_list.py",
     "varRefreshCmd": "print(var_dic_list())"
    },
    "r": {
     "delete_cmd_postfix": ") ",
     "delete_cmd_prefix": "rm(",
     "library": "var_list.r",
     "varRefreshCmd": "cat(var_dic_list()) "
    }
   },
   "types_to_exclude": [
    "module",
    "function",
    "builtin_function_or_method",
    "instance",
    "_Feature"
   ],
   "window_display": false
  }
 },
 "nbformat": 4,
 "nbformat_minor": 5
}

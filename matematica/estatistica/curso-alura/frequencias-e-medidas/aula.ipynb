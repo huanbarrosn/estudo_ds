{
 "cells": [
  {
   "cell_type": "markdown",
   "id": "50483c4c",
   "metadata": {
    "heading_collapsed": true
   },
   "source": [
    "# 🔷 Sobre a aula"
   ]
  },
  {
   "cell_type": "markdown",
   "id": "77d8a09a",
   "metadata": {
    "hidden": true
   },
   "source": [
    "Meu intuito com essa aula é passar o que aprendi no curso da alura sobre estatistica com python. Essa aula servirá para entender como os dados esão destribuidos."
   ]
  },
  {
   "cell_type": "markdown",
   "id": "c809e1a9",
   "metadata": {
    "hidden": true
   },
   "source": [
    " <br>"
   ]
  },
  {
   "cell_type": "markdown",
   "id": "9534e6f0",
   "metadata": {
    "colab_type": "text",
    "id": "cVgsZ_E3jQKg"
   },
   "source": [
    "# 🔷 Informações sobre o dataset"
   ]
  },
  {
   "cell_type": "markdown",
   "id": "757c77c1",
   "metadata": {
    "colab_type": "text",
    "heading_collapsed": true,
    "id": "iN1gIbaKjQKh"
   },
   "source": [
    "## 🔶 Pesquisa Nacional por Amostra de Domicílios - 2015"
   ]
  },
  {
   "cell_type": "markdown",
   "id": "645ba526",
   "metadata": {
    "colab_type": "text",
    "hidden": true,
    "id": "iN1gIbaKjQKh"
   },
   "source": [
    "A <b>Pesquisa Nacional por Amostra de Domicílios - PNAD</b> investiga anualmente, de forma permanente, características gerais da população, de educação, trabalho, rendimento e habitação e outras, com periodicidade variável, de acordo com as necessidades de informação para o país, como as características sobre migração, fecundidade, nupcialidade, saúde, segurança alimentar, entre outros temas. O levantamento dessas estatísticas constitui, ao longo dos 49 anos de realização da pesquisa, um importante instrumento para formulação, validação e avaliação de políticas orientadas para o desenvolvimento socioeconômico e a melhoria das condições de vida no Brasil."
   ]
  },
  {
   "cell_type": "markdown",
   "id": "90dab667",
   "metadata": {
    "hidden": true
   },
   "source": [
    " <br>"
   ]
  },
  {
   "cell_type": "markdown",
   "id": "435becd1",
   "metadata": {
    "colab_type": "text",
    "id": "r0Fe_qnzjQKj"
   },
   "source": [
    "## 🔶 Variáveis utilizadas"
   ]
  },
  {
   "cell_type": "markdown",
   "id": "08bf39b5",
   "metadata": {
    "colab_type": "text",
    "id": "r0Fe_qnzjQKj"
   },
   "source": [
    "\n",
    "### <font color='red'>Renda</font>\n",
    "\n",
    "Rendimento mensal do trabalho principal para pessoas de 10 anos ou mais de idade.<br>\n",
    "\n",
    "\n",
    "### <font color='red'>Idade</font>\n",
    "\n",
    "Idade do morador na data de referência em anos.\n",
    "\n",
    "\n",
    "### <font color='red'>Altura (elaboração própria)</font>\n",
    "\n",
    "Altura do morador em metros.\n",
    "\n",
    "\n",
    "### <font color='red'>UF</font>\n",
    "\n",
    "|Código|Descrição|\n",
    "|---|---|\n",
    "|11|Rondônia|\n",
    "|12|Acre|\n",
    "|13|Amazonas|\n",
    "|14|Roraima|\n",
    "|15|Pará|\n",
    "|16|Amapá|\n",
    "|17|Tocantins|\n",
    "|21|Maranhão|\n",
    "|22|Piauí|\n",
    "|23|Ceará|\n",
    "|24|Rio Grande do Norte|\n",
    "|25|Paraíba|\n",
    "|26|Pernambuco|\n",
    "|27|Alagoas|\n",
    "|28|Sergipe|\n",
    "|29|Bahia|\n",
    "|31|Minas Gerais|\n",
    "|32|Espírito Santo|\n",
    "|33|Rio de Janeiro|\n",
    "|35|São Paulo|\n",
    "|41|Paraná|\n",
    "|42|Santa Catarina|\n",
    "|43|Rio Grande do Sul|\n",
    "|50|Mato Grosso do Sul|\n",
    "|51|Mato Grosso|\n",
    "|52|Goiás|\n",
    "|53|Distrito Federal|\n",
    "\n",
    "\n",
    "### <font color='red'>Sexo</font>\n",
    "\n",
    "|Código|Descrição|\n",
    "|---|---|\n",
    "|0|Masculino|\n",
    "|1|Feminino|\n",
    "\n",
    "\n",
    "### <font color='red'>Anos de Estudo</font>\n",
    "\n",
    "|Código|Descrição|\n",
    "|---|---|\n",
    "|1|Sem instrução e menos de 1 ano|\n",
    "|2|1 ano|\n",
    "|3|2 anos|\n",
    "|4|3 anos|\n",
    "|5|4 anos|\n",
    "|6|5 anos|\n",
    "|7|6 anos|\n",
    "|8|7 anos|\n",
    "|9|8 anos|\n",
    "|10|9 anos|\n",
    "|11|10 anos|\n",
    "|12|11 anos|\n",
    "|13|12 anos|\n",
    "|14|13 anos|\n",
    "|15|14 anos|\n",
    "|16|15 anos ou mais|\n",
    "|17|Não determinados| \n",
    "||Não aplicável|\n",
    "\n",
    "\n",
    "### <font color='red'>Cor</font>\n",
    "\n",
    "|Código|Descrição|\n",
    "|---|---|\n",
    "|0|Indígena|\n",
    "|2|Branca|\n",
    "|4|Preta|\n",
    "|6|Amarela|\n",
    "|8|Parda|\n",
    "|9|Sem declaração|"
   ]
  },
  {
   "cell_type": "markdown",
   "id": "c94bacf9",
   "metadata": {
    "colab_type": "text",
    "id": "OK1IQH5cX7Gb"
   },
   "source": [
    "\n",
    "### <font color='orange'>Observação</font>\n",
    "\n",
    "> Os seguintes tratamentos foram realizados nos dados originais:\n",
    "> 1. Foram eliminados os registros onde a <b>Renda</b> era inválida (999 999 999 999);\n",
    "> 2. Foram eliminados os registros onde a <b>Renda</b> era missing;\n",
    "> 3. Foram considerados somente os registros das <b>Pessoas de Referência</b> de cada domicílio (responsável pelo domicílio)."
   ]
  },
  {
   "cell_type": "markdown",
   "id": "b851be2c",
   "metadata": {},
   "source": [
    " \n",
    " <br>\n",
    " "
   ]
  },
  {
   "cell_type": "markdown",
   "id": "b1b5a301",
   "metadata": {
    "cell_style": "center",
    "heading_collapsed": true
   },
   "source": [
    "# 🔷 Bibliotecas que utilizaremos\n"
   ]
  },
  {
   "cell_type": "code",
   "execution_count": 1,
   "id": "6c8fc9d8",
   "metadata": {
    "ExecuteTime": {
     "end_time": "2022-12-27T01:02:13.146713Z",
     "start_time": "2022-12-27T01:02:12.440524Z"
    },
    "hidden": true
   },
   "outputs": [],
   "source": [
    "import pandas as pd\n",
    "import numpy as np\n",
    "import seaborn as sns\n",
    "import scipy as scp\n",
    "import random as rd\n",
    "import matplotlib.pyplot as plt"
   ]
  },
  {
   "cell_type": "markdown",
   "id": "94bc3645",
   "metadata": {
    "hidden": true
   },
   "source": [
    "<br>"
   ]
  },
  {
   "cell_type": "markdown",
   "id": "7594f8eb",
   "metadata": {
    "heading_collapsed": true
   },
   "source": [
    "# 🔷 Importando a base de dados"
   ]
  },
  {
   "cell_type": "code",
   "execution_count": 14,
   "id": "28863033",
   "metadata": {
    "ExecuteTime": {
     "end_time": "2022-12-27T01:10:36.422917Z",
     "start_time": "2022-12-27T01:10:36.357385Z"
    },
    "hidden": true,
    "scrolled": true
   },
   "outputs": [
    {
     "data": {
      "text/html": [
       "<div>\n",
       "<style scoped>\n",
       "    .dataframe tbody tr th:only-of-type {\n",
       "        vertical-align: middle;\n",
       "    }\n",
       "\n",
       "    .dataframe tbody tr th {\n",
       "        vertical-align: top;\n",
       "    }\n",
       "\n",
       "    .dataframe thead th {\n",
       "        text-align: right;\n",
       "    }\n",
       "</style>\n",
       "<table border=\"1\" class=\"dataframe\">\n",
       "  <thead>\n",
       "    <tr style=\"text-align: right;\">\n",
       "      <th></th>\n",
       "      <th>UF</th>\n",
       "      <th>Sexo</th>\n",
       "      <th>Idade</th>\n",
       "      <th>Cor</th>\n",
       "      <th>Anos de Estudo</th>\n",
       "      <th>Renda</th>\n",
       "      <th>Altura</th>\n",
       "    </tr>\n",
       "  </thead>\n",
       "  <tbody>\n",
       "    <tr>\n",
       "      <th>0</th>\n",
       "      <td>11</td>\n",
       "      <td>0</td>\n",
       "      <td>23</td>\n",
       "      <td>8</td>\n",
       "      <td>12</td>\n",
       "      <td>800</td>\n",
       "      <td>1.603808</td>\n",
       "    </tr>\n",
       "    <tr>\n",
       "      <th>1</th>\n",
       "      <td>11</td>\n",
       "      <td>1</td>\n",
       "      <td>23</td>\n",
       "      <td>2</td>\n",
       "      <td>12</td>\n",
       "      <td>1150</td>\n",
       "      <td>1.739790</td>\n",
       "    </tr>\n",
       "    <tr>\n",
       "      <th>2</th>\n",
       "      <td>11</td>\n",
       "      <td>1</td>\n",
       "      <td>35</td>\n",
       "      <td>8</td>\n",
       "      <td>15</td>\n",
       "      <td>880</td>\n",
       "      <td>1.760444</td>\n",
       "    </tr>\n",
       "    <tr>\n",
       "      <th>3</th>\n",
       "      <td>11</td>\n",
       "      <td>0</td>\n",
       "      <td>46</td>\n",
       "      <td>2</td>\n",
       "      <td>6</td>\n",
       "      <td>3500</td>\n",
       "      <td>1.783158</td>\n",
       "    </tr>\n",
       "    <tr>\n",
       "      <th>4</th>\n",
       "      <td>11</td>\n",
       "      <td>1</td>\n",
       "      <td>47</td>\n",
       "      <td>8</td>\n",
       "      <td>9</td>\n",
       "      <td>150</td>\n",
       "      <td>1.690631</td>\n",
       "    </tr>\n",
       "  </tbody>\n",
       "</table>\n",
       "</div>"
      ],
      "text/plain": [
       "   UF  Sexo  Idade  Cor  Anos de Estudo  Renda    Altura\n",
       "0  11     0     23    8              12    800  1.603808\n",
       "1  11     1     23    2              12   1150  1.739790\n",
       "2  11     1     35    8              15    880  1.760444\n",
       "3  11     0     46    2               6   3500  1.783158\n",
       "4  11     1     47    8               9    150  1.690631"
      ]
     },
     "execution_count": 14,
     "metadata": {},
     "output_type": "execute_result"
    }
   ],
   "source": [
    "# Vamos importar um arquivo CSV e para isso vamo utilizar o método read_csv que o pandas oferece\n",
    "\n",
    "df = pd.read_csv('base-de-dados/dados.csv') # É necessário passar para ao método a localização do arquivo \n",
    "df.head()"
   ]
  },
  {
   "cell_type": "markdown",
   "id": "949eba62",
   "metadata": {
    "ExecuteTime": {
     "end_time": "2022-10-14T01:29:39.799335Z",
     "start_time": "2022-10-14T01:29:39.793706Z"
    },
    "hidden": true
   },
   "source": [
    "<br>"
   ]
  },
  {
   "cell_type": "markdown",
   "id": "929f4ae9",
   "metadata": {
    "heading_collapsed": true
   },
   "source": [
    "# 🔷 Tipos de dados"
   ]
  },
  {
   "cell_type": "markdown",
   "id": "507cff98",
   "metadata": {
    "heading_collapsed": true,
    "hidden": true
   },
   "source": [
    "## 🔶 Variáveis qualitativas ordinais"
   ]
  },
  {
   "cell_type": "markdown",
   "id": "b2856003",
   "metadata": {
    "hidden": true
   },
   "source": [
    "São variáveis que representam uma qualidade ou atributo de algo e podem ser ordenadas."
   ]
  },
  {
   "cell_type": "code",
   "execution_count": 3,
   "id": "13291063",
   "metadata": {
    "ExecuteTime": {
     "end_time": "2022-12-19T18:57:47.416613Z",
     "start_time": "2022-12-19T18:57:47.412354Z"
    },
    "hidden": true
   },
   "outputs": [
    {
     "data": {
      "text/plain": [
       "[1, 2, 3, 4, 5, 6, 7, 8, 9, 10, 11, 12, 13, 14, 15, 16, 17]"
      ]
     },
     "execution_count": 3,
     "metadata": {},
     "output_type": "execute_result"
    }
   ],
   "source": [
    "# Anos de estudo é uma variável que pode ser considerada qualitativa ordinal\n",
    "# Vamos selecionar a coluna 'Anos de estudo', pegar os valores unicos e coloca-los em ordem crescente\n",
    "\n",
    "sorted(df['Anos de Estudo'].unique())"
   ]
  },
  {
   "cell_type": "markdown",
   "id": "e3a91d5d",
   "metadata": {
    "hidden": true
   },
   "source": [
    " <br>  "
   ]
  },
  {
   "cell_type": "markdown",
   "id": "9777b698",
   "metadata": {
    "heading_collapsed": true,
    "hidden": true
   },
   "source": [
    "## 🔶 Variáveis qualitativas nominais"
   ]
  },
  {
   "cell_type": "markdown",
   "id": "6963914d",
   "metadata": {
    "hidden": true
   },
   "source": [
    "São variáveis que representam um atributo ou uma qualidade de algo e não podem ser ordenadas."
   ]
  },
  {
   "cell_type": "code",
   "execution_count": 4,
   "id": "29c08ea0",
   "metadata": {
    "ExecuteTime": {
     "end_time": "2022-12-19T18:57:47.422778Z",
     "start_time": "2022-12-19T18:57:47.418574Z"
    },
    "hidden": true
   },
   "outputs": [
    {
     "data": {
      "text/plain": [
       "array([0, 1])"
      ]
     },
     "execution_count": 4,
     "metadata": {},
     "output_type": "execute_result"
    }
   ],
   "source": [
    "# Sexo é uma variável qualitativa nominal\n",
    "\n",
    "df['Sexo'].unique()"
   ]
  },
  {
   "cell_type": "markdown",
   "id": "77904290",
   "metadata": {
    "hidden": true
   },
   "source": [
    " "
   ]
  },
  {
   "cell_type": "code",
   "execution_count": 5,
   "id": "c91290f1",
   "metadata": {
    "ExecuteTime": {
     "end_time": "2022-12-19T18:57:47.430227Z",
     "start_time": "2022-12-19T18:57:47.423865Z"
    },
    "hidden": true
   },
   "outputs": [
    {
     "data": {
      "text/plain": [
       "array([11, 12, 13, 14, 15, 16, 17, 21, 22, 23, 24, 25, 26, 27, 28, 29, 31,\n",
       "       32, 33, 35, 41, 42, 43, 50, 51, 52, 53])"
      ]
     },
     "execution_count": 5,
     "metadata": {},
     "output_type": "execute_result"
    }
   ],
   "source": [
    "# UF de estudo é uma variável qualitativa nominal\n",
    "\n",
    "df['UF'].unique()"
   ]
  },
  {
   "cell_type": "markdown",
   "id": "ffd94a70",
   "metadata": {
    "hidden": true
   },
   "source": [
    " "
   ]
  },
  {
   "cell_type": "code",
   "execution_count": 6,
   "id": "ad31e4e5",
   "metadata": {
    "ExecuteTime": {
     "end_time": "2022-12-19T18:57:47.436930Z",
     "start_time": "2022-12-19T18:57:47.431763Z"
    },
    "hidden": true
   },
   "outputs": [
    {
     "data": {
      "text/plain": [
       "array([8, 2, 4, 6, 0])"
      ]
     },
     "execution_count": 6,
     "metadata": {},
     "output_type": "execute_result"
    }
   ],
   "source": [
    "# Cor de estudo é uma variável qualitativa nominal\n",
    "\n",
    "df['Cor'].unique()"
   ]
  },
  {
   "cell_type": "markdown",
   "id": "2c4e70c8",
   "metadata": {
    "hidden": true
   },
   "source": [
    " <br>"
   ]
  },
  {
   "cell_type": "markdown",
   "id": "7b9cd7ec",
   "metadata": {
    "heading_collapsed": true,
    "hidden": true
   },
   "source": [
    "## 🔶 Variáveis quantitativas discretas"
   ]
  },
  {
   "cell_type": "markdown",
   "id": "df4a6506",
   "metadata": {
    "hidden": true
   },
   "source": [
    "As variáveis quantitativas discretas representam numeros inteiros, dados extraidos a partir da contagem. "
   ]
  },
  {
   "cell_type": "code",
   "execution_count": 7,
   "id": "0549cc34",
   "metadata": {
    "ExecuteTime": {
     "end_time": "2022-12-19T18:57:47.444019Z",
     "start_time": "2022-12-19T18:57:47.438672Z"
    },
    "hidden": true
   },
   "outputs": [
    {
     "data": {
      "text/plain": [
       "0        23\n",
       "1        23\n",
       "2        35\n",
       "3        46\n",
       "4        47\n",
       "         ..\n",
       "76835    46\n",
       "76836    30\n",
       "76837    32\n",
       "76838    57\n",
       "76839    38\n",
       "Name: Idade, Length: 76840, dtype: int64"
      ]
     },
     "execution_count": 7,
     "metadata": {},
     "output_type": "execute_result"
    }
   ],
   "source": [
    "# Outra forma de selecionar uma coluna de um dataframe\n",
    "\n",
    "df.Idade"
   ]
  },
  {
   "cell_type": "markdown",
   "id": "8f4369ae",
   "metadata": {
    "hidden": true
   },
   "source": [
    " "
   ]
  },
  {
   "cell_type": "code",
   "execution_count": 8,
   "id": "73819684",
   "metadata": {
    "ExecuteTime": {
     "end_time": "2022-12-19T18:57:47.449777Z",
     "start_time": "2022-12-19T18:57:47.445822Z"
    },
    "hidden": true
   },
   "outputs": [
    {
     "name": "stdout",
     "output_type": "stream",
     "text": [
      "Idade minima 13\n",
      "Idade maxima 99\n"
     ]
    }
   ],
   "source": [
    "# Min e max da coluna Idade\n",
    "\n",
    "print(f'Idade minima {df.Idade.min()}')\n",
    "print(f'Idade maxima {df.Idade.max()}')"
   ]
  },
  {
   "cell_type": "markdown",
   "id": "7483790e",
   "metadata": {
    "hidden": true
   },
   "source": [
    " "
   ]
  },
  {
   "cell_type": "markdown",
   "id": "0fcbc9ff",
   "metadata": {
    "hidden": true
   },
   "source": [
    "\n",
    "### <font color='orange'>Observação<font>\n",
    "    \n",
    "A variável _**idade**_ pode ser classificada de três formas distintas:\n",
    "\n",
    "- **1.Quantitativa discreta**: quando representa números completos.\n",
    "- **2.Quantitativa continua**: quando representa a idade exata, sendo representada por frações de anos.\n",
    "- **3.Qualitativa ordinal**: quando representa faixas de idade.\n",
    "    "
   ]
  },
  {
   "cell_type": "markdown",
   "id": "7c625e1a",
   "metadata": {
    "hidden": true
   },
   "source": [
    " <br>"
   ]
  },
  {
   "cell_type": "markdown",
   "id": "a839620b",
   "metadata": {
    "heading_collapsed": true,
    "hidden": true
   },
   "source": [
    "## 🔶 Variáveis quantitativas continuas"
   ]
  },
  {
   "cell_type": "markdown",
   "id": "93bf7be7",
   "metadata": {
    "hidden": true
   },
   "source": [
    "Variáveis que representam a mensuração de algo, valores com casas decimais."
   ]
  },
  {
   "cell_type": "code",
   "execution_count": 9,
   "id": "143b8284",
   "metadata": {
    "ExecuteTime": {
     "end_time": "2022-12-19T18:57:47.456898Z",
     "start_time": "2022-12-19T18:57:47.451343Z"
    },
    "hidden": true,
    "scrolled": true
   },
   "outputs": [
    {
     "data": {
      "text/plain": [
       "0        1.603808\n",
       "1        1.739790\n",
       "2        1.760444\n",
       "3        1.783158\n",
       "4        1.690631\n",
       "           ...   \n",
       "76835    1.687030\n",
       "76836    1.792934\n",
       "76837    1.830587\n",
       "76838    1.726344\n",
       "76839    1.658305\n",
       "Name: Altura, Length: 76840, dtype: float64"
      ]
     },
     "execution_count": 9,
     "metadata": {},
     "output_type": "execute_result"
    }
   ],
   "source": [
    "df['Altura']"
   ]
  },
  {
   "cell_type": "markdown",
   "id": "3d64943c",
   "metadata": {
    "hidden": true
   },
   "source": [
    " "
   ]
  },
  {
   "cell_type": "code",
   "execution_count": 10,
   "id": "91549104",
   "metadata": {
    "ExecuteTime": {
     "end_time": "2022-12-19T18:57:47.464371Z",
     "start_time": "2022-12-19T18:57:47.459995Z"
    },
    "hidden": true
   },
   "outputs": [
    {
     "name": "stdout",
     "output_type": "stream",
     "text": [
      "Altura minima 1.3\n",
      "Altura maxima 2.0\n"
     ]
    }
   ],
   "source": [
    "# Min e max da coluna Altura\n",
    "\n",
    "print(f'Altura minima {df[\"Altura\"].min():.1f}')\n",
    "print(f'Altura maxima {df[\"Altura\"].max():.1f}')"
   ]
  },
  {
   "cell_type": "markdown",
   "id": "65083c75",
   "metadata": {
    "hidden": true
   },
   "source": [
    " "
   ]
  },
  {
   "cell_type": "markdown",
   "id": "e01945de",
   "metadata": {
    "heading_collapsed": true
   },
   "source": [
    "# 🔷 Distribuição de frequência"
   ]
  },
  {
   "cell_type": "markdown",
   "id": "a76c6db6",
   "metadata": {
    "hidden": true
   },
   "source": [
    "O primeiro passo em um trabalho de análise é descobri o comportamento das variáveis envolvidas no estudo. Podemos fazer isso utilizando técnicas estatísticas como as análises das **DISTRIBUIÇÕES DE FREQUÊNCIAS** e **HISTOGRAMAS**. Devido a isso podemos avaliar melhor a forma como os fenômenos do estudo se distribuem."
   ]
  },
  {
   "cell_type": "markdown",
   "id": "65c37d9f",
   "metadata": {
    "heading_collapsed": true,
    "hidden": true
   },
   "source": [
    "## 🔶 Distribuição de frequência para variáveis qualitativas"
   ]
  },
  {
   "cell_type": "markdown",
   "id": "fe89c39c",
   "metadata": {
    "hidden": true
   },
   "source": [
    "Vamos criar uma função para podermos visualisar uma tabela bem organizada que mostre a frequência absoluta e a frequência relativa para cada variável do nosso dataset.\n",
    "\n",
    "**FREQUÊNCIA ABSOLUTA**: É a quantidade de vezes que cada valor de uma variável se repete.<br>\n",
    "**FREQUENCIA RELATIVA**: É a frequência absoluta expressa em porcentagem."
   ]
  },
  {
   "cell_type": "code",
   "execution_count": 11,
   "id": "5156a3c3",
   "metadata": {
    "ExecuteTime": {
     "end_time": "2022-12-19T18:57:47.469472Z",
     "start_time": "2022-12-19T18:57:47.465828Z"
    },
    "hidden": true
   },
   "outputs": [],
   "source": [
    "def tabela(coluna, indice):\n",
    "    # coluna: deve ser uma coluna do dataset que corresponda a uma variável qualitativa\n",
    "    # indice: deve ser um dicionário especificando com o código e o valor que esse código representa\n",
    "    \n",
    "    # Importando a lib pandas para que essa função funcione em qualquer arquivo.py ou ipynb\n",
    "    import pandas as pd\n",
    "    \n",
    "    # Descobrindo a frequencia absoluta e relativa de cada valor da coluna\n",
    "    freq_absoluta = coluna.value_counts()\n",
    "    freq_relativa = round(coluna.value_counts(normalize=True) * 100, 2)\n",
    "    \n",
    "    # Vamos criar um dataframe para uma melhor visualisação dessas informações\n",
    "    df = pd.DataFrame({'Freq_absoluta':freq_absoluta, 'Freq_relativa  (%)':freq_relativa})\n",
    "    \n",
    "    # Trocando o indice label das linhas \n",
    "    df.rename(index=indice, inplace=True)\n",
    "    \n",
    "    # Atribuindo um nome para a coluna de índice das linhas\n",
    "    df.rename_axis(coluna.name, axis='columns', inplace=True)\n",
    "    \n",
    "    return df"
   ]
  },
  {
   "cell_type": "markdown",
   "id": "8cc5b3f8",
   "metadata": {
    "hidden": true
   },
   "source": [
    " <br>"
   ]
  },
  {
   "cell_type": "markdown",
   "id": "49a0559a",
   "metadata": {
    "hidden": true
   },
   "source": [
    "Vamos ver as frequências da coluna 'Sexo' do nosso dataset"
   ]
  },
  {
   "cell_type": "code",
   "execution_count": 12,
   "id": "7475811d",
   "metadata": {
    "ExecuteTime": {
     "end_time": "2022-12-19T18:57:47.480343Z",
     "start_time": "2022-12-19T18:57:47.470903Z"
    },
    "hidden": true,
    "scrolled": true
   },
   "outputs": [
    {
     "data": {
      "text/html": [
       "<div>\n",
       "<style scoped>\n",
       "    .dataframe tbody tr th:only-of-type {\n",
       "        vertical-align: middle;\n",
       "    }\n",
       "\n",
       "    .dataframe tbody tr th {\n",
       "        vertical-align: top;\n",
       "    }\n",
       "\n",
       "    .dataframe thead th {\n",
       "        text-align: right;\n",
       "    }\n",
       "</style>\n",
       "<table border=\"1\" class=\"dataframe\">\n",
       "  <thead>\n",
       "    <tr style=\"text-align: right;\">\n",
       "      <th>Sexo</th>\n",
       "      <th>Freq_absoluta</th>\n",
       "      <th>Freq_relativa  (%)</th>\n",
       "    </tr>\n",
       "  </thead>\n",
       "  <tbody>\n",
       "    <tr>\n",
       "      <th>Masculino</th>\n",
       "      <td>53250</td>\n",
       "      <td>69.3</td>\n",
       "    </tr>\n",
       "    <tr>\n",
       "      <th>Feminino</th>\n",
       "      <td>23590</td>\n",
       "      <td>30.7</td>\n",
       "    </tr>\n",
       "  </tbody>\n",
       "</table>\n",
       "</div>"
      ],
      "text/plain": [
       "Sexo       Freq_absoluta  Freq_relativa  (%)\n",
       "Masculino          53250                69.3\n",
       "Feminino           23590                30.7"
      ]
     },
     "execution_count": 12,
     "metadata": {},
     "output_type": "execute_result"
    }
   ],
   "source": [
    "tabela(coluna=df['Sexo'], indice={0: 'Masculino', 1:'Feminino'})"
   ]
  },
  {
   "cell_type": "markdown",
   "id": "b7d37b50",
   "metadata": {
    "hidden": true
   },
   "source": [
    " <br>"
   ]
  },
  {
   "cell_type": "markdown",
   "id": "429cd047",
   "metadata": {
    "hidden": true
   },
   "source": [
    "Vamos ver as frequências da coluna 'Cor' do nosso dataset"
   ]
  },
  {
   "cell_type": "code",
   "execution_count": 13,
   "id": "83341e4c",
   "metadata": {
    "ExecuteTime": {
     "end_time": "2022-12-19T18:57:47.490456Z",
     "start_time": "2022-12-19T18:57:47.482045Z"
    },
    "hidden": true
   },
   "outputs": [
    {
     "data": {
      "text/html": [
       "<div>\n",
       "<style scoped>\n",
       "    .dataframe tbody tr th:only-of-type {\n",
       "        vertical-align: middle;\n",
       "    }\n",
       "\n",
       "    .dataframe tbody tr th {\n",
       "        vertical-align: top;\n",
       "    }\n",
       "\n",
       "    .dataframe thead th {\n",
       "        text-align: right;\n",
       "    }\n",
       "</style>\n",
       "<table border=\"1\" class=\"dataframe\">\n",
       "  <thead>\n",
       "    <tr style=\"text-align: right;\">\n",
       "      <th>Cor</th>\n",
       "      <th>Freq_absoluta</th>\n",
       "      <th>Freq_relativa  (%)</th>\n",
       "    </tr>\n",
       "  </thead>\n",
       "  <tbody>\n",
       "    <tr>\n",
       "      <th>Parda</th>\n",
       "      <td>35925</td>\n",
       "      <td>46.75</td>\n",
       "    </tr>\n",
       "    <tr>\n",
       "      <th>Branca</th>\n",
       "      <td>31815</td>\n",
       "      <td>41.40</td>\n",
       "    </tr>\n",
       "    <tr>\n",
       "      <th>Preta</th>\n",
       "      <td>8391</td>\n",
       "      <td>10.92</td>\n",
       "    </tr>\n",
       "    <tr>\n",
       "      <th>Indigena</th>\n",
       "      <td>357</td>\n",
       "      <td>0.46</td>\n",
       "    </tr>\n",
       "    <tr>\n",
       "      <th>Amarela</th>\n",
       "      <td>352</td>\n",
       "      <td>0.46</td>\n",
       "    </tr>\n",
       "  </tbody>\n",
       "</table>\n",
       "</div>"
      ],
      "text/plain": [
       "Cor       Freq_absoluta  Freq_relativa  (%)\n",
       "Parda             35925               46.75\n",
       "Branca            31815               41.40\n",
       "Preta              8391               10.92\n",
       "Indigena            357                0.46\n",
       "Amarela             352                0.46"
      ]
     },
     "execution_count": 13,
     "metadata": {},
     "output_type": "execute_result"
    }
   ],
   "source": [
    "tabela(coluna=df['Cor'], indice={0: 'Indigena', 2:'Branca', 4:'Preta', 6:'Amarela', 8:'Parda'})"
   ]
  },
  {
   "cell_type": "markdown",
   "id": "7fd54fbc",
   "metadata": {
    "hidden": true
   },
   "source": [
    " <br>"
   ]
  },
  {
   "cell_type": "markdown",
   "id": "afb825ab",
   "metadata": {
    "heading_collapsed": true,
    "hidden": true
   },
   "source": [
    "## 🔶 Cruzando os dados"
   ]
  },
  {
   "cell_type": "markdown",
   "id": "e5e536a9",
   "metadata": {
    "hidden": true
   },
   "source": [
    "Agora vamos aprender a fazer um cruzamento entre dados usando a função **crosstab** do pandas. Em um primeiro momento vamos descobrir a frequência absoluta, frequência relativa, renda média e idade média separando os dados em grupos de acordo com sexo e cor."
   ]
  },
  {
   "cell_type": "code",
   "execution_count": 56,
   "id": "de8bcb2b",
   "metadata": {
    "ExecuteTime": {
     "end_time": "2022-12-27T01:34:34.545939Z",
     "start_time": "2022-12-27T01:34:33.057104Z"
    },
    "hidden": true
   },
   "outputs": [
    {
     "name": "stdout",
     "output_type": "stream",
     "text": [
      "\n",
      "Qual tipo de informação você deseja ver?\n",
      "\n",
      "[0] frequência absoluta \n",
      "[1] frequência relativa\n",
      "[2] renda média\n",
      "[3] idade média\n",
      "\n",
      "Resposta: 0\n"
     ]
    },
    {
     "data": {
      "text/html": [
       "<div>\n",
       "<style scoped>\n",
       "    .dataframe tbody tr th:only-of-type {\n",
       "        vertical-align: middle;\n",
       "    }\n",
       "\n",
       "    .dataframe tbody tr th {\n",
       "        vertical-align: top;\n",
       "    }\n",
       "\n",
       "    .dataframe thead th {\n",
       "        text-align: right;\n",
       "    }\n",
       "</style>\n",
       "<table border=\"1\" class=\"dataframe\">\n",
       "  <thead>\n",
       "    <tr style=\"text-align: right;\">\n",
       "      <th></th>\n",
       "      <th>Masculino</th>\n",
       "      <th>Feminino</th>\n",
       "    </tr>\n",
       "  </thead>\n",
       "  <tbody>\n",
       "    <tr>\n",
       "      <th>Indigena</th>\n",
       "      <td>256</td>\n",
       "      <td>101</td>\n",
       "    </tr>\n",
       "    <tr>\n",
       "      <th>Branca</th>\n",
       "      <td>22194</td>\n",
       "      <td>9621</td>\n",
       "    </tr>\n",
       "    <tr>\n",
       "      <th>Preta</th>\n",
       "      <td>5502</td>\n",
       "      <td>2889</td>\n",
       "    </tr>\n",
       "    <tr>\n",
       "      <th>Amarela</th>\n",
       "      <td>235</td>\n",
       "      <td>117</td>\n",
       "    </tr>\n",
       "    <tr>\n",
       "      <th>Parda</th>\n",
       "      <td>25063</td>\n",
       "      <td>10862</td>\n",
       "    </tr>\n",
       "  </tbody>\n",
       "</table>\n",
       "</div>"
      ],
      "text/plain": [
       "          Masculino  Feminino\n",
       "Indigena        256       101\n",
       "Branca        22194      9621\n",
       "Preta          5502      2889\n",
       "Amarela         235       117\n",
       "Parda         25063     10862"
      ]
     },
     "execution_count": 56,
     "metadata": {},
     "output_type": "execute_result"
    }
   ],
   "source": [
    "# Vamos criar o nosso dataframe com as frequências absolutas ou relativas de cada grupo de acordo com seu sexo e cor\n",
    "print('\\nQual tipo de informação você deseja ver?')\n",
    "print('''\n",
    "[0] frequência absoluta \n",
    "[1] frequência relativa\n",
    "[2] renda média\n",
    "[3] idade média''')\n",
    "\n",
    "tipo_info = input('\\nResposta: ')\n",
    "\n",
    "\n",
    "freq_tipo = False\n",
    "func = None\n",
    "val = None\n",
    "\n",
    "\n",
    "if tipo_info == '1':\n",
    "    freq_tipo = True\n",
    "elif tipo_info == '2':\n",
    "    func = 'mean'\n",
    "    val = df['Renda']\n",
    "elif tipo_info == '3':\n",
    "    func = 'mean'\n",
    "    val = df['Idade']\n",
    "    \n",
    "\n",
    "df_info = pd.crosstab(index= df['Cor'], \n",
    "                      columns= df['Sexo'], \n",
    "                      normalize= freq_tipo, \n",
    "                      aggfunc= func, \n",
    "                      values= val)\n",
    "\n",
    "if tipo_info == '1':\n",
    "    df_info = df_info*100\n",
    "\n",
    "# Vamos renomear os indices das linhas e das colunas para ficar visivelmente mais agradável\n",
    "df_info.rename(index={0: 'Indigena', 2:'Branca', 4:'Preta', 6:'Amarela', 8:'Parda', 9:'Sem declaração'},\n",
    "          columns={0: 'Masculino', 1:'Feminino'},\n",
    "          inplace=True)\n",
    "\n",
    "# Retirando o rótulo dos eixos do dataframe\n",
    "df_info.rename_axis(None, axis='columns', inplace=True)\n",
    "df_info.rename_axis(None, axis='rows', inplace=True)\n",
    "\n",
    "# Mostrando o dataframe \n",
    "round(df_info, 3)"
   ]
  },
  {
   "cell_type": "markdown",
   "id": "014940b6",
   "metadata": {
    "heading_collapsed": true,
    "hidden": true
   },
   "source": [
    "## 🔶 Distribuição de frequência para variáveis quantitativas"
   ]
  },
  {
   "cell_type": "markdown",
   "id": "3c62793c",
   "metadata": {
    "hidden": true
   },
   "source": [
    "Podemos calcular a frequência das variáveis quantitativas de 2 formas. Classificando elas ou não classificando elas."
   ]
  },
  {
   "cell_type": "markdown",
   "id": "ad59b14c",
   "metadata": {
    "heading_collapsed": true,
    "hidden": true
   },
   "source": [
    "### 🔺 Sem classificação"
   ]
  },
  {
   "cell_type": "markdown",
   "id": "305c4eb8",
   "metadata": {
    "hidden": true
   },
   "source": [
    "Para facilitar, vamos pegar a função **tabela** e modificá-la para poder calcular as frequências das variáveis quantitativas do nosso dataset."
   ]
  },
  {
   "cell_type": "code",
   "execution_count": null,
   "id": "35a112b9",
   "metadata": {
    "ExecuteTime": {
     "start_time": "2022-12-19T18:57:46.679Z"
    },
    "hidden": true
   },
   "outputs": [],
   "source": [
    "def tabela(coluna):\n",
    "    # coluna: deve ser uma coluna do dataset que corresponda a uma variável qualitativa\n",
    "    \n",
    "    # Importando a lib pandas para que essa função funcione em qualquer arquivo.py ou ipynb\n",
    "    import pandas as pd\n",
    "    \n",
    "    # Descobrindo a frequencia absoluta e relativa de cada valor da coluna\n",
    "    freq_absoluta = coluna.value_counts()\n",
    "    freq_relativa = round(coluna.value_counts(normalize=True) * 100, 2)\n",
    "    \n",
    "    # Vamos criar um dataframe para uma melhor visualisação dessas informações\n",
    "    df = pd.DataFrame({'Freq_absoluta':freq_absoluta, 'Freq_relativa  (%)':freq_relativa})\n",
    "    \n",
    "    # Atribuindo um nome para a coluna de índice das linhas\n",
    "    df.rename_axis(coluna.name, axis='columns', inplace=True)\n",
    "    \n",
    "    return df"
   ]
  },
  {
   "cell_type": "markdown",
   "id": "4b80829a",
   "metadata": {
    "hidden": true
   },
   "source": [
    "<br>"
   ]
  },
  {
   "cell_type": "markdown",
   "id": "5945ea5b",
   "metadata": {
    "hidden": true
   },
   "source": [
    "Vamos calcular as frequências da coluna 'Renda' do nosso dataset sem classificá-la."
   ]
  },
  {
   "cell_type": "code",
   "execution_count": null,
   "id": "973e0a6c",
   "metadata": {
    "ExecuteTime": {
     "start_time": "2022-12-19T18:57:46.683Z"
    },
    "hidden": true
   },
   "outputs": [],
   "source": [
    "tabela(df['Renda']).head(10) #O metodo head serve para visualisar as n primeiras linhas de um dataframe, o padrão é 5"
   ]
  },
  {
   "cell_type": "markdown",
   "id": "e2ffb547",
   "metadata": {
    "hidden": true
   },
   "source": [
    " <br>"
   ]
  },
  {
   "cell_type": "markdown",
   "id": "6e0980bc",
   "metadata": {
    "hidden": true
   },
   "source": [
    "Vamos calcular as frequências da coluna 'Idade' do nosso dataset sem classificá-la."
   ]
  },
  {
   "cell_type": "code",
   "execution_count": null,
   "id": "0f0cff70",
   "metadata": {
    "ExecuteTime": {
     "start_time": "2022-12-19T18:57:46.686Z"
    },
    "hidden": true
   },
   "outputs": [],
   "source": [
    "tabela(df['Idade']).head(10)"
   ]
  },
  {
   "cell_type": "markdown",
   "id": "264174eb",
   "metadata": {
    "hidden": true
   },
   "source": [
    " <br>"
   ]
  },
  {
   "cell_type": "markdown",
   "id": "1898434c",
   "metadata": {
    "heading_collapsed": true,
    "hidden": true
   },
   "source": [
    "### 🔺 Classificando as variáveis quantitativas"
   ]
  },
  {
   "cell_type": "markdown",
   "id": "204f894d",
   "metadata": {
    "hidden": true
   },
   "source": [
    "Vamos pegar a coluna 'Renda' e classificá-la com base nas classes sociais.\n",
    "\n",
    "<font color=orange> **Passo 1**<font>\n",
    "\n",
    "Especificar os limites de cada classe. Usamero a seguinte classificação:\n",
    "\n",
    "**A** >> Acima de 20 SM<br>\n",
    "**C** >> De 10 a 20 SM<br>\n",
    "**C** >> De 4 a 10 SM<br>\n",
    "**D** >> De 2 a 4 SM<br>\n",
    "**E** >> Até 2 SM<br>\n",
    "\n",
    "Onde **SM** é o salário minino da época. No nosso caso **R$ 788,00** (**2015**)\n",
    "\n",
    "**A** >> Acima de 15.760<br>\n",
    "**C** >> De 7.880 a 15.760 SM<br>\n",
    "**C** >> De 3.152 a 7.880 SM<br>\n",
    "**D** >> De 1.576 a 3.152 SM<br>\n",
    "**E** >> Até 1.576 SM<br>"
   ]
  },
  {
   "cell_type": "markdown",
   "id": "e4aedac7",
   "metadata": {
    "hidden": true
   },
   "source": [
    " "
   ]
  },
  {
   "cell_type": "markdown",
   "id": "77be6591",
   "metadata": {
    "hidden": true
   },
   "source": [
    "<font color=orange> **Passo 2**<font>\n",
    "\n",
    "Descobrir o valor máximo e minimo da nossa 'Renda'."
   ]
  },
  {
   "cell_type": "code",
   "execution_count": null,
   "id": "3b733baf",
   "metadata": {
    "ExecuteTime": {
     "start_time": "2022-12-19T18:57:46.691Z"
    },
    "hidden": true
   },
   "outputs": [],
   "source": [
    "maximo = df['Renda'].max()\n",
    "minimo = df['Renda'].min()\n",
    "\n",
    "print(maximo)\n",
    "print(minimo)"
   ]
  },
  {
   "cell_type": "markdown",
   "id": "d9e3db30",
   "metadata": {
    "hidden": true
   },
   "source": [
    " <br>"
   ]
  },
  {
   "cell_type": "markdown",
   "id": "e3484bd1",
   "metadata": {
    "hidden": true
   },
   "source": [
    "Criar uma lista com o minimo, o maximo e os limites de cada classe. E também vamos criar os labels do nosso dataframe."
   ]
  },
  {
   "cell_type": "code",
   "execution_count": null,
   "id": "85750cb1",
   "metadata": {
    "ExecuteTime": {
     "start_time": "2022-12-19T18:57:46.695Z"
    },
    "hidden": true
   },
   "outputs": [],
   "source": [
    "limites = [minimo, 1576, 3152, 7880, 15760, maximo]\n",
    "classes = ['E', 'D', 'C', 'B', 'A']"
   ]
  },
  {
   "cell_type": "markdown",
   "id": "7e66e679",
   "metadata": {
    "hidden": true
   },
   "source": [
    " <br> "
   ]
  },
  {
   "cell_type": "markdown",
   "id": "4e73c97b",
   "metadata": {
    "hidden": true
   },
   "source": [
    "Vamos usar o método cut do pandas para criar essa classificação."
   ]
  },
  {
   "cell_type": "code",
   "execution_count": null,
   "id": "ad4d46f2",
   "metadata": {
    "ExecuteTime": {
     "start_time": "2022-12-19T18:57:46.698Z"
    },
    "hidden": true
   },
   "outputs": [],
   "source": [
    "import pandas as pd\n",
    "x = pd.cut(x= df['Renda'],       # a coluna que desejamos classificar\n",
    "           bins= limites,        # os limites que definem a classificação\n",
    "           labels= classes,      # serve para indicar qual tipo de classe a pessoa se encaixa\n",
    "           include_lowest= True  # por padrão esse método não contabiliza as linhas que tem o mesmo valor que o valor minimo    \n",
    ")                                # colocamos True para que o pandas passe a contabilizar essas linhas"
   ]
  },
  {
   "cell_type": "markdown",
   "id": "13f6972f",
   "metadata": {
    "hidden": true
   },
   "source": [
    " <br> "
   ]
  },
  {
   "cell_type": "markdown",
   "id": "c5c0b76d",
   "metadata": {
    "hidden": true
   },
   "source": [
    "Agora vamos calcular a frequência absoluta e relativa como ja fizemos antes."
   ]
  },
  {
   "cell_type": "code",
   "execution_count": null,
   "id": "64df485b",
   "metadata": {
    "ExecuteTime": {
     "start_time": "2022-12-19T18:57:46.701Z"
    },
    "hidden": true
   },
   "outputs": [],
   "source": [
    "# calculando a frequencia absoluta e relativa\n",
    "freq_absoluta = x.value_counts()\n",
    "freq_relativa = round(x.value_counts(normalize=True)*100,2)\n",
    "\n",
    "# criando o dataframe para uma melhor visualização das informações\n",
    "df_frequencias = pd.DataFrame({'Freq_absoluta':freq_absoluta, 'Freq_relativa  (%)':freq_relativa})\n",
    "\n",
    "# adicionando um rotulo para a coluna de indices\n",
    "df_frequencias.rename_axis('Classes', axis=1, inplace=True)\n",
    "\n",
    "# ordenando o as colunas pelo indice\n",
    "df_frequencias.sort_index(ascending=False)"
   ]
  },
  {
   "cell_type": "markdown",
   "id": "b0ad5b72",
   "metadata": {
    "heading_collapsed": true,
    "hidden": true
   },
   "source": [
    "### 🔺 Regra de Sturges"
   ]
  },
  {
   "cell_type": "markdown",
   "id": "dcb12110",
   "metadata": {
    "hidden": true
   },
   "source": [
    "As vezes podemos encontrar variáveis quantitativas que não possuem uma classificação definida que nem no exemplo passado, aonde usamos as classes sociais. Por isso existe uma formula que nos ajuda a criarmos essas classificações, **a regra de sturges**.\n",
    "\n",
    "Essa regra basicamente nos diz aproximadamente a quantidade de classes que devemos criar para ter um melhor entendimento dos dados. As classes devem ter uma aplitude fixa, ou seja, a razão de uma classe para outra deve ser igual."
   ]
  },
  {
   "cell_type": "markdown",
   "id": "38e51a3b",
   "metadata": {
    "hidden": true
   },
   "source": [
    "\n",
    "# $$k = 1 + \\frac {10}{3}\\log_{10}n$$"
   ]
  },
  {
   "cell_type": "markdown",
   "id": "5cb8db28",
   "metadata": {
    "hidden": true
   },
   "source": [
    "Para aplicarmos essa regra ná prática precisaremos importar a lib numpy."
   ]
  },
  {
   "cell_type": "code",
   "execution_count": null,
   "id": "68c58b84",
   "metadata": {
    "ExecuteTime": {
     "start_time": "2022-12-19T18:57:46.705Z"
    },
    "hidden": true
   },
   "outputs": [],
   "source": [
    "import numpy as np"
   ]
  },
  {
   "cell_type": "code",
   "execution_count": null,
   "id": "f224eaea",
   "metadata": {
    "ExecuteTime": {
     "start_time": "2022-12-19T18:57:46.707Z"
    },
    "hidden": true
   },
   "outputs": [],
   "source": [
    "# o n da formula seria a quantidade de valores que temos sobre uma variável, ou seja, a quantidade de linhas.\n",
    "n = df.shape[0]\n",
    "\n",
    "# construido o cálculo\n",
    "k = 1 + (10/3) * np.log10(n)\n",
    "\n",
    "k  "
   ]
  },
  {
   "cell_type": "markdown",
   "id": "fdc313c2",
   "metadata": {
    "hidden": true
   },
   "source": [
    " "
   ]
  },
  {
   "cell_type": "markdown",
   "id": "48595efc",
   "metadata": {
    "hidden": true
   },
   "source": [
    "Como não é possivel criar 17,28 classes, iremos arredondar o numero para dar continuidade."
   ]
  },
  {
   "cell_type": "code",
   "execution_count": null,
   "id": "c83c4069",
   "metadata": {
    "ExecuteTime": {
     "start_time": "2022-12-19T18:57:46.710Z"
    },
    "hidden": true
   },
   "outputs": [],
   "source": [
    "k = int(k.round(0))\n",
    "k"
   ]
  },
  {
   "cell_type": "markdown",
   "id": "bc866878",
   "metadata": {
    "hidden": true
   },
   "source": [
    " "
   ]
  },
  {
   "cell_type": "markdown",
   "id": "9beb96b6",
   "metadata": {
    "hidden": true
   },
   "source": [
    "Agora nós iremos fazer o que já fizemos anteriormente, vamos criar uma tabela que mostra a distribuição dos dados de acordo com as 17 classes."
   ]
  },
  {
   "cell_type": "code",
   "execution_count": null,
   "id": "4bcc59f8",
   "metadata": {
    "ExecuteTime": {
     "start_time": "2022-12-19T18:57:46.714Z"
    },
    "hidden": true
   },
   "outputs": [],
   "source": [
    "# Criando a classificação\n",
    "clas = pd.cut(x= df['Renda'],       # a coluna que desejamos classificar\n",
    "              bins= k,              # a quantidade de classes\n",
    "              include_lowest= True  # por padrão esse método não contabiliza as linhas que tem o mesmo valor que o valor minimo    \n",
    "                                    # colocamos True para que o pandas passe a contabilizar essas linhas.  \n",
    ")                     \n",
    "        \n",
    "# Calculando a frequencia absoluta e relativa\n",
    "freq_absoluta = clas.value_counts(sort=False)\n",
    "freq_relativa = (clas.value_counts(sort=False, normalize=True) * 100).round(3)\n",
    "\n",
    "# Criando o dataframe para uma melhor visualização das informações\n",
    "df_frequencias = pd.DataFrame({'Freq. absoluta':freq_absoluta, 'Freq. relativa (%)':freq_relativa})\n",
    "\n",
    "# Adicionando um rotulo para a coluna de indices\n",
    "df_frequencias.rename_axis('Faixa de renda', axis='columns', inplace= True)\n",
    "\n",
    "# Mostrando o df\n",
    "df_frequencias"
   ]
  },
  {
   "cell_type": "markdown",
   "id": "e995ca1d",
   "metadata": {
    "heading_collapsed": true,
    "hidden": true
   },
   "source": [
    "## 🔶 Histograma\n"
   ]
  },
  {
   "cell_type": "markdown",
   "id": "40c710fc",
   "metadata": {
    "hidden": true
   },
   "source": [
    "Um histograma é um gráfico que serve para representar uma distribuição de frequência. É um gráfico formado por um grupo de retângulos colocados lado a lado, onde a área de cada retângulo é proporcional à frequência da classe que ele representa."
   ]
  },
  {
   "cell_type": "markdown",
   "id": "a3794566",
   "metadata": {
    "hidden": true
   },
   "source": [
    "Para criar um histograma no pytthon vamos importar a biblioteca **seaborn**."
   ]
  },
  {
   "cell_type": "code",
   "execution_count": null,
   "id": "a83f904c",
   "metadata": {
    "ExecuteTime": {
     "start_time": "2022-12-19T18:57:46.717Z"
    },
    "hidden": true
   },
   "outputs": [],
   "source": [
    "import seaborn as sns"
   ]
  },
  {
   "cell_type": "markdown",
   "id": "a6df77d9",
   "metadata": {
    "hidden": true
   },
   "source": [
    " "
   ]
  },
  {
   "cell_type": "markdown",
   "id": "68fd48c9",
   "metadata": {
    "hidden": true
   },
   "source": [
    "Vamos criar o histograma com base na coluna 'Altura' do nosso dataset."
   ]
  },
  {
   "cell_type": "code",
   "execution_count": null,
   "id": "22db197a",
   "metadata": {
    "ExecuteTime": {
     "start_time": "2022-12-19T18:57:46.720Z"
    },
    "hidden": true
   },
   "outputs": [],
   "source": [
    "# criando o histograma\n",
    "ax = sns.histplot(\n",
    "    data=df['Altura'], # a coluna que usaremos\n",
    "    kde=True           # serve para adicionar ao histograma uma linha de densidade\n",
    ")\n",
    "\n",
    "# configurando o tamanho do gráfico\n",
    "ax.figure.set_size_inches(11, 6)\n",
    "\n",
    "# adicionando um titulo para o gráfico\n",
    "ax.set_title('Distibruição de frequências - Altura', fontsize=18)\n",
    "\n",
    "# adicionando um nome para o eixo x e y\n",
    "ax.set_xlabel('Metros', fontsize=14, labelpad=20)\n",
    "ax.set_ylabel('Quantidade', fontsize=14, labelpad=20)"
   ]
  },
  {
   "cell_type": "markdown",
   "id": "6a509c2a",
   "metadata": {
    "heading_collapsed": true
   },
   "source": [
    "# 🔷 Medidas de têndencia central"
   ]
  },
  {
   "cell_type": "markdown",
   "id": "dc2e26de",
   "metadata": {
    "heading_collapsed": true,
    "hidden": true
   },
   "source": [
    "## 🔶 Média aritmética"
   ]
  },
  {
   "cell_type": "markdown",
   "id": "3d262b19",
   "metadata": {
    "hidden": true
   },
   "source": [
    "A média aritmética nada mais é que o somatório de todas as observações de uma determinada variável divido pela quantidade de observações feitas. Nem sempre a média vai representar bem um conjunto de dados, pois valores muito baixo ou muito alto pode influenciar o resultado da média, levandoa conclusões errôneas."
   ]
  },
  {
   "cell_type": "markdown",
   "id": "784af559",
   "metadata": {
    "hidden": true
   },
   "source": [
    "Vamos calcular a média da coluna 'Renda'."
   ]
  },
  {
   "cell_type": "code",
   "execution_count": null,
   "id": "2bdc4671",
   "metadata": {
    "ExecuteTime": {
     "start_time": "2022-12-19T18:57:46.724Z"
    },
    "hidden": true
   },
   "outputs": [],
   "source": [
    "print(f'A média é {df[\"Renda\"].mean()}')"
   ]
  },
  {
   "cell_type": "markdown",
   "id": "6bc2ea48",
   "metadata": {
    "hidden": true
   },
   "source": [
    " "
   ]
  },
  {
   "cell_type": "markdown",
   "id": "c41d0e50",
   "metadata": {
    "hidden": true
   },
   "source": [
    "Vamos calcular a 'Renda' média por 'Sexo'."
   ]
  },
  {
   "cell_type": "code",
   "execution_count": null,
   "id": "204cb4c5",
   "metadata": {
    "ExecuteTime": {
     "start_time": "2022-12-19T18:57:46.727Z"
    },
    "hidden": true
   },
   "outputs": [],
   "source": [
    "# Com o poderoso método groupby conseguimos separar os dados de acordo com o Sexo e calcular a Renda média de cada\n",
    "# grupo.\n",
    "\n",
    "renda_media_by_sexo = df.groupby('Sexo')[['Renda']].mean()\n",
    "\n",
    "# renomenado os indices\n",
    "renda_media_by_sexo.rename(index={0: 'Masculino', 1:'Feminino'}, inplace=True)\n",
    "renda_media_by_sexo.rename(columns={'Renda': 'Renda média (R$)'}, inplace=True)\n",
    "\n",
    "# renomenado o eixo\n",
    "renda_media_by_sexo.rename_axis('', axis=0, inplace=True)\n",
    "renda_media_by_sexo.rename_axis('Sexo', axis=1, inplace=True)\n",
    "\n",
    "# mostrando o df\n",
    "renda_media_by_sexo"
   ]
  },
  {
   "cell_type": "code",
   "execution_count": null,
   "id": "f00838d1",
   "metadata": {
    "ExecuteTime": {
     "start_time": "2022-12-19T18:57:46.729Z"
    },
    "hidden": true
   },
   "outputs": [],
   "source": [
    "df"
   ]
  },
  {
   "cell_type": "markdown",
   "id": "75ce401b",
   "metadata": {
    "hidden": true
   },
   "source": [
    " "
   ]
  },
  {
   "cell_type": "markdown",
   "id": "205e89cc",
   "metadata": {
    "heading_collapsed": true,
    "hidden": true
   },
   "source": [
    "## 🔶 Mediana"
   ]
  },
  {
   "cell_type": "markdown",
   "id": "98c0b1f0",
   "metadata": {
    "hidden": true
   },
   "source": [
    "A mediana é um numero que divide o seu conjunto de dados em dois grupos, o 1° grupo é composto por 50% dos dados abaixo da mediana e o 2° grupo é composto por 50% dos dados acima da mediana.\n",
    "\n",
    "Para calcular a mediana você precisa seguir esses passo:\n",
    "\n",
    "### 1° passo\n",
    "Organizar os dados em ordem crescente.<br>\n",
    "\n",
    "### 2° passo\n",
    "Identificar o número de observações (registros) do conjunto de dados ($n$)<br>\n",
    "\n",
    "### 3° passo \n",
    "Quando $n$ for ímpar, a posição do elemento mediano será obtida da seguinte forma:\n",
    "\n",
    "# $$Mediana = {nㅤ//ㅤ2}$$\n",
    "<br>\n",
    "\n",
    "Quando $n$ for par, a mediana será a média dos dois elementos centrais do conjunto:\n",
    "\n",
    "# $$Mediana = \\frac{elemento_1 + elemento_2}2$$"
   ]
  },
  {
   "cell_type": "markdown",
   "id": "8567bb3e",
   "metadata": {
    "hidden": true
   },
   "source": [
    " "
   ]
  },
  {
   "cell_type": "markdown",
   "id": "981d9d87",
   "metadata": {
    "hidden": true
   },
   "source": [
    "\n",
    "Segue um exemplo com um conjunto aonde $n$ é ímpar."
   ]
  },
  {
   "cell_type": "code",
   "execution_count": null,
   "id": "b46feca4",
   "metadata": {
    "ExecuteTime": {
     "start_time": "2022-12-19T18:57:46.734Z"
    },
    "hidden": true,
    "scrolled": true
   },
   "outputs": [],
   "source": [
    "# conjunto de dados ímpar\n",
    "dataset = [10, 12, 11, 9, 12, 14, 11, 13, 10]\n",
    "\n",
    "# passo 1\n",
    "dataset = sorted(dataset)\n",
    "\n",
    "# passo 2\n",
    "n = len(dataset)\n",
    "\n",
    "# passo 3\n",
    "posicao = n//2\n",
    "mediana = dataset[posicao]\n",
    "\n",
    "print(f'Dataset ordenado: {dataset}')\n",
    "print(f'A mediana é {mediana}')"
   ]
  },
  {
   "cell_type": "markdown",
   "id": "53e4b580",
   "metadata": {
    "hidden": true
   },
   "source": [
    " "
   ]
  },
  {
   "cell_type": "markdown",
   "id": "81f450a7",
   "metadata": {
    "hidden": true
   },
   "source": [
    "\n",
    "Segue um exemplo com um conjunto aonde $n$ é par."
   ]
  },
  {
   "cell_type": "code",
   "execution_count": null,
   "id": "84708918",
   "metadata": {
    "ExecuteTime": {
     "start_time": "2022-12-19T18:57:46.737Z"
    },
    "hidden": true
   },
   "outputs": [],
   "source": [
    "# conjunto de dados par\n",
    "dataset = [10, 12, 11, 9, 12, 14, 11, 13]\n",
    "\n",
    "# passo 1\n",
    "dataset = sorted(dataset)\n",
    "\n",
    "\n",
    "# passo 2\n",
    "n = len(dataset)\n",
    "\n",
    "# passo 3\n",
    "elemento_1 =  dataset[(n // 2) - 1]\n",
    "elemento_2 =  dataset[(n // 2)]\n",
    "mediana = (elemento_1+elemento_2)/2\n",
    "\n",
    "print(f'Dataset ordenado: {dataset}')\n",
    "print(f'A mediana é {mediana}')"
   ]
  },
  {
   "cell_type": "markdown",
   "id": "db000119",
   "metadata": {
    "hidden": true
   },
   "source": [
    " "
   ]
  },
  {
   "cell_type": "markdown",
   "id": "805373f8",
   "metadata": {
    "hidden": true
   },
   "source": [
    "O pandas disponibiliza o método df.median() que faz todo esse cálculo para nós. Vamos usar esse método para calcular a mediana da coluna 'Renda'."
   ]
  },
  {
   "cell_type": "code",
   "execution_count": null,
   "id": "aa20d29b",
   "metadata": {
    "ExecuteTime": {
     "start_time": "2022-12-19T18:57:46.740Z"
    },
    "hidden": true,
    "scrolled": true
   },
   "outputs": [],
   "source": [
    "print(f'A mediana é {df[\"Renda\"].median()}')"
   ]
  },
  {
   "cell_type": "markdown",
   "id": "a8a63468",
   "metadata": {
    "hidden": true
   },
   "source": [
    " "
   ]
  },
  {
   "cell_type": "markdown",
   "id": "6d51022e",
   "metadata": {
    "heading_collapsed": true,
    "hidden": true
   },
   "source": [
    "## 🔶 Moda"
   ]
  },
  {
   "cell_type": "markdown",
   "id": "37fb05f4",
   "metadata": {
    "hidden": true
   },
   "source": [
    "A moda se defini como sendo o valor que mais se repete no conjunto de dados, quando dois valores diferentes são os mais repetidos do conjunto de dados e tem o mesmo numero de repetições, então temos 2 modas, chamos esse conjunto de bimodal. A moda geralmente é utilizada para dados qualitativos, mas podemos usar também em quantitativos."
   ]
  },
  {
   "cell_type": "markdown",
   "id": "16d496bd",
   "metadata": {
    "hidden": true
   },
   "source": [
    "O pandas nos oferece o método mode() para podermos calcular a moda de um conjunto de dados. Então vamos cálcular a moda das colunas 'Sexo' e 'Renda'."
   ]
  },
  {
   "cell_type": "code",
   "execution_count": null,
   "id": "ec0d0ecd",
   "metadata": {
    "ExecuteTime": {
     "start_time": "2022-12-19T18:57:46.743Z"
    },
    "hidden": true
   },
   "outputs": [],
   "source": [
    "# Calculando a moda do conjunto\n",
    "moda_renda_sexo = df[['Sexo', 'Renda']].mode()\n",
    "\n",
    "# Renomeando alguns indices para deixar o df mais intuitivo\n",
    "moda_renda_sexo['Sexo'][0] = 'Masculino'\n",
    "moda_renda_sexo.rename({0:'Moda'}, inplace=True)\n",
    "\n",
    "# Mostrando o df\n",
    "moda_renda_sexo"
   ]
  },
  {
   "cell_type": "markdown",
   "id": "eea0930c",
   "metadata": {
    "hidden": true
   },
   "source": [
    " <br>"
   ]
  },
  {
   "cell_type": "markdown",
   "id": "2ff07b23",
   "metadata": {
    "heading_collapsed": true,
    "hidden": true
   },
   "source": [
    "## 🔶 Relação entre média, moda e mediana"
   ]
  },
  {
   "cell_type": "markdown",
   "id": "8a4be87c",
   "metadata": {
    "hidden": true
   },
   "source": [
    "<img src='https://caelum-online-public.s3.amazonaws.com/1177-estatistica-parte1/01/img004.png' width='80%'>"
   ]
  },
  {
   "cell_type": "markdown",
   "id": "4366856c",
   "metadata": {
    "hidden": true
   },
   "source": [
    "- Quando temos um conjunto de dados com **assimetria à direita**, como mostra à imagem acima, podemos esperar do conjunto de dados uma **moda** < **mediana** < **média**.<br><br>\n",
    "\n",
    "- Quando temos um conjunto de dados simétrico, podemos esperar do conjunto de dados uma **moda** = **mediana** = **média**.<br><br>\n",
    "\n",
    "- Quando temos um conjunto de dados com **assimetria à esquerda**, como mostra à imagem acima, podemos esperar do conjunto de dados uma **moda** > **mediana** > **média**."
   ]
  },
  {
   "cell_type": "markdown",
   "id": "5e05c1ce",
   "metadata": {
    "hidden": true
   },
   "source": [
    "\n",
    "### Analisando a coluna 'Renda'"
   ]
  },
  {
   "cell_type": "markdown",
   "id": "477f29be",
   "metadata": {
    "hidden": true
   },
   "source": [
    "Agora vamos análisar as medidas de tendência central da coluna 'Renda' para entender em qual tipo de distribuição ela mais se encaixa."
   ]
  },
  {
   "cell_type": "code",
   "execution_count": null,
   "id": "ea70eb31",
   "metadata": {
    "ExecuteTime": {
     "start_time": "2022-12-19T18:57:46.749Z"
    },
    "hidden": true,
    "scrolled": true
   },
   "outputs": [],
   "source": [
    "# Cálculando a moda\n",
    "moda = int(df.Renda.mode())\n",
    "moda"
   ]
  },
  {
   "cell_type": "code",
   "execution_count": null,
   "id": "6485ab56",
   "metadata": {
    "ExecuteTime": {
     "start_time": "2022-12-19T18:57:46.751Z"
    },
    "hidden": true
   },
   "outputs": [],
   "source": [
    "# Calculando a mediana\n",
    "mediana = df.Renda.median()\n",
    "mediana"
   ]
  },
  {
   "cell_type": "code",
   "execution_count": null,
   "id": "fef03ec1",
   "metadata": {
    "ExecuteTime": {
     "start_time": "2022-12-19T18:57:46.752Z"
    },
    "hidden": true
   },
   "outputs": [],
   "source": [
    "# Cálculando média\n",
    "media = df.Renda.mean()\n",
    "media"
   ]
  },
  {
   "cell_type": "markdown",
   "id": "57237f1f",
   "metadata": {
    "hidden": true
   },
   "source": [
    " "
   ]
  },
  {
   "cell_type": "markdown",
   "id": "c468de91",
   "metadata": {
    "hidden": true
   },
   "source": [
    "Depois de calcular as medidas de tenêndia central da coluna 'Renda' podemos observar que a **moda** é menor que a **mediana** que por sua vez é menor que a **média**. Esse padrão nos indica que a distribuição dos dados dessa coluna é bem proximo ou igual á uma **Assimetria á Direita**."
   ]
  },
  {
   "cell_type": "code",
   "execution_count": null,
   "id": "447b0cb3",
   "metadata": {
    "ExecuteTime": {
     "start_time": "2022-12-19T18:57:46.755Z"
    },
    "hidden": true,
    "scrolled": true
   },
   "outputs": [],
   "source": [
    "moda < mediana < media"
   ]
  },
  {
   "cell_type": "markdown",
   "id": "4d72268c",
   "metadata": {
    "hidden": true
   },
   "source": [
    " "
   ]
  },
  {
   "cell_type": "markdown",
   "id": "81ba5b5f",
   "metadata": {
    "hidden": true
   },
   "source": [
    "\n",
    "### Analisando a coluna 'Altura'"
   ]
  },
  {
   "cell_type": "markdown",
   "id": "988cf5bb",
   "metadata": {
    "hidden": true
   },
   "source": [
    "Agora vamos análisar as medidas de tendência central da coluna 'Altura' para entender em qual tipo de distribuição ela mais se encaixa."
   ]
  },
  {
   "cell_type": "code",
   "execution_count": null,
   "id": "2876588e",
   "metadata": {
    "ExecuteTime": {
     "start_time": "2022-12-19T18:57:46.759Z"
    },
    "hidden": true,
    "scrolled": true
   },
   "outputs": [],
   "source": [
    "# Cálculando a moda\n",
    "# Como o conjunto de dados é multimodal, então  calcularemos a media das modas\n",
    "moda = df.Altura.mode().mean()\n",
    "moda"
   ]
  },
  {
   "cell_type": "markdown",
   "id": "e384c5e2",
   "metadata": {
    "hidden": true
   },
   "source": [
    " "
   ]
  },
  {
   "cell_type": "code",
   "execution_count": null,
   "id": "508cfa08",
   "metadata": {
    "ExecuteTime": {
     "start_time": "2022-12-19T18:57:46.761Z"
    },
    "hidden": true
   },
   "outputs": [],
   "source": [
    "# Calculando a mediana\n",
    "mediana = df.Altura.median()\n",
    "mediana"
   ]
  },
  {
   "cell_type": "markdown",
   "id": "e1b198c5",
   "metadata": {
    "hidden": true
   },
   "source": [
    " "
   ]
  },
  {
   "cell_type": "code",
   "execution_count": null,
   "id": "5573410e",
   "metadata": {
    "ExecuteTime": {
     "start_time": "2022-12-19T18:57:46.763Z"
    },
    "hidden": true
   },
   "outputs": [],
   "source": [
    "# Cálculando média\n",
    "media = df.Altura.mean()\n",
    "media"
   ]
  },
  {
   "cell_type": "markdown",
   "id": "7ed3ff85",
   "metadata": {
    "hidden": true
   },
   "source": [
    " "
   ]
  },
  {
   "cell_type": "markdown",
   "id": "1b5af17a",
   "metadata": {
    "hidden": true
   },
   "source": [
    "Depois de calcular as medidas de tendêndia central da coluna 'Altura' podemos observar que a **moda**, a **mediana** e a **média** estão bem próximas, quase iguais. Esse padrão nos indica que a distribuição dos dados dessa coluna é bem proximo ou igual á uma **Distribuição Simétrica**."
   ]
  },
  {
   "cell_type": "code",
   "execution_count": null,
   "id": "d260203f",
   "metadata": {
    "ExecuteTime": {
     "start_time": "2022-12-19T18:57:46.766Z"
    },
    "hidden": true,
    "scrolled": false
   },
   "outputs": [],
   "source": [
    "round(moda, 1) == round(mediana, 1) == round(media, 1)"
   ]
  },
  {
   "cell_type": "markdown",
   "id": "db27d9f9",
   "metadata": {
    "hidden": true
   },
   "source": [
    "\n",
    "### Analisando a coluna 'Anos de estudo'"
   ]
  },
  {
   "cell_type": "markdown",
   "id": "4ce22f3e",
   "metadata": {
    "hidden": true
   },
   "source": [
    "Agora vamos análisar as medidas de tendência central da coluna 'Anos de estudo' para entender em qual tipo de distribuição ela mais se encaixa."
   ]
  },
  {
   "cell_type": "code",
   "execution_count": null,
   "id": "d8dcaa00",
   "metadata": {
    "ExecuteTime": {
     "start_time": "2022-12-19T18:57:46.769Z"
    },
    "hidden": true,
    "scrolled": true
   },
   "outputs": [],
   "source": [
    "# Cálculando a moda\n",
    "# Como o conjunto de dados é multimodal, então  calcularemos a media das modas\n",
    "moda = df['Anos de Estudo'].mode().mean()\n",
    "moda"
   ]
  },
  {
   "cell_type": "code",
   "execution_count": null,
   "id": "d080555e",
   "metadata": {
    "ExecuteTime": {
     "start_time": "2022-12-19T18:57:46.771Z"
    },
    "hidden": true
   },
   "outputs": [],
   "source": [
    "# Calculando a mediana\n",
    "mediana = df['Anos de Estudo'].median()\n",
    "mediana"
   ]
  },
  {
   "cell_type": "code",
   "execution_count": null,
   "id": "ae0f2b39",
   "metadata": {
    "ExecuteTime": {
     "start_time": "2022-12-19T18:57:46.773Z"
    },
    "hidden": true
   },
   "outputs": [],
   "source": [
    "# Cálculando média\n",
    "media = df['Anos de Estudo'].mean()\n",
    "media"
   ]
  },
  {
   "cell_type": "markdown",
   "id": "72ac54d2",
   "metadata": {
    "hidden": true
   },
   "source": [
    " "
   ]
  },
  {
   "cell_type": "markdown",
   "id": "4ba3ee46",
   "metadata": {
    "hidden": true
   },
   "source": [
    "Depois de calcular as medidas de tenêndia central da coluna 'Anos de estudo' podemos observar que a **moda** é maior que a **mediana** que por sua vez é maior que a **média**. Esse padrão nos indica que a distribuição dos dados dessa coluna é bem proximo ou igual á uma **Assimetria á Esquerda**."
   ]
  },
  {
   "cell_type": "code",
   "execution_count": null,
   "id": "b2b87987",
   "metadata": {
    "ExecuteTime": {
     "start_time": "2022-12-19T18:57:46.776Z"
    },
    "hidden": true,
    "scrolled": true
   },
   "outputs": [],
   "source": [
    "moda > mediana > media"
   ]
  },
  {
   "cell_type": "markdown",
   "id": "1e0ae5c0",
   "metadata": {
    "heading_collapsed": true
   },
   "source": [
    "# 🔷 Medidas separatrizes"
   ]
  },
  {
   "cell_type": "markdown",
   "id": "d9e81e7b",
   "metadata": {
    "heading_collapsed": true,
    "hidden": true
   },
   "source": [
    "## 🔶 Quartis, decis e percentis"
   ]
  },
  {
   "cell_type": "markdown",
   "id": "3fb92433",
   "metadata": {
    "hidden": true
   },
   "source": [
    "As medidas sepatrizes são métodos para dividir o conjunto de dados em partes iguais. Essas medidas sã interessantes porque não são influenciadas por valores extremos de uma distribuição. Estes cálculos permitem análises importantes aparti de um ponto de referência.\n",
    "\n",
    "Veremos agora as seguintes medidas:\n",
    "- **Quartis**: os quartis são 3 valores (**Q1**, **Q2** e **Q3**) obtidos através da ordenação e depois a divisão do conjunto de dados em 4 partes iguais. Abaixo do **Q1** estão 25% dos dados. Entre o Q1 e o **Q2** estão mais 25% dos dados. E entre o Q2 e o **Q3** estão mais 25% dos dados. Acima de Q3 se encontram os 25% dos dados restantes.\n",
    "- **Decis**: divide o conjunto de dados em 10 partes iguais.\n",
    "- **Percentis**: divide o conjunto de dados em 100 partes iguais."
   ]
  },
  {
   "cell_type": "markdown",
   "id": "053e3111",
   "metadata": {
    "hidden": true
   },
   "source": [
    " "
   ]
  },
  {
   "cell_type": "markdown",
   "id": "40ff83b1",
   "metadata": {
    "hidden": true
   },
   "source": [
    "Para cálcular os **Quartis** através do pandas, utilizamos o método **quantile()**. Vamos ver um exemplo utlizando a coluna 'Renda' do nosso dataset."
   ]
  },
  {
   "cell_type": "code",
   "execution_count": null,
   "id": "af16526d",
   "metadata": {
    "ExecuteTime": {
     "start_time": "2022-12-19T18:57:46.781Z"
    },
    "hidden": true
   },
   "outputs": [],
   "source": [
    "# Para calcular o primeiro quertil utilizamos o valor 0.25, o segundo quartil o valor 0.50 e o terceiro quartil\n",
    "# o valor 0.75\n",
    "\n",
    "q1 = df['Renda'].quantile(q=0.25)\n",
    "q2 = df['Renda'].quantile(q=0.50)\n",
    "q3 = df['Renda'].quantile(q=0.75)\n",
    "\n",
    "print(q1)\n",
    "print(q2)\n",
    "print(q3)"
   ]
  },
  {
   "cell_type": "code",
   "execution_count": null,
   "id": "a1b4e837",
   "metadata": {
    "ExecuteTime": {
     "start_time": "2022-12-19T18:57:46.783Z"
    },
    "hidden": true,
    "scrolled": true
   },
   "outputs": [],
   "source": [
    "# Para cálcularmos os 3 quartis chamando apenas uma vez o método quantile, devemos passar uma lista com os valores \n",
    "# referente a cada quartil, o retorno dessa operação será uma Series com o valor dos 3 quartis. \n",
    "\n",
    "quartis =  df['Renda'].quantile(q=[0.25, 0.50, 0.75])\n",
    "print(quartis)"
   ]
  },
  {
   "cell_type": "markdown",
   "id": "5c3cdb38",
   "metadata": {
    "hidden": true
   },
   "source": [
    " <br>"
   ]
  },
  {
   "cell_type": "markdown",
   "id": "aab85655",
   "metadata": {
    "hidden": true
   },
   "source": [
    "Calculando os **decis** da coluna 'Renda' utilizando o método **quantile()**."
   ]
  },
  {
   "cell_type": "code",
   "execution_count": null,
   "id": "4fe6f8b1",
   "metadata": {
    "ExecuteTime": {
     "start_time": "2022-12-19T18:57:46.786Z"
    },
    "hidden": true
   },
   "outputs": [],
   "source": [
    "# Para cálcularmos os decis devemos passar uma lista com os valores que representam cada decil.\n",
    "# Os valores são [0.1, 0.2, 0.3, 0.4, 0.5, 0.6, 0.7, 0.8, 0.9]\n",
    "\n",
    "decis = df['Renda'].quantile(q=[i/10 for i in range(1, 10)])\n",
    "decis"
   ]
  },
  {
   "cell_type": "markdown",
   "id": "828c2c27",
   "metadata": {
    "hidden": true
   },
   "source": [
    " <br>"
   ]
  },
  {
   "cell_type": "markdown",
   "id": "8221737f",
   "metadata": {
    "hidden": true
   },
   "source": [
    "Calculando os **percentis** da coluna 'Renda' utilizando o método **quantile()**."
   ]
  },
  {
   "cell_type": "code",
   "execution_count": null,
   "id": "2c381f94",
   "metadata": {
    "ExecuteTime": {
     "start_time": "2022-12-19T18:57:46.789Z"
    },
    "hidden": true
   },
   "outputs": [],
   "source": [
    "# É a mesma lógica que cálcular os decis, porém, em vez de ser 10 valores agora serão 100.\n",
    "\n",
    "percentis = df['Renda'].quantile(q=[i/100 for i in range(1, 100)])\n",
    "percentis"
   ]
  },
  {
   "cell_type": "markdown",
   "id": "88a5e257",
   "metadata": {
    "heading_collapsed": true,
    "hidden": true
   },
   "source": [
    "## 🔶 Boxplot"
   ]
  },
  {
   "cell_type": "markdown",
   "id": "c0121ef9",
   "metadata": {
    "hidden": true
   },
   "source": [
    "O boxplot dá uma uma ideia da posição, dispersão, assimetria, caudas e dados discrepantes. O Q1, a mediana e o Q3 servem para informar os quantiles da distribuição. Enquanto o Q3-Q1 nos informa o IIQ, ou seja, o intervalo interquartil. Os calculos Q1 - 1,5 x IQQ  e Q3 + 1,5 x IQQ servem para definir um limite, onde os dados que se encontram apartir desse limite tem chances de serem outliers."
   ]
  },
  {
   "cell_type": "markdown",
   "id": "f2f02005",
   "metadata": {
    "hidden": true
   },
   "source": [
    "<img src='https://caelum-online-public.s3.amazonaws.com/1177-estatistica-parte1/01/img005.png' width='50%'>"
   ]
  },
  {
   "cell_type": "markdown",
   "id": "64361673",
   "metadata": {
    "hidden": true
   },
   "source": [
    " "
   ]
  },
  {
   "cell_type": "markdown",
   "id": "c8cbfa5d",
   "metadata": {
    "heading_collapsed": true,
    "hidden": true
   },
   "source": [
    "### 🔺 Analise univariada com boxplot"
   ]
  },
  {
   "cell_type": "markdown",
   "id": "ea0a13cf",
   "metadata": {
    "hidden": true
   },
   "source": [
    "Vamos pegar algumas variáveis e visualizar suas distribuições apartir de um boxplot."
   ]
  },
  {
   "cell_type": "code",
   "execution_count": null,
   "id": "fd14375f",
   "metadata": {
    "ExecuteTime": {
     "start_time": "2022-12-19T18:57:46.794Z"
    },
    "hidden": true
   },
   "outputs": [],
   "source": [
    "colunas = ['Altura', 'Renda', 'Idade', 'Anos de Estudo']\n",
    "labels = ['Metros', 'Reais', 'Anos', 'Anos']\n",
    "\n",
    "for pos, coluna in enumerate(colunas):\n",
    "    \n",
    "    plt.figure(figsize=(20, 5))\n",
    "    sns.boxplot(data=df, x=coluna)\n",
    "    plt.title(coluna, fontdict={'fontsize':20, 'fontweight':550}, loc='center', pad= 26)\n",
    "    plt.xlabel(labels[pos], fontdict={'fontsize':20}, loc='center', labelpad=20)\n",
    "    plt.show()\n",
    "    print('\\n\\n\\n')"
   ]
  },
  {
   "cell_type": "markdown",
   "id": "358d80d1",
   "metadata": {
    "heading_collapsed": true,
    "hidden": true
   },
   "source": [
    "### 🔺 Analise bivariada com boxplot"
   ]
  },
  {
   "cell_type": "markdown",
   "id": "02845535",
   "metadata": {
    "hidden": true
   },
   "source": [
    "Podemos cruzar duas variáveis e plotar utilizando o boxplot para fazermos uma analise bivariada. Neste primeiro exemplo vamos cruzar as variáveis **Anos de Estudo** e **Cor**."
   ]
  },
  {
   "cell_type": "code",
   "execution_count": 48,
   "id": "4ff70d4c",
   "metadata": {
    "ExecuteTime": {
     "end_time": "2022-12-19T21:11:21.018900Z",
     "start_time": "2022-12-19T21:11:20.877028Z"
    },
    "hidden": true
   },
   "outputs": [
    {
     "data": {
      "image/png": "[encoded data removed]",
      "text/plain": [
       "<Figure size 2000x500 with 1 Axes>"
      ]
     },
     "metadata": {},
     "output_type": "display_data"
    }
   ],
   "source": [
    "plt.figure(figsize=(20, 5))\n",
    "sns.boxplot(data=df, x='Anos de Estudo', y='Cor', orient='h')\n",
    "\n",
    "plt.title('Cruzando os dados', fontdict={'fontsize':20, 'fontweight':550}, loc='center', pad= 26)\n",
    "plt.xlabel('Anos de Estudo', fontdict={'fontsize':20}, loc='center', labelpad=20)\n",
    "plt.ylabel('Cor', fontdict={'fontsize':20}, loc='center', labelpad=20)\n",
    "plt.show()"
   ]
  },
  {
   "cell_type": "markdown",
   "id": "75e78f0e",
   "metadata": {
    "hidden": true
   },
   "source": [
    " ---"
   ]
  },
  {
   "cell_type": "markdown",
   "id": "51b32630",
   "metadata": {
    "hidden": true
   },
   "source": [
    "Agora vamos cruzar as variáveis **Renda** e **Cor**."
   ]
  },
  {
   "cell_type": "code",
   "execution_count": 35,
   "id": "8cb6a6b5",
   "metadata": {
    "ExecuteTime": {
     "end_time": "2022-12-19T20:33:59.326784Z",
     "start_time": "2022-12-19T20:33:59.147847Z"
    },
    "hidden": true
   },
   "outputs": [
    {
     "data": {
      "image/png": "[encoded data removed]",
      "text/plain": [
       "<Figure size 1500x500 with 1 Axes>"
      ]
     },
     "metadata": {},
     "output_type": "display_data"
    }
   ],
   "source": [
    "plt.figure(figsize=(15, 5))\n",
    "sns.boxplot(data=df, x='Renda', y='Cor', orient='h')\n",
    "\n",
    "plt.title('Cruzando os dados', fontdict={'fontsize':20, 'fontweight':550}, loc='center', pad= 26)\n",
    "plt.xlabel('Renda em R$', fontdict={'fontsize':15}, loc='center', labelpad=20)\n",
    "plt.ylabel('Cor', fontdict={'fontsize':15}, loc='center', labelpad=20)\n",
    "plt.show()"
   ]
  },
  {
   "cell_type": "markdown",
   "id": "35568c1e",
   "metadata": {
    "hidden": true
   },
   "source": [
    "--- "
   ]
  },
  {
   "cell_type": "markdown",
   "id": "5db2d86c",
   "metadata": {
    "hidden": true
   },
   "source": [
    "Vamos cruar as váriáveis **Renda** e **Sexo**"
   ]
  },
  {
   "cell_type": "code",
   "execution_count": 49,
   "id": "32208f8e",
   "metadata": {
    "ExecuteTime": {
     "end_time": "2022-12-19T21:13:24.269735Z",
     "start_time": "2022-12-19T21:13:24.118412Z"
    },
    "hidden": true
   },
   "outputs": [
    {
     "data": {
      "image/png": "[encoded data removed]",
      "text/plain": [
       "<Figure size 1500x500 with 1 Axes>"
      ]
     },
     "metadata": {},
     "output_type": "display_data"
    }
   ],
   "source": [
    "plt.figure(figsize=(15, 5))\n",
    "sns.boxplot(data=df.query('Renda <= 50000'), x='Renda', y='Sexo', orient='h')\n",
    "\n",
    "plt.title('Cruzando os dados', fontdict={'fontsize':20, 'fontweight':550}, loc='center', pad= 26)\n",
    "plt.xlabel('Renda em R$', fontdict={'fontsize':15}, loc='center', labelpad=20)\n",
    "plt.ylabel('Sexo', fontdict={'fontsize':15}, loc='center', labelpad=20)\n",
    "plt.show()"
   ]
  },
  {
   "cell_type": "markdown",
   "id": "48059c37",
   "metadata": {
    "hidden": true
   },
   "source": [
    "--- "
   ]
  },
  {
   "cell_type": "markdown",
   "id": "94c02896",
   "metadata": {
    "hidden": true
   },
   "source": [
    "Vamos cruar as váriáveis **Sexo** e **Anos de Estudo**"
   ]
  },
  {
   "cell_type": "code",
   "execution_count": 51,
   "id": "27b1bdfd",
   "metadata": {
    "ExecuteTime": {
     "end_time": "2022-12-19T21:14:41.531283Z",
     "start_time": "2022-12-19T21:14:41.400187Z"
    },
    "hidden": true
   },
   "outputs": [
    {
     "data": {
      "image/png": "[encoded data removed]",
      "text/plain": [
       "<Figure size 1500x500 with 1 Axes>"
      ]
     },
     "metadata": {},
     "output_type": "display_data"
    }
   ],
   "source": [
    "plt.figure(figsize=(15, 5))\n",
    "sns.boxplot(data=df, x='Anos de Estudo', y='Sexo', orient='h')\n",
    "\n",
    "plt.title('Cruzando os dados', fontdict={'fontsize':20, 'fontweight':550}, loc='center', pad= 26)\n",
    "plt.xlabel('Anos de Estudo', fontdict={'fontsize':15}, loc='center', labelpad=20)\n",
    "plt.ylabel('Sexo', fontdict={'fontsize':15}, loc='center', labelpad=20)\n",
    "plt.show()"
   ]
  },
  {
   "cell_type": "markdown",
   "id": "e0c9c93e",
   "metadata": {
    "hidden": true
   },
   "source": [
    "<br>"
   ]
  },
  {
   "cell_type": "markdown",
   "id": "d3070ad5",
   "metadata": {
    "heading_collapsed": true
   },
   "source": [
    "# 🔷 Medidas de dispersão"
   ]
  },
  {
   "cell_type": "markdown",
   "id": "6be5eed0",
   "metadata": {
    "heading_collapsed": true,
    "hidden": true
   },
   "source": [
    "## 🔶 Desvio médio absoluto"
   ]
  },
  {
   "cell_type": "markdown",
   "id": "3c6f6a9a",
   "metadata": {
    "ExecuteTime": {
     "end_time": "2022-12-21T20:35:51.586070Z",
     "start_time": "2022-12-21T20:35:51.581621Z"
    },
    "hidden": true
   },
   "source": [
    "Em estatistica, o desvio médio absoluto é uma medida que serve para compreender a dispersão dos dados, o que é muito importante para uma boa analise dos dados. Medidas como essa são muito importante, pois medidas de tendência central como a média, moda e mediana não conseguem capturar informações sobre a disperssão dos dados. "
   ]
  },
  {
   "cell_type": "markdown",
   "id": "56016697",
   "metadata": {
    "hidden": true
   },
   "source": [
    "\n",
    "# $$DM = \\frac 1n\\sum_{i=1}^{n}|X_i-\\bar{X}|$$"
   ]
  },
  {
   "cell_type": "markdown",
   "id": "4ee3ca8b",
   "metadata": {
    "ExecuteTime": {
     "end_time": "2022-12-21T20:35:51.586070Z",
     "start_time": "2022-12-21T20:35:51.581621Z"
    },
    "hidden": true
   },
   "source": [
    "O cálculo dessa medida é feito nos seguintes passos:\n",
    "\n",
    "- **Passo 1**: Encontrar um valor referência. Para isso podemos calcular a média do dataset ou outra medida de tendência central.\n",
    "- **Passo 2**: Calcular a diferênça absoluta de cada valor do nosso dataset em relação a nossa refência.\n",
    "- **Passo 3**: Calcular a média dos valores obtidos no passo 2."
   ]
  },
  {
   "cell_type": "markdown",
   "id": "48365e2d",
   "metadata": {
    "hidden": true
   },
   "source": [
    " "
   ]
  },
  {
   "cell_type": "markdown",
   "id": "1de717eb",
   "metadata": {
    "hidden": true
   },
   "source": [
    "- Vamos criar um df para usar nos exemplos."
   ]
  },
  {
   "cell_type": "code",
   "execution_count": 3,
   "id": "9854af63",
   "metadata": {
    "ExecuteTime": {
     "end_time": "2022-12-22T18:11:08.407503Z",
     "start_time": "2022-12-22T18:11:08.399978Z"
    },
    "hidden": true
   },
   "outputs": [],
   "source": [
    "# Criando o df\n",
    "dic = {'Matemática': [10.0, 8, 7.5],\n",
    "       'Português': [2.0, 10, 8.0],\n",
    "       'Inglês': [0.5, 4, 7.0],\n",
    "       'Geografia': [1.0, 8, 8.0],\n",
    "       'História': [3.0, 6, 8.0],\n",
    "       'Física': [9.5, 10, 8.5],\n",
    "       'Química': [10.0, 8, 7.0]}\n",
    "\n",
    "\n",
    "df_notas = pd.DataFrame(data= dic).rename({0:'Sicrano', 1:'Beltrano', 2:'Fulano'}).T"
   ]
  },
  {
   "cell_type": "markdown",
   "id": "c5ed3ab7",
   "metadata": {
    "hidden": true
   },
   "source": [
    "<br>"
   ]
  },
  {
   "cell_type": "markdown",
   "id": "fe1b8330",
   "metadata": {
    "hidden": true
   },
   "source": [
    "- Vamos calcular o desvio médio absoluto das notas do **Fulano**."
   ]
  },
  {
   "cell_type": "code",
   "execution_count": 6,
   "id": "ed4528df",
   "metadata": {
    "ExecuteTime": {
     "end_time": "2022-12-22T18:12:23.098019Z",
     "start_time": "2022-12-22T18:12:23.091102Z"
    },
    "hidden": true,
    "scrolled": true
   },
   "outputs": [
    {
     "data": {
      "text/html": [
       "<div>\n",
       "<style scoped>\n",
       "    .dataframe tbody tr th:only-of-type {\n",
       "        vertical-align: middle;\n",
       "    }\n",
       "\n",
       "    .dataframe tbody tr th {\n",
       "        vertical-align: top;\n",
       "    }\n",
       "\n",
       "    .dataframe thead th {\n",
       "        text-align: right;\n",
       "    }\n",
       "</style>\n",
       "<table border=\"1\" class=\"dataframe\">\n",
       "  <thead>\n",
       "    <tr style=\"text-align: right;\">\n",
       "      <th></th>\n",
       "      <th>Fulano</th>\n",
       "    </tr>\n",
       "  </thead>\n",
       "  <tbody>\n",
       "    <tr>\n",
       "      <th>Matemática</th>\n",
       "      <td>7.5</td>\n",
       "    </tr>\n",
       "    <tr>\n",
       "      <th>Português</th>\n",
       "      <td>8.0</td>\n",
       "    </tr>\n",
       "    <tr>\n",
       "      <th>Inglês</th>\n",
       "      <td>7.0</td>\n",
       "    </tr>\n",
       "    <tr>\n",
       "      <th>Geografia</th>\n",
       "      <td>8.0</td>\n",
       "    </tr>\n",
       "    <tr>\n",
       "      <th>História</th>\n",
       "      <td>8.0</td>\n",
       "    </tr>\n",
       "    <tr>\n",
       "      <th>Física</th>\n",
       "      <td>8.5</td>\n",
       "    </tr>\n",
       "    <tr>\n",
       "      <th>Química</th>\n",
       "      <td>7.0</td>\n",
       "    </tr>\n",
       "  </tbody>\n",
       "</table>\n",
       "</div>"
      ],
      "text/plain": [
       "            Fulano\n",
       "Matemática     7.5\n",
       "Português      8.0\n",
       "Inglês         7.0\n",
       "Geografia      8.0\n",
       "História       8.0\n",
       "Física         8.5\n",
       "Química        7.0"
      ]
     },
     "execution_count": 6,
     "metadata": {},
     "output_type": "execute_result"
    }
   ],
   "source": [
    "# Separando as notas do Fualano\n",
    "fulano = df_notas[['Fulano']].copy()\n",
    "fulano"
   ]
  },
  {
   "cell_type": "markdown",
   "id": "a52cb5dd",
   "metadata": {
    "hidden": true
   },
   "source": [
    " "
   ]
  },
  {
   "cell_type": "code",
   "execution_count": 7,
   "id": "e68d8cfa",
   "metadata": {
    "ExecuteTime": {
     "end_time": "2022-12-22T18:12:25.632038Z",
     "start_time": "2022-12-22T18:12:25.625000Z"
    },
    "hidden": true
   },
   "outputs": [
    {
     "data": {
      "text/plain": [
       "7.714285714285714"
      ]
     },
     "execution_count": 7,
     "metadata": {},
     "output_type": "execute_result"
    }
   ],
   "source": [
    "# Passo 1\n",
    "# Calculando a média das notas\n",
    "media = fulano['Fulano'].mean()\n",
    "media"
   ]
  },
  {
   "cell_type": "markdown",
   "id": "1418f263",
   "metadata": {
    "hidden": true
   },
   "source": [
    " "
   ]
  },
  {
   "cell_type": "code",
   "execution_count": 8,
   "id": "4b8ffbdd",
   "metadata": {
    "ExecuteTime": {
     "end_time": "2022-12-22T18:12:27.099395Z",
     "start_time": "2022-12-22T18:12:27.085847Z"
    },
    "hidden": true
   },
   "outputs": [
    {
     "data": {
      "text/html": [
       "<div>\n",
       "<style scoped>\n",
       "    .dataframe tbody tr th:only-of-type {\n",
       "        vertical-align: middle;\n",
       "    }\n",
       "\n",
       "    .dataframe tbody tr th {\n",
       "        vertical-align: top;\n",
       "    }\n",
       "\n",
       "    .dataframe thead th {\n",
       "        text-align: right;\n",
       "    }\n",
       "</style>\n",
       "<table border=\"1\" class=\"dataframe\">\n",
       "  <thead>\n",
       "    <tr style=\"text-align: right;\">\n",
       "      <th></th>\n",
       "      <th>Fulano</th>\n",
       "      <th>Diferenca_abs</th>\n",
       "    </tr>\n",
       "  </thead>\n",
       "  <tbody>\n",
       "    <tr>\n",
       "      <th>Matemática</th>\n",
       "      <td>7.5</td>\n",
       "      <td>0.214286</td>\n",
       "    </tr>\n",
       "    <tr>\n",
       "      <th>Português</th>\n",
       "      <td>8.0</td>\n",
       "      <td>0.285714</td>\n",
       "    </tr>\n",
       "    <tr>\n",
       "      <th>Inglês</th>\n",
       "      <td>7.0</td>\n",
       "      <td>0.714286</td>\n",
       "    </tr>\n",
       "    <tr>\n",
       "      <th>Geografia</th>\n",
       "      <td>8.0</td>\n",
       "      <td>0.285714</td>\n",
       "    </tr>\n",
       "    <tr>\n",
       "      <th>História</th>\n",
       "      <td>8.0</td>\n",
       "      <td>0.285714</td>\n",
       "    </tr>\n",
       "    <tr>\n",
       "      <th>Física</th>\n",
       "      <td>8.5</td>\n",
       "      <td>0.785714</td>\n",
       "    </tr>\n",
       "    <tr>\n",
       "      <th>Química</th>\n",
       "      <td>7.0</td>\n",
       "      <td>0.714286</td>\n",
       "    </tr>\n",
       "  </tbody>\n",
       "</table>\n",
       "</div>"
      ],
      "text/plain": [
       "            Fulano  Diferenca_abs\n",
       "Matemática     7.5       0.214286\n",
       "Português      8.0       0.285714\n",
       "Inglês         7.0       0.714286\n",
       "Geografia      8.0       0.285714\n",
       "História       8.0       0.285714\n",
       "Física         8.5       0.785714\n",
       "Química        7.0       0.714286"
      ]
     },
     "execution_count": 8,
     "metadata": {},
     "output_type": "execute_result"
    }
   ],
   "source": [
    "# Passo 2\n",
    "# Calculando a diferênça abs dos valores em relação a média\n",
    "fulano['Diferenca_abs'] = (fulano.Fulano - media).abs()\n",
    "fulano"
   ]
  },
  {
   "cell_type": "markdown",
   "id": "b5ac0e47",
   "metadata": {
    "hidden": true
   },
   "source": [
    " "
   ]
  },
  {
   "cell_type": "code",
   "execution_count": 9,
   "id": "522a6416",
   "metadata": {
    "ExecuteTime": {
     "end_time": "2022-12-22T18:12:28.984072Z",
     "start_time": "2022-12-22T18:12:28.976562Z"
    },
    "hidden": true
   },
   "outputs": [
    {
     "data": {
      "text/plain": [
       "0.4693877551020408"
      ]
     },
     "execution_count": 9,
     "metadata": {},
     "output_type": "execute_result"
    }
   ],
   "source": [
    "# Passo 3\n",
    "# Calculando o desvio medio absoluto dos valores\n",
    "fulano['Diferenca_abs'].mean()"
   ]
  },
  {
   "cell_type": "markdown",
   "id": "fa2d8bc2",
   "metadata": {
    "hidden": true
   },
   "source": [
    "<br> "
   ]
  },
  {
   "cell_type": "markdown",
   "id": "5523d0e4",
   "metadata": {
    "hidden": true
   },
   "source": [
    "- O pandas tem o método mad(), no entanto, ele é considerado obseleto. Então para podermos calcular o desvio médio \n",
    "absoluto o pandas nos orienta fazer o seguinte:"
   ]
  },
  {
   "cell_type": "code",
   "execution_count": 11,
   "id": "b48d2756",
   "metadata": {
    "ExecuteTime": {
     "end_time": "2022-12-22T18:12:53.625592Z",
     "start_time": "2022-12-22T18:12:53.617698Z"
    },
    "hidden": true,
    "scrolled": true
   },
   "outputs": [
    {
     "data": {
      "text/plain": [
       "0.4693877551020408"
      ]
     },
     "execution_count": 11,
     "metadata": {},
     "output_type": "execute_result"
    }
   ],
   "source": [
    "# Calculando o desvio médio absoluto da coluna fulano\n",
    "(df_notas['Fulano'] - df_notas['Fulano'].mean()).abs().mean()"
   ]
  },
  {
   "cell_type": "markdown",
   "id": "e477671c",
   "metadata": {
    "hidden": true
   },
   "source": [
    "<br>"
   ]
  },
  {
   "cell_type": "markdown",
   "id": "2976528e",
   "metadata": {
    "heading_collapsed": true,
    "hidden": true
   },
   "source": [
    "## 🔶 Variança"
   ]
  },
  {
   "cell_type": "markdown",
   "id": "b3610ef8",
   "metadata": {
    "hidden": true
   },
   "source": [
    "A variança é outra medida de dispersão parecida com o desvio médio absoluto. O intuito da variança é analisar a dispersão dos dados. Existem duas formulas para calcular a variança, uma formula serve para calcular a variança de uma população e a outra para calcular a variança de uma amostra."
   ]
  },
  {
   "cell_type": "markdown",
   "id": "29de3584",
   "metadata": {
    "hidden": true
   },
   "source": [
    "> **POPULAÇÃO**\n",
    "\n",
    "# $$\\sigma^2 = \\frac 1n\\sum_{i=1}^{n}(X_i-\\mu)^2$$"
   ]
  },
  {
   "cell_type": "markdown",
   "id": "0be17737",
   "metadata": {
    "hidden": true
   },
   "source": [
    "  "
   ]
  },
  {
   "cell_type": "markdown",
   "id": "f8a28475",
   "metadata": {
    "hidden": true
   },
   "source": [
    "> **AMOSTRA**\n",
    "\n",
    "# $$S^2 = \\frac 1{n-1}\\sum_{i=1}^{n}(X_i-\\bar{X})^2$$"
   ]
  },
  {
   "cell_type": "markdown",
   "id": "d52d24c2",
   "metadata": {
    "hidden": true
   },
   "source": [
    " "
   ]
  },
  {
   "cell_type": "markdown",
   "id": "a4974b81",
   "metadata": {
    "hidden": true
   },
   "source": [
    "Como podemos ver a formula é um pouco mais complexa que a formula do desvio médio absoluto. Segue os paços para calcula-lá:\n",
    "\n",
    "- **Passo 1**: Calcular a média do conjunto de dados.\n",
    "- **Passo 2**: Calcular a diferênça de cada valor do nosso dataset em relação a média e elevar ao quadrado.\n",
    "- **Passo 3**: Somar os valores obtidos no passo 2.\n",
    "- **Passo 4**: Dividir o resultado do passo 3 por **n** (n é o numero de valores contido no conjunto de dados) caso seus dados sejam de uma **população** ou **n-1** caso seus dados sejam de uma **amostra**."
   ]
  },
  {
   "cell_type": "markdown",
   "id": "6ec29bb0",
   "metadata": {
    "hidden": true
   },
   "source": [
    "- Para calcular a variança de um conjunto de dados o pandas nos fornece o método var(). Vamos utiliza-lo para calcular a variança da coluna Renda do nosso dataframe. "
   ]
  },
  {
   "cell_type": "code",
   "execution_count": 51,
   "id": "e9cc32ab",
   "metadata": {
    "ExecuteTime": {
     "end_time": "2022-12-22T20:13:22.546338Z",
     "start_time": "2022-12-22T20:13:22.539865Z"
    },
    "hidden": true
   },
   "outputs": [
    {
     "data": {
      "text/plain": [
       "11044762.267200803"
      ]
     },
     "execution_count": 51,
     "metadata": {},
     "output_type": "execute_result"
    }
   ],
   "source": [
    "# Devemos passar o parametro ddof o valor 0 quando queremos calcular a variança de uma população \n",
    "# ou 1 quando queremos calcular a variança de uma amostra\n",
    "df['Renda'].var(ddof=0) "
   ]
  },
  {
   "cell_type": "markdown",
   "id": "3d2a788b",
   "metadata": {
    "hidden": true
   },
   "source": [
    "<br>"
   ]
  },
  {
   "cell_type": "markdown",
   "id": "66d51f4b",
   "metadata": {
    "heading_collapsed": true,
    "hidden": true
   },
   "source": [
    "## 🔶 Desvio padrão"
   ]
  },
  {
   "cell_type": "markdown",
   "id": "c21e43b1",
   "metadata": {
    "hidden": true
   },
   "source": [
    "A variança quando é caculada acaba nos retornando uma unidade de medida diferente da unidade de medidad dos dados. Por exemplo, se estamos medindo a variança entre 100 alturas, a nossa variança terá a unidade de medida **m²**. Isso acontece porque no meio do calculo elevamos os valores ao quadrado. Para contornar isso temos o desvio padrão, que nada mais é do que a raiz quadrada da variança, seja essa variança amostral ou populacional."
   ]
  },
  {
   "cell_type": "markdown",
   "id": "5a42f2ec",
   "metadata": {
    "hidden": true
   },
   "source": [
    "- Podemos calcular o desvio padrão de duas formas utilizando o pandas. A primeira forma é tirar a raiz quedrada da variança e segunda forma é utilizar o método std(). Vamos mostrar um exemplo utilizando a coluna Altura do nosso dataset."
   ]
  },
  {
   "cell_type": "code",
   "execution_count": 57,
   "id": "5b3d089c",
   "metadata": {
    "ExecuteTime": {
     "end_time": "2022-12-22T20:38:51.727082Z",
     "start_time": "2022-12-22T20:38:51.716505Z"
    },
    "hidden": true
   },
   "outputs": [
    {
     "data": {
      "text/plain": [
       "0.0797169113430484"
      ]
     },
     "execution_count": 57,
     "metadata": {},
     "output_type": "execute_result"
    }
   ],
   "source": [
    "# utilizando a função sqrt()\n",
    "from math import sqrt\n",
    "\n",
    "sqrt(df['Altura'].var(ddof=0))"
   ]
  },
  {
   "cell_type": "markdown",
   "id": "b4a12d55",
   "metadata": {
    "hidden": true
   },
   "source": [
    " "
   ]
  },
  {
   "cell_type": "code",
   "execution_count": 56,
   "id": "b252195f",
   "metadata": {
    "ExecuteTime": {
     "end_time": "2022-12-22T20:38:50.222079Z",
     "start_time": "2022-12-22T20:38:50.213388Z"
    },
    "hidden": true
   },
   "outputs": [
    {
     "data": {
      "text/plain": [
       "0.0797169113430484"
      ]
     },
     "execution_count": 56,
     "metadata": {},
     "output_type": "execute_result"
    }
   ],
   "source": [
    "# utilizando o método std()\n",
    "df['Altura'].std(ddof=0)"
   ]
  }
 ],
 "metadata": {
  "kernelspec": {
   "display_name": "Python 3 (ipykernel)",
   "language": "python",
   "name": "python3"
  },
  "language_info": {
   "codemirror_mode": {
    "name": "ipython",
    "version": 3
   },
   "file_extension": ".py",
   "mimetype": "text/x-python",
   "name": "python",
   "nbconvert_exporter": "python",
   "pygments_lexer": "ipython3",
   "version": "3.11.1"
  },
  "varInspector": {
   "cols": {
    "lenName": 16,
    "lenType": 16,
    "lenVar": 40
   },
   "kernels_config": {
    "python": {
     "delete_cmd_postfix": "",
     "delete_cmd_prefix": "del ",
     "library": "var_list.py",
     "varRefreshCmd": "print(var_dic_list())"
    },
    "r": {
     "delete_cmd_postfix": ") ",
     "delete_cmd_prefix": "rm(",
     "library": "var_list.r",
     "varRefreshCmd": "cat(var_dic_list()) "
    }
   },
   "types_to_exclude": [
    "module",
    "function",
    "builtin_function_or_method",
    "instance",
    "_Feature"
   ],
   "window_display": false
  },
  "vscode": {
   "interpreter": {
    "hash": "4dc6d04b23184f23f5711ec8e9fc9238b6ca8ea6896f8eb919a5bfe24d33fc7c"
   }
  }
 },
 "nbformat": 4,
 "nbformat_minor": 5
}

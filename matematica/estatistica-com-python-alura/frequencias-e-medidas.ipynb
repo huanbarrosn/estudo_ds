{
 "cells": [
  {
   "cell_type": "markdown",
   "id": "50483c4c",
   "metadata": {
    "heading_collapsed": true
   },
   "source": [
    "# 🔷 Sobre a aula"
   ]
  },
  {
   "cell_type": "markdown",
   "id": "77d8a09a",
   "metadata": {
    "hidden": true
   },
   "source": [
    "Meu intuito com essa aula é passar o que aprendi no curso da alura sobre estatistica com python. Essa aula servirá para você fazer análise descritiva de um dataset."
   ]
  },
  {
   "cell_type": "markdown",
   "id": "c809e1a9",
   "metadata": {
    "hidden": true
   },
   "source": [
    " <br>"
   ]
  },
  {
   "cell_type": "markdown",
   "id": "9534e6f0",
   "metadata": {
    "colab_type": "text",
    "heading_collapsed": true,
    "id": "cVgsZ_E3jQKg"
   },
   "source": [
    "# 🔷 Informações sobre o dataset"
   ]
  },
  {
   "cell_type": "markdown",
   "id": "757c77c1",
   "metadata": {
    "colab_type": "text",
    "heading_collapsed": true,
    "hidden": true,
    "id": "iN1gIbaKjQKh"
   },
   "source": [
    "## 🔶 Pesquisa Nacional por Amostra de Domicílios - 2015"
   ]
  },
  {
   "cell_type": "markdown",
   "id": "645ba526",
   "metadata": {
    "colab_type": "text",
    "hidden": true,
    "id": "iN1gIbaKjQKh"
   },
   "source": [
    "A <b>Pesquisa Nacional por Amostra de Domicílios - PNAD</b> investiga anualmente, de forma permanente, características gerais da população, de educação, trabalho, rendimento e habitação e outras, com periodicidade variável, de acordo com as necessidades de informação para o país, como as características sobre migração, fecundidade, nupcialidade, saúde, segurança alimentar, entre outros temas. O levantamento dessas estatísticas constitui, ao longo dos 49 anos de realização da pesquisa, um importante instrumento para formulação, validação e avaliação de políticas orientadas para o desenvolvimento socioeconômico e a melhoria das condições de vida no Brasil."
   ]
  },
  {
   "cell_type": "markdown",
   "id": "90dab667",
   "metadata": {
    "hidden": true
   },
   "source": [
    " <br>"
   ]
  },
  {
   "cell_type": "markdown",
   "id": "435becd1",
   "metadata": {
    "colab_type": "text",
    "heading_collapsed": true,
    "hidden": true,
    "id": "r0Fe_qnzjQKj"
   },
   "source": [
    "## 🔶 Variáveis utilizadas"
   ]
  },
  {
   "cell_type": "markdown",
   "id": "08bf39b5",
   "metadata": {
    "colab_type": "text",
    "hidden": true,
    "id": "r0Fe_qnzjQKj"
   },
   "source": [
    "\n",
    "### <font color='red'>Renda</font>\n",
    "\n",
    "Rendimento mensal do trabalho principal para pessoas de 10 anos ou mais de idade.<br>\n",
    "\n",
    "\n",
    "### <font color='red'>Idade</font>\n",
    "\n",
    "Idade do morador na data de referência em anos.\n",
    "\n",
    "\n",
    "### <font color='red'>Altura (elaboração própria)</font>\n",
    "\n",
    "Altura do morador em metros.\n",
    "\n",
    "\n",
    "### <font color='red'>UF</font>\n",
    "\n",
    "|Código|Descrição|\n",
    "|---|---|\n",
    "|11|Rondônia|\n",
    "|12|Acre|\n",
    "|13|Amazonas|\n",
    "|14|Roraima|\n",
    "|15|Pará|\n",
    "|16|Amapá|\n",
    "|17|Tocantins|\n",
    "|21|Maranhão|\n",
    "|22|Piauí|\n",
    "|23|Ceará|\n",
    "|24|Rio Grande do Norte|\n",
    "|25|Paraíba|\n",
    "|26|Pernambuco|\n",
    "|27|Alagoas|\n",
    "|28|Sergipe|\n",
    "|29|Bahia|\n",
    "|31|Minas Gerais|\n",
    "|32|Espírito Santo|\n",
    "|33|Rio de Janeiro|\n",
    "|35|São Paulo|\n",
    "|41|Paraná|\n",
    "|42|Santa Catarina|\n",
    "|43|Rio Grande do Sul|\n",
    "|50|Mato Grosso do Sul|\n",
    "|51|Mato Grosso|\n",
    "|52|Goiás|\n",
    "|53|Distrito Federal|\n",
    "\n",
    "\n",
    "### <font color='red'>Sexo</font>\n",
    "\n",
    "|Código|Descrição|\n",
    "|---|---|\n",
    "|0|Masculino|\n",
    "|1|Feminino|\n",
    "\n",
    "\n",
    "### <font color='red'>Anos de Estudo</font>\n",
    "\n",
    "|Código|Descrição|\n",
    "|---|---|\n",
    "|1|Sem instrução e menos de 1 ano|\n",
    "|2|1 ano|\n",
    "|3|2 anos|\n",
    "|4|3 anos|\n",
    "|5|4 anos|\n",
    "|6|5 anos|\n",
    "|7|6 anos|\n",
    "|8|7 anos|\n",
    "|9|8 anos|\n",
    "|10|9 anos|\n",
    "|11|10 anos|\n",
    "|12|11 anos|\n",
    "|13|12 anos|\n",
    "|14|13 anos|\n",
    "|15|14 anos|\n",
    "|16|15 anos ou mais|\n",
    "|17|Não determinados| \n",
    "||Não aplicável|\n",
    "\n",
    "\n",
    "### <font color='red'>Cor</font>\n",
    "\n",
    "|Código|Descrição|\n",
    "|---|---|\n",
    "|0|Indígena|\n",
    "|2|Branca|\n",
    "|4|Preta|\n",
    "|6|Amarela|\n",
    "|8|Parda|\n",
    "|9|Sem declaração|"
   ]
  },
  {
   "cell_type": "markdown",
   "id": "c94bacf9",
   "metadata": {
    "colab_type": "text",
    "hidden": true,
    "id": "OK1IQH5cX7Gb"
   },
   "source": [
    "\n",
    "### <font color='orange'>Observação</font>\n",
    "\n",
    "> Os seguintes tratamentos foram realizados nos dados originais:\n",
    "> 1. Foram eliminados os registros onde a <b>Renda</b> era inválida (999 999 999 999);\n",
    "> 2. Foram eliminados os registros onde a <b>Renda</b> era missing;\n",
    "> 3. Foram considerados somente os registros das <b>Pessoas de Referência</b> de cada domicílio (responsável pelo domicílio)."
   ]
  },
  {
   "cell_type": "markdown",
   "id": "b851be2c",
   "metadata": {
    "hidden": true
   },
   "source": [
    " \n",
    " <br>\n",
    " "
   ]
  },
  {
   "cell_type": "markdown",
   "id": "b1b5a301",
   "metadata": {
    "heading_collapsed": true
   },
   "source": [
    "# 🔷 Bibliotecas que utilizaremos\n"
   ]
  },
  {
   "cell_type": "code",
   "execution_count": 1,
   "id": "6c8fc9d8",
   "metadata": {
    "ExecuteTime": {
     "end_time": "2022-10-21T13:40:23.337999Z",
     "start_time": "2022-10-21T13:40:22.151005Z"
    },
    "hidden": true
   },
   "outputs": [],
   "source": [
    "import pandas as pd\n",
    "import numpy as np\n",
    "import seaborn as sbn\n",
    "import scipy as scp\n",
    "import random as rd"
   ]
  },
  {
   "cell_type": "markdown",
   "id": "94bc3645",
   "metadata": {
    "hidden": true
   },
   "source": [
    "<br>"
   ]
  },
  {
   "cell_type": "markdown",
   "id": "7594f8eb",
   "metadata": {
    "heading_collapsed": true
   },
   "source": [
    "# 🔷 Importando a base de dados"
   ]
  },
  {
   "cell_type": "code",
   "execution_count": 3,
   "id": "28863033",
   "metadata": {
    "ExecuteTime": {
     "end_time": "2022-10-21T13:40:40.889098Z",
     "start_time": "2022-10-21T13:40:40.820799Z"
    },
    "hidden": true
   },
   "outputs": [
    {
     "data": {
      "text/html": [
       "<div>\n",
       "<style scoped>\n",
       "    .dataframe tbody tr th:only-of-type {\n",
       "        vertical-align: middle;\n",
       "    }\n",
       "\n",
       "    .dataframe tbody tr th {\n",
       "        vertical-align: top;\n",
       "    }\n",
       "\n",
       "    .dataframe thead th {\n",
       "        text-align: right;\n",
       "    }\n",
       "</style>\n",
       "<table border=\"1\" class=\"dataframe\">\n",
       "  <thead>\n",
       "    <tr style=\"text-align: right;\">\n",
       "      <th></th>\n",
       "      <th>UF</th>\n",
       "      <th>Sexo</th>\n",
       "      <th>Idade</th>\n",
       "      <th>Cor</th>\n",
       "      <th>Anos de Estudo</th>\n",
       "      <th>Renda</th>\n",
       "      <th>Altura</th>\n",
       "    </tr>\n",
       "  </thead>\n",
       "  <tbody>\n",
       "    <tr>\n",
       "      <th>0</th>\n",
       "      <td>11</td>\n",
       "      <td>0</td>\n",
       "      <td>23</td>\n",
       "      <td>8</td>\n",
       "      <td>12</td>\n",
       "      <td>800</td>\n",
       "      <td>1.603808</td>\n",
       "    </tr>\n",
       "    <tr>\n",
       "      <th>1</th>\n",
       "      <td>11</td>\n",
       "      <td>1</td>\n",
       "      <td>23</td>\n",
       "      <td>2</td>\n",
       "      <td>12</td>\n",
       "      <td>1150</td>\n",
       "      <td>1.739790</td>\n",
       "    </tr>\n",
       "    <tr>\n",
       "      <th>2</th>\n",
       "      <td>11</td>\n",
       "      <td>1</td>\n",
       "      <td>35</td>\n",
       "      <td>8</td>\n",
       "      <td>15</td>\n",
       "      <td>880</td>\n",
       "      <td>1.760444</td>\n",
       "    </tr>\n",
       "    <tr>\n",
       "      <th>3</th>\n",
       "      <td>11</td>\n",
       "      <td>0</td>\n",
       "      <td>46</td>\n",
       "      <td>2</td>\n",
       "      <td>6</td>\n",
       "      <td>3500</td>\n",
       "      <td>1.783158</td>\n",
       "    </tr>\n",
       "    <tr>\n",
       "      <th>4</th>\n",
       "      <td>11</td>\n",
       "      <td>1</td>\n",
       "      <td>47</td>\n",
       "      <td>8</td>\n",
       "      <td>9</td>\n",
       "      <td>150</td>\n",
       "      <td>1.690631</td>\n",
       "    </tr>\n",
       "  </tbody>\n",
       "</table>\n",
       "</div>"
      ],
      "text/plain": [
       "   UF  Sexo  Idade  Cor  Anos de Estudo  Renda    Altura\n",
       "0  11     0     23    8              12    800  1.603808\n",
       "1  11     1     23    2              12   1150  1.739790\n",
       "2  11     1     35    8              15    880  1.760444\n",
       "3  11     0     46    2               6   3500  1.783158\n",
       "4  11     1     47    8               9    150  1.690631"
      ]
     },
     "execution_count": 3,
     "metadata": {},
     "output_type": "execute_result"
    }
   ],
   "source": [
    "# Vamos importar um arquivo CSV e para isso vamo utilizar o método read_csv que o pandas oferece\n",
    "\n",
    "df = pd.read_csv('base-de-dados/dados.csv') # É necessário passar para ao método a localização do arquivo \n",
    "df.head()"
   ]
  },
  {
   "cell_type": "markdown",
   "id": "949eba62",
   "metadata": {
    "ExecuteTime": {
     "end_time": "2022-10-14T01:29:39.799335Z",
     "start_time": "2022-10-14T01:29:39.793706Z"
    },
    "hidden": true
   },
   "source": [
    "<br>"
   ]
  },
  {
   "cell_type": "markdown",
   "id": "929f4ae9",
   "metadata": {
    "heading_collapsed": true
   },
   "source": [
    "# 🔷 Tipos de dados"
   ]
  },
  {
   "cell_type": "markdown",
   "id": "507cff98",
   "metadata": {
    "heading_collapsed": true,
    "hidden": true
   },
   "source": [
    "## 🔶 Variáveis qualitativas ordinais"
   ]
  },
  {
   "cell_type": "markdown",
   "id": "b2856003",
   "metadata": {
    "hidden": true
   },
   "source": [
    "São variáveis que representam uma qualidade ou atributo de algo e podem ser ordenadas."
   ]
  },
  {
   "cell_type": "code",
   "execution_count": 3,
   "id": "13291063",
   "metadata": {
    "ExecuteTime": {
     "end_time": "2022-10-16T01:57:31.419526Z",
     "start_time": "2022-10-16T01:57:31.414813Z"
    },
    "hidden": true
   },
   "outputs": [
    {
     "data": {
      "text/plain": [
       "[1, 2, 3, 4, 5, 6, 7, 8, 9, 10, 11, 12, 13, 14, 15, 16, 17]"
      ]
     },
     "execution_count": 3,
     "metadata": {},
     "output_type": "execute_result"
    }
   ],
   "source": [
    "# Anos de estudo é uma variável qualitativa ordinal\n",
    "# Vamos selecionar a coluna 'Anos de estudo', pegar os valores unicos e coloca-los em ordem crescente\n",
    "\n",
    "sorted(df['Anos de Estudo'].unique())"
   ]
  },
  {
   "cell_type": "markdown",
   "id": "e3a91d5d",
   "metadata": {
    "hidden": true
   },
   "source": [
    " <br>  "
   ]
  },
  {
   "cell_type": "markdown",
   "id": "9777b698",
   "metadata": {
    "heading_collapsed": true,
    "hidden": true
   },
   "source": [
    "## 🔶 Variáveis qualitativas nominais"
   ]
  },
  {
   "cell_type": "markdown",
   "id": "6963914d",
   "metadata": {
    "hidden": true
   },
   "source": [
    "São variáveis que representam um atributo ou uma qualidade de algo e não podem ser ordenadas."
   ]
  },
  {
   "cell_type": "code",
   "execution_count": 4,
   "id": "29c08ea0",
   "metadata": {
    "ExecuteTime": {
     "end_time": "2022-10-16T01:57:31.426748Z",
     "start_time": "2022-10-16T01:57:31.421688Z"
    },
    "hidden": true
   },
   "outputs": [
    {
     "data": {
      "text/plain": [
       "array([0, 1])"
      ]
     },
     "execution_count": 4,
     "metadata": {},
     "output_type": "execute_result"
    }
   ],
   "source": [
    "# Sexo é uma variável qualitativa nominal\n",
    "\n",
    "df['Sexo'].unique()"
   ]
  },
  {
   "cell_type": "markdown",
   "id": "77904290",
   "metadata": {
    "hidden": true
   },
   "source": [
    " "
   ]
  },
  {
   "cell_type": "code",
   "execution_count": 5,
   "id": "c91290f1",
   "metadata": {
    "ExecuteTime": {
     "end_time": "2022-10-16T01:57:31.432954Z",
     "start_time": "2022-10-16T01:57:31.428336Z"
    },
    "hidden": true
   },
   "outputs": [
    {
     "data": {
      "text/plain": [
       "array([11, 12, 13, 14, 15, 16, 17, 21, 22, 23, 24, 25, 26, 27, 28, 29, 31,\n",
       "       32, 33, 35, 41, 42, 43, 50, 51, 52, 53])"
      ]
     },
     "execution_count": 5,
     "metadata": {},
     "output_type": "execute_result"
    }
   ],
   "source": [
    "# UF de estudo é uma variável qualitativa nominal\n",
    "\n",
    "df['UF'].unique()"
   ]
  },
  {
   "cell_type": "markdown",
   "id": "ffd94a70",
   "metadata": {
    "hidden": true
   },
   "source": [
    " "
   ]
  },
  {
   "cell_type": "code",
   "execution_count": 6,
   "id": "ad31e4e5",
   "metadata": {
    "ExecuteTime": {
     "end_time": "2022-10-16T01:57:31.439188Z",
     "start_time": "2022-10-16T01:57:31.434405Z"
    },
    "hidden": true
   },
   "outputs": [
    {
     "data": {
      "text/plain": [
       "array([8, 2, 4, 6, 0])"
      ]
     },
     "execution_count": 6,
     "metadata": {},
     "output_type": "execute_result"
    }
   ],
   "source": [
    "# Cor de estudo é uma variável qualitativa nominal\n",
    "\n",
    "df['Cor'].unique()"
   ]
  },
  {
   "cell_type": "markdown",
   "id": "2c4e70c8",
   "metadata": {
    "hidden": true
   },
   "source": [
    " <br>"
   ]
  },
  {
   "cell_type": "markdown",
   "id": "7b9cd7ec",
   "metadata": {
    "heading_collapsed": true,
    "hidden": true
   },
   "source": [
    "## 🔶 Variáveis quantitativas discretas"
   ]
  },
  {
   "cell_type": "markdown",
   "id": "df4a6506",
   "metadata": {
    "hidden": true
   },
   "source": [
    "As variáveis quantitativas discretas representam numeros inteiros, dados extraidos a partir da contagem. "
   ]
  },
  {
   "cell_type": "code",
   "execution_count": 7,
   "id": "0549cc34",
   "metadata": {
    "ExecuteTime": {
     "end_time": "2022-10-16T01:57:31.446167Z",
     "start_time": "2022-10-16T01:57:31.440605Z"
    },
    "hidden": true
   },
   "outputs": [
    {
     "data": {
      "text/plain": [
       "0        23\n",
       "1        23\n",
       "2        35\n",
       "3        46\n",
       "4        47\n",
       "         ..\n",
       "76835    46\n",
       "76836    30\n",
       "76837    32\n",
       "76838    57\n",
       "76839    38\n",
       "Name: Idade, Length: 76840, dtype: int64"
      ]
     },
     "execution_count": 7,
     "metadata": {},
     "output_type": "execute_result"
    }
   ],
   "source": [
    "# Outra forma de selecionar uma coluna de um dataframe\n",
    "\n",
    "df.Idade"
   ]
  },
  {
   "cell_type": "markdown",
   "id": "8f4369ae",
   "metadata": {
    "hidden": true
   },
   "source": [
    " "
   ]
  },
  {
   "cell_type": "code",
   "execution_count": 8,
   "id": "73819684",
   "metadata": {
    "ExecuteTime": {
     "end_time": "2022-10-16T01:57:31.451012Z",
     "start_time": "2022-10-16T01:57:31.447873Z"
    },
    "hidden": true
   },
   "outputs": [
    {
     "name": "stdout",
     "output_type": "stream",
     "text": [
      "Idade minima 13\n",
      "Idade maxima 99\n"
     ]
    }
   ],
   "source": [
    "# Min e max da coluna Idade\n",
    "\n",
    "print(f'Idade minima {df.Idade.min()}')\n",
    "print(f'Idade maxima {df.Idade.max()}')"
   ]
  },
  {
   "cell_type": "markdown",
   "id": "7483790e",
   "metadata": {
    "hidden": true
   },
   "source": [
    " "
   ]
  },
  {
   "cell_type": "markdown",
   "id": "0fcbc9ff",
   "metadata": {
    "hidden": true
   },
   "source": [
    "\n",
    "### <font color='orange'>Observação<font>\n",
    "    \n",
    "A variável _**idade**_ pode ser classificada de três formas distintas:\n",
    "\n",
    "- **1.Quantitativa discreta**: quando representa números completos.\n",
    "- **2.Quantitativa continua**: quando representa a idade exata, sendo representada por frações de anos.\n",
    "- **3.Qualitativa ordinal**: quando representa faixas de idade.\n",
    "    "
   ]
  },
  {
   "cell_type": "markdown",
   "id": "7c625e1a",
   "metadata": {
    "hidden": true
   },
   "source": [
    " <br>"
   ]
  },
  {
   "cell_type": "markdown",
   "id": "a839620b",
   "metadata": {
    "heading_collapsed": true,
    "hidden": true
   },
   "source": [
    "## 🔶 Variáveis quantitativas continuas"
   ]
  },
  {
   "cell_type": "markdown",
   "id": "93bf7be7",
   "metadata": {
    "hidden": true
   },
   "source": [
    "Variáveis que representam a mensuração de algo, valores com casas decimais."
   ]
  },
  {
   "cell_type": "code",
   "execution_count": 9,
   "id": "143b8284",
   "metadata": {
    "ExecuteTime": {
     "end_time": "2022-10-16T01:57:31.457445Z",
     "start_time": "2022-10-16T01:57:31.452396Z"
    },
    "hidden": true,
    "scrolled": true
   },
   "outputs": [
    {
     "data": {
      "text/plain": [
       "0        1.603808\n",
       "1        1.739790\n",
       "2        1.760444\n",
       "3        1.783158\n",
       "4        1.690631\n",
       "           ...   \n",
       "76835    1.687030\n",
       "76836    1.792934\n",
       "76837    1.830587\n",
       "76838    1.726344\n",
       "76839    1.658305\n",
       "Name: Altura, Length: 76840, dtype: float64"
      ]
     },
     "execution_count": 9,
     "metadata": {},
     "output_type": "execute_result"
    }
   ],
   "source": [
    "df['Altura']"
   ]
  },
  {
   "cell_type": "markdown",
   "id": "3d64943c",
   "metadata": {
    "hidden": true
   },
   "source": [
    " "
   ]
  },
  {
   "cell_type": "code",
   "execution_count": 10,
   "id": "91549104",
   "metadata": {
    "ExecuteTime": {
     "end_time": "2022-10-16T01:57:31.463747Z",
     "start_time": "2022-10-16T01:57:31.460677Z"
    },
    "hidden": true
   },
   "outputs": [
    {
     "name": "stdout",
     "output_type": "stream",
     "text": [
      "Altura minima 1.3\n",
      "Altura maxima 2.0\n"
     ]
    }
   ],
   "source": [
    "# Min e max da coluna Altura\n",
    "\n",
    "print(f'Altura minima {df[\"Altura\"].min():.1f}')\n",
    "print(f'Altura maxima {df[\"Altura\"].max():.1f}')"
   ]
  },
  {
   "cell_type": "markdown",
   "id": "65083c75",
   "metadata": {
    "hidden": true
   },
   "source": [
    " "
   ]
  },
  {
   "cell_type": "markdown",
   "id": "e01945de",
   "metadata": {
    "heading_collapsed": true
   },
   "source": [
    "# 🔷 Distribuição de frequência"
   ]
  },
  {
   "cell_type": "markdown",
   "id": "a76c6db6",
   "metadata": {
    "hidden": true
   },
   "source": [
    "O primeiro passo em um trabalho de análise é descobri o comportamento das variáveis envolvidas estudo. Utilizando técnicas estatísticas como as análises das **DISTRIBUIÇÕES DE FREQUÊNCIAS** e **HISTOGRAMAS**. Devido a isso podemos avaliar melhor a forma como os fenômenos em estudo se distribuem."
   ]
  },
  {
   "cell_type": "markdown",
   "id": "65c37d9f",
   "metadata": {
    "heading_collapsed": true,
    "hidden": true
   },
   "source": [
    "## 🔶 Distribuição de frequência para variáveis qualitativas"
   ]
  },
  {
   "cell_type": "markdown",
   "id": "fe89c39c",
   "metadata": {
    "hidden": true
   },
   "source": [
    "Vamos criar uma função para podermos visualisar uma tabela bem organizada que mostre a frequência absoluta e a frequência relativa para cada variável do nosso dataset.\n",
    "\n",
    "**FREQUÊNCIA ABSOLUTA**: É a quantidade de vezes que cada valor de uma variável se repete.<br>\n",
    "**FREQUENCIA RELATIVA**: É a frequência absoluta expressa em porcentagem."
   ]
  },
  {
   "cell_type": "code",
   "execution_count": 66,
   "id": "5156a3c3",
   "metadata": {
    "ExecuteTime": {
     "end_time": "2022-10-16T03:06:34.454445Z",
     "start_time": "2022-10-16T03:06:34.446776Z"
    },
    "hidden": true
   },
   "outputs": [],
   "source": [
    "def tabela(coluna, indice):\n",
    "    # coluna: deve ser uma coluna do dataset que corresponda a uma variável qualitativa\n",
    "    # indice: deve ser um dicionário especificando com o código e o valor que esse código representa\n",
    "    \n",
    "    # Importando a lib pandas para que essa função funcione em qualquer arquivo.py ou ipynb\n",
    "    import pandas as pd\n",
    "    \n",
    "    # Descobrindo a frequencia absoluta e relativa de cada valor da coluna\n",
    "    freq_absoluta = coluna.value_counts()\n",
    "    freq_relativa = round(coluna.value_counts(normalize=True) * 100, 2)\n",
    "    \n",
    "    # Vamos criar um dataframe para uma melhor visualisação dessas informações\n",
    "    df = pd.DataFrame({'Freq_absoluta':freq_absoluta, 'Freq_relativa  (%)':freq_relativa})\n",
    "    \n",
    "    # Trocando o indice label das linhas \n",
    "    df.rename(index=indice, inplace=True)\n",
    "    \n",
    "    # Atribuindo um nome para a coluna de índice das linhas\n",
    "    df.rename_axis(coluna.name, axis='columns', inplace=True)\n",
    "    \n",
    "    return df"
   ]
  },
  {
   "cell_type": "markdown",
   "id": "8cc5b3f8",
   "metadata": {
    "hidden": true
   },
   "source": [
    " <br>"
   ]
  },
  {
   "cell_type": "markdown",
   "id": "49a0559a",
   "metadata": {
    "hidden": true
   },
   "source": [
    "Vamos ver as frequências da coluna 'Sexo' do nosso dataset"
   ]
  },
  {
   "cell_type": "code",
   "execution_count": 12,
   "id": "7475811d",
   "metadata": {
    "ExecuteTime": {
     "end_time": "2022-10-16T01:57:31.478587Z",
     "start_time": "2022-10-16T01:57:31.470292Z"
    },
    "hidden": true,
    "scrolled": true
   },
   "outputs": [
    {
     "data": {
      "text/html": [
       "<div>\n",
       "<style scoped>\n",
       "    .dataframe tbody tr th:only-of-type {\n",
       "        vertical-align: middle;\n",
       "    }\n",
       "\n",
       "    .dataframe tbody tr th {\n",
       "        vertical-align: top;\n",
       "    }\n",
       "\n",
       "    .dataframe thead th {\n",
       "        text-align: right;\n",
       "    }\n",
       "</style>\n",
       "<table border=\"1\" class=\"dataframe\">\n",
       "  <thead>\n",
       "    <tr style=\"text-align: right;\">\n",
       "      <th>Sexo</th>\n",
       "      <th>Freq_absoluta</th>\n",
       "      <th>Freq_relativa  (%)</th>\n",
       "    </tr>\n",
       "  </thead>\n",
       "  <tbody>\n",
       "    <tr>\n",
       "      <th>Masculino</th>\n",
       "      <td>53250</td>\n",
       "      <td>69.3</td>\n",
       "    </tr>\n",
       "    <tr>\n",
       "      <th>Feminino</th>\n",
       "      <td>23590</td>\n",
       "      <td>30.7</td>\n",
       "    </tr>\n",
       "  </tbody>\n",
       "</table>\n",
       "</div>"
      ],
      "text/plain": [
       "Sexo       Freq_absoluta  Freq_relativa  (%)\n",
       "Masculino          53250                69.3\n",
       "Feminino           23590                30.7"
      ]
     },
     "execution_count": 12,
     "metadata": {},
     "output_type": "execute_result"
    }
   ],
   "source": [
    "tabela(coluna=df['Sexo'], indice={0: 'Masculino', 1:'Feminino'})"
   ]
  },
  {
   "cell_type": "markdown",
   "id": "b7d37b50",
   "metadata": {
    "hidden": true
   },
   "source": [
    " <br>"
   ]
  },
  {
   "cell_type": "markdown",
   "id": "429cd047",
   "metadata": {
    "hidden": true
   },
   "source": [
    "Vamos ver as frequências da coluna 'Cor' do nosso dataset"
   ]
  },
  {
   "cell_type": "code",
   "execution_count": 13,
   "id": "83341e4c",
   "metadata": {
    "ExecuteTime": {
     "end_time": "2022-10-16T01:57:31.487886Z",
     "start_time": "2022-10-16T01:57:31.480009Z"
    },
    "hidden": true
   },
   "outputs": [
    {
     "data": {
      "text/html": [
       "<div>\n",
       "<style scoped>\n",
       "    .dataframe tbody tr th:only-of-type {\n",
       "        vertical-align: middle;\n",
       "    }\n",
       "\n",
       "    .dataframe tbody tr th {\n",
       "        vertical-align: top;\n",
       "    }\n",
       "\n",
       "    .dataframe thead th {\n",
       "        text-align: right;\n",
       "    }\n",
       "</style>\n",
       "<table border=\"1\" class=\"dataframe\">\n",
       "  <thead>\n",
       "    <tr style=\"text-align: right;\">\n",
       "      <th>Cor</th>\n",
       "      <th>Freq_absoluta</th>\n",
       "      <th>Freq_relativa  (%)</th>\n",
       "    </tr>\n",
       "  </thead>\n",
       "  <tbody>\n",
       "    <tr>\n",
       "      <th>Parda</th>\n",
       "      <td>35925</td>\n",
       "      <td>46.75</td>\n",
       "    </tr>\n",
       "    <tr>\n",
       "      <th>Branca</th>\n",
       "      <td>31815</td>\n",
       "      <td>41.40</td>\n",
       "    </tr>\n",
       "    <tr>\n",
       "      <th>Preta</th>\n",
       "      <td>8391</td>\n",
       "      <td>10.92</td>\n",
       "    </tr>\n",
       "    <tr>\n",
       "      <th>Indigena</th>\n",
       "      <td>357</td>\n",
       "      <td>0.46</td>\n",
       "    </tr>\n",
       "    <tr>\n",
       "      <th>Amarela</th>\n",
       "      <td>352</td>\n",
       "      <td>0.46</td>\n",
       "    </tr>\n",
       "  </tbody>\n",
       "</table>\n",
       "</div>"
      ],
      "text/plain": [
       "Cor       Freq_absoluta  Freq_relativa  (%)\n",
       "Parda             35925               46.75\n",
       "Branca            31815               41.40\n",
       "Preta              8391               10.92\n",
       "Indigena            357                0.46\n",
       "Amarela             352                0.46"
      ]
     },
     "execution_count": 13,
     "metadata": {},
     "output_type": "execute_result"
    }
   ],
   "source": [
    "tabela(coluna=df['Cor'], indice={0: 'Indigena', 2:'Branca', 4:'Preta', 6:'Amarela', 8:'Parda', 9:'Sem declaração'})"
   ]
  },
  {
   "cell_type": "markdown",
   "id": "7fd54fbc",
   "metadata": {
    "hidden": true
   },
   "source": [
    " <br>"
   ]
  },
  {
   "cell_type": "markdown",
   "id": "afb825ab",
   "metadata": {
    "heading_collapsed": true,
    "hidden": true
   },
   "source": [
    "## 🔶 Cruzando os dados"
   ]
  },
  {
   "cell_type": "markdown",
   "id": "e5e536a9",
   "metadata": {
    "hidden": true
   },
   "source": [
    "Agora vamos aprender a fazer um cruzamento entre dados usando a função **crosstab** do pandas. Em um primeiro momento vamos descobrir a frequência absoluta, frequência relativa, renda média e idade média separando os dados em grupos de acordo com sexo e cor."
   ]
  },
  {
   "cell_type": "code",
   "execution_count": 65,
   "id": "de8bcb2b",
   "metadata": {
    "ExecuteTime": {
     "end_time": "2022-10-16T02:51:25.749027Z",
     "start_time": "2022-10-16T02:51:24.782572Z"
    },
    "hidden": true
   },
   "outputs": [
    {
     "name": "stdout",
     "output_type": "stream",
     "text": [
      "\n",
      "Qual tipo de informação você deseja ver?\n",
      "\n",
      "[0] frequência absoluta \n",
      "[1] frequência relativa\n",
      "[2] renda média\n",
      "[3] idade média\n",
      "\n",
      "Resposta: 3\n"
     ]
    },
    {
     "data": {
      "text/html": [
       "<div>\n",
       "<style scoped>\n",
       "    .dataframe tbody tr th:only-of-type {\n",
       "        vertical-align: middle;\n",
       "    }\n",
       "\n",
       "    .dataframe tbody tr th {\n",
       "        vertical-align: top;\n",
       "    }\n",
       "\n",
       "    .dataframe thead th {\n",
       "        text-align: right;\n",
       "    }\n",
       "</style>\n",
       "<table border=\"1\" class=\"dataframe\">\n",
       "  <thead>\n",
       "    <tr style=\"text-align: right;\">\n",
       "      <th></th>\n",
       "      <th>Masculino</th>\n",
       "      <th>Feminino</th>\n",
       "    </tr>\n",
       "  </thead>\n",
       "  <tbody>\n",
       "    <tr>\n",
       "      <th>Indigena</th>\n",
       "      <td>42.242</td>\n",
       "      <td>44.564</td>\n",
       "    </tr>\n",
       "    <tr>\n",
       "      <th>Branca</th>\n",
       "      <td>45.108</td>\n",
       "      <td>44.880</td>\n",
       "    </tr>\n",
       "    <tr>\n",
       "      <th>Preta</th>\n",
       "      <td>43.162</td>\n",
       "      <td>43.955</td>\n",
       "    </tr>\n",
       "    <tr>\n",
       "      <th>Amarela</th>\n",
       "      <td>47.055</td>\n",
       "      <td>44.607</td>\n",
       "    </tr>\n",
       "    <tr>\n",
       "      <th>Parda</th>\n",
       "      <td>43.291</td>\n",
       "      <td>43.498</td>\n",
       "    </tr>\n",
       "  </tbody>\n",
       "</table>\n",
       "</div>"
      ],
      "text/plain": [
       "          Masculino  Feminino\n",
       "Indigena     42.242    44.564\n",
       "Branca       45.108    44.880\n",
       "Preta        43.162    43.955\n",
       "Amarela      47.055    44.607\n",
       "Parda        43.291    43.498"
      ]
     },
     "execution_count": 65,
     "metadata": {},
     "output_type": "execute_result"
    }
   ],
   "source": [
    "# Vamos criar o nosso dataframe com as frequências absolutas ou relativas de cada grupo de acordo com seu sexo e cor\n",
    "print('\\nQual tipo de informação você deseja ver?')\n",
    "print('''\n",
    "[0] frequência absoluta \n",
    "[1] frequência relativa\n",
    "[2] renda média\n",
    "[3] idade média''')\n",
    "\n",
    "tipo_info = input('\\nResposta: ')\n",
    "\n",
    "\n",
    "freq_tipo = False\n",
    "func = None\n",
    "val = None\n",
    "\n",
    "\n",
    "if tipo_info == '1':\n",
    "    freq_tipo = True\n",
    "elif tipo_info == '2':\n",
    "    func = 'mean'\n",
    "    val = df['Renda']\n",
    "elif tipo_info == '3':\n",
    "    func = 'mean'\n",
    "    val = df['Idade']\n",
    "    \n",
    "\n",
    "df_info = pd.crosstab(index= df['Cor'], columns= df['Sexo'], normalize= freq_tipo, aggfunc= func, values= val)\n",
    "\n",
    "if tipo_info == '1':\n",
    "    df_info = df_info*100\n",
    "\n",
    "# Vamos renomear os indices das linhas e das colunas para ficar visivelmente mais agradável\n",
    "df_info.rename(index={0: 'Indigena', 2:'Branca', 4:'Preta', 6:'Amarela', 8:'Parda', 9:'Sem declaração'},\n",
    "          columns={0: 'Masculino', 1:'Feminino'},\n",
    "          inplace=True)\n",
    "\n",
    "# Retirando o rótulo dos eixos do dataframe\n",
    "df_info.rename_axis(None, axis='columns', inplace=True)\n",
    "df_info.rename_axis(None, axis='rows', inplace=True)\n",
    "\n",
    "# Mostrando o dataframe \n",
    "round(df_info, 3)"
   ]
  },
  {
   "cell_type": "markdown",
   "id": "053df97f",
   "metadata": {
    "hidden": true
   },
   "source": [
    " <br>"
   ]
  },
  {
   "cell_type": "markdown",
   "id": "014940b6",
   "metadata": {
    "heading_collapsed": true,
    "hidden": true
   },
   "source": [
    "## 🔶 Distribuição de frequência para variáveis quantitativas"
   ]
  },
  {
   "cell_type": "markdown",
   "id": "3c62793c",
   "metadata": {
    "hidden": true
   },
   "source": [
    "Podemos calcular a frequência das variáveis quantitativas de 2 formas. Classificando elas ou não classificando elas."
   ]
  },
  {
   "cell_type": "markdown",
   "id": "ad59b14c",
   "metadata": {
    "heading_collapsed": true,
    "hidden": true
   },
   "source": [
    "### 🔺 Sem classificação"
   ]
  },
  {
   "cell_type": "markdown",
   "id": "305c4eb8",
   "metadata": {
    "hidden": true
   },
   "source": [
    "Para facilitar, vamos pegar a função **tabela** e modificá-la para poder calcular as frequências das variáveis quantitativas do nosso dataset."
   ]
  },
  {
   "cell_type": "code",
   "execution_count": 83,
   "id": "35a112b9",
   "metadata": {
    "ExecuteTime": {
     "end_time": "2022-10-16T03:28:29.024278Z",
     "start_time": "2022-10-16T03:28:29.019391Z"
    },
    "hidden": true
   },
   "outputs": [],
   "source": [
    "def tabela(coluna):\n",
    "    # coluna: deve ser uma coluna do dataset que corresponda a uma variável qualitativa\n",
    "    \n",
    "    # Importando a lib pandas para que essa função funcione em qualquer arquivo.py ou ipynb\n",
    "    import pandas as pd\n",
    "    \n",
    "    # Descobrindo a frequencia absoluta e relativa de cada valor da coluna\n",
    "    freq_absoluta = coluna.value_counts()\n",
    "    freq_relativa = round(coluna.value_counts(normalize=True) * 100, 2)\n",
    "    \n",
    "    # Vamos criar um dataframe para uma melhor visualisação dessas informações\n",
    "    df = pd.DataFrame({'Freq_absoluta':freq_absoluta, 'Freq_relativa  (%)':freq_relativa})\n",
    "    \n",
    "    # Atribuindo um nome para a coluna de índice das linhas\n",
    "    df.rename_axis(coluna.name, axis='columns', inplace=True)\n",
    "    \n",
    "    return df"
   ]
  },
  {
   "cell_type": "markdown",
   "id": "4b80829a",
   "metadata": {
    "hidden": true
   },
   "source": [
    "<br>"
   ]
  },
  {
   "cell_type": "markdown",
   "id": "5945ea5b",
   "metadata": {
    "hidden": true
   },
   "source": [
    "Vamos calcular as frequências da coluna 'Renda' do nosso dataset sem classificá-la."
   ]
  },
  {
   "cell_type": "code",
   "execution_count": 84,
   "id": "973e0a6c",
   "metadata": {
    "ExecuteTime": {
     "end_time": "2022-10-16T03:28:30.706886Z",
     "start_time": "2022-10-16T03:28:30.687549Z"
    },
    "collapsed": true,
    "hidden": true
   },
   "outputs": [
    {
     "data": {
      "text/html": [
       "<div>\n",
       "<style scoped>\n",
       "    .dataframe tbody tr th:only-of-type {\n",
       "        vertical-align: middle;\n",
       "    }\n",
       "\n",
       "    .dataframe tbody tr th {\n",
       "        vertical-align: top;\n",
       "    }\n",
       "\n",
       "    .dataframe thead th {\n",
       "        text-align: right;\n",
       "    }\n",
       "</style>\n",
       "<table border=\"1\" class=\"dataframe\">\n",
       "  <thead>\n",
       "    <tr style=\"text-align: right;\">\n",
       "      <th>Renda</th>\n",
       "      <th>Freq_absoluta</th>\n",
       "      <th>Freq_relativa  (%)</th>\n",
       "    </tr>\n",
       "  </thead>\n",
       "  <tbody>\n",
       "    <tr>\n",
       "      <th>788</th>\n",
       "      <td>6881</td>\n",
       "      <td>8.95</td>\n",
       "    </tr>\n",
       "    <tr>\n",
       "      <th>1500</th>\n",
       "      <td>4567</td>\n",
       "      <td>5.94</td>\n",
       "    </tr>\n",
       "    <tr>\n",
       "      <th>1200</th>\n",
       "      <td>4476</td>\n",
       "      <td>5.83</td>\n",
       "    </tr>\n",
       "    <tr>\n",
       "      <th>2000</th>\n",
       "      <td>4233</td>\n",
       "      <td>5.51</td>\n",
       "    </tr>\n",
       "    <tr>\n",
       "      <th>1000</th>\n",
       "      <td>4158</td>\n",
       "      <td>5.41</td>\n",
       "    </tr>\n",
       "  </tbody>\n",
       "</table>\n",
       "</div>"
      ],
      "text/plain": [
       "Renda  Freq_absoluta  Freq_relativa  (%)\n",
       "788             6881                8.95\n",
       "1500            4567                5.94\n",
       "1200            4476                5.83\n",
       "2000            4233                5.51\n",
       "1000            4158                5.41"
      ]
     },
     "execution_count": 84,
     "metadata": {},
     "output_type": "execute_result"
    }
   ],
   "source": [
    "tabela(df['Renda']).head() #O metodo head serve para visualisar as n primeiras linhas de um dataframe, o padrão é 5"
   ]
  },
  {
   "cell_type": "markdown",
   "id": "e2ffb547",
   "metadata": {
    "hidden": true
   },
   "source": [
    " <br>"
   ]
  },
  {
   "cell_type": "markdown",
   "id": "6e0980bc",
   "metadata": {
    "hidden": true
   },
   "source": [
    "Vamos calcular as frequências da coluna 'Idade' do nosso dataset sem classificá-la."
   ]
  },
  {
   "cell_type": "code",
   "execution_count": 86,
   "id": "0f0cff70",
   "metadata": {
    "ExecuteTime": {
     "end_time": "2022-10-16T03:29:04.373890Z",
     "start_time": "2022-10-16T03:29:04.358437Z"
    },
    "collapsed": true,
    "hidden": true
   },
   "outputs": [
    {
     "data": {
      "text/html": [
       "<div>\n",
       "<style scoped>\n",
       "    .dataframe tbody tr th:only-of-type {\n",
       "        vertical-align: middle;\n",
       "    }\n",
       "\n",
       "    .dataframe tbody tr th {\n",
       "        vertical-align: top;\n",
       "    }\n",
       "\n",
       "    .dataframe thead th {\n",
       "        text-align: right;\n",
       "    }\n",
       "</style>\n",
       "<table border=\"1\" class=\"dataframe\">\n",
       "  <thead>\n",
       "    <tr style=\"text-align: right;\">\n",
       "      <th>Idade</th>\n",
       "      <th>Freq_absoluta</th>\n",
       "      <th>Freq_relativa  (%)</th>\n",
       "    </tr>\n",
       "  </thead>\n",
       "  <tbody>\n",
       "    <tr>\n",
       "      <th>40</th>\n",
       "      <td>2263</td>\n",
       "      <td>2.95</td>\n",
       "    </tr>\n",
       "    <tr>\n",
       "      <th>45</th>\n",
       "      <td>2250</td>\n",
       "      <td>2.93</td>\n",
       "    </tr>\n",
       "    <tr>\n",
       "      <th>37</th>\n",
       "      <td>2235</td>\n",
       "      <td>2.91</td>\n",
       "    </tr>\n",
       "    <tr>\n",
       "      <th>43</th>\n",
       "      <td>2213</td>\n",
       "      <td>2.88</td>\n",
       "    </tr>\n",
       "    <tr>\n",
       "      <th>35</th>\n",
       "      <td>2206</td>\n",
       "      <td>2.87</td>\n",
       "    </tr>\n",
       "  </tbody>\n",
       "</table>\n",
       "</div>"
      ],
      "text/plain": [
       "Idade  Freq_absoluta  Freq_relativa  (%)\n",
       "40              2263                2.95\n",
       "45              2250                2.93\n",
       "37              2235                2.91\n",
       "43              2213                2.88\n",
       "35              2206                2.87"
      ]
     },
     "execution_count": 86,
     "metadata": {},
     "output_type": "execute_result"
    }
   ],
   "source": [
    "tabela(df['Idade']).head()"
   ]
  },
  {
   "cell_type": "markdown",
   "id": "264174eb",
   "metadata": {
    "hidden": true
   },
   "source": [
    " <br>"
   ]
  },
  {
   "cell_type": "markdown",
   "id": "1898434c",
   "metadata": {
    "heading_collapsed": true,
    "hidden": true
   },
   "source": [
    "### 🔺 Classificando as variáveis quantitativas"
   ]
  },
  {
   "cell_type": "markdown",
   "id": "204f894d",
   "metadata": {
    "hidden": true
   },
   "source": [
    "Vamos pegar a coluna 'Renda' e classificá-la com base nas classes sociais.\n",
    "\n",
    "<font color=orange> **Passo 1**<font>\n",
    "\n",
    "Especificar os limites de cada classe. Usamero a seguinte classificação:\n",
    "\n",
    "**A** >> Acima de 20 SM<br>\n",
    "**C** >> De 10 a 20 SM<br>\n",
    "**C** >> De 4 a 10 SM<br>\n",
    "**D** >> De 2 a 4 SM<br>\n",
    "**E** >> Até 2 SM<br>\n",
    "\n",
    "Onde **SM** é o salário minino da época. No nosso caso **R$ 788,00** (**2015**)\n",
    "\n",
    "**A** >> Acima de 15.760<br>\n",
    "**C** >> De 7.880 a 15.760 SM<br>\n",
    "**C** >> De 3.152 a 7.880 SM<br>\n",
    "**D** >> De 1.576 a 3.152 SM<br>\n",
    "**E** >> Até 1.576 SM<br>"
   ]
  },
  {
   "cell_type": "markdown",
   "id": "e4aedac7",
   "metadata": {
    "hidden": true
   },
   "source": [
    " "
   ]
  },
  {
   "cell_type": "markdown",
   "id": "77be6591",
   "metadata": {
    "hidden": true
   },
   "source": [
    "<font color=orange> **Passo 2**<font>\n",
    "\n",
    "Descobrir o valor máximo e minimo da nossa 'Renda'."
   ]
  },
  {
   "cell_type": "code",
   "execution_count": 6,
   "id": "3b733baf",
   "metadata": {
    "ExecuteTime": {
     "end_time": "2022-10-20T22:31:28.539506Z",
     "start_time": "2022-10-20T22:31:28.534060Z"
    },
    "hidden": true
   },
   "outputs": [
    {
     "name": "stdout",
     "output_type": "stream",
     "text": [
      "200000\n",
      "0\n"
     ]
    }
   ],
   "source": [
    "maximo = df['Renda'].max()\n",
    "minimo = df['Renda'].min()\n",
    "\n",
    "print(maximo)\n",
    "print(minimo)"
   ]
  },
  {
   "cell_type": "markdown",
   "id": "d9e3db30",
   "metadata": {
    "hidden": true
   },
   "source": [
    " <br>"
   ]
  },
  {
   "cell_type": "markdown",
   "id": "e3484bd1",
   "metadata": {
    "hidden": true
   },
   "source": [
    "Criar uma lista com o minimo, o maximo e os limites de cada classe. E também vamos criar os labels do nosso dataframe."
   ]
  },
  {
   "cell_type": "code",
   "execution_count": 7,
   "id": "85750cb1",
   "metadata": {
    "ExecuteTime": {
     "end_time": "2022-10-20T22:31:30.730259Z",
     "start_time": "2022-10-20T22:31:30.724292Z"
    },
    "hidden": true
   },
   "outputs": [],
   "source": [
    "limites = [0, 1576, 3152, 7880, 15760, 200000]\n",
    "classes = ['E', 'D', 'C', 'B', 'A']"
   ]
  },
  {
   "cell_type": "markdown",
   "id": "7e66e679",
   "metadata": {
    "hidden": true
   },
   "source": [
    " <br> "
   ]
  },
  {
   "cell_type": "markdown",
   "id": "4e73c97b",
   "metadata": {
    "hidden": true
   },
   "source": [
    "Vamos usar o método cut do pandas para criar essa classificação."
   ]
  },
  {
   "cell_type": "code",
   "execution_count": 8,
   "id": "ad4d46f2",
   "metadata": {
    "ExecuteTime": {
     "end_time": "2022-10-20T22:31:32.675954Z",
     "start_time": "2022-10-20T22:31:32.662876Z"
    },
    "hidden": true
   },
   "outputs": [],
   "source": [
    "import pandas as pd\n",
    "x = pd.cut(x= df['Renda'], # a coluna que desejamos classificar\n",
    "       bins= limites,      # os limites que definem a classificação\n",
    "       labels= classes,    # serve para indicar qual tipo de classe a pessoa se encaixa\n",
    "       include_lowest= True  # por padrão esse método não contabiliza as linhas que tem o mesmo valor que o valor minimo    \n",
    "      )                      # colocamos True para que o pandas passe a contabilizar essas linhas"
   ]
  },
  {
   "cell_type": "markdown",
   "id": "13f6972f",
   "metadata": {
    "hidden": true
   },
   "source": [
    " <br> "
   ]
  },
  {
   "cell_type": "markdown",
   "id": "c5c0b76d",
   "metadata": {
    "hidden": true
   },
   "source": [
    "Agora vamos calcular a frequência absoluta e relativa como ja fizemos antes."
   ]
  },
  {
   "cell_type": "code",
   "execution_count": 9,
   "id": "64df485b",
   "metadata": {
    "ExecuteTime": {
     "end_time": "2022-10-20T22:31:34.603137Z",
     "start_time": "2022-10-20T22:31:34.576387Z"
    },
    "hidden": true
   },
   "outputs": [
    {
     "data": {
      "text/html": [
       "<div>\n",
       "<style scoped>\n",
       "    .dataframe tbody tr th:only-of-type {\n",
       "        vertical-align: middle;\n",
       "    }\n",
       "\n",
       "    .dataframe tbody tr th {\n",
       "        vertical-align: top;\n",
       "    }\n",
       "\n",
       "    .dataframe thead th {\n",
       "        text-align: right;\n",
       "    }\n",
       "</style>\n",
       "<table border=\"1\" class=\"dataframe\">\n",
       "  <thead>\n",
       "    <tr style=\"text-align: right;\">\n",
       "      <th>Classes</th>\n",
       "      <th>Freq_absoluta</th>\n",
       "      <th>Freq_relativa  (%)</th>\n",
       "    </tr>\n",
       "  </thead>\n",
       "  <tbody>\n",
       "    <tr>\n",
       "      <th>A</th>\n",
       "      <td>608</td>\n",
       "      <td>0.79</td>\n",
       "    </tr>\n",
       "    <tr>\n",
       "      <th>B</th>\n",
       "      <td>2178</td>\n",
       "      <td>2.83</td>\n",
       "    </tr>\n",
       "    <tr>\n",
       "      <th>C</th>\n",
       "      <td>7599</td>\n",
       "      <td>9.89</td>\n",
       "    </tr>\n",
       "    <tr>\n",
       "      <th>D</th>\n",
       "      <td>16700</td>\n",
       "      <td>21.73</td>\n",
       "    </tr>\n",
       "    <tr>\n",
       "      <th>E</th>\n",
       "      <td>49755</td>\n",
       "      <td>64.75</td>\n",
       "    </tr>\n",
       "  </tbody>\n",
       "</table>\n",
       "</div>"
      ],
      "text/plain": [
       "Classes  Freq_absoluta  Freq_relativa  (%)\n",
       "A                  608                0.79\n",
       "B                 2178                2.83\n",
       "C                 7599                9.89\n",
       "D                16700               21.73\n",
       "E                49755               64.75"
      ]
     },
     "execution_count": 9,
     "metadata": {},
     "output_type": "execute_result"
    }
   ],
   "source": [
    "# calculando a frequencia absoluta e relativa\n",
    "freq_absoluta = x.value_counts()\n",
    "freq_relativa = round(x.value_counts(normalize=True)*100,2)\n",
    "\n",
    "# criando o dataframe para uma melhor visualização das informações\n",
    "df_frequencias = pd.DataFrame({'Freq_absoluta':freq_absoluta, 'Freq_relativa  (%)':freq_relativa})\n",
    "\n",
    "# adicionando um rotulo para a coluna de indices\n",
    "df_frequencias.rename_axis('Classes', axis=1, inplace=True)\n",
    "\n",
    "# ordenando o as colunas pelo indice\n",
    "df_frequencias.sort_index(ascending=False)"
   ]
  },
  {
   "cell_type": "markdown",
   "id": "b0ad5b72",
   "metadata": {
    "heading_collapsed": true,
    "hidden": true
   },
   "source": [
    "### 🔺 Regra de Sturges"
   ]
  },
  {
   "cell_type": "markdown",
   "id": "dcb12110",
   "metadata": {
    "hidden": true
   },
   "source": [
    "As vezes podemos encontrar variáveis quantitativas que não possuem uma classificação definida que nem no exemplo passado, aonde usamos as classes sociais. Por isso existe uma formula que nos ajuda a criarmos essas classificações, **a regra de sturges**.\n",
    "\n",
    "Essa regra basicamente nos diz aproximadamente a quantidade de classes que devemos criar para ter um melhor entendimento dos dados. As classes devem ter uma aplitude fixa, ou seja, a razão de uma classe para outra deve ser igual."
   ]
  },
  {
   "cell_type": "markdown",
   "id": "38e51a3b",
   "metadata": {
    "hidden": true
   },
   "source": [
    "\n",
    "# $$k = 1 + \\frac {10}{3}\\log_{10}n$$"
   ]
  },
  {
   "cell_type": "markdown",
   "id": "5cb8db28",
   "metadata": {
    "hidden": true
   },
   "source": [
    "Para aplicarmos essa regra ná prática precisaremos importar a lib numpy."
   ]
  },
  {
   "cell_type": "code",
   "execution_count": 10,
   "id": "68c58b84",
   "metadata": {
    "ExecuteTime": {
     "end_time": "2022-10-21T02:34:42.816403Z",
     "start_time": "2022-10-21T02:34:42.810234Z"
    },
    "hidden": true
   },
   "outputs": [],
   "source": [
    "import numpy as np"
   ]
  },
  {
   "cell_type": "code",
   "execution_count": 15,
   "id": "f224eaea",
   "metadata": {
    "ExecuteTime": {
     "end_time": "2022-10-21T02:42:45.196966Z",
     "start_time": "2022-10-21T02:42:45.188229Z"
    },
    "hidden": true
   },
   "outputs": [
    {
     "data": {
      "text/plain": [
       "17.285291187298853"
      ]
     },
     "execution_count": 15,
     "metadata": {},
     "output_type": "execute_result"
    }
   ],
   "source": [
    "# o n da formula seria a quantidade de valores que temos sobre uma variável, ou seja, a quantidade de linhas.\n",
    "n = df.shape[0]\n",
    "\n",
    "# construido o cálculo\n",
    "k = 1 + (10/3) * np.log10(n)\n",
    "\n",
    "k  "
   ]
  },
  {
   "cell_type": "markdown",
   "id": "fdc313c2",
   "metadata": {
    "hidden": true
   },
   "source": [
    " "
   ]
  },
  {
   "cell_type": "markdown",
   "id": "48595efc",
   "metadata": {
    "hidden": true
   },
   "source": [
    "Como não é possivel criar 17,28 classes, iremos arredondar o numero para dar continuidade."
   ]
  },
  {
   "cell_type": "code",
   "execution_count": 20,
   "id": "c83c4069",
   "metadata": {
    "ExecuteTime": {
     "end_time": "2022-10-21T02:46:51.226618Z",
     "start_time": "2022-10-21T02:46:51.217675Z"
    },
    "hidden": true
   },
   "outputs": [
    {
     "data": {
      "text/plain": [
       "17"
      ]
     },
     "execution_count": 20,
     "metadata": {},
     "output_type": "execute_result"
    }
   ],
   "source": [
    "k = int(k.round(0))\n",
    "k"
   ]
  },
  {
   "cell_type": "markdown",
   "id": "bc866878",
   "metadata": {
    "hidden": true
   },
   "source": [
    " "
   ]
  },
  {
   "cell_type": "markdown",
   "id": "9beb96b6",
   "metadata": {
    "hidden": true
   },
   "source": [
    "Agora nós iremos fazer o que já fizemos anteriormente, vamos criar uma tabela que mostra a distribuição dos dados de acordo com as 17 classes."
   ]
  },
  {
   "cell_type": "code",
   "execution_count": 47,
   "id": "a5bd4070",
   "metadata": {
    "ExecuteTime": {
     "end_time": "2022-10-21T03:20:33.080315Z",
     "start_time": "2022-10-21T03:20:33.040424Z"
    },
    "hidden": true,
    "scrolled": true
   },
   "outputs": [
    {
     "data": {
      "text/html": [
       "<div>\n",
       "<style scoped>\n",
       "    .dataframe tbody tr th:only-of-type {\n",
       "        vertical-align: middle;\n",
       "    }\n",
       "\n",
       "    .dataframe tbody tr th {\n",
       "        vertical-align: top;\n",
       "    }\n",
       "\n",
       "    .dataframe thead th {\n",
       "        text-align: right;\n",
       "    }\n",
       "</style>\n",
       "<table border=\"1\" class=\"dataframe\">\n",
       "  <thead>\n",
       "    <tr style=\"text-align: right;\">\n",
       "      <th>Faixa de renda</th>\n",
       "      <th>Freq. absoluta</th>\n",
       "      <th>Freq. relativa (%)</th>\n",
       "    </tr>\n",
       "  </thead>\n",
       "  <tbody>\n",
       "    <tr>\n",
       "      <th>(-200.001, 11764.706]</th>\n",
       "      <td>75594</td>\n",
       "      <td>98.378</td>\n",
       "    </tr>\n",
       "    <tr>\n",
       "      <th>(11764.706, 23529.412]</th>\n",
       "      <td>1022</td>\n",
       "      <td>1.330</td>\n",
       "    </tr>\n",
       "    <tr>\n",
       "      <th>(23529.412, 35294.118]</th>\n",
       "      <td>169</td>\n",
       "      <td>0.220</td>\n",
       "    </tr>\n",
       "    <tr>\n",
       "      <th>(35294.118, 47058.824]</th>\n",
       "      <td>19</td>\n",
       "      <td>0.025</td>\n",
       "    </tr>\n",
       "    <tr>\n",
       "      <th>(47058.824, 58823.529]</th>\n",
       "      <td>16</td>\n",
       "      <td>0.021</td>\n",
       "    </tr>\n",
       "    <tr>\n",
       "      <th>(58823.529, 70588.235]</th>\n",
       "      <td>5</td>\n",
       "      <td>0.007</td>\n",
       "    </tr>\n",
       "    <tr>\n",
       "      <th>(70588.235, 82352.941]</th>\n",
       "      <td>4</td>\n",
       "      <td>0.005</td>\n",
       "    </tr>\n",
       "    <tr>\n",
       "      <th>(82352.941, 94117.647]</th>\n",
       "      <td>1</td>\n",
       "      <td>0.001</td>\n",
       "    </tr>\n",
       "    <tr>\n",
       "      <th>(94117.647, 105882.353]</th>\n",
       "      <td>6</td>\n",
       "      <td>0.008</td>\n",
       "    </tr>\n",
       "    <tr>\n",
       "      <th>(105882.353, 117647.059]</th>\n",
       "      <td>0</td>\n",
       "      <td>0.000</td>\n",
       "    </tr>\n",
       "    <tr>\n",
       "      <th>(117647.059, 129411.765]</th>\n",
       "      <td>1</td>\n",
       "      <td>0.001</td>\n",
       "    </tr>\n",
       "    <tr>\n",
       "      <th>(129411.765, 141176.471]</th>\n",
       "      <td>0</td>\n",
       "      <td>0.000</td>\n",
       "    </tr>\n",
       "    <tr>\n",
       "      <th>(141176.471, 152941.176]</th>\n",
       "      <td>0</td>\n",
       "      <td>0.000</td>\n",
       "    </tr>\n",
       "    <tr>\n",
       "      <th>(152941.176, 164705.882]</th>\n",
       "      <td>0</td>\n",
       "      <td>0.000</td>\n",
       "    </tr>\n",
       "    <tr>\n",
       "      <th>(164705.882, 176470.588]</th>\n",
       "      <td>0</td>\n",
       "      <td>0.000</td>\n",
       "    </tr>\n",
       "    <tr>\n",
       "      <th>(176470.588, 188235.294]</th>\n",
       "      <td>0</td>\n",
       "      <td>0.000</td>\n",
       "    </tr>\n",
       "    <tr>\n",
       "      <th>(188235.294, 200000.0]</th>\n",
       "      <td>3</td>\n",
       "      <td>0.004</td>\n",
       "    </tr>\n",
       "  </tbody>\n",
       "</table>\n",
       "</div>"
      ],
      "text/plain": [
       "Faixa de renda            Freq. absoluta  Freq. relativa (%)\n",
       "(-200.001, 11764.706]              75594              98.378\n",
       "(11764.706, 23529.412]              1022               1.330\n",
       "(23529.412, 35294.118]               169               0.220\n",
       "(35294.118, 47058.824]                19               0.025\n",
       "(47058.824, 58823.529]                16               0.021\n",
       "(58823.529, 70588.235]                 5               0.007\n",
       "(70588.235, 82352.941]                 4               0.005\n",
       "(82352.941, 94117.647]                 1               0.001\n",
       "(94117.647, 105882.353]                6               0.008\n",
       "(105882.353, 117647.059]               0               0.000\n",
       "(117647.059, 129411.765]               1               0.001\n",
       "(129411.765, 141176.471]               0               0.000\n",
       "(141176.471, 152941.176]               0               0.000\n",
       "(152941.176, 164705.882]               0               0.000\n",
       "(164705.882, 176470.588]               0               0.000\n",
       "(176470.588, 188235.294]               0               0.000\n",
       "(188235.294, 200000.0]                 3               0.004"
      ]
     },
     "execution_count": 47,
     "metadata": {},
     "output_type": "execute_result"
    }
   ],
   "source": [
    "# Criando a classificação\n",
    "clas = pd.cut(\n",
    "    x= df['Renda'], # a coluna que desejamos classificar\n",
    "    bins= k,        # a quantidade de classes\n",
    "    include_lowest= True  # por padrão esse método não contabiliza as linhas que tem o mesmo valor que o valor minimo    \n",
    "                          # colocamos True para que o pandas passe a contabilizar essas linhas.  \n",
    ")                     \n",
    "        \n",
    "# Calculando a frequencia absoluta e relativa\n",
    "freq_absoluta = clas.value_counts(sort=False)\n",
    "freq_relativa = (clas.value_counts(sort=False, normalize=True) * 100).round(3)\n",
    "\n",
    "# Criando o dataframe para uma melhor visualização das informações\n",
    "df_frequencias = pd.DataFrame({'Freq. absoluta':freq_absoluta, 'Freq. relativa (%)':freq_relativa})\n",
    "\n",
    "# Adicionando um rotulo para a coluna de indices\n",
    "df_frequencias.rename_axis('Faixa de renda', axis='columns', inplace= True)\n",
    "\n",
    "# Mostrando o df\n",
    "df_frequencias"
   ]
  },
  {
   "cell_type": "markdown",
   "id": "e995ca1d",
   "metadata": {
    "heading_collapsed": true,
    "hidden": true
   },
   "source": [
    "## 🔶 Histograma\n"
   ]
  },
  {
   "cell_type": "markdown",
   "id": "40c710fc",
   "metadata": {
    "hidden": true
   },
   "source": [
    "Um histograma é um gráfico que serve para representar uma distribuição de frequência. É um gráfico formado por um grupo de retângulos colocados lado a lado, onde a área de cada retângulo é proporcional à frequência da classe que ele representa."
   ]
  },
  {
   "cell_type": "markdown",
   "id": "a3794566",
   "metadata": {
    "hidden": true
   },
   "source": [
    "Para criar um histograma no pytthon vamos importar a biblioteca **seaborn**."
   ]
  },
  {
   "cell_type": "code",
   "execution_count": 4,
   "id": "a83f904c",
   "metadata": {
    "ExecuteTime": {
     "end_time": "2022-10-21T13:48:22.768106Z",
     "start_time": "2022-10-21T13:48:22.763881Z"
    },
    "hidden": true
   },
   "outputs": [],
   "source": [
    "import seaborn as sns"
   ]
  },
  {
   "cell_type": "markdown",
   "id": "a6df77d9",
   "metadata": {
    "hidden": true
   },
   "source": [
    " "
   ]
  },
  {
   "cell_type": "markdown",
   "id": "68fd48c9",
   "metadata": {
    "hidden": true
   },
   "source": [
    "Vamos criar o histograma com base na coluna 'Altura' do nosso dataset."
   ]
  },
  {
   "cell_type": "code",
   "execution_count": 24,
   "id": "22db197a",
   "metadata": {
    "ExecuteTime": {
     "end_time": "2022-10-21T14:16:09.640460Z",
     "start_time": "2022-10-21T14:16:09.092596Z"
    },
    "hidden": true
   },
   "outputs": [
    {
     "data": {
      "text/plain": [
       "Text(0, 0.5, 'Quantidade')"
      ]
     },
     "execution_count": 24,
     "metadata": {},
     "output_type": "execute_result"
    },
    {
     "data": {
      "image/png": "[encoded data removed]",
      "text/plain": [
       "<Figure size 1100x600 with 1 Axes>"
      ]
     },
     "metadata": {},
     "output_type": "display_data"
    }
   ],
   "source": [
    "# criando o histograma\n",
    "ax = sns.histplot(\n",
    "    data=df['Altura'], # a coluna que usaremos\n",
    "    kde=True           # serve para adicionar ao histograma uma linha de densidade\n",
    ")\n",
    "\n",
    "# configurando o tamanho do gráfico\n",
    "ax.figure.set_size_inches(11, 6)\n",
    "\n",
    "# adicionando um titulo para o gráfico\n",
    "ax.set_title('Distibruição de frequências - Altura', fontsize=18)\n",
    "\n",
    "# adicionando um nome para o eixo x e y\n",
    "ax.set_xlabel('Metros', fontsize=14, labelpad=20)\n",
    "ax.set_ylabel('Quantidade', fontsize=14, labelpad=20)"
   ]
  },
  {
   "cell_type": "markdown",
   "id": "6a509c2a",
   "metadata": {
    "heading_collapsed": true
   },
   "source": [
    "# 🔷 Medidas de têndencia central"
   ]
  },
  {
   "cell_type": "markdown",
   "id": "dc2e26de",
   "metadata": {
    "heading_collapsed": true,
    "hidden": true
   },
   "source": [
    "## 🔶 Média aritmética"
   ]
  },
  {
   "cell_type": "markdown",
   "id": "3d262b19",
   "metadata": {
    "hidden": true
   },
   "source": [
    "A média aritmética nada mais é que o somatório de todas as observações de uma determinada variável divido pela quantidade de observações feitas. Nem sempre a média vai representar bem um conjunto de dados, pois valores muito baixo ou muito alto pode influenciar o resultado da média, levandoa conclusões errôneas."
   ]
  },
  {
   "cell_type": "markdown",
   "id": "784af559",
   "metadata": {
    "hidden": true
   },
   "source": [
    "Vamos calcular a média da coluna 'Renda'."
   ]
  },
  {
   "cell_type": "code",
   "execution_count": 87,
   "id": "2bdc4671",
   "metadata": {
    "ExecuteTime": {
     "end_time": "2022-10-21T15:46:23.182068Z",
     "start_time": "2022-10-21T15:46:23.174453Z"
    },
    "hidden": true
   },
   "outputs": [
    {
     "name": "stdout",
     "output_type": "stream",
     "text": [
      "A média é 2000.3831988547631\n"
     ]
    }
   ],
   "source": [
    "print(f'A média é {df[\"Renda\"].mean()}')"
   ]
  },
  {
   "cell_type": "markdown",
   "id": "6bc2ea48",
   "metadata": {
    "hidden": true
   },
   "source": [
    " "
   ]
  },
  {
   "cell_type": "markdown",
   "id": "c41d0e50",
   "metadata": {
    "hidden": true
   },
   "source": [
    "Vamos calcular a 'Renda' média por 'Sexo'."
   ]
  },
  {
   "cell_type": "code",
   "execution_count": 62,
   "id": "204cb4c5",
   "metadata": {
    "ExecuteTime": {
     "end_time": "2022-10-21T14:49:42.194847Z",
     "start_time": "2022-10-21T14:49:42.169888Z"
    },
    "hidden": true
   },
   "outputs": [
    {
     "data": {
      "text/html": [
       "<div>\n",
       "<style scoped>\n",
       "    .dataframe tbody tr th:only-of-type {\n",
       "        vertical-align: middle;\n",
       "    }\n",
       "\n",
       "    .dataframe tbody tr th {\n",
       "        vertical-align: top;\n",
       "    }\n",
       "\n",
       "    .dataframe thead th {\n",
       "        text-align: right;\n",
       "    }\n",
       "</style>\n",
       "<table border=\"1\" class=\"dataframe\">\n",
       "  <thead>\n",
       "    <tr style=\"text-align: right;\">\n",
       "      <th>Sexo</th>\n",
       "      <th>Renda média (R$)</th>\n",
       "    </tr>\n",
       "    <tr>\n",
       "      <th></th>\n",
       "      <th></th>\n",
       "    </tr>\n",
       "  </thead>\n",
       "  <tbody>\n",
       "    <tr>\n",
       "      <th>Masculino</th>\n",
       "      <td>2192.441596</td>\n",
       "    </tr>\n",
       "    <tr>\n",
       "      <th>Feminino</th>\n",
       "      <td>1566.847393</td>\n",
       "    </tr>\n",
       "  </tbody>\n",
       "</table>\n",
       "</div>"
      ],
      "text/plain": [
       "Sexo       Renda média (R$)\n",
       "                           \n",
       "Masculino       2192.441596\n",
       "Feminino        1566.847393"
      ]
     },
     "execution_count": 62,
     "metadata": {},
     "output_type": "execute_result"
    }
   ],
   "source": [
    "# Com o poderoso método groupby conseguimos separar os dados de acordo com o Sexo e calcular a Renda média de cada\n",
    "# grupo.\n",
    "\n",
    "renda_media_by_sexo = df.groupby(['Sexo'])[['Renda']].mean()\n",
    "\n",
    "# renomenado os indices\n",
    "renda_media_by_sexo.rename(index={0: 'Masculino', 1:'Feminino'}, inplace=True)\n",
    "renda_media_by_sexo.rename(columns={'Renda': 'Renda média (R$)'}, inplace=True)\n",
    "\n",
    "# renomenado o eixo\n",
    "renda_media_by_sexo.rename_axis('', axis=0, inplace=True)\n",
    "renda_media_by_sexo.rename_axis('Sexo', axis=1, inplace=True)\n",
    "\n",
    "# mostrando o df\n",
    "renda_media_by_sexo"
   ]
  },
  {
   "cell_type": "markdown",
   "id": "75ce401b",
   "metadata": {
    "hidden": true
   },
   "source": [
    " "
   ]
  },
  {
   "cell_type": "markdown",
   "id": "205e89cc",
   "metadata": {
    "heading_collapsed": true,
    "hidden": true
   },
   "source": [
    "## 🔶 Mediana"
   ]
  },
  {
   "cell_type": "markdown",
   "id": "98c0b1f0",
   "metadata": {
    "hidden": true
   },
   "source": [
    "A mediana é um numero que divide o seu conjunto de dados em dois grupos, o 1° grupo é composto por 50% dos dados abaixo da mediana e o 2° grupo é composto por 50% dos dados acima da mediana.\n",
    "\n",
    "Para calcular a mediana você precisa seguir esses passo:\n",
    "\n",
    "### 1° passo\n",
    "Organizar os dados em ordem crescente.<br>\n",
    "\n",
    "### 2° passo\n",
    "Identificar o número de observações (registros) do conjunto de dados ($n$)<br>\n",
    "\n",
    "### 3° passo \n",
    "Quando $n$ for ímpar, a posição do elemento mediano será obtida da seguinte forma:\n",
    "# $$Mediana = {nㅤ//ㅤ2}$$\n",
    "<br>\n",
    "\n",
    "Quando $n$ for par, a mediana será a média dos dois elementos centrais do conjunto:\n",
    "# $$Mediana = \\frac{elemento_1 + elemento_2}2$$"
   ]
  },
  {
   "cell_type": "markdown",
   "id": "8567bb3e",
   "metadata": {
    "hidden": true
   },
   "source": [
    " "
   ]
  },
  {
   "cell_type": "markdown",
   "id": "981d9d87",
   "metadata": {
    "hidden": true
   },
   "source": [
    "\n",
    "Segue um exemplo com um conjunto aonde $n$ é ímpar."
   ]
  },
  {
   "cell_type": "code",
   "execution_count": 85,
   "id": "b46feca4",
   "metadata": {
    "ExecuteTime": {
     "end_time": "2022-10-21T15:39:46.473126Z",
     "start_time": "2022-10-21T15:39:46.465808Z"
    },
    "hidden": true,
    "scrolled": true
   },
   "outputs": [
    {
     "name": "stdout",
     "output_type": "stream",
     "text": [
      "Dataset ordenado: [9, 10, 10, 11, 11, 12, 12, 13, 14]\n",
      "A mediana é 11\n"
     ]
    }
   ],
   "source": [
    "# conjunto de dados ímpar\n",
    "dataset = [10, 12, 11, 9, 12, 14, 11, 13, 10]\n",
    "\n",
    "# passo 1\n",
    "dataset = sorted(dataset)\n",
    "\n",
    "# passo 2\n",
    "n = len(dataset)\n",
    "\n",
    "# passo 3\n",
    "posicao = n//2\n",
    "mediana = dataset[posicao]\n",
    "\n",
    "print(f'Dataset ordenado: {dataset}')\n",
    "print(f'A mediana é {mediana}')"
   ]
  },
  {
   "cell_type": "markdown",
   "id": "53e4b580",
   "metadata": {
    "hidden": true
   },
   "source": [
    " "
   ]
  },
  {
   "cell_type": "markdown",
   "id": "81f450a7",
   "metadata": {
    "hidden": true
   },
   "source": [
    "\n",
    "Segue um exemplo com um conjunto aonde $n$ é par."
   ]
  },
  {
   "cell_type": "code",
   "execution_count": 78,
   "id": "84708918",
   "metadata": {
    "ExecuteTime": {
     "end_time": "2022-10-21T15:33:33.732088Z",
     "start_time": "2022-10-21T15:33:33.722835Z"
    },
    "hidden": true
   },
   "outputs": [
    {
     "name": "stdout",
     "output_type": "stream",
     "text": [
      "Dataset ordenado: [9, 10, 11, 11, 12, 12, 13, 14]\n",
      "A mediana é 11.5\n"
     ]
    }
   ],
   "source": [
    "# conjunto de dados par\n",
    "dataset = [10, 12, 11, 9, 12, 14, 11, 13]\n",
    "\n",
    "# passo 1\n",
    "dataset = sorted(dataset)\n",
    "\n",
    "\n",
    "# passo 2\n",
    "n = len(dataset)\n",
    "\n",
    "# passo 3\n",
    "elemento_1 =  idades[(n // 2) - 1]\n",
    "elemento_2 =  idades[(n // 2)]\n",
    "mediana = (elemento_1+elemento_2)/2\n",
    "\n",
    "print(f'Dataset ordenado: {dataset}')\n",
    "print(f'A mediana é {mediana}')"
   ]
  },
  {
   "cell_type": "markdown",
   "id": "db000119",
   "metadata": {
    "hidden": true
   },
   "source": [
    " "
   ]
  },
  {
   "cell_type": "markdown",
   "id": "805373f8",
   "metadata": {
    "hidden": true
   },
   "source": [
    "O pandas disponibiliza o método df.median() que faz todo esse cálculo para nós. Vamos usar esse método para calcular a mediana da coluna 'Renda'."
   ]
  },
  {
   "cell_type": "code",
   "execution_count": 90,
   "id": "aa20d29b",
   "metadata": {
    "ExecuteTime": {
     "end_time": "2022-10-21T15:47:29.860980Z",
     "start_time": "2022-10-21T15:47:29.851248Z"
    },
    "hidden": true,
    "scrolled": true
   },
   "outputs": [
    {
     "name": "stdout",
     "output_type": "stream",
     "text": [
      "A mediana é 1200.0\n"
     ]
    }
   ],
   "source": [
    "print(f'A mediana é {df[\"Renda\"].median()}')"
   ]
  },
  {
   "cell_type": "markdown",
   "id": "a8a63468",
   "metadata": {
    "hidden": true
   },
   "source": [
    " "
   ]
  },
  {
   "cell_type": "markdown",
   "id": "6d51022e",
   "metadata": {
    "heading_collapsed": true,
    "hidden": true
   },
   "source": [
    "## 🔶 Moda"
   ]
  },
  {
   "cell_type": "markdown",
   "id": "37fb05f4",
   "metadata": {
    "hidden": true
   },
   "source": []
  }
 ],
 "metadata": {
  "kernelspec": {
   "display_name": "Python 3 (ipykernel)",
   "language": "python",
   "name": "python3"
  },
  "language_info": {
   "codemirror_mode": {
    "name": "ipython",
    "version": 3
   },
   "file_extension": ".py",
   "mimetype": "text/x-python",
   "name": "python",
   "nbconvert_exporter": "python",
   "pygments_lexer": "ipython3",
   "version": "3.10.7"
  },
  "varInspector": {
   "cols": {
    "lenName": 16,
    "lenType": 16,
    "lenVar": 40
   },
   "kernels_config": {
    "python": {
     "delete_cmd_postfix": "",
     "delete_cmd_prefix": "del ",
     "library": "var_list.py",
     "varRefreshCmd": "print(var_dic_list())"
    },
    "r": {
     "delete_cmd_postfix": ") ",
     "delete_cmd_prefix": "rm(",
     "library": "var_list.r",
     "varRefreshCmd": "cat(var_dic_list()) "
    }
   },
   "types_to_exclude": [
    "module",
    "function",
    "builtin_function_or_method",
    "instance",
    "_Feature"
   ],
   "window_display": false
  }
 },
 "nbformat": 4,
 "nbformat_minor": 5
}

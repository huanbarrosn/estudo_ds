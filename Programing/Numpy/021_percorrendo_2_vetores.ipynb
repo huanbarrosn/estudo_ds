{
 "cells": [
  {
   "cell_type": "markdown",
   "id": "1f91af0f",
   "metadata": {},
   "source": [
    "Faca um programa que leia dois vetores de 10 posicoes e calcule outro vetor contendo nas posicoes pares os valores do primeiro e nas posicoes impares os valores do segundo."
   ]
  },
  {
   "cell_type": "code",
   "execution_count": 26,
   "id": "4dd0faf0",
   "metadata": {},
   "outputs": [],
   "source": [
    "import numpy as np"
   ]
  },
  {
   "cell_type": "code",
   "execution_count": 33,
   "id": "d76f170e",
   "metadata": {},
   "outputs": [
    {
     "name": "stdout",
     "output_type": "stream",
     "text": [
      "[16  4 18 10  7 12  1  6  5  6]\n",
      "[ 5 13  0 13  8  1  3  2 18 17]\n",
      "[16, 5, 4, 13, 18, 0, 10, 13, 7, 8, 12, 1, 1, 3, 6, 2, 5, 18, 6, 17]\n"
     ]
    }
   ],
   "source": [
    "a = np.array(np.random.randint(low=20, size=10 ), dtype=int)\n",
    "b = np.array(np.random.randint(low=20, size=10 ), dtype=int)\n",
    "\n",
    "print(a)\n",
    "print(b)\n",
    "\n",
    "conta=contb=0\n",
    "\n",
    "c=[]\n",
    "\n",
    "for x in range(20):\n",
    "    if x%2==0:\n",
    "        c.append(a[conta])\n",
    "        conta+=1\n",
    "    else:\n",
    "        c.append(b[contb])\n",
    "        contb+=1 \n",
    "\n",
    "print(c)"
   ]
  }
 ],
 "metadata": {
  "kernelspec": {
   "display_name": "Python 3 (ipykernel)",
   "language": "python",
   "name": "python3"
  },
  "language_info": {
   "codemirror_mode": {
    "name": "ipython",
    "version": 3
   },
   "file_extension": ".py",
   "mimetype": "text/x-python",
   "name": "python",
   "nbconvert_exporter": "python",
   "pygments_lexer": "ipython3",
   "version": "3.10.4"
  }
 },
 "nbformat": 4,
 "nbformat_minor": 5
}

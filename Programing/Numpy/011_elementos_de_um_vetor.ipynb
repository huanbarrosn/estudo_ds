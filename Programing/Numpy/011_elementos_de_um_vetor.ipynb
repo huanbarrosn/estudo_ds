{
 "cells": [
  {
   "cell_type": "markdown",
   "id": "2ee11839",
   "metadata": {},
   "source": [
    "Fazer um programa para ler 5 valores e, em seguida, mostrar todos os valores lidos\n",
    "juntamente com o maior, o menor e a media dos valores."
   ]
  },
  {
   "cell_type": "code",
   "execution_count": 1,
   "id": "1b1c79a3",
   "metadata": {},
   "outputs": [],
   "source": [
    "import numpy as np"
   ]
  },
  {
   "cell_type": "code",
   "execution_count": 22,
   "id": "b7d8ee09",
   "metadata": {},
   "outputs": [
    {
     "name": "stdout",
     "output_type": "stream",
     "text": [
      "Elementos: 2 7 7 2 9 \n",
      "Maximo: 9\n",
      "Minimo: 2\n",
      "Media: 5.4\n"
     ]
    }
   ],
   "source": [
    "a = np.array(np.random.randint(low=10, size=5), dtype=int)\n",
    "\n",
    "print('Elementos:', end=' ')\n",
    "for elemento in a:\n",
    "    print(elemento, end=' ')\n",
    "\n",
    "print('\\nMaximo:',a.max())\n",
    "print('Minimo:',a.min())\n",
    "print('Media:',a.mean())"
   ]
  }
 ],
 "metadata": {
  "kernelspec": {
   "display_name": "Python 3 (ipykernel)",
   "language": "python",
   "name": "python3"
  },
  "language_info": {
   "codemirror_mode": {
    "name": "ipython",
    "version": 3
   },
   "file_extension": ".py",
   "mimetype": "text/x-python",
   "name": "python",
   "nbconvert_exporter": "python",
   "pygments_lexer": "ipython3",
   "version": "3.10.4"
  }
 },
 "nbformat": 4,
 "nbformat_minor": 5
}

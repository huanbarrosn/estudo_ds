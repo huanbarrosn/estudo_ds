{
 "cells": [
  {
   "cell_type": "markdown",
   "id": "3f031ee9",
   "metadata": {},
   "source": [
    "Faça um programa que leia um vetor de 8 posicoes e, em seguida, leia tambem dois valores X e Y quaisquer correspondentes a duas posicoes no vetor. Ao final seu programa devera escrever a soma dos valores encontrados nas respectivas posicoes X e Y."
   ]
  },
  {
   "cell_type": "code",
   "execution_count": 84,
   "id": "68020087",
   "metadata": {},
   "outputs": [],
   "source": [
    "import numpy as np"
   ]
  },
  {
   "cell_type": "code",
   "execution_count": 86,
   "id": "3fe83165",
   "metadata": {},
   "outputs": [
    {
     "name": "stdout",
     "output_type": "stream",
     "text": [
      "[74 87 40 55 97 61 44 98] \n",
      "\n",
      "5\n",
      "0\n",
      "\n",
      "Soma: 135\n"
     ]
    }
   ],
   "source": [
    "a = np.array(np.random.randint(low=1, high=100, size=8, dtype=int))\n",
    "print(a,'\\n')\n",
    "\n",
    "x = np.random.randint(low=7)\n",
    "y = np.random.randint(low=7)\n",
    "\n",
    "print(x)\n",
    "print(y)\n",
    "\n",
    "soma = a[x]+a[y]\n",
    "print('\\nSoma:',soma)"
   ]
  }
 ],
 "metadata": {
  "kernelspec": {
   "display_name": "Python 3 (ipykernel)",
   "language": "python",
   "name": "python3"
  },
  "language_info": {
   "codemirror_mode": {
    "name": "ipython",
    "version": 3
   },
   "file_extension": ".py",
   "mimetype": "text/x-python",
   "name": "python",
   "nbconvert_exporter": "python",
   "pygments_lexer": "ipython3",
   "version": "3.10.4"
  }
 },
 "nbformat": 4,
 "nbformat_minor": 5
}

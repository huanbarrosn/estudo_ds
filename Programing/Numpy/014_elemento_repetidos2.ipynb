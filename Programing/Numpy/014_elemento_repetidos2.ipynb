{
 "cells": [
  {
   "cell_type": "markdown",
   "id": "3c3ae4d0",
   "metadata": {},
   "source": [
    "Leia um vetor com 20 numeros inteiros. Escreva os elementos do vetor eliminando elementos repetidos."
   ]
  },
  {
   "cell_type": "code",
   "execution_count": 1,
   "id": "218da66d",
   "metadata": {},
   "outputs": [],
   "source": [
    "import numpy as np"
   ]
  },
  {
   "cell_type": "code",
   "execution_count": 14,
   "id": "6f48bc94",
   "metadata": {},
   "outputs": [
    {
     "name": "stdout",
     "output_type": "stream",
     "text": [
      "[38 24 26 12 18 36 37 14 14 37 38 19 23 27 27 34 31 28 20 10]\n",
      "\n",
      "Vetor sem elementos repetifdos: [34 36 37 38 10 12 14 18 19 20 23 24 26 27 28 31]\n"
     ]
    }
   ],
   "source": [
    "a = np.array(np.random.randint(low=40, size=20), dtype=int)\n",
    "b = np.array(list(set(a[:])))\n",
    "\n",
    "print(a)\n",
    "\n",
    "print('\\nVetor sem elementos repetifdos:', b)"
   ]
  }
 ],
 "metadata": {
  "kernelspec": {
   "display_name": "Python 3 (ipykernel)",
   "language": "python",
   "name": "python3"
  },
  "language_info": {
   "codemirror_mode": {
    "name": "ipython",
    "version": 3
   },
   "file_extension": ".py",
   "mimetype": "text/x-python",
   "name": "python",
   "nbconvert_exporter": "python",
   "pygments_lexer": "ipython3",
   "version": "3.10.4"
  }
 },
 "nbformat": 4,
 "nbformat_minor": 5
}

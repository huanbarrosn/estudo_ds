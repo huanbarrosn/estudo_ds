{
 "cells": [
  {
   "cell_type": "markdown",
   "id": "64276a37",
   "metadata": {},
   "source": [
    "Faca um programa que receba do usuario dois vetores, A e B, com 10 numeros inteiros cada. Crie um novo vetor denominado C calculando C = A - B. Mostre na tela os dados do vetor C."
   ]
  },
  {
   "cell_type": "code",
   "execution_count": 1,
   "id": "f35039d2",
   "metadata": {},
   "outputs": [],
   "source": [
    "import numpy as np"
   ]
  },
  {
   "cell_type": "code",
   "execution_count": 14,
   "id": "2b08be4c",
   "metadata": {},
   "outputs": [
    {
     "name": "stdout",
     "output_type": "stream",
     "text": [
      "[67  9 63 85 33 64 80  5 98 23]\n",
      "[ 7 61 27 34 33  8 21 77 20 18]\n",
      "[ 60 -52  36  51   0  56  59 -72  78   5]\n"
     ]
    }
   ],
   "source": [
    "a = np.array(np.random.randint(low=100, size=10), dtype=int)\n",
    "b = np.array(np.random.randint(low=100, size=10), dtype=int)\n",
    "\n",
    "c = a-b\n",
    "\n",
    "print(a)\n",
    "print(b)\n",
    "print(c)"
   ]
  }
 ],
 "metadata": {
  "kernelspec": {
   "display_name": "Python 3 (ipykernel)",
   "language": "python",
   "name": "python3"
  },
  "language_info": {
   "codemirror_mode": {
    "name": "ipython",
    "version": 3
   },
   "file_extension": ".py",
   "mimetype": "text/x-python",
   "name": "python",
   "nbconvert_exporter": "python",
   "pygments_lexer": "ipython3",
   "version": "3.10.4"
  }
 },
 "nbformat": 4,
 "nbformat_minor": 5
}

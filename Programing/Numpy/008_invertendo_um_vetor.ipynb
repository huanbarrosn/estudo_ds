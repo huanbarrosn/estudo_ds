{
 "cells": [
  {
   "cell_type": "markdown",
   "id": "74c0181d",
   "metadata": {},
   "source": [
    "Crie um programa que le 6 valores inteiros e, em seguida, mostre na tela os valores lidos na ordem inversa."
   ]
  },
  {
   "cell_type": "code",
   "execution_count": 1,
   "id": "5a394700",
   "metadata": {},
   "outputs": [],
   "source": [
    "import numpy as np"
   ]
  },
  {
   "cell_type": "code",
   "execution_count": 2,
   "id": "765d657a",
   "metadata": {},
   "outputs": [
    {
     "name": "stdout",
     "output_type": "stream",
     "text": [
      "[98 60 52 56 38 29] \n",
      "\n",
      "29 38 56 52 60 98 "
     ]
    }
   ],
   "source": [
    "a = np.array(np.random.randint(low=100, size=6), dtype=int)\n",
    "print(a,'\\n')\n",
    "\n",
    "for elemento in a[::-1]:\n",
    "    print(elemento, end=' ')"
   ]
  }
 ],
 "metadata": {
  "kernelspec": {
   "display_name": "Python 3 (ipykernel)",
   "language": "python",
   "name": "python3"
  },
  "language_info": {
   "codemirror_mode": {
    "name": "ipython",
    "version": 3
   },
   "file_extension": ".py",
   "mimetype": "text/x-python",
   "name": "python",
   "nbconvert_exporter": "python",
   "pygments_lexer": "ipython3",
   "version": "3.10.4"
  }
 },
 "nbformat": 4,
 "nbformat_minor": 5
}

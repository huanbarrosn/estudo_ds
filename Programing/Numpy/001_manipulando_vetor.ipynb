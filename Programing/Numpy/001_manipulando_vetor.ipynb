{
 "cells": [
  {
   "cell_type": "markdown",
   "id": "e538d138",
   "metadata": {},
   "source": [
    "Faça um programa que possua um vetor denominado A que armazene 6 numeros inteiros. O programa deve executar os seguintes passos:\n",
    "\n",
    "(a) Atribua os seguintes valores a esse vetor: 1, 0, 5, -2, -5, 7.<br>\n",
    "(b) Armazene em uma variavel inteira (simples) a soma entre os valores das posiçoes\n",
    "A[0], A[1] e A[5] do vetor e mostre na tela esta soma.<br>\n",
    "(c) Modifique o vetor na posiçao 4, atribuindo a esta posiçao ao o valor 100.<br>\n",
    "(d) Mostre na tela cada valor do vetor A, um em cada linha"
   ]
  },
  {
   "cell_type": "code",
   "execution_count": 2,
   "id": "f6dab121",
   "metadata": {},
   "outputs": [],
   "source": [
    "import numpy as np"
   ]
  },
  {
   "cell_type": "code",
   "execution_count": 3,
   "id": "86ede8c6",
   "metadata": {},
   "outputs": [],
   "source": [
    "# questao a\n",
    "a = np.array([1, 0, 5, -2, -5, 7])"
   ]
  },
  {
   "cell_type": "code",
   "execution_count": 4,
   "id": "fb4aa593",
   "metadata": {},
   "outputs": [
    {
     "name": "stdout",
     "output_type": "stream",
     "text": [
      "8\n"
     ]
    }
   ],
   "source": [
    "# questao b\n",
    "soma = a[0]+a[1]+a[5]\n",
    "print(soma)"
   ]
  },
  {
   "cell_type": "code",
   "execution_count": 5,
   "id": "e8f3908f",
   "metadata": {},
   "outputs": [
    {
     "name": "stdout",
     "output_type": "stream",
     "text": [
      "[  1   0   5  -2 100   7]\n"
     ]
    }
   ],
   "source": [
    "# questao c\n",
    "a[4] = 100\n",
    "print(a)"
   ]
  },
  {
   "cell_type": "code",
   "execution_count": 7,
   "id": "20e711e1",
   "metadata": {
    "collapsed": true
   },
   "outputs": [
    {
     "name": "stdout",
     "output_type": "stream",
     "text": [
      "1\n",
      "0\n",
      "5\n",
      "-2\n",
      "100\n",
      "7\n"
     ]
    }
   ],
   "source": [
    "# questao d\n",
    "for item in a:\n",
    "    print(item)"
   ]
  }
 ],
 "metadata": {
  "kernelspec": {
   "display_name": "Python 3 (ipykernel)",
   "language": "python",
   "name": "python3"
  },
  "language_info": {
   "codemirror_mode": {
    "name": "ipython",
    "version": 3
   },
   "file_extension": ".py",
   "mimetype": "text/x-python",
   "name": "python",
   "nbconvert_exporter": "python",
   "pygments_lexer": "ipython3",
   "version": "3.10.6"
  }
 },
 "nbformat": 4,
 "nbformat_minor": 5
}

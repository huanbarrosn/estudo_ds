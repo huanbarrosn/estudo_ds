{
 "cells": [
  {
   "cell_type": "markdown",
   "id": "cc21009a",
   "metadata": {},
   "source": [
    "Faca um programa para ler 10 numeros DIFERENTES a serem armazenados em um vetor. Os dados deverao ser armazenados no vetor na ordem que forem sendo lidos, sendo que caso o usuario digite um numero que ja foi digitado anteriormente, o programa devera pedir para ele digitar outro numero. Note que cada valor digitado pelo usuario deve ser pesquisado no vetor, verificando se ele existe entre os numeros que ja foram fornecidos. Exibir na tela o vetor final que foi digitado."
   ]
  },
  {
   "cell_type": "code",
   "execution_count": 1,
   "id": "54b364fe",
   "metadata": {},
   "outputs": [],
   "source": [
    "import numpy as np"
   ]
  },
  {
   "cell_type": "code",
   "execution_count": 6,
   "id": "ff4c65f0",
   "metadata": {},
   "outputs": [
    {
     "name": "stdout",
     "output_type": "stream",
     "text": [
      "\n",
      "Digite um valor: 1\n",
      "\n",
      "Digite um valor: 2\n",
      "\n",
      "Digite um valor: 3\n",
      "\n",
      "Digite um valor: 4\n",
      "\n",
      "Digite um valor: 5\n",
      "\n",
      "Digite um valor: 6\n",
      "\n",
      "Digite um valor: 7\n",
      "\n",
      "Digite um valor: 8\n",
      "\n",
      "Digite um valor: 9\n",
      "\n",
      "Digite um valor: 0\n",
      "\n",
      "[1 2 3 4 5 6 7 8 9 0]\n"
     ]
    }
   ],
   "source": [
    "vetor= np.array([], dtype=int)\n",
    "\n",
    "while vetor.size < 10:\n",
    "    try:\n",
    "        valor = int(input('\\nDigite um valor: '))\n",
    "        if valor in vetor:\n",
    "            raise Exception('Digite um numero que nao seja repetido.')\n",
    "        \n",
    "    except Exception as erro:\n",
    "        print(f'Tipo de erro: \\033[31m{erro.__class__}\\033[m')\n",
    "        print(f'Mensagem: \\033[31m{erro}\\033[m')\n",
    "    \n",
    "    else:\n",
    "        vetor = np.append(vetor, valor)\n",
    "\n",
    "print()\n",
    "print(vetor)"
   ]
  }
 ],
 "metadata": {
  "kernelspec": {
   "display_name": "Python 3 (ipykernel)",
   "language": "python",
   "name": "python3"
  },
  "language_info": {
   "codemirror_mode": {
    "name": "ipython",
    "version": 3
   },
   "file_extension": ".py",
   "mimetype": "text/x-python",
   "name": "python",
   "nbconvert_exporter": "python",
   "pygments_lexer": "ipython3",
   "version": "3.10.4"
  }
 },
 "nbformat": 4,
 "nbformat_minor": 5
}

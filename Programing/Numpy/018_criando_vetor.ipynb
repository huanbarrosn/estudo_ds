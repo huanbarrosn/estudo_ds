{
 "cells": [
  {
   "cell_type": "markdown",
   "id": "3e84f493",
   "metadata": {},
   "source": [
    "Faca um vetor de tamanho 50 preenchido com o seguinte valor: (i+ 5 ∗ i)%(i+ 1), sendo\n",
    "i a posicao do elemento no vetor. Em seguida imprima o vetor na tela."
   ]
  },
  {
   "cell_type": "code",
   "execution_count": 1,
   "id": "fa214341",
   "metadata": {},
   "outputs": [],
   "source": [
    "import numpy as np"
   ]
  },
  {
   "cell_type": "code",
   "execution_count": 8,
   "id": "c20918a1",
   "metadata": {},
   "outputs": [
    {
     "name": "stdout",
     "output_type": "stream",
     "text": [
      "[ 0  0  0  2  4  0  1  2  3  4  5  6  7  8  9 10 11 12 13 14 15 16 17 18\n",
      " 19 20 21 22 23 24 25 26 27 28 29 30 31 32 33 34 35 36 37 38 39 40 41 42\n",
      " 43 44]\n"
     ]
    }
   ],
   "source": [
    "a = np.array([(i+(5*i))%(i+1) for i in range(50)])\n",
    "print(a)"
   ]
  }
 ],
 "metadata": {
  "kernelspec": {
   "display_name": "Python 3 (ipykernel)",
   "language": "python",
   "name": "python3"
  },
  "language_info": {
   "codemirror_mode": {
    "name": "ipython",
    "version": 3
   },
   "file_extension": ".py",
   "mimetype": "text/x-python",
   "name": "python",
   "nbconvert_exporter": "python",
   "pygments_lexer": "ipython3",
   "version": "3.10.4"
  }
 },
 "nbformat": 4,
 "nbformat_minor": 5
}

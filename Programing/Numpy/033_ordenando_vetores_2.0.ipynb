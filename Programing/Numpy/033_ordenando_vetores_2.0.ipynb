{
 "cells": [
  {
   "cell_type": "markdown",
   "id": "0cee8785",
   "metadata": {},
   "source": [
    "Peca ao usuario para digitar dez valores numericos e ordene por ordem crescente esses valores, guardando-os num vetor. Ordene o valor assim que ele for digitado. Mostre ao final na tela os valores em ordem."
   ]
  },
  {
   "cell_type": "code",
   "execution_count": 1,
   "id": "a176029f",
   "metadata": {},
   "outputs": [],
   "source": [
    "import numpy as np"
   ]
  },
  {
   "cell_type": "code",
   "execution_count": 10,
   "id": "84cc49bb",
   "metadata": {},
   "outputs": [
    {
     "name": "stdout",
     "output_type": "stream",
     "text": [
      "Digite um numero: 1\n",
      "Digite um numero: 2\n",
      "Digite um numero: 3\n",
      "Digite um numero: 4\n",
      "Digite um numero: 5\n",
      "Digite um numero: 6\n",
      "Digite um numero: 7\n",
      "Digite um numero: 89\n",
      "Digite um numero: 9\n",
      "Digite um numero: 0\n",
      "\n",
      "[ 0.  1.  2.  3.  4.  5.  6.  7.  9. 89.]\n"
     ]
    }
   ],
   "source": [
    "vetor = np.array([])\n",
    "\n",
    "while vetor.size<10:\n",
    "    try:\n",
    "        numero = int(input('Digite um numero: '))\n",
    "    \n",
    "    except Exception as erro:\n",
    "        print(f'\\nTipo de erro: {erro.__class__}')\n",
    "        print(f'Mensagen: {erro}\\n')\n",
    "    \n",
    "    else:\n",
    "        vetor = np.sort(np.append(arr=vetor, values=numero))\n",
    "        \n",
    "print()\n",
    "print(vetor)"
   ]
  }
 ],
 "metadata": {
  "kernelspec": {
   "display_name": "Python 3 (ipykernel)",
   "language": "python",
   "name": "python3"
  },
  "language_info": {
   "codemirror_mode": {
    "name": "ipython",
    "version": 3
   },
   "file_extension": ".py",
   "mimetype": "text/x-python",
   "name": "python",
   "nbconvert_exporter": "python",
   "pygments_lexer": "ipython3",
   "version": "3.10.4"
  }
 },
 "nbformat": 4,
 "nbformat_minor": 5
}

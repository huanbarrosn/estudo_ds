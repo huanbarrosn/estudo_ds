{
 "cells": [
  {
   "cell_type": "markdown",
   "id": "b7b6f7df",
   "metadata": {},
   "source": [
    "Faca um programa que leia dois vetores de 10 elementos. Crie um vetor que seja a interseccao entre os 2 vetores anteriores, ou seja, que contem apenas os numeros que estao em ambos os vetores. Nao deve conter numeros repetidos."
   ]
  },
  {
   "cell_type": "code",
   "execution_count": 1,
   "id": "04732879",
   "metadata": {},
   "outputs": [],
   "source": [
    "import numpy as np"
   ]
  },
  {
   "cell_type": "code",
   "execution_count": 7,
   "id": "15942c44",
   "metadata": {},
   "outputs": [
    {
     "name": "stdout",
     "output_type": "stream",
     "text": [
      "[ 9  9 15  0  6  2 15 13 14 12]\n",
      "[13  3  7 11  6  1  3 10  3  3]\n",
      "[13  6]\n"
     ]
    }
   ],
   "source": [
    "a = np.random.randint(low=20, size=10)\n",
    "b = np.random.randint(low=20, size=10)\n",
    "\n",
    "print(a)\n",
    "print(b)\n",
    "\n",
    "c = set(a)&set(b)\n",
    "c = np.array(list(c))\n",
    "\n",
    "print(c)"
   ]
  }
 ],
 "metadata": {
  "kernelspec": {
   "display_name": "Python 3 (ipykernel)",
   "language": "python",
   "name": "python3"
  },
  "language_info": {
   "codemirror_mode": {
    "name": "ipython",
    "version": 3
   },
   "file_extension": ".py",
   "mimetype": "text/x-python",
   "name": "python",
   "nbconvert_exporter": "python",
   "pygments_lexer": "ipython3",
   "version": "3.10.4"
  }
 },
 "nbformat": 4,
 "nbformat_minor": 5
}

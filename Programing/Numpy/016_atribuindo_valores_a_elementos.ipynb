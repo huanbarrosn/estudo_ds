{
 "cells": [
  {
   "cell_type": "markdown",
   "id": "f9bd4eb2",
   "metadata": {},
   "source": [
    "Leia um vetor de 10 posicoes e atribua valor 0 para todos os elementos que possuırem\n",
    "valores negativos"
   ]
  },
  {
   "cell_type": "code",
   "execution_count": 1,
   "id": "be1e4d7b",
   "metadata": {},
   "outputs": [],
   "source": [
    "import numpy as np"
   ]
  },
  {
   "cell_type": "code",
   "execution_count": 4,
   "id": "3c4be755",
   "metadata": {},
   "outputs": [
    {
     "name": "stdout",
     "output_type": "stream",
     "text": [
      "[ 7 -2 -4 -4 -5  9  8  4 -4 -4] \n",
      "\n",
      "[7 0 0 0 0 9 8 4 0 0]\n"
     ]
    }
   ],
   "source": [
    "a = np.array(np.random.randint(low=-10, high=10, size=10), dtype=int)\n",
    "print(a,'\\n')\n",
    "\n",
    "a[a<0] = 0\n",
    "print(a)"
   ]
  }
 ],
 "metadata": {
  "kernelspec": {
   "display_name": "Python 3 (ipykernel)",
   "language": "python",
   "name": "python3"
  },
  "language_info": {
   "codemirror_mode": {
    "name": "ipython",
    "version": 3
   },
   "file_extension": ".py",
   "mimetype": "text/x-python",
   "name": "python",
   "nbconvert_exporter": "python",
   "pygments_lexer": "ipython3",
   "version": "3.10.4"
  }
 },
 "nbformat": 4,
 "nbformat_minor": 5
}

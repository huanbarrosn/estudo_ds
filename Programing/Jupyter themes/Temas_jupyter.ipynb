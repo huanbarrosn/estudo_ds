{
 "cells": [
  {
   "cell_type": "code",
   "execution_count": 67,
   "id": "b668bfd0",
   "metadata": {
    "ExecuteTime": {
     "end_time": "2022-10-11T01:08:48.042382Z",
     "start_time": "2022-10-11T01:08:48.033757Z"
    }
   },
   "outputs": [
    {
     "data": {
      "text/plain": [
       "'0.20.0'"
      ]
     },
     "execution_count": 67,
     "metadata": {},
     "output_type": "execute_result"
    }
   ],
   "source": [
    "import jupyterthemes as jt\n",
    "\n",
    "jt.__version__"
   ]
  },
  {
   "cell_type": "code",
   "execution_count": 75,
   "id": "a00563e2",
   "metadata": {
    "ExecuteTime": {
     "end_time": "2022-10-11T01:15:58.599126Z",
     "start_time": "2022-10-11T01:15:58.591346Z"
    },
    "scrolled": true
   },
   "outputs": [
    {
     "data": {
      "text/plain": [
       "['chesterish',\n",
       " 'grade3',\n",
       " 'gruvboxd',\n",
       " 'gruvboxl',\n",
       " 'monokai',\n",
       " 'oceans16',\n",
       " 'onedork',\n",
       " 'solarizedd',\n",
       " 'solarizedl']"
      ]
     },
     "execution_count": 75,
     "metadata": {},
     "output_type": "execute_result"
    }
   ],
   "source": [
    "jt.get_themes()"
   ]
  },
  {
   "cell_type": "code",
   "execution_count": 81,
   "id": "4ba447f8",
   "metadata": {
    "ExecuteTime": {
     "end_time": "2022-10-11T01:19:17.656866Z",
     "start_time": "2022-10-11T01:19:17.528459Z"
    }
   },
   "outputs": [],
   "source": [
    "jt.install_theme()"
   ]
  }
 ],
 "metadata": {
  "kernelspec": {
   "display_name": "Python 3 (ipykernel)",
   "language": "python",
   "name": "python3"
  },
  "language_info": {
   "codemirror_mode": {
    "name": "ipython",
    "version": 3
   },
   "file_extension": ".py",
   "mimetype": "text/x-python",
   "name": "python",
   "nbconvert_exporter": "python",
   "pygments_lexer": "ipython3",
   "version": "3.10.7"
  },
  "varInspector": {
   "cols": {
    "lenName": 16,
    "lenType": 16,
    "lenVar": 40
   },
   "kernels_config": {
    "python": {
     "delete_cmd_postfix": "",
     "delete_cmd_prefix": "del ",
     "library": "var_list.py",
     "varRefreshCmd": "print(var_dic_list())"
    },
    "r": {
     "delete_cmd_postfix": ") ",
     "delete_cmd_prefix": "rm(",
     "library": "var_list.r",
     "varRefreshCmd": "cat(var_dic_list()) "
    }
   },
   "types_to_exclude": [
    "module",
    "function",
    "builtin_function_or_method",
    "instance",
    "_Feature"
   ],
   "window_display": false
  }
 },
 "nbformat": 4,
 "nbformat_minor": 5
}

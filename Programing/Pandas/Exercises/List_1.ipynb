{
 "cells": [
  {
   "cell_type": "code",
   "execution_count": 100,
   "id": "9ae9d3b4",
   "metadata": {},
   "outputs": [],
   "source": [
    "import pandas as pd\n",
    "\n",
    "path = '/home/audax/My_projects/My-Data-Science-Studies/Programing/Pandas/Data base/Salaries.csv'\n",
    "\n",
    "salarios_df = pd.read_csv(path)"
   ]
  },
  {
   "cell_type": "markdown",
   "id": "156b5a4d",
   "metadata": {},
   "source": [
    "**Ex1 -** Quais colunas tem nesta base?\n"
   ]
  },
  {
   "cell_type": "code",
   "execution_count": 101,
   "id": "7886be59",
   "metadata": {
    "scrolled": false
   },
   "outputs": [
    {
     "name": "stdout",
     "output_type": "stream",
     "text": [
      "Quantidade de colunas: 13\n"
     ]
    }
   ],
   "source": [
    "print(f'Quantidade de colunas: {salarios_df.shape[1]}')"
   ]
  },
  {
   "cell_type": "markdown",
   "id": "235445f7",
   "metadata": {},
   "source": [
    "**Ex2 -** Qual é a coluna de salario base?\n"
   ]
  },
  {
   "cell_type": "code",
   "execution_count": 102,
   "id": "fedf38d9",
   "metadata": {},
   "outputs": [
    {
     "name": "stdout",
     "output_type": "stream",
     "text": [
      "A posição é 4\n"
     ]
    }
   ],
   "source": [
    "colunas = list(salarios_df.columns)\n",
    "\n",
    "print(f\"A posição é {colunas.index('BasePay')+1}\")"
   ]
  },
  {
   "cell_type": "markdown",
   "id": "644a1bf7",
   "metadata": {},
   "source": [
    "**Ex3 -** Qual é o salário médio?\n"
   ]
  },
  {
   "cell_type": "code",
   "execution_count": 103,
   "id": "029c6523",
   "metadata": {},
   "outputs": [
    {
     "name": "stdout",
     "output_type": "stream",
     "text": [
      "O salário médio é $66325.45\n"
     ]
    }
   ],
   "source": [
    "media = salarios_df['BasePay'].mean()\n",
    "\n",
    "print(f'O salário médio é ${media:.2f}')"
   ]
  },
  {
   "cell_type": "markdown",
   "id": "46cebedf",
   "metadata": {},
   "source": [
    "**Ex4 -** Qual é o salário máximo?"
   ]
  },
  {
   "cell_type": "code",
   "execution_count": 104,
   "id": "34d8ef2f",
   "metadata": {},
   "outputs": [
    {
     "name": "stdout",
     "output_type": "stream",
     "text": [
      "O salário máximo é $319275.01\n"
     ]
    }
   ],
   "source": [
    "salario_max = salarios_df['BasePay'].max()\n",
    "\n",
    "print(f'O salário máximo é ${salario_max:.2f}')"
   ]
  },
  {
   "cell_type": "markdown",
   "id": "576c6bcf",
   "metadata": {},
   "source": [
    "**Ex5 -** Qual é o emprego do JOSEPH DRISCOLL?"
   ]
  },
  {
   "cell_type": "code",
   "execution_count": 105,
   "id": "a18a5355",
   "metadata": {
    "scrolled": false
   },
   "outputs": [
    {
     "name": "stdout",
     "output_type": "stream",
     "text": [
      "O emprego dele é CAPTAIN, FIRE SUPPRESSION\n"
     ]
    }
   ],
   "source": [
    "emprego = salarios_df[ salarios_df['EmployeeName'] == 'JOSEPH DRISCOLL']['JobTitle'][24]\n",
    "\n",
    "print(f'O emprego dele é {emprego}')"
   ]
  },
  {
   "cell_type": "code",
   "execution_count": 106,
   "id": "c231a7fd",
   "metadata": {},
   "outputs": [
    {
     "data": {
      "text/plain": [
       "319275.01"
      ]
     },
     "execution_count": 106,
     "metadata": {},
     "output_type": "execute_result"
    }
   ],
   "source": [
    "salarios_df['BasePay'].max()"
   ]
  },
  {
   "cell_type": "markdown",
   "id": "337a5b88",
   "metadata": {},
   "source": [
    "**Ex6 -** Qual o nome da pessoa que tem o maior salário de todos?\n"
   ]
  },
  {
   "cell_type": "code",
   "execution_count": 107,
   "id": "af788629",
   "metadata": {},
   "outputs": [
    {
     "name": "stdout",
     "output_type": "stream",
     "text": [
      "O nome da pessoa é Gregory P Suhr\n"
     ]
    }
   ],
   "source": [
    "salario_max = salarios_df['BasePay'].max()\n",
    "nome = salarios_df[salarios_df['BasePay'] == salario_max]['EmployeeName']\n",
    "nome = nome[nome.index[0]]\n",
    "\n",
    "print(f'O nome da pessoa é {nome}')"
   ]
  },
  {
   "cell_type": "markdown",
   "id": "bca95d92",
   "metadata": {},
   "source": [
    "**Ex7 -** Qual é o salário médio por ano?"
   ]
  },
  {
   "cell_type": "code",
   "execution_count": 108,
   "id": "39c4738f",
   "metadata": {
    "scrolled": true
   },
   "outputs": [
    {
     "data": {
      "text/html": [
       "<div>\n",
       "<style scoped>\n",
       "    .dataframe tbody tr th:only-of-type {\n",
       "        vertical-align: middle;\n",
       "    }\n",
       "\n",
       "    .dataframe tbody tr th {\n",
       "        vertical-align: top;\n",
       "    }\n",
       "\n",
       "    .dataframe thead th {\n",
       "        text-align: right;\n",
       "    }\n",
       "</style>\n",
       "<table border=\"1\" class=\"dataframe\">\n",
       "  <thead>\n",
       "    <tr style=\"text-align: right;\">\n",
       "      <th></th>\n",
       "      <th>Ano</th>\n",
       "      <th>Media_Salarial</th>\n",
       "    </tr>\n",
       "  </thead>\n",
       "  <tbody>\n",
       "    <tr>\n",
       "      <th>0</th>\n",
       "      <td>2011</td>\n",
       "      <td>63595.96</td>\n",
       "    </tr>\n",
       "    <tr>\n",
       "      <th>1</th>\n",
       "      <td>2012</td>\n",
       "      <td>65436.41</td>\n",
       "    </tr>\n",
       "    <tr>\n",
       "      <th>2</th>\n",
       "      <td>2013</td>\n",
       "      <td>69630.03</td>\n",
       "    </tr>\n",
       "    <tr>\n",
       "      <th>3</th>\n",
       "      <td>2014</td>\n",
       "      <td>66564.42</td>\n",
       "    </tr>\n",
       "  </tbody>\n",
       "</table>\n",
       "</div>"
      ],
      "text/plain": [
       "    Ano  Media_Salarial\n",
       "0  2011        63595.96\n",
       "1  2012        65436.41\n",
       "2  2013        69630.03\n",
       "3  2014        66564.42"
      ]
     },
     "execution_count": 108,
     "metadata": {},
     "output_type": "execute_result"
    }
   ],
   "source": [
    "ano_min = salarios_df['Year'].min()\n",
    "ano_max = salarios_df['Year'].max()\n",
    "\n",
    "salario_medio_anual = [[], []]\n",
    "\n",
    "for ano in range(ano_min, ano_max+1):\n",
    "    media = round(salarios_df[ salarios_df['Year'] == ano ]['BasePay'].mean(), 2)\n",
    "    salario_medio_anual[0].append(ano)\n",
    "    salario_medio_anual[1].append(media)\n",
    "    \n",
    "df = pd.DataFrame()\n",
    "df['Ano'] = salario_medio_anual[0]\n",
    "df['Media_Salarial'] = salario_medio_anual[1]\n",
    "\n",
    "df"
   ]
  },
  {
   "cell_type": "markdown",
   "id": "6911fbb9",
   "metadata": {},
   "source": [
    "**Ex8 -** Quais são os cinco empregos mais comuns (JobTitle)?"
   ]
  },
  {
   "cell_type": "code",
   "execution_count": 109,
   "id": "f19726ee",
   "metadata": {},
   "outputs": [
    {
     "data": {
      "text/html": [
       "<div>\n",
       "<style scoped>\n",
       "    .dataframe tbody tr th:only-of-type {\n",
       "        vertical-align: middle;\n",
       "    }\n",
       "\n",
       "    .dataframe tbody tr th {\n",
       "        vertical-align: top;\n",
       "    }\n",
       "\n",
       "    .dataframe thead th {\n",
       "        text-align: right;\n",
       "    }\n",
       "</style>\n",
       "<table border=\"1\" class=\"dataframe\">\n",
       "  <thead>\n",
       "    <tr style=\"text-align: right;\">\n",
       "      <th></th>\n",
       "      <th>Empregos_Mai_Comuns</th>\n",
       "      <th>Quantidade</th>\n",
       "    </tr>\n",
       "  </thead>\n",
       "  <tbody>\n",
       "    <tr>\n",
       "      <th>0</th>\n",
       "      <td>Transit Operator</td>\n",
       "      <td>7036</td>\n",
       "    </tr>\n",
       "    <tr>\n",
       "      <th>1</th>\n",
       "      <td>Special Nurse</td>\n",
       "      <td>4389</td>\n",
       "    </tr>\n",
       "    <tr>\n",
       "      <th>2</th>\n",
       "      <td>Registered Nurse</td>\n",
       "      <td>3736</td>\n",
       "    </tr>\n",
       "    <tr>\n",
       "      <th>3</th>\n",
       "      <td>Public Svc Aide-Public Works</td>\n",
       "      <td>2518</td>\n",
       "    </tr>\n",
       "    <tr>\n",
       "      <th>4</th>\n",
       "      <td>Police Officer 3</td>\n",
       "      <td>2421</td>\n",
       "    </tr>\n",
       "  </tbody>\n",
       "</table>\n",
       "</div>"
      ],
      "text/plain": [
       "            Empregos_Mai_Comuns  Quantidade\n",
       "0              Transit Operator        7036\n",
       "1                 Special Nurse        4389\n",
       "2              Registered Nurse        3736\n",
       "3  Public Svc Aide-Public Works        2518\n",
       "4              Police Officer 3        2421"
      ]
     },
     "execution_count": 109,
     "metadata": {},
     "output_type": "execute_result"
    }
   ],
   "source": [
    "empregos = salarios_df['JobTitle'].value_counts().keys()[0:5]\n",
    "quantidade = salarios_df['JobTitle'].value_counts()[0:5]\n",
    "\n",
    "df = pd.DataFrame()\n",
    "\n",
    "df['Empregos_Mai_Comuns'] = empregos\n",
    "df['Quantidade'] = list(quantidade)\n",
    "\n",
    "df"
   ]
  },
  {
   "cell_type": "markdown",
   "id": "e0f2152a",
   "metadata": {},
   "source": [
    "**Ex9 -** Existe correlação entre ano e salário?\n"
   ]
  },
  {
   "cell_type": "markdown",
   "id": "dd8b2973",
   "metadata": {},
   "source": [
    "**Ex10 -** Como criar um outro dataframe selecionando apenas algumas colunas do dataframe original?"
   ]
  }
 ],
 "metadata": {
  "kernelspec": {
   "display_name": "Python 3 (ipykernel)",
   "language": "python",
   "name": "python3"
  },
  "language_info": {
   "codemirror_mode": {
    "name": "ipython",
    "version": 3
   },
   "file_extension": ".py",
   "mimetype": "text/x-python",
   "name": "python",
   "nbconvert_exporter": "python",
   "pygments_lexer": "ipython3",
   "version": "3.10.7"
  },
  "varInspector": {
   "cols": {
    "lenName": 16,
    "lenType": 16,
    "lenVar": 40
   },
   "kernels_config": {
    "python": {
     "delete_cmd_postfix": "",
     "delete_cmd_prefix": "del ",
     "library": "var_list.py",
     "varRefreshCmd": "print(var_dic_list())"
    },
    "r": {
     "delete_cmd_postfix": ") ",
     "delete_cmd_prefix": "rm(",
     "library": "var_list.r",
     "varRefreshCmd": "cat(var_dic_list()) "
    }
   },
   "types_to_exclude": [
    "module",
    "function",
    "builtin_function_or_method",
    "instance",
    "_Feature"
   ],
   "window_display": false
  }
 },
 "nbformat": 4,
 "nbformat_minor": 5
}

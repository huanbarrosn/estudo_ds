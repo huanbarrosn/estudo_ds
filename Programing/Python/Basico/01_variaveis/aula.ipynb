{
 "cells": [
  {
   "cell_type": "markdown",
   "id": "e6b519c6",
   "metadata": {},
   "source": [
    "ﾠ\n",
    "![s](https://media.discordapp.net/attachments/1010349590656065547/1030141927972151336/Variaveis_1.png)"
   ]
  },
  {
   "cell_type": "markdown",
   "id": "3f5d6f25",
   "metadata": {},
   "source": [
    "<br><br>\n",
    "No início do aprendizado de qualquer linguagem de programação existem alguns conceitos e idéias básicas que são necessários. O objetivo deste capítulo é introduzi-lo ao vocabulário básico de programação e alguns dos conceitos fundamentais de Python.<br><br><br>"
   ]
  },
  {
   "cell_type": "markdown",
   "id": "298be5fa",
   "metadata": {
    "heading_collapsed": true
   },
   "source": [
    "#  🔶 O que é uma variável? "
   ]
  },
  {
   "cell_type": "markdown",
   "id": "c72ae9ec",
   "metadata": {
    "hidden": true
   },
   "source": [
    "Variáveis em python são lugares reservados na mémoria de um dispositivo para o armazenamento de dados, que posteriormente poderão ser utilizados na excucução de algum algoritmo. Essas variáveis podem ter tamanho e tipo diferente, entre outras particularidades que veremos mais pra frente.<br>\n",
    "\n",
    "Podemos pensar que a memória RAM de um dispositivo é como um grande armário que podemos preencher com diversos items, e esses itens são as variáveis.<br>\n",
    "\n",
    "Em um armário podemos guardar roupas, calçados e objetos pessoais em geral. Assim como esse armário pode receber itens de tipo diferentes a memória RAM do seu dispotiso também pode receber variáveis com tipos diferentes.<br>\n",
    "\n",
    "As variáveis podem ser criadas assim como também podem ser excluidas da memória RAM. "
   ]
  },
  {
   "cell_type": "markdown",
   "id": "f8616684",
   "metadata": {
    "heading_collapsed": true
   },
   "source": [
    "#  🔶 Como declarar variáveis no python"
   ]
  },
  {
   "cell_type": "markdown",
   "id": "dbfb1c37",
   "metadata": {
    "hidden": true
   },
   "source": [
    "Para declarar variáveis no python, é preciso seguir algumas regras, caso contrário o interpretador do python não vai reconhecer o comando e uma mensagem de erro aparecerá.\n",
    "\n",
    "**1° regra**: não é possivel nomear uma variável começando com algum numero (5; 5.5) e também não pode usar simbolos (- %) na nomeação de uma variável, apenas o underline (_). <br>\n",
    "\n",
    "**2° regra**: outro cuidado que é preciso ter é não utilizar palavras que já fazem parte dos códigos da linguagem Python para declarar variáveis. As famosas palavras reservadas. Aqui estão essas palavras: **and, as, assert, break, class, continue, def, del, elif, else, except, exec, finally, for, from, global, if, import, in, is, lambda, nonlocal, not, pass, raise, return, try, while, with, yield, True, False, None, or**. Ao decorrer do tempo novas palavras podem ser acrecentadas a essa lita.<br>\n",
    "\n",
    "**3° regra**:  o Python é _case sensitive_, ou seja, é sensível a letras MAIÚSCULAS e minúscula, logo, **Audax** é diferente de **audax**."
   ]
  },
  {
   "cell_type": "markdown",
   "id": "e4c34914",
   "metadata": {
    "heading_collapsed": true
   },
   "source": [
    "# 🔶 Tipos de dados que uma variável no python aceita\n"
   ]
  },
  {
   "cell_type": "markdown",
   "id": "b0326b39",
   "metadata": {
    "hidden": true
   },
   "source": [
    "A linguagem python pussui uma variedade importante de tipificação de dados.\n",
    "\n",
    "Os tipos de dados padrão do Python são:\n",
    "\n",
    "- Inteiro (**int**)\n",
    "- Ponto Flutuante ou Decimal (**float**)\n",
    "- String (**str**)\n",
    "- Booleano (**bool**)\n",
    "- Lista (**list**)\n",
    "- Tupla (**tuple**)\n",
    "- Dictionário (**dict**)\n",
    "- Tipo Complexo (**complex**)\n",
    "\n",
    "Nesse tutorial iremos aprender apenas sobre os 4 primeiros tipos de dados, pois são com eles que nós mais vamos trabalhar nesse começo da jornada. Os demais tipos são assuntos mais complexos que veremos mais lá na frente."
   ]
  },
  {
   "cell_type": "markdown",
   "id": "a4ad4b84",
   "metadata": {
    "hidden": true
   },
   "source": [
    "\n",
    "### int"
   ]
  },
  {
   "cell_type": "markdown",
   "id": "17e4ecfc",
   "metadata": {
    "hidden": true
   },
   "source": [
    "O tipo inteiro é um tipo de dado usado para representar qualquer numero inteiro, seja ele positivo (n) ou negativo (-n). Por exemplo: 2, 3, -10, 21, 0, -23.\n",
    "\n",
    "Vou mostrar um exemplo no python, aonde eu crio 2 variáveis e atribuo a elas um numero inteiro."
   ]
  },
  {
   "cell_type": "code",
   "execution_count": 21,
   "id": "a83480fa",
   "metadata": {
    "ExecuteTime": {
     "end_time": "2022-10-09T21:27:09.670759Z",
     "start_time": "2022-10-09T21:27:09.664679Z"
    },
    "hidden": true
   },
   "outputs": [
    {
     "name": "stdout",
     "output_type": "stream",
     "text": [
      "<class 'int'>\n",
      "<class 'int'>\n"
     ]
    }
   ],
   "source": [
    "idade = 18\n",
    "ano = 2004\n",
    "\n",
    "# No python usamos a função print para mostrar algo na tela \n",
    "# E a função type para saber o tido de dado de uma variável\n",
    "\n",
    "print(type(idade)) \n",
    "print(type(ano))"
   ]
  },
  {
   "cell_type": "markdown",
   "id": "6d5abbf9",
   "metadata": {
    "hidden": true
   },
   "source": [
    "\n",
    "### float"
   ]
  },
  {
   "cell_type": "markdown",
   "id": "4085bc30",
   "metadata": {
    "hidden": true
   },
   "source": [
    "O tipo ponto flutuante informalmente conhecido como numero quequebrado, é um tipo de dado usado para representar qualquer numero que tenha decimais, seja ele positivo (n) ou negativo (-n). Por exemplo: 20.5, -3.25, -10.0, 21.0, 0.60, -23.40. \n",
    "\n",
    "Vou mostrar um exemplo no python, aonde eu crio 2 variáveis e atribuo a elas um numero flutuante."
   ]
  },
  {
   "cell_type": "code",
   "execution_count": 22,
   "id": "7ae1e809",
   "metadata": {
    "ExecuteTime": {
     "end_time": "2022-10-09T21:31:58.685588Z",
     "start_time": "2022-10-09T21:31:58.679310Z"
    },
    "hidden": true
   },
   "outputs": [
    {
     "name": "stdout",
     "output_type": "stream",
     "text": [
      "<class 'float'>\n",
      "<class 'float'>\n"
     ]
    }
   ],
   "source": [
    "temperatura = 25.5\n",
    "altura = 1.80\n",
    "\n",
    "print(type(temperatura))\n",
    "print(type(altura))"
   ]
  },
  {
   "cell_type": "markdown",
   "id": "449b1e8f",
   "metadata": {
    "hidden": true
   },
   "source": [
    "\n",
    "### str"
   ]
  },
  {
   "cell_type": "markdown",
   "id": "2b6fdc10",
   "metadata": {
    "hidden": true
   },
   "source": [
    "É um conjunto de caracteres dispostos numa determinada ordem, geralmente utilizada para representar palavras, frases ou textos. Para definir que um tipo de dado é str é necessário coloca-lo entres aspas, simples ou dupla.\n",
    "\n",
    "Em um primeiro momento vamos falar apenas o básico de uma string (str), mais para frente abordaremos esse assunto com mais profundidade."
   ]
  },
  {
   "cell_type": "code",
   "execution_count": 23,
   "id": "d6bfb71e",
   "metadata": {
    "ExecuteTime": {
     "end_time": "2022-10-09T21:36:40.455972Z",
     "start_time": "2022-10-09T21:36:40.450197Z"
    },
    "hidden": true
   },
   "outputs": [
    {
     "name": "stdout",
     "output_type": "stream",
     "text": [
      "<class 'str'>\n",
      "<class 'str'>\n"
     ]
    }
   ],
   "source": [
    "nome = 'audax'\n",
    "linguagem = \"python\"\n",
    "\n",
    "print(type(nome))\n",
    "print(type(linguagem))"
   ]
  },
  {
   "cell_type": "markdown",
   "id": "384526e9",
   "metadata": {
    "hidden": true
   },
   "source": [
    "\n",
    "### bool"
   ]
  },
  {
   "cell_type": "markdown",
   "id": "4a2c5fd9",
   "metadata": {
    "ExecuteTime": {
     "end_time": "2022-10-09T21:45:24.429442Z",
     "start_time": "2022-10-09T21:45:24.420140Z"
    },
    "hidden": true
   },
   "source": [
    "É um tipo de dado lógico que pode assumir apenas dois valores: False ou True (em português, Falso ou Verdadeiro). Na lógica computacional, podem ser considerados 0 ou 1 (False ou True). "
   ]
  },
  {
   "cell_type": "code",
   "execution_count": 32,
   "id": "88796ac7",
   "metadata": {
    "ExecuteTime": {
     "end_time": "2022-10-09T21:50:07.664266Z",
     "start_time": "2022-10-09T21:50:07.659462Z"
    },
    "hidden": true
   },
   "outputs": [
    {
     "name": "stdout",
     "output_type": "stream",
     "text": [
      "<class 'bool'>\n",
      "<class 'bool'>\n"
     ]
    }
   ],
   "source": [
    "vivo = True\n",
    "morto = False\n",
    "\n",
    "print(type(vivo))\n",
    "print(type(morto))"
   ]
  },
  {
   "cell_type": "markdown",
   "id": "b63fac1f",
   "metadata": {
    "heading_collapsed": true
   },
   "source": [
    "# 🔶 Transformando variáveis"
   ]
  },
  {
   "cell_type": "markdown",
   "id": "45839ce7",
   "metadata": {
    "hidden": true
   },
   "source": [
    "Em determinados cenários pode ser necessário mudar o tipo de uma variável e no Python isso é muito fácil, uma das vantagens de uma linguagem dinamicamente tipada.\n",
    "\n",
    "Vamos ver alguns exemplos:\n"
   ]
  },
  {
   "cell_type": "markdown",
   "id": "f1c04f8f",
   "metadata": {
    "hidden": true
   },
   "source": [
    "\n",
    "### inteiro (int) para string (str) "
   ]
  },
  {
   "cell_type": "code",
   "execution_count": 75,
   "id": "49475141",
   "metadata": {
    "ExecuteTime": {
     "end_time": "2022-10-09T23:13:02.232323Z",
     "start_time": "2022-10-09T23:13:02.225111Z"
    },
    "hidden": true
   },
   "outputs": [
    {
     "name": "stdout",
     "output_type": "stream",
     "text": [
      "18 <class 'int'>\n",
      "18 <class 'str'>\n"
     ]
    }
   ],
   "source": [
    "# Antes da conversão\n",
    "idade = 13\n",
    "print(idade, type(idade))\n",
    "\n",
    "# Depois da conversão\n",
    "idade = str(idade)\n",
    "print(idade, type(idade))"
   ]
  },
  {
   "cell_type": "markdown",
   "id": "99af229a",
   "metadata": {
    "hidden": true
   },
   "source": [
    "\n",
    "### decimal (float) para string (str) "
   ]
  },
  {
   "cell_type": "code",
   "execution_count": 76,
   "id": "fb6918ba",
   "metadata": {
    "ExecuteTime": {
     "end_time": "2022-10-09T23:13:04.757214Z",
     "start_time": "2022-10-09T23:13:04.749960Z"
    },
    "hidden": true
   },
   "outputs": [
    {
     "name": "stdout",
     "output_type": "stream",
     "text": [
      "1.8 <class 'float'>\n",
      "1.8 <class 'str'>\n"
     ]
    }
   ],
   "source": [
    "# Antes da conversão\n",
    "altura = 1.80\n",
    "print(altura, type(altura))\n",
    "\n",
    "# Depois da conversão\n",
    "altura = str(altura)\n",
    "print(altura, type(altura))"
   ]
  },
  {
   "cell_type": "markdown",
   "id": "bb1b2901",
   "metadata": {
    "hidden": true
   },
   "source": [
    "\n",
    "### string (str) para decimal (float) ou inteiro (int) "
   ]
  },
  {
   "cell_type": "code",
   "execution_count": 78,
   "id": "62141eed",
   "metadata": {
    "ExecuteTime": {
     "end_time": "2022-10-09T23:13:26.951104Z",
     "start_time": "2022-10-09T23:13:26.940529Z"
    },
    "hidden": true
   },
   "outputs": [
    {
     "name": "stdout",
     "output_type": "stream",
     "text": [
      "1.80 <class 'str'>\n",
      "18 <class 'str'>\n",
      "\n",
      "1.8 <class 'float'>\n",
      "18 <class 'int'>\n"
     ]
    }
   ],
   "source": [
    "# Antes da conversão\n",
    "altura = '1.80'\n",
    "idade = '18'\n",
    "print(altura, type(altura))\n",
    "print(idade, type(idade))\n",
    "\n",
    "print()\n",
    "\n",
    "# Depois da conversão\n",
    "altura = float(altura)\n",
    "idade = int(idade)\n",
    "print(altura, type(altura))\n",
    "print(idade, type(idade))"
   ]
  },
  {
   "cell_type": "markdown",
   "id": "016de55d",
   "metadata": {
    "hidden": true
   },
   "source": [
    "\n",
    "### inteiro (int) para decimal (float)"
   ]
  },
  {
   "cell_type": "code",
   "execution_count": 80,
   "id": "19812e02",
   "metadata": {
    "ExecuteTime": {
     "end_time": "2022-10-09T23:16:14.471001Z",
     "start_time": "2022-10-09T23:16:14.463502Z"
    },
    "hidden": true
   },
   "outputs": [
    {
     "name": "stdout",
     "output_type": "stream",
     "text": [
      "13 <class 'int'>\n",
      "13.0 <class 'float'>\n"
     ]
    }
   ],
   "source": [
    "# Antes da conversão\n",
    "idade = 13\n",
    "print(idade, type(idade))\n",
    "\n",
    "# Depois da conversão\n",
    "idade = float(idade)\n",
    "print(idade, type(idade))"
   ]
  },
  {
   "cell_type": "markdown",
   "id": "74d46047",
   "metadata": {
    "hidden": true
   },
   "source": [
    "\n",
    "### booleano (bool) para inteiro (int)"
   ]
  },
  {
   "cell_type": "code",
   "execution_count": 82,
   "id": "50c1b3d0",
   "metadata": {
    "ExecuteTime": {
     "end_time": "2022-10-09T23:18:54.232854Z",
     "start_time": "2022-10-09T23:18:54.225820Z"
    },
    "hidden": true
   },
   "outputs": [
    {
     "name": "stdout",
     "output_type": "stream",
     "text": [
      "True <class 'bool'>\n",
      "1 <class 'int'>\n"
     ]
    }
   ],
   "source": [
    "# Antes da conversão\n",
    "vivo = True\n",
    "print(vivo, type(vivo))\n",
    "\n",
    "# Depois da conversão\n",
    "vivo = int(vivo)\n",
    "print(vivo, type(vivo))"
   ]
  },
  {
   "cell_type": "markdown",
   "id": "7e934715",
   "metadata": {
    "heading_collapsed": true
   },
   "source": [
    "# 🔶 Outras coisas sobre variáveis\n"
   ]
  },
  {
   "cell_type": "markdown",
   "id": "81eb29eb",
   "metadata": {
    "hidden": true
   },
   "source": [
    "\n",
    "### Sobrescrever variáveis"
   ]
  },
  {
   "cell_type": "markdown",
   "id": "95085d7c",
   "metadata": {
    "hidden": true
   },
   "source": [
    "Sobrescrever uma variável é você criar uma variável com o mesmo nome de uma variável já criada e atribuir a ela um outro valor.\n",
    "\n",
    "Vamos ver um exemplo:"
   ]
  },
  {
   "cell_type": "code",
   "execution_count": 87,
   "id": "427fab14",
   "metadata": {
    "ExecuteTime": {
     "end_time": "2022-10-09T23:27:03.566294Z",
     "start_time": "2022-10-09T23:27:03.557851Z"
    },
    "hidden": true
   },
   "outputs": [
    {
     "name": "stdout",
     "output_type": "stream",
     "text": [
      "Junin\n"
     ]
    }
   ],
   "source": [
    "nome = 'Audax'\n",
    "nome = 'Junin'\n",
    "\n",
    "print(nome)\n",
    "# Quando eu pedir para o python mostrar qual o valor que a variável (nome) recebeu\n",
    "# ele vai buscar na memória a ultima vez em que essa variável foi criada."
   ]
  },
  {
   "cell_type": "markdown",
   "id": "370fe9b6",
   "metadata": {
    "hidden": true
   },
   "source": [
    "\n",
    "### Muitos valores para múltiplas variáveis"
   ]
  },
  {
   "cell_type": "markdown",
   "id": "31cc8695",
   "metadata": {
    "hidden": true
   },
   "source": [
    "\n",
    "É possivel declarar mais de uma variável apenas em uma linha. No entanto é necessário que o número de variáveis corresponda ao número de valores, caso contrário você receberá um erro."
   ]
  },
  {
   "cell_type": "code",
   "execution_count": 88,
   "id": "f07924fc",
   "metadata": {
    "ExecuteTime": {
     "end_time": "2022-10-09T23:41:32.511176Z",
     "start_time": "2022-10-09T23:41:32.504874Z"
    },
    "hidden": true
   },
   "outputs": [
    {
     "name": "stdout",
     "output_type": "stream",
     "text": [
      "Audax\n",
      "18\n",
      "1.8\n"
     ]
    }
   ],
   "source": [
    "nome, idade, altura = 'Audax', 18, 1.80\n",
    "\n",
    "print(nome)\n",
    "print(idade)\n",
    "print(altura)"
   ]
  },
  {
   "cell_type": "markdown",
   "id": "a0ba8b34",
   "metadata": {
    "hidden": true
   },
   "source": [
    "\n",
    "### Um valor para várias variáveis"
   ]
  },
  {
   "cell_type": "markdown",
   "id": "e5754333",
   "metadata": {
    "hidden": true
   },
   "source": [
    "É possivel atribuir para varias variáveis um mesmo valor em uma unica linha."
   ]
  },
  {
   "cell_type": "code",
   "execution_count": 89,
   "id": "07fa5202",
   "metadata": {
    "ExecuteTime": {
     "end_time": "2022-10-09T23:49:21.226569Z",
     "start_time": "2022-10-09T23:49:21.220042Z"
    },
    "hidden": true
   },
   "outputs": [
    {
     "name": "stdout",
     "output_type": "stream",
     "text": [
      "0\n",
      "0\n",
      "0\n"
     ]
    }
   ],
   "source": [
    "x = y = z = 0\n",
    "\n",
    "print(x)\n",
    "print(y)\n",
    "print(z)"
   ]
  },
  {
   "cell_type": "markdown",
   "id": "dd8935ae",
   "metadata": {
    "hidden": true
   },
   "source": [
    "\n",
    "### Descompactar uma coleção"
   ]
  },
  {
   "cell_type": "markdown",
   "id": "a4566c25",
   "metadata": {
    "hidden": true
   },
   "source": [
    "Se você tem uma coleção de valores em algum tipo de array. O Python permite que você extraia os valores em variáveis. Isso é chamado de descompactação."
   ]
  },
  {
   "cell_type": "code",
   "execution_count": 90,
   "id": "cf139a19",
   "metadata": {
    "ExecuteTime": {
     "end_time": "2022-10-09T23:53:44.875425Z",
     "start_time": "2022-10-09T23:53:44.868445Z"
    },
    "hidden": true
   },
   "outputs": [
    {
     "name": "stdout",
     "output_type": "stream",
     "text": [
      "uva\n",
      "pera\n",
      "morango\n"
     ]
    }
   ],
   "source": [
    "frutas = ['uva', 'pera', 'morango']\n",
    "\n",
    "f1, f2, f3 = frutas\n",
    "\n",
    "print(f1)\n",
    "print(f2)\n",
    "print(f3)"
   ]
  },
  {
   "cell_type": "markdown",
   "id": "6b25f77d",
   "metadata": {
    "heading_collapsed": true
   },
   "source": [
    "# 🔶 Erros comuns relacionados ao tipo da variável"
   ]
  },
  {
   "cell_type": "markdown",
   "id": "26934924",
   "metadata": {
    "hidden": true
   },
   "source": [
    "Entre os erros mais comuns que acontecem principalmente com quem está iniciando sua jornada com a linguagem Python estão os famosos **TypeError**!<br>\n",
    "\n",
    "Este tipo de erro está relacionado a tipagem errada de uma variável. Além disso, também pode representar uma operação incompatível, como tentar fazer uma operação matemática com variáveis de tipo incompatíveis. Por exemplo, str e int.<br>\n"
   ]
  },
  {
   "cell_type": "code",
   "execution_count": 19,
   "id": "4fdf00bf",
   "metadata": {
    "ExecuteTime": {
     "end_time": "2022-10-11T16:09:52.751169Z",
     "start_time": "2022-10-11T16:09:52.725623Z"
    },
    "collapsed": true,
    "hidden": true
   },
   "outputs": [
    {
     "ename": "ValueError",
     "evalue": "invalid literal for int() with base 10: 'Audax'",
     "output_type": "error",
     "traceback": [
      "\u001b[0;31m---------------------------------------------------------------------------\u001b[0m",
      "\u001b[0;31mValueError\u001b[0m                                Traceback (most recent call last)",
      "Input \u001b[0;32mIn [19]\u001b[0m, in \u001b[0;36m<cell line: 4>\u001b[0;34m()\u001b[0m\n\u001b[1;32m      1\u001b[0m \u001b[38;5;66;03m# Tentar transformar algum caractere diferente de um numero em numero inteiro ou decimal é um tipo de tipagem errada.\u001b[39;00m\n\u001b[1;32m      3\u001b[0m nome \u001b[38;5;241m=\u001b[39m \u001b[38;5;124m'\u001b[39m\u001b[38;5;124mAudax\u001b[39m\u001b[38;5;124m'\u001b[39m\n\u001b[0;32m----> 4\u001b[0m nome \u001b[38;5;241m=\u001b[39m \u001b[38;5;28;43mint\u001b[39;49m\u001b[43m(\u001b[49m\u001b[43mnome\u001b[49m\u001b[43m)\u001b[49m\n",
      "\u001b[0;31mValueError\u001b[0m: invalid literal for int() with base 10: 'Audax'"
     ]
    }
   ],
   "source": [
    "# Tentar transformar algum caractere diferente de um numero em numero inteiro ou decimal é um tipo de tipagem errada.\n",
    "\n",
    "nome = 'Audax'\n",
    "nome = int(nome)"
   ]
  },
  {
   "cell_type": "code",
   "execution_count": 95,
   "id": "fed56fb9",
   "metadata": {
    "ExecuteTime": {
     "end_time": "2022-10-10T00:03:03.048165Z",
     "start_time": "2022-10-10T00:03:03.041526Z"
    },
    "hidden": true
   },
   "outputs": [],
   "source": [
    "# Tentar fazer alguma operação com numeros inteiros ou decimal e str\n",
    "\n",
    "num_str = '1'\n",
    "num_int = 2\n",
    "\n",
    "soma = num_str + num_int\n",
    "print(soma)"
   ]
  }
 ],
 "metadata": {
  "kernelspec": {
   "display_name": "Python 3 (ipykernel)",
   "language": "python",
   "name": "python3"
  },
  "language_info": {
   "codemirror_mode": {
    "name": "ipython",
    "version": 3
   },
   "file_extension": ".py",
   "mimetype": "text/x-python",
   "name": "python",
   "nbconvert_exporter": "python",
   "pygments_lexer": "ipython3",
   "version": "3.10.7"
  },
  "varInspector": {
   "cols": {
    "lenName": 16,
    "lenType": 16,
    "lenVar": 40
   },
   "kernels_config": {
    "python": {
     "delete_cmd_postfix": "",
     "delete_cmd_prefix": "del ",
     "library": "var_list.py",
     "varRefreshCmd": "print(var_dic_list())"
    },
    "r": {
     "delete_cmd_postfix": ") ",
     "delete_cmd_prefix": "rm(",
     "library": "var_list.r",
     "varRefreshCmd": "cat(var_dic_list()) "
    }
   },
   "types_to_exclude": [
    "module",
    "function",
    "builtin_function_or_method",
    "instance",
    "_Feature"
   ],
   "window_display": false
  }
 },
 "nbformat": 4,
 "nbformat_minor": 5
}

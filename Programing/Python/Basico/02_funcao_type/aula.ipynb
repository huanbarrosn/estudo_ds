{
 "cells": [
  {
   "cell_type": "markdown",
   "id": "ba2be514",
   "metadata": {},
   "source": [
    "## Função type()"
   ]
  },
  {
   "cell_type": "code",
   "execution_count": null,
   "id": "367f346f",
   "metadata": {},
   "outputs": [],
   "source": [
    "# a função type serve para identificar o tipo de dado da variavel\n",
    "#Ex.:\n",
    "a = \"Huan\"\n",
    "print(type(a))\n",
    "\n",
    "b = 4.5\n",
    "print(type(b))"
   ]
  }
 ],
 "metadata": {
  "kernelspec": {
   "display_name": "Python 3 (ipykernel)",
   "language": "python",
   "name": "python3"
  },
  "language_info": {
   "codemirror_mode": {
    "name": "ipython",
    "version": 3
   },
   "file_extension": ".py",
   "mimetype": "text/x-python",
   "name": "python",
   "nbconvert_exporter": "python",
   "pygments_lexer": "ipython3",
   "version": "3.10.4"
  }
 },
 "nbformat": 4,
 "nbformat_minor": 5
}

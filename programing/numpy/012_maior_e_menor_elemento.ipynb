{
 "cells": [
  {
   "cell_type": "markdown",
   "id": "0aa4d639",
   "metadata": {},
   "source": [
    "Fazer um programa para ler 5 valores e, em seguida, mostrar a posicao onde se encontram o maior e o menor valor."
   ]
  },
  {
   "cell_type": "code",
   "execution_count": 3,
   "id": "e5ac8d72",
   "metadata": {},
   "outputs": [],
   "source": [
    "import numpy as np"
   ]
  },
  {
   "cell_type": "code",
   "execution_count": 10,
   "id": "af6963ae",
   "metadata": {},
   "outputs": [
    {
     "name": "stdout",
     "output_type": "stream",
     "text": [
      "[6 2 0 1 3] \n",
      "\n",
      "Posiçao do maior: 0\n",
      "Posiçao do menor: 2\n"
     ]
    }
   ],
   "source": [
    "a = np.array(np.random.randint(low=10, size=5), dtype=int)\n",
    "print(a,'\\n')\n",
    "\n",
    "maior = a.max()\n",
    "menor = a.min()\n",
    "\n",
    "print('Posiçao do maior:', np.where(a==maior)[0][0])\n",
    "print('Posiçao do menor:', np.where(a==menor)[0][0])"
   ]
  }
 ],
 "metadata": {
  "kernelspec": {
   "display_name": "Python 3 (ipykernel)",
   "language": "python",
   "name": "python3"
  },
  "language_info": {
   "codemirror_mode": {
    "name": "ipython",
    "version": 3
   },
   "file_extension": ".py",
   "mimetype": "text/x-python",
   "name": "python",
   "nbconvert_exporter": "python",
   "pygments_lexer": "ipython3",
   "version": "3.10.4"
  }
 },
 "nbformat": 4,
 "nbformat_minor": 5
}

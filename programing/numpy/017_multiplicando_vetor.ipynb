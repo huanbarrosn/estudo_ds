{
 "cells": [
  {
   "cell_type": "markdown",
   "id": "37a71cc0",
   "metadata": {},
   "source": [
    "Faca um programa que leia um vetor de 10 numeros. Leia um numero x. Conte os multiplos de um numero inteiro x num vetor e mostre-os na tela."
   ]
  },
  {
   "cell_type": "code",
   "execution_count": 2,
   "id": "cd7e0699",
   "metadata": {},
   "outputs": [],
   "source": [
    "import numpy as np"
   ]
  },
  {
   "cell_type": "code",
   "execution_count": 4,
   "id": "03ed0de1",
   "metadata": {},
   "outputs": [
    {
     "name": "stdout",
     "output_type": "stream",
     "text": [
      "[ 5 15 14 11  4 19  1 16 13  0]\n",
      "4\n",
      "[20 60 56 44 16 76  4 64 52  0]\n"
     ]
    }
   ],
   "source": [
    "a = np.array(np.random.randint(low=20, size=10), dtype=int)\n",
    "print(a)\n",
    "\n",
    "multiplicador = np.random.randint(low=5)\n",
    "print(multiplicador)\n",
    "\n",
    "b = a*multiplicador\n",
    "print(b)"
   ]
  }
 ],
 "metadata": {
  "kernelspec": {
   "display_name": "Python 3 (ipykernel)",
   "language": "python",
   "name": "python3"
  },
  "language_info": {
   "codemirror_mode": {
    "name": "ipython",
    "version": 3
   },
   "file_extension": ".py",
   "mimetype": "text/x-python",
   "name": "python",
   "nbconvert_exporter": "python",
   "pygments_lexer": "ipython3",
   "version": "3.10.4"
  }
 },
 "nbformat": 4,
 "nbformat_minor": 5
}

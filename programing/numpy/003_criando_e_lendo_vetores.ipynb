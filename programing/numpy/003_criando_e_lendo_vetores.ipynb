{
 "cells": [
  {
   "cell_type": "markdown",
   "id": "0553632f",
   "metadata": {},
   "source": [
    " Ler um conjunto de numeros reais, armazenando-o em vetor e calcular o quadrado das\n",
    "componentes deste vetor, armazenando o resultado em outro vetor. Os conjuntos tem\n",
    "10 elementos cada. Imprimir todos os conjuntos."
   ]
  },
  {
   "cell_type": "code",
   "execution_count": 4,
   "id": "166e09d4",
   "metadata": {},
   "outputs": [],
   "source": [
    "import numpy as np"
   ]
  },
  {
   "cell_type": "code",
   "execution_count": 7,
   "id": "bd027303",
   "metadata": {},
   "outputs": [
    {
     "name": "stdout",
     "output_type": "stream",
     "text": [
      "[7 8 9 3 7 5 1 4 2 7]\n",
      "[49 64 81  9 49 25  1 16  4 49]\n"
     ]
    }
   ],
   "source": [
    "a = np.array([np.random.randint(low=10, dtype=int) for x in range(10)])\n",
    "b = np.array([x**2 for x in a])\n",
    "\n",
    "print(a)\n",
    "print(b)"
   ]
  }
 ],
 "metadata": {
  "kernelspec": {
   "display_name": "Python 3 (ipykernel)",
   "language": "python",
   "name": "python3"
  },
  "language_info": {
   "codemirror_mode": {
    "name": "ipython",
    "version": 3
   },
   "file_extension": ".py",
   "mimetype": "text/x-python",
   "name": "python",
   "nbconvert_exporter": "python",
   "pygments_lexer": "ipython3",
   "version": "3.10.4"
  }
 },
 "nbformat": 4,
 "nbformat_minor": 5
}

{
 "cells": [
  {
   "cell_type": "markdown",
   "id": "816a160e",
   "metadata": {},
   "source": [
    "Escreva um programa que leia numeros inteiros no intervalo [0,50] e os armazene em um vetor com 10 posicoes. Preencha um segundo vetor apenas com os numeros ımpares do primeiro vetor. Imprima os dois vetores, 2 elementos por linha."
   ]
  },
  {
   "cell_type": "code",
   "execution_count": 1,
   "id": "0a166aab",
   "metadata": {},
   "outputs": [],
   "source": [
    "import numpy as np"
   ]
  },
  {
   "cell_type": "code",
   "execution_count": 35,
   "id": "e395ccf9",
   "metadata": {},
   "outputs": [
    {
     "name": "stdout",
     "output_type": "stream",
     "text": [
      "[43 23 16  5  1 15 21 43 46 24] \n",
      "\n",
      "[43 23  5  1 15 21 43]\n"
     ]
    }
   ],
   "source": [
    "vetor = np.array(np.random.randint(low=0, high=50, size=10), dtype=int)\n",
    "print(a,'\\n')\n",
    "\n",
    "impares = vetor[a%2!=0] \n",
    "print(impares)"
   ]
  }
 ],
 "metadata": {
  "kernelspec": {
   "display_name": "Python 3 (ipykernel)",
   "language": "python",
   "name": "python3"
  },
  "language_info": {
   "codemirror_mode": {
    "name": "ipython",
    "version": 3
   },
   "file_extension": ".py",
   "mimetype": "text/x-python",
   "name": "python",
   "nbconvert_exporter": "python",
   "pygments_lexer": "ipython3",
   "version": "3.10.4"
  }
 },
 "nbformat": 4,
 "nbformat_minor": 5
}

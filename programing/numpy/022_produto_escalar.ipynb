{
 "cells": [
  {
   "cell_type": "markdown",
   "id": "7a16ee2d",
   "metadata": {},
   "source": [
    "Ler dois conjuntos de numeros reais, armazenando-os em vetores e calcular o produto escalar entre eles. Os conjuntos tem 5 elementos cada. Imprimir os dois conjuntos e o produto escalar, sendo que o produto escalar e dado por: ´ x1 ∗ y1 + x2 ∗ y2 + ... + xn ∗ yn."
   ]
  },
  {
   "cell_type": "code",
   "execution_count": 1,
   "id": "8828fe96",
   "metadata": {},
   "outputs": [],
   "source": [
    "import numpy as np"
   ]
  },
  {
   "cell_type": "code",
   "execution_count": 14,
   "id": "02e13816",
   "metadata": {},
   "outputs": [
    {
     "name": "stdout",
     "output_type": "stream",
     "text": [
      "[9 1 6 3 2]\n",
      "[9 9 8 7 0]\n",
      "\n",
      "O produto escalar: 159\n"
     ]
    }
   ],
   "source": [
    "a = np.random.randint(low=10, size=5, dtype=int)\n",
    "b = np.random.randint(low=10, size=5, dtype=int)\n",
    "\n",
    "print(a)\n",
    "print(b)\n",
    "\n",
    "pe = np.array([a[i]*b[i] for i in range(5)])\n",
    "print('\\nO produto escalar:',pe.sum())"
   ]
  }
 ],
 "metadata": {
  "kernelspec": {
   "display_name": "Python 3 (ipykernel)",
   "language": "python",
   "name": "python3"
  },
  "language_info": {
   "codemirror_mode": {
    "name": "ipython",
    "version": 3
   },
   "file_extension": ".py",
   "mimetype": "text/x-python",
   "name": "python",
   "nbconvert_exporter": "python",
   "pygments_lexer": "ipython3",
   "version": "3.10.4"
  }
 },
 "nbformat": 4,
 "nbformat_minor": 5
}

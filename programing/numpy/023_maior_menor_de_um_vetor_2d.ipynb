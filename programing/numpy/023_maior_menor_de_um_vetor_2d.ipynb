{
 "cells": [
  {
   "cell_type": "markdown",
   "id": "2dfdeede",
   "metadata": {},
   "source": [
    "Faca um programa que leia dez conjuntos de dois valores, o primeiro representando o numero do aluno e o segundo representando a sua altura em metros. Encontre o aluno mais baixo e o mais alto. Mostre o numero do aluno mais baixo e do mais alto, juntamente com suas alturas."
   ]
  },
  {
   "cell_type": "code",
   "execution_count": 2,
   "id": "786509a9",
   "metadata": {},
   "outputs": [],
   "source": [
    "import numpy as np"
   ]
  },
  {
   "cell_type": "code",
   "execution_count": 3,
   "id": "0031a507",
   "metadata": {},
   "outputs": [
    {
     "name": "stdout",
     "output_type": "stream",
     "text": [
      "\n",
      "Nome: a\n",
      "Altura: 1\n",
      "\n",
      "Nome: b\n",
      "Altura: 3\n",
      "\n",
      "Nome: c\n",
      "Altura: 0\n",
      "\n",
      "\n",
      "Mais baixo >> b'c': 0.0\n",
      "Mais alto >> b'b':3.0\n"
     ]
    }
   ],
   "source": [
    "while True:\n",
    "    try:\n",
    "        a = []\n",
    "        for i in range(3):\n",
    "            nome = input('\\nNome: ')\n",
    "            altura = float(input('Altura: '))\n",
    "            \n",
    "            if nome.isalpha()==False:\n",
    "                raise Exception('So aceitamos nomes com letras.')\n",
    "            \n",
    "            a.append((nome, altura))\n",
    "        \n",
    "        tipo = np.dtype([('nome','S10'), ('altura', float)])\n",
    "        a = np.array(a, dtype=tipo)\n",
    "\n",
    "        a = np.sort(a, order='altura')\n",
    "\n",
    "    except Exception as erro:\n",
    "        print(f'\\n\\033[31m{erro}\\033m')\n",
    "        print(f'\\033[31mO erro {erro.__class__} aconteceu.\\033[m')\n",
    "\n",
    "    else:\n",
    "        print(f'\\n\\nMais baixo >> {a[0][0]}: {a[0][1]}')\n",
    "        print(f'Mais alto >> {a[-1][0]}:{a[-1][1]}')\n",
    "        break"
   ]
  }
 ],
 "metadata": {
  "kernelspec": {
   "display_name": "Python 3 (ipykernel)",
   "language": "python",
   "name": "python3"
  },
  "language_info": {
   "codemirror_mode": {
    "name": "ipython",
    "version": 3
   },
   "file_extension": ".py",
   "mimetype": "text/x-python",
   "name": "python",
   "nbconvert_exporter": "python",
   "pygments_lexer": "ipython3",
   "version": "3.10.4"
  }
 },
 "nbformat": 4,
 "nbformat_minor": 5
}

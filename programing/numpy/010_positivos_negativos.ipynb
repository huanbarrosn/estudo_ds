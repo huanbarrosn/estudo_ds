{
 "cells": [
  {
   "cell_type": "markdown",
   "id": "df9e308e",
   "metadata": {},
   "source": [
    "Faca um programa que preencha um vetor com 10 numeros reais, calcule e mostre a quantidade de numeros negativos e a soma dos numeros positivos desse vetor.\n"
   ]
  },
  {
   "cell_type": "code",
   "execution_count": 1,
   "id": "809c55d4",
   "metadata": {},
   "outputs": [],
   "source": [
    "import numpy as np"
   ]
  },
  {
   "cell_type": "code",
   "execution_count": 13,
   "id": "8995a9c3",
   "metadata": {},
   "outputs": [
    {
     "name": "stdout",
     "output_type": "stream",
     "text": [
      "[-10.  -1. -10.   4.  -1.   5.   4.   1.   4.  -4.] \n",
      "\n",
      "Quantidade de negativos: 5\n",
      "Positivos: 18.0\n"
     ]
    }
   ],
   "source": [
    "a = np.array(np.random.randint(low=-10, high=10, size=10), dtype=float)\n",
    "print(a,'\\n')\n",
    "\n",
    "negativos = a[a<0]\n",
    "positivos = a[a>=0]\n",
    "\n",
    "print('Quantidade de negativos:', negativos.size)\n",
    "print('Positivos:', positivos.sum())"
   ]
  }
 ],
 "metadata": {
  "kernelspec": {
   "display_name": "Python 3 (ipykernel)",
   "language": "python",
   "name": "python3"
  },
  "language_info": {
   "codemirror_mode": {
    "name": "ipython",
    "version": 3
   },
   "file_extension": ".py",
   "mimetype": "text/x-python",
   "name": "python",
   "nbconvert_exporter": "python",
   "pygments_lexer": "ipython3",
   "version": "3.10.4"
  }
 },
 "nbformat": 4,
 "nbformat_minor": 5
}

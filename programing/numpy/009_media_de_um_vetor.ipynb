{
 "cells": [
  {
   "cell_type": "markdown",
   "id": "355f2967",
   "metadata": {},
   "source": [
    "Faca um programa para ler a nota da prova de 15 alunos e armazene num vetor, calcule\n",
    "e imprima a media geral."
   ]
  },
  {
   "cell_type": "code",
   "execution_count": 1,
   "id": "9cde00eb",
   "metadata": {},
   "outputs": [],
   "source": [
    "import numpy as np"
   ]
  },
  {
   "cell_type": "code",
   "execution_count": 19,
   "id": "16b2f28d",
   "metadata": {},
   "outputs": [
    {
     "name": "stdout",
     "output_type": "stream",
     "text": [
      "[5 4 3 0 5 5 5 0 8 1 5 0 5 2 8]\n",
      "\n",
      "Media geral: 3.73\n"
     ]
    }
   ],
   "source": [
    "a = np.array([np.random.randint(low=10) for i in range(15)])\n",
    "print(a)\n",
    "\n",
    "print(f'\\nMedia geral: {a.mean():.2f}')"
   ]
  }
 ],
 "metadata": {
  "kernelspec": {
   "display_name": "Python 3 (ipykernel)",
   "language": "python",
   "name": "python3"
  },
  "language_info": {
   "codemirror_mode": {
    "name": "ipython",
    "version": 3
   },
   "file_extension": ".py",
   "mimetype": "text/x-python",
   "name": "python",
   "nbconvert_exporter": "python",
   "pygments_lexer": "ipython3",
   "version": "3.10.4"
  }
 },
 "nbformat": 4,
 "nbformat_minor": 5
}

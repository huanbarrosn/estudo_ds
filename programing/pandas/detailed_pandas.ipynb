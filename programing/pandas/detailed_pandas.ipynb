{
 "cells": [
  {
   "cell_type": "markdown",
   "id": "868cc62a",
   "metadata": {
    "heading_collapsed": true
   },
   "source": [
    "# 🎯 Introdução"
   ]
  },
  {
   "cell_type": "markdown",
   "id": "3db434ab",
   "metadata": {
    "heading_collapsed": true,
    "hidden": true
   },
   "source": [
    "##  👾 <font size=5>Porque pandas?<font>"
   ]
  },
  {
   "cell_type": "markdown",
   "id": "ceca2fa5",
   "metadata": {
    "hidden": true
   },
   "source": [
    "- [Pandas](https://pandas.pydata.org/) é um pacote que oferece estrutura de dados rapidas, fexiveis e expressivas projetadas para tornar o trabalho com dados \"Relacionais\" ou \"Rotulados/Indexados\" fácil e intuitivo. \n",
    "\n",
    "- O pandas é a biblioteca mais utilizada para manipulação de dados.\n",
    "\n",
    "- Tem uma sintaxe simples.\n",
    "\n",
    "- Possui comandos muito importante para tratar e tirar insights."
   ]
  },
  {
   "cell_type": "markdown",
   "id": "0944c5e6",
   "metadata": {
    "heading_collapsed": true,
    "hidden": true
   },
   "source": [
    "##  👾 <font size=5>O que é o pandas?<font>"
   ]
  },
  {
   "cell_type": "markdown",
   "id": "8f8a6ab4",
   "metadata": {
    "hidden": true
   },
   "source": [
    "- O pandas é uma biblioteca python criada por Wes Mckinney.\n",
    "- Por debaixo do panos o pandas utiliza o numpy para ser mais eficiente e muitos dos seus bits algoritmicos de baixo nivel foram extensivamente ajustados no código Cython. \n",
    "- Cria e manipula estruturas unidimencionais e bidimensionais.\n",
    "- Tem integração com matplotlib para visualização de dados.\n",
    "- Fornece muitas funcionalidadades para a preparação de dados: reshaping, merging, ordenação, slince, agregação, etc.\n",
    "- Permite a crição de novas colunas derivadas (muito importante para machine learning).\n",
    "- Permite o tratamento de dados faltantes (também essencial para machine learning)."
   ]
  },
  {
   "cell_type": "markdown",
   "id": "ad69b3d7",
   "metadata": {
    "heading_collapsed": true,
    "hidden": true
   },
   "source": [
    "##  👾 <font size=5>Estrutura de dados do pandas<font>"
   ]
  },
  {
   "cell_type": "markdown",
   "id": "65f04195",
   "metadata": {
    "hidden": true
   },
   "source": [
    "As duas estrutura de dados primária do pandas são:\n",
    "- Series: Array de tipo homogêneo rotulado e contém 1 dimensão.\n",
    "- DataFrame: Estrutura tabular de tamanho mutável e rotulado, contém 2 dimenções com coluna potencialmente heterogênea.\n",
    "\n",
    "Todas as estruturas de dados pandas são mutáveis em valor (os valores que elas contém podem ser alterados), mas nem sempre mutáveis em tamanho. O comprimento de uma \"Series\" não pode ser alterado, mas por exemplo, colunas podem ser inseridas em um DataFrame, no entanto a grande maioria dos métodos produz novos objetos.\n",
    "\n",
    "Veremos mais sobre essas dus estruturas mais adiante."
   ]
  },
  {
   "cell_type": "markdown",
   "id": "870fb71a",
   "metadata": {
    "heading_collapsed": true,
    "hidden": true
   },
   "source": [
    "##  👾 <font size=5>O necessário para manipular dados no pandas<font>"
   ]
  },
  {
   "cell_type": "markdown",
   "id": "6fdf5baf",
   "metadata": {
    "hidden": true
   },
   "source": [
    "* Criação de objetos\n",
    "* Entrada e saída de dados\n",
    "* Visualizando dados\n",
    "* Gráficos\n",
    "* Seleção\n",
    "* Operações\n",
    "* Agregações e Junções (Merge vs Join)\n",
    "* Agrupamento (Grouping)\n",
    "* Remodelagem\n",
    "* Dados ausentes\n",
    "* Séries Temporais\n",
    "* Categóricos\n",
    "* Lidando com Erros"
   ]
  },
  {
   "cell_type": "markdown",
   "id": "dbadb2e3",
   "metadata": {
    "heading_collapsed": true
   },
   "source": [
    "# 🎯 Instalação"
   ]
  },
  {
   "cell_type": "markdown",
   "id": "a916bf19",
   "metadata": {
    "hidden": true
   },
   "source": [
    "Para instalar o pandas existem várias maneiras, a que eu vou apresentar você vai precisar ter o jupyter [notebook](https://jupyter.org/install#jupyter-notebook) e o [python](https://www.python.org/downloads/) instalados."
   ]
  },
  {
   "cell_type": "markdown",
   "id": "2babbb29",
   "metadata": {
    "hidden": true
   },
   "source": [
    "Agora você abre o jupyter e roda esse comando para instalar o pandas."
   ]
  },
  {
   "cell_type": "code",
   "execution_count": 1,
   "id": "ba64c6dc",
   "metadata": {
    "ExecuteTime": {
     "end_time": "2022-10-16T17:43:38.507555Z",
     "start_time": "2022-10-16T17:43:36.866876Z"
    },
    "hidden": true
   },
   "outputs": [
    {
     "name": "stdout",
     "output_type": "stream",
     "text": [
      "Defaulting to user installation because normal site-packages is not writeable\n",
      "Requirement already satisfied: pandas in /home/audax/.local/lib/python3.10/site-packages (1.4.4)\n",
      "Requirement already satisfied: pytz>=2020.1 in /home/audax/.local/lib/python3.10/site-packages (from pandas) (2022.2.1)\n",
      "Requirement already satisfied: numpy>=1.21.0 in /home/audax/.local/lib/python3.10/site-packages (from pandas) (1.23.2)\n",
      "Requirement already satisfied: python-dateutil>=2.8.1 in /home/audax/.local/lib/python3.10/site-packages (from pandas) (2.8.2)\n",
      "Requirement already satisfied: six>=1.5 in /usr/lib/python3.10/site-packages (from python-dateutil>=2.8.1->pandas) (1.16.0)\n"
     ]
    }
   ],
   "source": [
    "!pip install pandas"
   ]
  },
  {
   "cell_type": "markdown",
   "id": "78c07afa",
   "metadata": {
    "ExecuteTime": {
     "end_time": "2022-10-04T23:42:41.746363Z",
     "start_time": "2022-10-04T23:42:41.736161Z"
    },
    "hidden": true
   },
   "source": [
    "Rode esse outro comando para conferir a versão do pandas"
   ]
  },
  {
   "cell_type": "code",
   "execution_count": 2,
   "id": "eb69e4fe",
   "metadata": {
    "ExecuteTime": {
     "end_time": "2022-10-16T17:43:39.004515Z",
     "start_time": "2022-10-16T17:43:38.513454Z"
    },
    "hidden": true
   },
   "outputs": [
    {
     "data": {
      "text/plain": [
       "'1.4.4'"
      ]
     },
     "execution_count": 2,
     "metadata": {},
     "output_type": "execute_result"
    }
   ],
   "source": [
    "import pandas\n",
    "pandas.__version__"
   ]
  },
  {
   "cell_type": "markdown",
   "id": "2fb31067",
   "metadata": {
    "heading_collapsed": true
   },
   "source": [
    "# 🎯 Convenção de importação"
   ]
  },
  {
   "cell_type": "markdown",
   "id": "cce78954",
   "metadata": {
    "hidden": true
   },
   "source": [
    "O acordo feito pela comunidade pandas escolheu o apelido 'pd' como padrão para utilizar na hora da importação. Para que outras pessoas possam ler o seu código sem dificuldades é bom usar pd."
   ]
  },
  {
   "cell_type": "code",
   "execution_count": 3,
   "id": "65fe6a34",
   "metadata": {
    "ExecuteTime": {
     "end_time": "2022-10-16T17:43:39.012597Z",
     "start_time": "2022-10-16T17:43:39.007714Z"
    },
    "hidden": true
   },
   "outputs": [],
   "source": [
    "import pandas as pd "
   ]
  },
  {
   "cell_type": "markdown",
   "id": "a05d99ca",
   "metadata": {
    "heading_collapsed": true
   },
   "source": [
    "# 🎯  Series"
   ]
  },
  {
   "cell_type": "markdown",
   "id": "bf7f0cc6",
   "metadata": {
    "ExecuteTime": {
     "end_time": "2022-10-14T18:30:23.316236Z",
     "start_time": "2022-10-14T18:30:23.311835Z"
    },
    "heading_collapsed": true,
    "hidden": true
   },
   "source": [
    "##  👾 <font size=5>Definição<font>"
   ]
  },
  {
   "cell_type": "markdown",
   "id": "b1542751",
   "metadata": {
    "hidden": true
   },
   "source": [
    "<br>\n",
    "Series é uma matriz rotulada unidimensional que pode receber diversos tipos dados como entrada, por exemplo, str, bool, int, float, uma lista, um 1D np.ndarray, alguns objetos python e etc. <br><br>\n",
    "\n",
    "Já os dados que podem ser armazenados nas colunas de uma Series são: str, int, float, bool, dados categóricos e mais ...<br><br>\n",
    "\n",
    "obs: Dentro de uma Series pode haver uma salada de dados, no entanto vale ressalatar que o pandas é implementado usando o numpy, então se você colocar uma salada mista de dados dentro uma Series ela irá perder performace e muitas das suas vantangens.<br><br>\n",
    "\n",
    "![Series](https://pythonru.com/wp-content/uploads/2020/05/struktura-obekta-series.png)\n",
    "<br>"
   ]
  },
  {
   "cell_type": "markdown",
   "id": "ff442231",
   "metadata": {
    "heading_collapsed": true,
    "hidden": true
   },
   "source": [
    "##  👾 <font size=5>Parametros de criação<font>"
   ]
  },
  {
   "cell_type": "markdown",
   "id": "300a0d3d",
   "metadata": {
    "hidden": true
   },
   "source": [
    "<br>\n",
    "Os parametros para a criação de uma Series estão logo abaixo junto com a explicação de cada um. \n",
    "\n",
    "No entanto caso você queira beber da fonte o link está [aqui](https://pandas.pydata.org/docs/reference/api/pandas.Series.html?highlight=pandas%20series#pandas.Series).<br><br>\n",
    "\n",
    "## <font color=purple>_pandas.Series (_<font>\n",
    "<br>\n",
    "\n",
    "**data** =  None<br> \n",
    "**index** =  None<br>\n",
    "**dtype** =  None<br>\n",
    "**name** =  None<br>\n",
    "**copy** =  False<br>\n",
    "\n",
    "## <font color=purple>_)_<font>\n",
    "<br>"
   ]
  },
  {
   "cell_type": "markdown",
   "id": "b8b8db3c",
   "metadata": {
    "hidden": true
   },
   "source": [
    "\n",
    "## <font color=purple>data : array-like, Iterable, dict, or scalar value<font>"
   ]
  },
  {
   "cell_type": "markdown",
   "id": "f0d1b15a",
   "metadata": {
    "hidden": true
   },
   "source": [
    "O parâmetro data recebe um objeto python que será transformado em uma Series. Esse objeto pode ser uma iterable, um dicionário, um int, uma str, etc.\n",
    "\n",
    "Quando você for passar ao parâmetro **data** alguma iterable, é bom lembrar que o pandas utiliza o numpy por baixo do capor, por isso passar uma iterable com elementos que possuem tipos de dados diferentes fará com que você tenha uma Series pouco performática. Você pode até criar uma Series que contém uma salada mista dedos, mas o ideal é utilizar apenas um tipo de dado."
   ]
  },
  {
   "cell_type": "markdown",
   "id": "039bf36e",
   "metadata": {
    "hidden": true
   },
   "source": [
    " "
   ]
  },
  {
   "cell_type": "markdown",
   "id": "088f9d42",
   "metadata": {
    "hidden": true
   },
   "source": [
    "Agora vamos criar uma Series a partir de uma lista e também apartir de um valor do tipo int."
   ]
  },
  {
   "cell_type": "code",
   "execution_count": 4,
   "id": "668f7642",
   "metadata": {
    "ExecuteTime": {
     "end_time": "2022-10-16T17:43:39.025418Z",
     "start_time": "2022-10-16T17:43:39.017493Z"
    },
    "hidden": true
   },
   "outputs": [
    {
     "name": "stdout",
     "output_type": "stream",
     "text": [
      "--se1-- \n",
      "0    A\n",
      "1    B\n",
      "2    C\n",
      "3    D\n",
      "dtype: object\n",
      "\n",
      "\n",
      "--se2-- \n",
      "0    2\n",
      "dtype: int64\n"
     ]
    }
   ],
   "source": [
    "se1 = pd.Series(data=['A', 'B', 'C', 'D'])\n",
    "print(f'--se1-- \\n{se1}')\n",
    "\n",
    "print('\\n')\n",
    "\n",
    "se2 = pd.Series(data=2)\n",
    "print(f'--se2-- \\n{se2}')"
   ]
  },
  {
   "cell_type": "markdown",
   "id": "09321f09",
   "metadata": {
    "hidden": true
   },
   "source": [
    " <br>"
   ]
  },
  {
   "cell_type": "markdown",
   "id": "f1ee9d14",
   "metadata": {
    "hidden": true
   },
   "source": [
    "Criando uma Series que contém uma salada mista de dados."
   ]
  },
  {
   "cell_type": "code",
   "execution_count": 5,
   "id": "fff88168",
   "metadata": {
    "ExecuteTime": {
     "end_time": "2022-10-16T17:43:39.038401Z",
     "start_time": "2022-10-16T17:43:39.029383Z"
    },
    "hidden": true
   },
   "outputs": [
    {
     "data": {
      "text/plain": [
       "0    Audax\n",
       "1       18\n",
       "2     1.81\n",
       "3        M\n",
       "4     True\n",
       "dtype: object"
      ]
     },
     "execution_count": 5,
     "metadata": {},
     "output_type": "execute_result"
    }
   ],
   "source": [
    "se = pd.Series(data=['Audax', 18, 1.81, 'M', True])\n",
    "se"
   ]
  },
  {
   "cell_type": "markdown",
   "id": "6b689069",
   "metadata": {
    "hidden": true
   },
   "source": [
    " <br>"
   ]
  },
  {
   "cell_type": "markdown",
   "id": "dd9624ae",
   "metadata": {
    "hidden": true
   },
   "source": [
    "Quando criamos uma Series a partir de um dicionário, as chaves do dicionário se tornarão os indices da Series e os valores da chaves se tornarão os elementos da Series. Mais adiante falaremos melhor sobre como funciona os indices de uma Series."
   ]
  },
  {
   "cell_type": "code",
   "execution_count": 6,
   "id": "a9ed2a1f",
   "metadata": {
    "ExecuteTime": {
     "end_time": "2022-10-16T17:43:39.051216Z",
     "start_time": "2022-10-16T17:43:39.041197Z"
    },
    "hidden": true
   },
   "outputs": [
    {
     "data": {
      "text/plain": [
       "Nome         Audax\n",
       "Idade           18\n",
       "Sexo     Masculino\n",
       "dtype: object"
      ]
     },
     "execution_count": 6,
     "metadata": {},
     "output_type": "execute_result"
    }
   ],
   "source": [
    "dicionario = {\n",
    "    'Nome' : 'Audax',\n",
    "    'Idade': 18,\n",
    "    'Sexo': 'Masculino'\n",
    "}\n",
    "\n",
    "se = pd.Series(data=dicionario)\n",
    "se"
   ]
  },
  {
   "cell_type": "markdown",
   "id": "0717e1d1",
   "metadata": {
    "hidden": true
   },
   "source": [
    " <br> "
   ]
  },
  {
   "cell_type": "markdown",
   "id": "df8f1012",
   "metadata": {
    "hidden": true
   },
   "source": [
    "\n",
    "## <font color=purple>index : array-like or Index (1d) <font>"
   ]
  },
  {
   "cell_type": "markdown",
   "id": "a4677642",
   "metadata": {
    "hidden": true
   },
   "source": [
    "Antes de tudo precisamos entender como os indices de uma Series funciona. \n",
    "\n",
    "Uma Series tem 3 tipos de indices: \n",
    "\n",
    "**Indice negativo:** São valores negativos usados para representar os índices de uma Series. Para entendermos como isso acontece, o último elemento fica na posição -1, o penúltimo fica na posição -2, o antepenúltimo, na posição -3 e assim por diante. \n",
    "\n",
    "\n",
    "**Indice padrão:** Funciona como os indices de uma lista. O primeiro elemento tem indice 0, o segundo tem indice 1 e assim por diante. \n",
    "\n",
    "\n",
    "**Indice label:** Quando você defini os indices da uma Series ou DataFrame você está trabalhando com o index label (no português rótulo de indice). É possivel alterá-los sempre que necessário. "
   ]
  },
  {
   "cell_type": "markdown",
   "id": "fd7755c4",
   "metadata": {
    "hidden": true
   },
   "source": [
    "---"
   ]
  },
  {
   "cell_type": "markdown",
   "id": "dea0d6f7",
   "metadata": {
    "hidden": true
   },
   "source": [
    "Nesse primeiro momento não iremos ver como selecionar elementos ou fatias de uma Series. Apena iresmo aprender como definir os indices de uma Series."
   ]
  },
  {
   "cell_type": "markdown",
   "id": "007cdbf9",
   "metadata": {
    "hidden": true
   },
   "source": [
    "---"
   ]
  },
  {
   "cell_type": "markdown",
   "id": "200378b0",
   "metadata": {
    "hidden": true
   },
   "source": [
    "O parâmetro **index** serve para definir os índices label de uma Series. Você passa uma lista com o mesmo tamanho que o objeto passado ao parâmetro **data**, composta por qualquer tipo de dado, desde que esses dados sejam [hashable](https://stackoverflow.com/questions/14535730/what-does-hashable-mean-in-python). Quando não definimos o indice label, a Series adota por padrão o RangeIndex (0, 1, 2, …, n)."
   ]
  },
  {
   "cell_type": "code",
   "execution_count": 7,
   "id": "0ae12697",
   "metadata": {
    "ExecuteTime": {
     "end_time": "2022-10-16T17:43:39.063812Z",
     "start_time": "2022-10-16T17:43:39.054474Z"
    },
    "hidden": true
   },
   "outputs": [
    {
     "data": {
      "text/plain": [
       "0      Audax\n",
       "1     Netuno\n",
       "2    Ciclope\n",
       "dtype: object"
      ]
     },
     "execution_count": 7,
     "metadata": {},
     "output_type": "execute_result"
    }
   ],
   "source": [
    "# Criando uma Series sem o index label\n",
    "\n",
    "se = pd.Series(data=['Audax', 'Netuno', 'Ciclope'])\n",
    "se"
   ]
  },
  {
   "cell_type": "code",
   "execution_count": 8,
   "id": "0da6f498",
   "metadata": {
    "ExecuteTime": {
     "end_time": "2022-10-16T17:43:39.077380Z",
     "start_time": "2022-10-16T17:43:39.067414Z"
    },
    "hidden": true
   },
   "outputs": [
    {
     "data": {
      "text/plain": [
       "nome1      Audax\n",
       "nome2     Netuno\n",
       "nome3    Ciclope\n",
       "dtype: object"
      ]
     },
     "execution_count": 8,
     "metadata": {},
     "output_type": "execute_result"
    }
   ],
   "source": [
    "# Criando uma Series e definindo o indice label\n",
    "se = pd.Series(data=['Audax', 'Netuno', 'Ciclope'], index=['nome1', 'nome2', 'nome3'])\n",
    "se"
   ]
  },
  {
   "cell_type": "code",
   "execution_count": 9,
   "id": "142b8b81",
   "metadata": {
    "ExecuteTime": {
     "end_time": "2022-10-16T17:43:39.089113Z",
     "start_time": "2022-10-16T17:43:39.080818Z"
    },
    "hidden": true
   },
   "outputs": [
    {
     "data": {
      "text/plain": [
       "nome1      Audax\n",
       "2.5       Netuno\n",
       "2        Ciclope\n",
       "True       Spike\n",
       "dtype: object"
      ]
     },
     "execution_count": 9,
     "metadata": {},
     "output_type": "execute_result"
    }
   ],
   "source": [
    "# Definindo um indice label muito louco\n",
    "se = pd.Series(data=['Audax', 'Netuno', 'Ciclope', 'Spike'], index=['nome1', 2.5, 2, True])\n",
    "se"
   ]
  },
  {
   "cell_type": "markdown",
   "id": "45cf628d",
   "metadata": {
    "hidden": true
   },
   "source": [
    " <br>"
   ]
  },
  {
   "cell_type": "markdown",
   "id": "10575653",
   "metadata": {
    "hidden": true
   },
   "source": [
    "É importante lembrar que é possivel usar o indice negativo e o indice padrão após o indice label ser definido, menos quando o indice label for definido por valores do tipo int ou float. Nesse caso o indice label meio que sobrescrevece os outros tipos de indices."
   ]
  },
  {
   "cell_type": "code",
   "execution_count": 10,
   "id": "5cf93ebd",
   "metadata": {
    "ExecuteTime": {
     "end_time": "2022-10-16T17:43:39.104441Z",
     "start_time": "2022-10-16T17:43:39.095064Z"
    },
    "hidden": true
   },
   "outputs": [
    {
     "data": {
      "text/plain": [
       "-2       Audax\n",
       " 13     Netuno\n",
       " 10    Ciclope\n",
       " 0       Spike\n",
       "dtype: object"
      ]
     },
     "execution_count": 10,
     "metadata": {},
     "output_type": "execute_result"
    }
   ],
   "source": [
    "# Definindo um indice label com valores numericos, mas que não remete ao RangeIndex(0, 1, 2, ..., n)\n",
    "se = pd.Series(data=['Audax', 'Netuno', 'Ciclope', 'Spike'], index=[-2, 13, 10, 0])\n",
    "se"
   ]
  },
  {
   "cell_type": "markdown",
   "id": "9b756c63",
   "metadata": {
    "hidden": true
   },
   "source": [
    " <br>"
   ]
  },
  {
   "cell_type": "markdown",
   "id": "e70a7168",
   "metadata": {
    "hidden": true
   },
   "source": [
    "Parece meio estranho, mas podemos ter valores de índices iguais, quando buscamos pelo indice, ele tráz todos os elementos 'apontados' por aquele indice (todas as linhas que tem referência daquele índice)."
   ]
  },
  {
   "cell_type": "code",
   "execution_count": 11,
   "id": "5bd2cf8b",
   "metadata": {
    "ExecuteTime": {
     "end_time": "2022-10-16T17:43:39.119337Z",
     "start_time": "2022-10-16T17:43:39.107622Z"
    },
    "hidden": true
   },
   "outputs": [
    {
     "name": "stdout",
     "output_type": "stream",
     "text": [
      "A      Audax\n",
      "A     Netuno\n",
      "B    Ciclope\n",
      "C      Spike\n",
      "dtype: object \n",
      "\n"
     ]
    },
    {
     "data": {
      "text/plain": [
       "A     Audax\n",
       "A    Netuno\n",
       "dtype: object"
      ]
     },
     "execution_count": 11,
     "metadata": {},
     "output_type": "execute_result"
    }
   ],
   "source": [
    "# Definindo um indice label com valores de indices repetidos\n",
    "se = pd.Series(data=['Audax', 'Netuno', 'Ciclope', 'Spike'], index=['A', 'A', 'B', 'C'])\n",
    "print(se, '\\n')\n",
    "\n",
    "# Selecionando os valores que correspondem ao indice 'A'\n",
    "se['A']"
   ]
  },
  {
   "cell_type": "markdown",
   "id": "47be14f8",
   "metadata": {
    "hidden": true
   },
   "source": [
    " <br>"
   ]
  },
  {
   "cell_type": "markdown",
   "id": "14c7b672",
   "metadata": {
    "hidden": true
   },
   "source": [
    "\n",
    "## <font color=purple>dtype : str, numpy.dtype, or ExtensionDtype, optional <font>"
   ]
  },
  {
   "cell_type": "markdown",
   "id": "26145f78",
   "metadata": {
    "hidden": true
   },
   "source": [
    "Esse parâmetro serve para definirmos o tipo de dado dos elementos de uma Series. Se não definirmos o tipo, o pandas infere a partir dos dados. É bem importante que uma Series tenha elementos com o mesmo tipo de dado, pois assim você terá mais eficiencia e muitas vantangens para manipulá-la."
   ]
  },
  {
   "cell_type": "code",
   "execution_count": 12,
   "id": "f7a9b3c3",
   "metadata": {
    "ExecuteTime": {
     "end_time": "2022-10-16T17:43:39.129533Z",
     "start_time": "2022-10-16T17:43:39.122406Z"
    },
    "hidden": true
   },
   "outputs": [
    {
     "name": "stdout",
     "output_type": "stream",
     "text": [
      "float64\n"
     ]
    }
   ],
   "source": [
    "# Usando uma string para definir o dtype de uma Series \n",
    "se = pd.Series(data=[18, 25, 19, 31], dtype='float') # Poderia ser 'str32', 'str16', 'int8', 'int32', 'bool', etc.\n",
    "print(se.dtype)"
   ]
  },
  {
   "cell_type": "code",
   "execution_count": 13,
   "id": "72d2cf95",
   "metadata": {
    "ExecuteTime": {
     "end_time": "2022-10-16T17:43:39.139700Z",
     "start_time": "2022-10-16T17:43:39.132517Z"
    },
    "hidden": true
   },
   "outputs": [
    {
     "name": "stdout",
     "output_type": "stream",
     "text": [
      "float64\n"
     ]
    }
   ],
   "source": [
    "# Usando o numpy.dtype para definir o dtype de uma Series\n",
    "se = pd.Series(data=[18, 25, 19, 31], dtype=np.float64)\n",
    "print(se.dtype)"
   ]
  },
  {
   "cell_type": "markdown",
   "id": "554fe66b",
   "metadata": {
    "hidden": true
   },
   "source": [
    " <br>"
   ]
  },
  {
   "cell_type": "markdown",
   "id": "5a89fd26",
   "metadata": {
    "hidden": true
   },
   "source": [
    "Quando uma Series tem uma salada mista de dados ou os dados são do tipo str, o dtype dela é defido pelo pandas como object."
   ]
  },
  {
   "cell_type": "code",
   "execution_count": 14,
   "id": "2485fd28",
   "metadata": {
    "ExecuteTime": {
     "end_time": "2022-10-16T17:43:39.151549Z",
     "start_time": "2022-10-16T17:43:39.143685Z"
    },
    "hidden": true
   },
   "outputs": [
    {
     "name": "stdout",
     "output_type": "stream",
     "text": [
      "object\n",
      "object\n"
     ]
    }
   ],
   "source": [
    "se1 = pd.Series(data=['Audax', 18, 'M', 1.81])\n",
    "se2 = pd.Series(data=['A', 'B', 'C', 'D'])\n",
    "\n",
    "print(se1.dtype)\n",
    "print(se2.dtype)"
   ]
  },
  {
   "cell_type": "markdown",
   "id": "ac63fc90",
   "metadata": {
    "hidden": true
   },
   "source": [
    " <br>"
   ]
  },
  {
   "cell_type": "markdown",
   "id": "fd77f0d6",
   "metadata": {
    "hidden": true
   },
   "source": [
    "Cuidado na hora conversão, para não tentar fazer conversões que não sejam possiveis."
   ]
  },
  {
   "cell_type": "code",
   "execution_count": 15,
   "id": "548fb928",
   "metadata": {
    "ExecuteTime": {
     "end_time": "2022-10-16T17:43:41.031902Z",
     "start_time": "2022-10-16T17:43:39.154912Z"
    },
    "hidden": true
   },
   "outputs": [
    {
     "ename": "ValueError",
     "evalue": "Trying to coerce float values to integers",
     "output_type": "error",
     "traceback": [
      "\u001b[0;31m---------------------------------------------------------------------------\u001b[0m",
      "\u001b[0;31mValueError\u001b[0m                                Traceback (most recent call last)",
      "Input \u001b[0;32mIn [15]\u001b[0m, in \u001b[0;36m<cell line: 1>\u001b[0;34m()\u001b[0m\n\u001b[0;32m----> 1\u001b[0m se1 \u001b[38;5;241m=\u001b[39m \u001b[43mpd\u001b[49m\u001b[38;5;241;43m.\u001b[39;49m\u001b[43mSeries\u001b[49m\u001b[43m(\u001b[49m\u001b[43mdata\u001b[49m\u001b[38;5;241;43m=\u001b[39;49m\u001b[43m[\u001b[49m\u001b[38;5;241;43m18.1\u001b[39;49m\u001b[43m,\u001b[49m\u001b[43m \u001b[49m\u001b[38;5;241;43m25.3\u001b[39;49m\u001b[43m,\u001b[49m\u001b[43m \u001b[49m\u001b[38;5;241;43m19.7\u001b[39;49m\u001b[43m,\u001b[49m\u001b[43m \u001b[49m\u001b[38;5;241;43m31.8\u001b[39;49m\u001b[43m]\u001b[49m\u001b[43m,\u001b[49m\u001b[43m \u001b[49m\u001b[43mdtype\u001b[49m\u001b[38;5;241;43m=\u001b[39;49m\u001b[38;5;124;43m'\u001b[39;49m\u001b[38;5;124;43mint64\u001b[39;49m\u001b[38;5;124;43m'\u001b[39;49m\u001b[43m)\u001b[49m\n",
      "File \u001b[0;32m~/.local/lib/python3.10/site-packages/pandas/core/series.py:451\u001b[0m, in \u001b[0;36mSeries.__init__\u001b[0;34m(self, data, index, dtype, name, copy, fastpath)\u001b[0m\n\u001b[1;32m    449\u001b[0m         data \u001b[38;5;241m=\u001b[39m data\u001b[38;5;241m.\u001b[39mcopy()\n\u001b[1;32m    450\u001b[0m \u001b[38;5;28;01melse\u001b[39;00m:\n\u001b[0;32m--> 451\u001b[0m     data \u001b[38;5;241m=\u001b[39m \u001b[43msanitize_array\u001b[49m\u001b[43m(\u001b[49m\u001b[43mdata\u001b[49m\u001b[43m,\u001b[49m\u001b[43m \u001b[49m\u001b[43mindex\u001b[49m\u001b[43m,\u001b[49m\u001b[43m \u001b[49m\u001b[43mdtype\u001b[49m\u001b[43m,\u001b[49m\u001b[43m \u001b[49m\u001b[43mcopy\u001b[49m\u001b[43m)\u001b[49m\n\u001b[1;32m    453\u001b[0m     manager \u001b[38;5;241m=\u001b[39m get_option(\u001b[38;5;124m\"\u001b[39m\u001b[38;5;124mmode.data_manager\u001b[39m\u001b[38;5;124m\"\u001b[39m)\n\u001b[1;32m    454\u001b[0m     \u001b[38;5;28;01mif\u001b[39;00m manager \u001b[38;5;241m==\u001b[39m \u001b[38;5;124m\"\u001b[39m\u001b[38;5;124mblock\u001b[39m\u001b[38;5;124m\"\u001b[39m:\n",
      "File \u001b[0;32m~/.local/lib/python3.10/site-packages/pandas/core/construction.py:594\u001b[0m, in \u001b[0;36msanitize_array\u001b[0;34m(data, index, dtype, copy, raise_cast_failure, allow_2d)\u001b[0m\n\u001b[1;32m    591\u001b[0m     data \u001b[38;5;241m=\u001b[39m \u001b[38;5;28mlist\u001b[39m(data)\n\u001b[1;32m    593\u001b[0m \u001b[38;5;28;01mif\u001b[39;00m dtype \u001b[38;5;129;01mis\u001b[39;00m \u001b[38;5;129;01mnot\u001b[39;00m \u001b[38;5;28;01mNone\u001b[39;00m \u001b[38;5;129;01mor\u001b[39;00m \u001b[38;5;28mlen\u001b[39m(data) \u001b[38;5;241m==\u001b[39m \u001b[38;5;241m0\u001b[39m:\n\u001b[0;32m--> 594\u001b[0m     subarr \u001b[38;5;241m=\u001b[39m \u001b[43m_try_cast\u001b[49m\u001b[43m(\u001b[49m\u001b[43mdata\u001b[49m\u001b[43m,\u001b[49m\u001b[43m \u001b[49m\u001b[43mdtype\u001b[49m\u001b[43m,\u001b[49m\u001b[43m \u001b[49m\u001b[43mcopy\u001b[49m\u001b[43m,\u001b[49m\u001b[43m \u001b[49m\u001b[43mraise_cast_failure\u001b[49m\u001b[43m)\u001b[49m\n\u001b[1;32m    595\u001b[0m \u001b[38;5;28;01melse\u001b[39;00m:\n\u001b[1;32m    596\u001b[0m     subarr \u001b[38;5;241m=\u001b[39m maybe_convert_platform(data)\n",
      "File \u001b[0;32m~/.local/lib/python3.10/site-packages/pandas/core/construction.py:779\u001b[0m, in \u001b[0;36m_try_cast\u001b[0;34m(arr, dtype, copy, raise_cast_failure)\u001b[0m\n\u001b[1;32m    773\u001b[0m \u001b[38;5;28;01mtry\u001b[39;00m:\n\u001b[1;32m    774\u001b[0m     \u001b[38;5;66;03m# GH#15832: Check if we are requesting a numeric dtype and\u001b[39;00m\n\u001b[1;32m    775\u001b[0m     \u001b[38;5;66;03m# that we can convert the data to the requested dtype.\u001b[39;00m\n\u001b[1;32m    776\u001b[0m     \u001b[38;5;28;01mif\u001b[39;00m is_integer_dtype(dtype):\n\u001b[1;32m    777\u001b[0m         \u001b[38;5;66;03m# this will raise if we have e.g. floats\u001b[39;00m\n\u001b[0;32m--> 779\u001b[0m         subarr \u001b[38;5;241m=\u001b[39m \u001b[43mmaybe_cast_to_integer_array\u001b[49m\u001b[43m(\u001b[49m\u001b[43marr\u001b[49m\u001b[43m,\u001b[49m\u001b[43m \u001b[49m\u001b[43mdtype\u001b[49m\u001b[43m)\u001b[49m\n\u001b[1;32m    780\u001b[0m     \u001b[38;5;28;01melse\u001b[39;00m:\n\u001b[1;32m    781\u001b[0m         \u001b[38;5;66;03m# 4 tests fail if we move this to a try/except/else; see\u001b[39;00m\n\u001b[1;32m    782\u001b[0m         \u001b[38;5;66;03m#  test_constructor_compound_dtypes, test_constructor_cast_failure\u001b[39;00m\n\u001b[1;32m    783\u001b[0m         \u001b[38;5;66;03m#  test_constructor_dict_cast2, test_loc_setitem_dtype\u001b[39;00m\n\u001b[1;32m    784\u001b[0m         subarr \u001b[38;5;241m=\u001b[39m np\u001b[38;5;241m.\u001b[39marray(arr, dtype\u001b[38;5;241m=\u001b[39mdtype, copy\u001b[38;5;241m=\u001b[39mcopy)\n",
      "File \u001b[0;32m~/.local/lib/python3.10/site-packages/pandas/core/dtypes/cast.py:2060\u001b[0m, in \u001b[0;36mmaybe_cast_to_integer_array\u001b[0;34m(arr, dtype, copy)\u001b[0m\n\u001b[1;32m   2056\u001b[0m     \u001b[38;5;28;01mif\u001b[39;00m \u001b[38;5;129;01mnot\u001b[39;00m np\u001b[38;5;241m.\u001b[39misfinite(arr)\u001b[38;5;241m.\u001b[39mall():\n\u001b[1;32m   2057\u001b[0m         \u001b[38;5;28;01mraise\u001b[39;00m IntCastingNaNError(\n\u001b[1;32m   2058\u001b[0m             \u001b[38;5;124m\"\u001b[39m\u001b[38;5;124mCannot convert non-finite values (NA or inf) to integer\u001b[39m\u001b[38;5;124m\"\u001b[39m\n\u001b[1;32m   2059\u001b[0m         )\n\u001b[0;32m-> 2060\u001b[0m     \u001b[38;5;28;01mraise\u001b[39;00m \u001b[38;5;167;01mValueError\u001b[39;00m(\u001b[38;5;124m\"\u001b[39m\u001b[38;5;124mTrying to coerce float values to integers\u001b[39m\u001b[38;5;124m\"\u001b[39m)\n\u001b[1;32m   2061\u001b[0m \u001b[38;5;28;01mif\u001b[39;00m is_object_dtype(arr\u001b[38;5;241m.\u001b[39mdtype):\n\u001b[1;32m   2062\u001b[0m     \u001b[38;5;28;01mraise\u001b[39;00m \u001b[38;5;167;01mValueError\u001b[39;00m(\u001b[38;5;124m\"\u001b[39m\u001b[38;5;124mTrying to coerce float values to integers\u001b[39m\u001b[38;5;124m\"\u001b[39m)\n",
      "\u001b[0;31mValueError\u001b[0m: Trying to coerce float values to integers"
     ]
    }
   ],
   "source": [
    "se1 = pd.Series(data=[18.1, 25.3, 19.7, 31.8], dtype='int64')"
   ]
  },
  {
   "cell_type": "markdown",
   "id": "6964face",
   "metadata": {
    "hidden": true
   },
   "source": [
    " <br>"
   ]
  },
  {
   "cell_type": "markdown",
   "id": "457d6ab3",
   "metadata": {
    "hidden": true
   },
   "source": [
    "\n",
    "## <font color=purple>name : str, optional <font>"
   ]
  },
  {
   "cell_type": "markdown",
   "id": "bf193c09",
   "metadata": {
    "hidden": true
   },
   "source": [
    "Serve para nomear uma Series, deve ser passado uma string. Se uma Serie for transformada numa coluna de um dataframe, o nome dela será usado como o rótulo da coluna do dataframe."
   ]
  },
  {
   "cell_type": "code",
   "execution_count": 17,
   "id": "5638a562",
   "metadata": {
    "ExecuteTime": {
     "end_time": "2022-10-16T17:47:11.405643Z",
     "start_time": "2022-10-16T17:47:11.393989Z"
    },
    "hidden": true
   },
   "outputs": [
    {
     "data": {
      "text/plain": [
       "0    13\n",
       "1    18\n",
       "2    17\n",
       "3    20\n",
       "4    23\n",
       "Name: Idade, dtype: int64"
      ]
     },
     "execution_count": 17,
     "metadata": {},
     "output_type": "execute_result"
    }
   ],
   "source": [
    "se = pd.Series(data=[13, 18, 17, 20, 23], name='Idade')\n",
    "se"
   ]
  },
  {
   "cell_type": "markdown",
   "id": "bfcc2df2",
   "metadata": {
    "hidden": true
   },
   "source": [
    " <br>"
   ]
  },
  {
   "cell_type": "markdown",
   "id": "68149f06",
   "metadata": {
    "hidden": true
   },
   "source": [
    "\n",
    "## <font color=purple>copy : bool, default False <font>"
   ]
  },
  {
   "cell_type": "markdown",
   "id": "eda4e3b2",
   "metadata": {
    "hidden": true
   },
   "source": [
    "Faz uma cópia do objeto de entrada. Afeta apenas a entrada Série ou 1d ndarray."
   ]
  },
  {
   "cell_type": "code",
   "execution_count": 16,
   "id": "4fb6c833",
   "metadata": {
    "ExecuteTime": {
     "end_time": "2022-10-16T17:47:07.431720Z",
     "start_time": "2022-10-16T17:47:07.422269Z"
    },
    "hidden": true
   },
   "outputs": [
    {
     "name": "stdout",
     "output_type": "stream",
     "text": [
      "[12 13 15 11 10]\n",
      "[99 13 15 11 10] \n",
      "\n",
      "**se1** \n",
      "0    12\n",
      "1    13\n",
      "2    15\n",
      "3    11\n",
      "4    10\n",
      "dtype: int64\n",
      "\n",
      "**se2** \n",
      "0    99\n",
      "1    13\n",
      "2    15\n",
      "3    11\n",
      "4    10\n",
      "dtype: int64\n",
      "\n"
     ]
    }
   ],
   "source": [
    "import numpy as np\n",
    "\n",
    "# Criando um nd array para usar no exemplo\n",
    "x = np.array([12, 13, 15, 11, 10])\n",
    "print(x)\n",
    "\n",
    "# Criando 2 Series, uma é uma copia e a outra apenas um tipo de apontamento para x\n",
    "se1 = pd.Series(data=x, copy=True)\n",
    "se2 = pd.Series(data=x, copy=False)\n",
    "\n",
    "# Modificando o a variável x\n",
    "x[0] = 99\n",
    "\n",
    "# Mostrando as 2 Series e a variável x\n",
    "print(x, '\\n')\n",
    "print(f'**se1** \\n{se1}\\n')\n",
    "print(f'**se2** \\n{se2}\\n')"
   ]
  },
  {
   "cell_type": "markdown",
   "id": "aca205d4",
   "metadata": {
    "heading_collapsed": true,
    "hidden": true
   },
   "source": [
    "##  👾 <font size=5>Indexação basica<font>"
   ]
  },
  {
   "cell_type": "markdown",
   "id": "55b016c0",
   "metadata": {
    "heading_collapsed": true,
    "hidden": true
   },
   "source": [
    "##  👾 <font size=5>Indexação booleana<font>"
   ]
  },
  {
   "cell_type": "markdown",
   "id": "1d859a4d",
   "metadata": {
    "heading_collapsed": true,
    "hidden": true
   },
   "source": [
    "##  👾 <font size=5>Indexação utilizando métodos<font>"
   ]
  },
  {
   "cell_type": "markdown",
   "id": "616f2c98",
   "metadata": {
    "heading_collapsed": true,
    "hidden": true
   },
   "source": [
    "##  👾 <font size=5>Operações aritiméticas com series<font>"
   ]
  },
  {
   "cell_type": "markdown",
   "id": "7c48f478",
   "metadata": {
    "heading_collapsed": true
   },
   "source": [
    "# 🎯 DataFrame"
   ]
  },
  {
   "cell_type": "markdown",
   "id": "faf0f0b2",
   "metadata": {
    "heading_collapsed": true,
    "hidden": true
   },
   "source": [
    "## 👾  <font size=5>Definição<font>"
   ]
  },
  {
   "cell_type": "markdown",
   "id": "fe524739",
   "metadata": {
    "hidden": true
   },
   "source": [
    "<br>\n",
    "O DataFrame é uma estrutura de dados tabular, semelhante a planilha de dados do Excel, essa estrutrura conciste em três componentes principais, os dados, linhas e colunas, onde as linhas e colunas possuem rotulos.<br>\n",
    "\n",
    "Olhando para a estrutura do DataFrame vamos perceber que ele é a junção de duas ou mais Series, ou seja, cada coluna de um _**DataFrame**_ é uma _**Series**_, veja.<br><br>\n",
    "\n",
    "\n",
    "![S](https://www.datasciencemadesimple.com/wp-content/uploads/2020/05/create-series-in-python-pandas-0.png)\n",
    "\n",
    "<br><br>\n",
    "\n",
    "Os dados que compoem cada coluna de um DataFrame podem ser variados, ou seja, uma coluna pode conter vários tipos de dados, como por exemplo, int e object (o pandas identifica str  como object). No entanto como o pandas  é implementado usando o numpy, isso fará o DataFrame perder performance e muitas das suas vantagens.<br>\n",
    "\n",
    "Alguns dados de entrada para a criação de um DataFrame são: Dict, listas, Series, np.ndarray de 1D ou 2D , outro DataFrame e muito mais ...<br>\n",
    "\n",
    "Já os dados que podem ser armazenados nas colunas de um DataFrame são: object (str), int, float, bool, dados categóricos e etc.<br>\n",
    "\n",
    "Um DataFrame pode ter seu tamanho mudado, através da exclusão ou inserção de linhas ou colunas.\n"
   ]
  },
  {
   "cell_type": "markdown",
   "id": "5cfed3c7",
   "metadata": {
    "heading_collapsed": true,
    "hidden": true
   },
   "source": [
    "## 👾 <font size=5>Parametros de criação <font>"
   ]
  },
  {
   "cell_type": "markdown",
   "id": "ca9ba8a8",
   "metadata": {
    "hidden": true
   },
   "source": [
    "<br>\n",
    "Os parametros de criação de um DataFrame estão abaixo junto com a explicação de cada um. \n",
    "\n",
    "No entanto caso você queira beber da fonte o link está [aqui](https://pandas.pydata.org/docs/reference/api/pandas.DataFrame.html?highlight=pandas%20dataframe#pandas.DataFrame).<br><br>\n",
    "\n",
    "### _pandas.DataFrame (_\n",
    "<br>\n",
    "\n",
    "**data**    =  None<br> \n",
    "**index**   =  None<br>\n",
    "**columns** =  None<br>\n",
    "**dtype**   =  None<br>\n",
    "**copy**    =  None<br>\n",
    "\n",
    "### _)_\n",
    "<br>"
   ]
  },
  {
   "cell_type": "markdown",
   "id": "12d6e576",
   "metadata": {
    "hidden": true
   },
   "source": [
    "\n",
    "### data : ndarray (structured or homogeneous), Iterable, dict, or DataFrame"
   ]
  },
  {
   "cell_type": "markdown",
   "id": "23963217",
   "metadata": {
    "hidden": true
   },
   "source": [
    "O parametro _**data**_ é responsavel por receber o objeto que será transformado em um DataFrame, esse objeto pode ser do tipo dict, listas, Series, np.ndarray de 1D ou 2D e outro DataFrame.<br>\n",
    "\n",
    "Por padrão esse parametro é None, o que signica que não há a necessidade de atribuir algum valor para esse parametro na hora da criação do DataFrame."
   ]
  },
  {
   "cell_type": "markdown",
   "id": "5e64f192",
   "metadata": {
    "hidden": true
   },
   "source": [
    "\n",
    "Quando não atribuimos nenhum valor ao parametro **data** estamos criando um DF vazio."
   ]
  },
  {
   "cell_type": "code",
   "execution_count": null,
   "id": "78888e58",
   "metadata": {
    "ExecuteTime": {
     "end_time": "2022-10-16T17:43:41.047089Z",
     "start_time": "2022-10-16T17:43:41.047074Z"
    },
    "hidden": true
   },
   "outputs": [],
   "source": [
    "import pandas as pd"
   ]
  },
  {
   "cell_type": "code",
   "execution_count": null,
   "id": "332d35b9",
   "metadata": {
    "ExecuteTime": {
     "end_time": "2022-10-16T17:43:41.048670Z",
     "start_time": "2022-10-16T17:43:41.048654Z"
    },
    "hidden": true
   },
   "outputs": [],
   "source": [
    "df = pd.DataFrame()\n",
    "df"
   ]
  },
  {
   "cell_type": "markdown",
   "id": "5cc752dd",
   "metadata": {
    "hidden": true
   },
   "source": [
    "Podemos montar um DataFrame com os estados da região norte do Brasil com uma **lista**, ao fazer isso a lista se trasmormará em uma coluna do DF (as linhas e colunas terão rotulos numéricos)."
   ]
  },
  {
   "cell_type": "code",
   "execution_count": null,
   "id": "71be8930",
   "metadata": {
    "ExecuteTime": {
     "end_time": "2022-10-16T17:43:41.050824Z",
     "start_time": "2022-10-16T17:43:41.050808Z"
    },
    "hidden": true
   },
   "outputs": [],
   "source": [
    "estados = ['Acre',\n",
    "           'Amapá',\n",
    "           'Amazonas',\n",
    "           'Pará',\n",
    "           'Rondônia',\n",
    "           'Roraima',\n",
    "           'Tocantins']\n",
    "\n",
    "df = pd.DataFrame(data=estados)\n",
    "df"
   ]
  },
  {
   "cell_type": "markdown",
   "id": "1b238446",
   "metadata": {
    "hidden": true
   },
   "source": [
    "Também podemos utilizar uma **lista de listas** para montar um DataFrame com várias colunas."
   ]
  },
  {
   "cell_type": "code",
   "execution_count": null,
   "id": "0c610dd2",
   "metadata": {
    "ExecuteTime": {
     "end_time": "2022-10-16T17:43:41.051903Z",
     "start_time": "2022-10-16T17:43:41.051888Z"
    },
    "hidden": true
   },
   "outputs": [],
   "source": [
    "capitais = [['Acre', 'AC', '803,5 mil', 'Rio Branco'],\n",
    "            ['Amapá', 'AP', '776,6 mil', 'Macapá'],\n",
    "            ['Amazonas', 'AM', '3,9 milhões', 'Manaus'],\n",
    "            ['Pará', 'PA', '8,1 milhões', 'Belém'],\n",
    "            ['Rondônia', 'RO', '1,7 milhão', 'Porto Velho'],\n",
    "            ['Roraima', 'RR', '505,6 mil', 'Boa Vista'],\n",
    "            ['Tocantins', 'TO', '1,5 milhão', 'Palmas']]\n",
    "\n",
    "\n",
    "df = pd.DataFrame(data=capitais)\n",
    "df"
   ]
  },
  {
   "cell_type": "markdown",
   "id": "fbf611a7",
   "metadata": {
    "hidden": true
   },
   "source": [
    "Outra forma de criar um DataFrame é apartir de um **dicionário**. Quando criamos um DF a partir de um dicionário, cada item do dicionário será uma coluna do df, a chave será o rotulo da coluna e o valor da chave serão os valores da coluna."
   ]
  },
  {
   "cell_type": "code",
   "execution_count": null,
   "id": "76c0153a",
   "metadata": {
    "ExecuteTime": {
     "end_time": "2022-10-16T17:43:41.052873Z",
     "start_time": "2022-10-16T17:43:41.052858Z"
    },
    "hidden": true
   },
   "outputs": [],
   "source": [
    "estados = {'Estado': ['Acre',\n",
    "                       'Amapá',\n",
    "                       'Amazonas',\n",
    "                       'Pará',\n",
    "                       'Rondônia',\n",
    "                       'Roraima',\n",
    "                       'Tocantins'],\n",
    "            'Sigla': ['AC',\n",
    "                      'AP',\n",
    "                      'AM',\n",
    "                      'PA',\n",
    "                      'RO',\n",
    "                      'RR',\n",
    "                      'TO'],\n",
    "            'População': ['803,5 mil',\n",
    "                          '776,6 mil',\n",
    "                          '3,9 milhões',\n",
    "                          '8,1 milhões',\n",
    "                          '1,7 milhão',\n",
    "                          '505,6 mil',\n",
    "                          '1,5 milhão'],\n",
    "            'Capital': ['Rio Branco',\n",
    "                        'Macapá',\n",
    "                        'Manaus',\n",
    "                        'Belém',\n",
    "                        'Porto Velho',\n",
    "                        'Boa Vista',\n",
    "                        'Palmas']}\n",
    "\n",
    "\n",
    "df = pd.DataFrame(data=estados)\n",
    "df"
   ]
  },
  {
   "cell_type": "markdown",
   "id": "8e6e9b96",
   "metadata": {
    "hidden": true
   },
   "source": [
    "**Resumo**<br>\n",
    "Resumindo, o parametro data serve para indicar o que queremos que o pandas transforme em um DataFrame.\n",
    "<br><br><br>"
   ]
  },
  {
   "cell_type": "markdown",
   "id": "02d095e9",
   "metadata": {
    "hidden": true
   },
   "source": [
    "\n",
    "### index : Index or array-like"
   ]
  },
  {
   "cell_type": "markdown",
   "id": "3c435e51",
   "metadata": {
    "hidden": true
   },
   "source": [
    "O parametro index é opcional, por padrão o índice do dataframe começa em 0 e termina no último valor. Ele define os índices das linha.\n",
    "\n",
    "Quando criamos um DataFrame a partir de outros objetos ou de inportação de dados, o pandas define o indice das linhas por padrão como numérico, mas é possivel modificar esses índices e passar como valor para o parametro **index** algum array."
   ]
  },
  {
   "cell_type": "code",
   "execution_count": null,
   "id": "95537ed3",
   "metadata": {
    "ExecuteTime": {
     "end_time": "2022-10-16T17:43:41.054912Z",
     "start_time": "2022-10-16T17:43:41.054896Z"
    },
    "hidden": true
   },
   "outputs": [],
   "source": [
    "import pandas as pd"
   ]
  },
  {
   "cell_type": "code",
   "execution_count": null,
   "id": "04355431",
   "metadata": {
    "ExecuteTime": {
     "end_time": "2022-10-16T17:43:41.056711Z",
     "start_time": "2022-10-16T17:43:41.056695Z"
    },
    "hidden": true
   },
   "outputs": [],
   "source": [
    "nomes = ['Alba', 'Ana', 'Amélia', \n",
    "         'Breno', 'Bruno', 'Bernardo',\n",
    "         'Carla', 'Cesar', 'Cris']\n",
    "\n",
    "rotulo = [10, 11, 12, 13, 14, 15, 16, 17, 18]\n",
    "# rotulo2 = [p[0] for p in nomes] \n",
    "\n",
    "df = pd.DataFrame(data=nomes, index=rotulo)\n",
    "df"
   ]
  },
  {
   "cell_type": "markdown",
   "id": "d694489a",
   "metadata": {
    "hidden": true
   },
   "source": [
    "\n",
    "### Columns : Index or array-like"
   ]
  },
  {
   "cell_type": "markdown",
   "id": "8fb3ea2a",
   "metadata": {
    "hidden": true
   },
   "source": [
    "Este parâmetro se comporta de duas maneiras diferentes. Vamos ver ná prática."
   ]
  },
  {
   "cell_type": "markdown",
   "id": "8c34b4d1",
   "metadata": {
    "hidden": true
   },
   "source": [
    "Quando criamos um dataframe a partir de uma lista de listas, os indices das linhas e os rotulos das colunas serão numéricos. Quando o rótulo das colunas forem numéricos, podemos usar o parâmetro columns para nomear as colunas."
   ]
  },
  {
   "cell_type": "code",
   "execution_count": null,
   "id": "ccc5ec7d",
   "metadata": {
    "ExecuteTime": {
     "end_time": "2022-10-16T17:43:41.057783Z",
     "start_time": "2022-10-16T17:43:41.057769Z"
    },
    "hidden": true
   },
   "outputs": [],
   "source": [
    "lista = [['huan', 18, 'm'],   \n",
    "         ['luigi', 19, 'm'],\n",
    "         ['lucas', 18, 'm'],\n",
    "         ['manoel', 17, 'm'], \n",
    "         ['simão', 19, 'm']]\n",
    "\n",
    "# colunas sem nome \n",
    "df = pd.DataFrame(data=lista)\n",
    "display(df)\n",
    "\n",
    "\n",
    "# nomeando as colunas\n",
    "df = pd.DataFrame(data=lista, columns=['nome', 'idade', 'sexo'])\n",
    "display(df)"
   ]
  },
  {
   "cell_type": "markdown",
   "id": "3702b9d4",
   "metadata": {
    "hidden": true
   },
   "source": [
    "Já quando criamos um dataframe a partir de um dicionário ou uma lista de Series, o parâmetro columns serve para definir quais itens do dicionário ou, quais Series da lista devem ser transformado no dataframe."
   ]
  },
  {
   "cell_type": "code",
   "execution_count": null,
   "id": "360e2a9b",
   "metadata": {
    "ExecuteTime": {
     "end_time": "2022-10-16T17:43:41.059118Z",
     "start_time": "2022-10-16T17:43:41.059103Z"
    },
    "hidden": true
   },
   "outputs": [],
   "source": [
    "dic = {\n",
    "    'nome' : ['huan', 'luigi', 'lucas', 'manoel', 'simão'],\n",
    "    'idade' : [18, 19, 18, 17, 19],\n",
    "    'sexo' : ['m', 'm', 'm', 'm', 'm']\n",
    "    \n",
    "}\n",
    "\n",
    "# dataframe completo \n",
    "df = pd.DataFrame(data=dic)\n",
    "display(df)\n",
    "\n",
    "\n",
    "# apenas nome e sexo\n",
    "df = pd.DataFrame(data=dic, columns=['nome', 'sexo'])\n",
    "display(df)"
   ]
  },
  {
   "cell_type": "markdown",
   "id": "d1452f72",
   "metadata": {
    "hidden": true
   },
   "source": [
    "\n",
    "### dtype : dtype, default None"
   ]
  },
  {
   "cell_type": "markdown",
   "id": "cafc9a9f",
   "metadata": {
    "hidden": true
   },
   "source": [
    "Esse parametro serve para forçar todos os valores a terem o mesmo tipo. Apenas um único dtype é permitido.<br>\n",
    "Caso o DF tenha algum valor com tipo de dado igual a str não será possivel fazer a conversão."
   ]
  },
  {
   "cell_type": "code",
   "execution_count": null,
   "id": "09447915",
   "metadata": {
    "ExecuteTime": {
     "end_time": "2022-10-16T17:43:41.060443Z",
     "start_time": "2022-10-16T17:43:41.060427Z"
    },
    "hidden": true
   },
   "outputs": [],
   "source": [
    "idades = [12, 13, 14, 10, 11, 17, 10, 69]\n",
    "\n",
    "# Alguns tipos de dados numéricos\n",
    "flutuante = [np.float16, np.float32, np.float64]\n",
    "inteiro = [np.int16, np.int32, np.int64]\n",
    "\n",
    "df = pd.DataFrame(data=idades, dtype = inteiro[0])\n",
    "\n",
    "df.dtypes"
   ]
  },
  {
   "cell_type": "markdown",
   "id": "bdf8f739",
   "metadata": {
    "hidden": true
   },
   "source": [
    "Obs: caso exista um valor que é um numero, mas tem tipo str, é possivel fazer a conversão de todos os valores para float."
   ]
  },
  {
   "cell_type": "code",
   "execution_count": null,
   "id": "894fe3bd",
   "metadata": {
    "ExecuteTime": {
     "end_time": "2022-10-16T17:43:41.061596Z",
     "start_time": "2022-10-16T17:43:41.061582Z"
    },
    "hidden": true
   },
   "outputs": [],
   "source": [
    "idades = ['12', 13, 14, 10, '11', '17', 10, '69']\n",
    "\n",
    "flutuante = [np.float16, np.float32, np.float64]\n",
    "\n",
    "df = pd.DataFrame(data=idades, dtype = flutuante[0])\n",
    "\n",
    "df.dtypes"
   ]
  },
  {
   "cell_type": "markdown",
   "id": "39853f0e",
   "metadata": {
    "hidden": true
   },
   "source": [
    "\n",
    "### copy : bool, default None"
   ]
  },
  {
   "cell_type": "markdown",
   "id": "f41c4830",
   "metadata": {
    "hidden": true
   },
   "source": [
    "O parametro **copy** serve para situações que você queira criar um dataframe novo a partir de uma Series ou um Dataframe antigo sem que alterações futuras nesses objetos possam alterar o DataFrame também.<br>\n",
    "\n",
    "Esse parametro recebe valores booleanos, ou seja, **False** ou **True**. Por padrão ele é **False**.<br>\n",
    "\n",
    "Caso o valor seja **True**, qualquer alteração no objeto de criação não acarretará em uma mudança no DataFrame.<br>\n",
    "\n",
    "E se for **False**, qualquer alteração no objeto de criação acarretará em uma mudança no DataFrame."
   ]
  },
  {
   "cell_type": "code",
   "execution_count": null,
   "id": "16f09fcc",
   "metadata": {
    "ExecuteTime": {
     "end_time": "2022-10-16T17:43:41.063090Z",
     "start_time": "2022-10-16T17:43:41.063072Z"
    },
    "hidden": true
   },
   "outputs": [],
   "source": [
    "dic = {\n",
    "    'nome' : ['huan', 'luigi', 'lucas', 'manoel', 'simão'],\n",
    "    'idade' : [18, 19, 18, 17, 19],\n",
    "    'sexo' : ['m', 'm', 'm', 'm', 'm']\n",
    "}\n",
    "\n",
    "df = pd.DataFrame(data=dic)\n",
    "\n",
    "df1 = pd.DataFrame(df, copy= True) # Agora é possivel fazer alterações no df1 sem alterar o df, vice e versa.\n",
    "df2 = pd.DataFrame(df, copy= False) \n",
    "\n",
    "df.loc[0, ['nome']] = 'modificado'\n",
    "\n",
    "display(df1)\n",
    "display(df2)"
   ]
  },
  {
   "cell_type": "markdown",
   "id": "1759d010",
   "metadata": {
    "hidden": true
   },
   "source": [
    " "
   ]
  },
  {
   "cell_type": "markdown",
   "id": "c0ee8482",
   "metadata": {
    "heading_collapsed": true,
    "hidden": true
   },
   "source": [
    "## 👾 <font size=5>Importando arquivos ou bases de dados<font>\n"
   ]
  },
  {
   "cell_type": "markdown",
   "id": "1f1e8641",
   "metadata": {
    "hidden": true
   },
   "source": [
    "<br>\n",
    "O pandas oferece uma variedade de métodos que serve para ler um arquivo e transforma-lo em uma tabela (DataFrame). Veja alguns:\n",
    "    \n",
    "| [pd.read_csv](https://pandas.pydata.org/docs/reference/api/pandas.read_csv.html?highlight=pandas%20read_) | \n",
    "[pd.read_excel](https://pandas.pydata.org/docs/reference/api/pandas.read_excel.html?highlight=pandas%20read_) | \n",
    "[pd.read_json](https://pandas.pydata.org/docs/reference/api/pandas.read_json.html?highlight=pandas%20read_) | \n",
    "[pd.read_html](https://pandas.pydata.org/docs/reference/api/pandas.read_html.html?highlight=pandas%20read_) | \n",
    "[pd.read_sas](https://pandas.pydata.org/docs/reference/api/pandas.read_sas.html?highlight=pandas%20read_) | \n",
    "[pd.read_sql](https://pandas.pydata.org/docs/reference/api/pandas.read_sql.html?highlight=pandas%20read_) | \n",
    "[pd.read_table](https://pandas.pydata.org/docs/reference/api/pandas.read_table.html?highlight=pandas%20read_) |\n",
    "\n",
    "\n",
    "<br>\n",
    "Cada método foi criado para ler um tipo de arquivo e por isso tem suas particularidades, devido ao nome dos métodos fica facil entender pra qual tipo de arquivo ele serve. Abaixo segue a explicação de alguns desses métodos.<br><br>"
   ]
  },
  {
   "cell_type": "markdown",
   "id": "a73f93b4",
   "metadata": {
    "heading_collapsed": true,
    "hidden": true
   },
   "source": [
    "###  🐥 pd.read_csv ( )"
   ]
  },
  {
   "cell_type": "markdown",
   "id": "4b998d5f",
   "metadata": {
    "hidden": true
   },
   "source": [
    "\n",
    "\n",
    "### O que esse método faz?\n",
    "\n",
    "A maioria dos dados está disponivel em um formato tabular (linhas e colunas) de arquivos CSV. É muito popular. Por isso o pandas despolibiliza o método pd.read_csv, que importa um arquivo csv para o formato DataFrame. Também suporta iterar ou dividir o arquivo em partes. Caso você queira aprender como ler um arquivo CSV sem usar o pandas, o link está [aqui](https://www.youtube.com/watch?v=AnJPtKLtc7o&ab_channel=HashtagPrograma%C3%A7%C3%A3o).\n",
    "\n",
    "### O que é um arquivo CSV?\n",
    "\n",
    "CSV é a sigla para 'Comma Separated Values' (em português, valores separados por virgula). Um arquivo CSV é um arquivo de texto que organiza informações reparados por virgula em 2 dimenções, ou seja, linhas e colunas. O conteúdo geralmente são textos números ou datas. Os arquivos CSV podem ser facilmente importados e exportados usando programas que armazenam dados em tabelas.\n",
    "\n",
    "### Como um arquivo CSV é organizado?\n",
    "\n",
    "Em geral a primeira linha contém os rótulos das colunas das tabelas. Cada uma das linhas subsequentes representam uma linha da tabela. Virgulas separam cada valor da linha, o que é motivo para o nome do formato.\n",
    "\n",
    "Aqui temos um exemplo de um arquivo CSV. O exemplo tem 3 colunas, com os rótulos nome, idade e comida favorita. Temos 5 linhas incluindo a linha do cabeçalho."
   ]
  },
  {
   "cell_type": "code",
   "execution_count": null,
   "id": "9c910729",
   "metadata": {
    "ExecuteTime": {
     "end_time": "2022-10-16T17:43:41.064728Z",
     "start_time": "2022-10-16T17:43:41.064714Z"
    },
    "hidden": true
   },
   "outputs": [],
   "source": [
    "nome,idade,comida favorita\n",
    "huan barros,18,muita coisa\n",
    "joão polinario,15,pizza\n",
    "ana barretos,17,lasanha\n",
    "marcos silva,13,sorvete"
   ]
  },
  {
   "cell_type": "markdown",
   "id": "11161896",
   "metadata": {
    "hidden": true
   },
   "source": [
    "\n",
    "### Parâmetros\n",
    "\n",
    "Os parâmetros que esse método pode receber são inumeros, por isso separamos somente os que você provavelmente precisa conhecer no inicio. Mas, caso você queira conhecer todos os parâmetros o link está [aqui](https://pandas.pydata.org/docs/reference/api/pandas.read_csv.html#pandas.read_csv). <br><br>\n",
    "\n",
    "### _pd.read_csv (_ \n",
    "<br>\n",
    "\n",
    "**filepath_or_buffer**<br>\n",
    "**sep** = ',' <br>\n",
    "**header** = 'infer' <br>\n",
    "**names** = _NoDefault.no_default <br>\n",
    "**index_col** = None <br>\n",
    "**usecols** = None <br>\n",
    "**dtype** = None <br> \n",
    "**converters** = None <br>\n",
    "**skiprows** = None <br>\n",
    "**skipfooter** = 0 <br>\n",
    "**nrows** = None <br>\n",
    "**na_values** = None <br>\n",
    "**skipfooter** = True\n",
    "\n",
    "\n",
    "### _)_ <br>\n",
    "\n"
   ]
  },
  {
   "cell_type": "markdown",
   "id": "8cffbbd0",
   "metadata": {
    "hidden": true
   },
   "source": [
    "\n",
    "### filepath_or_buffer : str"
   ]
  },
  {
   "cell_type": "markdown",
   "id": "ef91bfc5",
   "metadata": {
    "hidden": true
   },
   "source": [
    "Esse parâmetro é a localização do **arquivo.csv** e deve ser passado no formato de uma string. Se o **arquivo.csv** estiver no mesmo diretório do projeto será necessário ser passado apenas o nome do arquivo, caso contrário você terá que passar o caminho completo da base do seu sistema de arquivos para o **arquivo.csv** que você deseja carregar, por exemplo, /home/audax/Downloads/test_file.csv . Esse parâmetro também aceita a URL do arquivo como localização."
   ]
  },
  {
   "cell_type": "code",
   "execution_count": 2,
   "id": "5eaf295c",
   "metadata": {
    "ExecuteTime": {
     "end_time": "2022-10-16T18:43:11.924423Z",
     "start_time": "2022-10-16T18:43:11.706167Z"
    },
    "hidden": true
   },
   "outputs": [],
   "source": [
    "import pandas as pd"
   ]
  },
  {
   "cell_type": "code",
   "execution_count": 3,
   "id": "e86e170c",
   "metadata": {
    "ExecuteTime": {
     "end_time": "2022-10-16T18:43:12.723055Z",
     "start_time": "2022-10-16T18:43:12.686605Z"
    },
    "hidden": true
   },
   "outputs": [
    {
     "data": {
      "text/html": [
       "<div>\n",
       "<style scoped>\n",
       "    .dataframe tbody tr th:only-of-type {\n",
       "        vertical-align: middle;\n",
       "    }\n",
       "\n",
       "    .dataframe tbody tr th {\n",
       "        vertical-align: top;\n",
       "    }\n",
       "\n",
       "    .dataframe thead th {\n",
       "        text-align: right;\n",
       "    }\n",
       "</style>\n",
       "<table border=\"1\" class=\"dataframe\">\n",
       "  <thead>\n",
       "    <tr style=\"text-align: right;\">\n",
       "      <th></th>\n",
       "      <th>nome</th>\n",
       "      <th>idade</th>\n",
       "      <th>comida favorita</th>\n",
       "    </tr>\n",
       "  </thead>\n",
       "  <tbody>\n",
       "    <tr>\n",
       "      <th>0</th>\n",
       "      <td>huan barros</td>\n",
       "      <td>18</td>\n",
       "      <td>muita coisa</td>\n",
       "    </tr>\n",
       "    <tr>\n",
       "      <th>1</th>\n",
       "      <td>joão polinario</td>\n",
       "      <td>15</td>\n",
       "      <td>pizza</td>\n",
       "    </tr>\n",
       "    <tr>\n",
       "      <th>2</th>\n",
       "      <td>ana barretos</td>\n",
       "      <td>18</td>\n",
       "      <td>lasanha</td>\n",
       "    </tr>\n",
       "    <tr>\n",
       "      <th>3</th>\n",
       "      <td>marcos silva</td>\n",
       "      <td>13</td>\n",
       "      <td>sorvete</td>\n",
       "    </tr>\n",
       "  </tbody>\n",
       "</table>\n",
       "</div>"
      ],
      "text/plain": [
       "             nome  idade comida favorita\n",
       "0     huan barros     18     muita coisa\n",
       "1  joão polinario     15           pizza\n",
       "2    ana barretos     18         lasanha\n",
       "3    marcos silva     13         sorvete"
      ]
     },
     "execution_count": 3,
     "metadata": {},
     "output_type": "execute_result"
    }
   ],
   "source": [
    "df = pd.read_csv('data-base/teste1.csv')\n",
    "df"
   ]
  },
  {
   "cell_type": "markdown",
   "id": "95d39b0c",
   "metadata": {
    "hidden": true
   },
   "source": [
    "\n",
    "### sep : str"
   ]
  },
  {
   "cell_type": "markdown",
   "id": "3f32443d",
   "metadata": {
    "hidden": true
   },
   "source": [
    "Significa um separador, que serve para separar os valores de cada linha de um arquivo.csv, o padrão é uma vírgula. No entanto pode haver arquivos com o sepador diferente da virgula, como por exemplo, dois pontos, a barra vertical e muitos outros. Nesse caso é necessário indicar ao parâmetro **sep** que separador é esse."
   ]
  },
  {
   "cell_type": "code",
   "execution_count": 4,
   "id": "1d96ea32",
   "metadata": {
    "ExecuteTime": {
     "end_time": "2022-10-16T18:43:23.363042Z",
     "start_time": "2022-10-16T18:43:23.340925Z"
    },
    "hidden": true
   },
   "outputs": [
    {
     "data": {
      "text/html": [
       "<div>\n",
       "<style scoped>\n",
       "    .dataframe tbody tr th:only-of-type {\n",
       "        vertical-align: middle;\n",
       "    }\n",
       "\n",
       "    .dataframe tbody tr th {\n",
       "        vertical-align: top;\n",
       "    }\n",
       "\n",
       "    .dataframe thead th {\n",
       "        text-align: right;\n",
       "    }\n",
       "</style>\n",
       "<table border=\"1\" class=\"dataframe\">\n",
       "  <thead>\n",
       "    <tr style=\"text-align: right;\">\n",
       "      <th></th>\n",
       "      <th>nome</th>\n",
       "      <th>idade</th>\n",
       "      <th>comida favorita</th>\n",
       "    </tr>\n",
       "  </thead>\n",
       "  <tbody>\n",
       "    <tr>\n",
       "      <th>0</th>\n",
       "      <td>huan barros</td>\n",
       "      <td>18</td>\n",
       "      <td>muita coisa</td>\n",
       "    </tr>\n",
       "    <tr>\n",
       "      <th>1</th>\n",
       "      <td>joão polinario</td>\n",
       "      <td>15</td>\n",
       "      <td>pizza</td>\n",
       "    </tr>\n",
       "    <tr>\n",
       "      <th>2</th>\n",
       "      <td>ana barretos</td>\n",
       "      <td>18</td>\n",
       "      <td>lasanha</td>\n",
       "    </tr>\n",
       "    <tr>\n",
       "      <th>3</th>\n",
       "      <td>marcos silva</td>\n",
       "      <td>13</td>\n",
       "      <td>sorvete</td>\n",
       "    </tr>\n",
       "  </tbody>\n",
       "</table>\n",
       "</div>"
      ],
      "text/plain": [
       "             nome  idade comida favorita\n",
       "0     huan barros     18     muita coisa\n",
       "1  joão polinario     15           pizza\n",
       "2    ana barretos     18         lasanha\n",
       "3    marcos silva     13         sorvete"
      ]
     },
     "execution_count": 4,
     "metadata": {},
     "output_type": "execute_result"
    }
   ],
   "source": [
    "df = pd.read_csv('data-base/teste2.csv', sep='|') # o arquivo usa a barra vertical como separador\n",
    "df"
   ]
  },
  {
   "cell_type": "markdown",
   "id": "7c4e8b9a",
   "metadata": {
    "hidden": true
   },
   "source": [
    "É possivel haver mais de um tipo de separador em um arquivo CSV. Por isso o pandas dispolibiliza 3 mecanismos diferentes para o analisador de arquivos CSV. Os mecanismos C, pyarrow e python. C e pyarrow são mais rápidos ná hora de ler o arquivo e separar os valores, no entato eles não conseguem ler arquivos que tenham mais de 1 separador. Já o mecanismo python é atualmente mais completo e é capaz de ler arquivos CSV com mais de 1 separador, no entanto deixa a dejar na sua velocidade.\n",
    "\n",
    "Para usar o pyarrow é necessário fazer a instalação do pyarrow.csv via pip ou conda. Os outros não precisa.\n",
    "\n",
    "Para escolher o mecanismo que você quer usar o pandas disponibilizou o parametro **engine**, que recebe uma str com o nome do mecanismo.<br>\n",
    "\n"
   ]
  },
  {
   "cell_type": "code",
   "execution_count": 5,
   "id": "c30a1ae3",
   "metadata": {
    "ExecuteTime": {
     "end_time": "2022-10-16T18:43:35.191124Z",
     "start_time": "2022-10-16T18:43:35.169853Z"
    },
    "hidden": true
   },
   "outputs": [
    {
     "data": {
      "text/html": [
       "<div>\n",
       "<style scoped>\n",
       "    .dataframe tbody tr th:only-of-type {\n",
       "        vertical-align: middle;\n",
       "    }\n",
       "\n",
       "    .dataframe tbody tr th {\n",
       "        vertical-align: top;\n",
       "    }\n",
       "\n",
       "    .dataframe thead th {\n",
       "        text-align: right;\n",
       "    }\n",
       "</style>\n",
       "<table border=\"1\" class=\"dataframe\">\n",
       "  <thead>\n",
       "    <tr style=\"text-align: right;\">\n",
       "      <th></th>\n",
       "      <th>nome</th>\n",
       "      <th>dade</th>\n",
       "      <th>comida favorita</th>\n",
       "    </tr>\n",
       "  </thead>\n",
       "  <tbody>\n",
       "    <tr>\n",
       "      <th>0</th>\n",
       "      <td>huan barros</td>\n",
       "      <td>18</td>\n",
       "      <td>muita coisa</td>\n",
       "    </tr>\n",
       "    <tr>\n",
       "      <th>1</th>\n",
       "      <td>joão polinario</td>\n",
       "      <td>15</td>\n",
       "      <td>pizza</td>\n",
       "    </tr>\n",
       "    <tr>\n",
       "      <th>2</th>\n",
       "      <td>ana barretos</td>\n",
       "      <td>17</td>\n",
       "      <td>lasanha</td>\n",
       "    </tr>\n",
       "    <tr>\n",
       "      <th>3</th>\n",
       "      <td>marcos silva</td>\n",
       "      <td>13</td>\n",
       "      <td>sorvete</td>\n",
       "    </tr>\n",
       "  </tbody>\n",
       "</table>\n",
       "</div>"
      ],
      "text/plain": [
       "             nome  dade comida favorita\n",
       "0     huan barros    18     muita coisa\n",
       "1  joão polinario    15           pizza\n",
       "2    ana barretos    17         lasanha\n",
       "3    marcos silva    13         sorvete"
      ]
     },
     "execution_count": 5,
     "metadata": {},
     "output_type": "execute_result"
    }
   ],
   "source": [
    "# é necessário passar os separadores dentro de colchetes, e o tipo do dado tem que ser str\n",
    "df = pd.read_csv('data-base/teste3.csv', sep='[,|:]', engine='python')\n",
    "df"
   ]
  },
  {
   "cell_type": "markdown",
   "id": "c2f0f254",
   "metadata": {
    "hidden": true
   },
   "source": [
    "\n",
    "### header  : int, list of int"
   ]
  },
  {
   "cell_type": "markdown",
   "id": "af705e99",
   "metadata": {
    "hidden": true
   },
   "source": [
    "Serve para especificar qual linha do seu arquivo será usada como os rótulos das colunas do seu DataFrame. É esperado um valor int ou uma lista de valores int. O valor padrão é **_header=0_**."
   ]
  },
  {
   "cell_type": "code",
   "execution_count": 6,
   "id": "922b392b",
   "metadata": {
    "ExecuteTime": {
     "end_time": "2022-10-16T18:43:46.619440Z",
     "start_time": "2022-10-16T18:43:46.600527Z"
    },
    "hidden": true
   },
   "outputs": [
    {
     "data": {
      "text/html": [
       "<div>\n",
       "<style scoped>\n",
       "    .dataframe tbody tr th:only-of-type {\n",
       "        vertical-align: middle;\n",
       "    }\n",
       "\n",
       "    .dataframe tbody tr th {\n",
       "        vertical-align: top;\n",
       "    }\n",
       "\n",
       "    .dataframe thead th {\n",
       "        text-align: right;\n",
       "    }\n",
       "</style>\n",
       "<table border=\"1\" class=\"dataframe\">\n",
       "  <thead>\n",
       "    <tr style=\"text-align: right;\">\n",
       "      <th></th>\n",
       "      <th>ana barretos</th>\n",
       "      <th>18</th>\n",
       "      <th>lasanha</th>\n",
       "    </tr>\n",
       "  </thead>\n",
       "  <tbody>\n",
       "    <tr>\n",
       "      <th>0</th>\n",
       "      <td>marcos silva</td>\n",
       "      <td>13</td>\n",
       "      <td>sorvete</td>\n",
       "    </tr>\n",
       "  </tbody>\n",
       "</table>\n",
       "</div>"
      ],
      "text/plain": [
       "   ana barretos  18  lasanha\n",
       "0  marcos silva  13  sorvete"
      ]
     },
     "execution_count": 6,
     "metadata": {},
     "output_type": "execute_result"
    }
   ],
   "source": [
    "# Escolhendo a 4ª linha do arquivo como cabeçalho\n",
    "df = pd.read_csv('data-base/teste1.csv', header=3) \n",
    "df"
   ]
  },
  {
   "cell_type": "code",
   "execution_count": 7,
   "id": "3a2b3874",
   "metadata": {
    "ExecuteTime": {
     "end_time": "2022-10-16T18:43:53.116784Z",
     "start_time": "2022-10-16T18:43:53.090171Z"
    },
    "hidden": true
   },
   "outputs": [
    {
     "data": {
      "text/html": [
       "<div>\n",
       "<style scoped>\n",
       "    .dataframe tbody tr th:only-of-type {\n",
       "        vertical-align: middle;\n",
       "    }\n",
       "\n",
       "    .dataframe tbody tr th {\n",
       "        vertical-align: top;\n",
       "    }\n",
       "\n",
       "    .dataframe thead tr th {\n",
       "        text-align: left;\n",
       "    }\n",
       "</style>\n",
       "<table border=\"1\" class=\"dataframe\">\n",
       "  <thead>\n",
       "    <tr>\n",
       "      <th></th>\n",
       "      <th>nome</th>\n",
       "      <th>idade</th>\n",
       "      <th>comida favorita</th>\n",
       "    </tr>\n",
       "    <tr>\n",
       "      <th></th>\n",
       "      <th>huan barros</th>\n",
       "      <th>18</th>\n",
       "      <th>muita coisa</th>\n",
       "    </tr>\n",
       "  </thead>\n",
       "  <tbody>\n",
       "    <tr>\n",
       "      <th>0</th>\n",
       "      <td>joão polinario</td>\n",
       "      <td>15</td>\n",
       "      <td>pizza</td>\n",
       "    </tr>\n",
       "    <tr>\n",
       "      <th>1</th>\n",
       "      <td>ana barretos</td>\n",
       "      <td>18</td>\n",
       "      <td>lasanha</td>\n",
       "    </tr>\n",
       "    <tr>\n",
       "      <th>2</th>\n",
       "      <td>marcos silva</td>\n",
       "      <td>13</td>\n",
       "      <td>sorvete</td>\n",
       "    </tr>\n",
       "  </tbody>\n",
       "</table>\n",
       "</div>"
      ],
      "text/plain": [
       "             nome idade comida favorita\n",
       "      huan barros    18     muita coisa\n",
       "0  joão polinario    15           pizza\n",
       "1    ana barretos    18         lasanha\n",
       "2    marcos silva    13         sorvete"
      ]
     },
     "execution_count": 7,
     "metadata": {},
     "output_type": "execute_result"
    }
   ],
   "source": [
    "# Escolhendo a 1ª e  a 2ª linha do arquivo como cabeçalho\n",
    "df = pd.read_csv('data-base/teste1.csv', header=[0, 1])   # Só pode ser uma lista de ints, outro tipo de array não\n",
    "df"
   ]
  },
  {
   "cell_type": "markdown",
   "id": "87dee2ee",
   "metadata": {
    "hidden": true
   },
   "source": [
    "\n",
    "### names : array - like"
   ]
  },
  {
   "cell_type": "markdown",
   "id": "459d8ee6",
   "metadata": {
    "hidden": true
   },
   "source": [
    "O parâmetro names recebe um array com valores que serão usados como o cabeçalho do DataFrame. O array não pode conter valores repetidos. Caso o seu arquivo CSV já tenha cabeçalho, ele se tornará a primeira linha do DataFrame. Para sobrescrever um cabeçalho já existente é necessário passar **header=0**."
   ]
  },
  {
   "cell_type": "code",
   "execution_count": 8,
   "id": "94b3d5c2",
   "metadata": {
    "ExecuteTime": {
     "end_time": "2022-10-16T18:44:04.969833Z",
     "start_time": "2022-10-16T18:44:04.933402Z"
    },
    "hidden": true
   },
   "outputs": [
    {
     "data": {
      "text/html": [
       "<div>\n",
       "<style scoped>\n",
       "    .dataframe tbody tr th:only-of-type {\n",
       "        vertical-align: middle;\n",
       "    }\n",
       "\n",
       "    .dataframe tbody tr th {\n",
       "        vertical-align: top;\n",
       "    }\n",
       "\n",
       "    .dataframe thead th {\n",
       "        text-align: right;\n",
       "    }\n",
       "</style>\n",
       "<table border=\"1\" class=\"dataframe\">\n",
       "  <thead>\n",
       "    <tr style=\"text-align: right;\">\n",
       "      <th></th>\n",
       "      <th>nome</th>\n",
       "      <th>idade</th>\n",
       "      <th>comida favorita</th>\n",
       "    </tr>\n",
       "  </thead>\n",
       "  <tbody>\n",
       "    <tr>\n",
       "      <th>0</th>\n",
       "      <td>huan barros</td>\n",
       "      <td>18</td>\n",
       "      <td>muita coisa</td>\n",
       "    </tr>\n",
       "    <tr>\n",
       "      <th>1</th>\n",
       "      <td>joão polinario</td>\n",
       "      <td>15</td>\n",
       "      <td>pizza</td>\n",
       "    </tr>\n",
       "    <tr>\n",
       "      <th>2</th>\n",
       "      <td>ana barretos</td>\n",
       "      <td>18</td>\n",
       "      <td>lasanha</td>\n",
       "    </tr>\n",
       "    <tr>\n",
       "      <th>3</th>\n",
       "      <td>marcos silva</td>\n",
       "      <td>13</td>\n",
       "      <td>sorvete</td>\n",
       "    </tr>\n",
       "  </tbody>\n",
       "</table>\n",
       "</div>"
      ],
      "text/plain": [
       "             nome  idade comida favorita\n",
       "0     huan barros     18     muita coisa\n",
       "1  joão polinario     15           pizza\n",
       "2    ana barretos     18         lasanha\n",
       "3    marcos silva     13         sorvete"
      ]
     },
     "metadata": {},
     "output_type": "display_data"
    },
    {
     "data": {
      "text/html": [
       "<div>\n",
       "<style scoped>\n",
       "    .dataframe tbody tr th:only-of-type {\n",
       "        vertical-align: middle;\n",
       "    }\n",
       "\n",
       "    .dataframe tbody tr th {\n",
       "        vertical-align: top;\n",
       "    }\n",
       "\n",
       "    .dataframe thead th {\n",
       "        text-align: right;\n",
       "    }\n",
       "</style>\n",
       "<table border=\"1\" class=\"dataframe\">\n",
       "  <thead>\n",
       "    <tr style=\"text-align: right;\">\n",
       "      <th></th>\n",
       "      <th>name</th>\n",
       "      <th>age</th>\n",
       "      <th>favorite food</th>\n",
       "    </tr>\n",
       "  </thead>\n",
       "  <tbody>\n",
       "    <tr>\n",
       "      <th>0</th>\n",
       "      <td>huan barros</td>\n",
       "      <td>18</td>\n",
       "      <td>muita coisa</td>\n",
       "    </tr>\n",
       "    <tr>\n",
       "      <th>1</th>\n",
       "      <td>joão polinario</td>\n",
       "      <td>15</td>\n",
       "      <td>pizza</td>\n",
       "    </tr>\n",
       "    <tr>\n",
       "      <th>2</th>\n",
       "      <td>ana barretos</td>\n",
       "      <td>18</td>\n",
       "      <td>lasanha</td>\n",
       "    </tr>\n",
       "    <tr>\n",
       "      <th>3</th>\n",
       "      <td>marcos silva</td>\n",
       "      <td>13</td>\n",
       "      <td>sorvete</td>\n",
       "    </tr>\n",
       "  </tbody>\n",
       "</table>\n",
       "</div>"
      ],
      "text/plain": [
       "             name  age favorite food\n",
       "0     huan barros   18   muita coisa\n",
       "1  joão polinario   15         pizza\n",
       "2    ana barretos   18       lasanha\n",
       "3    marcos silva   13       sorvete"
      ]
     },
     "metadata": {},
     "output_type": "display_data"
    }
   ],
   "source": [
    "# Antes de mudar o nome das colunas\n",
    "df = pd.read_csv('data-base/teste1.csv')\n",
    "display(df)\n",
    "\n",
    "# Depois de mudar o nome das colunas\n",
    "df = pd.read_csv('data-base/teste1.csv',header=0, names=['name', 'age', 'favorite food'])\n",
    "display(df)"
   ]
  },
  {
   "cell_type": "markdown",
   "id": "b66b337b",
   "metadata": {
    "hidden": true
   },
   "source": [
    "\n",
    "\n",
    "### index_col : int, str, sequence of int or str, or False"
   ]
  },
  {
   "cell_type": "markdown",
   "id": "e72061b7",
   "metadata": {
    "hidden": true
   },
   "source": [
    "Serve para escolher qual coluna será usada como índice do DataFrame, o valor padrão é None/False. Para escolher a coluna você precisa passar o nome ou o índice da coluna. Também é possivel passar uma lista com os nomes ou os índices da colunas que você queira que virem o índice do seu DataFrame. Ao fazer isso um MultiIndex será usado, ou seja, o seu DataFrame terá mutiplos índices."
   ]
  },
  {
   "cell_type": "code",
   "execution_count": 9,
   "id": "4ca589ba",
   "metadata": {
    "ExecuteTime": {
     "end_time": "2022-10-16T18:44:12.355374Z",
     "start_time": "2022-10-16T18:44:12.334826Z"
    },
    "hidden": true
   },
   "outputs": [
    {
     "data": {
      "text/html": [
       "<div>\n",
       "<style scoped>\n",
       "    .dataframe tbody tr th:only-of-type {\n",
       "        vertical-align: middle;\n",
       "    }\n",
       "\n",
       "    .dataframe tbody tr th {\n",
       "        vertical-align: top;\n",
       "    }\n",
       "\n",
       "    .dataframe thead th {\n",
       "        text-align: right;\n",
       "    }\n",
       "</style>\n",
       "<table border=\"1\" class=\"dataframe\">\n",
       "  <thead>\n",
       "    <tr style=\"text-align: right;\">\n",
       "      <th></th>\n",
       "      <th>idade</th>\n",
       "      <th>comida favorita</th>\n",
       "    </tr>\n",
       "    <tr>\n",
       "      <th>nome</th>\n",
       "      <th></th>\n",
       "      <th></th>\n",
       "    </tr>\n",
       "  </thead>\n",
       "  <tbody>\n",
       "    <tr>\n",
       "      <th>huan barros</th>\n",
       "      <td>18</td>\n",
       "      <td>muita coisa</td>\n",
       "    </tr>\n",
       "    <tr>\n",
       "      <th>joão polinario</th>\n",
       "      <td>15</td>\n",
       "      <td>pizza</td>\n",
       "    </tr>\n",
       "    <tr>\n",
       "      <th>ana barretos</th>\n",
       "      <td>18</td>\n",
       "      <td>lasanha</td>\n",
       "    </tr>\n",
       "    <tr>\n",
       "      <th>marcos silva</th>\n",
       "      <td>13</td>\n",
       "      <td>sorvete</td>\n",
       "    </tr>\n",
       "  </tbody>\n",
       "</table>\n",
       "</div>"
      ],
      "text/plain": [
       "                idade comida favorita\n",
       "nome                                 \n",
       "huan barros        18     muita coisa\n",
       "joão polinario     15           pizza\n",
       "ana barretos       18         lasanha\n",
       "marcos silva       13         sorvete"
      ]
     },
     "execution_count": 9,
     "metadata": {},
     "output_type": "execute_result"
    }
   ],
   "source": [
    "# Utilizando o indice da coluna\n",
    "\n",
    "df = pd.read_csv('data-base/teste1.csv', index_col=0)\n",
    "df"
   ]
  },
  {
   "cell_type": "code",
   "execution_count": 10,
   "id": "be2ba971",
   "metadata": {
    "ExecuteTime": {
     "end_time": "2022-10-16T18:44:20.174560Z",
     "start_time": "2022-10-16T18:44:20.155245Z"
    },
    "hidden": true
   },
   "outputs": [
    {
     "data": {
      "text/html": [
       "<div>\n",
       "<style scoped>\n",
       "    .dataframe tbody tr th:only-of-type {\n",
       "        vertical-align: middle;\n",
       "    }\n",
       "\n",
       "    .dataframe tbody tr th {\n",
       "        vertical-align: top;\n",
       "    }\n",
       "\n",
       "    .dataframe thead th {\n",
       "        text-align: right;\n",
       "    }\n",
       "</style>\n",
       "<table border=\"1\" class=\"dataframe\">\n",
       "  <thead>\n",
       "    <tr style=\"text-align: right;\">\n",
       "      <th></th>\n",
       "      <th>idade</th>\n",
       "      <th>comida favorita</th>\n",
       "    </tr>\n",
       "    <tr>\n",
       "      <th>nome</th>\n",
       "      <th></th>\n",
       "      <th></th>\n",
       "    </tr>\n",
       "  </thead>\n",
       "  <tbody>\n",
       "    <tr>\n",
       "      <th>huan barros</th>\n",
       "      <td>18</td>\n",
       "      <td>muita coisa</td>\n",
       "    </tr>\n",
       "    <tr>\n",
       "      <th>joão polinario</th>\n",
       "      <td>15</td>\n",
       "      <td>pizza</td>\n",
       "    </tr>\n",
       "    <tr>\n",
       "      <th>ana barretos</th>\n",
       "      <td>18</td>\n",
       "      <td>lasanha</td>\n",
       "    </tr>\n",
       "    <tr>\n",
       "      <th>marcos silva</th>\n",
       "      <td>13</td>\n",
       "      <td>sorvete</td>\n",
       "    </tr>\n",
       "  </tbody>\n",
       "</table>\n",
       "</div>"
      ],
      "text/plain": [
       "                idade comida favorita\n",
       "nome                                 \n",
       "huan barros        18     muita coisa\n",
       "joão polinario     15           pizza\n",
       "ana barretos       18         lasanha\n",
       "marcos silva       13         sorvete"
      ]
     },
     "execution_count": 10,
     "metadata": {},
     "output_type": "execute_result"
    }
   ],
   "source": [
    "# Utilizando o nome da coluna\n",
    "\n",
    "df = pd.read_csv('data-base/teste1.csv', index_col='nome')\n",
    "df"
   ]
  },
  {
   "cell_type": "code",
   "execution_count": 11,
   "id": "38c306bf",
   "metadata": {
    "ExecuteTime": {
     "end_time": "2022-10-16T18:44:26.746918Z",
     "start_time": "2022-10-16T18:44:26.723396Z"
    },
    "hidden": true
   },
   "outputs": [
    {
     "data": {
      "text/html": [
       "<div>\n",
       "<style scoped>\n",
       "    .dataframe tbody tr th:only-of-type {\n",
       "        vertical-align: middle;\n",
       "    }\n",
       "\n",
       "    .dataframe tbody tr th {\n",
       "        vertical-align: top;\n",
       "    }\n",
       "\n",
       "    .dataframe thead th {\n",
       "        text-align: right;\n",
       "    }\n",
       "</style>\n",
       "<table border=\"1\" class=\"dataframe\">\n",
       "  <thead>\n",
       "    <tr style=\"text-align: right;\">\n",
       "      <th></th>\n",
       "      <th></th>\n",
       "      <th>idade</th>\n",
       "    </tr>\n",
       "    <tr>\n",
       "      <th>nome</th>\n",
       "      <th>comida favorita</th>\n",
       "      <th></th>\n",
       "    </tr>\n",
       "  </thead>\n",
       "  <tbody>\n",
       "    <tr>\n",
       "      <th>huan barros</th>\n",
       "      <th>muita coisa</th>\n",
       "      <td>18</td>\n",
       "    </tr>\n",
       "    <tr>\n",
       "      <th>joão polinario</th>\n",
       "      <th>pizza</th>\n",
       "      <td>15</td>\n",
       "    </tr>\n",
       "    <tr>\n",
       "      <th>ana barretos</th>\n",
       "      <th>lasanha</th>\n",
       "      <td>18</td>\n",
       "    </tr>\n",
       "    <tr>\n",
       "      <th>marcos silva</th>\n",
       "      <th>sorvete</th>\n",
       "      <td>13</td>\n",
       "    </tr>\n",
       "  </tbody>\n",
       "</table>\n",
       "</div>"
      ],
      "text/plain": [
       "                                idade\n",
       "nome           comida favorita       \n",
       "huan barros    muita coisa         18\n",
       "joão polinario pizza               15\n",
       "ana barretos   lasanha             18\n",
       "marcos silva   sorvete             13"
      ]
     },
     "execution_count": 11,
     "metadata": {},
     "output_type": "execute_result"
    }
   ],
   "source": [
    "# Utilizando uma lista com os indices das colunas, poderia ser outro tipo de array\n",
    "\n",
    "df = pd.read_csv('data-base/teste1.csv', index_col= [0, 2])\n",
    "df"
   ]
  },
  {
   "cell_type": "code",
   "execution_count": 12,
   "id": "158baaa5",
   "metadata": {
    "ExecuteTime": {
     "end_time": "2022-10-16T18:44:33.707326Z",
     "start_time": "2022-10-16T18:44:33.685283Z"
    },
    "hidden": true
   },
   "outputs": [
    {
     "data": {
      "text/html": [
       "<div>\n",
       "<style scoped>\n",
       "    .dataframe tbody tr th:only-of-type {\n",
       "        vertical-align: middle;\n",
       "    }\n",
       "\n",
       "    .dataframe tbody tr th {\n",
       "        vertical-align: top;\n",
       "    }\n",
       "\n",
       "    .dataframe thead th {\n",
       "        text-align: right;\n",
       "    }\n",
       "</style>\n",
       "<table border=\"1\" class=\"dataframe\">\n",
       "  <thead>\n",
       "    <tr style=\"text-align: right;\">\n",
       "      <th></th>\n",
       "      <th></th>\n",
       "      <th>idade</th>\n",
       "    </tr>\n",
       "    <tr>\n",
       "      <th>nome</th>\n",
       "      <th>comida favorita</th>\n",
       "      <th></th>\n",
       "    </tr>\n",
       "  </thead>\n",
       "  <tbody>\n",
       "    <tr>\n",
       "      <th>huan barros</th>\n",
       "      <th>muita coisa</th>\n",
       "      <td>18</td>\n",
       "    </tr>\n",
       "    <tr>\n",
       "      <th>joão polinario</th>\n",
       "      <th>pizza</th>\n",
       "      <td>15</td>\n",
       "    </tr>\n",
       "    <tr>\n",
       "      <th>ana barretos</th>\n",
       "      <th>lasanha</th>\n",
       "      <td>18</td>\n",
       "    </tr>\n",
       "    <tr>\n",
       "      <th>marcos silva</th>\n",
       "      <th>sorvete</th>\n",
       "      <td>13</td>\n",
       "    </tr>\n",
       "  </tbody>\n",
       "</table>\n",
       "</div>"
      ],
      "text/plain": [
       "                                idade\n",
       "nome           comida favorita       \n",
       "huan barros    muita coisa         18\n",
       "joão polinario pizza               15\n",
       "ana barretos   lasanha             18\n",
       "marcos silva   sorvete             13"
      ]
     },
     "execution_count": 12,
     "metadata": {},
     "output_type": "execute_result"
    }
   ],
   "source": [
    "# Utilizando uma lista com os nomes das colunas, poderia ser outro tipo de array\n",
    "\n",
    "df = pd.read_csv('data-base/teste1.csv', index_col= ['nome', 'comida favorita'])\n",
    "df"
   ]
  },
  {
   "cell_type": "markdown",
   "id": "a79affe6",
   "metadata": {
    "hidden": true
   },
   "source": [
    "\n",
    "### usecols : list-like ou callable"
   ]
  },
  {
   "cell_type": "markdown",
   "id": "245e0c98",
   "metadata": {
    "hidden": true
   },
   "source": [
    "Serve para especificar quais colunas do arquivo CSV devem ser importadas para o DataFrame. O padrão é None, ou seja, todas as colunas serão importadas. O parâmetro deve receber uma lista com os índices ou os nomes das colunas que devem ser importadas para o DataFrame."
   ]
  },
  {
   "cell_type": "code",
   "execution_count": 13,
   "id": "0199a499",
   "metadata": {
    "ExecuteTime": {
     "end_time": "2022-10-16T18:44:41.044940Z",
     "start_time": "2022-10-16T18:44:41.023824Z"
    },
    "hidden": true
   },
   "outputs": [
    {
     "data": {
      "text/html": [
       "<div>\n",
       "<style scoped>\n",
       "    .dataframe tbody tr th:only-of-type {\n",
       "        vertical-align: middle;\n",
       "    }\n",
       "\n",
       "    .dataframe tbody tr th {\n",
       "        vertical-align: top;\n",
       "    }\n",
       "\n",
       "    .dataframe thead th {\n",
       "        text-align: right;\n",
       "    }\n",
       "</style>\n",
       "<table border=\"1\" class=\"dataframe\">\n",
       "  <thead>\n",
       "    <tr style=\"text-align: right;\">\n",
       "      <th></th>\n",
       "      <th>nome</th>\n",
       "      <th>comida favorita</th>\n",
       "    </tr>\n",
       "  </thead>\n",
       "  <tbody>\n",
       "    <tr>\n",
       "      <th>0</th>\n",
       "      <td>huan barros</td>\n",
       "      <td>muita coisa</td>\n",
       "    </tr>\n",
       "    <tr>\n",
       "      <th>1</th>\n",
       "      <td>joão polinario</td>\n",
       "      <td>pizza</td>\n",
       "    </tr>\n",
       "    <tr>\n",
       "      <th>2</th>\n",
       "      <td>ana barretos</td>\n",
       "      <td>lasanha</td>\n",
       "    </tr>\n",
       "    <tr>\n",
       "      <th>3</th>\n",
       "      <td>marcos silva</td>\n",
       "      <td>sorvete</td>\n",
       "    </tr>\n",
       "  </tbody>\n",
       "</table>\n",
       "</div>"
      ],
      "text/plain": [
       "             nome comida favorita\n",
       "0     huan barros     muita coisa\n",
       "1  joão polinario           pizza\n",
       "2    ana barretos         lasanha\n",
       "3    marcos silva         sorvete"
      ]
     },
     "execution_count": 13,
     "metadata": {},
     "output_type": "execute_result"
    }
   ],
   "source": [
    "# Utilizando os índice da coluna\n",
    "\n",
    "df = pd.read_csv('data-base/teste1.csv', usecols=[0, 2]) # É possivel escolher apenas uma coluna, mas o indice\n",
    "                                                         # presica estar dentro de uma lista.\n",
    "df"
   ]
  },
  {
   "cell_type": "code",
   "execution_count": 14,
   "id": "8403a39d",
   "metadata": {
    "ExecuteTime": {
     "end_time": "2022-10-16T18:44:47.603092Z",
     "start_time": "2022-10-16T18:44:47.584366Z"
    },
    "hidden": true
   },
   "outputs": [
    {
     "data": {
      "text/html": [
       "<div>\n",
       "<style scoped>\n",
       "    .dataframe tbody tr th:only-of-type {\n",
       "        vertical-align: middle;\n",
       "    }\n",
       "\n",
       "    .dataframe tbody tr th {\n",
       "        vertical-align: top;\n",
       "    }\n",
       "\n",
       "    .dataframe thead th {\n",
       "        text-align: right;\n",
       "    }\n",
       "</style>\n",
       "<table border=\"1\" class=\"dataframe\">\n",
       "  <thead>\n",
       "    <tr style=\"text-align: right;\">\n",
       "      <th></th>\n",
       "      <th>nome</th>\n",
       "      <th>comida favorita</th>\n",
       "    </tr>\n",
       "  </thead>\n",
       "  <tbody>\n",
       "    <tr>\n",
       "      <th>0</th>\n",
       "      <td>huan barros</td>\n",
       "      <td>muita coisa</td>\n",
       "    </tr>\n",
       "    <tr>\n",
       "      <th>1</th>\n",
       "      <td>joão polinario</td>\n",
       "      <td>pizza</td>\n",
       "    </tr>\n",
       "    <tr>\n",
       "      <th>2</th>\n",
       "      <td>ana barretos</td>\n",
       "      <td>lasanha</td>\n",
       "    </tr>\n",
       "    <tr>\n",
       "      <th>3</th>\n",
       "      <td>marcos silva</td>\n",
       "      <td>sorvete</td>\n",
       "    </tr>\n",
       "  </tbody>\n",
       "</table>\n",
       "</div>"
      ],
      "text/plain": [
       "             nome comida favorita\n",
       "0     huan barros     muita coisa\n",
       "1  joão polinario           pizza\n",
       "2    ana barretos         lasanha\n",
       "3    marcos silva         sorvete"
      ]
     },
     "execution_count": 14,
     "metadata": {},
     "output_type": "execute_result"
    }
   ],
   "source": [
    "# Utilizando os nomes da coluna\n",
    "\n",
    "df = pd.read_csv('data-base/teste1.csv', usecols=['nome', 'comida favorita'])\n",
    "df"
   ]
  },
  {
   "cell_type": "markdown",
   "id": "f196e5f3",
   "metadata": {
    "hidden": true
   },
   "source": [
    "\n",
    "### dtype : Type name or dict of column -> type, optional\n"
   ]
  },
  {
   "cell_type": "markdown",
   "id": "281ffd51",
   "metadata": {
    "hidden": true
   },
   "source": [
    "O parâmetro dtype serve para determinar o tipo de dado que cada coluna deve ter. Ele recebe um dicionário, aonde a chave do dicionário, deve ser nome da coluna e o valor da chave, o tipo de dado que será forçado na coluna."
   ]
  },
  {
   "cell_type": "code",
   "execution_count": 15,
   "id": "a53eb1f9",
   "metadata": {
    "ExecuteTime": {
     "end_time": "2022-10-16T18:44:55.606912Z",
     "start_time": "2022-10-16T18:44:55.590151Z"
    },
    "hidden": true
   },
   "outputs": [
    {
     "data": {
      "text/plain": [
       "nome                string\n",
       "idade              float64\n",
       "comida favorita     string\n",
       "dtype: object"
      ]
     },
     "execution_count": 15,
     "metadata": {},
     "output_type": "execute_result"
    }
   ],
   "source": [
    "df = pd.read_csv('data-base/teste1.csv', dtype={'nome':'string', 'idade':'float', 'comida favorita':'string'})\n",
    "\n",
    "df.dtypes"
   ]
  },
  {
   "cell_type": "markdown",
   "id": "999ba805",
   "metadata": {
    "hidden": true
   },
   "source": [
    "\n",
    "### converters : dict"
   ]
  },
  {
   "cell_type": "markdown",
   "id": "c9641de0",
   "metadata": {
    "hidden": true
   },
   "source": [
    "O parametro converters possiblita que você faça alterações, transformações ou conversões nos valores das colunas do arquivo CSV enquanto importa o próprio CSV. Para isso é necessário passar um dicionário com funções. A chave do dicionário deve conter o nome da coluna e o valor da chave a função. \n",
    "\n",
    "Vamos a um exemplo: o objetivo é, da coluna nome, pegar somente o primeiro nome da pessoa. E da coluna idade, transformar os anos em meses."
   ]
  },
  {
   "cell_type": "code",
   "execution_count": 16,
   "id": "de445ab6",
   "metadata": {
    "ExecuteTime": {
     "end_time": "2022-10-16T18:45:16.760420Z",
     "start_time": "2022-10-16T18:45:16.721397Z"
    },
    "hidden": true
   },
   "outputs": [
    {
     "data": {
      "text/html": [
       "<div>\n",
       "<style scoped>\n",
       "    .dataframe tbody tr th:only-of-type {\n",
       "        vertical-align: middle;\n",
       "    }\n",
       "\n",
       "    .dataframe tbody tr th {\n",
       "        vertical-align: top;\n",
       "    }\n",
       "\n",
       "    .dataframe thead th {\n",
       "        text-align: right;\n",
       "    }\n",
       "</style>\n",
       "<table border=\"1\" class=\"dataframe\">\n",
       "  <thead>\n",
       "    <tr style=\"text-align: right;\">\n",
       "      <th></th>\n",
       "      <th>nome</th>\n",
       "      <th>idade</th>\n",
       "      <th>comida favorita</th>\n",
       "    </tr>\n",
       "  </thead>\n",
       "  <tbody>\n",
       "    <tr>\n",
       "      <th>0</th>\n",
       "      <td>huan barros</td>\n",
       "      <td>18</td>\n",
       "      <td>muita coisa</td>\n",
       "    </tr>\n",
       "    <tr>\n",
       "      <th>1</th>\n",
       "      <td>joão polinario</td>\n",
       "      <td>15</td>\n",
       "      <td>pizza</td>\n",
       "    </tr>\n",
       "    <tr>\n",
       "      <th>2</th>\n",
       "      <td>ana barretos</td>\n",
       "      <td>18</td>\n",
       "      <td>lasanha</td>\n",
       "    </tr>\n",
       "    <tr>\n",
       "      <th>3</th>\n",
       "      <td>marcos silva</td>\n",
       "      <td>13</td>\n",
       "      <td>sorvete</td>\n",
       "    </tr>\n",
       "  </tbody>\n",
       "</table>\n",
       "</div>"
      ],
      "text/plain": [
       "             nome  idade comida favorita\n",
       "0     huan barros     18     muita coisa\n",
       "1  joão polinario     15           pizza\n",
       "2    ana barretos     18         lasanha\n",
       "3    marcos silva     13         sorvete"
      ]
     },
     "metadata": {},
     "output_type": "display_data"
    },
    {
     "data": {
      "text/html": [
       "<div>\n",
       "<style scoped>\n",
       "    .dataframe tbody tr th:only-of-type {\n",
       "        vertical-align: middle;\n",
       "    }\n",
       "\n",
       "    .dataframe tbody tr th {\n",
       "        vertical-align: top;\n",
       "    }\n",
       "\n",
       "    .dataframe thead th {\n",
       "        text-align: right;\n",
       "    }\n",
       "</style>\n",
       "<table border=\"1\" class=\"dataframe\">\n",
       "  <thead>\n",
       "    <tr style=\"text-align: right;\">\n",
       "      <th></th>\n",
       "      <th>nome</th>\n",
       "      <th>idade</th>\n",
       "      <th>comida favorita</th>\n",
       "    </tr>\n",
       "  </thead>\n",
       "  <tbody>\n",
       "    <tr>\n",
       "      <th>0</th>\n",
       "      <td>huan</td>\n",
       "      <td>216</td>\n",
       "      <td>muita coisa</td>\n",
       "    </tr>\n",
       "    <tr>\n",
       "      <th>1</th>\n",
       "      <td>joão</td>\n",
       "      <td>180</td>\n",
       "      <td>pizza</td>\n",
       "    </tr>\n",
       "    <tr>\n",
       "      <th>2</th>\n",
       "      <td>ana</td>\n",
       "      <td>216</td>\n",
       "      <td>lasanha</td>\n",
       "    </tr>\n",
       "    <tr>\n",
       "      <th>3</th>\n",
       "      <td>marcos</td>\n",
       "      <td>156</td>\n",
       "      <td>sorvete</td>\n",
       "    </tr>\n",
       "  </tbody>\n",
       "</table>\n",
       "</div>"
      ],
      "text/plain": [
       "     nome  idade comida favorita\n",
       "0    huan    216     muita coisa\n",
       "1    joão    180           pizza\n",
       "2     ana    216         lasanha\n",
       "3  marcos    156         sorvete"
      ]
     },
     "metadata": {},
     "output_type": "display_data"
    }
   ],
   "source": [
    "# DataFrame importado sem alterações\n",
    "df1 = pd.read_csv( filepath_or_buffer = 'data-base/teste1.csv') \n",
    "display(df1)\n",
    "\n",
    "\n",
    "# DataFrame importado com alterações\n",
    "df2 = pd.read_csv(\n",
    "    \n",
    "    filepath_or_buffer = 'data-base/teste1.csv',\n",
    "    converters = {'nome' : lambda x: x.split()[0],\n",
    "                  'idade': lambda x: int(x)*12}\n",
    ")\n",
    "\n",
    "display(df2)"
   ]
  },
  {
   "cell_type": "markdown",
   "id": "3976a0a8",
   "metadata": {
    "hidden": true
   },
   "source": [
    "\n",
    "### skiprows : list-like, int ou callable"
   ]
  },
  {
   "cell_type": "markdown",
   "id": "fad77fd8",
   "metadata": {
    "hidden": true
   },
   "source": [
    "O skiprows serve para definir quais linhas desde o inicio do arquivo devem ser ignoradas na hora da importação. O skiprows pode receber 3 tipos de valores, um numero (int), uma lista de índices ou uma função. O valor padrão do parâmetro é **None**."
   ]
  },
  {
   "cell_type": "markdown",
   "id": "1517d42c",
   "metadata": {
    "hidden": true
   },
   "source": [
    "Suponha que você queira ignorar as 3 primeiras linhas do arquivo, para isso basta passar ao parâmetro o numero 3. Se você quer ignorar as **n** primeiras linhas do arquivo é só passar o numero **n** ao parâmetro. Quando essa operação é feita, a linha **n+1** se tornará o cabeçalho do dataframe. Veja um exemplo. "
   ]
  },
  {
   "cell_type": "code",
   "execution_count": 18,
   "id": "1d8d7701",
   "metadata": {
    "ExecuteTime": {
     "end_time": "2022-10-16T18:45:33.677187Z",
     "start_time": "2022-10-16T18:45:33.653568Z"
    },
    "hidden": true
   },
   "outputs": [
    {
     "data": {
      "text/html": [
       "<div>\n",
       "<style scoped>\n",
       "    .dataframe tbody tr th:only-of-type {\n",
       "        vertical-align: middle;\n",
       "    }\n",
       "\n",
       "    .dataframe tbody tr th {\n",
       "        vertical-align: top;\n",
       "    }\n",
       "\n",
       "    .dataframe thead th {\n",
       "        text-align: right;\n",
       "    }\n",
       "</style>\n",
       "<table border=\"1\" class=\"dataframe\">\n",
       "  <thead>\n",
       "    <tr style=\"text-align: right;\">\n",
       "      <th></th>\n",
       "      <th>nome</th>\n",
       "      <th>idade</th>\n",
       "      <th>comida favorita</th>\n",
       "    </tr>\n",
       "  </thead>\n",
       "  <tbody>\n",
       "    <tr>\n",
       "      <th>0</th>\n",
       "      <td>huan barros</td>\n",
       "      <td>18</td>\n",
       "      <td>muita coisa</td>\n",
       "    </tr>\n",
       "    <tr>\n",
       "      <th>1</th>\n",
       "      <td>joão polinario</td>\n",
       "      <td>15</td>\n",
       "      <td>pizza</td>\n",
       "    </tr>\n",
       "    <tr>\n",
       "      <th>2</th>\n",
       "      <td>ana barretos</td>\n",
       "      <td>18</td>\n",
       "      <td>lasanha</td>\n",
       "    </tr>\n",
       "    <tr>\n",
       "      <th>3</th>\n",
       "      <td>marcos silva</td>\n",
       "      <td>13</td>\n",
       "      <td>sorvete</td>\n",
       "    </tr>\n",
       "  </tbody>\n",
       "</table>\n",
       "</div>"
      ],
      "text/plain": [
       "             nome  idade comida favorita\n",
       "0     huan barros     18     muita coisa\n",
       "1  joão polinario     15           pizza\n",
       "2    ana barretos     18         lasanha\n",
       "3    marcos silva     13         sorvete"
      ]
     },
     "metadata": {},
     "output_type": "display_data"
    },
    {
     "data": {
      "text/html": [
       "<div>\n",
       "<style scoped>\n",
       "    .dataframe tbody tr th:only-of-type {\n",
       "        vertical-align: middle;\n",
       "    }\n",
       "\n",
       "    .dataframe tbody tr th {\n",
       "        vertical-align: top;\n",
       "    }\n",
       "\n",
       "    .dataframe thead th {\n",
       "        text-align: right;\n",
       "    }\n",
       "</style>\n",
       "<table border=\"1\" class=\"dataframe\">\n",
       "  <thead>\n",
       "    <tr style=\"text-align: right;\">\n",
       "      <th></th>\n",
       "      <th>joão polinario</th>\n",
       "      <th>15</th>\n",
       "      <th>pizza</th>\n",
       "    </tr>\n",
       "  </thead>\n",
       "  <tbody>\n",
       "    <tr>\n",
       "      <th>0</th>\n",
       "      <td>ana barretos</td>\n",
       "      <td>18</td>\n",
       "      <td>lasanha</td>\n",
       "    </tr>\n",
       "    <tr>\n",
       "      <th>1</th>\n",
       "      <td>marcos silva</td>\n",
       "      <td>13</td>\n",
       "      <td>sorvete</td>\n",
       "    </tr>\n",
       "  </tbody>\n",
       "</table>\n",
       "</div>"
      ],
      "text/plain": [
       "  joão polinario  15    pizza\n",
       "0   ana barretos  18  lasanha\n",
       "1   marcos silva  13  sorvete"
      ]
     },
     "metadata": {},
     "output_type": "display_data"
    }
   ],
   "source": [
    "# dataframe original\n",
    "df = pd.read_csv('data-base/teste1.csv')\n",
    "display(df)\n",
    "\n",
    "# dataframe depois de pular as linhas\n",
    "df = pd.read_csv('data-base/teste1.csv', skiprows=2)\n",
    "display(df)"
   ]
  },
  {
   "cell_type": "markdown",
   "id": "ab6d5917",
   "metadata": {
    "hidden": true
   },
   "source": [
    "Caso queira pular linhas específicas, você pode passar uma lista com os índices das linhas a serem ignoradas."
   ]
  },
  {
   "cell_type": "code",
   "execution_count": 20,
   "id": "de1c8499",
   "metadata": {
    "ExecuteTime": {
     "end_time": "2022-10-16T18:45:45.059932Z",
     "start_time": "2022-10-16T18:45:45.029614Z"
    },
    "hidden": true
   },
   "outputs": [
    {
     "data": {
      "text/html": [
       "<div>\n",
       "<style scoped>\n",
       "    .dataframe tbody tr th:only-of-type {\n",
       "        vertical-align: middle;\n",
       "    }\n",
       "\n",
       "    .dataframe tbody tr th {\n",
       "        vertical-align: top;\n",
       "    }\n",
       "\n",
       "    .dataframe thead th {\n",
       "        text-align: right;\n",
       "    }\n",
       "</style>\n",
       "<table border=\"1\" class=\"dataframe\">\n",
       "  <thead>\n",
       "    <tr style=\"text-align: right;\">\n",
       "      <th></th>\n",
       "      <th>nome</th>\n",
       "      <th>idade</th>\n",
       "      <th>comida favorita</th>\n",
       "    </tr>\n",
       "  </thead>\n",
       "  <tbody>\n",
       "    <tr>\n",
       "      <th>0</th>\n",
       "      <td>huan barros</td>\n",
       "      <td>18</td>\n",
       "      <td>muita coisa</td>\n",
       "    </tr>\n",
       "    <tr>\n",
       "      <th>1</th>\n",
       "      <td>joão polinario</td>\n",
       "      <td>15</td>\n",
       "      <td>pizza</td>\n",
       "    </tr>\n",
       "    <tr>\n",
       "      <th>2</th>\n",
       "      <td>ana barretos</td>\n",
       "      <td>18</td>\n",
       "      <td>lasanha</td>\n",
       "    </tr>\n",
       "    <tr>\n",
       "      <th>3</th>\n",
       "      <td>marcos silva</td>\n",
       "      <td>13</td>\n",
       "      <td>sorvete</td>\n",
       "    </tr>\n",
       "  </tbody>\n",
       "</table>\n",
       "</div>"
      ],
      "text/plain": [
       "             nome  idade comida favorita\n",
       "0     huan barros     18     muita coisa\n",
       "1  joão polinario     15           pizza\n",
       "2    ana barretos     18         lasanha\n",
       "3    marcos silva     13         sorvete"
      ]
     },
     "metadata": {},
     "output_type": "display_data"
    },
    {
     "data": {
      "text/html": [
       "<div>\n",
       "<style scoped>\n",
       "    .dataframe tbody tr th:only-of-type {\n",
       "        vertical-align: middle;\n",
       "    }\n",
       "\n",
       "    .dataframe tbody tr th {\n",
       "        vertical-align: top;\n",
       "    }\n",
       "\n",
       "    .dataframe thead th {\n",
       "        text-align: right;\n",
       "    }\n",
       "</style>\n",
       "<table border=\"1\" class=\"dataframe\">\n",
       "  <thead>\n",
       "    <tr style=\"text-align: right;\">\n",
       "      <th></th>\n",
       "      <th>nome</th>\n",
       "      <th>idade</th>\n",
       "      <th>comida favorita</th>\n",
       "    </tr>\n",
       "  </thead>\n",
       "  <tbody>\n",
       "    <tr>\n",
       "      <th>0</th>\n",
       "      <td>joão polinario</td>\n",
       "      <td>15</td>\n",
       "      <td>pizza</td>\n",
       "    </tr>\n",
       "    <tr>\n",
       "      <th>1</th>\n",
       "      <td>marcos silva</td>\n",
       "      <td>13</td>\n",
       "      <td>sorvete</td>\n",
       "    </tr>\n",
       "  </tbody>\n",
       "</table>\n",
       "</div>"
      ],
      "text/plain": [
       "             nome  idade comida favorita\n",
       "0  joão polinario     15           pizza\n",
       "1    marcos silva     13         sorvete"
      ]
     },
     "metadata": {},
     "output_type": "display_data"
    }
   ],
   "source": [
    "# dataframe original\n",
    "df = pd.read_csv('data-base/teste1.csv')\n",
    "display(df)\n",
    "\n",
    "# dataframe depois de pular as linhas\n",
    "df = pd.read_csv('data-base/teste1.csv', skiprows=[1, 3])\n",
    "display(df)"
   ]
  },
  {
   "cell_type": "markdown",
   "id": "9aa1d772",
   "metadata": {
    "hidden": true
   },
   "source": [
    "Também é possivel passar uma função ao parâmetro para pular linhas específcas. Vamos passar uma função lambda que vai ignorar as linhas ímpares. Quando um linha for ímpar a função lambda retorna True indicando que essa linha deve ser ignorada caso ela seja par a função lambda retorna False indicando que esse linha não deve ser ignorada. "
   ]
  },
  {
   "cell_type": "code",
   "execution_count": 21,
   "id": "5e380b82",
   "metadata": {
    "ExecuteTime": {
     "end_time": "2022-10-16T18:45:55.282131Z",
     "start_time": "2022-10-16T18:45:55.248414Z"
    },
    "hidden": true
   },
   "outputs": [
    {
     "data": {
      "text/html": [
       "<div>\n",
       "<style scoped>\n",
       "    .dataframe tbody tr th:only-of-type {\n",
       "        vertical-align: middle;\n",
       "    }\n",
       "\n",
       "    .dataframe tbody tr th {\n",
       "        vertical-align: top;\n",
       "    }\n",
       "\n",
       "    .dataframe thead th {\n",
       "        text-align: right;\n",
       "    }\n",
       "</style>\n",
       "<table border=\"1\" class=\"dataframe\">\n",
       "  <thead>\n",
       "    <tr style=\"text-align: right;\">\n",
       "      <th></th>\n",
       "      <th>nome</th>\n",
       "      <th>idade</th>\n",
       "      <th>comida favorita</th>\n",
       "    </tr>\n",
       "  </thead>\n",
       "  <tbody>\n",
       "    <tr>\n",
       "      <th>0</th>\n",
       "      <td>huan barros</td>\n",
       "      <td>18</td>\n",
       "      <td>muita coisa</td>\n",
       "    </tr>\n",
       "    <tr>\n",
       "      <th>1</th>\n",
       "      <td>joão polinario</td>\n",
       "      <td>15</td>\n",
       "      <td>pizza</td>\n",
       "    </tr>\n",
       "    <tr>\n",
       "      <th>2</th>\n",
       "      <td>ana barretos</td>\n",
       "      <td>18</td>\n",
       "      <td>lasanha</td>\n",
       "    </tr>\n",
       "    <tr>\n",
       "      <th>3</th>\n",
       "      <td>marcos silva</td>\n",
       "      <td>13</td>\n",
       "      <td>sorvete</td>\n",
       "    </tr>\n",
       "  </tbody>\n",
       "</table>\n",
       "</div>"
      ],
      "text/plain": [
       "             nome  idade comida favorita\n",
       "0     huan barros     18     muita coisa\n",
       "1  joão polinario     15           pizza\n",
       "2    ana barretos     18         lasanha\n",
       "3    marcos silva     13         sorvete"
      ]
     },
     "metadata": {},
     "output_type": "display_data"
    },
    {
     "data": {
      "text/html": [
       "<div>\n",
       "<style scoped>\n",
       "    .dataframe tbody tr th:only-of-type {\n",
       "        vertical-align: middle;\n",
       "    }\n",
       "\n",
       "    .dataframe tbody tr th {\n",
       "        vertical-align: top;\n",
       "    }\n",
       "\n",
       "    .dataframe thead th {\n",
       "        text-align: right;\n",
       "    }\n",
       "</style>\n",
       "<table border=\"1\" class=\"dataframe\">\n",
       "  <thead>\n",
       "    <tr style=\"text-align: right;\">\n",
       "      <th></th>\n",
       "      <th>nome</th>\n",
       "      <th>idade</th>\n",
       "      <th>comida favorita</th>\n",
       "    </tr>\n",
       "  </thead>\n",
       "  <tbody>\n",
       "    <tr>\n",
       "      <th>0</th>\n",
       "      <td>joão polinario</td>\n",
       "      <td>15</td>\n",
       "      <td>pizza</td>\n",
       "    </tr>\n",
       "    <tr>\n",
       "      <th>1</th>\n",
       "      <td>marcos silva</td>\n",
       "      <td>13</td>\n",
       "      <td>sorvete</td>\n",
       "    </tr>\n",
       "  </tbody>\n",
       "</table>\n",
       "</div>"
      ],
      "text/plain": [
       "             nome  idade comida favorita\n",
       "0  joão polinario     15           pizza\n",
       "1    marcos silva     13         sorvete"
      ]
     },
     "metadata": {},
     "output_type": "display_data"
    }
   ],
   "source": [
    "# dataframe original\n",
    "df = pd.read_csv('data-base/teste1.csv')\n",
    "display(df)\n",
    "\n",
    "# dataframe depois de pular as linhas\n",
    "df = pd.read_csv('data-base/teste1.csv', skiprows= lambda n: n%2!=0)\n",
    "display(df)"
   ]
  },
  {
   "cell_type": "markdown",
   "id": "0b7a770d",
   "metadata": {
    "hidden": true
   },
   "source": [
    "\n",
    "### skipfooter : int "
   ]
  },
  {
   "cell_type": "markdown",
   "id": "96927c95",
   "metadata": {
    "hidden": true
   },
   "source": [
    "Serve para definir o numero de linhas que devem ser igonaradas na parte inferior do arquivo. O valor padrão é 0. **Não suportado com engine='c'**, ou seja, quando você precisar ignorar algumas linhas da parte inferior do arquivo, terá que usar o engine python ou pyarrow. Vamos a um exemplo:"
   ]
  },
  {
   "cell_type": "code",
   "execution_count": 22,
   "id": "847382df",
   "metadata": {
    "ExecuteTime": {
     "end_time": "2022-10-16T18:46:05.015880Z",
     "start_time": "2022-10-16T18:46:04.981563Z"
    },
    "hidden": true
   },
   "outputs": [
    {
     "data": {
      "text/html": [
       "<div>\n",
       "<style scoped>\n",
       "    .dataframe tbody tr th:only-of-type {\n",
       "        vertical-align: middle;\n",
       "    }\n",
       "\n",
       "    .dataframe tbody tr th {\n",
       "        vertical-align: top;\n",
       "    }\n",
       "\n",
       "    .dataframe thead th {\n",
       "        text-align: right;\n",
       "    }\n",
       "</style>\n",
       "<table border=\"1\" class=\"dataframe\">\n",
       "  <thead>\n",
       "    <tr style=\"text-align: right;\">\n",
       "      <th></th>\n",
       "      <th>nome</th>\n",
       "      <th>idade</th>\n",
       "      <th>comida favorita</th>\n",
       "    </tr>\n",
       "  </thead>\n",
       "  <tbody>\n",
       "    <tr>\n",
       "      <th>0</th>\n",
       "      <td>huan barros</td>\n",
       "      <td>18</td>\n",
       "      <td>muita coisa</td>\n",
       "    </tr>\n",
       "    <tr>\n",
       "      <th>1</th>\n",
       "      <td>joão polinario</td>\n",
       "      <td>15</td>\n",
       "      <td>pizza</td>\n",
       "    </tr>\n",
       "    <tr>\n",
       "      <th>2</th>\n",
       "      <td>ana barretos</td>\n",
       "      <td>18</td>\n",
       "      <td>lasanha</td>\n",
       "    </tr>\n",
       "    <tr>\n",
       "      <th>3</th>\n",
       "      <td>marcos silva</td>\n",
       "      <td>13</td>\n",
       "      <td>sorvete</td>\n",
       "    </tr>\n",
       "  </tbody>\n",
       "</table>\n",
       "</div>"
      ],
      "text/plain": [
       "             nome  idade comida favorita\n",
       "0     huan barros     18     muita coisa\n",
       "1  joão polinario     15           pizza\n",
       "2    ana barretos     18         lasanha\n",
       "3    marcos silva     13         sorvete"
      ]
     },
     "metadata": {},
     "output_type": "display_data"
    },
    {
     "data": {
      "text/html": [
       "<div>\n",
       "<style scoped>\n",
       "    .dataframe tbody tr th:only-of-type {\n",
       "        vertical-align: middle;\n",
       "    }\n",
       "\n",
       "    .dataframe tbody tr th {\n",
       "        vertical-align: top;\n",
       "    }\n",
       "\n",
       "    .dataframe thead th {\n",
       "        text-align: right;\n",
       "    }\n",
       "</style>\n",
       "<table border=\"1\" class=\"dataframe\">\n",
       "  <thead>\n",
       "    <tr style=\"text-align: right;\">\n",
       "      <th></th>\n",
       "      <th>nome</th>\n",
       "      <th>idade</th>\n",
       "      <th>comida favorita</th>\n",
       "    </tr>\n",
       "  </thead>\n",
       "  <tbody>\n",
       "    <tr>\n",
       "      <th>0</th>\n",
       "      <td>huan barros</td>\n",
       "      <td>18</td>\n",
       "      <td>muita coisa</td>\n",
       "    </tr>\n",
       "    <tr>\n",
       "      <th>1</th>\n",
       "      <td>joão polinario</td>\n",
       "      <td>15</td>\n",
       "      <td>pizza</td>\n",
       "    </tr>\n",
       "    <tr>\n",
       "      <th>2</th>\n",
       "      <td>ana barretos</td>\n",
       "      <td>18</td>\n",
       "      <td>lasanha</td>\n",
       "    </tr>\n",
       "  </tbody>\n",
       "</table>\n",
       "</div>"
      ],
      "text/plain": [
       "             nome  idade comida favorita\n",
       "0     huan barros     18     muita coisa\n",
       "1  joão polinario     15           pizza\n",
       "2    ana barretos     18         lasanha"
      ]
     },
     "metadata": {},
     "output_type": "display_data"
    }
   ],
   "source": [
    "# dataframe original\n",
    "df = pd.read_csv('data-base/teste1.csv')\n",
    "display(df)\n",
    "\n",
    "# dataframe depois de pular as linhas\n",
    "df = pd.read_csv('data-base/teste1.csv',engine='python' ,skipfooter = 1)\n",
    "display(df)"
   ]
  },
  {
   "cell_type": "markdown",
   "id": "ac81e4a3",
   "metadata": {
    "hidden": true
   },
   "source": [
    "\n",
    "### nrows : int"
   ]
  },
  {
   "cell_type": "markdown",
   "id": "6738fb37",
   "metadata": {
    "hidden": true
   },
   "source": [
    "Numero de linhas do arquivo a serem lidas, o cabeçário vem incluso por padrão. Útil para ler pedaçõs de arquivos grandes. O valor padrão do parâmetro é None.\n",
    "\n",
    "Obs: Se você colocar um numero maior que o numero de linhas existente no arquivo não acontece nada, o pandas simplismente ler o arquivo todo."
   ]
  },
  {
   "cell_type": "code",
   "execution_count": 23,
   "id": "1f246652",
   "metadata": {
    "ExecuteTime": {
     "end_time": "2022-10-16T18:46:14.922480Z",
     "start_time": "2022-10-16T18:46:14.889380Z"
    },
    "hidden": true
   },
   "outputs": [
    {
     "data": {
      "text/html": [
       "<div>\n",
       "<style scoped>\n",
       "    .dataframe tbody tr th:only-of-type {\n",
       "        vertical-align: middle;\n",
       "    }\n",
       "\n",
       "    .dataframe tbody tr th {\n",
       "        vertical-align: top;\n",
       "    }\n",
       "\n",
       "    .dataframe thead th {\n",
       "        text-align: right;\n",
       "    }\n",
       "</style>\n",
       "<table border=\"1\" class=\"dataframe\">\n",
       "  <thead>\n",
       "    <tr style=\"text-align: right;\">\n",
       "      <th></th>\n",
       "      <th>nome</th>\n",
       "      <th>idade</th>\n",
       "      <th>comida favorita</th>\n",
       "    </tr>\n",
       "  </thead>\n",
       "  <tbody>\n",
       "    <tr>\n",
       "      <th>0</th>\n",
       "      <td>huan barros</td>\n",
       "      <td>18</td>\n",
       "      <td>muita coisa</td>\n",
       "    </tr>\n",
       "    <tr>\n",
       "      <th>1</th>\n",
       "      <td>joão polinario</td>\n",
       "      <td>15</td>\n",
       "      <td>pizza</td>\n",
       "    </tr>\n",
       "    <tr>\n",
       "      <th>2</th>\n",
       "      <td>ana barretos</td>\n",
       "      <td>18</td>\n",
       "      <td>lasanha</td>\n",
       "    </tr>\n",
       "    <tr>\n",
       "      <th>3</th>\n",
       "      <td>marcos silva</td>\n",
       "      <td>13</td>\n",
       "      <td>sorvete</td>\n",
       "    </tr>\n",
       "  </tbody>\n",
       "</table>\n",
       "</div>"
      ],
      "text/plain": [
       "             nome  idade comida favorita\n",
       "0     huan barros     18     muita coisa\n",
       "1  joão polinario     15           pizza\n",
       "2    ana barretos     18         lasanha\n",
       "3    marcos silva     13         sorvete"
      ]
     },
     "metadata": {},
     "output_type": "display_data"
    },
    {
     "data": {
      "text/html": [
       "<div>\n",
       "<style scoped>\n",
       "    .dataframe tbody tr th:only-of-type {\n",
       "        vertical-align: middle;\n",
       "    }\n",
       "\n",
       "    .dataframe tbody tr th {\n",
       "        vertical-align: top;\n",
       "    }\n",
       "\n",
       "    .dataframe thead th {\n",
       "        text-align: right;\n",
       "    }\n",
       "</style>\n",
       "<table border=\"1\" class=\"dataframe\">\n",
       "  <thead>\n",
       "    <tr style=\"text-align: right;\">\n",
       "      <th></th>\n",
       "      <th>nome</th>\n",
       "      <th>idade</th>\n",
       "      <th>comida favorita</th>\n",
       "    </tr>\n",
       "  </thead>\n",
       "  <tbody>\n",
       "    <tr>\n",
       "      <th>0</th>\n",
       "      <td>huan barros</td>\n",
       "      <td>18</td>\n",
       "      <td>muita coisa</td>\n",
       "    </tr>\n",
       "    <tr>\n",
       "      <th>1</th>\n",
       "      <td>joão polinario</td>\n",
       "      <td>15</td>\n",
       "      <td>pizza</td>\n",
       "    </tr>\n",
       "  </tbody>\n",
       "</table>\n",
       "</div>"
      ],
      "text/plain": [
       "             nome  idade comida favorita\n",
       "0     huan barros     18     muita coisa\n",
       "1  joão polinario     15           pizza"
      ]
     },
     "metadata": {},
     "output_type": "display_data"
    }
   ],
   "source": [
    "# dataframe original\n",
    "df = pd.read_csv('data-base/teste1.csv')\n",
    "display(df)\n",
    "\n",
    "# dataframe depois de pular as linhas\n",
    "df = pd.read_csv('data-base/teste1.csv',nrows=2)\n",
    "display(df)"
   ]
  },
  {
   "cell_type": "markdown",
   "id": "5a320c26",
   "metadata": {
    "hidden": true
   },
   "source": [
    "\n",
    "### na_values : scalar, str, list-like ou dict"
   ]
  },
  {
   "cell_type": "markdown",
   "id": "465cc346",
   "metadata": {
    "hidden": true
   },
   "source": [
    "\n",
    "Por padrão, os seguintes valores são interpretados como nulo: \n",
    "\n",
    "**'NaN'** ﾠﾠ**'n /a'**ﾠﾠﾠ**'nan'**ﾠﾠﾠ**'null'**<br>\n",
    "\n",
    "**''**ﾠﾠﾠﾠ**'#N/A'**ﾠﾠ**'#N/AN/A'**ﾠﾠ**'#NA'**<br>\n",
    "\n",
    "**'-1.#IND'**ﾠﾠ**'-1.#QNAN'**ﾠﾠﾠ**'-NaN'**\n",
    "\n",
    "**'-nan'**ﾠﾠﾠ**'1.#IND'**ﾠﾠﾠﾠ**'1.#QNAN'**\n",
    "\n",
    "**'N/A'**ﾠﾠﾠﾠ**'NA'**ﾠﾠﾠﾠﾠﾠ**'NULL'**\n",
    "\n",
    "<br>\n",
    "\n",
    "Com o parâmetro na_values você pode definir outros valores para serem considerado como nulos no momento da importação do arquivo. "
   ]
  },
  {
   "cell_type": "markdown",
   "id": "26f9580c",
   "metadata": {
    "hidden": true
   },
   "source": [
    "É possivel passar como valor para ao parâmetro um dicionário, aonde a chave do dicionário deve ser o nome da coluna e o valor da chave deve ser os valores que deverão ser considerados nulos, pode ser uma str ou uma lista de str."
   ]
  },
  {
   "cell_type": "code",
   "execution_count": 24,
   "id": "3451e1d5",
   "metadata": {
    "ExecuteTime": {
     "end_time": "2022-10-16T18:46:24.219118Z",
     "start_time": "2022-10-16T18:46:24.195676Z"
    },
    "hidden": true
   },
   "outputs": [
    {
     "data": {
      "text/html": [
       "<div>\n",
       "<style scoped>\n",
       "    .dataframe tbody tr th:only-of-type {\n",
       "        vertical-align: middle;\n",
       "    }\n",
       "\n",
       "    .dataframe tbody tr th {\n",
       "        vertical-align: top;\n",
       "    }\n",
       "\n",
       "    .dataframe thead th {\n",
       "        text-align: right;\n",
       "    }\n",
       "</style>\n",
       "<table border=\"1\" class=\"dataframe\">\n",
       "  <thead>\n",
       "    <tr style=\"text-align: right;\">\n",
       "      <th></th>\n",
       "      <th>nome</th>\n",
       "      <th>idade</th>\n",
       "      <th>comida favorita</th>\n",
       "    </tr>\n",
       "  </thead>\n",
       "  <tbody>\n",
       "    <tr>\n",
       "      <th>0</th>\n",
       "      <td>huan barros</td>\n",
       "      <td>NaN</td>\n",
       "      <td>muita coisa</td>\n",
       "    </tr>\n",
       "    <tr>\n",
       "      <th>1</th>\n",
       "      <td>joão polinario</td>\n",
       "      <td>15.0</td>\n",
       "      <td>NaN</td>\n",
       "    </tr>\n",
       "    <tr>\n",
       "      <th>2</th>\n",
       "      <td>ana barretos</td>\n",
       "      <td>NaN</td>\n",
       "      <td>lasanha</td>\n",
       "    </tr>\n",
       "    <tr>\n",
       "      <th>3</th>\n",
       "      <td>marcos silva</td>\n",
       "      <td>13.0</td>\n",
       "      <td>NaN</td>\n",
       "    </tr>\n",
       "  </tbody>\n",
       "</table>\n",
       "</div>"
      ],
      "text/plain": [
       "             nome  idade comida favorita\n",
       "0     huan barros    NaN     muita coisa\n",
       "1  joão polinario   15.0             NaN\n",
       "2    ana barretos    NaN         lasanha\n",
       "3    marcos silva   13.0             NaN"
      ]
     },
     "execution_count": 24,
     "metadata": {},
     "output_type": "execute_result"
    }
   ],
   "source": [
    "df = pd.read_csv(\n",
    "    \n",
    "    filepath_or_buffer='data-base/teste1.csv', \n",
    "    na_values= {'idade' : '18',\n",
    "                'comida favorita' : ['pizza', 'sorvete']}\n",
    ")\n",
    "\n",
    "df"
   ]
  },
  {
   "cell_type": "markdown",
   "id": "8b07e4d0",
   "metadata": {
    "hidden": true
   },
   "source": [
    "Também é possivel definir quais valores devem ser considerados nulos sem filtrar pela coluna, ou seja, não importa a coluna que o valor estiver ele será considerado como nulo. Basta passar ao parâmetro uma str ou uma lista de str, com os valores que deverão ser considerados nulos. "
   ]
  },
  {
   "cell_type": "code",
   "execution_count": 25,
   "id": "78468baf",
   "metadata": {
    "ExecuteTime": {
     "end_time": "2022-10-16T18:46:30.932607Z",
     "start_time": "2022-10-16T18:46:30.906530Z"
    },
    "hidden": true
   },
   "outputs": [
    {
     "data": {
      "text/html": [
       "<div>\n",
       "<style scoped>\n",
       "    .dataframe tbody tr th:only-of-type {\n",
       "        vertical-align: middle;\n",
       "    }\n",
       "\n",
       "    .dataframe tbody tr th {\n",
       "        vertical-align: top;\n",
       "    }\n",
       "\n",
       "    .dataframe thead th {\n",
       "        text-align: right;\n",
       "    }\n",
       "</style>\n",
       "<table border=\"1\" class=\"dataframe\">\n",
       "  <thead>\n",
       "    <tr style=\"text-align: right;\">\n",
       "      <th></th>\n",
       "      <th>nome</th>\n",
       "      <th>idade</th>\n",
       "      <th>comida favorita</th>\n",
       "    </tr>\n",
       "  </thead>\n",
       "  <tbody>\n",
       "    <tr>\n",
       "      <th>0</th>\n",
       "      <td>huan barros</td>\n",
       "      <td>NaN</td>\n",
       "      <td>muita coisa</td>\n",
       "    </tr>\n",
       "    <tr>\n",
       "      <th>1</th>\n",
       "      <td>joão polinario</td>\n",
       "      <td>15.0</td>\n",
       "      <td>pizza</td>\n",
       "    </tr>\n",
       "    <tr>\n",
       "      <th>2</th>\n",
       "      <td>ana barretos</td>\n",
       "      <td>NaN</td>\n",
       "      <td>lasanha</td>\n",
       "    </tr>\n",
       "    <tr>\n",
       "      <th>3</th>\n",
       "      <td>marcos silva</td>\n",
       "      <td>13.0</td>\n",
       "      <td>NaN</td>\n",
       "    </tr>\n",
       "  </tbody>\n",
       "</table>\n",
       "</div>"
      ],
      "text/plain": [
       "             nome  idade comida favorita\n",
       "0     huan barros    NaN     muita coisa\n",
       "1  joão polinario   15.0           pizza\n",
       "2    ana barretos    NaN         lasanha\n",
       "3    marcos silva   13.0             NaN"
      ]
     },
     "execution_count": 25,
     "metadata": {},
     "output_type": "execute_result"
    }
   ],
   "source": [
    "df = pd.read_csv(\n",
    "    \n",
    "    filepath_or_buffer='data-base/teste1.csv', \n",
    "    na_values= ['18', 'sorvete']\n",
    ")\n",
    "\n",
    "df"
   ]
  },
  {
   "cell_type": "markdown",
   "id": "01de6921",
   "metadata": {
    "hidden": true
   },
   "source": [
    "\n",
    "### skip_blank_lines : bool, padrão True"
   ]
  },
  {
   "cell_type": "markdown",
   "id": "ba610546",
   "metadata": {
    "hidden": true
   },
   "source": [
    "Se o valor passado ao parâmetro for True, as linhas em branco serão puldas em vez de interpretadas como valores NaN."
   ]
  },
  {
   "cell_type": "code",
   "execution_count": 26,
   "id": "92feceeb",
   "metadata": {
    "ExecuteTime": {
     "end_time": "2022-10-16T18:46:37.335191Z",
     "start_time": "2022-10-16T18:46:37.312985Z"
    },
    "hidden": true
   },
   "outputs": [
    {
     "data": {
      "text/html": [
       "<div>\n",
       "<style scoped>\n",
       "    .dataframe tbody tr th:only-of-type {\n",
       "        vertical-align: middle;\n",
       "    }\n",
       "\n",
       "    .dataframe tbody tr th {\n",
       "        vertical-align: top;\n",
       "    }\n",
       "\n",
       "    .dataframe thead th {\n",
       "        text-align: right;\n",
       "    }\n",
       "</style>\n",
       "<table border=\"1\" class=\"dataframe\">\n",
       "  <thead>\n",
       "    <tr style=\"text-align: right;\">\n",
       "      <th></th>\n",
       "      <th>nome</th>\n",
       "      <th>idade</th>\n",
       "      <th>comida favorita</th>\n",
       "    </tr>\n",
       "  </thead>\n",
       "  <tbody>\n",
       "    <tr>\n",
       "      <th>0</th>\n",
       "      <td>NaN</td>\n",
       "      <td>NaN</td>\n",
       "      <td>NaN</td>\n",
       "    </tr>\n",
       "    <tr>\n",
       "      <th>1</th>\n",
       "      <td>huan barros</td>\n",
       "      <td>18.0</td>\n",
       "      <td>muita coisa</td>\n",
       "    </tr>\n",
       "    <tr>\n",
       "      <th>2</th>\n",
       "      <td>joão polinario</td>\n",
       "      <td>15.0</td>\n",
       "      <td>pizza</td>\n",
       "    </tr>\n",
       "    <tr>\n",
       "      <th>3</th>\n",
       "      <td>ana barretos</td>\n",
       "      <td>17.0</td>\n",
       "      <td>lasanha</td>\n",
       "    </tr>\n",
       "    <tr>\n",
       "      <th>4</th>\n",
       "      <td>marcos silva</td>\n",
       "      <td>13.0</td>\n",
       "      <td>sorvete</td>\n",
       "    </tr>\n",
       "  </tbody>\n",
       "</table>\n",
       "</div>"
      ],
      "text/plain": [
       "             nome  idade comida favorita\n",
       "0             NaN    NaN             NaN\n",
       "1     huan barros   18.0     muita coisa\n",
       "2  joão polinario   15.0           pizza\n",
       "3    ana barretos   17.0         lasanha\n",
       "4    marcos silva   13.0         sorvete"
      ]
     },
     "execution_count": 26,
     "metadata": {},
     "output_type": "execute_result"
    }
   ],
   "source": [
    "# sem desconsiderar as linhas brancas\n",
    "df = pd.read_csv(\n",
    "    \n",
    "    filepath_or_buffer='data-base/teste4.csv', \n",
    "    skip_blank_lines=False\n",
    ")\n",
    "\n",
    "df"
   ]
  },
  {
   "cell_type": "code",
   "execution_count": null,
   "id": "c0c46afc",
   "metadata": {
    "ExecuteTime": {
     "end_time": "2022-10-16T17:43:41.097850Z",
     "start_time": "2022-10-16T17:43:41.097834Z"
    },
    "hidden": true
   },
   "outputs": [],
   "source": [
    "# desconsiderando as linhas brancas\n",
    "df = pd.read_csv(\n",
    "    \n",
    "    filepath_or_buffer='Data base/teste4.csv', \n",
    "    skip_blank_lines=True\n",
    ")\n",
    "\n",
    "df"
   ]
  },
  {
   "cell_type": "markdown",
   "id": "fce7e213",
   "metadata": {
    "hidden": true
   },
   "source": [
    "\n",
    "## Dicas\n",
    "\n",
    "- Antes de carregar o arquivo CSV em um quadro de dados do pandas, sempre dê uma olhada no arquivo. Ele o ajudará a estimar quais colunas você deve importar e determinar quais tipos de dados suas colunas devem ter.\n",
    "\n",
    "\n",
    "- Você também deve procurar a contagem total de linhas do conjunto de dados. Um sistema com 4 GB de RAM pode não consegue carregar 7 a 8 milhões de linhas."
   ]
  },
  {
   "cell_type": "markdown",
   "id": "3be4cf4e",
   "metadata": {
    "heading_collapsed": true,
    "hidden": true
   },
   "source": [
    "## 👾 <font size=5>Visualisando um dataframe<font>"
   ]
  },
  {
   "cell_type": "markdown",
   "id": "9b72ab45",
   "metadata": {
    "hidden": true
   },
   "source": [
    "Neste tópico iremos aprender algumas formas de visualisar um dataframe. A baixo segue alguns métodos que iremos estudar."
   ]
  },
  {
   "cell_type": "markdown",
   "id": "c3864d53",
   "metadata": {
    "hidden": true
   },
   "source": [
    "- print(df)\n",
    "- display(df)\n",
    "- DataFrame.head( )\n",
    "- DataFrame.tail( )"
   ]
  },
  {
   "cell_type": "markdown",
   "id": "e5188289",
   "metadata": {
    "heading_collapsed": true,
    "hidden": true
   },
   "source": [
    "### 🐥 print( )"
   ]
  },
  {
   "cell_type": "markdown",
   "id": "22813fa8",
   "metadata": {
    "hidden": true
   },
   "source": [
    "Uma das maneiras mais simples de ver um dataframe. Por ser tão simples não é reconmendável ustilizá-lo, estou apresentando ele apenas para dizer que é possivel."
   ]
  },
  {
   "cell_type": "code",
   "execution_count": 27,
   "id": "5b4fd484",
   "metadata": {
    "ExecuteTime": {
     "end_time": "2022-10-16T18:46:53.551541Z",
     "start_time": "2022-10-16T18:46:53.537433Z"
    },
    "hidden": true
   },
   "outputs": [
    {
     "name": "stdout",
     "output_type": "stream",
     "text": [
      "             nome  idade comida favorita\n",
      "0     huan barros     18     muita coisa\n",
      "1  joão polinario     15           pizza\n",
      "2    ana barretos     18         lasanha\n",
      "3    marcos silva     13         sorvete\n"
     ]
    }
   ],
   "source": [
    "df = pd.read_csv(filepath_or_buffer='data-base/teste1.csv')\n",
    "\n",
    "print(df) # Apenas coloque o nome do dataframe dentro da função"
   ]
  },
  {
   "cell_type": "markdown",
   "id": "5fed1334",
   "metadata": {
    "heading_collapsed": true,
    "hidden": true
   },
   "source": [
    "### 🐥 display( )"
   ]
  },
  {
   "cell_type": "markdown",
   "id": "f0dc17b9",
   "metadata": {
    "ExecuteTime": {
     "end_time": "2022-10-13T22:12:23.578382Z",
     "start_time": "2022-10-13T22:12:23.571922Z"
    },
    "hidden": true
   },
   "source": [
    "A função display pode-se dizer que é um print( ) melhorado. Essa função mostra o dataframe em um formato de tabela beem agrádavel."
   ]
  },
  {
   "cell_type": "code",
   "execution_count": 28,
   "id": "8d948800",
   "metadata": {
    "ExecuteTime": {
     "end_time": "2022-10-16T18:47:05.505508Z",
     "start_time": "2022-10-16T18:47:05.485521Z"
    },
    "hidden": true
   },
   "outputs": [
    {
     "data": {
      "text/html": [
       "<div>\n",
       "<style scoped>\n",
       "    .dataframe tbody tr th:only-of-type {\n",
       "        vertical-align: middle;\n",
       "    }\n",
       "\n",
       "    .dataframe tbody tr th {\n",
       "        vertical-align: top;\n",
       "    }\n",
       "\n",
       "    .dataframe thead th {\n",
       "        text-align: right;\n",
       "    }\n",
       "</style>\n",
       "<table border=\"1\" class=\"dataframe\">\n",
       "  <thead>\n",
       "    <tr style=\"text-align: right;\">\n",
       "      <th></th>\n",
       "      <th>nome</th>\n",
       "      <th>idade</th>\n",
       "      <th>comida favorita</th>\n",
       "    </tr>\n",
       "  </thead>\n",
       "  <tbody>\n",
       "    <tr>\n",
       "      <th>0</th>\n",
       "      <td>huan barros</td>\n",
       "      <td>18</td>\n",
       "      <td>muita coisa</td>\n",
       "    </tr>\n",
       "    <tr>\n",
       "      <th>1</th>\n",
       "      <td>joão polinario</td>\n",
       "      <td>15</td>\n",
       "      <td>pizza</td>\n",
       "    </tr>\n",
       "    <tr>\n",
       "      <th>2</th>\n",
       "      <td>ana barretos</td>\n",
       "      <td>18</td>\n",
       "      <td>lasanha</td>\n",
       "    </tr>\n",
       "    <tr>\n",
       "      <th>3</th>\n",
       "      <td>marcos silva</td>\n",
       "      <td>13</td>\n",
       "      <td>sorvete</td>\n",
       "    </tr>\n",
       "  </tbody>\n",
       "</table>\n",
       "</div>"
      ],
      "text/plain": [
       "             nome  idade comida favorita\n",
       "0     huan barros     18     muita coisa\n",
       "1  joão polinario     15           pizza\n",
       "2    ana barretos     18         lasanha\n",
       "3    marcos silva     13         sorvete"
      ]
     },
     "metadata": {},
     "output_type": "display_data"
    }
   ],
   "source": [
    "df = pd.read_csv(filepath_or_buffer='data-base/teste1.csv')\n",
    "\n",
    "display(df)"
   ]
  },
  {
   "cell_type": "markdown",
   "id": "521bf45b",
   "metadata": {
    "heading_collapsed": true,
    "hidden": true
   },
   "source": [
    "### 🐥 DataFrame.head( )"
   ]
  },
  {
   "cell_type": "markdown",
   "id": "f5d6b4e3",
   "metadata": {
    "hidden": true
   },
   "source": [
    "O metodo head( ) serve para visualizas as n primeiras linhas de um dataframe."
   ]
  },
  {
   "cell_type": "markdown",
   "id": "dda026b5",
   "metadata": {
    "hidden": true
   },
   "source": [
    "\n",
    "### Parametros"
   ]
  },
  {
   "cell_type": "markdown",
   "id": "0ffa93df",
   "metadata": {
    "hidden": true
   },
   "source": [
    "Esse método recebe apenas 1 parâmetro, veja."
   ]
  },
  {
   "cell_type": "markdown",
   "id": "9895b105",
   "metadata": {
    "hidden": true
   },
   "source": [
    "\n",
    "### n : int"
   ]
  },
  {
   "cell_type": "markdown",
   "id": "5c16d1cf",
   "metadata": {
    "hidden": true
   },
   "source": [
    "Esse parâmetro serve para definir a quantidade de linhas que você deseja visualisar. Veja o exemplo abaixo."
   ]
  },
  {
   "cell_type": "code",
   "execution_count": 29,
   "id": "be6c51cb",
   "metadata": {
    "ExecuteTime": {
     "end_time": "2022-10-16T18:47:15.696083Z",
     "start_time": "2022-10-16T18:47:15.666573Z"
    },
    "hidden": true
   },
   "outputs": [
    {
     "data": {
      "text/html": [
       "<div>\n",
       "<style scoped>\n",
       "    .dataframe tbody tr th:only-of-type {\n",
       "        vertical-align: middle;\n",
       "    }\n",
       "\n",
       "    .dataframe tbody tr th {\n",
       "        vertical-align: top;\n",
       "    }\n",
       "\n",
       "    .dataframe thead th {\n",
       "        text-align: right;\n",
       "    }\n",
       "</style>\n",
       "<table border=\"1\" class=\"dataframe\">\n",
       "  <thead>\n",
       "    <tr style=\"text-align: right;\">\n",
       "      <th></th>\n",
       "      <th>nome</th>\n",
       "      <th>idade</th>\n",
       "      <th>comida favorita</th>\n",
       "    </tr>\n",
       "  </thead>\n",
       "  <tbody>\n",
       "    <tr>\n",
       "      <th>0</th>\n",
       "      <td>huan barros</td>\n",
       "      <td>18</td>\n",
       "      <td>muita coisa</td>\n",
       "    </tr>\n",
       "    <tr>\n",
       "      <th>1</th>\n",
       "      <td>joão polinario</td>\n",
       "      <td>15</td>\n",
       "      <td>pizza</td>\n",
       "    </tr>\n",
       "    <tr>\n",
       "      <th>2</th>\n",
       "      <td>ana barretos</td>\n",
       "      <td>18</td>\n",
       "      <td>lasanha</td>\n",
       "    </tr>\n",
       "    <tr>\n",
       "      <th>3</th>\n",
       "      <td>marcos silva</td>\n",
       "      <td>13</td>\n",
       "      <td>sorvete</td>\n",
       "    </tr>\n",
       "  </tbody>\n",
       "</table>\n",
       "</div>"
      ],
      "text/plain": [
       "             nome  idade comida favorita\n",
       "0     huan barros     18     muita coisa\n",
       "1  joão polinario     15           pizza\n",
       "2    ana barretos     18         lasanha\n",
       "3    marcos silva     13         sorvete"
      ]
     },
     "metadata": {},
     "output_type": "display_data"
    },
    {
     "data": {
      "text/html": [
       "<div>\n",
       "<style scoped>\n",
       "    .dataframe tbody tr th:only-of-type {\n",
       "        vertical-align: middle;\n",
       "    }\n",
       "\n",
       "    .dataframe tbody tr th {\n",
       "        vertical-align: top;\n",
       "    }\n",
       "\n",
       "    .dataframe thead th {\n",
       "        text-align: right;\n",
       "    }\n",
       "</style>\n",
       "<table border=\"1\" class=\"dataframe\">\n",
       "  <thead>\n",
       "    <tr style=\"text-align: right;\">\n",
       "      <th></th>\n",
       "      <th>nome</th>\n",
       "      <th>idade</th>\n",
       "      <th>comida favorita</th>\n",
       "    </tr>\n",
       "  </thead>\n",
       "  <tbody>\n",
       "    <tr>\n",
       "      <th>0</th>\n",
       "      <td>huan barros</td>\n",
       "      <td>18</td>\n",
       "      <td>muita coisa</td>\n",
       "    </tr>\n",
       "    <tr>\n",
       "      <th>1</th>\n",
       "      <td>joão polinario</td>\n",
       "      <td>15</td>\n",
       "      <td>pizza</td>\n",
       "    </tr>\n",
       "  </tbody>\n",
       "</table>\n",
       "</div>"
      ],
      "text/plain": [
       "             nome  idade comida favorita\n",
       "0     huan barros     18     muita coisa\n",
       "1  joão polinario     15           pizza"
      ]
     },
     "metadata": {},
     "output_type": "display_data"
    }
   ],
   "source": [
    "df = pd.read_csv(filepath_or_buffer='data-base/teste1.csv')\n",
    "\n",
    "# todo o dataframe\n",
    "display(df)\n",
    "\n",
    "# apenas as 2 primeiras linhas\n",
    "display(df.head(n=2))"
   ]
  },
  {
   "cell_type": "markdown",
   "id": "3fd81c20",
   "metadata": {
    "heading_collapsed": true,
    "hidden": true
   },
   "source": [
    "### 🐥 DataFrame.tail( )"
   ]
  },
  {
   "cell_type": "markdown",
   "id": "99cd5a06",
   "metadata": {
    "hidden": true
   },
   "source": [
    "Esse parâmetro é o contrário do head(), basicamente ele serve para ver as ultimas n linhas de um dataframe."
   ]
  },
  {
   "cell_type": "markdown",
   "id": "076b3758",
   "metadata": {
    "hidden": true
   },
   "source": [
    "\n",
    "### Parametros"
   ]
  },
  {
   "cell_type": "markdown",
   "id": "b1633798",
   "metadata": {
    "hidden": true
   },
   "source": [
    "Esse método recebe apenas 1 parâmetro, veja."
   ]
  },
  {
   "cell_type": "markdown",
   "id": "d1c08f5d",
   "metadata": {
    "hidden": true
   },
   "source": [
    "\n",
    "### n : int"
   ]
  },
  {
   "cell_type": "markdown",
   "id": "ee25d339",
   "metadata": {
    "hidden": true
   },
   "source": [
    "Esse parâmetro serve para definir a quantidade de linhas que você deseja visualisar. Veja o exemplo abaixo."
   ]
  },
  {
   "cell_type": "code",
   "execution_count": 30,
   "id": "8845bf95",
   "metadata": {
    "ExecuteTime": {
     "end_time": "2022-10-16T18:47:25.515466Z",
     "start_time": "2022-10-16T18:47:25.487320Z"
    },
    "hidden": true
   },
   "outputs": [
    {
     "data": {
      "text/html": [
       "<div>\n",
       "<style scoped>\n",
       "    .dataframe tbody tr th:only-of-type {\n",
       "        vertical-align: middle;\n",
       "    }\n",
       "\n",
       "    .dataframe tbody tr th {\n",
       "        vertical-align: top;\n",
       "    }\n",
       "\n",
       "    .dataframe thead th {\n",
       "        text-align: right;\n",
       "    }\n",
       "</style>\n",
       "<table border=\"1\" class=\"dataframe\">\n",
       "  <thead>\n",
       "    <tr style=\"text-align: right;\">\n",
       "      <th></th>\n",
       "      <th>nome</th>\n",
       "      <th>idade</th>\n",
       "      <th>comida favorita</th>\n",
       "    </tr>\n",
       "  </thead>\n",
       "  <tbody>\n",
       "    <tr>\n",
       "      <th>0</th>\n",
       "      <td>huan barros</td>\n",
       "      <td>18</td>\n",
       "      <td>muita coisa</td>\n",
       "    </tr>\n",
       "    <tr>\n",
       "      <th>1</th>\n",
       "      <td>joão polinario</td>\n",
       "      <td>15</td>\n",
       "      <td>pizza</td>\n",
       "    </tr>\n",
       "    <tr>\n",
       "      <th>2</th>\n",
       "      <td>ana barretos</td>\n",
       "      <td>18</td>\n",
       "      <td>lasanha</td>\n",
       "    </tr>\n",
       "    <tr>\n",
       "      <th>3</th>\n",
       "      <td>marcos silva</td>\n",
       "      <td>13</td>\n",
       "      <td>sorvete</td>\n",
       "    </tr>\n",
       "  </tbody>\n",
       "</table>\n",
       "</div>"
      ],
      "text/plain": [
       "             nome  idade comida favorita\n",
       "0     huan barros     18     muita coisa\n",
       "1  joão polinario     15           pizza\n",
       "2    ana barretos     18         lasanha\n",
       "3    marcos silva     13         sorvete"
      ]
     },
     "metadata": {},
     "output_type": "display_data"
    },
    {
     "data": {
      "text/html": [
       "<div>\n",
       "<style scoped>\n",
       "    .dataframe tbody tr th:only-of-type {\n",
       "        vertical-align: middle;\n",
       "    }\n",
       "\n",
       "    .dataframe tbody tr th {\n",
       "        vertical-align: top;\n",
       "    }\n",
       "\n",
       "    .dataframe thead th {\n",
       "        text-align: right;\n",
       "    }\n",
       "</style>\n",
       "<table border=\"1\" class=\"dataframe\">\n",
       "  <thead>\n",
       "    <tr style=\"text-align: right;\">\n",
       "      <th></th>\n",
       "      <th>nome</th>\n",
       "      <th>idade</th>\n",
       "      <th>comida favorita</th>\n",
       "    </tr>\n",
       "  </thead>\n",
       "  <tbody>\n",
       "    <tr>\n",
       "      <th>2</th>\n",
       "      <td>ana barretos</td>\n",
       "      <td>18</td>\n",
       "      <td>lasanha</td>\n",
       "    </tr>\n",
       "    <tr>\n",
       "      <th>3</th>\n",
       "      <td>marcos silva</td>\n",
       "      <td>13</td>\n",
       "      <td>sorvete</td>\n",
       "    </tr>\n",
       "  </tbody>\n",
       "</table>\n",
       "</div>"
      ],
      "text/plain": [
       "           nome  idade comida favorita\n",
       "2  ana barretos     18         lasanha\n",
       "3  marcos silva     13         sorvete"
      ]
     },
     "metadata": {},
     "output_type": "display_data"
    }
   ],
   "source": [
    "df = pd.read_csv(filepath_or_buffer='data-base/teste1.csv')\n",
    "\n",
    "# todo o dataframe\n",
    "display(df)\n",
    "\n",
    "# apenas as 2 ultimas linhas\n",
    "display(df.tail(n=2))"
   ]
  },
  {
   "cell_type": "markdown",
   "id": "216b8cdc",
   "metadata": {
    "heading_collapsed": true,
    "hidden": true
   },
   "source": [
    "## 👾 <font size=5>Indexação basica<font>"
   ]
  },
  {
   "cell_type": "markdown",
   "id": "f894cee5",
   "metadata": {
    "hidden": true
   },
   "source": [
    "- Selecionar linha (s)\n",
    "- Selecionar coluna (s)\n",
    "- Selecionar linha (s) e selecionar coluna (s) específica (s)\n",
    "- Selecionar 1 valor em especifico\n"
   ]
  },
  {
   "cell_type": "markdown",
   "id": "917d0c13",
   "metadata": {
    "heading_collapsed": true,
    "hidden": true
   },
   "source": [
    "## 👾 <font size=5>Indexação booleana<font>"
   ]
  },
  {
   "cell_type": "markdown",
   "id": "6aafeb9c",
   "metadata": {
    "hidden": true
   },
   "source": [
    "- Selecionar linha (s) usando condições"
   ]
  },
  {
   "cell_type": "markdown",
   "id": "aab4fd6f",
   "metadata": {
    "heading_collapsed": true,
    "hidden": true
   },
   "source": [
    "## 👾 <font size=5>Indexação utilizando métodos<font>"
   ]
  },
  {
   "cell_type": "markdown",
   "id": "40d9a1f1",
   "metadata": {
    "hidden": true
   },
   "source": [
    "- DataFrame.select_dtype( )\n",
    "- DataFrame.loc \n",
    "- DataFrame.iloc"
   ]
  },
  {
   "cell_type": "markdown",
   "id": "cd65d08b",
   "metadata": {
    "heading_collapsed": true,
    "hidden": true
   },
   "source": [
    "## 👾 <font size=5>Coletando informações sobre o DataFrame<font>"
   ]
  },
  {
   "cell_type": "markdown",
   "id": "0fded44c",
   "metadata": {
    "hidden": true
   },
   "source": [
    "Nesse tópico eu pretendo mostrar algumas formar de coletar informações de um DataFrame. Informações essas, que serão importante para entender melhor os seus dados. Segue a baixo alguns métodos e atributos que usaremos."
   ]
  },
  {
   "cell_type": "markdown",
   "id": "3cbaed66",
   "metadata": {
    "hidden": true
   },
   "source": [
    "- DataFrame.dtypes\n",
    "- DataFrame.columns\n",
    "- DataFrame.index\n",
    "- DataFrame.shape\n",
    "- DataFrame.max( )\n",
    "- DataFrame.min( )\n",
    "- DataFrame.mean( )\n",
    "- DataFrame.median( )\n",
    "- DataFrame.std( )\n",
    "- DataFrame.describe( )\n",
    "- DataFrame.unique( ) e nunique( )\n",
    "- DataFrame.count( )\n",
    "- DataFrame.value_counts( )\n",
    "- DataFrame.sample( )\n",
    "- pd.crosstab( )"
   ]
  },
  {
   "cell_type": "markdown",
   "id": "b5b4516f",
   "metadata": {
    "heading_collapsed": true,
    "hidden": true
   },
   "source": [
    "## 👾 <font size=5>Exportando arquivos ou base de dados<font>"
   ]
  },
  {
   "cell_type": "markdown",
   "id": "0a731e18",
   "metadata": {
    "heading_collapsed": true,
    "hidden": true
   },
   "source": [
    "###  🐥 DataFrame.to_csv( )\n"
   ]
  },
  {
   "cell_type": "markdown",
   "id": "66be15ad",
   "metadata": {
    "heading_collapsed": true,
    "hidden": true
   },
   "source": [
    "## 👾 <font size=5>Resumo do que você precisa aprender sobre um DataFrame<font>"
   ]
  },
  {
   "cell_type": "markdown",
   "id": "55e401a0",
   "metadata": {
    "hidden": true
   },
   "source": [
    "\n",
    "### Adicionar colunas em um DataFrame \n",
    "\n",
    "- Com DataFrame.loc e sem ele \n",
    "\n",
    "### Adicionar linhas ou juntar DataFrames\n",
    "\n",
    "- pd.concat( )\n",
    "\n",
    "### Excluir linhas e/ou colunas de um DataFrame\n",
    "\n",
    "- DataFrame.drop( )\n",
    "\n",
    "### Trabalhar com valores ausentes\n",
    "\n",
    "- DataFrame.isnull( )\n",
    "- DataFrame.notnull( )\n",
    "- DataFrame.dropna( )\n",
    "- DataFrame.fillna( )\n",
    "- DataFrame.ffill()\n",
    "\n",
    "### Outras operaçoẽs \n",
    "\n",
    "- DataFrame.apply( )\n",
    "- DataFrame.merge( )\n",
    "- DataFrame.map( )\n",
    "- DataFrame.astype( )\n",
    "- DataFrame.sort_values( )\n",
    "- DataFrame.groupby( )\n",
    "- DataFrame.T (transposta)\n",
    "- DataFrame.pivot( )\n",
    "- DataFrame.replace( )\n",
    "\n",
    "### Criar gráficos\n",
    "\n",
    "- DataFrame.plot( )\n",
    "- DataFrame.plot.box( )\n",
    "- DataFrame.plot.hist( ) e muito mais"
   ]
  }
 ],
 "metadata": {
  "kernelspec": {
   "display_name": "Python 3 (ipykernel)",
   "language": "python",
   "name": "python3"
  },
  "language_info": {
   "codemirror_mode": {
    "name": "ipython",
    "version": 3
   },
   "file_extension": ".py",
   "mimetype": "text/x-python",
   "name": "python",
   "nbconvert_exporter": "python",
   "pygments_lexer": "ipython3",
   "version": "3.10.7"
  },
  "varInspector": {
   "cols": {
    "lenName": 16,
    "lenType": 16,
    "lenVar": 40
   },
   "kernels_config": {
    "python": {
     "delete_cmd_postfix": "",
     "delete_cmd_prefix": "del ",
     "library": "var_list.py",
     "varRefreshCmd": "print(var_dic_list())"
    },
    "r": {
     "delete_cmd_postfix": ") ",
     "delete_cmd_prefix": "rm(",
     "library": "var_list.r",
     "varRefreshCmd": "cat(var_dic_list()) "
    }
   },
   "types_to_exclude": [
    "module",
    "function",
    "builtin_function_or_method",
    "instance",
    "_Feature"
   ],
   "window_display": false
  },
  "vscode": {
   "interpreter": {
    "hash": "e7370f93d1d0cde622a1f8e1c04877d8463912d04d973331ad4851f04de6915a"
   }
  }
 },
 "nbformat": 4,
 "nbformat_minor": 5
}

{
 "cells": [
  {
   "cell_type": "markdown",
   "metadata": {
    "heading_collapsed": true
   },
   "source": [
    "#  👾 Breve resumo sobre paradigmas"
   ]
  },
  {
   "cell_type": "markdown",
   "metadata": {
    "hidden": true
   },
   "source": [
    "\n",
    "### O que é um paradigma de programação?\n",
    "\n",
    "Um paradigma é um estilo de programação, uma metodologia. Não se trata de uma linguagen, mas a forma como você\n",
    "resolve os problemas no ramo da programação. Para exemplificar, pense na seguinte situação: você precisa ir da sua casa ao trabalho. O problema é a locomoção e a forma como você pode ir (de carro, de moto de onibus) é o paradigma. Agora creio que ficou bem claro que, o pararadigma é a lógica usaada para resolver algum problema.\n",
    "\n",
    "Seguindo com o exemplo acima, todas as forma de locomoção envolve um esforço e demandam tempo, alguns mais, outros menos, dependendo da escolha o problema pode ser algo simples de resolver ou mais trabalhoso. Assim é na programação, você tem diversas soluções (paradigmas), basta escolher qual resolverá o problema da melhor forma.\n",
    "\n",
    "\n",
    "### A importância de aprender sobre os paradigmas de programação\n",
    "Cada problema pode ter diversas soluções, logo existem diversos paradigmas para resolvê-los. Por isso há situações quem que um paradigma é melhor que outro, conforme o problema a ser resolvido.\n",
    "\n",
    "Ao escolher o paradigma adequado para o desenvolvimento do projeto, é possivel que sejam feitas aplicações com maior protudividade, possibilitando um flow na construção do código entre a equipe, tornando-o mais legível e facilitando a sua manutenção ao longo de sua existência.\n",
    "\n",
    "Por isso é importante entender sobre os diferentes tipos de paradigmas, pois fará com que você e o projeto sejam ainda mais profissionais.\n",
    "\n",
    "\n",
    "### Quais são os principais paradigmas de programação?\n",
    "\n",
    "Basicamente, existem seis principais tipos de paradigmas. Eles estão divididos em 2 grupos, Paradigmas imperativos e Paradigmas declarativos.\n",
    "\n",
    "- **Paradigmas inperativos**\n",
    "    - Paradigma imperativo ou procedural\n",
    "    - Paradigma orientado a obejtos\n",
    "    - Computação Paralela\n",
    "\n",
    "\n",
    "- **Paradigmas declarativos**\n",
    "    - Paradigma Declarativo\n",
    "    - Paradigma Funcional\n",
    "    - Paradigma Lógico\n"
   ]
  },
  {
   "cell_type": "markdown",
   "metadata": {
    "heading_collapsed": true
   },
   "source": [
    "# 👾 Paradigma OOP (Object oriented programming)"
   ]
  },
  {
   "cell_type": "markdown",
   "metadata": {
    "hidden": true
   },
   "source": [
    "OOP é um paradigma da programação que é orientado a um objeto, objeto tal, que pode conter dados na forma de campo (também conhecido como atributos ou estado) e códigos na forma de procedimentos (também conhecido como como métodos ou comportamentos). Essa abordagem de progrmação é adequada para programas grandes, complexos e atualizados ou mantidos ativamente.\n",
    "\n",
    "Os beneficios desse paradigma sõa: Possibilidade da modularidade do código,reutilização de código, escalabilidade, eficiênci, capacidade de associar diretamente problemas reais em termos de código e possibilidade de programação multiplataforma."
   ]
  },
  {
   "cell_type": "markdown",
   "metadata": {
    "heading_collapsed": true
   },
   "source": [
    "# 👾 Estrutura da programação orientado a objeto"
   ]
  },
  {
   "cell_type": "markdown",
   "metadata": {
    "hidden": true
   },
   "source": [
    "\n",
    "### Classes \n",
    "São tipos de dados definidos pelo programador que atuam como modelo/estrutura para objetos, atributos e metodos individuais. Uma classe associa dados (atributos) e operações (métodos) numa só estrutura.\n",
    "\n",
    "### Objeto \n",
    "São intancias de uma classe criada com dados espeficamente definidos. Um objeto é uma instancia de uma classe e a partir de uma classe é possivel instanciar vários objetos, por exemplo, uma classe denominada 'Pessoa' pode instanciar os objetos 'huan' e 'luigi'. Esses objetos podem corresponder a objetos do mundo real ou a uma entidade abstrata. Quando a classe é definida inicialmente a descrição é o unico objeto definido.\n",
    "\n",
    "### Métodos \n",
    "Os métodos determinam o comportamento dos objetos de uma classe através das funções ou procedimentos da programação estruturada. Eles podem ou não retornar valores, e podem ou não receber parâmetros.\n",
    "\n",
    "### Atributos \n",
    "São definidos no modelo da classe e representam o estado de um objeto. Os objetos terão dados armazenados no campo de atributos, os atributos da classe pertencem somente a própria classe."
   ]
  },
  {
   "cell_type": "markdown",
   "metadata": {
    "heading_collapsed": true
   },
   "source": [
    "# 👾 Principais principios da Programação orientado a objeto"
   ]
  },
  {
   "cell_type": "markdown",
   "metadata": {
    "hidden": true
   },
   "source": [
    "\n",
    "### Herança\n",
    "Herança é um princípio de orientação a objetos, que permite que classes compartilhem atributos e métodos, através de \"heranças\". Ela é usada na intenção de reaproveitar código ou comportamento generalizado ou especializar operações ou atributos.\n",
    "\n",
    "### Abstração\n",
    "Você costuma beber café? Se você fizer isso, há uma boa chance de você ter usado uma máquina de café em sua vida. O conceito de abstração está intimamente relacionado ao princípio de uma máquina de café. Você sabe que uma máquina de café faz café, mas não precisa saber como ela faz café. Em suma, tudo o que você precisa saber é quais botões pressionar para fazer café. Você pode usar uma interface definida por botões para fazer café, sem precisar se preocupar com o funcionamento interno de uma máquina.\n",
    "\n",
    "### Polimorfismo\n",
    "Em relação ao polimorfismo, o principal conceito é a propriedade de duas ou mais classes derivadas de uma mesma superclasse responderem a mesma mensagem, cada uma de uma forma diferente. Ocorre quando uma subclasse redefine um método existente na superclasse, ou seja, quando temos os métodos sobrescritos (overriding).\n",
    "Recapitulando: o principal conceito do polimorfismo é a propriedade de duas ou mais classes derivadas (Macaco, Homem e Baleia) de uma mesma superclasse (Mamifero) responderem a mesma mensagem (locomoverSe()), cada uma de uma forma diferente (pulando de galho em galho, andando e nadando, respectivamente).\n",
    "\n",
    "### Emcapsulamento\n",
    "Encapsular os dados de uma aplicação significa evitar que estes sofram acessos indevidos. Para isso, é criada uma estrutura que contém métodos que podem ser utilizados por qualquer outra classe, sem causar inconsistências no desenvolvimento de um código.\n",
    "\n"
   ]
  }
 ],
 "metadata": {
  "kernelspec": {
   "display_name": "Python 3 (ipykernel)",
   "language": "python",
   "name": "python3"
  },
  "language_info": {
   "codemirror_mode": {
    "name": "ipython",
    "version": 3
   },
   "file_extension": ".py",
   "mimetype": "text/x-python",
   "name": "python",
   "nbconvert_exporter": "python",
   "pygments_lexer": "ipython3",
   "version": "3.10.7"
  },
  "varInspector": {
   "cols": {
    "lenName": 16,
    "lenType": 16,
    "lenVar": 40
   },
   "kernels_config": {
    "python": {
     "delete_cmd_postfix": "",
     "delete_cmd_prefix": "del ",
     "library": "var_list.py",
     "varRefreshCmd": "print(var_dic_list())"
    },
    "r": {
     "delete_cmd_postfix": ") ",
     "delete_cmd_prefix": "rm(",
     "library": "var_list.r",
     "varRefreshCmd": "cat(var_dic_list()) "
    }
   },
   "types_to_exclude": [
    "module",
    "function",
    "builtin_function_or_method",
    "instance",
    "_Feature"
   ],
   "window_display": false
  },
  "vscode": {
   "interpreter": {
    "hash": "e7370f93d1d0cde622a1f8e1c04877d8463912d04d973331ad4851f04de6915a"
   }
  }
 },
 "nbformat": 4,
 "nbformat_minor": 2
}

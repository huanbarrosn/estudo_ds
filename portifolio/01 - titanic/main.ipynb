{
 "cells": [
  {
   "cell_type": "markdown",
   "id": "29dd05fa",
   "metadata": {},
   "source": [
    "\n",
    "# 0. Introdução"
   ]
  },
  {
   "cell_type": "markdown",
   "id": "f619ea35",
   "metadata": {},
   "source": [
    "Esse projeto tem o intuito de analisar o conjunto de dados sobre o [titanic](https://www.kaggle.com/competitions/titanic/data) utilizando a linguagem de programação python e machine learning para a resolução do problema. O nosso problema é conseguir prever a possibilidade de os passageiros terem morrido ou não.   \n",
    "\n",
    "Perguntas que tentaremos responder com a analise:\n",
    "- Qual a idade das pessoas que morreram e das pessoas que não morreram?\n",
    "- Qual era a classe das pessoas que morreram e das pessoas que não morreram?\n",
    "- As pessoas que morreram geralmente estavam acompanhada de algum familiar ou não? \n",
    "- Qual o sexo das pessoas que mais morreram?\n",
    "- Qual a porcentagem das mulheres que morreram em relação ao total de mulheres?\n",
    "- Qual a porcentagem dos homens que morreram em relação ao total de homens?\n",
    "- As pessoas que morreram estavam quem qual cabine?"
   ]
  },
  {
   "cell_type": "markdown",
   "id": "9ecce8a5",
   "metadata": {},
   "source": [
    "\n",
    "# 1. Carregando bibliotecas"
   ]
  },
  {
   "cell_type": "code",
   "execution_count": 1,
   "id": "ce6af30f",
   "metadata": {
    "ExecuteTime": {
     "end_time": "2022-11-12T21:04:34.913912Z",
     "start_time": "2022-11-12T21:04:33.724439Z"
    }
   },
   "outputs": [],
   "source": [
    "import pandas as pd\n",
    "import numpy as np\n",
    "import seaborn as sns\n",
    "import matplotlib.pyplot as plt"
   ]
  },
  {
   "cell_type": "markdown",
   "id": "79046560",
   "metadata": {},
   "source": []
  },
  {
   "cell_type": "markdown",
   "id": "47f9f674",
   "metadata": {},
   "source": []
  },
  {
   "cell_type": "markdown",
   "id": "18aed9a9",
   "metadata": {},
   "source": []
  },
  {
   "cell_type": "markdown",
   "id": "11fbd3e0",
   "metadata": {},
   "source": []
  },
  {
   "cell_type": "markdown",
   "id": "0426c98a",
   "metadata": {},
   "source": []
  },
  {
   "cell_type": "markdown",
   "id": "95291501",
   "metadata": {},
   "source": []
  },
  {
   "cell_type": "markdown",
   "id": "bcae50cc",
   "metadata": {},
   "source": []
  }
 ],
 "metadata": {
  "kernelspec": {
   "display_name": "Python 3 (ipykernel)",
   "language": "python",
   "name": "python3"
  },
  "language_info": {
   "codemirror_mode": {
    "name": "ipython",
    "version": 3
   },
   "file_extension": ".py",
   "mimetype": "text/x-python",
   "name": "python",
   "nbconvert_exporter": "python",
   "pygments_lexer": "ipython3",
   "version": "3.10.8"
  },
  "varInspector": {
   "cols": {
    "lenName": 16,
    "lenType": 16,
    "lenVar": 40
   },
   "kernels_config": {
    "python": {
     "delete_cmd_postfix": "",
     "delete_cmd_prefix": "del ",
     "library": "var_list.py",
     "varRefreshCmd": "print(var_dic_list())"
    },
    "r": {
     "delete_cmd_postfix": ") ",
     "delete_cmd_prefix": "rm(",
     "library": "var_list.r",
     "varRefreshCmd": "cat(var_dic_list()) "
    }
   },
   "types_to_exclude": [
    "module",
    "function",
    "builtin_function_or_method",
    "instance",
    "_Feature"
   ],
   "window_display": false
  }
 },
 "nbformat": 4,
 "nbformat_minor": 5
}
